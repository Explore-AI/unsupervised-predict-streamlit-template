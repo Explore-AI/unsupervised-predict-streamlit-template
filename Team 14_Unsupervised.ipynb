{
 "cells": [
  {
   "cell_type": "markdown",
   "metadata": {},
   "source": [
    "### 1. Introduction "
   ]
  },
  {
   "cell_type": "markdown",
   "metadata": {},
   "source": [
    "### 2. Load Packages"
   ]
  },
  {
   "cell_type": "markdown",
   "metadata": {},
   "source": [
    "### Libraries"
   ]
  },
  {
   "cell_type": "code",
   "execution_count": 1,
   "metadata": {},
   "outputs": [
    {
     "data": {
      "text/html": [
       "        <script type=\"text/javascript\">\n",
       "        window.PlotlyConfig = {MathJaxConfig: 'local'};\n",
       "        if (window.MathJax) {MathJax.Hub.Config({SVG: {font: \"STIX-Web\"}});}\n",
       "        if (typeof require !== 'undefined') {\n",
       "        require.undef(\"plotly\");\n",
       "        requirejs.config({\n",
       "            paths: {\n",
       "                'plotly': ['https://cdn.plot.ly/plotly-2.8.3.min']\n",
       "            }\n",
       "        });\n",
       "        require(['plotly'], function(Plotly) {\n",
       "            window._Plotly = Plotly;\n",
       "        });\n",
       "        }\n",
       "        </script>\n",
       "        "
      ]
     },
     "metadata": {},
     "output_type": "display_data"
    }
   ],
   "source": [
    "import numpy as np\n",
    "import pandas as pd\n",
    "import matplotlib.pyplot as plt\n",
    "from sklearn.cluster import KMeans\n",
    "from scipy.cluster.hierarchy import linkage,dendrogram\n",
    "from sklearn.pipeline import make_pipeline\n",
    "from sklearn.preprocessing import StandardScaler\n",
    "from sklearn.preprocessing import Normalizer\n",
    "from sklearn.decomposition import PCA\n",
    "from sklearn.decomposition import NMF\n",
    "from sklearn.manifold import TSNE\n",
    "from sklearn.feature_extraction.text import TfidfVectorizer\n",
    "#from yellowbrick.cluster import KElbowVisualizer\n",
    "\n",
    "from surprise.reader import Reader\n",
    "from surprise.dataset import Dataset\n",
    "from surprise import SVD, SVDpp, SlopeOne, NMF, NormalPredictor\n",
    "from surprise import KNNBaseline, KNNBasic, KNNWithMeans, KNNWithZScore\n",
    "from surprise import BaselineOnly, CoClustering\n",
    "from surprise.model_selection import cross_validate, train_test_split\n",
    "from surprise import accuracy\n",
    "\n",
    "import numpy as np \n",
    "import pandas as pd\n",
    "\n",
    "import scipy as sp \n",
    "import matplotlib.pyplot as plt\n",
    "import seaborn as sns\n",
    "\n",
    "from datetime import datetime\n",
    "from sklearn.metrics.pairwise import cosine_similarity\n",
    "from sklearn.feature_extraction.text import TfidfVectorizer\n",
    "from sklearn.metrics.pairwise import linear_kernel\n",
    "import cufflinks as cf\n",
    "from sklearn.preprocessing import StandardScaler\n",
    "from sklearn import preprocessing\n",
    "from sklearn.decomposition import PCA\n",
    "from surprise.model_selection import train_test_split\n",
    "from surprise.model_selection import cross_validate\n",
    "\n",
    "import operator \n",
    "import heapq \n",
    "#import xgboost as xgb\n",
    "from surprise import Reader, Dataset\n",
    "from surprise import BaselineOnly\n",
    "from surprise import KNNBaseline\n",
    "from surprise import KNNWithMeans\n",
    "from surprise import SVD\n",
    "from surprise import SVDpp\n",
    "from surprise.model_selection import GridSearchCV\n",
    "\n",
    "#other libraries\n",
    "from IPython.core.display import HTML\n",
    "from IPython.display import YouTubeVideo\n",
    "from collections import defaultdict\n",
    "import datetime\n",
    "import re\n",
    "from IPython.display import display_html\n",
    "\n",
    "import warnings\n",
    "warnings.filterwarnings('ignore')"
   ]
  },
  {
   "cell_type": "code",
   "execution_count": 2,
   "metadata": {},
   "outputs": [],
   "source": [
    "#!pip install surprise"
   ]
  },
  {
   "cell_type": "markdown",
   "metadata": {},
   "source": [
    "### Data:"
   ]
  },
  {
   "cell_type": "markdown",
   "metadata": {},
   "source": [
    "#### Movie Data"
   ]
  },
  {
   "cell_type": "code",
   "execution_count": 2,
   "metadata": {},
   "outputs": [
    {
     "name": "stdout",
     "output_type": "stream",
     "text": [
      "(62423, 3) (27278, 6) (62423, 3) (15584448, 3) (1128, 2)\n"
     ]
    }
   ],
   "source": [
    "movies_df =  pd.read_csv('movies.csv')\n",
    "imdb_df =  pd.read_csv('imdb_data.csv')\n",
    "links_df =  pd.read_csv('links.csv')\n",
    "g_scores =  pd.read_csv('genome_scores.csv')\n",
    "g_tags =  pd.read_csv('genome_tags.csv')\n",
    "\n",
    "print(movies_df.shape, imdb_df.shape, links_df.shape, g_scores.shape, g_tags.shape)"
   ]
  },
  {
   "cell_type": "markdown",
   "metadata": {},
   "source": [
    "#### Train and Test Data"
   ]
  },
  {
   "cell_type": "code",
   "execution_count": 3,
   "metadata": {},
   "outputs": [
    {
     "data": {
      "text/html": [
       "<div>\n",
       "<style scoped>\n",
       "    .dataframe tbody tr th:only-of-type {\n",
       "        vertical-align: middle;\n",
       "    }\n",
       "\n",
       "    .dataframe tbody tr th {\n",
       "        vertical-align: top;\n",
       "    }\n",
       "\n",
       "    .dataframe thead th {\n",
       "        text-align: right;\n",
       "    }\n",
       "</style>\n",
       "<table border=\"1\" class=\"dataframe\">\n",
       "  <thead>\n",
       "    <tr style=\"text-align: right;\">\n",
       "      <th></th>\n",
       "      <th>userId</th>\n",
       "      <th>movieId</th>\n",
       "      <th>rating</th>\n",
       "      <th>timestamp</th>\n",
       "    </tr>\n",
       "  </thead>\n",
       "  <tbody>\n",
       "    <tr>\n",
       "      <th>0</th>\n",
       "      <td>5163</td>\n",
       "      <td>57669</td>\n",
       "      <td>4.0</td>\n",
       "      <td>1518349992</td>\n",
       "    </tr>\n",
       "    <tr>\n",
       "      <th>1</th>\n",
       "      <td>106343</td>\n",
       "      <td>5</td>\n",
       "      <td>4.5</td>\n",
       "      <td>1206238739</td>\n",
       "    </tr>\n",
       "    <tr>\n",
       "      <th>2</th>\n",
       "      <td>146790</td>\n",
       "      <td>5459</td>\n",
       "      <td>5.0</td>\n",
       "      <td>1076215539</td>\n",
       "    </tr>\n",
       "  </tbody>\n",
       "</table>\n",
       "</div>"
      ],
      "text/plain": [
       "   userId  movieId  rating   timestamp\n",
       "0    5163    57669     4.0  1518349992\n",
       "1  106343        5     4.5  1206238739\n",
       "2  146790     5459     5.0  1076215539"
      ]
     },
     "execution_count": 3,
     "metadata": {},
     "output_type": "execute_result"
    }
   ],
   "source": [
    "train_df = pd.read_csv('train.csv')\n",
    "test_df = pd.read_csv('test.csv')\n",
    "train_df.head(3)"
   ]
  },
  {
   "cell_type": "markdown",
   "metadata": {},
   "source": [
    "### 3. Exploratory Data Analyses"
   ]
  },
  {
   "cell_type": "code",
   "execution_count": 4,
   "metadata": {},
   "outputs": [
    {
     "name": "stdout",
     "output_type": "stream",
     "text": [
      "<class 'pandas.core.frame.DataFrame'>\n",
      "RangeIndex: 62423 entries, 0 to 62422\n",
      "Data columns (total 3 columns):\n",
      " #   Column   Non-Null Count  Dtype \n",
      "---  ------   --------------  ----- \n",
      " 0   movieId  62423 non-null  int64 \n",
      " 1   title    62423 non-null  object\n",
      " 2   genres   62423 non-null  object\n",
      "dtypes: int64(1), object(2)\n",
      "memory usage: 1.4+ MB\n"
     ]
    }
   ],
   "source": [
    "movies_df.info()"
   ]
  },
  {
   "cell_type": "code",
   "execution_count": 5,
   "metadata": {},
   "outputs": [
    {
     "name": "stdout",
     "output_type": "stream",
     "text": [
      "<class 'pandas.core.frame.DataFrame'>\n",
      "RangeIndex: 27278 entries, 0 to 27277\n",
      "Data columns (total 6 columns):\n",
      " #   Column         Non-Null Count  Dtype  \n",
      "---  ------         --------------  -----  \n",
      " 0   movieId        27278 non-null  int64  \n",
      " 1   title_cast     17210 non-null  object \n",
      " 2   director       17404 non-null  object \n",
      " 3   runtime        15189 non-null  float64\n",
      " 4   budget         7906 non-null   object \n",
      " 5   plot_keywords  16200 non-null  object \n",
      "dtypes: float64(1), int64(1), object(4)\n",
      "memory usage: 1.2+ MB\n"
     ]
    }
   ],
   "source": [
    "imdb_df.info()"
   ]
  },
  {
   "cell_type": "code",
   "execution_count": 6,
   "metadata": {},
   "outputs": [
    {
     "name": "stdout",
     "output_type": "stream",
     "text": [
      "<class 'pandas.core.frame.DataFrame'>\n",
      "RangeIndex: 62423 entries, 0 to 62422\n",
      "Data columns (total 3 columns):\n",
      " #   Column   Non-Null Count  Dtype  \n",
      "---  ------   --------------  -----  \n",
      " 0   movieId  62423 non-null  int64  \n",
      " 1   imdbId   62423 non-null  int64  \n",
      " 2   tmdbId   62316 non-null  float64\n",
      "dtypes: float64(1), int64(2)\n",
      "memory usage: 1.4 MB\n"
     ]
    }
   ],
   "source": [
    "links_df.info()"
   ]
  },
  {
   "cell_type": "code",
   "execution_count": 7,
   "metadata": {},
   "outputs": [
    {
     "name": "stdout",
     "output_type": "stream",
     "text": [
      "<class 'pandas.core.frame.DataFrame'>\n",
      "RangeIndex: 15584448 entries, 0 to 15584447\n",
      "Data columns (total 3 columns):\n",
      " #   Column     Dtype  \n",
      "---  ------     -----  \n",
      " 0   movieId    int64  \n",
      " 1   tagId      int64  \n",
      " 2   relevance  float64\n",
      "dtypes: float64(1), int64(2)\n",
      "memory usage: 356.7 MB\n"
     ]
    }
   ],
   "source": [
    "g_scores.info()"
   ]
  },
  {
   "cell_type": "code",
   "execution_count": 8,
   "metadata": {},
   "outputs": [
    {
     "name": "stdout",
     "output_type": "stream",
     "text": [
      "<class 'pandas.core.frame.DataFrame'>\n",
      "RangeIndex: 1128 entries, 0 to 1127\n",
      "Data columns (total 2 columns):\n",
      " #   Column  Non-Null Count  Dtype \n",
      "---  ------  --------------  ----- \n",
      " 0   tagId   1128 non-null   int64 \n",
      " 1   tag     1128 non-null   object\n",
      "dtypes: int64(1), object(1)\n",
      "memory usage: 17.8+ KB\n"
     ]
    }
   ],
   "source": [
    "g_tags.info()"
   ]
  },
  {
   "cell_type": "code",
   "execution_count": 9,
   "metadata": {},
   "outputs": [
    {
     "name": "stdout",
     "output_type": "stream",
     "text": [
      "<class 'pandas.core.frame.DataFrame'>\n",
      "RangeIndex: 10000038 entries, 0 to 10000037\n",
      "Data columns (total 4 columns):\n",
      " #   Column     Dtype  \n",
      "---  ------     -----  \n",
      " 0   userId     int64  \n",
      " 1   movieId    int64  \n",
      " 2   rating     float64\n",
      " 3   timestamp  int64  \n",
      "dtypes: float64(1), int64(3)\n",
      "memory usage: 305.2 MB\n"
     ]
    },
    {
     "data": {
      "text/plain": [
       "(10000038, 4)"
      ]
     },
     "execution_count": 9,
     "metadata": {},
     "output_type": "execute_result"
    }
   ],
   "source": [
    "train_df.info()\n",
    "train_df.shape"
   ]
  },
  {
   "cell_type": "code",
   "execution_count": 10,
   "metadata": {},
   "outputs": [
    {
     "name": "stdout",
     "output_type": "stream",
     "text": [
      "<class 'pandas.core.frame.DataFrame'>\n",
      "RangeIndex: 5000019 entries, 0 to 5000018\n",
      "Data columns (total 2 columns):\n",
      " #   Column   Dtype\n",
      "---  ------   -----\n",
      " 0   userId   int64\n",
      " 1   movieId  int64\n",
      "dtypes: int64(2)\n",
      "memory usage: 76.3 MB\n"
     ]
    },
    {
     "data": {
      "text/plain": [
       "(5000019, 2)"
      ]
     },
     "execution_count": 10,
     "metadata": {},
     "output_type": "execute_result"
    }
   ],
   "source": [
    "test_df.info()\n",
    "test_df.shape\n"
   ]
  },
  {
   "cell_type": "markdown",
   "metadata": {},
   "source": [
    "#### Missing values "
   ]
  },
  {
   "cell_type": "code",
   "execution_count": 11,
   "metadata": {},
   "outputs": [
    {
     "name": "stdout",
     "output_type": "stream",
     "text": [
      "Movies: \n",
      "movieId    0\n",
      "title      0\n",
      "genres     0\n",
      "dtype: int64\n",
      "============\n",
      "Links: \n",
      "movieId      0\n",
      "imdbId       0\n",
      "tmdbId     107\n",
      "dtype: int64\n",
      "============\n",
      "IMDB: \n",
      "movieId              0\n",
      "title_cast       10068\n",
      "director          9874\n",
      "runtime          12089\n",
      "budget           19372\n",
      "plot_keywords    11078\n",
      "dtype: int64\n",
      "============\n",
      "Genome scores: \n",
      "movieId      0\n",
      "tagId        0\n",
      "relevance    0\n",
      "dtype: int64\n",
      "============\n",
      "Genome tags: \n",
      "tagId    0\n",
      "tag      0\n",
      "dtype: int64\n",
      "Train: \n",
      "userId       0\n",
      "movieId      0\n",
      "rating       0\n",
      "timestamp    0\n",
      "dtype: int64\n",
      "============\n",
      "Test: \n",
      "userId     0\n",
      "movieId    0\n",
      "dtype: int64\n",
      "============\n"
     ]
    }
   ],
   "source": [
    "print(\"Movies: \")\n",
    "print(str(movies_df.isnull().sum()))\n",
    "# print(\"============\")\n",
    "# print(\"Tags: \")\n",
    "# print(str(tags_df.isnull().sum()))\n",
    "print(\"============\")\n",
    "print(\"Links: \")\n",
    "print(str(links_df.isnull().sum()))\n",
    "print(\"============\")\n",
    "print(\"IMDB: \")\n",
    "print(str(imdb_df.isnull().sum()))\n",
    "print(\"============\")\n",
    "print(\"Genome scores: \")\n",
    "print(str(g_scores.isnull().sum()))\n",
    "print(\"============\")\n",
    "print(\"Genome tags: \")\n",
    "print(str(g_tags.isnull().sum()))\n",
    "\n",
    "print(\"Train: \")\n",
    "print(str(train_df.isnull().sum()))\n",
    "print(\"============\")\n",
    "print(\"Test: \")\n",
    "print(str(test_df.isnull().sum()))\n",
    "print(\"============\")"
   ]
  },
  {
   "cell_type": "code",
   "execution_count": 12,
   "metadata": {},
   "outputs": [
    {
     "data": {
      "text/html": [
       "<div>\n",
       "<style scoped>\n",
       "    .dataframe tbody tr th:only-of-type {\n",
       "        vertical-align: middle;\n",
       "    }\n",
       "\n",
       "    .dataframe tbody tr th {\n",
       "        vertical-align: top;\n",
       "    }\n",
       "\n",
       "    .dataframe thead th {\n",
       "        text-align: right;\n",
       "    }\n",
       "</style>\n",
       "<table border=\"1\" class=\"dataframe\">\n",
       "  <thead>\n",
       "    <tr style=\"text-align: right;\">\n",
       "      <th></th>\n",
       "      <th>movieId</th>\n",
       "      <th>title</th>\n",
       "      <th>genres</th>\n",
       "      <th>release_year</th>\n",
       "    </tr>\n",
       "  </thead>\n",
       "  <tbody>\n",
       "    <tr>\n",
       "      <th>0</th>\n",
       "      <td>1</td>\n",
       "      <td>Toy Story (1995)</td>\n",
       "      <td>[Adventure, Animation, Children, Comedy, Fantasy]</td>\n",
       "      <td>1995</td>\n",
       "    </tr>\n",
       "    <tr>\n",
       "      <th>1</th>\n",
       "      <td>2</td>\n",
       "      <td>Jumanji (1995)</td>\n",
       "      <td>[Adventure, Children, Fantasy]</td>\n",
       "      <td>1995</td>\n",
       "    </tr>\n",
       "    <tr>\n",
       "      <th>2</th>\n",
       "      <td>3</td>\n",
       "      <td>Grumpier Old Men (1995)</td>\n",
       "      <td>[Comedy, Romance]</td>\n",
       "      <td>1995</td>\n",
       "    </tr>\n",
       "  </tbody>\n",
       "</table>\n",
       "</div>"
      ],
      "text/plain": [
       "   movieId                    title  \\\n",
       "0        1         Toy Story (1995)   \n",
       "1        2           Jumanji (1995)   \n",
       "2        3  Grumpier Old Men (1995)   \n",
       "\n",
       "                                              genres release_year  \n",
       "0  [Adventure, Animation, Children, Comedy, Fantasy]         1995  \n",
       "1                     [Adventure, Children, Fantasy]         1995  \n",
       "2                                  [Comedy, Romance]         1995  "
      ]
     },
     "execution_count": 12,
     "metadata": {},
     "output_type": "execute_result"
    }
   ],
   "source": [
    "#extracting released year\n",
    "movies = movies_df.copy()\n",
    "movies['release_year']=movies['title'].str[-5:-1] \n",
    "#spliting the genres into a list\n",
    "movies['genres']=movies['genres'].str.split('|') \n",
    "#concatinate ratings with movies dataframe\n",
    "movies.dropna() \n",
    "movies.head(3)"
   ]
  },
  {
   "cell_type": "code",
   "execution_count": 13,
   "metadata": {},
   "outputs": [
    {
     "data": {
      "text/html": [
       "<div>\n",
       "<style scoped>\n",
       "    .dataframe tbody tr th:only-of-type {\n",
       "        vertical-align: middle;\n",
       "    }\n",
       "\n",
       "    .dataframe tbody tr th {\n",
       "        vertical-align: top;\n",
       "    }\n",
       "\n",
       "    .dataframe thead th {\n",
       "        text-align: right;\n",
       "    }\n",
       "</style>\n",
       "<table border=\"1\" class=\"dataframe\">\n",
       "  <thead>\n",
       "    <tr style=\"text-align: right;\">\n",
       "      <th></th>\n",
       "      <th>movieId</th>\n",
       "      <th>title_cast</th>\n",
       "      <th>director</th>\n",
       "      <th>runtime</th>\n",
       "      <th>budget</th>\n",
       "      <th>plot_keywords</th>\n",
       "    </tr>\n",
       "  </thead>\n",
       "  <tbody>\n",
       "    <tr>\n",
       "      <th>0</th>\n",
       "      <td>1</td>\n",
       "      <td>[Tom Hanks, Tim Allen, Don Rickles, Jim Varney...</td>\n",
       "      <td>John Lasseter</td>\n",
       "      <td>81.0</td>\n",
       "      <td>$30,000,000</td>\n",
       "      <td>toy|rivalry|cowboy|cgi animation</td>\n",
       "    </tr>\n",
       "    <tr>\n",
       "      <th>1</th>\n",
       "      <td>2</td>\n",
       "      <td>[Robin Williams, Jonathan Hyde, Kirsten Dunst,...</td>\n",
       "      <td>Jonathan Hensleigh</td>\n",
       "      <td>104.0</td>\n",
       "      <td>$65,000,000</td>\n",
       "      <td>board game|adventurer|fight|game</td>\n",
       "    </tr>\n",
       "    <tr>\n",
       "      <th>2</th>\n",
       "      <td>3</td>\n",
       "      <td>[Walter Matthau, Jack Lemmon, Sophia Loren, An...</td>\n",
       "      <td>Mark Steven Johnson</td>\n",
       "      <td>101.0</td>\n",
       "      <td>$25,000,000</td>\n",
       "      <td>boat|lake|neighbor|rivalry</td>\n",
       "    </tr>\n",
       "  </tbody>\n",
       "</table>\n",
       "</div>"
      ],
      "text/plain": [
       "   movieId                                         title_cast  \\\n",
       "0        1  [Tom Hanks, Tim Allen, Don Rickles, Jim Varney...   \n",
       "1        2  [Robin Williams, Jonathan Hyde, Kirsten Dunst,...   \n",
       "2        3  [Walter Matthau, Jack Lemmon, Sophia Loren, An...   \n",
       "\n",
       "              director  runtime       budget                     plot_keywords  \n",
       "0        John Lasseter     81.0  $30,000,000  toy|rivalry|cowboy|cgi animation  \n",
       "1   Jonathan Hensleigh    104.0  $65,000,000  board game|adventurer|fight|game  \n",
       "2  Mark Steven Johnson    101.0  $25,000,000        boat|lake|neighbor|rivalry  "
      ]
     },
     "execution_count": 13,
     "metadata": {},
     "output_type": "execute_result"
    }
   ],
   "source": [
    "#spliting the title cast into a list\n",
    "imdb = imdb_df.copy()\n",
    "imdb['title_cast']=imdb['title_cast'].str.split('|') \n",
    "imdb.head(3)"
   ]
  },
  {
   "cell_type": "markdown",
   "metadata": {},
   "source": [
    "### Merging the dataset "
   ]
  },
  {
   "cell_type": "code",
   "execution_count": 14,
   "metadata": {},
   "outputs": [
    {
     "data": {
      "text/html": [
       "<div>\n",
       "<style scoped>\n",
       "    .dataframe tbody tr th:only-of-type {\n",
       "        vertical-align: middle;\n",
       "    }\n",
       "\n",
       "    .dataframe tbody tr th {\n",
       "        vertical-align: top;\n",
       "    }\n",
       "\n",
       "    .dataframe thead th {\n",
       "        text-align: right;\n",
       "    }\n",
       "</style>\n",
       "<table border=\"1\" class=\"dataframe\">\n",
       "  <thead>\n",
       "    <tr style=\"text-align: right;\">\n",
       "      <th></th>\n",
       "      <th>userId</th>\n",
       "      <th>movieId</th>\n",
       "      <th>rating</th>\n",
       "      <th>timestamp</th>\n",
       "      <th>movieId</th>\n",
       "      <th>title</th>\n",
       "      <th>genres</th>\n",
       "      <th>release_year</th>\n",
       "    </tr>\n",
       "  </thead>\n",
       "  <tbody>\n",
       "    <tr>\n",
       "      <th>0</th>\n",
       "      <td>5163.0</td>\n",
       "      <td>57669.0</td>\n",
       "      <td>4.0</td>\n",
       "      <td>1.518350e+09</td>\n",
       "      <td>1</td>\n",
       "      <td>Toy Story (1995)</td>\n",
       "      <td>[Adventure, Animation, Children, Comedy, Fantasy]</td>\n",
       "      <td>1995</td>\n",
       "    </tr>\n",
       "    <tr>\n",
       "      <th>1</th>\n",
       "      <td>106343.0</td>\n",
       "      <td>5.0</td>\n",
       "      <td>4.5</td>\n",
       "      <td>1.206239e+09</td>\n",
       "      <td>2</td>\n",
       "      <td>Jumanji (1995)</td>\n",
       "      <td>[Adventure, Children, Fantasy]</td>\n",
       "      <td>1995</td>\n",
       "    </tr>\n",
       "    <tr>\n",
       "      <th>2</th>\n",
       "      <td>146790.0</td>\n",
       "      <td>5459.0</td>\n",
       "      <td>5.0</td>\n",
       "      <td>1.076216e+09</td>\n",
       "      <td>3</td>\n",
       "      <td>Grumpier Old Men (1995)</td>\n",
       "      <td>[Comedy, Romance]</td>\n",
       "      <td>1995</td>\n",
       "    </tr>\n",
       "    <tr>\n",
       "      <th>3</th>\n",
       "      <td>106362.0</td>\n",
       "      <td>32296.0</td>\n",
       "      <td>2.0</td>\n",
       "      <td>1.423043e+09</td>\n",
       "      <td>4</td>\n",
       "      <td>Waiting to Exhale (1995)</td>\n",
       "      <td>[Comedy, Drama, Romance]</td>\n",
       "      <td>1995</td>\n",
       "    </tr>\n",
       "    <tr>\n",
       "      <th>4</th>\n",
       "      <td>9041.0</td>\n",
       "      <td>366.0</td>\n",
       "      <td>3.0</td>\n",
       "      <td>8.333758e+08</td>\n",
       "      <td>5</td>\n",
       "      <td>Father of the Bride Part II (1995)</td>\n",
       "      <td>[Comedy]</td>\n",
       "      <td>1995</td>\n",
       "    </tr>\n",
       "  </tbody>\n",
       "</table>\n",
       "</div>"
      ],
      "text/plain": [
       "     userId  movieId  rating     timestamp  movieId  \\\n",
       "0    5163.0  57669.0     4.0  1.518350e+09        1   \n",
       "1  106343.0      5.0     4.5  1.206239e+09        2   \n",
       "2  146790.0   5459.0     5.0  1.076216e+09        3   \n",
       "3  106362.0  32296.0     2.0  1.423043e+09        4   \n",
       "4    9041.0    366.0     3.0  8.333758e+08        5   \n",
       "\n",
       "                                title  \\\n",
       "0                    Toy Story (1995)   \n",
       "1                      Jumanji (1995)   \n",
       "2             Grumpier Old Men (1995)   \n",
       "3            Waiting to Exhale (1995)   \n",
       "4  Father of the Bride Part II (1995)   \n",
       "\n",
       "                                              genres release_year  \n",
       "0  [Adventure, Animation, Children, Comedy, Fantasy]         1995  \n",
       "1                     [Adventure, Children, Fantasy]         1995  \n",
       "2                                  [Comedy, Romance]         1995  \n",
       "3                           [Comedy, Drama, Romance]         1995  \n",
       "4                                           [Comedy]         1995  "
      ]
     },
     "execution_count": 14,
     "metadata": {},
     "output_type": "execute_result"
    }
   ],
   "source": [
    "train_eda = train_df.copy()\n",
    "con = pd.concat([train_df[:1000],movies], axis=1)\n",
    "con.head()"
   ]
  },
  {
   "cell_type": "code",
   "execution_count": 15,
   "metadata": {},
   "outputs": [
    {
     "data": {
      "text/html": [
       "<div>\n",
       "<style scoped>\n",
       "    .dataframe tbody tr th:only-of-type {\n",
       "        vertical-align: middle;\n",
       "    }\n",
       "\n",
       "    .dataframe tbody tr th {\n",
       "        vertical-align: top;\n",
       "    }\n",
       "\n",
       "    .dataframe thead th {\n",
       "        text-align: right;\n",
       "    }\n",
       "</style>\n",
       "<table border=\"1\" class=\"dataframe\">\n",
       "  <thead>\n",
       "    <tr style=\"text-align: right;\">\n",
       "      <th></th>\n",
       "      <th>movieId</th>\n",
       "      <th>title_cast</th>\n",
       "      <th>director</th>\n",
       "      <th>runtime</th>\n",
       "      <th>budget</th>\n",
       "      <th>plot_keywords</th>\n",
       "      <th>userId</th>\n",
       "      <th>movieId</th>\n",
       "      <th>rating</th>\n",
       "      <th>timestamp</th>\n",
       "      <th>movieId</th>\n",
       "      <th>title</th>\n",
       "      <th>genres</th>\n",
       "      <th>release_year</th>\n",
       "    </tr>\n",
       "  </thead>\n",
       "  <tbody>\n",
       "    <tr>\n",
       "      <th>0</th>\n",
       "      <td>1.0</td>\n",
       "      <td>[Tom Hanks, Tim Allen, Don Rickles, Jim Varney...</td>\n",
       "      <td>John Lasseter</td>\n",
       "      <td>81.0</td>\n",
       "      <td>$30,000,000</td>\n",
       "      <td>toy|rivalry|cowboy|cgi animation</td>\n",
       "      <td>5163.0</td>\n",
       "      <td>57669.0</td>\n",
       "      <td>4.0</td>\n",
       "      <td>1.518350e+09</td>\n",
       "      <td>1</td>\n",
       "      <td>Toy Story (1995)</td>\n",
       "      <td>[Adventure, Animation, Children, Comedy, Fantasy]</td>\n",
       "      <td>1995</td>\n",
       "    </tr>\n",
       "    <tr>\n",
       "      <th>1</th>\n",
       "      <td>2.0</td>\n",
       "      <td>[Robin Williams, Jonathan Hyde, Kirsten Dunst,...</td>\n",
       "      <td>Jonathan Hensleigh</td>\n",
       "      <td>104.0</td>\n",
       "      <td>$65,000,000</td>\n",
       "      <td>board game|adventurer|fight|game</td>\n",
       "      <td>106343.0</td>\n",
       "      <td>5.0</td>\n",
       "      <td>4.5</td>\n",
       "      <td>1.206239e+09</td>\n",
       "      <td>2</td>\n",
       "      <td>Jumanji (1995)</td>\n",
       "      <td>[Adventure, Children, Fantasy]</td>\n",
       "      <td>1995</td>\n",
       "    </tr>\n",
       "    <tr>\n",
       "      <th>2</th>\n",
       "      <td>3.0</td>\n",
       "      <td>[Walter Matthau, Jack Lemmon, Sophia Loren, An...</td>\n",
       "      <td>Mark Steven Johnson</td>\n",
       "      <td>101.0</td>\n",
       "      <td>$25,000,000</td>\n",
       "      <td>boat|lake|neighbor|rivalry</td>\n",
       "      <td>146790.0</td>\n",
       "      <td>5459.0</td>\n",
       "      <td>5.0</td>\n",
       "      <td>1.076216e+09</td>\n",
       "      <td>3</td>\n",
       "      <td>Grumpier Old Men (1995)</td>\n",
       "      <td>[Comedy, Romance]</td>\n",
       "      <td>1995</td>\n",
       "    </tr>\n",
       "    <tr>\n",
       "      <th>3</th>\n",
       "      <td>4.0</td>\n",
       "      <td>[Whitney Houston, Angela Bassett, Loretta Devi...</td>\n",
       "      <td>Terry McMillan</td>\n",
       "      <td>124.0</td>\n",
       "      <td>$16,000,000</td>\n",
       "      <td>black american|husband wife relationship|betra...</td>\n",
       "      <td>106362.0</td>\n",
       "      <td>32296.0</td>\n",
       "      <td>2.0</td>\n",
       "      <td>1.423043e+09</td>\n",
       "      <td>4</td>\n",
       "      <td>Waiting to Exhale (1995)</td>\n",
       "      <td>[Comedy, Drama, Romance]</td>\n",
       "      <td>1995</td>\n",
       "    </tr>\n",
       "    <tr>\n",
       "      <th>4</th>\n",
       "      <td>5.0</td>\n",
       "      <td>[Steve Martin, Diane Keaton, Martin Short, Kim...</td>\n",
       "      <td>Albert Hackett</td>\n",
       "      <td>106.0</td>\n",
       "      <td>$30,000,000</td>\n",
       "      <td>fatherhood|doberman|dog|mansion</td>\n",
       "      <td>9041.0</td>\n",
       "      <td>366.0</td>\n",
       "      <td>3.0</td>\n",
       "      <td>8.333758e+08</td>\n",
       "      <td>5</td>\n",
       "      <td>Father of the Bride Part II (1995)</td>\n",
       "      <td>[Comedy]</td>\n",
       "      <td>1995</td>\n",
       "    </tr>\n",
       "  </tbody>\n",
       "</table>\n",
       "</div>"
      ],
      "text/plain": [
       "   movieId                                         title_cast  \\\n",
       "0      1.0  [Tom Hanks, Tim Allen, Don Rickles, Jim Varney...   \n",
       "1      2.0  [Robin Williams, Jonathan Hyde, Kirsten Dunst,...   \n",
       "2      3.0  [Walter Matthau, Jack Lemmon, Sophia Loren, An...   \n",
       "3      4.0  [Whitney Houston, Angela Bassett, Loretta Devi...   \n",
       "4      5.0  [Steve Martin, Diane Keaton, Martin Short, Kim...   \n",
       "\n",
       "              director  runtime       budget  \\\n",
       "0        John Lasseter     81.0  $30,000,000   \n",
       "1   Jonathan Hensleigh    104.0  $65,000,000   \n",
       "2  Mark Steven Johnson    101.0  $25,000,000   \n",
       "3       Terry McMillan    124.0  $16,000,000   \n",
       "4       Albert Hackett    106.0  $30,000,000   \n",
       "\n",
       "                                       plot_keywords    userId  movieId  \\\n",
       "0                   toy|rivalry|cowboy|cgi animation    5163.0  57669.0   \n",
       "1                   board game|adventurer|fight|game  106343.0      5.0   \n",
       "2                         boat|lake|neighbor|rivalry  146790.0   5459.0   \n",
       "3  black american|husband wife relationship|betra...  106362.0  32296.0   \n",
       "4                    fatherhood|doberman|dog|mansion    9041.0    366.0   \n",
       "\n",
       "   rating     timestamp  movieId                               title  \\\n",
       "0     4.0  1.518350e+09        1                    Toy Story (1995)   \n",
       "1     4.5  1.206239e+09        2                      Jumanji (1995)   \n",
       "2     5.0  1.076216e+09        3             Grumpier Old Men (1995)   \n",
       "3     2.0  1.423043e+09        4            Waiting to Exhale (1995)   \n",
       "4     3.0  8.333758e+08        5  Father of the Bride Part II (1995)   \n",
       "\n",
       "                                              genres release_year  \n",
       "0  [Adventure, Animation, Children, Comedy, Fantasy]         1995  \n",
       "1                     [Adventure, Children, Fantasy]         1995  \n",
       "2                                  [Comedy, Romance]         1995  \n",
       "3                           [Comedy, Drama, Romance]         1995  \n",
       "4                                           [Comedy]         1995  "
      ]
     },
     "execution_count": 15,
     "metadata": {},
     "output_type": "execute_result"
    }
   ],
   "source": [
    "df= pd.concat([imdb,con], axis=1)\n",
    "df.dropna(inplace=True)\n",
    "df.head()"
   ]
  },
  {
   "cell_type": "markdown",
   "metadata": {},
   "source": [
    "**Movie Ratings from the User**"
   ]
  },
  {
   "cell_type": "code",
   "execution_count": 16,
   "metadata": {},
   "outputs": [
    {
     "data": {
      "image/png": "[encoded data removed]",
      "text/plain": [
       "<Figure size 432x288 with 1 Axes>"
      ]
     },
     "metadata": {
      "needs_background": "light"
     },
     "output_type": "display_data"
    }
   ],
   "source": [
    "# Distplot of ratings \n",
    "sns.distplot(df[\"rating\"], color='blue');"
   ]
  },
  {
   "cell_type": "markdown",
   "metadata": {},
   "source": [
    "#### Genres"
   ]
  },
  {
   "cell_type": "code",
   "execution_count": 17,
   "metadata": {},
   "outputs": [
    {
     "data": {
      "image/png": "[encoded data removed]",
      "text/plain": [
       "<Figure size 1440x720 with 1 Axes>"
      ]
     },
     "metadata": {
      "needs_background": "light"
     },
     "output_type": "display_data"
    }
   ],
   "source": [
    "# Ploting top genres in the Dataset\n",
    "plt.figure(figsize=(20, 10))\n",
    "gen = df['genres'].explode()\n",
    "ax=sns.countplot(x=gen, order=gen.value_counts().index[:30],color='blue')\n",
    "ax.set_title('Popular Genres', fontsize=15)\n",
    "plt.xticks(rotation =90)\n",
    "plt.show()"
   ]
  },
  {
   "cell_type": "markdown",
   "metadata": {},
   "source": [
    "#### Movies made per year "
   ]
  },
  {
   "cell_type": "code",
   "execution_count": 18,
   "metadata": {},
   "outputs": [
    {
     "data": {
      "text/plain": [
       "Text(0.5, 1.0, 'Total Movies Released per Year')"
      ]
     },
     "execution_count": 18,
     "metadata": {},
     "output_type": "execute_result"
    },
    {
     "data": {
      "image/png": "[encoded data removed]",
      "text/plain": [
       "<Figure size 1080x720 with 1 Axes>"
      ]
     },
     "metadata": {
      "needs_background": "light"
     },
     "output_type": "display_data"
    }
   ],
   "source": [
    "# Plot movies released per year\n",
    "plt.figure(figsize=(15,10))\n",
    "sns.set(style=\"darkgrid\")\n",
    "ax = sns.countplot(y=movies['release_year'], data=df, order=df['release_year'].value_counts().index[0:30],color='blue')\n",
    "ax.set_title('Total Movies Released per Year', fontsize= 20)"
   ]
  },
  {
   "cell_type": "markdown",
   "metadata": {},
   "source": [
    "#### Popular cast members "
   ]
  },
  {
   "cell_type": "code",
   "execution_count": 19,
   "metadata": {},
   "outputs": [
    {
     "data": {
      "image/png": "[encoded data removed]",
      "text/plain": [
       "<Figure size 1440x360 with 1 Axes>"
      ]
     },
     "metadata": {},
     "output_type": "display_data"
    }
   ],
   "source": [
    "# Plot popular cast\n",
    "plt.figure(figsize = (20,5))\n",
    "cast=imdb['title_cast'].explode()\n",
    "ax=sns.countplot(x=cast, order = cast.value_counts().index[:30],color='red')\n",
    "ax.set_title('Popular Cast',fontsize=15)\n",
    "plt.xticks(rotation=90)\n",
    "plt.show()"
   ]
  },
  {
   "cell_type": "markdown",
   "metadata": {},
   "source": [
    "#### Runtime"
   ]
  },
  {
   "cell_type": "code",
   "execution_count": 20,
   "metadata": {},
   "outputs": [
    {
     "data": {
      "text/plain": [
       "count    467.000000\n",
       "mean     109.119914\n",
       "std       18.188763\n",
       "min       76.000000\n",
       "25%       96.500000\n",
       "50%      107.000000\n",
       "75%      117.000000\n",
       "max      195.000000\n",
       "Name: runtime, dtype: float64"
      ]
     },
     "execution_count": 20,
     "metadata": {},
     "output_type": "execute_result"
    }
   ],
   "source": [
    "# Describe the runtime \n",
    "df['runtime'].describe()"
   ]
  },
  {
   "cell_type": "code",
   "execution_count": 21,
   "metadata": {},
   "outputs": [
    {
     "data": {
      "text/plain": [
       "<matplotlib.axes._subplots.AxesSubplot at 0x1ec253c67c0>"
      ]
     },
     "execution_count": 21,
     "metadata": {},
     "output_type": "execute_result"
    },
    {
     "data": {
      "image/png": "[encoded data removed]",
      "text/plain": [
       "<Figure size 432x288 with 1 Axes>"
      ]
     },
     "metadata": {},
     "output_type": "display_data"
    }
   ],
   "source": [
    "#Plot the Runtime\n",
    "sns.set(style=\"darkgrid\", )\n",
    "sns.kdeplot(data=df['runtime'], shade=True, color='orange')"
   ]
  },
  {
   "cell_type": "code",
   "execution_count": 22,
   "metadata": {},
   "outputs": [
    {
     "data": {
      "text/html": [
       "<div>\n",
       "<style scoped>\n",
       "    .dataframe tbody tr th:only-of-type {\n",
       "        vertical-align: middle;\n",
       "    }\n",
       "\n",
       "    .dataframe tbody tr th {\n",
       "        vertical-align: top;\n",
       "    }\n",
       "\n",
       "    .dataframe thead th {\n",
       "        text-align: right;\n",
       "    }\n",
       "</style>\n",
       "<table border=\"1\" class=\"dataframe\">\n",
       "  <thead>\n",
       "    <tr style=\"text-align: right;\">\n",
       "      <th></th>\n",
       "      <th>runtime</th>\n",
       "      <th>title</th>\n",
       "      <th>release_year</th>\n",
       "    </tr>\n",
       "  </thead>\n",
       "  <tbody>\n",
       "    <tr>\n",
       "      <th>523</th>\n",
       "      <td>195.0</td>\n",
       "      <td>Scout, The (1994)</td>\n",
       "      <td>1994</td>\n",
       "    </tr>\n",
       "    <tr>\n",
       "      <th>13</th>\n",
       "      <td>192.0</td>\n",
       "      <td>Nixon (1995)</td>\n",
       "      <td>1995</td>\n",
       "    </tr>\n",
       "    <tr>\n",
       "      <th>379</th>\n",
       "      <td>191.0</td>\n",
       "      <td>Bad Company (1995)</td>\n",
       "      <td>1995</td>\n",
       "    </tr>\n",
       "    <tr>\n",
       "      <th>108</th>\n",
       "      <td>178.0</td>\n",
       "      <td>Braveheart (1995)</td>\n",
       "      <td>1995</td>\n",
       "    </tr>\n",
       "    <tr>\n",
       "      <th>15</th>\n",
       "      <td>178.0</td>\n",
       "      <td>Casino (1995)</td>\n",
       "      <td>1995</td>\n",
       "    </tr>\n",
       "    <tr>\n",
       "      <th>442</th>\n",
       "      <td>171.0</td>\n",
       "      <td>Favor, The (1994)</td>\n",
       "      <td>1994</td>\n",
       "    </tr>\n",
       "    <tr>\n",
       "      <th>243</th>\n",
       "      <td>170.0</td>\n",
       "      <td>Hoop Dreams (1994)</td>\n",
       "      <td>1994</td>\n",
       "    </tr>\n",
       "    <tr>\n",
       "      <th>657</th>\n",
       "      <td>170.0</td>\n",
       "      <td>Song of the Little Road (Pather Panchali) (1955)</td>\n",
       "      <td>1955</td>\n",
       "    </tr>\n",
       "    <tr>\n",
       "      <th>5</th>\n",
       "      <td>170.0</td>\n",
       "      <td>Heat (1995)</td>\n",
       "      <td>1995</td>\n",
       "    </tr>\n",
       "    <tr>\n",
       "      <th>558</th>\n",
       "      <td>160.0</td>\n",
       "      <td>Cronos (1993)</td>\n",
       "      <td>1993</td>\n",
       "    </tr>\n",
       "  </tbody>\n",
       "</table>\n",
       "</div>"
      ],
      "text/plain": [
       "     runtime                                             title release_year\n",
       "523    195.0                                 Scout, The (1994)         1994\n",
       "13     192.0                                      Nixon (1995)         1995\n",
       "379    191.0                                Bad Company (1995)         1995\n",
       "108    178.0                                 Braveheart (1995)         1995\n",
       "15     178.0                                     Casino (1995)         1995\n",
       "442    171.0                                 Favor, The (1994)         1994\n",
       "243    170.0                                Hoop Dreams (1994)         1994\n",
       "657    170.0  Song of the Little Road (Pather Panchali) (1955)         1955\n",
       "5      170.0                                       Heat (1995)         1995\n",
       "558    160.0                                     Cronos (1993)         1993"
      ]
     },
     "execution_count": 22,
     "metadata": {},
     "output_type": "execute_result"
    }
   ],
   "source": [
    "#Show movies with long lengths \n",
    "df[df['runtime'] > 0][['runtime', 'title', 'release_year']].sort_values('runtime', ascending=False).head(10)"
   ]
  },
  {
   "cell_type": "code",
   "execution_count": 23,
   "metadata": {},
   "outputs": [
    {
     "data": {
      "text/html": [
       "<div>\n",
       "<style scoped>\n",
       "    .dataframe tbody tr th:only-of-type {\n",
       "        vertical-align: middle;\n",
       "    }\n",
       "\n",
       "    .dataframe tbody tr th {\n",
       "        vertical-align: top;\n",
       "    }\n",
       "\n",
       "    .dataframe thead th {\n",
       "        text-align: right;\n",
       "    }\n",
       "</style>\n",
       "<table border=\"1\" class=\"dataframe\">\n",
       "  <thead>\n",
       "    <tr style=\"text-align: right;\">\n",
       "      <th></th>\n",
       "      <th>runtime</th>\n",
       "      <th>title</th>\n",
       "      <th>release_year</th>\n",
       "    </tr>\n",
       "  </thead>\n",
       "  <tbody>\n",
       "    <tr>\n",
       "      <th>547</th>\n",
       "      <td>76.0</td>\n",
       "      <td>Tombstone (1993)</td>\n",
       "      <td>1993</td>\n",
       "    </tr>\n",
       "    <tr>\n",
       "      <th>236</th>\n",
       "      <td>78.0</td>\n",
       "      <td>Goofy Movie, A (1995)</td>\n",
       "      <td>1995</td>\n",
       "    </tr>\n",
       "    <tr>\n",
       "      <th>653</th>\n",
       "      <td>79.0</td>\n",
       "      <td>Faithful (1996)</td>\n",
       "      <td>1996</td>\n",
       "    </tr>\n",
       "    <tr>\n",
       "      <th>553</th>\n",
       "      <td>80.0</td>\n",
       "      <td>Beans of Egypt, Maine, The (1994)</td>\n",
       "      <td>1994</td>\n",
       "    </tr>\n",
       "    <tr>\n",
       "      <th>814</th>\n",
       "      <td>80.0</td>\n",
       "      <td>Ransom (1996)</td>\n",
       "      <td>1996</td>\n",
       "    </tr>\n",
       "    <tr>\n",
       "      <th>0</th>\n",
       "      <td>81.0</td>\n",
       "      <td>Toy Story (1995)</td>\n",
       "      <td>1995</td>\n",
       "    </tr>\n",
       "    <tr>\n",
       "      <th>730</th>\n",
       "      <td>81.0</td>\n",
       "      <td>Force of Evil (1948)</td>\n",
       "      <td>1948</td>\n",
       "    </tr>\n",
       "    <tr>\n",
       "      <th>47</th>\n",
       "      <td>81.0</td>\n",
       "      <td>Pocahontas (1995)</td>\n",
       "      <td>1995</td>\n",
       "    </tr>\n",
       "    <tr>\n",
       "      <th>570</th>\n",
       "      <td>82.0</td>\n",
       "      <td>Andre (1994)</td>\n",
       "      <td>1994</td>\n",
       "    </tr>\n",
       "    <tr>\n",
       "      <th>728</th>\n",
       "      <td>83.0</td>\n",
       "      <td>Brothers in Trouble (1995)</td>\n",
       "      <td>1995</td>\n",
       "    </tr>\n",
       "  </tbody>\n",
       "</table>\n",
       "</div>"
      ],
      "text/plain": [
       "     runtime                              title release_year\n",
       "547     76.0                   Tombstone (1993)         1993\n",
       "236     78.0              Goofy Movie, A (1995)         1995\n",
       "653     79.0                    Faithful (1996)         1996\n",
       "553     80.0  Beans of Egypt, Maine, The (1994)         1994\n",
       "814     80.0                      Ransom (1996)         1996\n",
       "0       81.0                   Toy Story (1995)         1995\n",
       "730     81.0               Force of Evil (1948)         1948\n",
       "47      81.0                  Pocahontas (1995)         1995\n",
       "570     82.0                       Andre (1994)         1994\n",
       "728     83.0         Brothers in Trouble (1995)         1995"
      ]
     },
     "execution_count": 23,
     "metadata": {},
     "output_type": "execute_result"
    }
   ],
   "source": [
    "# Show movies with short lengths\n",
    "df[df['runtime'] > 0][['runtime', 'title', 'release_year']].sort_values('runtime').head(10)"
   ]
  },
  {
   "cell_type": "markdown",
   "metadata": {},
   "source": [
    "### 4. Data Processing "
   ]
  },
  {
   "cell_type": "code",
   "execution_count": null,
   "metadata": {},
   "outputs": [],
   "source": []
  },
  {
   "cell_type": "markdown",
   "metadata": {},
   "source": [
    "Merging data "
   ]
  },
  {
   "cell_type": "code",
   "execution_count": 24,
   "metadata": {},
   "outputs": [],
   "source": [
    "movies1 = movies_df.copy()\n",
    "metadata =pd.merge(movies1,imdb_df,how = 'left',on = 'movieId')\n",
    "genome_score_tags = pd.merge(g_scores,g_tags, how='left',on='tagId')"
   ]
  },
  {
   "cell_type": "code",
   "execution_count": 25,
   "metadata": {},
   "outputs": [],
   "source": [
    "stat_metadata = metadata.copy()\n",
    "stat_genome_score_tags = genome_score_tags.copy()\n",
    "stat_metadata = pd.DataFrame(metadata.describe())\n",
    "stat_genome_score_tags = pd.DataFrame(genome_score_tags.describe())"
   ]
  },
  {
   "cell_type": "code",
   "execution_count": 26,
   "metadata": {},
   "outputs": [],
   "source": [
    "from IPython.display import display_html"
   ]
  },
  {
   "cell_type": "code",
   "execution_count": 27,
   "metadata": {},
   "outputs": [],
   "source": [
    "#Function to display all data\n",
    "def data_overview_display(dataframe_list,column_names=[]):\n",
    "    \"\"\"\n",
    "    Displays multiple dataframes in one cell.\n",
    "\n",
    "    Parameter(s):\n",
    "    -------------\n",
    "    dataframe_list(DataFrame(s)): an input of dataframe(s) as list.\n",
    "    column_names(string): list of string.\n",
    "    \n",
    "    Return\n",
    "    ------\n",
    "    display_html(DataFrame(s)): returns multiple of dataframes in one cell.\n",
    "    \n",
    "    \"\"\"\n",
    "    html_string = ''\n",
    "    html_string += ('<tr>' + ''.join(f'<td style=\"text-align:center\">{name}</td>' for name in column_names) + '</tr>')\n",
    "    html_string += ('<tr>' + ''.join(f'<td style=\"vertical-align:top\"> {df.to_html(index=True)}</td>' for df in dataframe_list) + '</tr>')\n",
    "    html_string = f'<table>{html_string}</table>'\n",
    "    html_string = html_string.replace('table','table style=\"display:inline\"')\n",
    "    display_html(html_string, raw=True)"
   ]
  },
  {
   "cell_type": "code",
   "execution_count": 28,
   "metadata": {},
   "outputs": [
    {
     "data": {
      "text/html": [
       "<table style=\"display:inline\"><tr><td style=\"text-align:center\">stat_metadata</td><td style=\"text-align:center\">stat_genome_score_tags</td></tr><tr><td style=\"vertical-align:top\"> <table style=\"display:inline\" border=\"1\" class=\"dataframe\">\n",
       "  <thead>\n",
       "    <tr style=\"text-align: right;\">\n",
       "      <th></th>\n",
       "      <th>movieId</th>\n",
       "      <th>runtime</th>\n",
       "    </tr>\n",
       "  </thead>\n",
       "  <tbody>\n",
       "    <tr>\n",
       "      <th>count</th>\n",
       "      <td>62423.000000</td>\n",
       "      <td>13521.000000</td>\n",
       "    </tr>\n",
       "    <tr>\n",
       "      <th>mean</th>\n",
       "      <td>122220.387646</td>\n",
       "      <td>101.366615</td>\n",
       "    </tr>\n",
       "    <tr>\n",
       "      <th>std</th>\n",
       "      <td>63264.744844</td>\n",
       "      <td>29.867424</td>\n",
       "    </tr>\n",
       "    <tr>\n",
       "      <th>min</th>\n",
       "      <td>1.000000</td>\n",
       "      <td>1.000000</td>\n",
       "    </tr>\n",
       "    <tr>\n",
       "      <th>25%</th>\n",
       "      <td>82146.500000</td>\n",
       "      <td>90.000000</td>\n",
       "    </tr>\n",
       "    <tr>\n",
       "      <th>50%</th>\n",
       "      <td>138022.000000</td>\n",
       "      <td>98.000000</td>\n",
       "    </tr>\n",
       "    <tr>\n",
       "      <th>75%</th>\n",
       "      <td>173222.000000</td>\n",
       "      <td>110.000000</td>\n",
       "    </tr>\n",
       "    <tr>\n",
       "      <th>max</th>\n",
       "      <td>209171.000000</td>\n",
       "      <td>877.000000</td>\n",
       "    </tr>\n",
       "  </tbody>\n",
       "</table style=\"display:inline\"></td><td style=\"vertical-align:top\"> <table style=\"display:inline\" border=\"1\" class=\"dataframe\">\n",
       "  <thead>\n",
       "    <tr style=\"text-align: right;\">\n",
       "      <th></th>\n",
       "      <th>movieId</th>\n",
       "      <th>tagId</th>\n",
       "      <th>relevance</th>\n",
       "    </tr>\n",
       "  </thead>\n",
       "  <tbody>\n",
       "    <tr>\n",
       "      <th>count</th>\n",
       "      <td>1.558445e+07</td>\n",
       "      <td>1.558445e+07</td>\n",
       "      <td>1.558445e+07</td>\n",
       "    </tr>\n",
       "    <tr>\n",
       "      <th>mean</th>\n",
       "      <td>4.602249e+04</td>\n",
       "      <td>5.645000e+02</td>\n",
       "      <td>1.163679e-01</td>\n",
       "    </tr>\n",
       "    <tr>\n",
       "      <th>std</th>\n",
       "      <td>5.535221e+04</td>\n",
       "      <td>3.256254e+02</td>\n",
       "      <td>1.544722e-01</td>\n",
       "    </tr>\n",
       "    <tr>\n",
       "      <th>min</th>\n",
       "      <td>1.000000e+00</td>\n",
       "      <td>1.000000e+00</td>\n",
       "      <td>2.500000e-04</td>\n",
       "    </tr>\n",
       "    <tr>\n",
       "      <th>25%</th>\n",
       "      <td>3.853750e+03</td>\n",
       "      <td>2.827500e+02</td>\n",
       "      <td>2.400000e-02</td>\n",
       "    </tr>\n",
       "    <tr>\n",
       "      <th>50%</th>\n",
       "      <td>8.575500e+03</td>\n",
       "      <td>5.645000e+02</td>\n",
       "      <td>5.650000e-02</td>\n",
       "    </tr>\n",
       "    <tr>\n",
       "      <th>75%</th>\n",
       "      <td>8.018650e+04</td>\n",
       "      <td>8.462500e+02</td>\n",
       "      <td>1.407500e-01</td>\n",
       "    </tr>\n",
       "    <tr>\n",
       "      <th>max</th>\n",
       "      <td>2.064990e+05</td>\n",
       "      <td>1.128000e+03</td>\n",
       "      <td>1.000000e+00</td>\n",
       "    </tr>\n",
       "  </tbody>\n",
       "</table style=\"display:inline\"></td></tr></table style=\"display:inline\">"
      ]
     },
     "metadata": {},
     "output_type": "display_data"
    }
   ],
   "source": [
    "#Generate the overview\n",
    "#import IPython.display import YoutubeVideo\n",
    "data_overview_display([stat_metadata,stat_genome_score_tags], column_names=['stat_metadata','stat_genome_score_tags'])"
   ]
  },
  {
   "cell_type": "code",
   "execution_count": 29,
   "metadata": {},
   "outputs": [
    {
     "name": "stdout",
     "output_type": "stream",
     "text": [
      "The metadata dataset has 62423 rows/entries and 8 columns\n"
     ]
    },
    {
     "data": {
      "text/html": [
       "<div>\n",
       "<style scoped>\n",
       "    .dataframe tbody tr th:only-of-type {\n",
       "        vertical-align: middle;\n",
       "    }\n",
       "\n",
       "    .dataframe tbody tr th {\n",
       "        vertical-align: top;\n",
       "    }\n",
       "\n",
       "    .dataframe thead th {\n",
       "        text-align: right;\n",
       "    }\n",
       "</style>\n",
       "<table border=\"1\" class=\"dataframe\">\n",
       "  <thead>\n",
       "    <tr style=\"text-align: right;\">\n",
       "      <th></th>\n",
       "      <th>Count</th>\n",
       "      <th>Percentage</th>\n",
       "      <th>data_type</th>\n",
       "    </tr>\n",
       "  </thead>\n",
       "  <tbody>\n",
       "    <tr>\n",
       "      <th>movieId</th>\n",
       "      <td>0</td>\n",
       "      <td>0.00</td>\n",
       "      <td>int64</td>\n",
       "    </tr>\n",
       "    <tr>\n",
       "      <th>title</th>\n",
       "      <td>0</td>\n",
       "      <td>0.00</td>\n",
       "      <td>object</td>\n",
       "    </tr>\n",
       "    <tr>\n",
       "      <th>genres</th>\n",
       "      <td>0</td>\n",
       "      <td>0.00</td>\n",
       "      <td>object</td>\n",
       "    </tr>\n",
       "    <tr>\n",
       "      <th>title_cast</th>\n",
       "      <td>47222</td>\n",
       "      <td>75.65</td>\n",
       "      <td>object</td>\n",
       "    </tr>\n",
       "    <tr>\n",
       "      <th>director</th>\n",
       "      <td>47076</td>\n",
       "      <td>75.41</td>\n",
       "      <td>object</td>\n",
       "    </tr>\n",
       "    <tr>\n",
       "      <th>runtime</th>\n",
       "      <td>48902</td>\n",
       "      <td>78.34</td>\n",
       "      <td>float64</td>\n",
       "    </tr>\n",
       "    <tr>\n",
       "      <th>budget</th>\n",
       "      <td>55140</td>\n",
       "      <td>88.33</td>\n",
       "      <td>object</td>\n",
       "    </tr>\n",
       "    <tr>\n",
       "      <th>plot_keywords</th>\n",
       "      <td>48039</td>\n",
       "      <td>76.96</td>\n",
       "      <td>object</td>\n",
       "    </tr>\n",
       "  </tbody>\n",
       "</table>\n",
       "</div>"
      ],
      "text/plain": [
       "               Count  Percentage data_type\n",
       "movieId            0        0.00     int64\n",
       "title              0        0.00    object\n",
       "genres             0        0.00    object\n",
       "title_cast     47222       75.65    object\n",
       "director       47076       75.41    object\n",
       "runtime        48902       78.34   float64\n",
       "budget         55140       88.33    object\n",
       "plot_keywords  48039       76.96    object"
      ]
     },
     "execution_count": 29,
     "metadata": {},
     "output_type": "execute_result"
    }
   ],
   "source": [
    "print(f'The metadata dataset has {metadata.shape[0]} rows/entries and {len(metadata.columns)} columns')\n",
    "percentange=metadata.isnull().mean().round(4) * 100\n",
    "count = metadata.isnull().sum()\n",
    "count_percentage = pd.DataFrame({'Count':count,'Percentage': percentange,'data_type':metadata.dtypes},\n",
    "                                index=metadata.columns)\n",
    "count_percentage"
   ]
  },
  {
   "cell_type": "markdown",
   "metadata": {},
   "source": [
    "**Handling Missing Values**"
   ]
  },
  {
   "cell_type": "code",
   "execution_count": 30,
   "metadata": {},
   "outputs": [],
   "source": [
    "metadata1 = metadata.copy() \n",
    "\n",
    "metadata1.drop(['title_cast','director','budget','plot_keywords'],\n",
    "  axis='columns',inplace=True)\n",
    "\n",
    "metadata1['runtime'].fillna((metadata1['runtime'].mean()), inplace=True)"
   ]
  },
  {
   "cell_type": "code",
   "execution_count": 31,
   "metadata": {},
   "outputs": [
    {
     "data": {
      "text/html": [
       "<div>\n",
       "<style scoped>\n",
       "    .dataframe tbody tr th:only-of-type {\n",
       "        vertical-align: middle;\n",
       "    }\n",
       "\n",
       "    .dataframe tbody tr th {\n",
       "        vertical-align: top;\n",
       "    }\n",
       "\n",
       "    .dataframe thead th {\n",
       "        text-align: right;\n",
       "    }\n",
       "</style>\n",
       "<table border=\"1\" class=\"dataframe\">\n",
       "  <thead>\n",
       "    <tr style=\"text-align: right;\">\n",
       "      <th></th>\n",
       "      <th>movieId</th>\n",
       "      <th>title</th>\n",
       "      <th>genres</th>\n",
       "      <th>runtime</th>\n",
       "    </tr>\n",
       "  </thead>\n",
       "  <tbody>\n",
       "    <tr>\n",
       "      <th>0</th>\n",
       "      <td>1</td>\n",
       "      <td>Toy Story (1995)</td>\n",
       "      <td>Adventure|Animation|Children|Comedy|Fantasy</td>\n",
       "      <td>81.0</td>\n",
       "    </tr>\n",
       "    <tr>\n",
       "      <th>1</th>\n",
       "      <td>2</td>\n",
       "      <td>Jumanji (1995)</td>\n",
       "      <td>Adventure|Children|Fantasy</td>\n",
       "      <td>104.0</td>\n",
       "    </tr>\n",
       "    <tr>\n",
       "      <th>2</th>\n",
       "      <td>3</td>\n",
       "      <td>Grumpier Old Men (1995)</td>\n",
       "      <td>Comedy|Romance</td>\n",
       "      <td>101.0</td>\n",
       "    </tr>\n",
       "    <tr>\n",
       "      <th>3</th>\n",
       "      <td>4</td>\n",
       "      <td>Waiting to Exhale (1995)</td>\n",
       "      <td>Comedy|Drama|Romance</td>\n",
       "      <td>124.0</td>\n",
       "    </tr>\n",
       "    <tr>\n",
       "      <th>4</th>\n",
       "      <td>5</td>\n",
       "      <td>Father of the Bride Part II (1995)</td>\n",
       "      <td>Comedy</td>\n",
       "      <td>106.0</td>\n",
       "    </tr>\n",
       "  </tbody>\n",
       "</table>\n",
       "</div>"
      ],
      "text/plain": [
       "   movieId                               title  \\\n",
       "0        1                    Toy Story (1995)   \n",
       "1        2                      Jumanji (1995)   \n",
       "2        3             Grumpier Old Men (1995)   \n",
       "3        4            Waiting to Exhale (1995)   \n",
       "4        5  Father of the Bride Part II (1995)   \n",
       "\n",
       "                                        genres  runtime  \n",
       "0  Adventure|Animation|Children|Comedy|Fantasy     81.0  \n",
       "1                   Adventure|Children|Fantasy    104.0  \n",
       "2                               Comedy|Romance    101.0  \n",
       "3                         Comedy|Drama|Romance    124.0  \n",
       "4                                       Comedy    106.0  "
      ]
     },
     "execution_count": 31,
     "metadata": {},
     "output_type": "execute_result"
    }
   ],
   "source": [
    "metadata1.head()"
   ]
  },
  {
   "cell_type": "code",
   "execution_count": 32,
   "metadata": {},
   "outputs": [],
   "source": [
    "df1 = pd.merge(metadata1,genome_score_tags,how = 'left',on = 'movieId')"
   ]
  },
  {
   "cell_type": "code",
   "execution_count": null,
   "metadata": {},
   "outputs": [],
   "source": [
    "#extracting released year\n",
    "df1['release_year']=df1['title'].str[-5:-1] \n",
    "df1['release_year'].replace('[^\\(.*\\)?]','', regex=True)\n",
    "#spliting the genres into a list\n",
    "df1['genres']=df1['genres'].str.split('|')"
   ]
  },
  {
   "cell_type": "code",
   "execution_count": 33,
   "metadata": {},
   "outputs": [],
   "source": [
    "from sklearn.feature_extraction.text import TfidfVectorizer"
   ]
  },
  {
   "cell_type": "code",
   "execution_count": 34,
   "metadata": {},
   "outputs": [],
   "source": [
    "tf = TfidfVectorizer(smooth_idf=False, sublinear_tf=False, norm=None, analyzer='char')\n",
    "new_df = tf.fit_transform(df1).toarray()"
   ]
  },
  {
   "cell_type": "markdown",
   "metadata": {},
   "source": [
    "#### PCA"
   ]
  },
  {
   "cell_type": "code",
   "execution_count": 35,
   "metadata": {
    "scrolled": true
   },
   "outputs": [],
   "source": [
    "scaler = StandardScaler(with_mean=False)\n",
    "pca =PCA()\n",
    "pipeline = make_pipeline(scaler,pca)"
   ]
  },
  {
   "cell_type": "code",
   "execution_count": 37,
   "metadata": {},
   "outputs": [
    {
     "data": {
      "image/png": "[encoded data removed]",
      "text/plain": [
       "<Figure size 432x288 with 1 Axes>"
      ]
     },
     "metadata": {},
     "output_type": "display_data"
    }
   ],
   "source": [
    "#plot the variance vs PCA features to visualize how our data is spread out\n",
    "pipeline.fit_transform(new_df)\n",
    "features=range(pca.n_components_)\n",
    "features = features\n",
    "plt.bar(features,pca.explained_variance_)\n",
    "plt.xlabel('PCA feature')\n",
    "plt.ylabel('variance')\n",
    "plt.xticks(features)\n",
    "plt.show()"
   ]
  },
  {
   "cell_type": "markdown",
   "metadata": {},
   "source": [
    "### Clustering "
   ]
  },
  {
   "cell_type": "code",
   "execution_count": 38,
   "metadata": {},
   "outputs": [],
   "source": [
    "scaler = StandardScaler()\n",
    "scaled_data = scaler.fit_transform(g_scores.iloc[:10000])\n",
    "scaled_df = pd.DataFrame(scaled_data,columns=g_scores.columns)"
   ]
  },
  {
   "cell_type": "code",
   "execution_count": 39,
   "metadata": {},
   "outputs": [],
   "source": [
    "#Calculating the Hopkins statistic\n",
    "from sklearn.neighbors import NearestNeighbors\n",
    "from random import sample\n",
    "from numpy.random import uniform\n",
    "import numpy as np\n",
    "from math import isnan\n",
    "\n",
    " \n",
    "def hopkins(X):\n",
    "    d = X.shape[1]\n",
    "    #d = len(vars) # columns\n",
    "    n = len(X) # rows\n",
    "    m = int(0.1 * n)\n",
    "    nbrs = NearestNeighbors(n_neighbors=1).fit(X.values)\n",
    " \n",
    "    rand_X = sample(range(0, n, 1), m)\n",
    " \n",
    "    ujd = []\n",
    "    wjd = []\n",
    "    for j in range(0, m):\n",
    "        u_dist, _ = nbrs.kneighbors(uniform(np.amin(X,axis=0),np.amax(X,axis=0),d).reshape(1, -1), 2, return_distance=True)\n",
    "        ujd.append(u_dist[0][1])\n",
    "        w_dist, _ = nbrs.kneighbors(X.iloc[rand_X[j]].values.reshape(1, -1), 2, return_distance=True)\n",
    "        wjd.append(w_dist[0][1])\n",
    " \n",
    "    H = sum(ujd) / (sum(ujd) + sum(wjd))\n",
    "    if isnan(H):\n",
    "        print(ujd, wjd)\n",
    "        H = 0\n",
    " \n",
    "    return H"
   ]
  },
  {
   "cell_type": "code",
   "execution_count": 40,
   "metadata": {},
   "outputs": [
    {
     "data": {
      "text/plain": [
       "0.8610975020250482"
      ]
     },
     "execution_count": 40,
     "metadata": {},
     "output_type": "execute_result"
    }
   ],
   "source": [
    "hopkins(scaled_df)"
   ]
  },
  {
   "cell_type": "code",
   "execution_count": null,
   "metadata": {},
   "outputs": [],
   "source": []
  },
  {
   "cell_type": "markdown",
   "metadata": {},
   "source": [
    "### 5. Modelling "
   ]
  },
  {
   "cell_type": "markdown",
   "metadata": {},
   "source": [
    "Collaborative based Method "
   ]
  },
  {
   "cell_type": "code",
   "execution_count": 41,
   "metadata": {},
   "outputs": [],
   "source": [
    "#Loading 10000 dataset\n",
    "data = Dataset.load_from_df(train_df[['userId', 'movieId', 'rating']].head(10000), Reader)"
   ]
  },
  {
   "cell_type": "code",
   "execution_count": 42,
   "metadata": {},
   "outputs": [
    {
     "name": "stdout",
     "output_type": "stream",
     "text": [
      "Estimating biases using als...\n",
      "Computing the msd similarity matrix...\n",
      "Done computing similarity matrix.\n",
      "Estimating biases using als...\n",
      "Computing the msd similarity matrix...\n",
      "Done computing similarity matrix.\n",
      "Estimating biases using als...\n",
      "Computing the msd similarity matrix...\n",
      "Done computing similarity matrix.\n",
      "Computing the msd similarity matrix...\n",
      "Done computing similarity matrix.\n",
      "Computing the msd similarity matrix...\n",
      "Done computing similarity matrix.\n",
      "Computing the msd similarity matrix...\n",
      "Done computing similarity matrix.\n",
      "Computing the msd similarity matrix...\n",
      "Done computing similarity matrix.\n",
      "Computing the msd similarity matrix...\n",
      "Done computing similarity matrix.\n",
      "Computing the msd similarity matrix...\n",
      "Done computing similarity matrix.\n",
      "Computing the msd similarity matrix...\n",
      "Done computing similarity matrix.\n",
      "Computing the msd similarity matrix...\n",
      "Done computing similarity matrix.\n",
      "Computing the msd similarity matrix...\n",
      "Done computing similarity matrix.\n",
      "Estimating biases using als...\n",
      "Estimating biases using als...\n",
      "Estimating biases using als...\n"
     ]
    },
    {
     "data": {
      "text/html": [
       "<div>\n",
       "<style scoped>\n",
       "    .dataframe tbody tr th:only-of-type {\n",
       "        vertical-align: middle;\n",
       "    }\n",
       "\n",
       "    .dataframe tbody tr th {\n",
       "        vertical-align: top;\n",
       "    }\n",
       "\n",
       "    .dataframe thead th {\n",
       "        text-align: right;\n",
       "    }\n",
       "</style>\n",
       "<table border=\"1\" class=\"dataframe\">\n",
       "  <thead>\n",
       "    <tr style=\"text-align: right;\">\n",
       "      <th></th>\n",
       "      <th>test_rmse</th>\n",
       "      <th>fit_time</th>\n",
       "      <th>test_time</th>\n",
       "    </tr>\n",
       "    <tr>\n",
       "      <th>Algorithm</th>\n",
       "      <th></th>\n",
       "      <th></th>\n",
       "      <th></th>\n",
       "    </tr>\n",
       "  </thead>\n",
       "  <tbody>\n",
       "    <tr>\n",
       "      <th>SVDpp</th>\n",
       "      <td>1.045135</td>\n",
       "      <td>4.188325</td>\n",
       "      <td>0.132681</td>\n",
       "    </tr>\n",
       "    <tr>\n",
       "      <th>BaselineOnly</th>\n",
       "      <td>1.046594</td>\n",
       "      <td>0.132002</td>\n",
       "      <td>0.101001</td>\n",
       "    </tr>\n",
       "    <tr>\n",
       "      <th>SVD</th>\n",
       "      <td>1.046724</td>\n",
       "      <td>1.908335</td>\n",
       "      <td>0.568340</td>\n",
       "    </tr>\n",
       "    <tr>\n",
       "      <th>KNNBaseline</th>\n",
       "      <td>1.046984</td>\n",
       "      <td>4.385994</td>\n",
       "      <td>0.115338</td>\n",
       "    </tr>\n",
       "    <tr>\n",
       "      <th>KNNBasic</th>\n",
       "      <td>1.077026</td>\n",
       "      <td>4.335657</td>\n",
       "      <td>0.159678</td>\n",
       "    </tr>\n",
       "    <tr>\n",
       "      <th>KNNWithZScore</th>\n",
       "      <td>1.103423</td>\n",
       "      <td>5.256988</td>\n",
       "      <td>0.231335</td>\n",
       "    </tr>\n",
       "    <tr>\n",
       "      <th>KNNWithMeans</th>\n",
       "      <td>1.106143</td>\n",
       "      <td>4.859002</td>\n",
       "      <td>0.116996</td>\n",
       "    </tr>\n",
       "    <tr>\n",
       "      <th>SlopeOne</th>\n",
       "      <td>1.106474</td>\n",
       "      <td>1.056002</td>\n",
       "      <td>0.107997</td>\n",
       "    </tr>\n",
       "    <tr>\n",
       "      <th>NMF</th>\n",
       "      <td>1.110462</td>\n",
       "      <td>4.214000</td>\n",
       "      <td>0.110341</td>\n",
       "    </tr>\n",
       "    <tr>\n",
       "      <th>CoClustering</th>\n",
       "      <td>1.116898</td>\n",
       "      <td>5.753581</td>\n",
       "      <td>0.084339</td>\n",
       "    </tr>\n",
       "    <tr>\n",
       "      <th>NormalPredictor</th>\n",
       "      <td>1.474220</td>\n",
       "      <td>0.043331</td>\n",
       "      <td>0.147327</td>\n",
       "    </tr>\n",
       "  </tbody>\n",
       "</table>\n",
       "</div>"
      ],
      "text/plain": [
       "                 test_rmse  fit_time  test_time\n",
       "Algorithm                                      \n",
       "SVDpp             1.045135  4.188325   0.132681\n",
       "BaselineOnly      1.046594  0.132002   0.101001\n",
       "SVD               1.046724  1.908335   0.568340\n",
       "KNNBaseline       1.046984  4.385994   0.115338\n",
       "KNNBasic          1.077026  4.335657   0.159678\n",
       "KNNWithZScore     1.103423  5.256988   0.231335\n",
       "KNNWithMeans      1.106143  4.859002   0.116996\n",
       "SlopeOne          1.106474  1.056002   0.107997\n",
       "NMF               1.110462  4.214000   0.110341\n",
       "CoClustering      1.116898  5.753581   0.084339\n",
       "NormalPredictor   1.474220  0.043331   0.147327"
      ]
     },
     "execution_count": 42,
     "metadata": {},
     "output_type": "execute_result"
    }
   ],
   "source": [
    " #Implement an algorithm\n",
    "algo = [SVD(), SVDpp(), SlopeOne(), NMF(), NormalPredictor(), KNNBaseline(), \n",
    "                  KNNBasic(), KNNWithMeans(), KNNWithZScore(), BaselineOnly(), CoClustering()]\n",
    "\n",
    "#Read 10000 dataset\n",
    "data2 = Dataset.load_from_df(train_df[['userId', 'movieId', 'rating']].head(10000), Reader())\n",
    "\n",
    "#Implementing algorithm for RMSE\n",
    "algo_rmse=[]\n",
    "for a in algo:\n",
    "    \n",
    "    cross_valid=cross_validate(a, data2, measures=['RMSE'], cv = 3)\n",
    "    output=pd.DataFrame.from_dict(cross_valid).mean(axis=0)\n",
    "    output=output.append(pd.Series([str(a).split(' ')[0].split('.')[-1]], index=['Algorithm']))\n",
    "    algo_rmse.append(output)\n",
    "\n",
    "algo_rmse\n",
    "surprise_results = pd.DataFrame(algo_rmse).set_index('Algorithm').sort_values('test_rmse')\n",
    "surprise_results"
   ]
  },
  {
   "cell_type": "code",
   "execution_count": 43,
   "metadata": {},
   "outputs": [],
   "source": [
    "#Loading 100000 dataset\n",
    "data4 = Dataset.load_from_df(train_df[['userId', 'movieId', 'rating']].head(100000), Reader()) "
   ]
  },
  {
   "cell_type": "code",
   "execution_count": 44,
   "metadata": {},
   "outputs": [],
   "source": [
    "trainset, testset = train_test_split(data4, test_size=0.05)"
   ]
  },
  {
   "cell_type": "code",
   "execution_count": 45,
   "metadata": {},
   "outputs": [
    {
     "name": "stdout",
     "output_type": "stream",
     "text": [
      "RMSE: 0.9770\n"
     ]
    }
   ],
   "source": [
    "from surprise import accuracy\n",
    "#SVDpp model\n",
    "svdpp=SVDpp(n_epochs = 30, n_factors = 200, init_std_dev = 0.05, random_state=42)\n",
    "\n",
    "#Fitting the model\n",
    "svdpp.fit(trainset)\n",
    "\n",
    "# Making prediction on the validation dataset\n",
    "test_pred= svdpp.test(testset)\n",
    "\n",
    "#Evaluating model performance\n",
    "rsme_collabo = accuracy.rmse(test_pred,\n",
    "                             verbose=True)"
   ]
  },
  {
   "cell_type": "code",
   "execution_count": 47,
   "metadata": {},
   "outputs": [
    {
     "data": {
      "text/html": [
       "<div>\n",
       "<style scoped>\n",
       "    .dataframe tbody tr th:only-of-type {\n",
       "        vertical-align: middle;\n",
       "    }\n",
       "\n",
       "    .dataframe tbody tr th {\n",
       "        vertical-align: top;\n",
       "    }\n",
       "\n",
       "    .dataframe thead th {\n",
       "        text-align: right;\n",
       "    }\n",
       "</style>\n",
       "<table border=\"1\" class=\"dataframe\">\n",
       "  <thead>\n",
       "    <tr style=\"text-align: right;\">\n",
       "      <th></th>\n",
       "      <th>ID</th>\n",
       "      <th>est</th>\n",
       "    </tr>\n",
       "  </thead>\n",
       "  <tbody>\n",
       "    <tr>\n",
       "      <th>0</th>\n",
       "      <td>1_2011</td>\n",
       "      <td>3.430908</td>\n",
       "    </tr>\n",
       "    <tr>\n",
       "      <th>1</th>\n",
       "      <td>1_4144</td>\n",
       "      <td>3.914498</td>\n",
       "    </tr>\n",
       "    <tr>\n",
       "      <th>2</th>\n",
       "      <td>1_5767</td>\n",
       "      <td>3.533758</td>\n",
       "    </tr>\n",
       "    <tr>\n",
       "      <th>3</th>\n",
       "      <td>1_6711</td>\n",
       "      <td>3.876866</td>\n",
       "    </tr>\n",
       "    <tr>\n",
       "      <th>4</th>\n",
       "      <td>1_7318</td>\n",
       "      <td>2.815108</td>\n",
       "    </tr>\n",
       "  </tbody>\n",
       "</table>\n",
       "</div>"
      ],
      "text/plain": [
       "       ID       est\n",
       "0  1_2011  3.430908\n",
       "1  1_4144  3.914498\n",
       "2  1_5767  3.533758\n",
       "3  1_6711  3.876866\n",
       "4  1_7318  2.815108"
      ]
     },
     "execution_count": 47,
     "metadata": {},
     "output_type": "execute_result"
    }
   ],
   "source": [
    "#Predicting the rating for each user and movie\n",
    "ratings=[]\n",
    "for x,y in test_df.itertuples(index=False):\n",
    "    output=svdpp.predict(x,y)\n",
    "    ratings.append(output)\n",
    "    \n",
    "output_df=pd.DataFrame(ratings)[['uid','iid','est']]\n",
    "output_df['ID']=output_df['uid'].astype(str) + '_' + output_df['iid'].astype(str)\n",
    "output_df=output_df[['ID','est']]\n",
    "output_df.head()"
   ]
  },
  {
   "cell_type": "code",
   "execution_count": 48,
   "metadata": {},
   "outputs": [],
   "source": [
    "#Creating the \"results\" dataframe and convert to csv\n",
    "results = pd.DataFrame({\"Id\":output_df['ID'],\"rating\": output_df['est']})\n",
    "results.to_csv(\"SVDpp.csv\", index=False)"
   ]
  },
  {
   "cell_type": "markdown",
   "metadata": {},
   "source": [
    "Predicting with SVD algorithm"
   ]
  },
  {
   "cell_type": "code",
   "execution_count": 49,
   "metadata": {},
   "outputs": [],
   "source": [
    "#Loading 1000000 dataset\n",
    "data3 = Dataset.load_from_df(train_df[['userId', 'movieId', 'rating']].head(1000000), Reader()) "
   ]
  },
  {
   "cell_type": "code",
   "execution_count": 50,
   "metadata": {},
   "outputs": [],
   "source": [
    "trainset, testset = train_test_split(data3, test_size=0.05)"
   ]
  },
  {
   "cell_type": "code",
   "execution_count": 51,
   "metadata": {},
   "outputs": [
    {
     "name": "stdout",
     "output_type": "stream",
     "text": [
      "RMSE: 0.9001\n"
     ]
    }
   ],
   "source": [
    "from surprise import accuracy\n",
    "#SVD model\n",
    "svd=SVD(n_epochs = 30, n_factors = 200, init_std_dev = 0.05, random_state=42)\n",
    "\n",
    "#Fitting the model\n",
    "svd.fit(trainset)\n",
    "\n",
    "# Making prediction on the validation dataset\n",
    "test_pred= svd.test(testset)\n",
    "\n",
    "#Evaluating model performance\n",
    "rsme_collabo = accuracy.rmse(test_pred,\n",
    "                             verbose=True)"
   ]
  },
  {
   "cell_type": "code",
   "execution_count": null,
   "metadata": {},
   "outputs": [],
   "source": [
    "#Predicting the rating for each user and movie\n",
    "ratings=[]\n",
    "for x,y in test_df.itertuples(index=False):\n",
    "    output=svd.predict(x,y)\n",
    "    ratings.append(output)\n",
    "    \n",
    "output_df=pd.DataFrame(ratings)[['uid','iid','est']]\n",
    "output_df['ID']=output_df['uid'].astype(str) + '_' + output_df['iid'].astype(str)\n",
    "output_df=output_df[['ID','est']]\n",
    "output_df.head()"
   ]
  },
  {
   "cell_type": "code",
   "execution_count": null,
   "metadata": {},
   "outputs": [],
   "source": [
    "#Creating the \"results\" dataframe and convert to csv\n",
    "results = pd.DataFrame({\"Id\":output_df['ID'],\"rating\": output_df['est']})\n",
    "results.to_csv(\"SVD.csv\", index=False)"
   ]
  },
  {
   "cell_type": "markdown",
   "metadata": {},
   "source": [
    "#### Predicting with BaselineOnly algorithm"
   ]
  },
  {
   "cell_type": "code",
   "execution_count": 46,
   "metadata": {},
   "outputs": [],
   "source": [
    "#Loading 1100000 dataset\n",
    "data5 = Dataset.load_from_df(train_df[['userId', 'movieId', 'rating']].head(1100000), Reader()) "
   ]
  },
  {
   "cell_type": "code",
   "execution_count": 47,
   "metadata": {},
   "outputs": [],
   "source": [
    "trainset, testset = train_test_split(data5, test_size=0.05)"
   ]
  },
  {
   "cell_type": "code",
   "execution_count": 48,
   "metadata": {},
   "outputs": [
    {
     "name": "stdout",
     "output_type": "stream",
     "text": [
      "Estimating biases using sgd...\n",
      "RMSE: 0.8976\n"
     ]
    }
   ],
   "source": [
    "from surprise import accuracy\n",
    "#BaselineOnly model\n",
    "bsl_options = {'method': 'sgd','n_epochs': 40}\n",
    "blo=BaselineOnly(bsl_options=bsl_options)\n",
    "\n",
    "#Fitting the model\n",
    "blo.fit(trainset)\n",
    "\n",
    "# Making prediction on the validation dataset\n",
    "test_pred= blo.test(testset)\n",
    "\n",
    "#Evaluating model performance\n",
    "rsme_collabo = accuracy.rmse(test_pred,\n",
    "                             verbose=True)"
   ]
  },
  {
   "cell_type": "code",
   "execution_count": 50,
   "metadata": {},
   "outputs": [
    {
     "data": {
      "text/html": [
       "<div>\n",
       "<style scoped>\n",
       "    .dataframe tbody tr th:only-of-type {\n",
       "        vertical-align: middle;\n",
       "    }\n",
       "\n",
       "    .dataframe tbody tr th {\n",
       "        vertical-align: top;\n",
       "    }\n",
       "\n",
       "    .dataframe thead th {\n",
       "        text-align: right;\n",
       "    }\n",
       "</style>\n",
       "<table border=\"1\" class=\"dataframe\">\n",
       "  <thead>\n",
       "    <tr style=\"text-align: right;\">\n",
       "      <th></th>\n",
       "      <th>ID</th>\n",
       "      <th>est</th>\n",
       "    </tr>\n",
       "  </thead>\n",
       "  <tbody>\n",
       "    <tr>\n",
       "      <th>0</th>\n",
       "      <td>1_2011</td>\n",
       "      <td>3.321342</td>\n",
       "    </tr>\n",
       "    <tr>\n",
       "      <th>1</th>\n",
       "      <td>1_4144</td>\n",
       "      <td>4.121742</td>\n",
       "    </tr>\n",
       "    <tr>\n",
       "      <th>2</th>\n",
       "      <td>1_5767</td>\n",
       "      <td>2.675648</td>\n",
       "    </tr>\n",
       "    <tr>\n",
       "      <th>3</th>\n",
       "      <td>1_6711</td>\n",
       "      <td>3.493221</td>\n",
       "    </tr>\n",
       "    <tr>\n",
       "      <th>4</th>\n",
       "      <td>1_7318</td>\n",
       "      <td>2.947493</td>\n",
       "    </tr>\n",
       "  </tbody>\n",
       "</table>\n",
       "</div>"
      ],
      "text/plain": [
       "       ID       est\n",
       "0  1_2011  3.321342\n",
       "1  1_4144  4.121742\n",
       "2  1_5767  2.675648\n",
       "3  1_6711  3.493221\n",
       "4  1_7318  2.947493"
      ]
     },
     "execution_count": 50,
     "metadata": {},
     "output_type": "execute_result"
    }
   ],
   "source": [
    "#Predicting the rating for each user and movie\n",
    "ratings=[]\n",
    "for x,y in test_df.itertuples(index=False):\n",
    "    output=blo.predict(x,y)\n",
    "    ratings.append(output)\n",
    "    \n",
    "output_df=pd.DataFrame(ratings)[['uid','iid','est']]\n",
    "output_df['ID']=output_df['uid'].astype(str) + '_' + output_df['iid'].astype(str)\n",
    "output_df=output_df[['ID','est']]\n",
    "output_df.head()"
   ]
  },
  {
   "cell_type": "code",
   "execution_count": 51,
   "metadata": {},
   "outputs": [],
   "source": [
    "#Creating the \"results\" dataframe and convert to csv\n",
    "results = pd.DataFrame({\"Id\":output_df['ID'],\"rating\": output_df['est']})\n",
    "results.to_csv(\"blo.csv\", index=False)"
   ]
  },
  {
   "cell_type": "markdown",
   "metadata": {},
   "source": [
    "#### Predicting with Normal Predictor algorithm"
   ]
  },
  {
   "cell_type": "code",
   "execution_count": null,
   "metadata": {},
   "outputs": [],
   "source": [
    "#Loading 1100000 dataset\n",
    "data6 = Dataset.load_from_df(train_df[['userId', 'movieId', 'rating']].head(1100000), Reader()) "
   ]
  },
  {
   "cell_type": "code",
   "execution_count": null,
   "metadata": {},
   "outputs": [],
   "source": [
    "trainset, testset = train_test_split(data6, test_size=0.05)"
   ]
  },
  {
   "cell_type": "code",
   "execution_count": null,
   "metadata": {},
   "outputs": [],
   "source": [
    "np_test = NormalPredictor()\n",
    "np_test.fit(trainset)\n",
    "predictions = np_test.test(testset)\n",
    "# Calculate RMSE\n",
    "np_rmse = accuracy.rmse(predictions)"
   ]
  },
  {
   "cell_type": "code",
   "execution_count": null,
   "metadata": {},
   "outputs": [],
   "source": []
  },
  {
   "cell_type": "markdown",
   "metadata": {},
   "source": [
    "### 6. Performance Evaluation "
   ]
  },
  {
   "cell_type": "code",
   "execution_count": null,
   "metadata": {},
   "outputs": [],
   "source": [
    "# Compare RMSE values between models\n",
    "fig,axis = plt.subplots(figsize=(8, 5))\n",
    "rmse_x = ['SVD','NormalPredictor','BaselineOnly','NMF','SlopeOne','CoClustering']\n",
    "rmse_y = [svd_rmse,np_rmse,blo_rmse,nmf_rmse,slo_rmse,cc_rmse]\n",
    "ax = sns.barplot(x=rmse_x, y=rmse_y,palette='brg',edgecolor='black')\n",
    "plt.title('RMSE Value Per Collaborative-based Filtering Model',fontsize=14)\n",
    "plt.xticks(rotation=90)\n",
    "plt.ylabel('RMSE')\n",
    "for p in ax.patches:\n",
    "    ax.text(p.get_x() + p.get_width()/2, p.get_y() + p.get_height(), round(p.get_height(),2), fontsize=12, ha=\"center\", va='bottom')\n",
    "    \n",
    "plt.show()"
   ]
  },
  {
   "cell_type": "markdown",
   "metadata": {},
   "source": [
    "### 7. Hyperparameter tuning "
   ]
  },
  {
   "cell_type": "code",
   "execution_count": null,
   "metadata": {},
   "outputs": [],
   "source": [
    "param_grid = {'n_epochs':[40], #[30,40,50],\n",
    "              'n_factors':[400], #[100,200,300,400],\n",
    "              'init_std_dev':[0.005], #[0.001,0.005,0.05,0.1],\n",
    "              'random_state':[42]} \n",
    "grid_SVD = GridSearchCV(SVD, cv=5, measures=['rmse'], param_grid=param_grid, n_jobs=-1)\n",
    "grid_SVD.fit(data3)\n",
    "print('***Best score:***')\n",
    "print(grid_SVD.best_score['rmse'])\n",
    "print('***Best parameters:***')\n",
    "print(grid_SVD.best_params['rmse'])"
   ]
  },
  {
   "cell_type": "markdown",
   "metadata": {},
   "source": [
    "### 8. Conclusion "
   ]
  },
  {
   "cell_type": "markdown",
   "metadata": {},
   "source": [
    "### 9. Save Output"
   ]
  },
  {
   "cell_type": "code",
   "execution_count": null,
   "metadata": {},
   "outputs": [],
   "source": []
  }
 ],
 "metadata": {
  "kernelspec": {
   "display_name": "Python 3",
   "language": "python",
   "name": "python3"
  },
  "language_info": {
   "codemirror_mode": {
    "name": "ipython",
    "version": 3
   },
   "file_extension": ".py",
   "mimetype": "text/x-python",
   "name": "python",
   "nbconvert_exporter": "python",
   "pygments_lexer": "ipython3",
   "version": "3.8.3"
  }
 },
 "nbformat": 4,
 "nbformat_minor": 4
}
