{
 "cells": [
  {
   "cell_type": "code",
   "execution_count": 3,
   "id": "c71030be",
   "metadata": {},
   "outputs": [],
   "source": [
    "# Script dependencies\n",
    "import pandas as pd\n",
    "import numpy as np\n",
    "import pickle\n",
    "import copy\n",
    "from surprise import Reader, Dataset\n",
    "from surprise import SVD, NormalPredictor, BaselineOnly, KNNBasic, NMF\n",
    "from sklearn.metrics.pairwise import cosine_similarity\n",
    "from sklearn.feature_extraction.text import CountVectorizer\n"
   ]
  },
  {
   "cell_type": "code",
   "execution_count": null,
   "id": "d22002bc",
   "metadata": {},
   "outputs": [],
   "source": []
  },
  {
   "cell_type": "code",
   "execution_count": 4,
   "id": "a912dbf4",
   "metadata": {},
   "outputs": [],
   "source": [
    "# Importing data\n",
    "movies_df = pd.read_csv('resources/data/movies.csv',sep = ',')\n",
    "ratings_df = pd.read_csv('resources/data/ratings.csv')\n",
    "ratings_df.drop(['timestamp'], axis=1,inplace=True)\n",
    "movies_df.dropna(inplace=True)"
   ]
  },
  {
   "cell_type": "code",
   "execution_count": 18,
   "id": "8bcd9c46",
   "metadata": {},
   "outputs": [],
   "source": [
    "# We make use of an SVD model trained on a subset of the MovieLens 10k dataset.\n",
    "model=pickle.load(open('resources/models/SVD.pkl', 'rb'))\n"
   ]
  },
  {
   "cell_type": "code",
   "execution_count": 19,
   "id": "3f5bad85",
   "metadata": {},
   "outputs": [],
   "source": [
    "def prediction_item(item_id):\n",
    "    return None"
   ]
  },
  {
   "cell_type": "code",
   "execution_count": 20,
   "id": "9e4a7f98",
   "metadata": {},
   "outputs": [],
   "source": [
    "def pred_movies(movies_df, movie_list):\n",
    "    movie_ids = []\n",
    "    for movie in movie_list:\n",
    "        movie_id = movies_df[movies_df['title'] == movie]['movieId'].values[0]\n",
    "        movie_ids.append(movie_id)\n",
    "    return movie_ids \n"
   ]
  },
  {
   "cell_type": "code",
   "execution_count": 21,
   "id": "423ec996",
   "metadata": {},
   "outputs": [],
   "source": [
    "def collab_model(movie_list, top_n=10):\n",
    "    movie_ids = pred_movies(movies_df, movie_list)\n",
    "    user_ratings = ratings_df[ratings_df['movieId'].isin(movie_ids)]\n",
    "    user_ratings_pivot = user_ratings.pivot(index='userId', columns='movieId', values='rating').fillna(0)\n",
    "    cosine_sim = cosine_similarity(user_ratings_pivot)\n",
    "    movie_indices = {movie: index for index, movie in enumerate(list(movies_df['title']))}\n",
    "    movie_idx = [movie_indices[movie] for movie in movie_list]\n",
    "    similarity_scores = list(enumerate(cosine_sim[movie_idx[0]]))\n",
    "    similarity_scores = sorted(similarity_scores, key=lambda x: x[1], reverse=True)\n",
    "    similarity_scores = similarity_scores[1:]\n",
    "    movie_indices = [i[0] for i in similarity_scores]\n",
    "    recommended_movies = list(movies_df['title'].iloc[movie_indices[:top_n]])\n",
    "    return recommended_movies"
   ]
  },
  {
   "cell_type": "code",
   "execution_count": 22,
   "id": "3d0253d7",
   "metadata": {},
   "outputs": [],
   "source": [
    "movie_1 = \"So Proudly We Hail! (1943)\"\n",
    "movie_2 = \"Warcraft (2016)\"\n",
    "movie_3 = \"Sabotage (2014)\"\n",
    "fav_movies = [movie_1,movie_2,movie_3]\n"
   ]
  },
  {
   "cell_type": "code",
   "execution_count": 23,
   "id": "fbd23dd8",
   "metadata": {},
   "outputs": [
    {
     "ename": "IndexError",
     "evalue": "index 14930 is out of bounds for axis 0 with size 3",
     "output_type": "error",
     "traceback": [
      "\u001b[1;31m---------------------------------------------------------------------------\u001b[0m",
      "\u001b[1;31mIndexError\u001b[0m                                Traceback (most recent call last)",
      "\u001b[1;32m~\\AppData\\Local\\Temp\\ipykernel_8240\\1692496246.py\u001b[0m in \u001b[0;36m<module>\u001b[1;34m\u001b[0m\n\u001b[1;32m----> 1\u001b[1;33m \u001b[0mtop_recommendations\u001b[0m \u001b[1;33m=\u001b[0m \u001b[0mcollab_model\u001b[0m\u001b[1;33m(\u001b[0m\u001b[0mmovie_list\u001b[0m\u001b[1;33m=\u001b[0m\u001b[0mfav_movies\u001b[0m\u001b[1;33m,\u001b[0m \u001b[0mtop_n\u001b[0m\u001b[1;33m=\u001b[0m\u001b[1;36m10\u001b[0m\u001b[1;33m)\u001b[0m\u001b[1;33m\u001b[0m\u001b[1;33m\u001b[0m\u001b[0m\n\u001b[0m",
      "\u001b[1;32m~\\AppData\\Local\\Temp\\ipykernel_8240\\3692899253.py\u001b[0m in \u001b[0;36mcollab_model\u001b[1;34m(movie_list, top_n)\u001b[0m\n\u001b[0;32m      6\u001b[0m     \u001b[0mmovie_indices\u001b[0m \u001b[1;33m=\u001b[0m \u001b[1;33m{\u001b[0m\u001b[0mmovie\u001b[0m\u001b[1;33m:\u001b[0m \u001b[0mindex\u001b[0m \u001b[1;32mfor\u001b[0m \u001b[0mindex\u001b[0m\u001b[1;33m,\u001b[0m \u001b[0mmovie\u001b[0m \u001b[1;32min\u001b[0m \u001b[0menumerate\u001b[0m\u001b[1;33m(\u001b[0m\u001b[0mlist\u001b[0m\u001b[1;33m(\u001b[0m\u001b[0mmovies_df\u001b[0m\u001b[1;33m[\u001b[0m\u001b[1;34m'title'\u001b[0m\u001b[1;33m]\u001b[0m\u001b[1;33m)\u001b[0m\u001b[1;33m)\u001b[0m\u001b[1;33m}\u001b[0m\u001b[1;33m\u001b[0m\u001b[1;33m\u001b[0m\u001b[0m\n\u001b[0;32m      7\u001b[0m     \u001b[0mmovie_idx\u001b[0m \u001b[1;33m=\u001b[0m \u001b[1;33m[\u001b[0m\u001b[0mmovie_indices\u001b[0m\u001b[1;33m[\u001b[0m\u001b[0mmovie\u001b[0m\u001b[1;33m]\u001b[0m \u001b[1;32mfor\u001b[0m \u001b[0mmovie\u001b[0m \u001b[1;32min\u001b[0m \u001b[0mmovie_list\u001b[0m\u001b[1;33m]\u001b[0m\u001b[1;33m\u001b[0m\u001b[1;33m\u001b[0m\u001b[0m\n\u001b[1;32m----> 8\u001b[1;33m     \u001b[0msimilarity_scores\u001b[0m \u001b[1;33m=\u001b[0m \u001b[0mlist\u001b[0m\u001b[1;33m(\u001b[0m\u001b[0menumerate\u001b[0m\u001b[1;33m(\u001b[0m\u001b[0mcosine_sim\u001b[0m\u001b[1;33m[\u001b[0m\u001b[0mmovie_idx\u001b[0m\u001b[1;33m[\u001b[0m\u001b[1;36m0\u001b[0m\u001b[1;33m]\u001b[0m\u001b[1;33m]\u001b[0m\u001b[1;33m)\u001b[0m\u001b[1;33m)\u001b[0m\u001b[1;33m\u001b[0m\u001b[1;33m\u001b[0m\u001b[0m\n\u001b[0m\u001b[0;32m      9\u001b[0m     \u001b[0msimilarity_scores\u001b[0m \u001b[1;33m=\u001b[0m \u001b[0msorted\u001b[0m\u001b[1;33m(\u001b[0m\u001b[0msimilarity_scores\u001b[0m\u001b[1;33m,\u001b[0m \u001b[0mkey\u001b[0m\u001b[1;33m=\u001b[0m\u001b[1;32mlambda\u001b[0m \u001b[0mx\u001b[0m\u001b[1;33m:\u001b[0m \u001b[0mx\u001b[0m\u001b[1;33m[\u001b[0m\u001b[1;36m1\u001b[0m\u001b[1;33m]\u001b[0m\u001b[1;33m,\u001b[0m \u001b[0mreverse\u001b[0m\u001b[1;33m=\u001b[0m\u001b[1;32mTrue\u001b[0m\u001b[1;33m)\u001b[0m\u001b[1;33m\u001b[0m\u001b[1;33m\u001b[0m\u001b[0m\n\u001b[0;32m     10\u001b[0m     \u001b[0msimilarity_scores\u001b[0m \u001b[1;33m=\u001b[0m \u001b[0msimilarity_scores\u001b[0m\u001b[1;33m[\u001b[0m\u001b[1;36m1\u001b[0m\u001b[1;33m:\u001b[0m\u001b[1;33m]\u001b[0m\u001b[1;33m\u001b[0m\u001b[1;33m\u001b[0m\u001b[0m\n",
      "\u001b[1;31mIndexError\u001b[0m: index 14930 is out of bounds for axis 0 with size 3"
     ]
    }
   ],
   "source": [
    "top_recommendations = collab_model(movie_list=fav_movies, top_n=10)"
   ]
  },
  {
   "cell_type": "code",
   "execution_count": null,
   "id": "4908a865",
   "metadata": {},
   "outputs": [],
   "source": []
  }
 ],
 "metadata": {
  "kernelspec": {
   "display_name": "Python 3 (ipykernel)",
   "language": "python",
   "name": "python3"
  },
  "language_info": {
   "codemirror_mode": {
    "name": "ipython",
    "version": 3
   },
   "file_extension": ".py",
   "mimetype": "text/x-python",
   "name": "python",
   "nbconvert_exporter": "python",
   "pygments_lexer": "ipython3",
   "version": "3.10.8"
  }
 },
 "nbformat": 4,
 "nbformat_minor": 5
}
