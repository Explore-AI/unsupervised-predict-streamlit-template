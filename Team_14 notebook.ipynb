{
  "cells": [
    {
      "cell_type": "markdown",
      "metadata": {
        "id": "view-in-github",
        "colab_type": "text"
      },
      "source": [
        "<a href=\"https://colab.research.google.com/github/kwanda2426/unsupervised-predict-streamlit-template/blob/master/Team_14%20notebook.ipynb\" target=\"_parent\"><img src=\"https://colab.research.google.com/assets/colab-badge.svg\" alt=\"Open In Colab\"/></a>"
      ]
    },
    {
      "cell_type": "markdown",
      "metadata": {
        "id": "iBg6Fpz9Temh"
      },
      "source": [
        "<img src=\"https://explore-datascience.net/images/images_admissions2/main-logo.jpg\">"
      ]
    },
    {
      "cell_type": "markdown",
      "metadata": {
        "id": "RSKxLO7VTemm"
      },
      "source": [
        "<img src=\"https://github.com/Explore-AI/Pictures/blob/master/sql_tmdb.jpg?raw=true\" width=90%/>"
      ]
    },
    {
      "cell_type": "markdown",
      "metadata": {
        "id": "Mve0fr3rTemn"
      },
      "source": [
        "# Streamlit-based Movie Recommender System"
      ]
    },
    {
      "cell_type": "markdown",
      "metadata": {
        "id": "InnMg-PxTemn"
      },
      "source": [
        "## Team_14 :\n",
        "- #### Rinae Tshivhidzo\n",
        "- #### Nokulunga Twala (Team leader)\n",
        "- #### Tshegofatso Sekgobela \n",
        "- #### Tsepo Sehaole \n",
        "- #### Kwanda Mazibuko"
      ]
    },
    {
      "cell_type": "markdown",
      "metadata": {
        "id": "9LIQt3dWTemo"
      },
      "source": [
        "## Table of contents\n",
        "1. [Introduction](#intro)\n",
        "2. [Data Collection](#data)\n",
        "3. [Data Preprocessing](#cleaning)\n",
        "4. [Exploratory Data Analysis](#EDA)\n",
        "5. [Feature Engineering And Selection](#features)\n",
        "6. [Model Building And Evaluation](#model)\n",
        "7. [Model Hyperparameter Tuning](#tuning)\n",
        "8. [Conclusion](#conclusion)\n",
        "9. [References](#references)\n",
        " "
      ]
    },
    {
      "cell_type": "markdown",
      "metadata": {
        "id": "HgZPzuvXTemo"
      },
      "source": [
        "<a id=\"intro\"></a>\n",
        "# 1. **Introduction**"
      ]
    },
    {
      "cell_type": "markdown",
      "metadata": {
        "id": "QBuqBU4avIWA"
      },
      "source": [
        "In our daily life when we are shopping online, or looking for a movie to watch, we normally ask our friends or search for it. And when they recommend something that we do not like yet they enjoyed it. what a waste of time right. So what about if there is a system that can understand you, and recommend for you based on your interests, that would be so cool.\n",
        "\n",
        "The growth of the internet has resulted in an enormous amount of online data and information available to us. Tools like a recommender system allow us to filter the information which we want or need. Recommender systems can be utilized in many contexts, one of which is a playlist generator for video, movie or music services. \n",
        "Recommendation systems are becoming increasingly important in today’s extremely busy world. People are always short on time with the myriad tasks they need to accomplish in the limited 24 hours. Therefore, the recommendation systems are important as they help them make the right choices, without having to expend their cognitive resources."
      ]
    },
    {
      "cell_type": "markdown",
      "metadata": {
        "id": "nvr7kGO4vIWB"
      },
      "source": [
        "### **Problem Statement**\n",
        "In today’s technology driven world, recommender systems are socially and economically critical for ensuring that individuals are exposed to the content that is relevant to them in one way or another. One application where this is especially true surrounds movie content recommendations; where intelligent algorithms can help viewers find great titles from tens of thousands of options. If customers are not exposed to a content relevant to them, may decide to look for alternatives which may provide better content.\n",
        "\n",
        "### **Objectives**"
      ]
    },
    {
      "cell_type": "markdown",
      "metadata": {
        "id": "Sc5fUl_LvIWC"
      },
      "source": [
        "The key objective is to construct a recommendation algorithm based on content or collaborative filtering, capable of accurately predicting how a user will rate a movie they have not yet viewed based on their historical preferences."
      ]
    },
    {
      "cell_type": "markdown",
      "metadata": {
        "id": "qBOv-YIZvIWD"
      },
      "source": [
        "### **Literature Review**\n",
        "\n",
        "**What are recommender systems?**\n",
        "\n",
        "Simply put, recommender systems are the systems that are designed to recommend things to the user based on many different factors. These systems predict the most likely product that the users are most likely to purchase and are of interest to. Companies like Netflix, Amazon, etc. use recommender systems to help their users to identify the correct product or movies for them. \n",
        "\n",
        "The purpose of a recommendation system basically is to search for content that would be interesting to an individual. Moreover, it involves a number of factors to create personalised lists of useful and interesting content specific to each user. Recommendation systems are Artificial Intelligence based algorithms that skim through all possible options and create a customized list of items that are interesting and relevant to an individual. These results are based on their profile, search/browsing history, what other people with similar traits/demographics are watching, and how likely are you to watch those movies. This is achieved through predictive modeling and heuristics with the data available."
      ]
    },
    {
      "cell_type": "markdown",
      "metadata": {
        "id": "swI6v-lgvIWD"
      },
      "source": [
        "#### **Content-Based Filtering**\n",
        "\n",
        "Content-based filtering is a type of recommender system that attempts to guess what a user may like based on that user's activity. Content-based filtering makes recommendations by using keywords and attributes assigned to objects in a database (e.g., items in an online marketplace) and matching them to a user profile.\n",
        "\n",
        "**Why use content-based filtering?**\n",
        "- No data from other users is required to start making recommendations.\n",
        "- Recommendations are highly relevant to the user.\n",
        "- You avoid the “cold start” problem.\n",
        "- Recommendations are transparent to the user. Highly relevant recommendations send a message of openness to the user, bolstering their trust level in offered recommendations.\n",
        "\n",
        "\n",
        "**Challenges of content-based filtering**\n",
        "- There’s a lack of novelty and diversity.\n",
        "- Scalability is a challenge. Every time a new product or service or new content is added, its attributes must be defined and tagged.\n",
        "- Attributes may be incorrect or inconsistent. Content-based recommendations are only as good as the subject-matter experts tagging items.\n",
        "\n",
        "\n",
        "#### **Collaborative Filtering**\n",
        "The idea behind collaborative filtering is to consider users’ opinions on different videos and recommend the best video to each user based on the user’s previous rankings and the opinion of other similar types of users.\n",
        "\n",
        "**Why use collaborative filtering?**\n",
        "- It does not need a movie’s side knowledge like genres.\n",
        "- It uses information collected from other users to recommend new items to the current user.\n",
        "- Even when no information on an item is available, we still can predict the item rating without waiting for a user to purchase it.\n",
        "- Captures the change in user interests over time: Focusing solely on content does not provide any flexibility on the user's perspective and their preferences.\n",
        "\n",
        "\n",
        "**Challenges of collaborative filtering**\n",
        "- Cannot handle well fresh items with no ratings.\n",
        "- Hard to include side features for query/item.\n",
        "- Cannot handle well fresh users with no relations to other users.\n",
        "\n",
        "\n"
      ]
    },
    {
      "cell_type": "markdown",
      "metadata": {
        "id": "eBFTRXNPTemp"
      },
      "source": [
        "<a id=\"data\"></a>\n",
        "# 2. **Data Collection**"
      ]
    },
    {
      "cell_type": "markdown",
      "metadata": {
        "id": "Mq5-1ZQDTemp"
      },
      "source": [
        "## **Import Libraries**"
      ]
    },
    {
      "cell_type": "code",
      "execution_count": 1,
      "metadata": {
        "colab": {
          "base_uri": "https://localhost:8080/",
          "height": 1000
        },
        "id": "EoAMG4MbTemq",
        "outputId": "eef7f7a3-3850-43df-f87b-a3fd6cab56ae"
      },
      "outputs": [
        {
          "output_type": "stream",
          "name": "stdout",
          "text": [
            "Collecting comet_ml\n",
            "  Downloading comet_ml-3.25.0-py2.py3-none-any.whl (315 kB)\n",
            "\u001b[?25l\r\u001b[K     |█                               | 10 kB 21.0 MB/s eta 0:00:01\r\u001b[K     |██                              | 20 kB 10.8 MB/s eta 0:00:01\r\u001b[K     |███▏                            | 30 kB 8.5 MB/s eta 0:00:01\r\u001b[K     |████▏                           | 40 kB 7.7 MB/s eta 0:00:01\r\u001b[K     |█████▏                          | 51 kB 4.3 MB/s eta 0:00:01\r\u001b[K     |██████▎                         | 61 kB 4.6 MB/s eta 0:00:01\r\u001b[K     |███████▎                        | 71 kB 4.4 MB/s eta 0:00:01\r\u001b[K     |████████▎                       | 81 kB 5.0 MB/s eta 0:00:01\r\u001b[K     |█████████▍                      | 92 kB 5.2 MB/s eta 0:00:01\r\u001b[K     |██████████▍                     | 102 kB 4.4 MB/s eta 0:00:01\r\u001b[K     |███████████▍                    | 112 kB 4.4 MB/s eta 0:00:01\r\u001b[K     |████████████▌                   | 122 kB 4.4 MB/s eta 0:00:01\r\u001b[K     |█████████████▌                  | 133 kB 4.4 MB/s eta 0:00:01\r\u001b[K     |██████████████▌                 | 143 kB 4.4 MB/s eta 0:00:01\r\u001b[K     |███████████████▋                | 153 kB 4.4 MB/s eta 0:00:01\r\u001b[K     |████████████████▋               | 163 kB 4.4 MB/s eta 0:00:01\r\u001b[K     |█████████████████▋              | 174 kB 4.4 MB/s eta 0:00:01\r\u001b[K     |██████████████████▊             | 184 kB 4.4 MB/s eta 0:00:01\r\u001b[K     |███████████████████▊            | 194 kB 4.4 MB/s eta 0:00:01\r\u001b[K     |████████████████████▊           | 204 kB 4.4 MB/s eta 0:00:01\r\u001b[K     |█████████████████████▉          | 215 kB 4.4 MB/s eta 0:00:01\r\u001b[K     |██████████████████████▉         | 225 kB 4.4 MB/s eta 0:00:01\r\u001b[K     |███████████████████████▉        | 235 kB 4.4 MB/s eta 0:00:01\r\u001b[K     |█████████████████████████       | 245 kB 4.4 MB/s eta 0:00:01\r\u001b[K     |██████████████████████████      | 256 kB 4.4 MB/s eta 0:00:01\r\u001b[K     |███████████████████████████     | 266 kB 4.4 MB/s eta 0:00:01\r\u001b[K     |████████████████████████████    | 276 kB 4.4 MB/s eta 0:00:01\r\u001b[K     |█████████████████████████████   | 286 kB 4.4 MB/s eta 0:00:01\r\u001b[K     |██████████████████████████████  | 296 kB 4.4 MB/s eta 0:00:01\r\u001b[K     |███████████████████████████████▏| 307 kB 4.4 MB/s eta 0:00:01\r\u001b[K     |████████████████████████████████| 315 kB 4.4 MB/s \n",
            "\u001b[?25hCollecting wurlitzer>=1.0.2\n",
            "  Downloading wurlitzer-3.0.2-py3-none-any.whl (7.3 kB)\n",
            "Requirement already satisfied: wrapt>=1.11.2 in /usr/local/lib/python3.7/dist-packages (from comet_ml) (1.13.3)\n",
            "Collecting dulwich>=0.20.6\n",
            "  Downloading dulwich-0.20.32-cp37-cp37m-manylinux_2_5_x86_64.manylinux1_x86_64.manylinux_2_12_x86_64.manylinux2010_x86_64.whl (548 kB)\n",
            "\u001b[K     |████████████████████████████████| 548 kB 33.7 MB/s \n",
            "\u001b[?25hCollecting semantic-version>=2.8.0\n",
            "  Downloading semantic_version-2.8.5-py2.py3-none-any.whl (15 kB)\n",
            "Collecting websocket-client>=0.55.0\n",
            "  Downloading websocket_client-1.2.3-py3-none-any.whl (53 kB)\n",
            "\u001b[K     |████████████████████████████████| 53 kB 2.0 MB/s \n",
            "\u001b[?25hCollecting everett[ini]>=1.0.1\n",
            "  Downloading everett-3.0.0-py2.py3-none-any.whl (35 kB)\n",
            "Requirement already satisfied: jsonschema!=3.1.0,>=2.6.0 in /usr/local/lib/python3.7/dist-packages (from comet_ml) (4.3.3)\n",
            "Collecting requests-toolbelt>=0.8.0\n",
            "  Downloading requests_toolbelt-0.9.1-py2.py3-none-any.whl (54 kB)\n",
            "\u001b[K     |████████████████████████████████| 54 kB 2.7 MB/s \n",
            "\u001b[?25hRequirement already satisfied: nvidia-ml-py3>=7.352.0 in /usr/local/lib/python3.7/dist-packages (from comet_ml) (7.352.0)\n",
            "Requirement already satisfied: requests>=2.18.4 in /usr/local/lib/python3.7/dist-packages (from comet_ml) (2.23.0)\n",
            "Requirement already satisfied: six in /usr/local/lib/python3.7/dist-packages (from comet_ml) (1.15.0)\n",
            "Requirement already satisfied: certifi in /usr/local/lib/python3.7/dist-packages (from dulwich>=0.20.6->comet_ml) (2021.10.8)\n",
            "Requirement already satisfied: urllib3>=1.24.1 in /usr/local/lib/python3.7/dist-packages (from dulwich>=0.20.6->comet_ml) (1.24.3)\n",
            "Collecting configobj\n",
            "  Downloading configobj-5.0.6.tar.gz (33 kB)\n",
            "Requirement already satisfied: pyrsistent!=0.17.0,!=0.17.1,!=0.17.2,>=0.14.0 in /usr/local/lib/python3.7/dist-packages (from jsonschema!=3.1.0,>=2.6.0->comet_ml) (0.18.1)\n",
            "Requirement already satisfied: typing-extensions in /usr/local/lib/python3.7/dist-packages (from jsonschema!=3.1.0,>=2.6.0->comet_ml) (3.10.0.2)\n",
            "Requirement already satisfied: importlib-resources>=1.4.0 in /usr/local/lib/python3.7/dist-packages (from jsonschema!=3.1.0,>=2.6.0->comet_ml) (5.4.0)\n",
            "Requirement already satisfied: attrs>=17.4.0 in /usr/local/lib/python3.7/dist-packages (from jsonschema!=3.1.0,>=2.6.0->comet_ml) (21.4.0)\n",
            "Requirement already satisfied: importlib-metadata in /usr/local/lib/python3.7/dist-packages (from jsonschema!=3.1.0,>=2.6.0->comet_ml) (4.10.1)\n",
            "Requirement already satisfied: zipp>=3.1.0 in /usr/local/lib/python3.7/dist-packages (from importlib-resources>=1.4.0->jsonschema!=3.1.0,>=2.6.0->comet_ml) (3.7.0)\n",
            "Requirement already satisfied: chardet<4,>=3.0.2 in /usr/local/lib/python3.7/dist-packages (from requests>=2.18.4->comet_ml) (3.0.4)\n",
            "Requirement already satisfied: idna<3,>=2.5 in /usr/local/lib/python3.7/dist-packages (from requests>=2.18.4->comet_ml) (2.10)\n",
            "Building wheels for collected packages: configobj\n",
            "  Building wheel for configobj (setup.py) ... \u001b[?25l\u001b[?25hdone\n",
            "  Created wheel for configobj: filename=configobj-5.0.6-py3-none-any.whl size=34547 sha256=2c0771110525d8146103a2f61ecb370eefbb47bc1f0e932688dff1ccb21b2040\n",
            "  Stored in directory: /root/.cache/pip/wheels/0d/c4/19/13d74440f2a571841db6b6e0a273694327498884dafb9cf978\n",
            "Successfully built configobj\n",
            "Installing collected packages: everett, configobj, wurlitzer, websocket-client, semantic-version, requests-toolbelt, dulwich, comet-ml\n",
            "Successfully installed comet-ml-3.25.0 configobj-5.0.6 dulwich-0.20.32 everett-3.0.0 requests-toolbelt-0.9.1 semantic-version-2.8.5 websocket-client-1.2.3 wurlitzer-3.0.2\n",
            "Collecting surprise\n",
            "  Downloading surprise-0.1-py2.py3-none-any.whl (1.8 kB)\n",
            "Collecting scikit-surprise\n",
            "  Downloading scikit-surprise-1.1.1.tar.gz (11.8 MB)\n",
            "\u001b[K     |████████████████████████████████| 11.8 MB 4.3 MB/s \n",
            "\u001b[?25hRequirement already satisfied: joblib>=0.11 in /usr/local/lib/python3.7/dist-packages (from scikit-surprise->surprise) (1.1.0)\n",
            "Requirement already satisfied: numpy>=1.11.2 in /usr/local/lib/python3.7/dist-packages (from scikit-surprise->surprise) (1.19.5)\n",
            "Requirement already satisfied: scipy>=1.0.0 in /usr/local/lib/python3.7/dist-packages (from scikit-surprise->surprise) (1.4.1)\n",
            "Requirement already satisfied: six>=1.10.0 in /usr/local/lib/python3.7/dist-packages (from scikit-surprise->surprise) (1.15.0)\n",
            "Building wheels for collected packages: scikit-surprise\n",
            "  Building wheel for scikit-surprise (setup.py) ... \u001b[?25l\u001b[?25hdone\n",
            "  Created wheel for scikit-surprise: filename=scikit_surprise-1.1.1-cp37-cp37m-linux_x86_64.whl size=1623248 sha256=2278100ac5e5ec4910b981a2ce4f4659881ed02f67ab4fe232ec9ad3b871a5af\n",
            "  Stored in directory: /root/.cache/pip/wheels/76/44/74/b498c42be47b2406bd27994e16c5188e337c657025ab400c1c\n",
            "Successfully built scikit-surprise\n",
            "Installing collected packages: scikit-surprise, surprise\n",
            "Successfully installed scikit-surprise-1.1.1 surprise-0.1\n",
            "Collecting recmetrics\n",
            "  Downloading recmetrics-0.1.0-py3-none-any.whl (9.3 kB)\n",
            "Requirement already satisfied: scikit-surprise<2.0.0,>=1.1.1 in /usr/local/lib/python3.7/dist-packages (from recmetrics) (1.1.1)\n",
            "Requirement already satisfied: seaborn<0.12.0,>=0.11.0 in /usr/local/lib/python3.7/dist-packages (from recmetrics) (0.11.2)\n",
            "Collecting matplotlib<4.0.0,>=3.3.2\n",
            "  Downloading matplotlib-3.5.1-cp37-cp37m-manylinux_2_5_x86_64.manylinux1_x86_64.whl (11.2 MB)\n",
            "\u001b[K     |████████████████████████████████| 11.2 MB 4.1 MB/s \n",
            "\u001b[?25hRequirement already satisfied: pandas<2.0.0,>=1.1.3 in /usr/local/lib/python3.7/dist-packages (from recmetrics) (1.3.5)\n",
            "Collecting plotly<5.0.0,>=4.11.0\n",
            "  Downloading plotly-4.14.3-py2.py3-none-any.whl (13.2 MB)\n",
            "\u001b[K     |████████████████████████████████| 13.2 MB 19.0 MB/s \n",
            "\u001b[?25hCollecting funcsigs<2.0.0,>=1.0.2\n",
            "  Downloading funcsigs-1.0.2-py2.py3-none-any.whl (17 kB)\n",
            "Collecting ipython<8.0.0,>=7.18.1\n",
            "  Downloading ipython-7.31.1-py3-none-any.whl (792 kB)\n",
            "\u001b[K     |████████████████████████████████| 792 kB 55.1 MB/s \n",
            "\u001b[?25hCollecting pytest-cov<3.0.0,>=2.10.1\n",
            "  Downloading pytest_cov-2.12.1-py2.py3-none-any.whl (20 kB)\n",
            "Collecting scipy<2.0.0,>=1.5.2\n",
            "  Downloading scipy-1.7.3-cp37-cp37m-manylinux_2_12_x86_64.manylinux2010_x86_64.whl (38.1 MB)\n",
            "\u001b[K     |████████████████████████████████| 38.1 MB 1.2 MB/s \n",
            "\u001b[?25hCollecting scikit-learn<0.24.0,>=0.23.2\n",
            "  Downloading scikit_learn-0.23.2-cp37-cp37m-manylinux1_x86_64.whl (6.8 MB)\n",
            "\u001b[K     |████████████████████████████████| 6.8 MB 40.3 MB/s \n",
            "\u001b[?25hRequirement already satisfied: decorator in /usr/local/lib/python3.7/dist-packages (from ipython<8.0.0,>=7.18.1->recmetrics) (4.4.2)\n",
            "Requirement already satisfied: pickleshare in /usr/local/lib/python3.7/dist-packages (from ipython<8.0.0,>=7.18.1->recmetrics) (0.7.5)\n",
            "Collecting prompt-toolkit!=3.0.0,!=3.0.1,<3.1.0,>=2.0.0\n",
            "  Downloading prompt_toolkit-3.0.26-py3-none-any.whl (375 kB)\n",
            "\u001b[K     |████████████████████████████████| 375 kB 45.6 MB/s \n",
            "\u001b[?25hRequirement already satisfied: backcall in /usr/local/lib/python3.7/dist-packages (from ipython<8.0.0,>=7.18.1->recmetrics) (0.2.0)\n",
            "Requirement already satisfied: pygments in /usr/local/lib/python3.7/dist-packages (from ipython<8.0.0,>=7.18.1->recmetrics) (2.6.1)\n",
            "Requirement already satisfied: matplotlib-inline in /usr/local/lib/python3.7/dist-packages (from ipython<8.0.0,>=7.18.1->recmetrics) (0.1.3)\n",
            "Requirement already satisfied: jedi>=0.16 in /usr/local/lib/python3.7/dist-packages (from ipython<8.0.0,>=7.18.1->recmetrics) (0.18.1)\n",
            "Requirement already satisfied: traitlets>=4.2 in /usr/local/lib/python3.7/dist-packages (from ipython<8.0.0,>=7.18.1->recmetrics) (5.1.1)\n",
            "Requirement already satisfied: pexpect>4.3 in /usr/local/lib/python3.7/dist-packages (from ipython<8.0.0,>=7.18.1->recmetrics) (4.8.0)\n",
            "Requirement already satisfied: setuptools>=18.5 in /usr/local/lib/python3.7/dist-packages (from ipython<8.0.0,>=7.18.1->recmetrics) (57.4.0)\n",
            "Requirement already satisfied: parso<0.9.0,>=0.8.0 in /usr/local/lib/python3.7/dist-packages (from jedi>=0.16->ipython<8.0.0,>=7.18.1->recmetrics) (0.8.3)\n",
            "Requirement already satisfied: pyparsing>=2.2.1 in /usr/local/lib/python3.7/dist-packages (from matplotlib<4.0.0,>=3.3.2->recmetrics) (3.0.7)\n",
            "Requirement already satisfied: cycler>=0.10 in /usr/local/lib/python3.7/dist-packages (from matplotlib<4.0.0,>=3.3.2->recmetrics) (0.11.0)\n",
            "Requirement already satisfied: kiwisolver>=1.0.1 in /usr/local/lib/python3.7/dist-packages (from matplotlib<4.0.0,>=3.3.2->recmetrics) (1.3.2)\n",
            "Requirement already satisfied: pillow>=6.2.0 in /usr/local/lib/python3.7/dist-packages (from matplotlib<4.0.0,>=3.3.2->recmetrics) (7.1.2)\n",
            "Requirement already satisfied: numpy>=1.17 in /usr/local/lib/python3.7/dist-packages (from matplotlib<4.0.0,>=3.3.2->recmetrics) (1.19.5)\n",
            "Requirement already satisfied: packaging>=20.0 in /usr/local/lib/python3.7/dist-packages (from matplotlib<4.0.0,>=3.3.2->recmetrics) (21.3)\n",
            "Collecting fonttools>=4.22.0\n",
            "  Downloading fonttools-4.29.1-py3-none-any.whl (895 kB)\n",
            "\u001b[K     |████████████████████████████████| 895 kB 61.1 MB/s \n",
            "\u001b[?25hRequirement already satisfied: python-dateutil>=2.7 in /usr/local/lib/python3.7/dist-packages (from matplotlib<4.0.0,>=3.3.2->recmetrics) (2.8.2)\n",
            "Requirement already satisfied: pytz>=2017.3 in /usr/local/lib/python3.7/dist-packages (from pandas<2.0.0,>=1.1.3->recmetrics) (2018.9)\n",
            "Requirement already satisfied: ptyprocess>=0.5 in /usr/local/lib/python3.7/dist-packages (from pexpect>4.3->ipython<8.0.0,>=7.18.1->recmetrics) (0.7.0)\n",
            "Requirement already satisfied: six in /usr/local/lib/python3.7/dist-packages (from plotly<5.0.0,>=4.11.0->recmetrics) (1.15.0)\n",
            "Collecting retrying>=1.3.3\n",
            "  Downloading retrying-1.3.3.tar.gz (10 kB)\n",
            "Requirement already satisfied: wcwidth in /usr/local/lib/python3.7/dist-packages (from prompt-toolkit!=3.0.0,!=3.0.1,<3.1.0,>=2.0.0->ipython<8.0.0,>=7.18.1->recmetrics) (0.2.5)\n",
            "Collecting coverage>=5.2.1\n",
            "  Downloading coverage-6.3.1-cp37-cp37m-manylinux_2_5_x86_64.manylinux1_x86_64.manylinux_2_17_x86_64.manylinux2014_x86_64.whl (207 kB)\n",
            "\u001b[K     |████████████████████████████████| 207 kB 63.5 MB/s \n",
            "\u001b[?25hCollecting pytest>=4.6\n",
            "  Downloading pytest-6.2.5-py3-none-any.whl (280 kB)\n",
            "\u001b[K     |████████████████████████████████| 280 kB 61.2 MB/s \n",
            "\u001b[?25hRequirement already satisfied: toml in /usr/local/lib/python3.7/dist-packages (from pytest-cov<3.0.0,>=2.10.1->recmetrics) (0.10.2)\n",
            "Requirement already satisfied: attrs>=19.2.0 in /usr/local/lib/python3.7/dist-packages (from pytest>=4.6->pytest-cov<3.0.0,>=2.10.1->recmetrics) (21.4.0)\n",
            "Requirement already satisfied: iniconfig in /usr/local/lib/python3.7/dist-packages (from pytest>=4.6->pytest-cov<3.0.0,>=2.10.1->recmetrics) (1.1.1)\n",
            "Requirement already satisfied: py>=1.8.2 in /usr/local/lib/python3.7/dist-packages (from pytest>=4.6->pytest-cov<3.0.0,>=2.10.1->recmetrics) (1.11.0)\n",
            "Requirement already satisfied: importlib-metadata>=0.12 in /usr/local/lib/python3.7/dist-packages (from pytest>=4.6->pytest-cov<3.0.0,>=2.10.1->recmetrics) (4.10.1)\n",
            "Collecting pluggy<2.0,>=0.12\n",
            "  Downloading pluggy-1.0.0-py2.py3-none-any.whl (13 kB)\n",
            "Requirement already satisfied: typing-extensions>=3.6.4 in /usr/local/lib/python3.7/dist-packages (from importlib-metadata>=0.12->pytest>=4.6->pytest-cov<3.0.0,>=2.10.1->recmetrics) (3.10.0.2)\n",
            "Requirement already satisfied: zipp>=0.5 in /usr/local/lib/python3.7/dist-packages (from importlib-metadata>=0.12->pytest>=4.6->pytest-cov<3.0.0,>=2.10.1->recmetrics) (3.7.0)\n",
            "Requirement already satisfied: threadpoolctl>=2.0.0 in /usr/local/lib/python3.7/dist-packages (from scikit-learn<0.24.0,>=0.23.2->recmetrics) (3.0.0)\n",
            "Requirement already satisfied: joblib>=0.11 in /usr/local/lib/python3.7/dist-packages (from scikit-learn<0.24.0,>=0.23.2->recmetrics) (1.1.0)\n",
            "Building wheels for collected packages: retrying\n",
            "  Building wheel for retrying (setup.py) ... \u001b[?25l\u001b[?25hdone\n",
            "  Created wheel for retrying: filename=retrying-1.3.3-py3-none-any.whl size=11447 sha256=c36f089f807584355ecd43d78204ce44b347c08e12cddcaea6cde513c3c65090\n",
            "  Stored in directory: /root/.cache/pip/wheels/f9/8d/8d/f6af3f7f9eea3553bc2fe6d53e4b287dad18b06a861ac56ddf\n",
            "Successfully built retrying\n",
            "Installing collected packages: pluggy, fonttools, scipy, retrying, pytest, prompt-toolkit, matplotlib, coverage, scikit-learn, pytest-cov, plotly, ipython, funcsigs, recmetrics\n",
            "  Attempting uninstall: pluggy\n",
            "    Found existing installation: pluggy 0.7.1\n",
            "    Uninstalling pluggy-0.7.1:\n",
            "      Successfully uninstalled pluggy-0.7.1\n",
            "  Attempting uninstall: scipy\n",
            "    Found existing installation: scipy 1.4.1\n",
            "    Uninstalling scipy-1.4.1:\n",
            "      Successfully uninstalled scipy-1.4.1\n",
            "  Attempting uninstall: pytest\n",
            "    Found existing installation: pytest 3.6.4\n",
            "    Uninstalling pytest-3.6.4:\n",
            "      Successfully uninstalled pytest-3.6.4\n",
            "  Attempting uninstall: prompt-toolkit\n",
            "    Found existing installation: prompt-toolkit 1.0.18\n",
            "    Uninstalling prompt-toolkit-1.0.18:\n",
            "      Successfully uninstalled prompt-toolkit-1.0.18\n",
            "  Attempting uninstall: matplotlib\n",
            "    Found existing installation: matplotlib 3.2.2\n",
            "    Uninstalling matplotlib-3.2.2:\n",
            "      Successfully uninstalled matplotlib-3.2.2\n",
            "  Attempting uninstall: coverage\n",
            "    Found existing installation: coverage 3.7.1\n",
            "    Uninstalling coverage-3.7.1:\n",
            "      Successfully uninstalled coverage-3.7.1\n",
            "  Attempting uninstall: scikit-learn\n",
            "    Found existing installation: scikit-learn 1.0.2\n",
            "    Uninstalling scikit-learn-1.0.2:\n",
            "      Successfully uninstalled scikit-learn-1.0.2\n",
            "  Attempting uninstall: plotly\n",
            "    Found existing installation: plotly 5.5.0\n",
            "    Uninstalling plotly-5.5.0:\n",
            "      Successfully uninstalled plotly-5.5.0\n",
            "  Attempting uninstall: ipython\n",
            "    Found existing installation: ipython 5.5.0\n",
            "    Uninstalling ipython-5.5.0:\n",
            "      Successfully uninstalled ipython-5.5.0\n",
            "\u001b[31mERROR: pip's dependency resolver does not currently take into account all the packages that are installed. This behaviour is the source of the following dependency conflicts.\n",
            "jupyter-console 5.2.0 requires prompt-toolkit<2.0.0,>=1.0.0, but you have prompt-toolkit 3.0.26 which is incompatible.\n",
            "imbalanced-learn 0.8.1 requires scikit-learn>=0.24, but you have scikit-learn 0.23.2 which is incompatible.\n",
            "google-colab 1.0.0 requires ipython~=5.5.0, but you have ipython 7.31.1 which is incompatible.\n",
            "datascience 0.10.6 requires coverage==3.7.1, but you have coverage 6.3.1 which is incompatible.\n",
            "datascience 0.10.6 requires folium==0.2.1, but you have folium 0.8.3 which is incompatible.\n",
            "coveralls 0.5 requires coverage<3.999,>=3.6, but you have coverage 6.3.1 which is incompatible.\n",
            "albumentations 0.1.12 requires imgaug<0.2.7,>=0.2.5, but you have imgaug 0.2.9 which is incompatible.\u001b[0m\n",
            "Successfully installed coverage-6.3.1 fonttools-4.29.1 funcsigs-1.0.2 ipython-7.31.1 matplotlib-3.5.1 plotly-4.14.3 pluggy-1.0.0 prompt-toolkit-3.0.26 pytest-6.2.5 pytest-cov-2.12.1 recmetrics-0.1.0 retrying-1.3.3 scikit-learn-0.23.2 scipy-1.7.3\n"
          ]
        },
        {
          "output_type": "display_data",
          "data": {
            "application/vnd.colab-display-data+json": {
              "pip_warning": {
                "packages": [
                  "IPython",
                  "matplotlib",
                  "mpl_toolkits",
                  "prompt_toolkit"
                ]
              }
            }
          },
          "metadata": {}
        }
      ],
      "source": [
        "%pip install comet_ml\n",
        "%pip install surprise\n",
        "%pip install recmetrics"
      ]
    },
    {
      "cell_type": "code",
      "execution_count": null,
      "metadata": {
        "colab": {
          "base_uri": "https://localhost:8080/"
        },
        "execution": {
          "iopub.execute_input": "2022-01-12T15:45:14.612784Z",
          "iopub.status.busy": "2022-01-12T15:45:14.611982Z",
          "iopub.status.idle": "2022-01-12T15:45:14.617015Z",
          "shell.execute_reply": "2022-01-12T15:45:14.616196Z",
          "shell.execute_reply.started": "2022-01-12T15:45:14.612744Z"
        },
        "id": "QQGZ7vbrTemr",
        "outputId": "99ffb508-18ad-4dc1-d67f-9a105609f9d0"
      },
      "outputs": [
        {
          "name": "stderr",
          "output_type": "stream",
          "text": [
            "COMET WARNING: As you are running in a Jupyter environment, you will need to call `experiment.end()` when finished to ensure all metrics and code are logged before exiting.\n",
            "COMET INFO: Couldn't find a Git repository in '/content' nor in any parent directory. You can override where Comet is looking for a Git Patch by setting the configuration `COMET_GIT_DIRECTORY`\n",
            "COMET INFO: Experiment is live on comet.ml https://www.comet.ml/kwanda2426/streamlit-based-movie-recommender-system/b06b618048fa40729db7ea484aa2ed46\n",
            "\n"
          ]
        }
      ],
      "source": [
        "# import comet_ml at the top of your file\n",
        "from comet_ml import Experiment\n",
        "\n",
        "# Create an experiment with your api key\n",
        "experiment = Experiment(\n",
        "    api_key=\"cDBGt9YOCyyinNTUvxRUB3hxd\",\n",
        "    project_name=\"streamlit-based-movie-recommender-system\",\n",
        "    workspace=\"kwanda2426\",\n",
        ")"
      ]
    },
    {
      "cell_type": "markdown",
      "metadata": {
        "id": "jaaHNd5ZTemt"
      },
      "source": [
        "We use comet to run different experiments while saving the important hyperparameter settings."
      ]
    },
    {
      "cell_type": "code",
      "execution_count": 1,
      "metadata": {
        "execution": {
          "iopub.execute_input": "2022-01-12T15:45:14.618797Z",
          "iopub.status.busy": "2022-01-12T15:45:14.618331Z",
          "iopub.status.idle": "2022-01-12T15:45:14.638883Z",
          "shell.execute_reply": "2022-01-12T15:45:14.637944Z",
          "shell.execute_reply.started": "2022-01-12T15:45:14.618750Z"
        },
        "id": "QxiTHtj8Temu"
      },
      "outputs": [],
      "source": [
        "\n",
        "# Data manipulation\n",
        "import pandas as pd\n",
        "import numpy as np\n",
        "\n",
        "# datetime\n",
        "import datetime\n",
        "\n",
        "# Libraries for data preparation and model building\n",
        "import seaborn as sns\n",
        "import matplotlib.pyplot as plt\n",
        "\n",
        "from sklearn.feature_extraction.text import TfidfVectorizer\n",
        "from sklearn.feature_extraction.text import CountVectorizer\n",
        "from sklearn.metrics.pairwise import cosine_similarity\n",
        "from sklearn.metrics.pairwise import linear_kernel\n",
        "\n",
        "from surprise.reader import Reader\n",
        "from surprise.dataset import Dataset\n",
        "from surprise import SVD, SVDpp, SlopeOne, NMF, NormalPredictor\n",
        "from surprise import KNNBaseline, KNNBasic, KNNWithMeans, KNNWithZScore\n",
        "from surprise import BaselineOnly, CoClustering\n",
        "from surprise.model_selection import cross_validate, train_test_split\n",
        "from surprise import accuracy\n",
        "import recmetrics\n",
        "from sklearn.preprocessing import MaxAbsScaler\n",
        "from surprise.accuracy import rmse\n",
        "import plotly.express as px\n",
        "import plotly.graph_objects as go\n",
        "import matplotlib.pyplot as plt\n",
        "import seaborn as sns\n",
        "# saving model\n",
        "import pickle\n",
        "\n",
        "#ignoring warnings\n",
        "import warnings\n",
        "warnings.filterwarnings('ignore')\n",
        "%matplotlib inline\n",
        "\n",
        "#making sure that we can see all rows and cols\n",
        "pd.set_option('display.max_columns', None)\n",
        "\n",
        "pd.set_option('display.max_rows', None)"
      ]
    },
    {
      "cell_type": "markdown",
      "metadata": {
        "id": "CUiICh_RTemu"
      },
      "source": [
        "### **Loading Data**"
      ]
    },
    {
      "cell_type": "code",
      "execution_count": 3,
      "metadata": {
        "colab": {
          "base_uri": "https://localhost:8080/"
        },
        "id": "83EpWSbSUfjF",
        "outputId": "71a4da7c-5171-48b9-f21d-6e6ab0f94bd5"
      },
      "outputs": [
        {
          "output_type": "stream",
          "name": "stdout",
          "text": [
            "Drive already mounted at /content/drive; to attempt to forcibly remount, call drive.mount(\"/content/drive\", force_remount=True).\n"
          ]
        }
      ],
      "source": [
        "from google.colab import drive\n",
        "drive.mount('/content/drive')"
      ]
    },
    {
      "cell_type": "markdown",
      "metadata": {
        "id": "OrGAhBGnTemv"
      },
      "source": [
        "The basic process of loading data from a CSV file into a Pandas DataFrame (with all going well) is achieved using the “read_csv” function in Pandas."
      ]
    },
    {
      "cell_type": "code",
      "execution_count": 15,
      "metadata": {
        "execution": {
          "iopub.execute_input": "2022-01-12T15:45:14.641227Z",
          "iopub.status.busy": "2022-01-12T15:45:14.640362Z",
          "iopub.status.idle": "2022-01-12T15:45:15.532785Z",
          "shell.execute_reply": "2022-01-12T15:45:15.531734Z",
          "shell.execute_reply.started": "2022-01-12T15:45:14.641153Z"
        },
        "id": "JFibvO4ITemv"
      },
      "outputs": [],
      "source": [
        "# imdb\n",
        "imdb_df = pd.read_csv('/content/drive/MyDrive/data /imdb_data.csv')\n",
        "\n",
        "# movies\n",
        "movies_df = pd.read_csv('/content/drive/MyDrive/data /movies.csv')\n",
        "\n",
        "# tags \n",
        "tags_df = pd.read_csv('//content/drive/MyDrive/data /tags.csv')\n",
        "\n",
        "# train \n",
        "train = pd.read_csv('/content/drive/MyDrive/data /train.csv')\n",
        "\n",
        "# test\n",
        "test = pd.read_csv('/content/drive/MyDrive/data /test.csv')\n",
        "\n",
        "#links\n",
        "links = pd.read_csv('/content/drive/MyDrive/data /links.csv')\n",
        "\n",
        "#genome scores\n",
        "g_scores = pd.read_csv('/content/drive/MyDrive/data /genome_scores.csv')\n",
        "\n",
        "#genome tags\n",
        "g_tags = pd.read_csv('/content/drive/MyDrive/data /genome_tags.csv')\n"
      ]
    },
    {
      "cell_type": "markdown",
      "metadata": {
        "id": "Mt3nwtD9Temw"
      },
      "source": [
        "#### Data overview"
      ]
    },
    {
      "cell_type": "markdown",
      "metadata": {
        "id": "WdB3NajVTemw"
      },
      "source": [
        "This gives an overview of the dataset that is more interesting than the others, i.e imdb, movies, train and test datasets."
      ]
    },
    {
      "cell_type": "markdown",
      "metadata": {
        "id": "rhF0WTNhTemw"
      },
      "source": [
        "**IMDB Dataset**"
      ]
    },
    {
      "cell_type": "code",
      "execution_count": null,
      "metadata": {
        "colab": {
          "base_uri": "https://localhost:8080/"
        },
        "id": "Iuojnz3VTemw",
        "outputId": "154d6b17-0032-4b8f-ee77-e101d0dbf646"
      },
      "outputs": [
        {
          "output_type": "stream",
          "name": "stdout",
          "text": [
            "Rows    :  27278\n",
            "Columns :  6\n",
            "\n",
            "Missing values:  62481\n",
            "\n",
            "Information about the data: \n",
            "<class 'pandas.core.frame.DataFrame'>\n",
            "RangeIndex: 27278 entries, 0 to 27277\n",
            "Data columns (total 6 columns):\n",
            " #   Column         Non-Null Count  Dtype  \n",
            "---  ------         --------------  -----  \n",
            " 0   movieId        27278 non-null  int64  \n",
            " 1   title_cast     17210 non-null  object \n",
            " 2   director       17404 non-null  object \n",
            " 3   runtime        15189 non-null  float64\n",
            " 4   budget         7906 non-null   object \n",
            " 5   plot_keywords  16200 non-null  object \n",
            "dtypes: float64(1), int64(1), object(4)\n",
            "memory usage: 1.2+ MB\n",
            "  \n",
            " None\n",
            "\n",
            "About the data: \n",
            "\n",
            "Feature 'movieId' has 27278 unique categories\n",
            "Feature 'title_cast' has 17144 unique categories\n",
            "Feature 'director' has 11787 unique categories\n",
            "Feature 'runtime' has 275 unique categories\n",
            "Feature 'budget' has 1363 unique categories\n",
            "Feature 'plot_keywords' has 16009 unique categories\n"
          ]
        }
      ],
      "source": [
        "# Checking how our imdb dataset looks like\n",
        "print(\"Rows    : \", imdb_df.shape[0])\n",
        "\n",
        "print(\"Columns : \", imdb_df.shape[1])\n",
        "\n",
        "print(\"\\nMissing values: \", imdb_df.isnull().sum().values.sum())\n",
        "\n",
        "print(\"\\nInformation about the data: \")\n",
        "print(\"  \\n\", imdb_df.info())\n",
        " \n",
        "print(\"\\nAbout the data: \\n\")\n",
        "\n",
        "# Check how many unique items are in each column of the dateframe\n",
        "for col_name in imdb_df.columns:\n",
        "    unique_out = len(imdb_df[col_name].unique())\n",
        "    print(f\"Feature '{col_name}' has {unique_out} unique categories\") "
      ]
    },
    {
      "cell_type": "markdown",
      "source": [
        "**Movies Dataset**"
      ],
      "metadata": {
        "id": "F5yJXnnrhpTz"
      }
    },
    {
      "cell_type": "code",
      "execution_count": null,
      "metadata": {
        "colab": {
          "base_uri": "https://localhost:8080/"
        },
        "id": "aCKUEHD3Temx",
        "outputId": "2e521792-75f1-44b4-fd7e-c504b1a3cfe4"
      },
      "outputs": [
        {
          "output_type": "stream",
          "name": "stdout",
          "text": [
            "Rows    :  62423\n",
            "Columns :  3\n",
            "\n",
            "Missing values:  movieId    0\n",
            "title      0\n",
            "genres     0\n",
            "dtype: int64\n",
            "\n",
            "Information about the data: \n",
            "<class 'pandas.core.frame.DataFrame'>\n",
            "RangeIndex: 62423 entries, 0 to 62422\n",
            "Data columns (total 3 columns):\n",
            " #   Column   Non-Null Count  Dtype \n",
            "---  ------   --------------  ----- \n",
            " 0   movieId  62423 non-null  int64 \n",
            " 1   title    62423 non-null  object\n",
            " 2   genres   62423 non-null  object\n",
            "dtypes: int64(1), object(2)\n",
            "memory usage: 1.4+ MB\n",
            "  \n",
            " None\n",
            "\n",
            "About the data: \n",
            "\n",
            "Feature 'movieId' has 62423 unique categories\n",
            "Feature 'title' has 62325 unique categories\n",
            "Feature 'genres' has 1639 unique categories\n"
          ]
        }
      ],
      "source": [
        "# Checking how our movies dataset looks like\n",
        "print(\"Rows    : \", movies_df.shape[0])\n",
        "\n",
        "print(\"Columns : \", movies_df.shape[1])\n",
        "\n",
        "print(\"\\nMissing values: \", movies_df.isnull().sum())\n",
        "\n",
        "print(\"\\nInformation about the data: \")\n",
        "print(\"  \\n\", movies_df.info())\n",
        " \n",
        "print(\"\\nAbout the data: \\n\")\n",
        "\n",
        "# Check how many unique items are in each column of the dateframe\n",
        "for col_name in movies_df.columns:\n",
        "    unique_out = len(movies_df[col_name].unique())\n",
        "    print(f\"Feature '{col_name}' has {unique_out} unique categories\") "
      ]
    },
    {
      "cell_type": "markdown",
      "source": [
        "**Tags Dataset**"
      ],
      "metadata": {
        "id": "6UP3V4fYh4Z4"
      }
    },
    {
      "cell_type": "code",
      "execution_count": null,
      "metadata": {
        "colab": {
          "base_uri": "https://localhost:8080/"
        },
        "id": "0L679zh4Temx",
        "outputId": "52717edf-51ff-4ebe-b55d-ffaaee2f058f"
      },
      "outputs": [
        {
          "output_type": "stream",
          "name": "stdout",
          "text": [
            "Rows    :  1093360\n",
            "Columns :  4\n",
            "\n",
            "Missing values:  userId        0\n",
            "movieId       0\n",
            "tag          16\n",
            "timestamp     0\n",
            "dtype: int64\n",
            "\n",
            "Information about the data: \n",
            "<class 'pandas.core.frame.DataFrame'>\n",
            "RangeIndex: 1093360 entries, 0 to 1093359\n",
            "Data columns (total 4 columns):\n",
            " #   Column     Non-Null Count    Dtype \n",
            "---  ------     --------------    ----- \n",
            " 0   userId     1093360 non-null  int64 \n",
            " 1   movieId    1093360 non-null  int64 \n",
            " 2   tag        1093344 non-null  object\n",
            " 3   timestamp  1093360 non-null  int64 \n",
            "dtypes: int64(3), object(1)\n",
            "memory usage: 33.4+ MB\n",
            "  \n",
            " None\n",
            "\n",
            "About the data: \n",
            "\n",
            "Feature 'userId' has 14592 unique categories\n",
            "Feature 'movieId' has 45251 unique categories\n",
            "Feature 'tag' has 73051 unique categories\n",
            "Feature 'timestamp' has 907730 unique categories\n"
          ]
        }
      ],
      "source": [
        "# Checking how our tags dataset looks like\n",
        "print(\"Rows    : \", tags_df.shape[0])\n",
        "\n",
        "print(\"Columns : \", tags_df.shape[1])\n",
        "\n",
        "print(\"\\nMissing values: \", tags_df.isnull().sum())\n",
        "\n",
        "print(\"\\nInformation about the data: \")\n",
        "print(\"  \\n\", tags_df.info())\n",
        " \n",
        "print(\"\\nAbout the data: \\n\")\n",
        "\n",
        "# Check how many unique items are in each column of the dateframe\n",
        "for col_name in tags_df.columns:\n",
        "    unique_out = len(tags_df[col_name].unique())\n",
        "    print(f\"Feature '{col_name}' has {unique_out} unique categories\") "
      ]
    },
    {
      "cell_type": "markdown",
      "source": [
        "**Train Dataset**"
      ],
      "metadata": {
        "id": "IB2XAlqniCxH"
      }
    },
    {
      "cell_type": "code",
      "execution_count": null,
      "metadata": {
        "colab": {
          "base_uri": "https://localhost:8080/"
        },
        "id": "s4I_wiWXTemy",
        "outputId": "000e620f-a104-40e2-afd8-c820c8c4ad8e"
      },
      "outputs": [
        {
          "output_type": "stream",
          "name": "stdout",
          "text": [
            "Rows    :  10000038\n",
            "Columns :  4\n",
            "\n",
            "Missing values:  userId       0\n",
            "movieId      0\n",
            "rating       0\n",
            "timestamp    0\n",
            "dtype: int64\n",
            "\n",
            "Information about the data: \n",
            "<class 'pandas.core.frame.DataFrame'>\n",
            "RangeIndex: 10000038 entries, 0 to 10000037\n",
            "Data columns (total 4 columns):\n",
            " #   Column     Dtype  \n",
            "---  ------     -----  \n",
            " 0   userId     int64  \n",
            " 1   movieId    int64  \n",
            " 2   rating     float64\n",
            " 3   timestamp  int64  \n",
            "dtypes: float64(1), int64(3)\n",
            "memory usage: 305.2 MB\n",
            "  \n",
            " None\n",
            "\n",
            "About the data: \n",
            "\n",
            "Feature 'userId' has 162541 unique categories\n",
            "Feature 'movieId' has 48213 unique categories\n",
            "Feature 'rating' has 10 unique categories\n",
            "Feature 'timestamp' has 8795101 unique categories\n"
          ]
        }
      ],
      "source": [
        "# Checking how our train dataset looks like\n",
        "print(\"Rows    : \", train.shape[0])\n",
        "\n",
        "print(\"Columns : \", train.shape[1])\n",
        "\n",
        "print(\"\\nMissing values: \", train.isnull().sum())\n",
        "\n",
        "print(\"\\nInformation about the data: \")\n",
        "print(\"  \\n\", train.info())\n",
        " \n",
        "print(\"\\nAbout the data: \\n\")\n",
        "\n",
        "# Check how many unique items are in each column of the dateframe\n",
        "for col_name in train.columns:\n",
        "    unique_out = len(train[col_name].unique())\n",
        "    print(f\"Feature '{col_name}' has {unique_out} unique categories\") "
      ]
    },
    {
      "cell_type": "markdown",
      "source": [
        "**Test Dataset**"
      ],
      "metadata": {
        "id": "gGkhZri6iKq4"
      }
    },
    {
      "cell_type": "code",
      "execution_count": null,
      "metadata": {
        "colab": {
          "base_uri": "https://localhost:8080/"
        },
        "id": "YYpLnYOdTemy",
        "outputId": "5fe0ac8f-8e22-4eba-9459-8dd569ca636c"
      },
      "outputs": [
        {
          "output_type": "stream",
          "name": "stdout",
          "text": [
            "Rows    :  5000019\n",
            "Columns :  2\n",
            "\n",
            "Missing values:  0\n",
            "\n",
            "Information about the data: \n",
            "<class 'pandas.core.frame.DataFrame'>\n",
            "RangeIndex: 5000019 entries, 0 to 5000018\n",
            "Data columns (total 2 columns):\n",
            " #   Column   Dtype\n",
            "---  ------   -----\n",
            " 0   userId   int64\n",
            " 1   movieId  int64\n",
            "dtypes: int64(2)\n",
            "memory usage: 76.3 MB\n",
            "  \n",
            " None\n",
            "\n",
            "About the data: \n",
            "\n",
            "Feature 'userId' has 162350 unique categories\n",
            "Feature 'movieId' has 39643 unique categories\n"
          ]
        }
      ],
      "source": [
        "# Checking how our test dataset looks like\n",
        "print(\"Rows    : \", test.shape[0])\n",
        "\n",
        "print(\"Columns : \", test.shape[1])\n",
        "\n",
        "print(\"\\nMissing values: \", test.isnull().sum().values.sum())\n",
        "\n",
        "print(\"\\nInformation about the data: \")\n",
        "print(\"  \\n\", test.info())\n",
        " \n",
        "print(\"\\nAbout the data: \\n\")\n",
        "\n",
        "# Check how many unique items are in each column of the dateframe\n",
        "for col_name in test.columns:\n",
        "    unique_out = len(test[col_name].unique())\n",
        "    print(f\"Feature '{col_name}' has {unique_out} unique categories\") "
      ]
    },
    {
      "cell_type": "markdown",
      "source": [
        "**Links Dataset**"
      ],
      "metadata": {
        "id": "kRvpAHyYiSb0"
      }
    },
    {
      "cell_type": "code",
      "source": [
        "# Checking how our links dataset looks like\n",
        "print(\"Rows    : \", links.shape[0])\n",
        "\n",
        "print(\"Columns : \", links.shape[1])\n",
        "\n",
        "print(\"\\nMissing values: \", links.isnull().sum().values.sum())\n",
        "\n",
        "print(\"\\nInformation about the data: \")\n",
        "print(\"  \\n\", links.info())\n",
        " \n",
        "print(\"\\nAbout the data: \\n\")\n",
        "\n",
        "# Check how many unique items are in each column of the dateframe\n",
        "for col_name in links.columns:\n",
        "    unique_out = len(links[col_name].unique())\n",
        "    print(f\"Feature '{col_name}' has {unique_out} unique categories\") "
      ],
      "metadata": {
        "id": "NMeTmG21grNv"
      },
      "execution_count": null,
      "outputs": []
    },
    {
      "cell_type": "markdown",
      "source": [
        "**Genome Scores Dataset**"
      ],
      "metadata": {
        "id": "s_UKbxGiij08"
      }
    },
    {
      "cell_type": "code",
      "source": [
        "# Checking how our g_scores dataset looks like\n",
        "print(\"Rows    : \", g_scores.shape[0])\n",
        "\n",
        "print(\"Columns : \", g_scores.shape[1])\n",
        "\n",
        "print(\"\\nMissing values: \", g_scores.isnull().sum().values.sum())\n",
        "\n",
        "print(\"\\nInformation about the data: \")\n",
        "print(\"  \\n\", g_scores.info())\n",
        " \n",
        "print(\"\\nAbout the data: \\n\")\n",
        "\n",
        "# Check how many unique items are in each column of the dateframe\n",
        "for col_name in g_scores.columns:\n",
        "    unique_out = len(g_scores[col_name].unique())\n",
        "    print(f\"Feature '{col_name}' has {unique_out} unique categories\") "
      ],
      "metadata": {
        "id": "6xqb2dzhisO3"
      },
      "execution_count": null,
      "outputs": []
    },
    {
      "cell_type": "markdown",
      "metadata": {
        "id": "T_7_IStGvIWM"
      },
      "source": [
        "<a id=\"cleaning\"></a>\n",
        "## 3. **Data Preprocessing**"
      ]
    },
    {
      "cell_type": "markdown",
      "metadata": {
        "id": "ESE3DWFYvIWM"
      },
      "source": [
        "Data preprocessing is a technique that involves taking in raw data and transforming it into a understandable format and useful. The technique includes data cleaning, intergration, transformation, reduction and discretization. The data preprocessing plan will include the following processes:\n",
        "\n",
        "- **Data cleaning**\n",
        "\n",
        "- **Table merging process**\n",
        "\n",
        "- **Dealing with missing values**"
      ]
    },
    {
      "cell_type": "markdown",
      "metadata": {
        "id": "P5UcJ3y6vIWM"
      },
      "source": [
        "### Data cleaning"
      ]
    },
    {
      "cell_type": "markdown",
      "metadata": {
        "id": "xzBx5RuBvIWM"
      },
      "source": [
        "Data cleaning is important because it improves your data quality and in doing so, increases overall productivity. When you clean your data, all outdated or incorrect information is gone – leaving you with the highest quality information. We aim to determine inaccurate, incomplete, or unreasonable data and then improve quality by correcting detected errors and omissions."
      ]
    },
    {
      "cell_type": "code",
      "execution_count": 11,
      "metadata": {
        "id": "u8l3sF1jvIWM"
      },
      "outputs": [],
      "source": [
        "# create copies of the dataframes\n",
        "\n",
        "imdb_df = imdb_df.copy()\n",
        "movies_df = movies_df.copy()\n",
        "train_df = train.copy()\n",
        "test_df = test.copy()"
      ]
    },
    {
      "cell_type": "code",
      "execution_count": 10,
      "metadata": {
        "id": "xIsYN1xbvIWN"
      },
      "outputs": [],
      "source": [
        "# merging dataframe\n",
        "\n",
        "train_df = pd.merge(movies_df, imdb_df, on = 'movieId')"
      ]
    },
    {
      "cell_type": "markdown",
      "metadata": {
        "id": "2iTAnmtuvIWN"
      },
      "source": [
        "### Checking for missing values"
      ]
    },
    {
      "cell_type": "markdown",
      "metadata": {
        "id": "uq-CIyKYvIWN"
      },
      "source": [
        "The problem of missing value is quite common in many real-life datasets. Missing value can bias the results of the machine learning models and/or reduce the predictive accuracy of the model, hence it is crucial to know how much is missing and what to do with that."
      ]
    },
    {
      "cell_type": "code",
      "execution_count": 9,
      "metadata": {
        "colab": {
          "base_uri": "https://localhost:8080/"
        },
        "id": "rRf80XhovIWN",
        "outputId": "1135f1c7-c936-4aa5-f072-8e6c0dba55f7"
      },
      "outputs": [
        {
          "output_type": "execute_result",
          "data": {
            "text/plain": [
              "userId       0.0\n",
              "movieId      0.0\n",
              "rating       0.0\n",
              "timestamp    0.0\n",
              "dtype: float64"
            ]
          },
          "metadata": {},
          "execution_count": 9
        }
      ],
      "source": [
        "# Percentage of missing values\n",
        "(train_df.isnull().sum()/len(train_df))*100"
      ]
    },
    {
      "cell_type": "markdown",
      "metadata": {
        "id": "Ye-tMbs1vIWN"
      },
      "source": [
        "We can see that **title_cast** is missing about **36.9%**, the **director** column is missing **36.2%**, **runtime** is missing **44.3%**, **budget** is missing **71.0%**, **plot_keywords** is missing **40.6%**.\n",
        "The **budget** column since we missing a lot of data we will **drop** the column since **we can't make reliable analysis on it** and the others we can't impute reliable like the cast. The function that removes noise deals with the missing values."
      ]
    },
    {
      "cell_type": "markdown",
      "metadata": {
        "id": "ooJUMRiUvIWO"
      },
      "source": [
        "#### Removing noise"
      ]
    },
    {
      "cell_type": "markdown",
      "metadata": {
        "id": "Js1jH0CyvIWO"
      },
      "source": [
        "Data that can not be processed/interpreted by a machine is classified as noisy data. Text data contain a lot of noise, this comes in a form of special characters such as hashtags, punctuation and numbers."
      ]
    },
    {
      "cell_type": "markdown",
      "metadata": {
        "id": "BRwbUInivIWO"
      },
      "source": [
        "- We start by changing the datatype of text data to string for better handling and manipulation."
      ]
    },
    {
      "cell_type": "code",
      "execution_count": 12,
      "metadata": {
        "id": "2FKXt41DvIWO",
        "colab": {
          "base_uri": "https://localhost:8080/",
          "height": 356
        },
        "outputId": "2f8c1b8a-7ea9-4167-9bf4-ab27af3e86f8"
      },
      "outputs": [
        {
          "output_type": "error",
          "ename": "AttributeError",
          "evalue": "ignored",
          "traceback": [
            "\u001b[0;31m---------------------------------------------------------------------------\u001b[0m",
            "\u001b[0;31mAttributeError\u001b[0m                            Traceback (most recent call last)",
            "\u001b[0;32m<ipython-input-12-16842d64166a>\u001b[0m in \u001b[0;36m<module>\u001b[0;34m\u001b[0m\n\u001b[1;32m      1\u001b[0m \u001b[0;31m# change data types\u001b[0m\u001b[0;34m\u001b[0m\u001b[0;34m\u001b[0m\u001b[0;34m\u001b[0m\u001b[0m\n\u001b[0;32m----> 2\u001b[0;31m \u001b[0mtrain_df\u001b[0m\u001b[0;34m[\u001b[0m\u001b[0;34m'genres'\u001b[0m\u001b[0;34m]\u001b[0m \u001b[0;34m=\u001b[0m \u001b[0mtrain_df\u001b[0m\u001b[0;34m.\u001b[0m\u001b[0mgenres\u001b[0m\u001b[0;34m.\u001b[0m\u001b[0mastype\u001b[0m\u001b[0;34m(\u001b[0m\u001b[0mstr\u001b[0m\u001b[0;34m)\u001b[0m\u001b[0;34m\u001b[0m\u001b[0;34m\u001b[0m\u001b[0m\n\u001b[0m\u001b[1;32m      3\u001b[0m \u001b[0mtrain_df\u001b[0m\u001b[0;34m[\u001b[0m\u001b[0;34m'title_cast'\u001b[0m\u001b[0;34m]\u001b[0m \u001b[0;34m=\u001b[0m \u001b[0mtrain_df\u001b[0m\u001b[0;34m.\u001b[0m\u001b[0mtitle_cast\u001b[0m\u001b[0;34m.\u001b[0m\u001b[0mastype\u001b[0m\u001b[0;34m(\u001b[0m\u001b[0mstr\u001b[0m\u001b[0;34m)\u001b[0m\u001b[0;34m\u001b[0m\u001b[0;34m\u001b[0m\u001b[0m\n\u001b[1;32m      4\u001b[0m \u001b[0mtrain_df\u001b[0m\u001b[0;34m[\u001b[0m\u001b[0;34m'director'\u001b[0m\u001b[0;34m]\u001b[0m \u001b[0;34m=\u001b[0m \u001b[0mtrain_df\u001b[0m\u001b[0;34m.\u001b[0m\u001b[0mdirector\u001b[0m\u001b[0;34m.\u001b[0m\u001b[0mastype\u001b[0m\u001b[0;34m(\u001b[0m\u001b[0mstr\u001b[0m\u001b[0;34m)\u001b[0m\u001b[0;34m\u001b[0m\u001b[0;34m\u001b[0m\u001b[0m\n\u001b[1;32m      5\u001b[0m \u001b[0mtrain_df\u001b[0m\u001b[0;34m[\u001b[0m\u001b[0;34m'plot_keywords'\u001b[0m\u001b[0;34m]\u001b[0m \u001b[0;34m=\u001b[0m \u001b[0mtrain_df\u001b[0m\u001b[0;34m.\u001b[0m\u001b[0mplot_keywords\u001b[0m\u001b[0;34m.\u001b[0m\u001b[0mastype\u001b[0m\u001b[0;34m(\u001b[0m\u001b[0mstr\u001b[0m\u001b[0;34m)\u001b[0m\u001b[0;34m\u001b[0m\u001b[0;34m\u001b[0m\u001b[0m\n",
            "\u001b[0;32m/usr/local/lib/python3.7/dist-packages/pandas/core/generic.py\u001b[0m in \u001b[0;36m__getattr__\u001b[0;34m(self, name)\u001b[0m\n\u001b[1;32m   5485\u001b[0m         ):\n\u001b[1;32m   5486\u001b[0m             \u001b[0;32mreturn\u001b[0m \u001b[0mself\u001b[0m\u001b[0;34m[\u001b[0m\u001b[0mname\u001b[0m\u001b[0;34m]\u001b[0m\u001b[0;34m\u001b[0m\u001b[0;34m\u001b[0m\u001b[0m\n\u001b[0;32m-> 5487\u001b[0;31m         \u001b[0;32mreturn\u001b[0m \u001b[0mobject\u001b[0m\u001b[0;34m.\u001b[0m\u001b[0m__getattribute__\u001b[0m\u001b[0;34m(\u001b[0m\u001b[0mself\u001b[0m\u001b[0;34m,\u001b[0m \u001b[0mname\u001b[0m\u001b[0;34m)\u001b[0m\u001b[0;34m\u001b[0m\u001b[0;34m\u001b[0m\u001b[0m\n\u001b[0m\u001b[1;32m   5488\u001b[0m \u001b[0;34m\u001b[0m\u001b[0m\n\u001b[1;32m   5489\u001b[0m     \u001b[0;32mdef\u001b[0m \u001b[0m__setattr__\u001b[0m\u001b[0;34m(\u001b[0m\u001b[0mself\u001b[0m\u001b[0;34m,\u001b[0m \u001b[0mname\u001b[0m\u001b[0;34m:\u001b[0m \u001b[0mstr\u001b[0m\u001b[0;34m,\u001b[0m \u001b[0mvalue\u001b[0m\u001b[0;34m)\u001b[0m \u001b[0;34m->\u001b[0m \u001b[0;32mNone\u001b[0m\u001b[0;34m:\u001b[0m\u001b[0;34m\u001b[0m\u001b[0;34m\u001b[0m\u001b[0m\n",
            "\u001b[0;31mAttributeError\u001b[0m: 'DataFrame' object has no attribute 'genres'"
          ]
        }
      ],
      "source": [
        "# change data types\n",
        "train_df['genres'] = train_df.genres.astype(str)\n",
        "train_df['title_cast'] = train_df.title_cast.astype(str)\n",
        "train_df['director'] = train_df.director.astype(str)\n",
        "train_df['plot_keywords'] = train_df.plot_keywords.astype(str)"
      ]
    },
    {
      "cell_type": "markdown",
      "metadata": {
        "id": "d6lACf51vIWO"
      },
      "source": [
        "- Change the text to lower case.\n",
        "\n",
        "- Replace the vertical bar with a comma."
      ]
    },
    {
      "cell_type": "code",
      "execution_count": 13,
      "metadata": {
        "id": "FByU0Pq5vIWP",
        "colab": {
          "base_uri": "https://localhost:8080/",
          "height": 502
        },
        "outputId": "5d097b6f-600d-4929-fb56-62264a196d90"
      },
      "outputs": [
        {
          "output_type": "error",
          "ename": "KeyError",
          "evalue": "ignored",
          "traceback": [
            "\u001b[0;31m---------------------------------------------------------------------------\u001b[0m",
            "\u001b[0;31mKeyError\u001b[0m                                  Traceback (most recent call last)",
            "\u001b[0;32m/usr/local/lib/python3.7/dist-packages/pandas/core/indexes/base.py\u001b[0m in \u001b[0;36mget_loc\u001b[0;34m(self, key, method, tolerance)\u001b[0m\n\u001b[1;32m   3360\u001b[0m             \u001b[0;32mtry\u001b[0m\u001b[0;34m:\u001b[0m\u001b[0;34m\u001b[0m\u001b[0;34m\u001b[0m\u001b[0m\n\u001b[0;32m-> 3361\u001b[0;31m                 \u001b[0;32mreturn\u001b[0m \u001b[0mself\u001b[0m\u001b[0;34m.\u001b[0m\u001b[0m_engine\u001b[0m\u001b[0;34m.\u001b[0m\u001b[0mget_loc\u001b[0m\u001b[0;34m(\u001b[0m\u001b[0mcasted_key\u001b[0m\u001b[0;34m)\u001b[0m\u001b[0;34m\u001b[0m\u001b[0;34m\u001b[0m\u001b[0m\n\u001b[0m\u001b[1;32m   3362\u001b[0m             \u001b[0;32mexcept\u001b[0m \u001b[0mKeyError\u001b[0m \u001b[0;32mas\u001b[0m \u001b[0merr\u001b[0m\u001b[0;34m:\u001b[0m\u001b[0;34m\u001b[0m\u001b[0;34m\u001b[0m\u001b[0m\n",
            "\u001b[0;32m/usr/local/lib/python3.7/dist-packages/pandas/_libs/index.pyx\u001b[0m in \u001b[0;36mpandas._libs.index.IndexEngine.get_loc\u001b[0;34m()\u001b[0m\n",
            "\u001b[0;32m/usr/local/lib/python3.7/dist-packages/pandas/_libs/index.pyx\u001b[0m in \u001b[0;36mpandas._libs.index.IndexEngine.get_loc\u001b[0;34m()\u001b[0m\n",
            "\u001b[0;32mpandas/_libs/hashtable_class_helper.pxi\u001b[0m in \u001b[0;36mpandas._libs.hashtable.PyObjectHashTable.get_item\u001b[0;34m()\u001b[0m\n",
            "\u001b[0;32mpandas/_libs/hashtable_class_helper.pxi\u001b[0m in \u001b[0;36mpandas._libs.hashtable.PyObjectHashTable.get_item\u001b[0;34m()\u001b[0m\n",
            "\u001b[0;31mKeyError\u001b[0m: 'genres'",
            "\nThe above exception was the direct cause of the following exception:\n",
            "\u001b[0;31mKeyError\u001b[0m                                  Traceback (most recent call last)",
            "\u001b[0;32m<ipython-input-13-34e564d266c3>\u001b[0m in \u001b[0;36m<module>\u001b[0;34m\u001b[0m\n\u001b[1;32m      1\u001b[0m \u001b[0;31m# Every genre is separated by a |\u001b[0m\u001b[0;34m\u001b[0m\u001b[0;34m\u001b[0m\u001b[0;34m\u001b[0m\u001b[0m\n\u001b[0;32m----> 2\u001b[0;31m \u001b[0mtrain_df\u001b[0m\u001b[0;34m[\u001b[0m\u001b[0;34m'genres'\u001b[0m\u001b[0;34m]\u001b[0m \u001b[0;34m=\u001b[0m \u001b[0mtrain_df\u001b[0m\u001b[0;34m[\u001b[0m\u001b[0;34m'genres'\u001b[0m\u001b[0;34m]\u001b[0m\u001b[0;34m.\u001b[0m\u001b[0mmap\u001b[0m\u001b[0;34m(\u001b[0m\u001b[0;32mlambda\u001b[0m \u001b[0mx\u001b[0m\u001b[0;34m:\u001b[0m \u001b[0mx\u001b[0m\u001b[0;34m.\u001b[0m\u001b[0mlower\u001b[0m\u001b[0;34m(\u001b[0m\u001b[0;34m)\u001b[0m\u001b[0;34m.\u001b[0m\u001b[0msplit\u001b[0m\u001b[0;34m(\u001b[0m\u001b[0;34m'|'\u001b[0m\u001b[0;34m)\u001b[0m\u001b[0;34m)\u001b[0m\u001b[0;34m\u001b[0m\u001b[0;34m\u001b[0m\u001b[0m\n\u001b[0m\u001b[1;32m      3\u001b[0m \u001b[0;34m\u001b[0m\u001b[0m\n\u001b[1;32m      4\u001b[0m \u001b[0;31m# Every title cast is separated by a | so we simply have to call the split function on | and separate them by ,\u001b[0m\u001b[0;34m\u001b[0m\u001b[0;34m\u001b[0m\u001b[0;34m\u001b[0m\u001b[0m\n\u001b[1;32m      5\u001b[0m \u001b[0mtrain_df\u001b[0m\u001b[0;34m[\u001b[0m\u001b[0;34m'title_cast'\u001b[0m\u001b[0;34m]\u001b[0m \u001b[0;34m=\u001b[0m \u001b[0mtrain_df\u001b[0m\u001b[0;34m[\u001b[0m\u001b[0;34m'title_cast'\u001b[0m\u001b[0;34m]\u001b[0m\u001b[0;34m.\u001b[0m\u001b[0mstr\u001b[0m\u001b[0;34m.\u001b[0m\u001b[0msplit\u001b[0m\u001b[0;34m(\u001b[0m\u001b[0;34m'|'\u001b[0m\u001b[0;34m)\u001b[0m\u001b[0;34m\u001b[0m\u001b[0;34m\u001b[0m\u001b[0m\n",
            "\u001b[0;32m/usr/local/lib/python3.7/dist-packages/pandas/core/frame.py\u001b[0m in \u001b[0;36m__getitem__\u001b[0;34m(self, key)\u001b[0m\n\u001b[1;32m   3456\u001b[0m             \u001b[0;32mif\u001b[0m \u001b[0mself\u001b[0m\u001b[0;34m.\u001b[0m\u001b[0mcolumns\u001b[0m\u001b[0;34m.\u001b[0m\u001b[0mnlevels\u001b[0m \u001b[0;34m>\u001b[0m \u001b[0;36m1\u001b[0m\u001b[0;34m:\u001b[0m\u001b[0;34m\u001b[0m\u001b[0;34m\u001b[0m\u001b[0m\n\u001b[1;32m   3457\u001b[0m                 \u001b[0;32mreturn\u001b[0m \u001b[0mself\u001b[0m\u001b[0;34m.\u001b[0m\u001b[0m_getitem_multilevel\u001b[0m\u001b[0;34m(\u001b[0m\u001b[0mkey\u001b[0m\u001b[0;34m)\u001b[0m\u001b[0;34m\u001b[0m\u001b[0;34m\u001b[0m\u001b[0m\n\u001b[0;32m-> 3458\u001b[0;31m             \u001b[0mindexer\u001b[0m \u001b[0;34m=\u001b[0m \u001b[0mself\u001b[0m\u001b[0;34m.\u001b[0m\u001b[0mcolumns\u001b[0m\u001b[0;34m.\u001b[0m\u001b[0mget_loc\u001b[0m\u001b[0;34m(\u001b[0m\u001b[0mkey\u001b[0m\u001b[0;34m)\u001b[0m\u001b[0;34m\u001b[0m\u001b[0;34m\u001b[0m\u001b[0m\n\u001b[0m\u001b[1;32m   3459\u001b[0m             \u001b[0;32mif\u001b[0m \u001b[0mis_integer\u001b[0m\u001b[0;34m(\u001b[0m\u001b[0mindexer\u001b[0m\u001b[0;34m)\u001b[0m\u001b[0;34m:\u001b[0m\u001b[0;34m\u001b[0m\u001b[0;34m\u001b[0m\u001b[0m\n\u001b[1;32m   3460\u001b[0m                 \u001b[0mindexer\u001b[0m \u001b[0;34m=\u001b[0m \u001b[0;34m[\u001b[0m\u001b[0mindexer\u001b[0m\u001b[0;34m]\u001b[0m\u001b[0;34m\u001b[0m\u001b[0;34m\u001b[0m\u001b[0m\n",
            "\u001b[0;32m/usr/local/lib/python3.7/dist-packages/pandas/core/indexes/base.py\u001b[0m in \u001b[0;36mget_loc\u001b[0;34m(self, key, method, tolerance)\u001b[0m\n\u001b[1;32m   3361\u001b[0m                 \u001b[0;32mreturn\u001b[0m \u001b[0mself\u001b[0m\u001b[0;34m.\u001b[0m\u001b[0m_engine\u001b[0m\u001b[0;34m.\u001b[0m\u001b[0mget_loc\u001b[0m\u001b[0;34m(\u001b[0m\u001b[0mcasted_key\u001b[0m\u001b[0;34m)\u001b[0m\u001b[0;34m\u001b[0m\u001b[0;34m\u001b[0m\u001b[0m\n\u001b[1;32m   3362\u001b[0m             \u001b[0;32mexcept\u001b[0m \u001b[0mKeyError\u001b[0m \u001b[0;32mas\u001b[0m \u001b[0merr\u001b[0m\u001b[0;34m:\u001b[0m\u001b[0;34m\u001b[0m\u001b[0;34m\u001b[0m\u001b[0m\n\u001b[0;32m-> 3363\u001b[0;31m                 \u001b[0;32mraise\u001b[0m \u001b[0mKeyError\u001b[0m\u001b[0;34m(\u001b[0m\u001b[0mkey\u001b[0m\u001b[0;34m)\u001b[0m \u001b[0;32mfrom\u001b[0m \u001b[0merr\u001b[0m\u001b[0;34m\u001b[0m\u001b[0;34m\u001b[0m\u001b[0m\n\u001b[0m\u001b[1;32m   3364\u001b[0m \u001b[0;34m\u001b[0m\u001b[0m\n\u001b[1;32m   3365\u001b[0m         \u001b[0;32mif\u001b[0m \u001b[0mis_scalar\u001b[0m\u001b[0;34m(\u001b[0m\u001b[0mkey\u001b[0m\u001b[0;34m)\u001b[0m \u001b[0;32mand\u001b[0m \u001b[0misna\u001b[0m\u001b[0;34m(\u001b[0m\u001b[0mkey\u001b[0m\u001b[0;34m)\u001b[0m \u001b[0;32mand\u001b[0m \u001b[0;32mnot\u001b[0m \u001b[0mself\u001b[0m\u001b[0;34m.\u001b[0m\u001b[0mhasnans\u001b[0m\u001b[0;34m:\u001b[0m\u001b[0;34m\u001b[0m\u001b[0;34m\u001b[0m\u001b[0m\n",
            "\u001b[0;31mKeyError\u001b[0m: 'genres'"
          ]
        }
      ],
      "source": [
        "# Every genre is separated by a | \n",
        "train_df['genres'] = train_df['genres'].map(lambda x: x.lower().split('|'))\n",
        "\n",
        "# Every title cast is separated by a | so we simply have to call the split function on | and separate them by ,\n",
        "train_df['title_cast'] = train_df['title_cast'].str.split('|')\n",
        "\n",
        "# And we will do the same thing for the plot keywords\n",
        "train_df['plot_keywords'] = train_df['plot_keywords'].str.split('|')"
      ]
    },
    {
      "cell_type": "markdown",
      "metadata": {
        "id": "g4DXFMb_vIWP"
      },
      "source": [
        "Combine the name and surname in the title_cast and director columns, hence creating one word for the uniqueness of a person's name. If no name exists, the function will leave a space."
      ]
    },
    {
      "cell_type": "code",
      "execution_count": null,
      "metadata": {
        "id": "jWcREwrOvIWP"
      },
      "outputs": [],
      "source": [
        "def string_function(x):\n",
        "    \"\"\"combines name and surname into one name\n",
        "    and return results as one name.\n",
        "    \n",
        "    if no name exists returns a space\"\"\"\n",
        "    if isinstance(x, list):\n",
        "        return [str.lower(i.replace(\" \", \"\")) for i in x]\n",
        "    else:\n",
        "        #Check if director exists. If not, return empty string\n",
        "        if isinstance(x, str):\n",
        "            return str.lower(x.replace(\" \", \"\"))\n",
        "        else:\n",
        "            return ''"
      ]
    },
    {
      "cell_type": "code",
      "execution_count": null,
      "metadata": {
        "id": "aqVFCegMvIWP"
      },
      "outputs": [],
      "source": [
        "cols = ['title_cast','director']\n",
        "\n",
        "for col in cols:\n",
        "    train_df[col] = train_df[col].apply(string_function)"
      ]
    },
    {
      "cell_type": "markdown",
      "metadata": {
        "id": "3JV0e8FOvIWQ"
      },
      "source": [
        "The resulting data has every text column in lower case, separated by a comma. The name and surname combined for title_cast and director columns."
      ]
    },
    {
      "cell_type": "markdown",
      "metadata": {
        "id": "TOYYD08eTemv"
      },
      "source": [
        "<a id=\"EDA\"></a>\n",
        "## 4. **Exploratory Data Analysis**"
      ]
    },
    {
      "cell_type": "markdown",
      "metadata": {
        "id": "8CeA6bhDTemx"
      },
      "source": [
        "**Movies dataset**"
      ]
    },
    {
      "cell_type": "markdown",
      "metadata": {
        "id": "BeIRPnCtTemx"
      },
      "source": [
        "**Tags dataset**"
      ]
    },
    {
      "cell_type": "markdown",
      "metadata": {
        "id": "kl5VWwOyTemy"
      },
      "source": [
        "**Train dataset**"
      ]
    },
    {
      "cell_type": "markdown",
      "metadata": {
        "id": "1gXZU0K5Temy"
      },
      "source": [
        "**Test dataset**"
      ]
    },
    {
      "cell_type": "markdown",
      "metadata": {
        "id": "asEqBSi-Temz"
      },
      "source": [
        "### Splitting the genres and title casts into lists"
      ]
    },
    {
      "cell_type": "markdown",
      "metadata": {
        "id": "q4YkKfFXV4d_"
      },
      "source": [
        "In order to be able to extract the release year for Data Visualiation, will extract the realeased year from the title column. Will further split the title cast into lists."
      ]
    },
    {
      "cell_type": "code",
      "execution_count": null,
      "metadata": {
        "colab": {
          "base_uri": "https://localhost:8080/",
          "height": 143
        },
        "id": "PDh50JC7Temz",
        "outputId": "7d7c5fb0-6dae-424c-cc99-0527dc60ccf6"
      },
      "outputs": [
        {
          "output_type": "execute_result",
          "data": {
            "text/html": [
              "\n",
              "  <div id=\"df-3198328e-f80e-4f16-a446-04c24696a5b1\">\n",
              "    <div class=\"colab-df-container\">\n",
              "      <div>\n",
              "<style scoped>\n",
              "    .dataframe tbody tr th:only-of-type {\n",
              "        vertical-align: middle;\n",
              "    }\n",
              "\n",
              "    .dataframe tbody tr th {\n",
              "        vertical-align: top;\n",
              "    }\n",
              "\n",
              "    .dataframe thead th {\n",
              "        text-align: right;\n",
              "    }\n",
              "</style>\n",
              "<table border=\"1\" class=\"dataframe\">\n",
              "  <thead>\n",
              "    <tr style=\"text-align: right;\">\n",
              "      <th></th>\n",
              "      <th>movieId</th>\n",
              "      <th>title</th>\n",
              "      <th>genres</th>\n",
              "      <th>release_year</th>\n",
              "    </tr>\n",
              "  </thead>\n",
              "  <tbody>\n",
              "    <tr>\n",
              "      <th>0</th>\n",
              "      <td>1</td>\n",
              "      <td>Toy Story (1995)</td>\n",
              "      <td>[Adventure, Animation, Children, Comedy, Fantasy]</td>\n",
              "      <td>1995</td>\n",
              "    </tr>\n",
              "    <tr>\n",
              "      <th>1</th>\n",
              "      <td>2</td>\n",
              "      <td>Jumanji (1995)</td>\n",
              "      <td>[Adventure, Children, Fantasy]</td>\n",
              "      <td>1995</td>\n",
              "    </tr>\n",
              "    <tr>\n",
              "      <th>2</th>\n",
              "      <td>3</td>\n",
              "      <td>Grumpier Old Men (1995)</td>\n",
              "      <td>[Comedy, Romance]</td>\n",
              "      <td>1995</td>\n",
              "    </tr>\n",
              "  </tbody>\n",
              "</table>\n",
              "</div>\n",
              "      <button class=\"colab-df-convert\" onclick=\"convertToInteractive('df-3198328e-f80e-4f16-a446-04c24696a5b1')\"\n",
              "              title=\"Convert this dataframe to an interactive table.\"\n",
              "              style=\"display:none;\">\n",
              "        \n",
              "  <svg xmlns=\"http://www.w3.org/2000/svg\" height=\"24px\"viewBox=\"0 0 24 24\"\n",
              "       width=\"24px\">\n",
              "    <path d=\"M0 0h24v24H0V0z\" fill=\"none\"/>\n",
              "    <path d=\"M18.56 5.44l.94 2.06.94-2.06 2.06-.94-2.06-.94-.94-2.06-.94 2.06-2.06.94zm-11 1L8.5 8.5l.94-2.06 2.06-.94-2.06-.94L8.5 2.5l-.94 2.06-2.06.94zm10 10l.94 2.06.94-2.06 2.06-.94-2.06-.94-.94-2.06-.94 2.06-2.06.94z\"/><path d=\"M17.41 7.96l-1.37-1.37c-.4-.4-.92-.59-1.43-.59-.52 0-1.04.2-1.43.59L10.3 9.45l-7.72 7.72c-.78.78-.78 2.05 0 2.83L4 21.41c.39.39.9.59 1.41.59.51 0 1.02-.2 1.41-.59l7.78-7.78 2.81-2.81c.8-.78.8-2.07 0-2.86zM5.41 20L4 18.59l7.72-7.72 1.47 1.35L5.41 20z\"/>\n",
              "  </svg>\n",
              "      </button>\n",
              "      \n",
              "  <style>\n",
              "    .colab-df-container {\n",
              "      display:flex;\n",
              "      flex-wrap:wrap;\n",
              "      gap: 12px;\n",
              "    }\n",
              "\n",
              "    .colab-df-convert {\n",
              "      background-color: #E8F0FE;\n",
              "      border: none;\n",
              "      border-radius: 50%;\n",
              "      cursor: pointer;\n",
              "      display: none;\n",
              "      fill: #1967D2;\n",
              "      height: 32px;\n",
              "      padding: 0 0 0 0;\n",
              "      width: 32px;\n",
              "    }\n",
              "\n",
              "    .colab-df-convert:hover {\n",
              "      background-color: #E2EBFA;\n",
              "      box-shadow: 0px 1px 2px rgba(60, 64, 67, 0.3), 0px 1px 3px 1px rgba(60, 64, 67, 0.15);\n",
              "      fill: #174EA6;\n",
              "    }\n",
              "\n",
              "    [theme=dark] .colab-df-convert {\n",
              "      background-color: #3B4455;\n",
              "      fill: #D2E3FC;\n",
              "    }\n",
              "\n",
              "    [theme=dark] .colab-df-convert:hover {\n",
              "      background-color: #434B5C;\n",
              "      box-shadow: 0px 1px 3px 1px rgba(0, 0, 0, 0.15);\n",
              "      filter: drop-shadow(0px 1px 2px rgba(0, 0, 0, 0.3));\n",
              "      fill: #FFFFFF;\n",
              "    }\n",
              "  </style>\n",
              "\n",
              "      <script>\n",
              "        const buttonEl =\n",
              "          document.querySelector('#df-3198328e-f80e-4f16-a446-04c24696a5b1 button.colab-df-convert');\n",
              "        buttonEl.style.display =\n",
              "          google.colab.kernel.accessAllowed ? 'block' : 'none';\n",
              "\n",
              "        async function convertToInteractive(key) {\n",
              "          const element = document.querySelector('#df-3198328e-f80e-4f16-a446-04c24696a5b1');\n",
              "          const dataTable =\n",
              "            await google.colab.kernel.invokeFunction('convertToInteractive',\n",
              "                                                     [key], {});\n",
              "          if (!dataTable) return;\n",
              "\n",
              "          const docLinkHtml = 'Like what you see? Visit the ' +\n",
              "            '<a target=\"_blank\" href=https://colab.research.google.com/notebooks/data_table.ipynb>data table notebook</a>'\n",
              "            + ' to learn more about interactive tables.';\n",
              "          element.innerHTML = '';\n",
              "          dataTable['output_type'] = 'display_data';\n",
              "          await google.colab.output.renderOutput(dataTable, element);\n",
              "          const docLink = document.createElement('div');\n",
              "          docLink.innerHTML = docLinkHtml;\n",
              "          element.appendChild(docLink);\n",
              "        }\n",
              "      </script>\n",
              "    </div>\n",
              "  </div>\n",
              "  "
            ],
            "text/plain": [
              "   movieId                    title  \\\n",
              "0        1         Toy Story (1995)   \n",
              "1        2           Jumanji (1995)   \n",
              "2        3  Grumpier Old Men (1995)   \n",
              "\n",
              "                                              genres release_year  \n",
              "0  [Adventure, Animation, Children, Comedy, Fantasy]         1995  \n",
              "1                     [Adventure, Children, Fantasy]         1995  \n",
              "2                                  [Comedy, Romance]         1995  "
            ]
          },
          "metadata": {},
          "execution_count": 18
        }
      ],
      "source": [
        "#extracting released year\n",
        "movies = movies_df.copy()\n",
        "movies['release_year']=movies['title'].str[-5:-1] \n",
        "#spliting the genres into a list\n",
        "movies['genres']=movies['genres'].str.split('|') \n",
        "#concatinate ratings with movies dataframe\n",
        "movies.dropna() \n",
        "movies.head(3)"
      ]
    },
    {
      "cell_type": "code",
      "execution_count": null,
      "metadata": {
        "colab": {
          "base_uri": "https://localhost:8080/",
          "height": 143
        },
        "id": "juAmKVcsTemz",
        "outputId": "8629d616-8e7c-4fde-d847-eee7e9599577"
      },
      "outputs": [
        {
          "output_type": "execute_result",
          "data": {
            "text/html": [
              "\n",
              "  <div id=\"df-9580f830-bdf7-4720-ae26-35b9b8afb934\">\n",
              "    <div class=\"colab-df-container\">\n",
              "      <div>\n",
              "<style scoped>\n",
              "    .dataframe tbody tr th:only-of-type {\n",
              "        vertical-align: middle;\n",
              "    }\n",
              "\n",
              "    .dataframe tbody tr th {\n",
              "        vertical-align: top;\n",
              "    }\n",
              "\n",
              "    .dataframe thead th {\n",
              "        text-align: right;\n",
              "    }\n",
              "</style>\n",
              "<table border=\"1\" class=\"dataframe\">\n",
              "  <thead>\n",
              "    <tr style=\"text-align: right;\">\n",
              "      <th></th>\n",
              "      <th>movieId</th>\n",
              "      <th>title_cast</th>\n",
              "      <th>director</th>\n",
              "      <th>runtime</th>\n",
              "      <th>budget</th>\n",
              "      <th>plot_keywords</th>\n",
              "    </tr>\n",
              "  </thead>\n",
              "  <tbody>\n",
              "    <tr>\n",
              "      <th>0</th>\n",
              "      <td>1</td>\n",
              "      <td>[Tom Hanks, Tim Allen, Don Rickles, Jim Varney...</td>\n",
              "      <td>John Lasseter</td>\n",
              "      <td>81.0</td>\n",
              "      <td>$30,000,000</td>\n",
              "      <td>toy|rivalry|cowboy|cgi animation</td>\n",
              "    </tr>\n",
              "    <tr>\n",
              "      <th>1</th>\n",
              "      <td>2</td>\n",
              "      <td>[Robin Williams, Jonathan Hyde, Kirsten Dunst,...</td>\n",
              "      <td>Jonathan Hensleigh</td>\n",
              "      <td>104.0</td>\n",
              "      <td>$65,000,000</td>\n",
              "      <td>board game|adventurer|fight|game</td>\n",
              "    </tr>\n",
              "    <tr>\n",
              "      <th>2</th>\n",
              "      <td>3</td>\n",
              "      <td>[Walter Matthau, Jack Lemmon, Sophia Loren, An...</td>\n",
              "      <td>Mark Steven Johnson</td>\n",
              "      <td>101.0</td>\n",
              "      <td>$25,000,000</td>\n",
              "      <td>boat|lake|neighbor|rivalry</td>\n",
              "    </tr>\n",
              "  </tbody>\n",
              "</table>\n",
              "</div>\n",
              "      <button class=\"colab-df-convert\" onclick=\"convertToInteractive('df-9580f830-bdf7-4720-ae26-35b9b8afb934')\"\n",
              "              title=\"Convert this dataframe to an interactive table.\"\n",
              "              style=\"display:none;\">\n",
              "        \n",
              "  <svg xmlns=\"http://www.w3.org/2000/svg\" height=\"24px\"viewBox=\"0 0 24 24\"\n",
              "       width=\"24px\">\n",
              "    <path d=\"M0 0h24v24H0V0z\" fill=\"none\"/>\n",
              "    <path d=\"M18.56 5.44l.94 2.06.94-2.06 2.06-.94-2.06-.94-.94-2.06-.94 2.06-2.06.94zm-11 1L8.5 8.5l.94-2.06 2.06-.94-2.06-.94L8.5 2.5l-.94 2.06-2.06.94zm10 10l.94 2.06.94-2.06 2.06-.94-2.06-.94-.94-2.06-.94 2.06-2.06.94z\"/><path d=\"M17.41 7.96l-1.37-1.37c-.4-.4-.92-.59-1.43-.59-.52 0-1.04.2-1.43.59L10.3 9.45l-7.72 7.72c-.78.78-.78 2.05 0 2.83L4 21.41c.39.39.9.59 1.41.59.51 0 1.02-.2 1.41-.59l7.78-7.78 2.81-2.81c.8-.78.8-2.07 0-2.86zM5.41 20L4 18.59l7.72-7.72 1.47 1.35L5.41 20z\"/>\n",
              "  </svg>\n",
              "      </button>\n",
              "      \n",
              "  <style>\n",
              "    .colab-df-container {\n",
              "      display:flex;\n",
              "      flex-wrap:wrap;\n",
              "      gap: 12px;\n",
              "    }\n",
              "\n",
              "    .colab-df-convert {\n",
              "      background-color: #E8F0FE;\n",
              "      border: none;\n",
              "      border-radius: 50%;\n",
              "      cursor: pointer;\n",
              "      display: none;\n",
              "      fill: #1967D2;\n",
              "      height: 32px;\n",
              "      padding: 0 0 0 0;\n",
              "      width: 32px;\n",
              "    }\n",
              "\n",
              "    .colab-df-convert:hover {\n",
              "      background-color: #E2EBFA;\n",
              "      box-shadow: 0px 1px 2px rgba(60, 64, 67, 0.3), 0px 1px 3px 1px rgba(60, 64, 67, 0.15);\n",
              "      fill: #174EA6;\n",
              "    }\n",
              "\n",
              "    [theme=dark] .colab-df-convert {\n",
              "      background-color: #3B4455;\n",
              "      fill: #D2E3FC;\n",
              "    }\n",
              "\n",
              "    [theme=dark] .colab-df-convert:hover {\n",
              "      background-color: #434B5C;\n",
              "      box-shadow: 0px 1px 3px 1px rgba(0, 0, 0, 0.15);\n",
              "      filter: drop-shadow(0px 1px 2px rgba(0, 0, 0, 0.3));\n",
              "      fill: #FFFFFF;\n",
              "    }\n",
              "  </style>\n",
              "\n",
              "      <script>\n",
              "        const buttonEl =\n",
              "          document.querySelector('#df-9580f830-bdf7-4720-ae26-35b9b8afb934 button.colab-df-convert');\n",
              "        buttonEl.style.display =\n",
              "          google.colab.kernel.accessAllowed ? 'block' : 'none';\n",
              "\n",
              "        async function convertToInteractive(key) {\n",
              "          const element = document.querySelector('#df-9580f830-bdf7-4720-ae26-35b9b8afb934');\n",
              "          const dataTable =\n",
              "            await google.colab.kernel.invokeFunction('convertToInteractive',\n",
              "                                                     [key], {});\n",
              "          if (!dataTable) return;\n",
              "\n",
              "          const docLinkHtml = 'Like what you see? Visit the ' +\n",
              "            '<a target=\"_blank\" href=https://colab.research.google.com/notebooks/data_table.ipynb>data table notebook</a>'\n",
              "            + ' to learn more about interactive tables.';\n",
              "          element.innerHTML = '';\n",
              "          dataTable['output_type'] = 'display_data';\n",
              "          await google.colab.output.renderOutput(dataTable, element);\n",
              "          const docLink = document.createElement('div');\n",
              "          docLink.innerHTML = docLinkHtml;\n",
              "          element.appendChild(docLink);\n",
              "        }\n",
              "      </script>\n",
              "    </div>\n",
              "  </div>\n",
              "  "
            ],
            "text/plain": [
              "   movieId                                         title_cast  \\\n",
              "0        1  [Tom Hanks, Tim Allen, Don Rickles, Jim Varney...   \n",
              "1        2  [Robin Williams, Jonathan Hyde, Kirsten Dunst,...   \n",
              "2        3  [Walter Matthau, Jack Lemmon, Sophia Loren, An...   \n",
              "\n",
              "              director  runtime       budget                     plot_keywords  \n",
              "0        John Lasseter     81.0  $30,000,000  toy|rivalry|cowboy|cgi animation  \n",
              "1   Jonathan Hensleigh    104.0  $65,000,000  board game|adventurer|fight|game  \n",
              "2  Mark Steven Johnson    101.0  $25,000,000        boat|lake|neighbor|rivalry  "
            ]
          },
          "metadata": {},
          "execution_count": 19
        }
      ],
      "source": [
        "#spliting the title cast into a list\n",
        "imdb = imdb_df.copy()\n",
        "imdb['title_cast']=imdb['title_cast'].str.split('|') \n",
        "imdb.head(3)"
      ]
    },
    {
      "cell_type": "markdown",
      "metadata": {
        "id": "Ks52qc5gTem0"
      },
      "source": [
        "### Merging datasets"
      ]
    },
    {
      "cell_type": "code",
      "execution_count": null,
      "metadata": {
        "colab": {
          "base_uri": "https://localhost:8080/",
          "height": 493
        },
        "id": "tif3Cg1sTem0",
        "outputId": "09074cca-e528-4ea6-9630-4336b958cc99"
      },
      "outputs": [
        {
          "output_type": "execute_result",
          "data": {
            "text/html": [
              "\n",
              "  <div id=\"df-02f29f7b-477a-4987-8127-0a5c439571bc\">\n",
              "    <div class=\"colab-df-container\">\n",
              "      <div>\n",
              "<style scoped>\n",
              "    .dataframe tbody tr th:only-of-type {\n",
              "        vertical-align: middle;\n",
              "    }\n",
              "\n",
              "    .dataframe tbody tr th {\n",
              "        vertical-align: top;\n",
              "    }\n",
              "\n",
              "    .dataframe thead th {\n",
              "        text-align: right;\n",
              "    }\n",
              "</style>\n",
              "<table border=\"1\" class=\"dataframe\">\n",
              "  <thead>\n",
              "    <tr style=\"text-align: right;\">\n",
              "      <th></th>\n",
              "      <th>movieId</th>\n",
              "      <th>title</th>\n",
              "      <th>genres</th>\n",
              "      <th>title_cast</th>\n",
              "      <th>director</th>\n",
              "      <th>runtime</th>\n",
              "      <th>budget</th>\n",
              "      <th>plot_keywords</th>\n",
              "      <th>movieId</th>\n",
              "      <th>title</th>\n",
              "      <th>genres</th>\n",
              "      <th>release_year</th>\n",
              "    </tr>\n",
              "  </thead>\n",
              "  <tbody>\n",
              "    <tr>\n",
              "      <th>0</th>\n",
              "      <td>1.0</td>\n",
              "      <td>Toy Story (1995)</td>\n",
              "      <td>[adventure, animation, children, comedy, fantasy]</td>\n",
              "      <td>[tomhanks, timallen, donrickles, jimvarney, wa...</td>\n",
              "      <td>johnlasseter</td>\n",
              "      <td>81.0</td>\n",
              "      <td>$30,000,000</td>\n",
              "      <td>[toy, rivalry, cowboy, cgi animation]</td>\n",
              "      <td>1</td>\n",
              "      <td>Toy Story (1995)</td>\n",
              "      <td>[Adventure, Animation, Children, Comedy, Fantasy]</td>\n",
              "      <td>1995</td>\n",
              "    </tr>\n",
              "    <tr>\n",
              "      <th>1</th>\n",
              "      <td>2.0</td>\n",
              "      <td>Jumanji (1995)</td>\n",
              "      <td>[adventure, children, fantasy]</td>\n",
              "      <td>[robinwilliams, jonathanhyde, kirstendunst, br...</td>\n",
              "      <td>jonathanhensleigh</td>\n",
              "      <td>104.0</td>\n",
              "      <td>$65,000,000</td>\n",
              "      <td>[board game, adventurer, fight, game]</td>\n",
              "      <td>2</td>\n",
              "      <td>Jumanji (1995)</td>\n",
              "      <td>[Adventure, Children, Fantasy]</td>\n",
              "      <td>1995</td>\n",
              "    </tr>\n",
              "    <tr>\n",
              "      <th>2</th>\n",
              "      <td>3.0</td>\n",
              "      <td>Grumpier Old Men (1995)</td>\n",
              "      <td>[comedy, romance]</td>\n",
              "      <td>[waltermatthau, jacklemmon, sophialoren, ann-m...</td>\n",
              "      <td>markstevenjohnson</td>\n",
              "      <td>101.0</td>\n",
              "      <td>$25,000,000</td>\n",
              "      <td>[boat, lake, neighbor, rivalry]</td>\n",
              "      <td>3</td>\n",
              "      <td>Grumpier Old Men (1995)</td>\n",
              "      <td>[Comedy, Romance]</td>\n",
              "      <td>1995</td>\n",
              "    </tr>\n",
              "    <tr>\n",
              "      <th>3</th>\n",
              "      <td>4.0</td>\n",
              "      <td>Waiting to Exhale (1995)</td>\n",
              "      <td>[comedy, drama, romance]</td>\n",
              "      <td>[whitneyhouston, angelabassett, lorettadevine,...</td>\n",
              "      <td>terrymcmillan</td>\n",
              "      <td>124.0</td>\n",
              "      <td>$16,000,000</td>\n",
              "      <td>[black american, husband wife relationship, be...</td>\n",
              "      <td>4</td>\n",
              "      <td>Waiting to Exhale (1995)</td>\n",
              "      <td>[Comedy, Drama, Romance]</td>\n",
              "      <td>1995</td>\n",
              "    </tr>\n",
              "    <tr>\n",
              "      <th>4</th>\n",
              "      <td>5.0</td>\n",
              "      <td>Father of the Bride Part II (1995)</td>\n",
              "      <td>[comedy]</td>\n",
              "      <td>[stevemartin, dianekeaton, martinshort, kimber...</td>\n",
              "      <td>alberthackett</td>\n",
              "      <td>106.0</td>\n",
              "      <td>$30,000,000</td>\n",
              "      <td>[fatherhood, doberman, dog, mansion]</td>\n",
              "      <td>5</td>\n",
              "      <td>Father of the Bride Part II (1995)</td>\n",
              "      <td>[Comedy]</td>\n",
              "      <td>1995</td>\n",
              "    </tr>\n",
              "  </tbody>\n",
              "</table>\n",
              "</div>\n",
              "      <button class=\"colab-df-convert\" onclick=\"convertToInteractive('df-02f29f7b-477a-4987-8127-0a5c439571bc')\"\n",
              "              title=\"Convert this dataframe to an interactive table.\"\n",
              "              style=\"display:none;\">\n",
              "        \n",
              "  <svg xmlns=\"http://www.w3.org/2000/svg\" height=\"24px\"viewBox=\"0 0 24 24\"\n",
              "       width=\"24px\">\n",
              "    <path d=\"M0 0h24v24H0V0z\" fill=\"none\"/>\n",
              "    <path d=\"M18.56 5.44l.94 2.06.94-2.06 2.06-.94-2.06-.94-.94-2.06-.94 2.06-2.06.94zm-11 1L8.5 8.5l.94-2.06 2.06-.94-2.06-.94L8.5 2.5l-.94 2.06-2.06.94zm10 10l.94 2.06.94-2.06 2.06-.94-2.06-.94-.94-2.06-.94 2.06-2.06.94z\"/><path d=\"M17.41 7.96l-1.37-1.37c-.4-.4-.92-.59-1.43-.59-.52 0-1.04.2-1.43.59L10.3 9.45l-7.72 7.72c-.78.78-.78 2.05 0 2.83L4 21.41c.39.39.9.59 1.41.59.51 0 1.02-.2 1.41-.59l7.78-7.78 2.81-2.81c.8-.78.8-2.07 0-2.86zM5.41 20L4 18.59l7.72-7.72 1.47 1.35L5.41 20z\"/>\n",
              "  </svg>\n",
              "      </button>\n",
              "      \n",
              "  <style>\n",
              "    .colab-df-container {\n",
              "      display:flex;\n",
              "      flex-wrap:wrap;\n",
              "      gap: 12px;\n",
              "    }\n",
              "\n",
              "    .colab-df-convert {\n",
              "      background-color: #E8F0FE;\n",
              "      border: none;\n",
              "      border-radius: 50%;\n",
              "      cursor: pointer;\n",
              "      display: none;\n",
              "      fill: #1967D2;\n",
              "      height: 32px;\n",
              "      padding: 0 0 0 0;\n",
              "      width: 32px;\n",
              "    }\n",
              "\n",
              "    .colab-df-convert:hover {\n",
              "      background-color: #E2EBFA;\n",
              "      box-shadow: 0px 1px 2px rgba(60, 64, 67, 0.3), 0px 1px 3px 1px rgba(60, 64, 67, 0.15);\n",
              "      fill: #174EA6;\n",
              "    }\n",
              "\n",
              "    [theme=dark] .colab-df-convert {\n",
              "      background-color: #3B4455;\n",
              "      fill: #D2E3FC;\n",
              "    }\n",
              "\n",
              "    [theme=dark] .colab-df-convert:hover {\n",
              "      background-color: #434B5C;\n",
              "      box-shadow: 0px 1px 3px 1px rgba(0, 0, 0, 0.15);\n",
              "      filter: drop-shadow(0px 1px 2px rgba(0, 0, 0, 0.3));\n",
              "      fill: #FFFFFF;\n",
              "    }\n",
              "  </style>\n",
              "\n",
              "      <script>\n",
              "        const buttonEl =\n",
              "          document.querySelector('#df-02f29f7b-477a-4987-8127-0a5c439571bc button.colab-df-convert');\n",
              "        buttonEl.style.display =\n",
              "          google.colab.kernel.accessAllowed ? 'block' : 'none';\n",
              "\n",
              "        async function convertToInteractive(key) {\n",
              "          const element = document.querySelector('#df-02f29f7b-477a-4987-8127-0a5c439571bc');\n",
              "          const dataTable =\n",
              "            await google.colab.kernel.invokeFunction('convertToInteractive',\n",
              "                                                     [key], {});\n",
              "          if (!dataTable) return;\n",
              "\n",
              "          const docLinkHtml = 'Like what you see? Visit the ' +\n",
              "            '<a target=\"_blank\" href=https://colab.research.google.com/notebooks/data_table.ipynb>data table notebook</a>'\n",
              "            + ' to learn more about interactive tables.';\n",
              "          element.innerHTML = '';\n",
              "          dataTable['output_type'] = 'display_data';\n",
              "          await google.colab.output.renderOutput(dataTable, element);\n",
              "          const docLink = document.createElement('div');\n",
              "          docLink.innerHTML = docLinkHtml;\n",
              "          element.appendChild(docLink);\n",
              "        }\n",
              "      </script>\n",
              "    </div>\n",
              "  </div>\n",
              "  "
            ],
            "text/plain": [
              "   movieId                               title  \\\n",
              "0      1.0                    Toy Story (1995)   \n",
              "1      2.0                      Jumanji (1995)   \n",
              "2      3.0             Grumpier Old Men (1995)   \n",
              "3      4.0            Waiting to Exhale (1995)   \n",
              "4      5.0  Father of the Bride Part II (1995)   \n",
              "\n",
              "                                              genres  \\\n",
              "0  [adventure, animation, children, comedy, fantasy]   \n",
              "1                     [adventure, children, fantasy]   \n",
              "2                                  [comedy, romance]   \n",
              "3                           [comedy, drama, romance]   \n",
              "4                                           [comedy]   \n",
              "\n",
              "                                          title_cast           director  \\\n",
              "0  [tomhanks, timallen, donrickles, jimvarney, wa...       johnlasseter   \n",
              "1  [robinwilliams, jonathanhyde, kirstendunst, br...  jonathanhensleigh   \n",
              "2  [waltermatthau, jacklemmon, sophialoren, ann-m...  markstevenjohnson   \n",
              "3  [whitneyhouston, angelabassett, lorettadevine,...      terrymcmillan   \n",
              "4  [stevemartin, dianekeaton, martinshort, kimber...      alberthackett   \n",
              "\n",
              "   runtime       budget                                      plot_keywords  \\\n",
              "0     81.0  $30,000,000              [toy, rivalry, cowboy, cgi animation]   \n",
              "1    104.0  $65,000,000              [board game, adventurer, fight, game]   \n",
              "2    101.0  $25,000,000                    [boat, lake, neighbor, rivalry]   \n",
              "3    124.0  $16,000,000  [black american, husband wife relationship, be...   \n",
              "4    106.0  $30,000,000               [fatherhood, doberman, dog, mansion]   \n",
              "\n",
              "   movieId                               title  \\\n",
              "0        1                    Toy Story (1995)   \n",
              "1        2                      Jumanji (1995)   \n",
              "2        3             Grumpier Old Men (1995)   \n",
              "3        4            Waiting to Exhale (1995)   \n",
              "4        5  Father of the Bride Part II (1995)   \n",
              "\n",
              "                                              genres release_year  \n",
              "0  [Adventure, Animation, Children, Comedy, Fantasy]         1995  \n",
              "1                     [Adventure, Children, Fantasy]         1995  \n",
              "2                                  [Comedy, Romance]         1995  \n",
              "3                           [Comedy, Drama, Romance]         1995  \n",
              "4                                           [Comedy]         1995  "
            ]
          },
          "metadata": {},
          "execution_count": 20
        }
      ],
      "source": [
        "train_eda = train_df.copy()\n",
        "con = pd.concat([train_df[:1000],movies], axis=1)\n",
        "con.head()"
      ]
    },
    {
      "cell_type": "code",
      "execution_count": null,
      "metadata": {
        "colab": {
          "base_uri": "https://localhost:8080/",
          "height": 450
        },
        "id": "ekRFaFuTTem1",
        "outputId": "a3ab8bad-6576-4a12-b818-95dde29fda68",
        "scrolled": true
      },
      "outputs": [
        {
          "output_type": "execute_result",
          "data": {
            "text/html": [
              "\n",
              "  <div id=\"df-f9b31e45-2e0d-4697-a3cb-ac8b2ffda430\">\n",
              "    <div class=\"colab-df-container\">\n",
              "      <div>\n",
              "<style scoped>\n",
              "    .dataframe tbody tr th:only-of-type {\n",
              "        vertical-align: middle;\n",
              "    }\n",
              "\n",
              "    .dataframe tbody tr th {\n",
              "        vertical-align: top;\n",
              "    }\n",
              "\n",
              "    .dataframe thead th {\n",
              "        text-align: right;\n",
              "    }\n",
              "</style>\n",
              "<table border=\"1\" class=\"dataframe\">\n",
              "  <thead>\n",
              "    <tr style=\"text-align: right;\">\n",
              "      <th></th>\n",
              "      <th>movieId</th>\n",
              "      <th>title_cast</th>\n",
              "      <th>director</th>\n",
              "      <th>runtime</th>\n",
              "      <th>budget</th>\n",
              "      <th>plot_keywords</th>\n",
              "      <th>movieId</th>\n",
              "      <th>title</th>\n",
              "      <th>genres</th>\n",
              "      <th>title_cast</th>\n",
              "      <th>director</th>\n",
              "      <th>runtime</th>\n",
              "      <th>budget</th>\n",
              "      <th>plot_keywords</th>\n",
              "      <th>movieId</th>\n",
              "      <th>title</th>\n",
              "      <th>genres</th>\n",
              "      <th>release_year</th>\n",
              "    </tr>\n",
              "  </thead>\n",
              "  <tbody>\n",
              "    <tr>\n",
              "      <th>0</th>\n",
              "      <td>1.0</td>\n",
              "      <td>[Tom Hanks, Tim Allen, Don Rickles, Jim Varney...</td>\n",
              "      <td>John Lasseter</td>\n",
              "      <td>81.0</td>\n",
              "      <td>$30,000,000</td>\n",
              "      <td>toy|rivalry|cowboy|cgi animation</td>\n",
              "      <td>1.0</td>\n",
              "      <td>Toy Story (1995)</td>\n",
              "      <td>[adventure, animation, children, comedy, fantasy]</td>\n",
              "      <td>[tomhanks, timallen, donrickles, jimvarney, wa...</td>\n",
              "      <td>johnlasseter</td>\n",
              "      <td>81.0</td>\n",
              "      <td>$30,000,000</td>\n",
              "      <td>[toy, rivalry, cowboy, cgi animation]</td>\n",
              "      <td>1</td>\n",
              "      <td>Toy Story (1995)</td>\n",
              "      <td>[Adventure, Animation, Children, Comedy, Fantasy]</td>\n",
              "      <td>1995</td>\n",
              "    </tr>\n",
              "    <tr>\n",
              "      <th>1</th>\n",
              "      <td>2.0</td>\n",
              "      <td>[Robin Williams, Jonathan Hyde, Kirsten Dunst,...</td>\n",
              "      <td>Jonathan Hensleigh</td>\n",
              "      <td>104.0</td>\n",
              "      <td>$65,000,000</td>\n",
              "      <td>board game|adventurer|fight|game</td>\n",
              "      <td>2.0</td>\n",
              "      <td>Jumanji (1995)</td>\n",
              "      <td>[adventure, children, fantasy]</td>\n",
              "      <td>[robinwilliams, jonathanhyde, kirstendunst, br...</td>\n",
              "      <td>jonathanhensleigh</td>\n",
              "      <td>104.0</td>\n",
              "      <td>$65,000,000</td>\n",
              "      <td>[board game, adventurer, fight, game]</td>\n",
              "      <td>2</td>\n",
              "      <td>Jumanji (1995)</td>\n",
              "      <td>[Adventure, Children, Fantasy]</td>\n",
              "      <td>1995</td>\n",
              "    </tr>\n",
              "    <tr>\n",
              "      <th>2</th>\n",
              "      <td>3.0</td>\n",
              "      <td>[Walter Matthau, Jack Lemmon, Sophia Loren, An...</td>\n",
              "      <td>Mark Steven Johnson</td>\n",
              "      <td>101.0</td>\n",
              "      <td>$25,000,000</td>\n",
              "      <td>boat|lake|neighbor|rivalry</td>\n",
              "      <td>3.0</td>\n",
              "      <td>Grumpier Old Men (1995)</td>\n",
              "      <td>[comedy, romance]</td>\n",
              "      <td>[waltermatthau, jacklemmon, sophialoren, ann-m...</td>\n",
              "      <td>markstevenjohnson</td>\n",
              "      <td>101.0</td>\n",
              "      <td>$25,000,000</td>\n",
              "      <td>[boat, lake, neighbor, rivalry]</td>\n",
              "      <td>3</td>\n",
              "      <td>Grumpier Old Men (1995)</td>\n",
              "      <td>[Comedy, Romance]</td>\n",
              "      <td>1995</td>\n",
              "    </tr>\n",
              "  </tbody>\n",
              "</table>\n",
              "</div>\n",
              "      <button class=\"colab-df-convert\" onclick=\"convertToInteractive('df-f9b31e45-2e0d-4697-a3cb-ac8b2ffda430')\"\n",
              "              title=\"Convert this dataframe to an interactive table.\"\n",
              "              style=\"display:none;\">\n",
              "        \n",
              "  <svg xmlns=\"http://www.w3.org/2000/svg\" height=\"24px\"viewBox=\"0 0 24 24\"\n",
              "       width=\"24px\">\n",
              "    <path d=\"M0 0h24v24H0V0z\" fill=\"none\"/>\n",
              "    <path d=\"M18.56 5.44l.94 2.06.94-2.06 2.06-.94-2.06-.94-.94-2.06-.94 2.06-2.06.94zm-11 1L8.5 8.5l.94-2.06 2.06-.94-2.06-.94L8.5 2.5l-.94 2.06-2.06.94zm10 10l.94 2.06.94-2.06 2.06-.94-2.06-.94-.94-2.06-.94 2.06-2.06.94z\"/><path d=\"M17.41 7.96l-1.37-1.37c-.4-.4-.92-.59-1.43-.59-.52 0-1.04.2-1.43.59L10.3 9.45l-7.72 7.72c-.78.78-.78 2.05 0 2.83L4 21.41c.39.39.9.59 1.41.59.51 0 1.02-.2 1.41-.59l7.78-7.78 2.81-2.81c.8-.78.8-2.07 0-2.86zM5.41 20L4 18.59l7.72-7.72 1.47 1.35L5.41 20z\"/>\n",
              "  </svg>\n",
              "      </button>\n",
              "      \n",
              "  <style>\n",
              "    .colab-df-container {\n",
              "      display:flex;\n",
              "      flex-wrap:wrap;\n",
              "      gap: 12px;\n",
              "    }\n",
              "\n",
              "    .colab-df-convert {\n",
              "      background-color: #E8F0FE;\n",
              "      border: none;\n",
              "      border-radius: 50%;\n",
              "      cursor: pointer;\n",
              "      display: none;\n",
              "      fill: #1967D2;\n",
              "      height: 32px;\n",
              "      padding: 0 0 0 0;\n",
              "      width: 32px;\n",
              "    }\n",
              "\n",
              "    .colab-df-convert:hover {\n",
              "      background-color: #E2EBFA;\n",
              "      box-shadow: 0px 1px 2px rgba(60, 64, 67, 0.3), 0px 1px 3px 1px rgba(60, 64, 67, 0.15);\n",
              "      fill: #174EA6;\n",
              "    }\n",
              "\n",
              "    [theme=dark] .colab-df-convert {\n",
              "      background-color: #3B4455;\n",
              "      fill: #D2E3FC;\n",
              "    }\n",
              "\n",
              "    [theme=dark] .colab-df-convert:hover {\n",
              "      background-color: #434B5C;\n",
              "      box-shadow: 0px 1px 3px 1px rgba(0, 0, 0, 0.15);\n",
              "      filter: drop-shadow(0px 1px 2px rgba(0, 0, 0, 0.3));\n",
              "      fill: #FFFFFF;\n",
              "    }\n",
              "  </style>\n",
              "\n",
              "      <script>\n",
              "        const buttonEl =\n",
              "          document.querySelector('#df-f9b31e45-2e0d-4697-a3cb-ac8b2ffda430 button.colab-df-convert');\n",
              "        buttonEl.style.display =\n",
              "          google.colab.kernel.accessAllowed ? 'block' : 'none';\n",
              "\n",
              "        async function convertToInteractive(key) {\n",
              "          const element = document.querySelector('#df-f9b31e45-2e0d-4697-a3cb-ac8b2ffda430');\n",
              "          const dataTable =\n",
              "            await google.colab.kernel.invokeFunction('convertToInteractive',\n",
              "                                                     [key], {});\n",
              "          if (!dataTable) return;\n",
              "\n",
              "          const docLinkHtml = 'Like what you see? Visit the ' +\n",
              "            '<a target=\"_blank\" href=https://colab.research.google.com/notebooks/data_table.ipynb>data table notebook</a>'\n",
              "            + ' to learn more about interactive tables.';\n",
              "          element.innerHTML = '';\n",
              "          dataTable['output_type'] = 'display_data';\n",
              "          await google.colab.output.renderOutput(dataTable, element);\n",
              "          const docLink = document.createElement('div');\n",
              "          docLink.innerHTML = docLinkHtml;\n",
              "          element.appendChild(docLink);\n",
              "        }\n",
              "      </script>\n",
              "    </div>\n",
              "  </div>\n",
              "  "
            ],
            "text/plain": [
              "   movieId                                         title_cast  \\\n",
              "0      1.0  [Tom Hanks, Tim Allen, Don Rickles, Jim Varney...   \n",
              "1      2.0  [Robin Williams, Jonathan Hyde, Kirsten Dunst,...   \n",
              "2      3.0  [Walter Matthau, Jack Lemmon, Sophia Loren, An...   \n",
              "\n",
              "              director  runtime       budget  \\\n",
              "0        John Lasseter     81.0  $30,000,000   \n",
              "1   Jonathan Hensleigh    104.0  $65,000,000   \n",
              "2  Mark Steven Johnson    101.0  $25,000,000   \n",
              "\n",
              "                      plot_keywords  movieId                    title  \\\n",
              "0  toy|rivalry|cowboy|cgi animation      1.0         Toy Story (1995)   \n",
              "1  board game|adventurer|fight|game      2.0           Jumanji (1995)   \n",
              "2        boat|lake|neighbor|rivalry      3.0  Grumpier Old Men (1995)   \n",
              "\n",
              "                                              genres  \\\n",
              "0  [adventure, animation, children, comedy, fantasy]   \n",
              "1                     [adventure, children, fantasy]   \n",
              "2                                  [comedy, romance]   \n",
              "\n",
              "                                          title_cast           director  \\\n",
              "0  [tomhanks, timallen, donrickles, jimvarney, wa...       johnlasseter   \n",
              "1  [robinwilliams, jonathanhyde, kirstendunst, br...  jonathanhensleigh   \n",
              "2  [waltermatthau, jacklemmon, sophialoren, ann-m...  markstevenjohnson   \n",
              "\n",
              "   runtime       budget                          plot_keywords  movieId  \\\n",
              "0     81.0  $30,000,000  [toy, rivalry, cowboy, cgi animation]        1   \n",
              "1    104.0  $65,000,000  [board game, adventurer, fight, game]        2   \n",
              "2    101.0  $25,000,000        [boat, lake, neighbor, rivalry]        3   \n",
              "\n",
              "                     title                                             genres  \\\n",
              "0         Toy Story (1995)  [Adventure, Animation, Children, Comedy, Fantasy]   \n",
              "1           Jumanji (1995)                     [Adventure, Children, Fantasy]   \n",
              "2  Grumpier Old Men (1995)                                  [Comedy, Romance]   \n",
              "\n",
              "  release_year  \n",
              "0         1995  \n",
              "1         1995  \n",
              "2         1995  "
            ]
          },
          "metadata": {},
          "execution_count": 21
        }
      ],
      "source": [
        "df= pd.concat([imdb,con], axis=1)\n",
        "df.dropna(inplace=True)\n",
        "df.head(3)"
      ]
    },
    {
      "cell_type": "code",
      "execution_count": null,
      "metadata": {
        "colab": {
          "base_uri": "https://localhost:8080/",
          "height": 206
        },
        "id": "1gDyW2bovIWT",
        "outputId": "6d1045bb-5bbf-4841-b491-eedaf9be0b85"
      },
      "outputs": [
        {
          "output_type": "execute_result",
          "data": {
            "text/html": [
              "\n",
              "  <div id=\"df-100ff123-3da1-4d31-a22b-e5bf861d3990\">\n",
              "    <div class=\"colab-df-container\">\n",
              "      <div>\n",
              "<style scoped>\n",
              "    .dataframe tbody tr th:only-of-type {\n",
              "        vertical-align: middle;\n",
              "    }\n",
              "\n",
              "    .dataframe tbody tr th {\n",
              "        vertical-align: top;\n",
              "    }\n",
              "\n",
              "    .dataframe thead th {\n",
              "        text-align: right;\n",
              "    }\n",
              "</style>\n",
              "<table border=\"1\" class=\"dataframe\">\n",
              "  <thead>\n",
              "    <tr style=\"text-align: right;\">\n",
              "      <th></th>\n",
              "      <th>userId</th>\n",
              "      <th>movieId</th>\n",
              "      <th>rating</th>\n",
              "      <th>timestamp</th>\n",
              "      <th>title</th>\n",
              "      <th>genres</th>\n",
              "      <th>release_year</th>\n",
              "    </tr>\n",
              "  </thead>\n",
              "  <tbody>\n",
              "    <tr>\n",
              "      <th>0</th>\n",
              "      <td>5163</td>\n",
              "      <td>57669</td>\n",
              "      <td>4.0</td>\n",
              "      <td>1518349992</td>\n",
              "      <td>In Bruges (2008)</td>\n",
              "      <td>[Comedy, Crime, Drama, Thriller]</td>\n",
              "      <td>2008</td>\n",
              "    </tr>\n",
              "    <tr>\n",
              "      <th>1</th>\n",
              "      <td>87388</td>\n",
              "      <td>57669</td>\n",
              "      <td>3.5</td>\n",
              "      <td>1237455297</td>\n",
              "      <td>In Bruges (2008)</td>\n",
              "      <td>[Comedy, Crime, Drama, Thriller]</td>\n",
              "      <td>2008</td>\n",
              "    </tr>\n",
              "    <tr>\n",
              "      <th>2</th>\n",
              "      <td>137050</td>\n",
              "      <td>57669</td>\n",
              "      <td>4.0</td>\n",
              "      <td>1425631854</td>\n",
              "      <td>In Bruges (2008)</td>\n",
              "      <td>[Comedy, Crime, Drama, Thriller]</td>\n",
              "      <td>2008</td>\n",
              "    </tr>\n",
              "    <tr>\n",
              "      <th>3</th>\n",
              "      <td>120490</td>\n",
              "      <td>57669</td>\n",
              "      <td>4.5</td>\n",
              "      <td>1408228517</td>\n",
              "      <td>In Bruges (2008)</td>\n",
              "      <td>[Comedy, Crime, Drama, Thriller]</td>\n",
              "      <td>2008</td>\n",
              "    </tr>\n",
              "    <tr>\n",
              "      <th>4</th>\n",
              "      <td>50616</td>\n",
              "      <td>57669</td>\n",
              "      <td>4.5</td>\n",
              "      <td>1446941640</td>\n",
              "      <td>In Bruges (2008)</td>\n",
              "      <td>[Comedy, Crime, Drama, Thriller]</td>\n",
              "      <td>2008</td>\n",
              "    </tr>\n",
              "  </tbody>\n",
              "</table>\n",
              "</div>\n",
              "      <button class=\"colab-df-convert\" onclick=\"convertToInteractive('df-100ff123-3da1-4d31-a22b-e5bf861d3990')\"\n",
              "              title=\"Convert this dataframe to an interactive table.\"\n",
              "              style=\"display:none;\">\n",
              "        \n",
              "  <svg xmlns=\"http://www.w3.org/2000/svg\" height=\"24px\"viewBox=\"0 0 24 24\"\n",
              "       width=\"24px\">\n",
              "    <path d=\"M0 0h24v24H0V0z\" fill=\"none\"/>\n",
              "    <path d=\"M18.56 5.44l.94 2.06.94-2.06 2.06-.94-2.06-.94-.94-2.06-.94 2.06-2.06.94zm-11 1L8.5 8.5l.94-2.06 2.06-.94-2.06-.94L8.5 2.5l-.94 2.06-2.06.94zm10 10l.94 2.06.94-2.06 2.06-.94-2.06-.94-.94-2.06-.94 2.06-2.06.94z\"/><path d=\"M17.41 7.96l-1.37-1.37c-.4-.4-.92-.59-1.43-.59-.52 0-1.04.2-1.43.59L10.3 9.45l-7.72 7.72c-.78.78-.78 2.05 0 2.83L4 21.41c.39.39.9.59 1.41.59.51 0 1.02-.2 1.41-.59l7.78-7.78 2.81-2.81c.8-.78.8-2.07 0-2.86zM5.41 20L4 18.59l7.72-7.72 1.47 1.35L5.41 20z\"/>\n",
              "  </svg>\n",
              "      </button>\n",
              "      \n",
              "  <style>\n",
              "    .colab-df-container {\n",
              "      display:flex;\n",
              "      flex-wrap:wrap;\n",
              "      gap: 12px;\n",
              "    }\n",
              "\n",
              "    .colab-df-convert {\n",
              "      background-color: #E8F0FE;\n",
              "      border: none;\n",
              "      border-radius: 50%;\n",
              "      cursor: pointer;\n",
              "      display: none;\n",
              "      fill: #1967D2;\n",
              "      height: 32px;\n",
              "      padding: 0 0 0 0;\n",
              "      width: 32px;\n",
              "    }\n",
              "\n",
              "    .colab-df-convert:hover {\n",
              "      background-color: #E2EBFA;\n",
              "      box-shadow: 0px 1px 2px rgba(60, 64, 67, 0.3), 0px 1px 3px 1px rgba(60, 64, 67, 0.15);\n",
              "      fill: #174EA6;\n",
              "    }\n",
              "\n",
              "    [theme=dark] .colab-df-convert {\n",
              "      background-color: #3B4455;\n",
              "      fill: #D2E3FC;\n",
              "    }\n",
              "\n",
              "    [theme=dark] .colab-df-convert:hover {\n",
              "      background-color: #434B5C;\n",
              "      box-shadow: 0px 1px 3px 1px rgba(0, 0, 0, 0.15);\n",
              "      filter: drop-shadow(0px 1px 2px rgba(0, 0, 0, 0.3));\n",
              "      fill: #FFFFFF;\n",
              "    }\n",
              "  </style>\n",
              "\n",
              "      <script>\n",
              "        const buttonEl =\n",
              "          document.querySelector('#df-100ff123-3da1-4d31-a22b-e5bf861d3990 button.colab-df-convert');\n",
              "        buttonEl.style.display =\n",
              "          google.colab.kernel.accessAllowed ? 'block' : 'none';\n",
              "\n",
              "        async function convertToInteractive(key) {\n",
              "          const element = document.querySelector('#df-100ff123-3da1-4d31-a22b-e5bf861d3990');\n",
              "          const dataTable =\n",
              "            await google.colab.kernel.invokeFunction('convertToInteractive',\n",
              "                                                     [key], {});\n",
              "          if (!dataTable) return;\n",
              "\n",
              "          const docLinkHtml = 'Like what you see? Visit the ' +\n",
              "            '<a target=\"_blank\" href=https://colab.research.google.com/notebooks/data_table.ipynb>data table notebook</a>'\n",
              "            + ' to learn more about interactive tables.';\n",
              "          element.innerHTML = '';\n",
              "          dataTable['output_type'] = 'display_data';\n",
              "          await google.colab.output.renderOutput(dataTable, element);\n",
              "          const docLink = document.createElement('div');\n",
              "          docLink.innerHTML = docLinkHtml;\n",
              "          element.appendChild(docLink);\n",
              "        }\n",
              "      </script>\n",
              "    </div>\n",
              "  </div>\n",
              "  "
            ],
            "text/plain": [
              "   userId  movieId  rating   timestamp             title  \\\n",
              "0    5163    57669     4.0  1518349992  In Bruges (2008)   \n",
              "1   87388    57669     3.5  1237455297  In Bruges (2008)   \n",
              "2  137050    57669     4.0  1425631854  In Bruges (2008)   \n",
              "3  120490    57669     4.5  1408228517  In Bruges (2008)   \n",
              "4   50616    57669     4.5  1446941640  In Bruges (2008)   \n",
              "\n",
              "                             genres release_year  \n",
              "0  [Comedy, Crime, Drama, Thriller]         2008  \n",
              "1  [Comedy, Crime, Drama, Thriller]         2008  \n",
              "2  [Comedy, Crime, Drama, Thriller]         2008  \n",
              "3  [Comedy, Crime, Drama, Thriller]         2008  \n",
              "4  [Comedy, Crime, Drama, Thriller]         2008  "
            ]
          },
          "metadata": {},
          "execution_count": 22
        }
      ],
      "source": [
        "# Merging the trian  and movies data\n",
        "data = pd.merge(train, movies, on='movieId')\n",
        "data.head()"
      ]
    },
    {
      "cell_type": "markdown",
      "metadata": {
        "id": "-fAiES80Tem2"
      },
      "source": [
        "### Data Visualisation "
      ]
    },
    {
      "cell_type": "code",
      "execution_count": null,
      "metadata": {
        "id": "C-J05GJJvIWU"
      },
      "outputs": [],
      "source": [
        "#fig = plt.figure(figsize=(12, 8))\n",
        "#recmetrics.long_tail_plot(df=data, \n",
        "#            item_id_column=\"movieId\", \n",
        "#             interaction_type=\"movie ratings\", \n",
        "#            percentage=0.5,\n",
        "#            x_labels=False)"
      ]
    },
    {
      "cell_type": "markdown",
      "metadata": {
        "id": "Oax6Z04uvIWU"
      },
      "source": [
        "The plot shows the distribution of ratings/movie popularity with 653 popular movies and 45760 unpopular movies."
      ]
    },
    {
      "cell_type": "markdown",
      "metadata": {
        "id": "5ZLepwqUTem2"
      },
      "source": [
        "**Movie Ratings from the User**"
      ]
    },
    {
      "cell_type": "markdown",
      "metadata": {
        "id": "-dLUvmzIV4ea"
      },
      "source": [
        "A rating is a valuation or rank on a scale. In this section will be visualising the distribution of movie ratings from the user. "
      ]
    },
    {
      "cell_type": "code",
      "execution_count": null,
      "metadata": {
        "id": "yALAcSclV4ec",
        "outputId": "e893f321-74bf-4ec2-9d78-e49cfb517329",
        "colab": {
          "base_uri": "https://localhost:8080/"
        }
      },
      "outputs": [
        {
          "output_type": "execute_result",
          "data": {
            "text/plain": [
              "userId\n",
              "72315     12952\n",
              "80974      3680\n",
              "137293     3588\n",
              "33844      3208\n",
              "20055      3050\n",
              "Name: rating, dtype: int64"
            ]
          },
          "metadata": {},
          "execution_count": 26
        }
      ],
      "source": [
        "# No of ratings per users\n",
        "no_of_rated_movies_per_user = data.groupby(by = \"userId\")[\"rating\"].count().sort_values(ascending = False)\n",
        "\n",
        "no_of_rated_movies_per_user.head()"
      ]
    },
    {
      "cell_type": "markdown",
      "metadata": {
        "id": "LkqP8U1aV4ee"
      },
      "source": [
        "The user who have rated most movies with 12952 ratings is user no 72315"
      ]
    },
    {
      "cell_type": "code",
      "execution_count": null,
      "metadata": {
        "colab": {
          "base_uri": "https://localhost:8080/",
          "height": 279
        },
        "id": "oXBA9NZMTem2",
        "outputId": "23a697a2-81fc-4a77-bff4-15058f9a1680"
      },
      "outputs": [
        {
          "output_type": "display_data",
          "data": {
            "image/png": "[encoded data removed]",
            "text/plain": [
              "<Figure size 432x288 with 1 Axes>"
            ]
          },
          "metadata": {
            "needs_background": "light"
          }
        }
      ],
      "source": [
        "# Distplot of ratings \n",
        "sns.distplot(data[\"rating\"], color='blue');"
      ]
    },
    {
      "cell_type": "markdown",
      "metadata": {
        "id": "rgIzYHGYV4eh"
      },
      "source": [
        "Most movies recieved ratings of 4, while others recieved less. It was expected that there would be a normal distrubtion with a mean rating of 3. Instead, we observe that users tend to rate movies quite favourably and tend to avoid negative ratings. This skew might be explained by the tendency of users to rate movies they liked. In other words, if a user doesn't like a movie, it is unlikely that they will watch it through to the end, let alone rate it."
      ]
    },
    {
      "cell_type": "markdown",
      "metadata": {
        "id": "m9rxVGhyTem2"
      },
      "source": [
        "**Exploring Movie Genres**"
      ]
    },
    {
      "cell_type": "markdown",
      "metadata": {
        "id": "_MlCJnjgV4em"
      },
      "source": [
        "Film genres are categories that define a movie based on its narrative elements. Each genre is unique in the types of stories they tell. Genres have changed and evolved over time, creating several subgenres that further define the filmmaking styles. In this section will be looking at the top genres from the dataset."
      ]
    },
    {
      "cell_type": "code",
      "execution_count": null,
      "metadata": {
        "id": "VKpJP_oDTem2"
      },
      "outputs": [],
      "source": [
        "# Ploting top genres in the Dataset\n",
        "plt.figure(figsize=(20, 10))\n",
        "gen = data['genres'].explode()\n",
        "ax=sns.countplot(x=gen, order=gen.value_counts().index[:30],color='blue')\n",
        "ax.set_title('Popular Genres', fontsize=15)\n",
        "plt.xticks(rotation =90)\n",
        "plt.show()"
      ]
    },
    {
      "cell_type": "markdown",
      "metadata": {
        "id": "RktW5MruvIWV"
      },
      "source": [
        "Drama, Comedy and Thriller are top 3 most common movie genres."
      ]
    },
    {
      "cell_type": "markdown",
      "metadata": {
        "id": "dqqvN8rsTem3"
      },
      "source": [
        "#### Movies made per year "
      ]
    },
    {
      "cell_type": "markdown",
      "metadata": {
        "id": "WX6ddEjRV4er"
      },
      "source": [
        "Film as an art form has drawn on several earlier traditions in the fields such as (oral) storytelling, literature, theatre and visual arts. \n",
        "The dataset has 48213 movies avalable to us. it is reasonable to assume that it does include almost every major film released during those years with this assumptions in mind, let us take a look at the number of movies produced by the year. In this section will be looking at how many movies are released per year. "
      ]
    },
    {
      "cell_type": "code",
      "execution_count": null,
      "metadata": {
        "id": "pWMpxS9FTem3"
      },
      "outputs": [],
      "source": [
        "# Plot movies released per year\n",
        "plt.figure(figsize=(15,10))\n",
        "sns.set(style=\"darkgrid\")\n",
        "ax = sns.countplot(y=movies['release_year'], data=df, order=df['release_year'].value_counts().index[0:30],color='blue')\n",
        "ax.set_title('Total Movies Released per Year', fontsize= 20)"
      ]
    },
    {
      "cell_type": "markdown",
      "metadata": {
        "id": "zoliveU0vIWW"
      },
      "source": [
        "from 1955 The number of movies released each year increased, whereas it was previously fluctuating."
      ]
    },
    {
      "cell_type": "markdown",
      "metadata": {
        "id": "vRUYOLMYTem3"
      },
      "source": [
        "#### Popular Cast Members "
      ]
    },
    {
      "cell_type": "markdown",
      "metadata": {
        "id": "b_y3G9jgV4ev"
      },
      "source": [
        "The cast of a play or film is all the people who act in it. Let us now explore the cast of our movies."
      ]
    },
    {
      "cell_type": "code",
      "execution_count": null,
      "metadata": {
        "id": "qVJCR3i8Tem3"
      },
      "outputs": [],
      "source": [
        "# Plot popular cast\n",
        "plt.figure(figsize = (20,5))\n",
        "cast=imdb['title_cast'].explode()\n",
        "ax=sns.countplot(x=cast, order = cast.value_counts().index[:30],color='red')\n",
        "ax.set_title('Popular Cast',fontsize=15)\n",
        "plt.xticks(rotation=90)\n",
        "plt.show()"
      ]
    },
    {
      "cell_type": "markdown",
      "metadata": {
        "id": "dcATMb3vvIWW"
      },
      "source": [
        "The most well-known cast members are Samuel L. Jackson and Steve Buscemi, with the remaining members having a slight variation in recognition."
      ]
    },
    {
      "cell_type": "code",
      "execution_count": null,
      "metadata": {
        "id": "7DxB6DSBTem3"
      },
      "outputs": [],
      "source": [
        "from wordcloud import WordCloud, STOPWORDS, ImageColorGenerator\n",
        "cast = df['title_cast'].explode()\n",
        "text = list(set(cast))\n",
        "plt.rcParams['figure.figsize'] = (13, 13)\n",
        "wordcloud = WordCloud(max_font_size=50, max_words=100,background_color=\"white\").generate(str(text))\n",
        "\n",
        "plt.imshow(wordcloud,interpolation=\"bilinear\")\n",
        "plt.axis(\"off\")\n",
        "plt.show()"
      ]
    },
    {
      "cell_type": "markdown",
      "metadata": {
        "id": "5yzpS_WWTem4"
      },
      "source": [
        "### Movie Runtime"
      ]
    },
    {
      "cell_type": "code",
      "execution_count": null,
      "metadata": {
        "id": "o8gu5S-RTem4",
        "outputId": "b8991c05-d717-466e-db38-2eaf7c0f80a8"
      },
      "outputs": [
        {
          "data": {
            "text/plain": [
              "count    467.000000\n",
              "mean     109.119914\n",
              "std       18.188763\n",
              "min       76.000000\n",
              "25%       96.500000\n",
              "50%      107.000000\n",
              "75%      117.000000\n",
              "max      195.000000\n",
              "Name: runtime, dtype: float64"
            ]
          },
          "execution_count": 46,
          "metadata": {},
          "output_type": "execute_result"
        }
      ],
      "source": [
        "# Describe the runtime \n",
        "df['runtime'].describe()"
      ]
    },
    {
      "cell_type": "code",
      "execution_count": null,
      "metadata": {
        "id": "4jDE9TnXTem4",
        "outputId": "2288284a-26b5-4a30-a785-09db5ccf80e9"
      },
      "outputs": [
        {
          "data": {
            "text/plain": [
              "<matplotlib.axes._subplots.AxesSubplot at 0x20b0420ceb0>"
            ]
          },
          "execution_count": 47,
          "metadata": {},
          "output_type": "execute_result"
        },
        {
          "data": {
            "image/png": "[encoded data removed]",
            "text/plain": [
              "<Figure size 936x936 with 1 Axes>"
            ]
          },
          "metadata": {},
          "output_type": "display_data"
        }
      ],
      "source": [
        "#Plot the Runtime\n",
        "sns.set(style=\"darkgrid\", )\n",
        "sns.kdeplot(data=df['runtime'], shade=True, color='red')"
      ]
    },
    {
      "cell_type": "markdown",
      "metadata": {
        "id": "OBP7PkzqTem5"
      },
      "source": [
        "#### Long Movies"
      ]
    },
    {
      "cell_type": "code",
      "execution_count": null,
      "metadata": {
        "id": "b8IWKOlcTem5",
        "outputId": "ea2063a2-2cd5-4db9-96a0-377bc1e494ea"
      },
      "outputs": [
        {
          "data": {
            "text/html": [
              "<div>\n",
              "<style scoped>\n",
              "    .dataframe tbody tr th:only-of-type {\n",
              "        vertical-align: middle;\n",
              "    }\n",
              "\n",
              "    .dataframe tbody tr th {\n",
              "        vertical-align: top;\n",
              "    }\n",
              "\n",
              "    .dataframe thead th {\n",
              "        text-align: right;\n",
              "    }\n",
              "</style>\n",
              "<table border=\"1\" class=\"dataframe\">\n",
              "  <thead>\n",
              "    <tr style=\"text-align: right;\">\n",
              "      <th></th>\n",
              "      <th>runtime</th>\n",
              "      <th>title</th>\n",
              "      <th>release_year</th>\n",
              "    </tr>\n",
              "  </thead>\n",
              "  <tbody>\n",
              "    <tr>\n",
              "      <th>523</th>\n",
              "      <td>195.0</td>\n",
              "      <td>Scout, The (1994)</td>\n",
              "      <td>1994</td>\n",
              "    </tr>\n",
              "    <tr>\n",
              "      <th>13</th>\n",
              "      <td>192.0</td>\n",
              "      <td>Nixon (1995)</td>\n",
              "      <td>1995</td>\n",
              "    </tr>\n",
              "    <tr>\n",
              "      <th>379</th>\n",
              "      <td>191.0</td>\n",
              "      <td>Bad Company (1995)</td>\n",
              "      <td>1995</td>\n",
              "    </tr>\n",
              "    <tr>\n",
              "      <th>108</th>\n",
              "      <td>178.0</td>\n",
              "      <td>Braveheart (1995)</td>\n",
              "      <td>1995</td>\n",
              "    </tr>\n",
              "    <tr>\n",
              "      <th>15</th>\n",
              "      <td>178.0</td>\n",
              "      <td>Casino (1995)</td>\n",
              "      <td>1995</td>\n",
              "    </tr>\n",
              "    <tr>\n",
              "      <th>442</th>\n",
              "      <td>171.0</td>\n",
              "      <td>Favor, The (1994)</td>\n",
              "      <td>1994</td>\n",
              "    </tr>\n",
              "    <tr>\n",
              "      <th>243</th>\n",
              "      <td>170.0</td>\n",
              "      <td>Hoop Dreams (1994)</td>\n",
              "      <td>1994</td>\n",
              "    </tr>\n",
              "    <tr>\n",
              "      <th>657</th>\n",
              "      <td>170.0</td>\n",
              "      <td>Song of the Little Road (Pather Panchali) (1955)</td>\n",
              "      <td>1955</td>\n",
              "    </tr>\n",
              "    <tr>\n",
              "      <th>5</th>\n",
              "      <td>170.0</td>\n",
              "      <td>Heat (1995)</td>\n",
              "      <td>1995</td>\n",
              "    </tr>\n",
              "    <tr>\n",
              "      <th>558</th>\n",
              "      <td>160.0</td>\n",
              "      <td>Cronos (1993)</td>\n",
              "      <td>1993</td>\n",
              "    </tr>\n",
              "  </tbody>\n",
              "</table>\n",
              "</div>"
            ],
            "text/plain": [
              "     runtime                                             title release_year\n",
              "523    195.0                                 Scout, The (1994)         1994\n",
              "13     192.0                                      Nixon (1995)         1995\n",
              "379    191.0                                Bad Company (1995)         1995\n",
              "108    178.0                                 Braveheart (1995)         1995\n",
              "15     178.0                                     Casino (1995)         1995\n",
              "442    171.0                                 Favor, The (1994)         1994\n",
              "243    170.0                                Hoop Dreams (1994)         1994\n",
              "657    170.0  Song of the Little Road (Pather Panchali) (1955)         1955\n",
              "5      170.0                                       Heat (1995)         1995\n",
              "558    160.0                                     Cronos (1993)         1993"
            ]
          },
          "execution_count": 48,
          "metadata": {},
          "output_type": "execute_result"
        }
      ],
      "source": [
        "#Show movies with long lengths \n",
        "df[df['runtime'] > 0][['runtime', 'title', 'release_year']].sort_values('runtime', ascending=False).head(10)"
      ]
    },
    {
      "cell_type": "markdown",
      "metadata": {
        "id": "2P4lBq8CV4e8"
      },
      "source": [
        "As shown in the above table, the longest movie is 'Scout The' with the runtime of 195 minutes from the dataset."
      ]
    },
    {
      "cell_type": "markdown",
      "metadata": {
        "id": "VfM5qKDmTem5"
      },
      "source": [
        "#### Short Movies "
      ]
    },
    {
      "cell_type": "code",
      "execution_count": null,
      "metadata": {
        "id": "sAl1tKrPTem5",
        "outputId": "347b2d19-d47d-4c2d-df8e-b99bbf6e4fe1"
      },
      "outputs": [
        {
          "data": {
            "text/html": [
              "<div>\n",
              "<style scoped>\n",
              "    .dataframe tbody tr th:only-of-type {\n",
              "        vertical-align: middle;\n",
              "    }\n",
              "\n",
              "    .dataframe tbody tr th {\n",
              "        vertical-align: top;\n",
              "    }\n",
              "\n",
              "    .dataframe thead th {\n",
              "        text-align: right;\n",
              "    }\n",
              "</style>\n",
              "<table border=\"1\" class=\"dataframe\">\n",
              "  <thead>\n",
              "    <tr style=\"text-align: right;\">\n",
              "      <th></th>\n",
              "      <th>runtime</th>\n",
              "      <th>title</th>\n",
              "      <th>release_year</th>\n",
              "    </tr>\n",
              "  </thead>\n",
              "  <tbody>\n",
              "    <tr>\n",
              "      <th>547</th>\n",
              "      <td>76.0</td>\n",
              "      <td>Tombstone (1993)</td>\n",
              "      <td>1993</td>\n",
              "    </tr>\n",
              "    <tr>\n",
              "      <th>236</th>\n",
              "      <td>78.0</td>\n",
              "      <td>Goofy Movie, A (1995)</td>\n",
              "      <td>1995</td>\n",
              "    </tr>\n",
              "    <tr>\n",
              "      <th>653</th>\n",
              "      <td>79.0</td>\n",
              "      <td>Faithful (1996)</td>\n",
              "      <td>1996</td>\n",
              "    </tr>\n",
              "    <tr>\n",
              "      <th>553</th>\n",
              "      <td>80.0</td>\n",
              "      <td>Beans of Egypt, Maine, The (1994)</td>\n",
              "      <td>1994</td>\n",
              "    </tr>\n",
              "    <tr>\n",
              "      <th>814</th>\n",
              "      <td>80.0</td>\n",
              "      <td>Ransom (1996)</td>\n",
              "      <td>1996</td>\n",
              "    </tr>\n",
              "    <tr>\n",
              "      <th>0</th>\n",
              "      <td>81.0</td>\n",
              "      <td>Toy Story (1995)</td>\n",
              "      <td>1995</td>\n",
              "    </tr>\n",
              "    <tr>\n",
              "      <th>730</th>\n",
              "      <td>81.0</td>\n",
              "      <td>Force of Evil (1948)</td>\n",
              "      <td>1948</td>\n",
              "    </tr>\n",
              "    <tr>\n",
              "      <th>47</th>\n",
              "      <td>81.0</td>\n",
              "      <td>Pocahontas (1995)</td>\n",
              "      <td>1995</td>\n",
              "    </tr>\n",
              "    <tr>\n",
              "      <th>570</th>\n",
              "      <td>82.0</td>\n",
              "      <td>Andre (1994)</td>\n",
              "      <td>1994</td>\n",
              "    </tr>\n",
              "    <tr>\n",
              "      <th>728</th>\n",
              "      <td>83.0</td>\n",
              "      <td>Brothers in Trouble (1995)</td>\n",
              "      <td>1995</td>\n",
              "    </tr>\n",
              "  </tbody>\n",
              "</table>\n",
              "</div>"
            ],
            "text/plain": [
              "     runtime                              title release_year\n",
              "547     76.0                   Tombstone (1993)         1993\n",
              "236     78.0              Goofy Movie, A (1995)         1995\n",
              "653     79.0                    Faithful (1996)         1996\n",
              "553     80.0  Beans of Egypt, Maine, The (1994)         1994\n",
              "814     80.0                      Ransom (1996)         1996\n",
              "0       81.0                   Toy Story (1995)         1995\n",
              "730     81.0               Force of Evil (1948)         1948\n",
              "47      81.0                  Pocahontas (1995)         1995\n",
              "570     82.0                       Andre (1994)         1994\n",
              "728     83.0         Brothers in Trouble (1995)         1995"
            ]
          },
          "execution_count": 49,
          "metadata": {},
          "output_type": "execute_result"
        }
      ],
      "source": [
        "# Show movies with short lengths\n",
        "df[df['runtime'] > 0][['runtime', 'title', 'release_year']].sort_values('runtime').head(10)"
      ]
    },
    {
      "cell_type": "markdown",
      "metadata": {
        "id": "KR5ZIXDSV4fA"
      },
      "source": [
        "As shown in the above table, the movie with the shortest runtime is 'Tombstone' released in 1993 in the dataset"
      ]
    },
    {
      "cell_type": "markdown",
      "metadata": {
        "id": "9zdoofoQTem5"
      },
      "source": [
        "### Tags "
      ]
    },
    {
      "cell_type": "markdown",
      "metadata": {
        "id": "GUGmXYhgV4fC"
      },
      "source": [
        "Movie tags are another way to relate movies to each other, next to Movie genres. Contrary to genres, there is no hierarchy in tags; so there are no “subtags. In this section will be exploring movie tags. These tags allows users to attach free plot keywords."
      ]
    },
    {
      "cell_type": "code",
      "execution_count": null,
      "metadata": {
        "id": "5N9yAupWTem6"
      },
      "outputs": [],
      "source": [
        "tags = tags_df['tag']\n",
        "tags.dropna(inplace=True)"
      ]
    },
    {
      "cell_type": "code",
      "execution_count": null,
      "metadata": {
        "id": "928ZCtPmTem6",
        "outputId": "cadd7817-d14a-4ea3-8754-f1a72e055065"
      },
      "outputs": [
        {
          "data": {
            "text/plain": [
              "<function matplotlib.pyplot.show(*args, **kw)>"
            ]
          },
          "execution_count": 51,
          "metadata": {},
          "output_type": "execute_result"
        },
        {
          "data": {
            "image/png": "[encoded data removed]",
            "text/plain": [
              "<Figure size 1080x360 with 1 Axes>"
            ]
          },
          "metadata": {},
          "output_type": "display_data"
        }
      ],
      "source": [
        "#Plot tags \n",
        "plt.figure(figsize=(15, 5))\n",
        "ax = sns.countplot(x=tags, order = tags.value_counts().index[:20],color = 'blue')\n",
        "ax.set_title('Top Tags', fontsize=15)\n",
        "plt.xticks(rotation=90)\n",
        "plt.show"
      ]
    },
    {
      "cell_type": "markdown",
      "metadata": {
        "id": "ikbS7S49V4fJ"
      },
      "source": [
        "Sci-fi is the most popular tag while classic has the least number of counts."
      ]
    },
    {
      "cell_type": "markdown",
      "metadata": {
        "id": "ba2pKmsfTem9"
      },
      "source": [
        "<a id=\"features\"></a>\n",
        "## 5. **Feature engineering And Selection**"
      ]
    },
    {
      "cell_type": "markdown",
      "metadata": {
        "id": "mqD4wgJqvIWa"
      },
      "source": [
        "In this section, we extract features from raw data. The motivation is to use these extra features to improve the quality of results from a machine learning process, compared with supplying only the raw data to the machine learning process.\n",
        "\n",
        "The features engineered for content-based and collaborative filtering are different because methods do not use the same dataset."
      ]
    },
    {
      "cell_type": "markdown",
      "metadata": {
        "id": "zULU_9xnTem9"
      },
      "source": [
        "### **Content-based Filtering**"
      ]
    },
    {
      "cell_type": "markdown",
      "metadata": {
        "id": "8xJa86KtTem9"
      },
      "source": [
        "#### Feature Engineering"
      ]
    },
    {
      "cell_type": "code",
      "execution_count": null,
      "metadata": {
        "colab": {
          "base_uri": "https://localhost:8080/"
        },
        "id": "TzTiIIzWTem9",
        "outputId": "e7bfa707-0eda-4abc-de90-cd7c0f41c733"
      },
      "outputs": [
        {
          "data": {
            "text/html": [
              "\n",
              "  <div id=\"df-2ce726b7-47e2-4af8-8f28-0d587597dd32\">\n",
              "    <div class=\"colab-df-container\">\n",
              "      <div>\n",
              "<style scoped>\n",
              "    .dataframe tbody tr th:only-of-type {\n",
              "        vertical-align: middle;\n",
              "    }\n",
              "\n",
              "    .dataframe tbody tr th {\n",
              "        vertical-align: top;\n",
              "    }\n",
              "\n",
              "    .dataframe thead th {\n",
              "        text-align: right;\n",
              "    }\n",
              "</style>\n",
              "<table border=\"1\" class=\"dataframe\">\n",
              "  <thead>\n",
              "    <tr style=\"text-align: right;\">\n",
              "      <th></th>\n",
              "      <th>genres</th>\n",
              "      <th>title_cast</th>\n",
              "      <th>director</th>\n",
              "      <th>plot_keywords</th>\n",
              "    </tr>\n",
              "    <tr>\n",
              "      <th>title</th>\n",
              "      <th></th>\n",
              "      <th></th>\n",
              "      <th></th>\n",
              "      <th></th>\n",
              "    </tr>\n",
              "  </thead>\n",
              "  <tbody>\n",
              "    <tr>\n",
              "      <th>Toy Story (1995)</th>\n",
              "      <td>[adventure, animation, children, comedy, fantasy]</td>\n",
              "      <td>[tomhanks, timallen, donrickles, jimvarney, wa...</td>\n",
              "      <td>johnlasseter</td>\n",
              "      <td>[toy, rivalry, cowboy, cgi animation]</td>\n",
              "    </tr>\n",
              "    <tr>\n",
              "      <th>Jumanji (1995)</th>\n",
              "      <td>[adventure, children, fantasy]</td>\n",
              "      <td>[robinwilliams, jonathanhyde, kirstendunst, br...</td>\n",
              "      <td>jonathanhensleigh</td>\n",
              "      <td>[board game, adventurer, fight, game]</td>\n",
              "    </tr>\n",
              "    <tr>\n",
              "      <th>Grumpier Old Men (1995)</th>\n",
              "      <td>[comedy, romance]</td>\n",
              "      <td>[waltermatthau, jacklemmon, sophialoren, ann-m...</td>\n",
              "      <td>markstevenjohnson</td>\n",
              "      <td>[boat, lake, neighbor, rivalry]</td>\n",
              "    </tr>\n",
              "    <tr>\n",
              "      <th>Waiting to Exhale (1995)</th>\n",
              "      <td>[comedy, drama, romance]</td>\n",
              "      <td>[whitneyhouston, angelabassett, lorettadevine,...</td>\n",
              "      <td>terrymcmillan</td>\n",
              "      <td>[black american, husband wife relationship, be...</td>\n",
              "    </tr>\n",
              "    <tr>\n",
              "      <th>Father of the Bride Part II (1995)</th>\n",
              "      <td>[comedy]</td>\n",
              "      <td>[stevemartin, dianekeaton, martinshort, kimber...</td>\n",
              "      <td>alberthackett</td>\n",
              "      <td>[fatherhood, doberman, dog, mansion]</td>\n",
              "    </tr>\n",
              "  </tbody>\n",
              "</table>\n",
              "</div>\n",
              "      <button class=\"colab-df-convert\" onclick=\"convertToInteractive('df-2ce726b7-47e2-4af8-8f28-0d587597dd32')\"\n",
              "              title=\"Convert this dataframe to an interactive table.\"\n",
              "              style=\"display:none;\">\n",
              "        \n",
              "  <svg xmlns=\"http://www.w3.org/2000/svg\" height=\"24px\"viewBox=\"0 0 24 24\"\n",
              "       width=\"24px\">\n",
              "    <path d=\"M0 0h24v24H0V0z\" fill=\"none\"/>\n",
              "    <path d=\"M18.56 5.44l.94 2.06.94-2.06 2.06-.94-2.06-.94-.94-2.06-.94 2.06-2.06.94zm-11 1L8.5 8.5l.94-2.06 2.06-.94-2.06-.94L8.5 2.5l-.94 2.06-2.06.94zm10 10l.94 2.06.94-2.06 2.06-.94-2.06-.94-.94-2.06-.94 2.06-2.06.94z\"/><path d=\"M17.41 7.96l-1.37-1.37c-.4-.4-.92-.59-1.43-.59-.52 0-1.04.2-1.43.59L10.3 9.45l-7.72 7.72c-.78.78-.78 2.05 0 2.83L4 21.41c.39.39.9.59 1.41.59.51 0 1.02-.2 1.41-.59l7.78-7.78 2.81-2.81c.8-.78.8-2.07 0-2.86zM5.41 20L4 18.59l7.72-7.72 1.47 1.35L5.41 20z\"/>\n",
              "  </svg>\n",
              "      </button>\n",
              "      \n",
              "  <style>\n",
              "    .colab-df-container {\n",
              "      display:flex;\n",
              "      flex-wrap:wrap;\n",
              "      gap: 12px;\n",
              "    }\n",
              "\n",
              "    .colab-df-convert {\n",
              "      background-color: #E8F0FE;\n",
              "      border: none;\n",
              "      border-radius: 50%;\n",
              "      cursor: pointer;\n",
              "      display: none;\n",
              "      fill: #1967D2;\n",
              "      height: 32px;\n",
              "      padding: 0 0 0 0;\n",
              "      width: 32px;\n",
              "    }\n",
              "\n",
              "    .colab-df-convert:hover {\n",
              "      background-color: #E2EBFA;\n",
              "      box-shadow: 0px 1px 2px rgba(60, 64, 67, 0.3), 0px 1px 3px 1px rgba(60, 64, 67, 0.15);\n",
              "      fill: #174EA6;\n",
              "    }\n",
              "\n",
              "    [theme=dark] .colab-df-convert {\n",
              "      background-color: #3B4455;\n",
              "      fill: #D2E3FC;\n",
              "    }\n",
              "\n",
              "    [theme=dark] .colab-df-convert:hover {\n",
              "      background-color: #434B5C;\n",
              "      box-shadow: 0px 1px 3px 1px rgba(0, 0, 0, 0.15);\n",
              "      filter: drop-shadow(0px 1px 2px rgba(0, 0, 0, 0.3));\n",
              "      fill: #FFFFFF;\n",
              "    }\n",
              "  </style>\n",
              "\n",
              "      <script>\n",
              "        const buttonEl =\n",
              "          document.querySelector('#df-2ce726b7-47e2-4af8-8f28-0d587597dd32 button.colab-df-convert');\n",
              "        buttonEl.style.display =\n",
              "          google.colab.kernel.accessAllowed ? 'block' : 'none';\n",
              "\n",
              "        async function convertToInteractive(key) {\n",
              "          const element = document.querySelector('#df-2ce726b7-47e2-4af8-8f28-0d587597dd32');\n",
              "          const dataTable =\n",
              "            await google.colab.kernel.invokeFunction('convertToInteractive',\n",
              "                                                     [key], {});\n",
              "          if (!dataTable) return;\n",
              "\n",
              "          const docLinkHtml = 'Like what you see? Visit the ' +\n",
              "            '<a target=\"_blank\" href=https://colab.research.google.com/notebooks/data_table.ipynb>data table notebook</a>'\n",
              "            + ' to learn more about interactive tables.';\n",
              "          element.innerHTML = '';\n",
              "          dataTable['output_type'] = 'display_data';\n",
              "          await google.colab.output.renderOutput(dataTable, element);\n",
              "          const docLink = document.createElement('div');\n",
              "          docLink.innerHTML = docLinkHtml;\n",
              "          element.appendChild(docLink);\n",
              "        }\n",
              "      </script>\n",
              "    </div>\n",
              "  </div>\n",
              "  "
            ],
            "text/plain": [
              "                                                                               genres  \\\n",
              "title                                                                                   \n",
              "Toy Story (1995)                    [adventure, animation, children, comedy, fantasy]   \n",
              "Jumanji (1995)                                         [adventure, children, fantasy]   \n",
              "Grumpier Old Men (1995)                                             [comedy, romance]   \n",
              "Waiting to Exhale (1995)                                     [comedy, drama, romance]   \n",
              "Father of the Bride Part II (1995)                                           [comedy]   \n",
              "\n",
              "                                                                           title_cast  \\\n",
              "title                                                                                   \n",
              "Toy Story (1995)                    [tomhanks, timallen, donrickles, jimvarney, wa...   \n",
              "Jumanji (1995)                      [robinwilliams, jonathanhyde, kirstendunst, br...   \n",
              "Grumpier Old Men (1995)             [waltermatthau, jacklemmon, sophialoren, ann-m...   \n",
              "Waiting to Exhale (1995)            [whitneyhouston, angelabassett, lorettadevine,...   \n",
              "Father of the Bride Part II (1995)  [stevemartin, dianekeaton, martinshort, kimber...   \n",
              "\n",
              "                                             director  \\\n",
              "title                                                   \n",
              "Toy Story (1995)                         johnlasseter   \n",
              "Jumanji (1995)                      jonathanhensleigh   \n",
              "Grumpier Old Men (1995)             markstevenjohnson   \n",
              "Waiting to Exhale (1995)                terrymcmillan   \n",
              "Father of the Bride Part II (1995)      alberthackett   \n",
              "\n",
              "                                                                        plot_keywords  \n",
              "title                                                                                  \n",
              "Toy Story (1995)                                [toy, rivalry, cowboy, cgi animation]  \n",
              "Jumanji (1995)                                  [board game, adventurer, fight, game]  \n",
              "Grumpier Old Men (1995)                               [boat, lake, neighbor, rivalry]  \n",
              "Waiting to Exhale (1995)            [black american, husband wife relationship, be...  \n",
              "Father of the Bride Part II (1995)               [fatherhood, doberman, dog, mansion]  "
            ]
          },
          "execution_count": 27,
          "metadata": {},
          "output_type": "execute_result"
        }
      ],
      "source": [
        "cols = ['title','genres','title_cast','director','plot_keywords']\n",
        "\n",
        "#create new dataframe with useful data\n",
        "data_df = train_df[cols]\n",
        "\n",
        "#set index to movie titles\n",
        "data_df.set_index('title', inplace = True)\n",
        "\n",
        "data_df.head()"
      ]
    },
    {
      "cell_type": "markdown",
      "metadata": {
        "id": "vO-yLTxETem9"
      },
      "source": [
        "Now we create the bag of words from the genres, title_cast,director and plot keywords."
      ]
    },
    {
      "cell_type": "code",
      "execution_count": null,
      "metadata": {
        "id": "Sg-3kSNQTem-"
      },
      "outputs": [],
      "source": [
        "data_df['bag_of_words'] = ''\n",
        "columns = data_df.columns\n",
        "for index, row in data_df.iterrows():\n",
        "    words = ''\n",
        "    for col in columns:\n",
        "        if col != 'director':\n",
        "            words = words + ' '.join(row[col])+ ' '\n",
        "        else:\n",
        "            words = words + row[col]+ ' '\n",
        "    row['bag_of_words'] = words\n",
        "    \n",
        "data_df.drop(columns = [col for col in data_df.columns if col!= 'bag_of_words'], inplace = True)"
      ]
    },
    {
      "cell_type": "markdown",
      "metadata": {
        "id": "CRbPtSHATem-"
      },
      "source": [
        "**Vectorization**\n",
        "\n",
        "The data we have is text, but machine learning algorithms operate on a numeric feature space, expecting input as a two-dimensional array where rows are instances and columns are features. In order to perform machine learning on text, we need to transform our documents into vector representations such that we can apply numeric machine learning. We make use of two vectorization techniques:\n",
        "\n",
        "- CountVectorizer creates a matrix in which each unique word is represented by a column of the matrix, and each text sample from the document is a row in the matrix. The value of each cell is nothing but the count of the word in that particular text sample.\n",
        "\n",
        "From the  bag of words, we generate numerical features."
      ]
    },
    {
      "cell_type": "code",
      "execution_count": null,
      "metadata": {
        "colab": {
          "base_uri": "https://localhost:8080/"
        },
        "id": "NEBLrw-BTem-",
        "outputId": "eb066cad-289a-44df-b5ac-9af30efaeee2"
      },
      "outputs": [
        {
          "data": {
            "text/plain": [
              "0                      Toy Story (1995)\n",
              "1                        Jumanji (1995)\n",
              "2               Grumpier Old Men (1995)\n",
              "3              Waiting to Exhale (1995)\n",
              "4    Father of the Bride Part II (1995)\n",
              "5                           Heat (1995)\n",
              "6                        Sabrina (1995)\n",
              "7                   Tom and Huck (1995)\n",
              "8                   Sudden Death (1995)\n",
              "9                      GoldenEye (1995)\n",
              "Name: title, dtype: object"
            ]
          },
          "execution_count": 29,
          "metadata": {},
          "output_type": "execute_result"
        }
      ],
      "source": [
        "# instantiating and generating the count matrix\n",
        "count = CountVectorizer()\n",
        "count_matrix = count.fit_transform(data_df['bag_of_words'])\n",
        "new_matrix = count_matrix\n",
        "# creating a Series for the movie titles.\n",
        "indices = pd.Series(data_df.index)\n",
        "indices[:10]"
      ]
    },
    {
      "cell_type": "markdown",
      "metadata": {
        "id": "m4g1gCLovIWc"
      },
      "source": [
        "**Feature scaling**"
      ]
    },
    {
      "cell_type": "markdown",
      "metadata": {
        "id": "nJBdNO3LvIWd"
      },
      "source": [
        "It is possible for features to have different scales, there is a chance that higher weightage is given to features with higher magnitude. This will impact the performance of the machine learning algorithm and obviously, we do not want our algorithm to be biassed towards certain features. \n",
        "\n",
        "MaxAbsScaler estimator scales and translates each feature individually such that the maximal absolute value of each feature in the training set will be 1.0. It does not shift/center the data, and thus does not destroy any sparsity.\n"
      ]
    },
    {
      "cell_type": "code",
      "execution_count": null,
      "metadata": {
        "id": "6DHNK26HvIWd"
      },
      "outputs": [],
      "source": [
        "# initialise a scaler\n",
        "\n",
        "scaler = MaxAbsScaler() \n",
        "\n",
        "scaled_new_matrix = scaler.fit_transform(new_matrix) # scaled new_matrix\n"
      ]
    },
    {
      "cell_type": "markdown",
      "source": [
        "###**Collaborative Filtering**"
      ],
      "metadata": {
        "id": "vGjI3ck1PXCT"
      }
    },
    {
      "cell_type": "markdown",
      "source": [
        "Text data engineering\n",
        "\n",
        "\n",
        "\n",
        "\n",
        "\n",
        "\n"
      ],
      "metadata": {
        "id": "mLzYNVQYPmG7"
      }
    },
    {
      "cell_type": "markdown",
      "metadata": {
        "id": "VHjTixk8Tem-"
      },
      "source": [
        "<a id=\"model\"></a>\n",
        "## 6. **Model Building And Evaluation**"
      ]
    },
    {
      "cell_type": "markdown",
      "metadata": {
        "id": "AtbD_x9LvIWd"
      },
      "source": [
        "The method of learning is unsupervised, hence this type of algorithm learns patterns from untagged data. The hope is that through mimicry, which is an important mode of learning in people, the machine is forced to build a compact internal representation of its world and then generate imaginative content from it. \n",
        "\n",
        "We use two forms of recommender system algorithms: content-based and collaborative filtering."
      ]
    },
    {
      "cell_type": "markdown",
      "metadata": {
        "id": "cD52dq-dTem-"
      },
      "source": [
        "### **Content-based Filtering**"
      ]
    },
    {
      "cell_type": "markdown",
      "metadata": {
        "id": "BnBLohOVvIWe"
      },
      "source": [
        "From the features engineered, we find the similarities within the data. This is done by computing the cosine similarity.\n",
        "\n",
        "Cosine similarity measures the similarity between two vectors of an inner product space. It is measured by the cosine of the angle between two vectors and determines whether two vectors are pointing in roughly the same direction. It is often used to measure document similarity in text analysis.\n"
      ]
    },
    {
      "cell_type": "code",
      "execution_count": null,
      "metadata": {
        "id": "RVz6xI9mTem_"
      },
      "outputs": [],
      "source": [
        "# generating the cosine similarity matrix\n",
        "cosine_sim = cosine_similarity(count_matrix, count_matrix)"
      ]
    },
    {
      "cell_type": "markdown",
      "metadata": {
        "id": "mmimLk4NvIWe"
      },
      "source": [
        "With our content similarity matrix computed,     \n",
        "\n",
        "We now do recommendations by: \n",
        "\n",
        "  1. Select an initial item (movie) to generate recommendations from. \n",
        "  2. Extract all the similarity values between the initial item and each other item in the similarity matrix.\n",
        "  3. Sort the resulting values in descending order. \n",
        "  4. Select the top N similarity values, and return the corresponding item details to the user.\n",
        "  "
      ]
    },
    {
      "cell_type": "code",
      "execution_count": null,
      "metadata": {
        "id": "XVtFiQIFTem_"
      },
      "outputs": [],
      "source": [
        "def recommendations(title, cosine_sim = cosine_sim):\n",
        "    \n",
        "    recommended_movies = []\n",
        "    \n",
        "    # gettin the index of the movie that matches the title\n",
        "    idx = indices[indices == title].index[0]\n",
        "\n",
        "    # creating a Series with the similarity scores in descending order\n",
        "    score_series = pd.Series(cosine_sim[idx]).sort_values(ascending = False)\n",
        "\n",
        "    # getting the indexes of the 10 most similar movies\n",
        "    top_10_indexes = list(score_series.iloc[1:11].index)\n",
        "    \n",
        "    # populating the list with the titles of the best 10 matching movies\n",
        "    for i in top_10_indexes:\n",
        "        recommended_movies.append(list(data_df.index)[i])\n",
        "        \n",
        "    return recommended_movies"
      ]
    },
    {
      "cell_type": "code",
      "execution_count": null,
      "metadata": {
        "id": "17VRsnsMTem_"
      },
      "outputs": [],
      "source": [
        "# recommendations for the movie\n",
        "recommendations('Hard Target (1993)')"
      ]
    },
    {
      "cell_type": "markdown",
      "metadata": {
        "id": "EBGYmYf0Tem_"
      },
      "source": [
        "### **Collaborative Filtering**"
      ]
    },
    {
      "cell_type": "markdown",
      "metadata": {
        "id": "ieFVGDO5vIWe"
      },
      "source": [
        "Collaborative filtering is a technique that can filter out items that a user might like on the basis of reactions by similar users. Because it’s based on historical data, the core assumption here is that the users who have agreed in the past tend to also agree in the future. In terms of user preference, it usually expressed by two categories, Explicit and Implicit rating.\n",
        "\n",
        "**Explicit Rating**, is a rate given by a user to an item on a sliding scale, like 5 stars for Titanic. This is the most direct feedback from users to show how much they like an item.\n",
        "\n",
        "**Implicit Rating**, suggests users preference indirectly, such as page views, clicks, purchase records, whether or not listen to a music track, and so on.\n",
        "\n",
        "In this predict explicit rating will be used and suprise python library will be used. \n",
        "\n",
        "**Surprise** is a Python scikit for building and analyzing recommender systems that deal with explicit rating data."
      ]
    },
    {
      "cell_type": "markdown",
      "metadata": {
        "id": "iFzRdIUTvIWf"
      },
      "source": [
        "\n",
        "* Provides various ready-to-use prediction algorithms such as baseline algorithms, neighborhood methods, matrix factorization-based ( SVD, PMF, SVDpp, NMF), and many others.\n",
        "* Provides tools to evaluate, analyse and compare the algorithms’ performance."
      ]
    },
    {
      "cell_type": "markdown",
      "metadata": {
        "id": "eKdbFOrZvIWf"
      },
      "source": [
        "From the Suprise library, the following algorithms were used:\n",
        "\n",
        "### Basic algorithms\n",
        "***NormalPredictor:*** this algorithm predicts a random rating based on the distribution of the training set, which is assumed to be normal.\n",
        "\n",
        "***BaselineOnly:*** this algorithm predicts the baseline estimate for given user and item.\n",
        "\n",
        "### k-NN algorithms\n",
        "***KNNBasic:*** this is a basic collaborative filtering algorithm.\n",
        "\n",
        "***KNNWithMeans:*** this is a basic collaborative filtering algorithm, taking into account the mean ratings of each user.\n",
        "\n",
        "***KNNWithZScore:*** this is a basic collaborative filtering algorithm, taking into account the z-score normalization of each user.\n",
        "\n",
        "***KNNBaseline:*** is a basic collaborative filtering algorithm taking into account a baseline rating.\n",
        "\n",
        "### Matrix Factorization-based algorithms\n",
        "***SVD:*** this algorithm is equivalent to Probabilistic Matrix Factorization ( which makes use of data provided by users with similar preferences to offer recommendations to a particular user).\n",
        "\n",
        "***SVDpp:*** this algorithm is an extension of SVD that takes into account implicit ratings.\n",
        "\n",
        "***NMF:*** this is a collaborative filtering algorithm based on Non-negative Matrix Factorization. It is very similar with SVD.\n",
        "\n",
        "***SlopeOne:*** this is a straightforward implementation of the SlopeOne algorithm.\n",
        "\n",
        "***Coclustering:*** is a collaborative filtering algorithm based on co-clustering.\n"
      ]
    },
    {
      "cell_type": "markdown",
      "metadata": {
        "id": "THEG4c2JvIWf"
      },
      "source": [
        "To reduce computation time, we train and evaluate the following models on a 10000 subset of the data. The best performing model will be trained on the whole dataset to predict the ratings for the final submission file."
      ]
    },
    {
      "cell_type": "markdown",
      "metadata": {
        "id": "1OXss_MzvIWf"
      },
      "source": [
        "**Implementing the Surprise Python Library** "
      ]
    },
    {
      "cell_type": "code",
      "execution_count": null,
      "metadata": {
        "id": "a62AGeHQvIWf",
        "outputId": "e9540a37-39b1-4515-d79e-f232e900b13b",
        "colab": {
          "base_uri": "https://localhost:8080/",
          "height": 165
        }
      },
      "outputs": [
        {
          "output_type": "error",
          "ename": "NameError",
          "evalue": "ignored",
          "traceback": [
            "\u001b[0;31m---------------------------------------------------------------------------\u001b[0m",
            "\u001b[0;31mNameError\u001b[0m                                 Traceback (most recent call last)",
            "\u001b[0;32m<ipython-input-1-3e4058a54a4e>\u001b[0m in \u001b[0;36m<module>\u001b[0;34m\u001b[0m\n\u001b[0;32m----> 1\u001b[0;31m \u001b[0mtrain_df\u001b[0m\u001b[0;34m=\u001b[0m \u001b[0mtrain\u001b[0m\u001b[0;34m.\u001b[0m\u001b[0mcopy\u001b[0m\u001b[0;34m(\u001b[0m\u001b[0;34m)\u001b[0m\u001b[0;34m\u001b[0m\u001b[0;34m\u001b[0m\u001b[0m\n\u001b[0m",
            "\u001b[0;31mNameError\u001b[0m: name 'train' is not defined"
          ]
        }
      ],
      "source": [
        "train_df= train.copy()"
      ]
    },
    {
      "cell_type": "code",
      "execution_count": null,
      "metadata": {
        "id": "Sx5sQCcHvIWf",
        "outputId": "7157dc58-69a3-43d8-f4b2-b844324aad21",
        "colab": {
          "base_uri": "https://localhost:8080/",
          "height": 183
        }
      },
      "outputs": [
        {
          "output_type": "error",
          "ename": "NameError",
          "evalue": "ignored",
          "traceback": [
            "\u001b[0;31m---------------------------------------------------------------------------\u001b[0m",
            "\u001b[0;31mNameError\u001b[0m                                 Traceback (most recent call last)",
            "\u001b[0;32m<ipython-input-2-448a24968b34>\u001b[0m in \u001b[0;36m<module>\u001b[0;34m\u001b[0m\n\u001b[1;32m      1\u001b[0m \u001b[0;31m#Loading 10000 dataset\u001b[0m\u001b[0;34m\u001b[0m\u001b[0;34m\u001b[0m\u001b[0;34m\u001b[0m\u001b[0m\n\u001b[0;32m----> 2\u001b[0;31m \u001b[0mdata\u001b[0m \u001b[0;34m=\u001b[0m \u001b[0mDataset\u001b[0m\u001b[0;34m.\u001b[0m\u001b[0mload_from_df\u001b[0m\u001b[0;34m(\u001b[0m\u001b[0mtrain_df\u001b[0m\u001b[0;34m[\u001b[0m\u001b[0;34m[\u001b[0m\u001b[0;34m'userId'\u001b[0m\u001b[0;34m,\u001b[0m \u001b[0;34m'movieId'\u001b[0m\u001b[0;34m,\u001b[0m \u001b[0;34m'rating'\u001b[0m\u001b[0;34m]\u001b[0m\u001b[0;34m]\u001b[0m\u001b[0;34m.\u001b[0m\u001b[0mhead\u001b[0m\u001b[0;34m(\u001b[0m\u001b[0;36m10000\u001b[0m\u001b[0;34m)\u001b[0m\u001b[0;34m,\u001b[0m \u001b[0mReader\u001b[0m\u001b[0;34m)\u001b[0m\u001b[0;34m\u001b[0m\u001b[0;34m\u001b[0m\u001b[0m\n\u001b[0m",
            "\u001b[0;31mNameError\u001b[0m: name 'Dataset' is not defined"
          ]
        }
      ],
      "source": [
        "#Loading 10000 dataset\n",
        "data = Dataset.load_from_df(train_df[['userId', 'movieId', 'rating']].head(10000), Reader)"
      ]
    },
    {
      "cell_type": "code",
      "execution_count": null,
      "metadata": {
        "colab": {
          "base_uri": "https://localhost:8080/",
          "height": 235
        },
        "id": "ycrXYWq7vIWg",
        "outputId": "f025017e-3c9d-4947-a16d-b57de5436efb"
      },
      "outputs": [
        {
          "output_type": "error",
          "ename": "NameError",
          "evalue": "ignored",
          "traceback": [
            "\u001b[0;31m---------------------------------------------------------------------------\u001b[0m",
            "\u001b[0;31mNameError\u001b[0m                                 Traceback (most recent call last)",
            "\u001b[0;32m<ipython-input-3-7c966845e826>\u001b[0m in \u001b[0;36m<module>\u001b[0;34m\u001b[0m\n\u001b[1;32m      1\u001b[0m \u001b[0;31m#Implement an algorithm\u001b[0m\u001b[0;34m\u001b[0m\u001b[0;34m\u001b[0m\u001b[0;34m\u001b[0m\u001b[0m\n\u001b[0;32m----> 2\u001b[0;31m algo = [SVD(), SVDpp(), SlopeOne(), NMF(), NormalPredictor(), KNNBaseline(), \n\u001b[0m\u001b[1;32m      3\u001b[0m                   KNNBasic(), KNNWithMeans(), KNNWithZScore(), BaselineOnly(), CoClustering()]\n\u001b[1;32m      4\u001b[0m \u001b[0;34m\u001b[0m\u001b[0m\n\u001b[1;32m      5\u001b[0m \u001b[0;31m#Read 10000 dataset\u001b[0m\u001b[0;34m\u001b[0m\u001b[0;34m\u001b[0m\u001b[0;34m\u001b[0m\u001b[0m\n",
            "\u001b[0;31mNameError\u001b[0m: name 'SVD' is not defined"
          ]
        }
      ],
      "source": [
        "#Implement an algorithm\n",
        "algo = [SVD(), SVDpp(), SlopeOne(), NMF(), NormalPredictor(), KNNBaseline(), \n",
        "                  KNNBasic(), KNNWithMeans(), KNNWithZScore(), BaselineOnly(), CoClustering()]\n",
        "\n",
        "#Read 10000 dataset\n",
        "data2 = Dataset.load_from_df(train_df[['userId', 'movieId', 'rating']].head(10000), Reader())\n",
        "\n",
        "#Implementing algorithm for RMSE\n",
        "algo_rmse=[]\n",
        "for a in algo:\n",
        "    \n",
        "    cross_valid=cross_validate(a, data2, measures=['RMSE'], cv = 3)\n",
        "    output=pd.DataFrame.from_dict(cross_valid).mean(axis=0)\n",
        "    output=output.append(pd.Series([str(a).split(' ')[0].split('.')[-1]], index=['Algorithm']))\n",
        "    algo_rmse.append(output)\n",
        "\n",
        "algo_rmse\n",
        "surprise_results = pd.DataFrame(algo_rmse).set_index('Algorithm').sort_values('test_rmse')\n",
        "surprise_results"
      ]
    },
    {
      "cell_type": "markdown",
      "metadata": {
        "id": "4PYMPoxJvIWg"
      },
      "source": [
        "Based on the table above containing test_rmse, fit_time, test_time values for the algorithms, we notice that the SVDpp, SVD and BaselineOnly algorithms are top three best performing algorithms. Therefore the best performing algorithm will be used for prediction and to find the Root Mean Squared Error (RMSE) values."
      ]
    },
    {
      "cell_type": "markdown",
      "metadata": {
        "id": "oGlxRXWEvIWg"
      },
      "source": [
        "**Predicting with SVDpp Algorithm**"
      ]
    },
    {
      "cell_type": "code",
      "execution_count": null,
      "metadata": {
        "id": "m3QYCYXpvIWg"
      },
      "outputs": [],
      "source": [
        "#Loading 100000 dataset\n",
        "data3 = Dataset.load_from_df(train_df[['userId', 'movieId', 'rating']].head(100000), Reader()) "
      ]
    },
    {
      "cell_type": "code",
      "execution_count": null,
      "metadata": {
        "id": "VLGYu6CivIWg"
      },
      "outputs": [],
      "source": [
        "trainset, testset = train_test_split(data3, test_size=0.05)"
      ]
    },
    {
      "cell_type": "code",
      "execution_count": null,
      "metadata": {
        "id": "ZY8aQXJrvIWh"
      },
      "outputs": [],
      "source": [
        "from surprise import accuracy\n",
        "#SVDpp model\n",
        "svdpp=SVDpp(n_epochs = 30, n_factors = 200, init_std_dev = 0.05, random_state=42)\n",
        "\n",
        "#Fitting the model\n",
        "svdpp.fit(trainset)\n",
        "\n",
        "# Making prediction on the validation dataset\n",
        "test_pred= svdpp.test(testset)\n",
        "\n",
        "#Evaluating model performance\n",
        "rsme_collabo = accuracy.rmse(test_pred,\n",
        "                             verbose=True)"
      ]
    },
    {
      "cell_type": "code",
      "execution_count": null,
      "metadata": {
        "id": "8Os6kUNtvIWh"
      },
      "outputs": [],
      "source": [
        "#Predicting the rating for each user and movie\n",
        "ratings=[]\n",
        "for x,y in test_df.itertuples(index=False):\n",
        "    output=svdpp.predict(x,y)\n",
        "    ratings.append(output)\n",
        "    \n",
        "output_df=pd.DataFrame(ratings)[['uid','iid','est']]\n",
        "output_df['ID']=output_df['uid'].astype(str) + '_' + output_df['iid'].astype(str)\n",
        "output_df=output_df[['ID','est']]\n",
        "output_df.head()"
      ]
    },
    {
      "cell_type": "markdown",
      "metadata": {
        "id": "_aUmgrumvIWh"
      },
      "source": [
        "**Predicting with SVD Algorithm**"
      ]
    },
    {
      "cell_type": "code",
      "execution_count": null,
      "metadata": {
        "id": "hg_VmYj5vIWh"
      },
      "outputs": [],
      "source": [
        "#Loading 1000000 dataset\n",
        "data4 = Dataset.load_from_df(train_df[['userId', 'movieId', 'rating']].head(1000000), Reader()) "
      ]
    },
    {
      "cell_type": "code",
      "execution_count": null,
      "metadata": {
        "id": "GntvvQKqvIWh"
      },
      "outputs": [],
      "source": [
        "trainset, testset = train_test_split(data4, test_size=0.05)"
      ]
    },
    {
      "cell_type": "code",
      "execution_count": null,
      "metadata": {
        "id": "D85FOMe8vIWi"
      },
      "outputs": [],
      "source": [
        "from surprise import accuracy\n",
        "#SVD model\n",
        "svd=SVD(n_epochs = 30, n_factors = 200, init_std_dev = 0.05, random_state=42)\n",
        "\n",
        "#Fitting the model\n",
        "svd.fit(trainset)\n",
        "\n",
        "# Making prediction on the validation dataset\n",
        "test_pred= svd.test(testset)\n",
        "\n",
        "#Evaluating model performance\n",
        "rsme_collabo = accuracy.rmse(test_pred,\n",
        "                             verbose=True)"
      ]
    },
    {
      "cell_type": "code",
      "execution_count": null,
      "metadata": {
        "id": "qPfBpXfXvIWi"
      },
      "outputs": [],
      "source": [
        "#Predicting the rating for each user and movie\n",
        "ratings=[]\n",
        "for x,y in test_df.itertuples(index=False):\n",
        "    output=svd.predict(x,y)\n",
        "    ratings.append(output)\n",
        "    \n",
        "output_df=pd.DataFrame(ratings)[['uid','iid','est']]\n",
        "output_df['ID']=output_df['uid'].astype(str) + '_' + output_df['iid'].astype(str)\n",
        "output_df=output_df[['ID','est']]\n",
        "output_df.head()"
      ]
    },
    {
      "cell_type": "markdown",
      "metadata": {
        "id": "Bri5JVgBvIWi"
      },
      "source": [
        "#### Predicting with BaselineOnly Algorithm"
      ]
    },
    {
      "cell_type": "code",
      "execution_count": null,
      "metadata": {
        "id": "o-UhJOVHvIWi"
      },
      "outputs": [],
      "source": [
        "#Loading 1000000 dataset\n",
        "data5 = Dataset.load_from_df(train_df[['userId', 'movieId', 'rating']].head(1000000), Reader()) "
      ]
    },
    {
      "cell_type": "code",
      "execution_count": null,
      "metadata": {
        "id": "VdlkyhVUvIWj"
      },
      "outputs": [],
      "source": [
        "trainset, testset = train_test_split(data5, test_size = 0.05)"
      ]
    },
    {
      "cell_type": "code",
      "execution_count": null,
      "metadata": {
        "id": "fiuDYt6GvIWj"
      },
      "outputs": [],
      "source": [
        "from surprise import accuracy\n",
        "#BaselineOnly model\n",
        "bsl_options = {'method': 'sgd','n_epochs': 40}\n",
        "blo = BaselineOnly(bsl_options=bsl_options)\n",
        "\n",
        "#Fitting the model\n",
        "blo.fit(trainset)\n",
        "\n",
        "# Making prediction on the validation dataset\n",
        "test_pred= blo.test(testset)\n",
        "\n",
        "#Evaluating model performance\n",
        "rsme_collabo = accuracy.rmse(test_pred,\n",
        "                             verbose=True)"
      ]
    },
    {
      "cell_type": "code",
      "execution_count": null,
      "metadata": {
        "id": "l6kvIU6MvIWj"
      },
      "outputs": [],
      "source": [
        "#Predicting the rating for each user and movie\n",
        "ratings=[]\n",
        "for x,y in test.itertuples(index=False):\n",
        "    output=blo.predict(x,y)\n",
        "    ratings.append(output)\n",
        "    \n",
        "output_df=pd.DataFrame(ratings)[['uid','iid','est']]\n",
        "output_df['ID']=output_df['uid'].astype(str) + '_' + output_df['iid'].astype(str)\n",
        "output_df=output_df[['ID','est']]\n",
        "output_df.head()"
      ]
    },
    {
      "cell_type": "markdown",
      "metadata": {
        "id": "rBQTAqA5Tem_"
      },
      "source": [
        "<a id=\"evaluation\"></a>\n",
        "## 7. **Model Parameter Tuning**"
      ]
    },
    {
      "cell_type": "markdown",
      "metadata": {
        "id": "jfMYHZ-yV4gO"
      },
      "source": [
        "Hyperparameter tuning is the process of determining the right combination of hyperparameters that allows the model to maximize model performance. Setting the correct combination of hyperparameters is the only way to extract the maximum performance out of models.\n",
        "\n",
        "We decided to hypertune the SVD algorithm model, which was the best performing amongst the top three algorithm (since it had the lowest RMSE value)"
      ]
    },
    {
      "cell_type": "code",
      "execution_count": null,
      "metadata": {
        "colab": {
          "base_uri": "https://localhost:8080/"
        },
        "execution": {
          "iopub.execute_input": "2022-01-12T15:45:15.534915Z",
          "iopub.status.busy": "2022-01-12T15:45:15.534602Z",
          "iopub.status.idle": "2022-01-12T15:45:15.538707Z",
          "shell.execute_reply": "2022-01-12T15:45:15.537874Z",
          "shell.execute_reply.started": "2022-01-12T15:45:15.534881Z"
        },
        "id": "NKJOoagDTem_",
        "outputId": "dcc40deb-0bfb-49f9-fa8d-428a1173ae41"
      },
      "outputs": [
        {
          "name": "stdout",
          "output_type": "stream",
          "text": [
            "RMSE: 0.7797\n"
          ]
        },
        {
          "data": {
            "text/plain": [
              "0.779666275538175"
            ]
          },
          "execution_count": 19,
          "metadata": {},
          "output_type": "execute_result"
        }
      ],
      "source": [
        "\n",
        "# Hypertuning Singular Value Decomposition\n",
        "rating_scale = Reader(rating_scale =(0.5, 5))\n",
        "\n",
        "train_df = Dataset.load_from_df(train[['userId', 'movieId', 'rating']], rating_scale)\n",
        "\n",
        "# Training and validation set split for hypertuning\n",
        "train_set, val_set = train_test_split(train_df,\n",
        "                                      test_size = 0.001,\n",
        "                                      random_state = 42)\n",
        "\n",
        "# SVD hypertuning\n",
        "svd_hyper = SVD(lr_all = 0.0085,\n",
        "                     reg_all = 0.02,\n",
        "                     n_epochs = 20,\n",
        "                     init_std_dev = 0.01)\n",
        "svd_hyper.fit(train_set)\n",
        "\n",
        "# Predicting on the validation set\n",
        "svd_hyper_predictions = svd_hyper.test(val_set)\n",
        "\n",
        "# Convert the predictions to dataframe\n",
        "accuracy.rmse(svd_hyper_predictions)"
      ]
    },
    {
      "cell_type": "code",
      "execution_count": null,
      "metadata": {
        "id": "yYk9W5XuvIWk"
      },
      "outputs": [],
      "source": [
        "pred_svd_hyper = [svd_hyper.predict(row.userId,\n",
        "                                         row.movieId) for idx,row in test.iterrows()]\n",
        "\n",
        "# Converting the predictions to a dataframe\n",
        "test_pred_svd_hyper = pd.DataFrame(pred_svd_hyper)"
      ]
    },
    {
      "cell_type": "code",
      "execution_count": null,
      "metadata": {
        "colab": {
          "base_uri": "https://localhost:8080/",
          "height": 206
        },
        "id": "ynD8vGirvIWk",
        "outputId": "6140f4d5-51bd-40a5-c2fc-f324e40d23df"
      },
      "outputs": [
        {
          "data": {
            "text/html": [
              "\n",
              "  <div id=\"df-5dcae678-7c2b-4296-88af-153197a7bd15\">\n",
              "    <div class=\"colab-df-container\">\n",
              "      <div>\n",
              "<style scoped>\n",
              "    .dataframe tbody tr th:only-of-type {\n",
              "        vertical-align: middle;\n",
              "    }\n",
              "\n",
              "    .dataframe tbody tr th {\n",
              "        vertical-align: top;\n",
              "    }\n",
              "\n",
              "    .dataframe thead th {\n",
              "        text-align: right;\n",
              "    }\n",
              "</style>\n",
              "<table border=\"1\" class=\"dataframe\">\n",
              "  <thead>\n",
              "    <tr style=\"text-align: right;\">\n",
              "      <th></th>\n",
              "      <th>userId</th>\n",
              "      <th>movieId</th>\n",
              "      <th>rating</th>\n",
              "    </tr>\n",
              "  </thead>\n",
              "  <tbody>\n",
              "    <tr>\n",
              "      <th>0</th>\n",
              "      <td>1</td>\n",
              "      <td>2011</td>\n",
              "      <td>3.028402</td>\n",
              "    </tr>\n",
              "    <tr>\n",
              "      <th>1</th>\n",
              "      <td>1</td>\n",
              "      <td>4144</td>\n",
              "      <td>4.209966</td>\n",
              "    </tr>\n",
              "    <tr>\n",
              "      <th>2</th>\n",
              "      <td>1</td>\n",
              "      <td>5767</td>\n",
              "      <td>3.779983</td>\n",
              "    </tr>\n",
              "    <tr>\n",
              "      <th>3</th>\n",
              "      <td>1</td>\n",
              "      <td>6711</td>\n",
              "      <td>4.112347</td>\n",
              "    </tr>\n",
              "    <tr>\n",
              "      <th>4</th>\n",
              "      <td>1</td>\n",
              "      <td>7318</td>\n",
              "      <td>2.966078</td>\n",
              "    </tr>\n",
              "  </tbody>\n",
              "</table>\n",
              "</div>\n",
              "      <button class=\"colab-df-convert\" onclick=\"convertToInteractive('df-5dcae678-7c2b-4296-88af-153197a7bd15')\"\n",
              "              title=\"Convert this dataframe to an interactive table.\"\n",
              "              style=\"display:none;\">\n",
              "        \n",
              "  <svg xmlns=\"http://www.w3.org/2000/svg\" height=\"24px\"viewBox=\"0 0 24 24\"\n",
              "       width=\"24px\">\n",
              "    <path d=\"M0 0h24v24H0V0z\" fill=\"none\"/>\n",
              "    <path d=\"M18.56 5.44l.94 2.06.94-2.06 2.06-.94-2.06-.94-.94-2.06-.94 2.06-2.06.94zm-11 1L8.5 8.5l.94-2.06 2.06-.94-2.06-.94L8.5 2.5l-.94 2.06-2.06.94zm10 10l.94 2.06.94-2.06 2.06-.94-2.06-.94-.94-2.06-.94 2.06-2.06.94z\"/><path d=\"M17.41 7.96l-1.37-1.37c-.4-.4-.92-.59-1.43-.59-.52 0-1.04.2-1.43.59L10.3 9.45l-7.72 7.72c-.78.78-.78 2.05 0 2.83L4 21.41c.39.39.9.59 1.41.59.51 0 1.02-.2 1.41-.59l7.78-7.78 2.81-2.81c.8-.78.8-2.07 0-2.86zM5.41 20L4 18.59l7.72-7.72 1.47 1.35L5.41 20z\"/>\n",
              "  </svg>\n",
              "      </button>\n",
              "      \n",
              "  <style>\n",
              "    .colab-df-container {\n",
              "      display:flex;\n",
              "      flex-wrap:wrap;\n",
              "      gap: 12px;\n",
              "    }\n",
              "\n",
              "    .colab-df-convert {\n",
              "      background-color: #E8F0FE;\n",
              "      border: none;\n",
              "      border-radius: 50%;\n",
              "      cursor: pointer;\n",
              "      display: none;\n",
              "      fill: #1967D2;\n",
              "      height: 32px;\n",
              "      padding: 0 0 0 0;\n",
              "      width: 32px;\n",
              "    }\n",
              "\n",
              "    .colab-df-convert:hover {\n",
              "      background-color: #E2EBFA;\n",
              "      box-shadow: 0px 1px 2px rgba(60, 64, 67, 0.3), 0px 1px 3px 1px rgba(60, 64, 67, 0.15);\n",
              "      fill: #174EA6;\n",
              "    }\n",
              "\n",
              "    [theme=dark] .colab-df-convert {\n",
              "      background-color: #3B4455;\n",
              "      fill: #D2E3FC;\n",
              "    }\n",
              "\n",
              "    [theme=dark] .colab-df-convert:hover {\n",
              "      background-color: #434B5C;\n",
              "      box-shadow: 0px 1px 3px 1px rgba(0, 0, 0, 0.15);\n",
              "      filter: drop-shadow(0px 1px 2px rgba(0, 0, 0, 0.3));\n",
              "      fill: #FFFFFF;\n",
              "    }\n",
              "  </style>\n",
              "\n",
              "      <script>\n",
              "        const buttonEl =\n",
              "          document.querySelector('#df-5dcae678-7c2b-4296-88af-153197a7bd15 button.colab-df-convert');\n",
              "        buttonEl.style.display =\n",
              "          google.colab.kernel.accessAllowed ? 'block' : 'none';\n",
              "\n",
              "        async function convertToInteractive(key) {\n",
              "          const element = document.querySelector('#df-5dcae678-7c2b-4296-88af-153197a7bd15');\n",
              "          const dataTable =\n",
              "            await google.colab.kernel.invokeFunction('convertToInteractive',\n",
              "                                                     [key], {});\n",
              "          if (!dataTable) return;\n",
              "\n",
              "          const docLinkHtml = 'Like what you see? Visit the ' +\n",
              "            '<a target=\"_blank\" href=https://colab.research.google.com/notebooks/data_table.ipynb>data table notebook</a>'\n",
              "            + ' to learn more about interactive tables.';\n",
              "          element.innerHTML = '';\n",
              "          dataTable['output_type'] = 'display_data';\n",
              "          await google.colab.output.renderOutput(dataTable, element);\n",
              "          const docLink = document.createElement('div');\n",
              "          docLink.innerHTML = docLinkHtml;\n",
              "          element.appendChild(docLink);\n",
              "        }\n",
              "      </script>\n",
              "    </div>\n",
              "  </div>\n",
              "  "
            ],
            "text/plain": [
              "   userId  movieId    rating\n",
              "0       1     2011  3.028402\n",
              "1       1     4144  4.209966\n",
              "2       1     5767  3.779983\n",
              "3       1     6711  4.112347\n",
              "4       1     7318  2.966078"
            ]
          },
          "execution_count": 21,
          "metadata": {},
          "output_type": "execute_result"
        }
      ],
      "source": [
        "# Rename the fields in the prediction dataframe\n",
        "test_pred_svd_hyper.drop(['r_ui', 'details'], axis=1, inplace=True)\n",
        "test_pred_svd_hyper = test_pred_svd_hyper.rename(columns={'uid':'userId',\n",
        "                                                          'iid':'movieId',\n",
        "                                                          'est':'rating'})\n",
        "test_pred_svd_hyper.head()"
      ]
    },
    {
      "cell_type": "code",
      "execution_count": null,
      "metadata": {
        "id": "u6lsACekvIWk"
      },
      "outputs": [],
      "source": [
        "# Concatenate each userId and movieId into a single Id column for submission\n",
        "test_pred_svd_hyper['Id'] =  test_pred_svd_hyper['userId'].astype(str).str.zfill(1) + '_' + test_pred_svd_hyper['movieId'].astype(str).str.zfill(1)"
      ]
    },
    {
      "cell_type": "code",
      "execution_count": null,
      "metadata": {
        "id": "EdrxoZLwvIWk"
      },
      "outputs": [],
      "source": [
        "# making predictions for submission\n",
        "svd_hyper_predictions = test_pred_svd_hyper[['Id','rating']]"
      ]
    },
    {
      "cell_type": "code",
      "execution_count": null,
      "metadata": {
        "id": "OKAzz4ZdvIWk"
      },
      "outputs": [],
      "source": [
        "# creating csv file for submission\n",
        "svd_hyper_predictions.to_csv('Team_14_subm.csv', index=False)"
      ]
    },
    {
      "cell_type": "code",
      "execution_count": null,
      "metadata": {
        "id": "k4S_cWbPvIWk"
      },
      "outputs": [],
      "source": [
        "params = {'method': 'svd_hyper','n_epochs': 20}\n",
        "\n",
        "#metrics = accuracy.rmse(svd_hyper_predictions)"
      ]
    },
    {
      "cell_type": "code",
      "execution_count": null,
      "metadata": {
        "execution": {
          "iopub.execute_input": "2022-01-12T15:45:15.540766Z",
          "iopub.status.busy": "2022-01-12T15:45:15.540023Z",
          "iopub.status.idle": "2022-01-12T15:45:15.552333Z",
          "shell.execute_reply": "2022-01-12T15:45:15.551491Z",
          "shell.execute_reply.started": "2022-01-12T15:45:15.540720Z"
        },
        "id": "jxIZRkZoTem_"
      },
      "outputs": [],
      "source": [
        "# log our parameters and results\n",
        "metrics = 0.7797\n",
        "experiment.log_parameters(params)\n",
        "\n",
        "experiment.log_parameters(metrics)"
      ]
    },
    {
      "cell_type": "code",
      "execution_count": null,
      "metadata": {
        "execution": {
          "iopub.execute_input": "2022-01-12T15:45:15.554015Z",
          "iopub.status.busy": "2022-01-12T15:45:15.553561Z",
          "iopub.status.idle": "2022-01-12T15:45:15.570316Z",
          "shell.execute_reply": "2022-01-12T15:45:15.569325Z",
          "shell.execute_reply.started": "2022-01-12T15:45:15.553977Z"
        },
        "id": "-uZrLBmZTenA",
        "outputId": "bf2366d3-369c-4a26-f1c0-2a2cdacb716d"
      },
      "outputs": [
        {
          "name": "stderr",
          "output_type": "stream",
          "text": [
            "COMET INFO: ---------------------------\n",
            "COMET INFO: Comet.ml Experiment Summary\n",
            "COMET INFO: ---------------------------\n",
            "COMET INFO:   Data:\n",
            "COMET INFO:     display_summary_level : 1\n",
            "COMET INFO:     url                   : https://www.comet.ml/kwanda2426/streamlit-based-movie-recommender-system/373bdfb9e0dd4d44a8248f686b2979a8\n",
            "COMET INFO:   Parameters:\n",
            "COMET INFO:     imag     : 0.0\n",
            "COMET INFO:     method   : svd_hyper\n",
            "COMET INFO:     n_epochs : 20\n",
            "COMET INFO:     real     : 0.789\n",
            "COMET INFO:   Uploads:\n",
            "COMET INFO:     environment details      : 1\n",
            "COMET INFO:     filename                 : 1\n",
            "COMET INFO:     git metadata             : 1\n",
            "COMET INFO:     git-patch (uncompressed) : 1 (10.66 MB)\n",
            "COMET INFO:     installed packages       : 1\n",
            "COMET INFO:     notebook                 : 1\n",
            "COMET INFO:     source_code              : 1\n",
            "COMET INFO: ---------------------------\n",
            "COMET INFO: Uploading metrics, params, and assets to Comet before program termination (may take several seconds)\n",
            "COMET INFO: The Python SDK has 3600 seconds to finish before aborting...\n",
            "COMET INFO: Waiting for completion of the file uploads (may take several seconds)\n",
            "COMET INFO: The Python SDK has 10800 seconds to finish before aborting...\n",
            "COMET INFO: Still uploading 2 file(s), remaining 9.21 KB/3.31 MB\n"
          ]
        }
      ],
      "source": [
        "# ending the experiment\n",
        "\n",
        "experiment.end()"
      ]
    },
    {
      "cell_type": "markdown",
      "metadata": {
        "id": "ai6VOLCoTenA"
      },
      "source": [
        "<a id=\"conclusion\"></a>\n",
        "## 8. **Conclusion**"
      ]
    },
    {
      "cell_type": "markdown",
      "metadata": {
        "id": "ZAUjIAoV1Ekb"
      },
      "source": [
        "A recommender system or recommendation system is a subclass of information filtering systems that predict the items the user may be interested in based on the user past behaviour.\n",
        "\n",
        "Collaborative filtering is one such recommendation technique that filters items of user interest based on user/item similarity. Due to ease of use and domain-free, it is being used and explored at a large scale by researchers.\n",
        "\n",
        "In this predict, we have implemented item-based collaborative filtering to recommend movies to users using cosine similarity. Other similarity metrics such as the Pearson correlation coefficient and Jaccard similarity could also be explored. This is still an open area of research with the motive to provide the user with the most relevant items."
      ]
    },
    {
      "cell_type": "markdown",
      "metadata": {
        "id": "CFeFNGOVTenA"
      },
      "source": [
        "<a id=\"references\"></a>\n",
        "## 9. **References**"
      ]
    },
    {
      "cell_type": "markdown",
      "metadata": {
        "id": "RaRoPSkGvIWm"
      },
      "source": [
        "1. Hakami, A., 2022. Movie Recommendation system. [online] Medium. Available at: <https://medium.com/mlearning-ai/movie-recommendation-system-f2f57290b1b8> [Accessed 24 January 2022]."
      ]
    },
    {
      "cell_type": "markdown",
      "metadata": {
        "id": "PLzgsYHmvIWm"
      },
      "source": [
        "2. abramovsky, O., 2022. How to generate recommendations using TF-IDF. [online] Medium. Available at: <https://medium.com/codex/how-to-generate-recommendations-using-tf-idf-52d46eca606f> [Accessed 27 January 2022]."
      ]
    },
    {
      "cell_type": "markdown",
      "metadata": {
        "id": "qsiWWka_vIWm"
      },
      "source": [
        "3. Youtube.com. 2022. Overview of recommender systems. [online] Available at: <https://www.youtube.com/watch?v=1JRrCEgiyHM> [Accessed 16 January 2022]."
      ]
    },
    {
      "cell_type": "markdown",
      "metadata": {
        "id": "sz9xJHS2vIWm"
      },
      "source": [
        "4. Youtube.com. 2022. Content-based Filtering. [online] Available at: <https://www.youtube.com/watch?v=2uxXPzm-7FY> [Accessed 16 January 2022]."
      ]
    },
    {
      "cell_type": "markdown",
      "metadata": {
        "id": "gwauI9iBvIWm"
      },
      "source": [
        "5. Youtube.com. 2022. Collaborating Filtering. [online] Available at: <https://www.youtube.com/watch?v=h9gpufJFF-0> [Accessed 16 January 2022]."
      ]
    }
  ],
  "metadata": {
    "colab": {
      "name": "Team_14 notebook.ipynb",
      "provenance": [],
      "include_colab_link": true
    },
    "kernelspec": {
      "display_name": "Python 3",
      "language": "python",
      "name": "python3"
    },
    "language_info": {
      "codemirror_mode": {
        "name": "ipython",
        "version": 3
      },
      "file_extension": ".py",
      "mimetype": "text/x-python",
      "name": "python",
      "nbconvert_exporter": "python",
      "pygments_lexer": "ipython3",
      "version": "3.8.3"
    }
  },
  "nbformat": 4,
  "nbformat_minor": 0
}