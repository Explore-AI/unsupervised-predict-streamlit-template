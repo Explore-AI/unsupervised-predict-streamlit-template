{
 "cells": [
  {
   "cell_type": "markdown",
   "id": "39fa049a",
   "metadata": {},
   "source": [
    "# Unsupervised Learning Predict Student Solution\n",
    "\n",
    "© Explore Data Science Academy\n",
    "\n",
    "---\n",
    "### Honour Code\n",
    "\n",
    "We, **Team 9**, confirm - by submitting this document - that the solutions in this notebook are a result of our own work and that we abide by the [EDSA honour code](https://drive.google.com/file/d/1QDCjGZJ8-FmJE3bZdIQNwnJyQKPhHZBn/view?usp=sharing).\n",
    "\n",
    "Non-compliance with the honour code constitutes a material breach of contract.\n",
    "\n",
    "\n",
    "\n",
    "### Predict Overview: EDSA Movie Recommendation 2022\n",
    "\n",
    "The global movie industry is a multi-billion dollar industry. According to <a href=\"https://www.forbes.com/sites/bradadgate/2022/03/17/overview-of-the-entertainment-market-in-2021-coming-out-of-covid-19/?sh=2e3d5f94519c\">Forbes</a>, a total revenue of 36.8 billion USD was made in the US entertainment (home and mobile) market in 2021. This market consist of digital and physical (discs), as well as the theatrical market, and the revenue accounted for a year-over-year increase of 14%, a figure that surpassed the record 36.1 billion USD in 2019.\n",
    "\n",
    "When pay TV subscriptions were included the revenue for the entertainment market jumped to 133.5 billion USD, and this represents a slight drop-off from revenue in 2020 (133.7 billion USD). This is a clear indication that pay TV subscritions are the biggest revenue generating facet of the movie industry.\n",
    "\n",
    "Globally, in 2021, the home, mobile and theatrical market totaled 99.7 billion USD in revenue, while when pay TV subscription was included, the entertainment market reached 328.2 billion USD in revenue. According to the 2021 report by The Motion Picture Association in the US, there were 135 streaming video providers in the U.S. offering movies and television shows to viewers, with Netlix being a major player.\n",
    "\n",
    "Providers of streaming services heavily depend on movie recommendation algorithms. The Netflix Recommendation Engine is the most succesful of these algorithms. It’s so accurate that 80% of Netflix viewer activity is driven by personalised recommendations from the engine. It’s estimated that the Netflix recommendation Engine saves Netflix <a href=\"https://www.lighthouselabs.ca/en/blog/how-netflix-uses-data-to-optimize-their-product#:~:text=The%20Netflix%20Recommendation%20Engine&text=It's%20so%20accurate%20that%2080,is%20driven%20by%20personalised%20recommendations.\">over 1 billion USD per year</a>.\n",
    "\n",
    "Providers of streaming services are in a race to optimize the performance of their movie recommendation algorithm such that it performs as good or even better than the Netflix Recommendation Engine; therefore, develeping a good movie recommendation system come with enormous economic gains.  As a team, we intend to develope a recommendation algorithm based on content or collaborative filtering, that is capable of accurately predicting how a user will rate a movie they have not yet viewed, based on their historical preferences. This will enable our algorithm to recommend movies that users will most likely rate high and want to watch."
   ]
  },
  {
   "cell_type": "markdown",
   "id": "bf9d29d6",
   "metadata": {},
   "source": [
    "<a id=\"cont\"></a>\n",
    "\n",
    "## Table of Contents\n",
    "\n",
    "<a href=#one>1. Importing Packages</a>\n",
    "\n",
    "<a href=#two>2. Loading Data</a>\n",
    "\n",
    "<a href=#three>3. Exploratory Data Analysis (EDA)</a>\n",
    "\n",
    "<a href=#four>4. Data Engineering</a>\n",
    "\n",
    "<a href=#five>5. Modeling</a>\n",
    "\n",
    "<a href=#six>6. Model Performance</a>\n",
    "\n",
    "<a href=#seven>7. Model Explanations</a>\n",
    "\n",
    "<a href=#eight>8. Comet</a>"
   ]
  },
  {
   "cell_type": "markdown",
   "id": "83d02510",
   "metadata": {},
   "source": [
    " <a id=\"one\"></a>\n",
    "## 1. Importing Packages\n",
    "<a href=#cont>Back to Table of Contents</a>\n",
    "\n",
    "---\n",
    "    \n",
    "| ⚡ Description: Importing Packages ⚡ |\n",
    "| :--------------------------- |\n",
    "| In this section, we import and briefly discuss the libraries that will be used throughout your analysis and modelling. |\n",
    "\n",
    "---"
   ]
  },
  {
   "cell_type": "code",
   "execution_count": 1,
   "id": "33601cfa",
   "metadata": {},
   "outputs": [],
   "source": [
    "from comet_ml import Experiment\n",
    "\n",
    "import numpy as np\n",
    "import pandas as pd\n",
    "import matplotlib.pyplot as plt\n",
    "import string\n",
    "from wordcloud import WordCloud"
   ]
  },
  {
   "cell_type": "markdown",
   "id": "5bc34326",
   "metadata": {},
   "source": [
    "<a id=\"two\"></a>\n",
    "## 2. Loading the Data\n",
    "<a class=\"anchor\" id=\"1.1\"></a>\n",
    "<a href=#cont>Back to Table of Contents</a>\n",
    "\n",
    "---\n",
    "    \n",
    "| ⚡ Description: Loading the data ⚡ |\n",
    "| :--------------------------- |\n",
    "| In this section, we load the data from the `CSV files` file into a DataFrame. |\n",
    "\n",
    "---"
   ]
  },
  {
   "cell_type": "code",
   "execution_count": null,
   "id": "b937aff8",
   "metadata": {},
   "outputs": [],
   "source": [
    "#df = pd.read_csv(\"train.csv\")"
   ]
  },
  {
   "cell_type": "markdown",
   "id": "421d6ad9",
   "metadata": {},
   "source": [
    "<a id=\"three\"></a>\n",
    "## 3. Exploratory Data Analysis (EDA)\n",
    "<a class=\"anchor\" id=\"1.1\"></a>\n",
    "<a href=#cont>Back to Table of Contents</a>\n",
    "\n",
    "---\n",
    "    \n",
    "| ⚡ Description: Exploratory data analysis ⚡ |\n",
    "| :--------------------------- |\n",
    "| In this section, we perform an in-depth analysis of all the variables in the DataFrame. |\n",
    "\n"
   ]
  },
  {
   "cell_type": "markdown",
   "id": "a8a9c0c5",
   "metadata": {},
   "source": [
    "Here we use various methods to take an in-depth look at our dataframe. These methods include:\n",
    "<ul>\n",
    "<li>isnull()</li>\n",
    "<li>info()</li>\n",
    "<li>shape</li>\n",
    "<li>WordCloud()</li>\n",
    "\n",
    "</ul>"
   ]
  },
  {
   "cell_type": "markdown",
   "id": "830f9d43",
   "metadata": {},
   "source": [
    "<a id=\"four\"></a>\n",
    "## 4. Data Engineering\n",
    "<a class=\"anchor\" id=\"1.1\"></a>\n",
    "<a href=#cont>Back to Table of Contents</a>\n",
    "\n",
    "---\n",
    "    \n",
    "| ⚡ Description: Data engineering ⚡ |\n",
    "| :--------------------------- |\n",
    "| In this section, we clean the dataset and possibly create new features - as identified in the EDA phase. |\n",
    "\n",
    "---"
   ]
  },
  {
   "cell_type": "markdown",
   "id": "40bf8c28",
   "metadata": {},
   "source": [
    "<a id=\"five\"></a>\n",
    "## 5. Modelling\n",
    "<a class=\"anchor\" id=\"1.1\"></a>\n",
    "<a href=#cont>Back to Table of Contents</a>\n",
    "\n",
    "---\n",
    "    \n",
    "| ⚡ Description: Modelling ⚡ |\n",
    "| :--------------------------- |\n",
    "| In this section, we construct a recommendation algorithm based on content or collaborative filtering, capable of accurately predicting how a user will rate a movie they have not yet viewed, based on their historical preferences.\n",
    "\n",
    "---"
   ]
  },
  {
   "cell_type": "markdown",
   "id": "2593367d",
   "metadata": {},
   "source": [
    "<a id=\"six\"></a>\n",
    "## 6. Model Performance\n",
    "<a class=\"anchor\" id=\"1.1\"></a>\n",
    "<a href=#cont>Back to Table of Contents</a>\n",
    "\n",
    "---\n",
    "    \n",
    "| ⚡ Description: Model performance ⚡ |\n",
    "| :--------------------------- |\n",
    "| In this section, we compare the relative performance of the various trained ML models on a holdout dataset and comment on what model is the best and why. |\n",
    "\n",
    "---"
   ]
  },
  {
   "cell_type": "markdown",
   "id": "397c8f95",
   "metadata": {},
   "source": [
    "<a id=\"seven\"></a>\n",
    "## 7. Model Explanations\n",
    "<a class=\"anchor\" id=\"1.1\"></a>\n",
    "<a href=#cont>Back to Table of Contents</a>\n",
    "\n",
    "---\n",
    "    \n",
    "| ⚡ Description: Model explanation ⚡ |\n",
    "| :--------------------------- |\n",
    "| In this section, we discuss how the best performing model works in a simple way so that both technical and non-technical stakeholders can grasp the intuition behind the model's inner workings. |\n",
    "\n",
    "---"
   ]
  },
  {
   "cell_type": "markdown",
   "id": "afebbdf8",
   "metadata": {},
   "source": [
    "<a id=\"eight\"></a>\n",
    "## 8. Comet\n",
    "<a class=\"anchor\" id=\"1.1\"></a>\n",
    "<a href=#cont>Back to Table of Contents</a>\n",
    "\n",
    "---\n",
    "    \n",
    "| ⚡ Description: Model explanation ⚡ |\n",
    "| :--------------------------- |\n",
    "| In this section, we customize and combine our data, code, visualizations, reports, and much more. |\n",
    "\n",
    "---"
   ]
  },
  {
   "cell_type": "markdown",
   "id": "628cb002",
   "metadata": {},
   "source": []
  },
  {
   "cell_type": "markdown",
   "id": "bc5e4c51",
   "metadata": {},
   "source": []
  }
 ],
 "metadata": {
  "kernelspec": {
   "display_name": "Python 3",
   "language": "python",
   "name": "python3"
  },
  "language_info": {
   "codemirror_mode": {
    "name": "ipython",
    "version": 3
   },
   "file_extension": ".py",
   "mimetype": "text/x-python",
   "name": "python",
   "nbconvert_exporter": "python",
   "pygments_lexer": "ipython3",
   "version": "3.8.8"
  }
 },
 "nbformat": 4,
 "nbformat_minor": 5
}
