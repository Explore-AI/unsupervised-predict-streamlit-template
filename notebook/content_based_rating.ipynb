{
 "cells": [
  {
   "cell_type": "markdown",
   "metadata": {
    "id": "uyL5mhnzK5ia"
   },
   "source": [
    "# <center>EDSA MOVIE RECOMMENDATION 2022</center>"
   ]
  },
  {
   "cell_type": "markdown",
   "metadata": {
    "id": "oCQ-glzKK5ij"
   },
   "source": [
    "Recommendation systems predict a user's rating or preference for an item. In this case, we are dealingn with movies from the MovieLens dataset. This recommendation system will predict what a given user will rate a movie. \n",
    "\n",
    "The algorithm in this notebook carries out its prediction based on similar content, or what is known as a content-based recommendation system. Given a movie that a user has not rated, the algorithm seeks to predict the rating based on the ratings given by the user on past movies. "
   ]
  },
  {
   "cell_type": "markdown",
   "metadata": {
    "id": "Eic6nBU_K5ik"
   },
   "source": [
    "## Importing the data "
   ]
  },
  {
   "cell_type": "markdown",
   "metadata": {
    "id": "_gUf0MAJK5il"
   },
   "source": [
    "Explore Data Science Academy (EDSA) has provided us with 8 data files that will be used for predicting user's movie ratings. These data was resampled from the MovieLens dataset for fair evaluation. \n",
    "\n",
    "Our task in this section is to merge the files so as to extract the relevant properties from each file and create a dataframe that will be used in prediction. "
   ]
  },
  {
   "cell_type": "code",
   "execution_count": 137,
   "metadata": {
    "id": "eDdeqWPRK5in"
   },
   "outputs": [],
   "source": [
    "# Importing the libraries we'll use \n",
    "import numpy as np\n",
    "from numpy.linalg import norm\n",
    "import pandas as pd\n",
    "import scipy as sp # <-- The sister of Numpy, used in our code for numerical efficientcy. \n",
    "import matplotlib.pyplot as plt\n",
    "import seaborn as sns\n",
    "sns.set_style('dark')\n",
    "%matplotlib inline\n",
    "import squarify\n",
    "from wordcloud import WordCloud\n",
    "from wordcloud import WordCloud, STOPWORDS, ImageColorGenerator\n",
    "\n",
    "# Entity featurization and similarity computation\n",
    "from sklearn.metrics.pairwise import cosine_similarity \n",
    "from sklearn.feature_extraction.text import TfidfVectorizer\n",
    "\n",
    "\n",
    "# Libraries used during sorting procedures.\n",
    "import operator # <-- Convienient item retrieval during iteration \n",
    "import heapq # <-- Efficient sorting of large lists\n",
    "\n",
    "# Imported for our sanity\n",
    "import warnings\n",
    "warnings.filterwarnings('ignore')"
   ]
  },
  {
   "cell_type": "markdown",
   "metadata": {
    "id": "o-jlPckwK5iq"
   },
   "source": [
    "## Let's import the movies data"
   ]
  },
  {
   "cell_type": "code",
   "execution_count": 13,
   "metadata": {
    "id": "nm2kRmuTK5ir"
   },
   "outputs": [],
   "source": [
    "movies_df = pd.read_csv('movies.csv')"
   ]
  },
  {
   "cell_type": "code",
   "execution_count": 14,
   "metadata": {
    "colab": {
     "base_uri": "https://localhost:8080/",
     "height": 206
    },
    "id": "E6T8yDdVK5is",
    "outputId": "6a93986c-282b-46c4-c949-da3201d4cb4c"
   },
   "outputs": [
    {
     "data": {
      "text/html": [
       "<div>\n",
       "<style scoped>\n",
       "    .dataframe tbody tr th:only-of-type {\n",
       "        vertical-align: middle;\n",
       "    }\n",
       "\n",
       "    .dataframe tbody tr th {\n",
       "        vertical-align: top;\n",
       "    }\n",
       "\n",
       "    .dataframe thead th {\n",
       "        text-align: right;\n",
       "    }\n",
       "</style>\n",
       "<table border=\"1\" class=\"dataframe\">\n",
       "  <thead>\n",
       "    <tr style=\"text-align: right;\">\n",
       "      <th></th>\n",
       "      <th>movieId</th>\n",
       "      <th>title</th>\n",
       "      <th>genres</th>\n",
       "    </tr>\n",
       "  </thead>\n",
       "  <tbody>\n",
       "    <tr>\n",
       "      <th>0</th>\n",
       "      <td>1</td>\n",
       "      <td>Toy Story (1995)</td>\n",
       "      <td>Adventure|Animation|Children|Comedy|Fantasy</td>\n",
       "    </tr>\n",
       "    <tr>\n",
       "      <th>1</th>\n",
       "      <td>2</td>\n",
       "      <td>Jumanji (1995)</td>\n",
       "      <td>Adventure|Children|Fantasy</td>\n",
       "    </tr>\n",
       "    <tr>\n",
       "      <th>2</th>\n",
       "      <td>3</td>\n",
       "      <td>Grumpier Old Men (1995)</td>\n",
       "      <td>Comedy|Romance</td>\n",
       "    </tr>\n",
       "    <tr>\n",
       "      <th>3</th>\n",
       "      <td>4</td>\n",
       "      <td>Waiting to Exhale (1995)</td>\n",
       "      <td>Comedy|Drama|Romance</td>\n",
       "    </tr>\n",
       "    <tr>\n",
       "      <th>4</th>\n",
       "      <td>5</td>\n",
       "      <td>Father of the Bride Part II (1995)</td>\n",
       "      <td>Comedy</td>\n",
       "    </tr>\n",
       "  </tbody>\n",
       "</table>\n",
       "</div>"
      ],
      "text/plain": [
       "   movieId                               title  \\\n",
       "0        1                    Toy Story (1995)   \n",
       "1        2                      Jumanji (1995)   \n",
       "2        3             Grumpier Old Men (1995)   \n",
       "3        4            Waiting to Exhale (1995)   \n",
       "4        5  Father of the Bride Part II (1995)   \n",
       "\n",
       "                                        genres  \n",
       "0  Adventure|Animation|Children|Comedy|Fantasy  \n",
       "1                   Adventure|Children|Fantasy  \n",
       "2                               Comedy|Romance  \n",
       "3                         Comedy|Drama|Romance  \n",
       "4                                       Comedy  "
      ]
     },
     "execution_count": 14,
     "metadata": {},
     "output_type": "execute_result"
    }
   ],
   "source": [
    "movies_df.head()"
   ]
  },
  {
   "cell_type": "markdown",
   "metadata": {
    "id": "S9GjHbtVK5iv"
   },
   "source": [
    "We can see that the genres properties, which is useful for our purposes, is separated by | character. We now remove the character to make it space delimited strings. "
   ]
  },
  {
   "cell_type": "code",
   "execution_count": 15,
   "metadata": {
    "id": "bOjFBWUzK5ix"
   },
   "outputs": [],
   "source": [
    "movies_df['genres'] = movies_df['genres'].str.split('|').str.join(',')"
   ]
  },
  {
   "cell_type": "code",
   "execution_count": 16,
   "metadata": {
    "colab": {
     "base_uri": "https://localhost:8080/",
     "height": 206
    },
    "id": "GB12ruHHK5iy",
    "outputId": "5b512563-063d-4f4f-f511-8b37a5585e63"
   },
   "outputs": [
    {
     "data": {
      "text/html": [
       "<div>\n",
       "<style scoped>\n",
       "    .dataframe tbody tr th:only-of-type {\n",
       "        vertical-align: middle;\n",
       "    }\n",
       "\n",
       "    .dataframe tbody tr th {\n",
       "        vertical-align: top;\n",
       "    }\n",
       "\n",
       "    .dataframe thead th {\n",
       "        text-align: right;\n",
       "    }\n",
       "</style>\n",
       "<table border=\"1\" class=\"dataframe\">\n",
       "  <thead>\n",
       "    <tr style=\"text-align: right;\">\n",
       "      <th></th>\n",
       "      <th>movieId</th>\n",
       "      <th>title</th>\n",
       "      <th>genres</th>\n",
       "    </tr>\n",
       "  </thead>\n",
       "  <tbody>\n",
       "    <tr>\n",
       "      <th>0</th>\n",
       "      <td>1</td>\n",
       "      <td>Toy Story (1995)</td>\n",
       "      <td>Adventure,Animation,Children,Comedy,Fantasy</td>\n",
       "    </tr>\n",
       "    <tr>\n",
       "      <th>1</th>\n",
       "      <td>2</td>\n",
       "      <td>Jumanji (1995)</td>\n",
       "      <td>Adventure,Children,Fantasy</td>\n",
       "    </tr>\n",
       "    <tr>\n",
       "      <th>2</th>\n",
       "      <td>3</td>\n",
       "      <td>Grumpier Old Men (1995)</td>\n",
       "      <td>Comedy,Romance</td>\n",
       "    </tr>\n",
       "    <tr>\n",
       "      <th>3</th>\n",
       "      <td>4</td>\n",
       "      <td>Waiting to Exhale (1995)</td>\n",
       "      <td>Comedy,Drama,Romance</td>\n",
       "    </tr>\n",
       "    <tr>\n",
       "      <th>4</th>\n",
       "      <td>5</td>\n",
       "      <td>Father of the Bride Part II (1995)</td>\n",
       "      <td>Comedy</td>\n",
       "    </tr>\n",
       "  </tbody>\n",
       "</table>\n",
       "</div>"
      ],
      "text/plain": [
       "   movieId                               title  \\\n",
       "0        1                    Toy Story (1995)   \n",
       "1        2                      Jumanji (1995)   \n",
       "2        3             Grumpier Old Men (1995)   \n",
       "3        4            Waiting to Exhale (1995)   \n",
       "4        5  Father of the Bride Part II (1995)   \n",
       "\n",
       "                                        genres  \n",
       "0  Adventure,Animation,Children,Comedy,Fantasy  \n",
       "1                   Adventure,Children,Fantasy  \n",
       "2                               Comedy,Romance  \n",
       "3                         Comedy,Drama,Romance  \n",
       "4                                       Comedy  "
      ]
     },
     "execution_count": 16,
     "metadata": {},
     "output_type": "execute_result"
    }
   ],
   "source": [
    "movies_df.head()"
   ]
  },
  {
   "cell_type": "markdown",
   "metadata": {
    "id": "-lx3FptOK5iz"
   },
   "source": [
    "## the tags data\n",
    "We'll now take a look at the tags data"
   ]
  },
  {
   "cell_type": "code",
   "execution_count": 17,
   "metadata": {
    "id": "F4omrKu0K5i0"
   },
   "outputs": [],
   "source": [
    "tags_df = pd.read_csv('tags.csv')"
   ]
  },
  {
   "cell_type": "code",
   "execution_count": 18,
   "metadata": {
    "colab": {
     "base_uri": "https://localhost:8080/",
     "height": 206
    },
    "id": "GhQT0SDCK5i1",
    "outputId": "eeb6dfff-0faf-44a3-e1c9-152b0531b38a"
   },
   "outputs": [
    {
     "data": {
      "text/html": [
       "<div>\n",
       "<style scoped>\n",
       "    .dataframe tbody tr th:only-of-type {\n",
       "        vertical-align: middle;\n",
       "    }\n",
       "\n",
       "    .dataframe tbody tr th {\n",
       "        vertical-align: top;\n",
       "    }\n",
       "\n",
       "    .dataframe thead th {\n",
       "        text-align: right;\n",
       "    }\n",
       "</style>\n",
       "<table border=\"1\" class=\"dataframe\">\n",
       "  <thead>\n",
       "    <tr style=\"text-align: right;\">\n",
       "      <th></th>\n",
       "      <th>userId</th>\n",
       "      <th>movieId</th>\n",
       "      <th>tag</th>\n",
       "      <th>timestamp</th>\n",
       "    </tr>\n",
       "  </thead>\n",
       "  <tbody>\n",
       "    <tr>\n",
       "      <th>0</th>\n",
       "      <td>3</td>\n",
       "      <td>260</td>\n",
       "      <td>classic</td>\n",
       "      <td>1439472355</td>\n",
       "    </tr>\n",
       "    <tr>\n",
       "      <th>1</th>\n",
       "      <td>3</td>\n",
       "      <td>260</td>\n",
       "      <td>sci-fi</td>\n",
       "      <td>1439472256</td>\n",
       "    </tr>\n",
       "    <tr>\n",
       "      <th>2</th>\n",
       "      <td>4</td>\n",
       "      <td>1732</td>\n",
       "      <td>dark comedy</td>\n",
       "      <td>1573943598</td>\n",
       "    </tr>\n",
       "    <tr>\n",
       "      <th>3</th>\n",
       "      <td>4</td>\n",
       "      <td>1732</td>\n",
       "      <td>great dialogue</td>\n",
       "      <td>1573943604</td>\n",
       "    </tr>\n",
       "    <tr>\n",
       "      <th>4</th>\n",
       "      <td>4</td>\n",
       "      <td>7569</td>\n",
       "      <td>so bad it's good</td>\n",
       "      <td>1573943455</td>\n",
       "    </tr>\n",
       "  </tbody>\n",
       "</table>\n",
       "</div>"
      ],
      "text/plain": [
       "   userId  movieId               tag   timestamp\n",
       "0       3      260           classic  1439472355\n",
       "1       3      260            sci-fi  1439472256\n",
       "2       4     1732       dark comedy  1573943598\n",
       "3       4     1732    great dialogue  1573943604\n",
       "4       4     7569  so bad it's good  1573943455"
      ]
     },
     "execution_count": 18,
     "metadata": {},
     "output_type": "execute_result"
    }
   ],
   "source": [
    "tags_df.head()"
   ]
  },
  {
   "cell_type": "markdown",
   "metadata": {
    "id": "9XL_nxM5K5i2"
   },
   "source": [
    "From the above, we see that one user can tag a single movie more than once. We'll now examine if several users can tag the same movie"
   ]
  },
  {
   "cell_type": "code",
   "execution_count": 19,
   "metadata": {
    "colab": {
     "base_uri": "https://localhost:8080/",
     "height": 423
    },
    "id": "i5hEKDWSK5i3",
    "outputId": "6eaf7030-191f-44cd-9eed-87516fdcaf96"
   },
   "outputs": [
    {
     "data": {
      "text/html": [
       "<div>\n",
       "<style scoped>\n",
       "    .dataframe tbody tr th:only-of-type {\n",
       "        vertical-align: middle;\n",
       "    }\n",
       "\n",
       "    .dataframe tbody tr th {\n",
       "        vertical-align: top;\n",
       "    }\n",
       "\n",
       "    .dataframe thead th {\n",
       "        text-align: right;\n",
       "    }\n",
       "</style>\n",
       "<table border=\"1\" class=\"dataframe\">\n",
       "  <thead>\n",
       "    <tr style=\"text-align: right;\">\n",
       "      <th></th>\n",
       "      <th>userId</th>\n",
       "      <th>movieId</th>\n",
       "      <th>tag</th>\n",
       "      <th>timestamp</th>\n",
       "    </tr>\n",
       "  </thead>\n",
       "  <tbody>\n",
       "    <tr>\n",
       "      <th>2306</th>\n",
       "      <td>791</td>\n",
       "      <td>1</td>\n",
       "      <td>Owned</td>\n",
       "      <td>1515175493</td>\n",
       "    </tr>\n",
       "    <tr>\n",
       "      <th>3749</th>\n",
       "      <td>1048</td>\n",
       "      <td>1</td>\n",
       "      <td>imdb top 250</td>\n",
       "      <td>1172144394</td>\n",
       "    </tr>\n",
       "    <tr>\n",
       "      <th>4226</th>\n",
       "      <td>1361</td>\n",
       "      <td>1</td>\n",
       "      <td>Pixar</td>\n",
       "      <td>1216146311</td>\n",
       "    </tr>\n",
       "    <tr>\n",
       "      <th>10003</th>\n",
       "      <td>3164</td>\n",
       "      <td>1</td>\n",
       "      <td>Pixar</td>\n",
       "      <td>1223304727</td>\n",
       "    </tr>\n",
       "    <tr>\n",
       "      <th>10004</th>\n",
       "      <td>3164</td>\n",
       "      <td>1</td>\n",
       "      <td>time travel</td>\n",
       "      <td>1223304729</td>\n",
       "    </tr>\n",
       "    <tr>\n",
       "      <th>...</th>\n",
       "      <td>...</td>\n",
       "      <td>...</td>\n",
       "      <td>...</td>\n",
       "      <td>...</td>\n",
       "    </tr>\n",
       "    <tr>\n",
       "      <th>1084685</th>\n",
       "      <td>160835</td>\n",
       "      <td>1</td>\n",
       "      <td>American Animation</td>\n",
       "      <td>1437092829</td>\n",
       "    </tr>\n",
       "    <tr>\n",
       "      <th>1084688</th>\n",
       "      <td>160858</td>\n",
       "      <td>1</td>\n",
       "      <td>computer animation</td>\n",
       "      <td>1451035426</td>\n",
       "    </tr>\n",
       "    <tr>\n",
       "      <th>1084689</th>\n",
       "      <td>160858</td>\n",
       "      <td>1</td>\n",
       "      <td>pixar</td>\n",
       "      <td>1451035426</td>\n",
       "    </tr>\n",
       "    <tr>\n",
       "      <th>1088052</th>\n",
       "      <td>161172</td>\n",
       "      <td>1</td>\n",
       "      <td>Pixar</td>\n",
       "      <td>1159534063</td>\n",
       "    </tr>\n",
       "    <tr>\n",
       "      <th>1091307</th>\n",
       "      <td>161979</td>\n",
       "      <td>1</td>\n",
       "      <td>animation</td>\n",
       "      <td>1157998369</td>\n",
       "    </tr>\n",
       "  </tbody>\n",
       "</table>\n",
       "<p>697 rows × 4 columns</p>\n",
       "</div>"
      ],
      "text/plain": [
       "         userId  movieId                 tag   timestamp\n",
       "2306        791        1               Owned  1515175493\n",
       "3749       1048        1        imdb top 250  1172144394\n",
       "4226       1361        1               Pixar  1216146311\n",
       "10003      3164        1               Pixar  1223304727\n",
       "10004      3164        1         time travel  1223304729\n",
       "...         ...      ...                 ...         ...\n",
       "1084685  160835        1  American Animation  1437092829\n",
       "1084688  160858        1  computer animation  1451035426\n",
       "1084689  160858        1               pixar  1451035426\n",
       "1088052  161172        1               Pixar  1159534063\n",
       "1091307  161979        1           animation  1157998369\n",
       "\n",
       "[697 rows x 4 columns]"
      ]
     },
     "execution_count": 19,
     "metadata": {},
     "output_type": "execute_result"
    }
   ],
   "source": [
    "# searching for user tags for movie id == 1\n",
    "tags_df[tags_df['movieId'] == 1]"
   ]
  },
  {
   "cell_type": "markdown",
   "metadata": {
    "id": "4rM58CAaK5i4"
   },
   "source": [
    "From the above, we can also see that several users can tag the same movie. "
   ]
  },
  {
   "cell_type": "markdown",
   "metadata": {
    "id": "yELw5e1aK5i5"
   },
   "source": [
    "So we need a way to collect all the tags for each movie and put them in the movies_df dataframe. We also need to make sure that each tag is unique. "
   ]
  },
  {
   "cell_type": "code",
   "execution_count": 20,
   "metadata": {
    "id": "3ASEfIu0K5i5"
   },
   "outputs": [],
   "source": [
    "def create_movie_tags(x):\n",
    "    # get the tags list\n",
    "    tags_series = tags_df[tags_df['movieId'] == x]['tag']\n",
    "    # convert the series to a list\n",
    "    tags_list = tags_series.tolist()\n",
    "    total = []\n",
    "    for letter in tags_list:\n",
    "        letter = str(letter)\n",
    "        intermediate = letter.split()\n",
    "        total = total + intermediate\n",
    "    total = list(set(total))    \n",
    "    mystring = \",\".join(total)\n",
    "    return mystring    \n",
    "\n",
    "\n"
   ]
  },
  {
   "cell_type": "code",
   "execution_count": 21,
   "metadata": {
    "id": "EmBamIuYK5i6"
   },
   "outputs": [],
   "source": [
    "movies_df['tags'] = movies_df['movieId'].apply(create_movie_tags)"
   ]
  },
  {
   "cell_type": "code",
   "execution_count": 22,
   "metadata": {
    "colab": {
     "base_uri": "https://localhost:8080/",
     "height": 337
    },
    "id": "lm78xp0zK5i7",
    "outputId": "94902ac9-9927-4401-dbc2-b482e746c062"
   },
   "outputs": [
    {
     "data": {
      "text/html": [
       "<div>\n",
       "<style scoped>\n",
       "    .dataframe tbody tr th:only-of-type {\n",
       "        vertical-align: middle;\n",
       "    }\n",
       "\n",
       "    .dataframe tbody tr th {\n",
       "        vertical-align: top;\n",
       "    }\n",
       "\n",
       "    .dataframe thead th {\n",
       "        text-align: right;\n",
       "    }\n",
       "</style>\n",
       "<table border=\"1\" class=\"dataframe\">\n",
       "  <thead>\n",
       "    <tr style=\"text-align: right;\">\n",
       "      <th></th>\n",
       "      <th>movieId</th>\n",
       "      <th>title</th>\n",
       "      <th>genres</th>\n",
       "      <th>tags</th>\n",
       "    </tr>\n",
       "  </thead>\n",
       "  <tbody>\n",
       "    <tr>\n",
       "      <th>0</th>\n",
       "      <td>1</td>\n",
       "      <td>Toy Story (1995)</td>\n",
       "      <td>Adventure,Animation,Children,Comedy,Fantasy</td>\n",
       "      <td>arts,first,Hanks,CLV,mission,rousing,bright,Bu...</td>\n",
       "    </tr>\n",
       "    <tr>\n",
       "      <th>1</th>\n",
       "      <td>2</td>\n",
       "      <td>Jumanji (1995)</td>\n",
       "      <td>Adventure,Children,Fantasy</td>\n",
       "      <td>childhood,fantasy,family,Book,CLV,horrifying,w...</td>\n",
       "    </tr>\n",
       "    <tr>\n",
       "      <th>2</th>\n",
       "      <td>3</td>\n",
       "      <td>Grumpier Old Men (1995)</td>\n",
       "      <td>Comedy,Romance</td>\n",
       "      <td>comedinha,CLV,sequel,Meredith,best,friend,Marg...</td>\n",
       "    </tr>\n",
       "    <tr>\n",
       "      <th>3</th>\n",
       "      <td>4</td>\n",
       "      <td>Waiting to Exhale (1995)</td>\n",
       "      <td>Comedy,Drama,Romance</td>\n",
       "      <td>chick,or,mother,revenge,CLV,interracial,divorc...</td>\n",
       "    </tr>\n",
       "    <tr>\n",
       "      <th>4</th>\n",
       "      <td>5</td>\n",
       "      <td>Father of the Bride Part II (1995)</td>\n",
       "      <td>Comedy</td>\n",
       "      <td>family,contraception,pregnancy,CLV,Diane,seque...</td>\n",
       "    </tr>\n",
       "  </tbody>\n",
       "</table>\n",
       "</div>"
      ],
      "text/plain": [
       "   movieId                               title  \\\n",
       "0        1                    Toy Story (1995)   \n",
       "1        2                      Jumanji (1995)   \n",
       "2        3             Grumpier Old Men (1995)   \n",
       "3        4            Waiting to Exhale (1995)   \n",
       "4        5  Father of the Bride Part II (1995)   \n",
       "\n",
       "                                        genres  \\\n",
       "0  Adventure,Animation,Children,Comedy,Fantasy   \n",
       "1                   Adventure,Children,Fantasy   \n",
       "2                               Comedy,Romance   \n",
       "3                         Comedy,Drama,Romance   \n",
       "4                                       Comedy   \n",
       "\n",
       "                                                tags  \n",
       "0  arts,first,Hanks,CLV,mission,rousing,bright,Bu...  \n",
       "1  childhood,fantasy,family,Book,CLV,horrifying,w...  \n",
       "2  comedinha,CLV,sequel,Meredith,best,friend,Marg...  \n",
       "3  chick,or,mother,revenge,CLV,interracial,divorc...  \n",
       "4  family,contraception,pregnancy,CLV,Diane,seque...  "
      ]
     },
     "execution_count": 22,
     "metadata": {},
     "output_type": "execute_result"
    }
   ],
   "source": [
    "movies_df.head()"
   ]
  },
  {
   "cell_type": "code",
   "execution_count": 23,
   "metadata": {
    "colab": {
     "base_uri": "https://localhost:8080/"
    },
    "id": "QY1JL7diK5i9",
    "outputId": "46679779-62f1-4edd-902c-37f860dce162"
   },
   "outputs": [
    {
     "data": {
      "text/plain": [
       "62423"
      ]
     },
     "execution_count": 23,
     "metadata": {},
     "output_type": "execute_result"
    }
   ],
   "source": [
    "movies_df['movieId'].nunique()"
   ]
  },
  {
   "cell_type": "markdown",
   "metadata": {
    "id": "VAes0RGDK5i-"
   },
   "source": [
    "## Imdb data\n",
    "\n"
   ]
  },
  {
   "cell_type": "markdown",
   "metadata": {
    "id": "3fduVtS1K5i_"
   },
   "source": [
    "Imdb means the Internet Movie database. it is an onliine database with information and statistics about movies. This database contains interesting properties of movies such as title cast, director, runtime, budget and plot keywords. "
   ]
  },
  {
   "cell_type": "code",
   "execution_count": 24,
   "metadata": {
    "id": "GU-3ZM4dK5i_"
   },
   "outputs": [],
   "source": [
    "# importing the imdb database\n",
    "imdb_df = pd.read_csv('imdb_data.csv')"
   ]
  },
  {
   "cell_type": "code",
   "execution_count": 25,
   "metadata": {
    "colab": {
     "base_uri": "https://localhost:8080/",
     "height": 354
    },
    "id": "JKNUpERXK5jA",
    "outputId": "79a3b328-6fc0-46a1-e8d7-4ed1d28abf83"
   },
   "outputs": [
    {
     "data": {
      "text/html": [
       "<div>\n",
       "<style scoped>\n",
       "    .dataframe tbody tr th:only-of-type {\n",
       "        vertical-align: middle;\n",
       "    }\n",
       "\n",
       "    .dataframe tbody tr th {\n",
       "        vertical-align: top;\n",
       "    }\n",
       "\n",
       "    .dataframe thead th {\n",
       "        text-align: right;\n",
       "    }\n",
       "</style>\n",
       "<table border=\"1\" class=\"dataframe\">\n",
       "  <thead>\n",
       "    <tr style=\"text-align: right;\">\n",
       "      <th></th>\n",
       "      <th>movieId</th>\n",
       "      <th>title_cast</th>\n",
       "      <th>director</th>\n",
       "      <th>runtime</th>\n",
       "      <th>budget</th>\n",
       "      <th>plot_keywords</th>\n",
       "    </tr>\n",
       "  </thead>\n",
       "  <tbody>\n",
       "    <tr>\n",
       "      <th>0</th>\n",
       "      <td>1</td>\n",
       "      <td>Tom Hanks|Tim Allen|Don Rickles|Jim Varney|Wal...</td>\n",
       "      <td>John Lasseter</td>\n",
       "      <td>81.0</td>\n",
       "      <td>$30,000,000</td>\n",
       "      <td>toy|rivalry|cowboy|cgi animation</td>\n",
       "    </tr>\n",
       "    <tr>\n",
       "      <th>1</th>\n",
       "      <td>2</td>\n",
       "      <td>Robin Williams|Jonathan Hyde|Kirsten Dunst|Bra...</td>\n",
       "      <td>Jonathan Hensleigh</td>\n",
       "      <td>104.0</td>\n",
       "      <td>$65,000,000</td>\n",
       "      <td>board game|adventurer|fight|game</td>\n",
       "    </tr>\n",
       "    <tr>\n",
       "      <th>2</th>\n",
       "      <td>3</td>\n",
       "      <td>Walter Matthau|Jack Lemmon|Sophia Loren|Ann-Ma...</td>\n",
       "      <td>Mark Steven Johnson</td>\n",
       "      <td>101.0</td>\n",
       "      <td>$25,000,000</td>\n",
       "      <td>boat|lake|neighbor|rivalry</td>\n",
       "    </tr>\n",
       "    <tr>\n",
       "      <th>3</th>\n",
       "      <td>4</td>\n",
       "      <td>Whitney Houston|Angela Bassett|Loretta Devine|...</td>\n",
       "      <td>Terry McMillan</td>\n",
       "      <td>124.0</td>\n",
       "      <td>$16,000,000</td>\n",
       "      <td>black american|husband wife relationship|betra...</td>\n",
       "    </tr>\n",
       "    <tr>\n",
       "      <th>4</th>\n",
       "      <td>5</td>\n",
       "      <td>Steve Martin|Diane Keaton|Martin Short|Kimberl...</td>\n",
       "      <td>Albert Hackett</td>\n",
       "      <td>106.0</td>\n",
       "      <td>$30,000,000</td>\n",
       "      <td>fatherhood|doberman|dog|mansion</td>\n",
       "    </tr>\n",
       "  </tbody>\n",
       "</table>\n",
       "</div>"
      ],
      "text/plain": [
       "   movieId                                         title_cast  \\\n",
       "0        1  Tom Hanks|Tim Allen|Don Rickles|Jim Varney|Wal...   \n",
       "1        2  Robin Williams|Jonathan Hyde|Kirsten Dunst|Bra...   \n",
       "2        3  Walter Matthau|Jack Lemmon|Sophia Loren|Ann-Ma...   \n",
       "3        4  Whitney Houston|Angela Bassett|Loretta Devine|...   \n",
       "4        5  Steve Martin|Diane Keaton|Martin Short|Kimberl...   \n",
       "\n",
       "              director  runtime       budget  \\\n",
       "0        John Lasseter     81.0  $30,000,000   \n",
       "1   Jonathan Hensleigh    104.0  $65,000,000   \n",
       "2  Mark Steven Johnson    101.0  $25,000,000   \n",
       "3       Terry McMillan    124.0  $16,000,000   \n",
       "4       Albert Hackett    106.0  $30,000,000   \n",
       "\n",
       "                                       plot_keywords  \n",
       "0                   toy|rivalry|cowboy|cgi animation  \n",
       "1                   board game|adventurer|fight|game  \n",
       "2                         boat|lake|neighbor|rivalry  \n",
       "3  black american|husband wife relationship|betra...  \n",
       "4                    fatherhood|doberman|dog|mansion  "
      ]
     },
     "execution_count": 25,
     "metadata": {},
     "output_type": "execute_result"
    }
   ],
   "source": [
    "# taking a look at the database. The first five rows\n",
    "imdb_df.head()"
   ]
  },
  {
   "cell_type": "markdown",
   "metadata": {
    "id": "0IxjiJOLK5jB"
   },
   "source": [
    "The properties of interest from the imdb database are title_cast, director, runtime, plot_keywords. We left out the budget property for now. "
   ]
  },
  {
   "cell_type": "code",
   "execution_count": 26,
   "metadata": {
    "id": "XihKYXAKK5jB"
   },
   "outputs": [],
   "source": [
    "# removing the | character from title_cast column\n",
    "imdb_df['title_cast'] = imdb_df['title_cast'].str.split('|').str.join(', ')"
   ]
  },
  {
   "cell_type": "code",
   "execution_count": 27,
   "metadata": {
    "colab": {
     "base_uri": "https://localhost:8080/",
     "height": 354
    },
    "id": "ZmxGUrg8K5jC",
    "outputId": "c6acfb83-8c7f-4514-e0a2-68a8a53f9ebf"
   },
   "outputs": [
    {
     "data": {
      "text/html": [
       "<div>\n",
       "<style scoped>\n",
       "    .dataframe tbody tr th:only-of-type {\n",
       "        vertical-align: middle;\n",
       "    }\n",
       "\n",
       "    .dataframe tbody tr th {\n",
       "        vertical-align: top;\n",
       "    }\n",
       "\n",
       "    .dataframe thead th {\n",
       "        text-align: right;\n",
       "    }\n",
       "</style>\n",
       "<table border=\"1\" class=\"dataframe\">\n",
       "  <thead>\n",
       "    <tr style=\"text-align: right;\">\n",
       "      <th></th>\n",
       "      <th>movieId</th>\n",
       "      <th>title_cast</th>\n",
       "      <th>director</th>\n",
       "      <th>runtime</th>\n",
       "      <th>budget</th>\n",
       "      <th>plot_keywords</th>\n",
       "    </tr>\n",
       "  </thead>\n",
       "  <tbody>\n",
       "    <tr>\n",
       "      <th>0</th>\n",
       "      <td>1</td>\n",
       "      <td>Tom Hanks, Tim Allen, Don Rickles, Jim Varney,...</td>\n",
       "      <td>John Lasseter</td>\n",
       "      <td>81.0</td>\n",
       "      <td>$30,000,000</td>\n",
       "      <td>toy|rivalry|cowboy|cgi animation</td>\n",
       "    </tr>\n",
       "    <tr>\n",
       "      <th>1</th>\n",
       "      <td>2</td>\n",
       "      <td>Robin Williams, Jonathan Hyde, Kirsten Dunst, ...</td>\n",
       "      <td>Jonathan Hensleigh</td>\n",
       "      <td>104.0</td>\n",
       "      <td>$65,000,000</td>\n",
       "      <td>board game|adventurer|fight|game</td>\n",
       "    </tr>\n",
       "    <tr>\n",
       "      <th>2</th>\n",
       "      <td>3</td>\n",
       "      <td>Walter Matthau, Jack Lemmon, Sophia Loren, Ann...</td>\n",
       "      <td>Mark Steven Johnson</td>\n",
       "      <td>101.0</td>\n",
       "      <td>$25,000,000</td>\n",
       "      <td>boat|lake|neighbor|rivalry</td>\n",
       "    </tr>\n",
       "    <tr>\n",
       "      <th>3</th>\n",
       "      <td>4</td>\n",
       "      <td>Whitney Houston, Angela Bassett, Loretta Devin...</td>\n",
       "      <td>Terry McMillan</td>\n",
       "      <td>124.0</td>\n",
       "      <td>$16,000,000</td>\n",
       "      <td>black american|husband wife relationship|betra...</td>\n",
       "    </tr>\n",
       "    <tr>\n",
       "      <th>4</th>\n",
       "      <td>5</td>\n",
       "      <td>Steve Martin, Diane Keaton, Martin Short, Kimb...</td>\n",
       "      <td>Albert Hackett</td>\n",
       "      <td>106.0</td>\n",
       "      <td>$30,000,000</td>\n",
       "      <td>fatherhood|doberman|dog|mansion</td>\n",
       "    </tr>\n",
       "  </tbody>\n",
       "</table>\n",
       "</div>"
      ],
      "text/plain": [
       "   movieId                                         title_cast  \\\n",
       "0        1  Tom Hanks, Tim Allen, Don Rickles, Jim Varney,...   \n",
       "1        2  Robin Williams, Jonathan Hyde, Kirsten Dunst, ...   \n",
       "2        3  Walter Matthau, Jack Lemmon, Sophia Loren, Ann...   \n",
       "3        4  Whitney Houston, Angela Bassett, Loretta Devin...   \n",
       "4        5  Steve Martin, Diane Keaton, Martin Short, Kimb...   \n",
       "\n",
       "              director  runtime       budget  \\\n",
       "0        John Lasseter     81.0  $30,000,000   \n",
       "1   Jonathan Hensleigh    104.0  $65,000,000   \n",
       "2  Mark Steven Johnson    101.0  $25,000,000   \n",
       "3       Terry McMillan    124.0  $16,000,000   \n",
       "4       Albert Hackett    106.0  $30,000,000   \n",
       "\n",
       "                                       plot_keywords  \n",
       "0                   toy|rivalry|cowboy|cgi animation  \n",
       "1                   board game|adventurer|fight|game  \n",
       "2                         boat|lake|neighbor|rivalry  \n",
       "3  black american|husband wife relationship|betra...  \n",
       "4                    fatherhood|doberman|dog|mansion  "
      ]
     },
     "execution_count": 27,
     "metadata": {},
     "output_type": "execute_result"
    }
   ],
   "source": [
    "imdb_df.head()"
   ]
  },
  {
   "cell_type": "code",
   "execution_count": null,
   "metadata": {
    "id": "VvB5QccyK5jC"
   },
   "outputs": [],
   "source": []
  },
  {
   "cell_type": "markdown",
   "metadata": {
    "id": "_Hc0UimzK5jD"
   },
   "source": [
    "We now add the title_cast to the movies dataframe"
   ]
  },
  {
   "cell_type": "code",
   "execution_count": 28,
   "metadata": {
    "id": "ZyCUr99EK5jD"
   },
   "outputs": [],
   "source": [
    "# creating a function to add title_cast column\n",
    "def add_title_cast(x):\n",
    "    # create a series of the movieid column in imdb df\n",
    "    title_series = imdb_df['movieId']\n",
    "    # check if the movieId from the movies df is in the series\n",
    "    if x in title_series.values:\n",
    "        title_case = imdb_df.loc[imdb_df['movieId'] == x, 'title_cast'].item()\n",
    "        return title_case\n",
    "    else:\n",
    "        return \" \"         "
   ]
  },
  {
   "cell_type": "code",
   "execution_count": 29,
   "metadata": {
    "colab": {
     "base_uri": "https://localhost:8080/",
     "height": 337
    },
    "id": "MEQGPqesK5jF",
    "outputId": "3273c258-76cb-4ce8-a14b-92c67a29563b"
   },
   "outputs": [
    {
     "data": {
      "text/html": [
       "<div>\n",
       "<style scoped>\n",
       "    .dataframe tbody tr th:only-of-type {\n",
       "        vertical-align: middle;\n",
       "    }\n",
       "\n",
       "    .dataframe tbody tr th {\n",
       "        vertical-align: top;\n",
       "    }\n",
       "\n",
       "    .dataframe thead th {\n",
       "        text-align: right;\n",
       "    }\n",
       "</style>\n",
       "<table border=\"1\" class=\"dataframe\">\n",
       "  <thead>\n",
       "    <tr style=\"text-align: right;\">\n",
       "      <th></th>\n",
       "      <th>movieId</th>\n",
       "      <th>title</th>\n",
       "      <th>genres</th>\n",
       "      <th>tags</th>\n",
       "      <th>title_cast</th>\n",
       "    </tr>\n",
       "  </thead>\n",
       "  <tbody>\n",
       "    <tr>\n",
       "      <th>0</th>\n",
       "      <td>1</td>\n",
       "      <td>Toy Story (1995)</td>\n",
       "      <td>Adventure,Animation,Children,Comedy,Fantasy</td>\n",
       "      <td>arts,first,Hanks,CLV,mission,rousing,bright,Bu...</td>\n",
       "      <td>Tom Hanks, Tim Allen, Don Rickles, Jim Varney,...</td>\n",
       "    </tr>\n",
       "    <tr>\n",
       "      <th>1</th>\n",
       "      <td>2</td>\n",
       "      <td>Jumanji (1995)</td>\n",
       "      <td>Adventure,Children,Fantasy</td>\n",
       "      <td>childhood,fantasy,family,Book,CLV,horrifying,w...</td>\n",
       "      <td>Robin Williams, Jonathan Hyde, Kirsten Dunst, ...</td>\n",
       "    </tr>\n",
       "    <tr>\n",
       "      <th>2</th>\n",
       "      <td>3</td>\n",
       "      <td>Grumpier Old Men (1995)</td>\n",
       "      <td>Comedy,Romance</td>\n",
       "      <td>comedinha,CLV,sequel,Meredith,best,friend,Marg...</td>\n",
       "      <td>Walter Matthau, Jack Lemmon, Sophia Loren, Ann...</td>\n",
       "    </tr>\n",
       "    <tr>\n",
       "      <th>3</th>\n",
       "      <td>4</td>\n",
       "      <td>Waiting to Exhale (1995)</td>\n",
       "      <td>Comedy,Drama,Romance</td>\n",
       "      <td>chick,or,mother,revenge,CLV,interracial,divorc...</td>\n",
       "      <td>Whitney Houston, Angela Bassett, Loretta Devin...</td>\n",
       "    </tr>\n",
       "    <tr>\n",
       "      <th>4</th>\n",
       "      <td>5</td>\n",
       "      <td>Father of the Bride Part II (1995)</td>\n",
       "      <td>Comedy</td>\n",
       "      <td>family,contraception,pregnancy,CLV,Diane,seque...</td>\n",
       "      <td>Steve Martin, Diane Keaton, Martin Short, Kimb...</td>\n",
       "    </tr>\n",
       "  </tbody>\n",
       "</table>\n",
       "</div>"
      ],
      "text/plain": [
       "   movieId                               title  \\\n",
       "0        1                    Toy Story (1995)   \n",
       "1        2                      Jumanji (1995)   \n",
       "2        3             Grumpier Old Men (1995)   \n",
       "3        4            Waiting to Exhale (1995)   \n",
       "4        5  Father of the Bride Part II (1995)   \n",
       "\n",
       "                                        genres  \\\n",
       "0  Adventure,Animation,Children,Comedy,Fantasy   \n",
       "1                   Adventure,Children,Fantasy   \n",
       "2                               Comedy,Romance   \n",
       "3                         Comedy,Drama,Romance   \n",
       "4                                       Comedy   \n",
       "\n",
       "                                                tags  \\\n",
       "0  arts,first,Hanks,CLV,mission,rousing,bright,Bu...   \n",
       "1  childhood,fantasy,family,Book,CLV,horrifying,w...   \n",
       "2  comedinha,CLV,sequel,Meredith,best,friend,Marg...   \n",
       "3  chick,or,mother,revenge,CLV,interracial,divorc...   \n",
       "4  family,contraception,pregnancy,CLV,Diane,seque...   \n",
       "\n",
       "                                          title_cast  \n",
       "0  Tom Hanks, Tim Allen, Don Rickles, Jim Varney,...  \n",
       "1  Robin Williams, Jonathan Hyde, Kirsten Dunst, ...  \n",
       "2  Walter Matthau, Jack Lemmon, Sophia Loren, Ann...  \n",
       "3  Whitney Houston, Angela Bassett, Loretta Devin...  \n",
       "4  Steve Martin, Diane Keaton, Martin Short, Kimb...  "
      ]
     },
     "execution_count": 29,
     "metadata": {},
     "output_type": "execute_result"
    }
   ],
   "source": [
    "movies_df['title_cast'] = movies_df['movieId'].apply(add_title_cast)\n",
    "movies_df.head()"
   ]
  },
  {
   "cell_type": "markdown",
   "metadata": {
    "id": "CQys8GMfK5jG"
   },
   "source": [
    "We then add the director item"
   ]
  },
  {
   "cell_type": "code",
   "execution_count": 30,
   "metadata": {
    "id": "9Fx7_ZFFK5jG"
   },
   "outputs": [],
   "source": [
    "# creating a function to add title_cast column\n",
    "def add_director(x):\n",
    "    # create a series of the movieid column in imdb df\n",
    "    director_series = imdb_df['movieId']\n",
    "    # check if the movieId from the movies df is in the series\n",
    "    if x in director_series.values:\n",
    "        director = imdb_df.loc[imdb_df['movieId'] == x, 'director'].item()\n",
    "        return director\n",
    "    else:\n",
    "        return \" \"         "
   ]
  },
  {
   "cell_type": "code",
   "execution_count": 31,
   "metadata": {
    "id": "9rBZ608nK5jH"
   },
   "outputs": [],
   "source": [
    "movies_df['director'] = movies_df['movieId'].apply(add_director)"
   ]
  },
  {
   "cell_type": "code",
   "execution_count": 32,
   "metadata": {
    "colab": {
     "base_uri": "https://localhost:8080/",
     "height": 424
    },
    "id": "zkyQcbypK5jI",
    "outputId": "4ca7fa18-016f-40b0-8448-d5a92ed428e0"
   },
   "outputs": [
    {
     "data": {
      "text/html": [
       "<div>\n",
       "<style scoped>\n",
       "    .dataframe tbody tr th:only-of-type {\n",
       "        vertical-align: middle;\n",
       "    }\n",
       "\n",
       "    .dataframe tbody tr th {\n",
       "        vertical-align: top;\n",
       "    }\n",
       "\n",
       "    .dataframe thead th {\n",
       "        text-align: right;\n",
       "    }\n",
       "</style>\n",
       "<table border=\"1\" class=\"dataframe\">\n",
       "  <thead>\n",
       "    <tr style=\"text-align: right;\">\n",
       "      <th></th>\n",
       "      <th>movieId</th>\n",
       "      <th>title</th>\n",
       "      <th>genres</th>\n",
       "      <th>tags</th>\n",
       "      <th>title_cast</th>\n",
       "      <th>director</th>\n",
       "    </tr>\n",
       "  </thead>\n",
       "  <tbody>\n",
       "    <tr>\n",
       "      <th>0</th>\n",
       "      <td>1</td>\n",
       "      <td>Toy Story (1995)</td>\n",
       "      <td>Adventure,Animation,Children,Comedy,Fantasy</td>\n",
       "      <td>arts,first,Hanks,CLV,mission,rousing,bright,Bu...</td>\n",
       "      <td>Tom Hanks, Tim Allen, Don Rickles, Jim Varney,...</td>\n",
       "      <td>John Lasseter</td>\n",
       "    </tr>\n",
       "    <tr>\n",
       "      <th>1</th>\n",
       "      <td>2</td>\n",
       "      <td>Jumanji (1995)</td>\n",
       "      <td>Adventure,Children,Fantasy</td>\n",
       "      <td>childhood,fantasy,family,Book,CLV,horrifying,w...</td>\n",
       "      <td>Robin Williams, Jonathan Hyde, Kirsten Dunst, ...</td>\n",
       "      <td>Jonathan Hensleigh</td>\n",
       "    </tr>\n",
       "    <tr>\n",
       "      <th>2</th>\n",
       "      <td>3</td>\n",
       "      <td>Grumpier Old Men (1995)</td>\n",
       "      <td>Comedy,Romance</td>\n",
       "      <td>comedinha,CLV,sequel,Meredith,best,friend,Marg...</td>\n",
       "      <td>Walter Matthau, Jack Lemmon, Sophia Loren, Ann...</td>\n",
       "      <td>Mark Steven Johnson</td>\n",
       "    </tr>\n",
       "    <tr>\n",
       "      <th>3</th>\n",
       "      <td>4</td>\n",
       "      <td>Waiting to Exhale (1995)</td>\n",
       "      <td>Comedy,Drama,Romance</td>\n",
       "      <td>chick,or,mother,revenge,CLV,interracial,divorc...</td>\n",
       "      <td>Whitney Houston, Angela Bassett, Loretta Devin...</td>\n",
       "      <td>Terry McMillan</td>\n",
       "    </tr>\n",
       "    <tr>\n",
       "      <th>4</th>\n",
       "      <td>5</td>\n",
       "      <td>Father of the Bride Part II (1995)</td>\n",
       "      <td>Comedy</td>\n",
       "      <td>family,contraception,pregnancy,CLV,Diane,seque...</td>\n",
       "      <td>Steve Martin, Diane Keaton, Martin Short, Kimb...</td>\n",
       "      <td>Albert Hackett</td>\n",
       "    </tr>\n",
       "  </tbody>\n",
       "</table>\n",
       "</div>"
      ],
      "text/plain": [
       "   movieId                               title  \\\n",
       "0        1                    Toy Story (1995)   \n",
       "1        2                      Jumanji (1995)   \n",
       "2        3             Grumpier Old Men (1995)   \n",
       "3        4            Waiting to Exhale (1995)   \n",
       "4        5  Father of the Bride Part II (1995)   \n",
       "\n",
       "                                        genres  \\\n",
       "0  Adventure,Animation,Children,Comedy,Fantasy   \n",
       "1                   Adventure,Children,Fantasy   \n",
       "2                               Comedy,Romance   \n",
       "3                         Comedy,Drama,Romance   \n",
       "4                                       Comedy   \n",
       "\n",
       "                                                tags  \\\n",
       "0  arts,first,Hanks,CLV,mission,rousing,bright,Bu...   \n",
       "1  childhood,fantasy,family,Book,CLV,horrifying,w...   \n",
       "2  comedinha,CLV,sequel,Meredith,best,friend,Marg...   \n",
       "3  chick,or,mother,revenge,CLV,interracial,divorc...   \n",
       "4  family,contraception,pregnancy,CLV,Diane,seque...   \n",
       "\n",
       "                                          title_cast             director  \n",
       "0  Tom Hanks, Tim Allen, Don Rickles, Jim Varney,...        John Lasseter  \n",
       "1  Robin Williams, Jonathan Hyde, Kirsten Dunst, ...   Jonathan Hensleigh  \n",
       "2  Walter Matthau, Jack Lemmon, Sophia Loren, Ann...  Mark Steven Johnson  \n",
       "3  Whitney Houston, Angela Bassett, Loretta Devin...       Terry McMillan  \n",
       "4  Steve Martin, Diane Keaton, Martin Short, Kimb...       Albert Hackett  "
      ]
     },
     "execution_count": 32,
     "metadata": {},
     "output_type": "execute_result"
    }
   ],
   "source": [
    "movies_df.head()"
   ]
  },
  {
   "cell_type": "markdown",
   "metadata": {
    "id": "FwJgo_7EK5jJ"
   },
   "source": [
    "Then add the budget"
   ]
  },
  {
   "cell_type": "code",
   "execution_count": 33,
   "metadata": {
    "id": "OKsPPWsrK5jJ"
   },
   "outputs": [],
   "source": [
    "# creating a function to add budget column\n",
    "def add_budget(x):\n",
    "    # create a series of the movieid column in imdb df\n",
    "    budget_series = imdb_df['movieId']\n",
    "    # check if the movieId from the movies df is in the series\n",
    "    if x in budget_series.values:\n",
    "        budget = imdb_df.loc[imdb_df['movieId'] == x, 'budget'].item()\n",
    "        return budget\n",
    "    else:\n",
    "        return \" \"         "
   ]
  },
  {
   "cell_type": "code",
   "execution_count": 34,
   "metadata": {
    "id": "P4f3rZPAK5jJ"
   },
   "outputs": [],
   "source": [
    "movies_df['budget'] = movies_df['movieId'].apply(add_budget)"
   ]
  },
  {
   "cell_type": "code",
   "execution_count": 35,
   "metadata": {
    "colab": {
     "base_uri": "https://localhost:8080/",
     "height": 424
    },
    "id": "-Ae6x6XKK5jJ",
    "outputId": "637f70c1-d5d0-4a49-d35a-10bf92e3c879"
   },
   "outputs": [
    {
     "data": {
      "text/html": [
       "<div>\n",
       "<style scoped>\n",
       "    .dataframe tbody tr th:only-of-type {\n",
       "        vertical-align: middle;\n",
       "    }\n",
       "\n",
       "    .dataframe tbody tr th {\n",
       "        vertical-align: top;\n",
       "    }\n",
       "\n",
       "    .dataframe thead th {\n",
       "        text-align: right;\n",
       "    }\n",
       "</style>\n",
       "<table border=\"1\" class=\"dataframe\">\n",
       "  <thead>\n",
       "    <tr style=\"text-align: right;\">\n",
       "      <th></th>\n",
       "      <th>movieId</th>\n",
       "      <th>title</th>\n",
       "      <th>genres</th>\n",
       "      <th>tags</th>\n",
       "      <th>title_cast</th>\n",
       "      <th>director</th>\n",
       "      <th>budget</th>\n",
       "    </tr>\n",
       "  </thead>\n",
       "  <tbody>\n",
       "    <tr>\n",
       "      <th>0</th>\n",
       "      <td>1</td>\n",
       "      <td>Toy Story (1995)</td>\n",
       "      <td>Adventure,Animation,Children,Comedy,Fantasy</td>\n",
       "      <td>arts,first,Hanks,CLV,mission,rousing,bright,Bu...</td>\n",
       "      <td>Tom Hanks, Tim Allen, Don Rickles, Jim Varney,...</td>\n",
       "      <td>John Lasseter</td>\n",
       "      <td>$30,000,000</td>\n",
       "    </tr>\n",
       "    <tr>\n",
       "      <th>1</th>\n",
       "      <td>2</td>\n",
       "      <td>Jumanji (1995)</td>\n",
       "      <td>Adventure,Children,Fantasy</td>\n",
       "      <td>childhood,fantasy,family,Book,CLV,horrifying,w...</td>\n",
       "      <td>Robin Williams, Jonathan Hyde, Kirsten Dunst, ...</td>\n",
       "      <td>Jonathan Hensleigh</td>\n",
       "      <td>$65,000,000</td>\n",
       "    </tr>\n",
       "    <tr>\n",
       "      <th>2</th>\n",
       "      <td>3</td>\n",
       "      <td>Grumpier Old Men (1995)</td>\n",
       "      <td>Comedy,Romance</td>\n",
       "      <td>comedinha,CLV,sequel,Meredith,best,friend,Marg...</td>\n",
       "      <td>Walter Matthau, Jack Lemmon, Sophia Loren, Ann...</td>\n",
       "      <td>Mark Steven Johnson</td>\n",
       "      <td>$25,000,000</td>\n",
       "    </tr>\n",
       "    <tr>\n",
       "      <th>3</th>\n",
       "      <td>4</td>\n",
       "      <td>Waiting to Exhale (1995)</td>\n",
       "      <td>Comedy,Drama,Romance</td>\n",
       "      <td>chick,or,mother,revenge,CLV,interracial,divorc...</td>\n",
       "      <td>Whitney Houston, Angela Bassett, Loretta Devin...</td>\n",
       "      <td>Terry McMillan</td>\n",
       "      <td>$16,000,000</td>\n",
       "    </tr>\n",
       "    <tr>\n",
       "      <th>4</th>\n",
       "      <td>5</td>\n",
       "      <td>Father of the Bride Part II (1995)</td>\n",
       "      <td>Comedy</td>\n",
       "      <td>family,contraception,pregnancy,CLV,Diane,seque...</td>\n",
       "      <td>Steve Martin, Diane Keaton, Martin Short, Kimb...</td>\n",
       "      <td>Albert Hackett</td>\n",
       "      <td>$30,000,000</td>\n",
       "    </tr>\n",
       "  </tbody>\n",
       "</table>\n",
       "</div>"
      ],
      "text/plain": [
       "   movieId                               title  \\\n",
       "0        1                    Toy Story (1995)   \n",
       "1        2                      Jumanji (1995)   \n",
       "2        3             Grumpier Old Men (1995)   \n",
       "3        4            Waiting to Exhale (1995)   \n",
       "4        5  Father of the Bride Part II (1995)   \n",
       "\n",
       "                                        genres  \\\n",
       "0  Adventure,Animation,Children,Comedy,Fantasy   \n",
       "1                   Adventure,Children,Fantasy   \n",
       "2                               Comedy,Romance   \n",
       "3                         Comedy,Drama,Romance   \n",
       "4                                       Comedy   \n",
       "\n",
       "                                                tags  \\\n",
       "0  arts,first,Hanks,CLV,mission,rousing,bright,Bu...   \n",
       "1  childhood,fantasy,family,Book,CLV,horrifying,w...   \n",
       "2  comedinha,CLV,sequel,Meredith,best,friend,Marg...   \n",
       "3  chick,or,mother,revenge,CLV,interracial,divorc...   \n",
       "4  family,contraception,pregnancy,CLV,Diane,seque...   \n",
       "\n",
       "                                          title_cast             director  \\\n",
       "0  Tom Hanks, Tim Allen, Don Rickles, Jim Varney,...        John Lasseter   \n",
       "1  Robin Williams, Jonathan Hyde, Kirsten Dunst, ...   Jonathan Hensleigh   \n",
       "2  Walter Matthau, Jack Lemmon, Sophia Loren, Ann...  Mark Steven Johnson   \n",
       "3  Whitney Houston, Angela Bassett, Loretta Devin...       Terry McMillan   \n",
       "4  Steve Martin, Diane Keaton, Martin Short, Kimb...       Albert Hackett   \n",
       "\n",
       "        budget  \n",
       "0  $30,000,000  \n",
       "1  $65,000,000  \n",
       "2  $25,000,000  \n",
       "3  $16,000,000  \n",
       "4  $30,000,000  "
      ]
     },
     "execution_count": 35,
     "metadata": {},
     "output_type": "execute_result"
    }
   ],
   "source": [
    "movies_df.head()"
   ]
  },
  {
   "cell_type": "markdown",
   "metadata": {
    "id": "BA3PLE7FK5jK"
   },
   "source": [
    "Before adding the plot keywords, we need to remove the pipe, |, character. "
   ]
  },
  {
   "cell_type": "code",
   "execution_count": 36,
   "metadata": {
    "colab": {
     "base_uri": "https://localhost:8080/",
     "height": 337
    },
    "id": "3fYPpMtHK5jL",
    "outputId": "92b5ac86-6d19-4f0a-eab0-40652aa2abf1"
   },
   "outputs": [
    {
     "data": {
      "text/html": [
       "<div>\n",
       "<style scoped>\n",
       "    .dataframe tbody tr th:only-of-type {\n",
       "        vertical-align: middle;\n",
       "    }\n",
       "\n",
       "    .dataframe tbody tr th {\n",
       "        vertical-align: top;\n",
       "    }\n",
       "\n",
       "    .dataframe thead th {\n",
       "        text-align: right;\n",
       "    }\n",
       "</style>\n",
       "<table border=\"1\" class=\"dataframe\">\n",
       "  <thead>\n",
       "    <tr style=\"text-align: right;\">\n",
       "      <th></th>\n",
       "      <th>movieId</th>\n",
       "      <th>title_cast</th>\n",
       "      <th>director</th>\n",
       "      <th>runtime</th>\n",
       "      <th>budget</th>\n",
       "      <th>plot_keywords</th>\n",
       "    </tr>\n",
       "  </thead>\n",
       "  <tbody>\n",
       "    <tr>\n",
       "      <th>0</th>\n",
       "      <td>1</td>\n",
       "      <td>Tom Hanks, Tim Allen, Don Rickles, Jim Varney,...</td>\n",
       "      <td>John Lasseter</td>\n",
       "      <td>81.0</td>\n",
       "      <td>$30,000,000</td>\n",
       "      <td>toy,rivalry,cowboy,cgi animation</td>\n",
       "    </tr>\n",
       "    <tr>\n",
       "      <th>1</th>\n",
       "      <td>2</td>\n",
       "      <td>Robin Williams, Jonathan Hyde, Kirsten Dunst, ...</td>\n",
       "      <td>Jonathan Hensleigh</td>\n",
       "      <td>104.0</td>\n",
       "      <td>$65,000,000</td>\n",
       "      <td>board game,adventurer,fight,game</td>\n",
       "    </tr>\n",
       "    <tr>\n",
       "      <th>2</th>\n",
       "      <td>3</td>\n",
       "      <td>Walter Matthau, Jack Lemmon, Sophia Loren, Ann...</td>\n",
       "      <td>Mark Steven Johnson</td>\n",
       "      <td>101.0</td>\n",
       "      <td>$25,000,000</td>\n",
       "      <td>boat,lake,neighbor,rivalry</td>\n",
       "    </tr>\n",
       "    <tr>\n",
       "      <th>3</th>\n",
       "      <td>4</td>\n",
       "      <td>Whitney Houston, Angela Bassett, Loretta Devin...</td>\n",
       "      <td>Terry McMillan</td>\n",
       "      <td>124.0</td>\n",
       "      <td>$16,000,000</td>\n",
       "      <td>black american,husband wife relationship,betra...</td>\n",
       "    </tr>\n",
       "    <tr>\n",
       "      <th>4</th>\n",
       "      <td>5</td>\n",
       "      <td>Steve Martin, Diane Keaton, Martin Short, Kimb...</td>\n",
       "      <td>Albert Hackett</td>\n",
       "      <td>106.0</td>\n",
       "      <td>$30,000,000</td>\n",
       "      <td>fatherhood,doberman,dog,mansion</td>\n",
       "    </tr>\n",
       "  </tbody>\n",
       "</table>\n",
       "</div>"
      ],
      "text/plain": [
       "   movieId                                         title_cast  \\\n",
       "0        1  Tom Hanks, Tim Allen, Don Rickles, Jim Varney,...   \n",
       "1        2  Robin Williams, Jonathan Hyde, Kirsten Dunst, ...   \n",
       "2        3  Walter Matthau, Jack Lemmon, Sophia Loren, Ann...   \n",
       "3        4  Whitney Houston, Angela Bassett, Loretta Devin...   \n",
       "4        5  Steve Martin, Diane Keaton, Martin Short, Kimb...   \n",
       "\n",
       "              director  runtime       budget  \\\n",
       "0        John Lasseter     81.0  $30,000,000   \n",
       "1   Jonathan Hensleigh    104.0  $65,000,000   \n",
       "2  Mark Steven Johnson    101.0  $25,000,000   \n",
       "3       Terry McMillan    124.0  $16,000,000   \n",
       "4       Albert Hackett    106.0  $30,000,000   \n",
       "\n",
       "                                       plot_keywords  \n",
       "0                   toy,rivalry,cowboy,cgi animation  \n",
       "1                   board game,adventurer,fight,game  \n",
       "2                         boat,lake,neighbor,rivalry  \n",
       "3  black american,husband wife relationship,betra...  \n",
       "4                    fatherhood,doberman,dog,mansion  "
      ]
     },
     "execution_count": 36,
     "metadata": {},
     "output_type": "execute_result"
    }
   ],
   "source": [
    "# removing the | character from plot_keywords column\n",
    "imdb_df['plot_keywords'] = imdb_df['plot_keywords'].str.split('|').str.join(',')\n",
    "imdb_df.head()"
   ]
  },
  {
   "cell_type": "markdown",
   "metadata": {
    "id": "PuCxB8XXK5jM"
   },
   "source": [
    "then add the plot_keywords column to movies dataframe"
   ]
  },
  {
   "cell_type": "code",
   "execution_count": 37,
   "metadata": {
    "id": "sxtJUosyK5jN"
   },
   "outputs": [],
   "source": [
    "# creating a function to add plot keywords column\n",
    "def add_plot_keywords(x):\n",
    "    # create a series of the movieid column in imdb df\n",
    "    plot_series = imdb_df['movieId']\n",
    "    # check if the movieId from the movies df is in the series\n",
    "    if x in plot_series.values:\n",
    "        plot = imdb_df.loc[imdb_df['movieId'] == x, 'plot_keywords'].item()\n",
    "        plot = str(plot)\n",
    "        mylist = plot.split(',')\n",
    "        final_list = []\n",
    "        for x in mylist:\n",
    "            temp_x = x.split()\n",
    "            final_list = final_list + temp_x\n",
    "        final_list = list(set(final_list))\n",
    "        result = \",\".join(final_list)\n",
    "        return result\n",
    "    else:\n",
    "        return \" \"         "
   ]
  },
  {
   "cell_type": "code",
   "execution_count": 38,
   "metadata": {},
   "outputs": [
    {
     "data": {
      "text/plain": [
       "'fight,adventurer,board,game'"
      ]
     },
     "execution_count": 38,
     "metadata": {},
     "output_type": "execute_result"
    }
   ],
   "source": [
    "add_plot_keywords(2)"
   ]
  },
  {
   "cell_type": "code",
   "execution_count": 39,
   "metadata": {
    "colab": {
     "base_uri": "https://localhost:8080/",
     "height": 528
    },
    "id": "F5TsYxSDK5jN",
    "outputId": "056585cd-06aa-45c8-860b-f234e9fa7bf5"
   },
   "outputs": [
    {
     "data": {
      "text/html": [
       "<div>\n",
       "<style scoped>\n",
       "    .dataframe tbody tr th:only-of-type {\n",
       "        vertical-align: middle;\n",
       "    }\n",
       "\n",
       "    .dataframe tbody tr th {\n",
       "        vertical-align: top;\n",
       "    }\n",
       "\n",
       "    .dataframe thead th {\n",
       "        text-align: right;\n",
       "    }\n",
       "</style>\n",
       "<table border=\"1\" class=\"dataframe\">\n",
       "  <thead>\n",
       "    <tr style=\"text-align: right;\">\n",
       "      <th></th>\n",
       "      <th>movieId</th>\n",
       "      <th>title</th>\n",
       "      <th>genres</th>\n",
       "      <th>tags</th>\n",
       "      <th>title_cast</th>\n",
       "      <th>director</th>\n",
       "      <th>budget</th>\n",
       "      <th>plot_keywords</th>\n",
       "    </tr>\n",
       "  </thead>\n",
       "  <tbody>\n",
       "    <tr>\n",
       "      <th>0</th>\n",
       "      <td>1</td>\n",
       "      <td>Toy Story (1995)</td>\n",
       "      <td>Adventure,Animation,Children,Comedy,Fantasy</td>\n",
       "      <td>arts,first,Hanks,CLV,mission,rousing,bright,Bu...</td>\n",
       "      <td>Tom Hanks, Tim Allen, Don Rickles, Jim Varney,...</td>\n",
       "      <td>John Lasseter</td>\n",
       "      <td>$30,000,000</td>\n",
       "      <td>toy,animation,rivalry,cowboy,cgi</td>\n",
       "    </tr>\n",
       "    <tr>\n",
       "      <th>1</th>\n",
       "      <td>2</td>\n",
       "      <td>Jumanji (1995)</td>\n",
       "      <td>Adventure,Children,Fantasy</td>\n",
       "      <td>childhood,fantasy,family,Book,CLV,horrifying,w...</td>\n",
       "      <td>Robin Williams, Jonathan Hyde, Kirsten Dunst, ...</td>\n",
       "      <td>Jonathan Hensleigh</td>\n",
       "      <td>$65,000,000</td>\n",
       "      <td>fight,adventurer,board,game</td>\n",
       "    </tr>\n",
       "    <tr>\n",
       "      <th>2</th>\n",
       "      <td>3</td>\n",
       "      <td>Grumpier Old Men (1995)</td>\n",
       "      <td>Comedy,Romance</td>\n",
       "      <td>comedinha,CLV,sequel,Meredith,best,friend,Marg...</td>\n",
       "      <td>Walter Matthau, Jack Lemmon, Sophia Loren, Ann...</td>\n",
       "      <td>Mark Steven Johnson</td>\n",
       "      <td>$25,000,000</td>\n",
       "      <td>neighbor,rivalry,boat,lake</td>\n",
       "    </tr>\n",
       "    <tr>\n",
       "      <th>3</th>\n",
       "      <td>4</td>\n",
       "      <td>Waiting to Exhale (1995)</td>\n",
       "      <td>Comedy,Drama,Romance</td>\n",
       "      <td>chick,or,mother,revenge,CLV,interracial,divorc...</td>\n",
       "      <td>Whitney Houston, Angela Bassett, Loretta Devin...</td>\n",
       "      <td>Terry McMillan</td>\n",
       "      <td>$16,000,000</td>\n",
       "      <td>wife,husband,betrayal,relationship,son,black,a...</td>\n",
       "    </tr>\n",
       "    <tr>\n",
       "      <th>4</th>\n",
       "      <td>5</td>\n",
       "      <td>Father of the Bride Part II (1995)</td>\n",
       "      <td>Comedy</td>\n",
       "      <td>family,contraception,pregnancy,CLV,Diane,seque...</td>\n",
       "      <td>Steve Martin, Diane Keaton, Martin Short, Kimb...</td>\n",
       "      <td>Albert Hackett</td>\n",
       "      <td>$30,000,000</td>\n",
       "      <td>dog,fatherhood,doberman,mansion</td>\n",
       "    </tr>\n",
       "  </tbody>\n",
       "</table>\n",
       "</div>"
      ],
      "text/plain": [
       "   movieId                               title  \\\n",
       "0        1                    Toy Story (1995)   \n",
       "1        2                      Jumanji (1995)   \n",
       "2        3             Grumpier Old Men (1995)   \n",
       "3        4            Waiting to Exhale (1995)   \n",
       "4        5  Father of the Bride Part II (1995)   \n",
       "\n",
       "                                        genres  \\\n",
       "0  Adventure,Animation,Children,Comedy,Fantasy   \n",
       "1                   Adventure,Children,Fantasy   \n",
       "2                               Comedy,Romance   \n",
       "3                         Comedy,Drama,Romance   \n",
       "4                                       Comedy   \n",
       "\n",
       "                                                tags  \\\n",
       "0  arts,first,Hanks,CLV,mission,rousing,bright,Bu...   \n",
       "1  childhood,fantasy,family,Book,CLV,horrifying,w...   \n",
       "2  comedinha,CLV,sequel,Meredith,best,friend,Marg...   \n",
       "3  chick,or,mother,revenge,CLV,interracial,divorc...   \n",
       "4  family,contraception,pregnancy,CLV,Diane,seque...   \n",
       "\n",
       "                                          title_cast             director  \\\n",
       "0  Tom Hanks, Tim Allen, Don Rickles, Jim Varney,...        John Lasseter   \n",
       "1  Robin Williams, Jonathan Hyde, Kirsten Dunst, ...   Jonathan Hensleigh   \n",
       "2  Walter Matthau, Jack Lemmon, Sophia Loren, Ann...  Mark Steven Johnson   \n",
       "3  Whitney Houston, Angela Bassett, Loretta Devin...       Terry McMillan   \n",
       "4  Steve Martin, Diane Keaton, Martin Short, Kimb...       Albert Hackett   \n",
       "\n",
       "        budget                                      plot_keywords  \n",
       "0  $30,000,000                   toy,animation,rivalry,cowboy,cgi  \n",
       "1  $65,000,000                        fight,adventurer,board,game  \n",
       "2  $25,000,000                         neighbor,rivalry,boat,lake  \n",
       "3  $16,000,000  wife,husband,betrayal,relationship,son,black,a...  \n",
       "4  $30,000,000                    dog,fatherhood,doberman,mansion  "
      ]
     },
     "execution_count": 39,
     "metadata": {},
     "output_type": "execute_result"
    }
   ],
   "source": [
    "movies_df['plot_keywords'] = movies_df['movieId'].apply(add_plot_keywords)\n",
    "movies_df.head()"
   ]
  },
  {
   "cell_type": "markdown",
   "metadata": {
    "id": "x1S9gS_pK5jO"
   },
   "source": [
    "Let's add the runtime from the imdb dataframe to the movies dataframe. "
   ]
  },
  {
   "cell_type": "code",
   "execution_count": 40,
   "metadata": {
    "id": "RG-bnuV4K5jO"
   },
   "outputs": [],
   "source": [
    "# creating a function to add title_cast column\n",
    "def add_runtime(x):\n",
    "    # create a series of the movieid column in imdb df\n",
    "    runtime_series = imdb_df['movieId']\n",
    "    # check if the movieId from the movies df is in the series\n",
    "    if x in runtime_series.values:\n",
    "        runtime = imdb_df.loc[imdb_df['movieId'] == x, 'runtime'].item()\n",
    "        return runtime\n",
    "    else:\n",
    "        return np.nan         "
   ]
  },
  {
   "cell_type": "code",
   "execution_count": 41,
   "metadata": {
    "colab": {
     "base_uri": "https://localhost:8080/",
     "height": 614
    },
    "id": "l-XIiqYdK5jP",
    "outputId": "bd730b56-9bb7-47af-9b4b-ca7332fea202"
   },
   "outputs": [
    {
     "data": {
      "text/html": [
       "<div>\n",
       "<style scoped>\n",
       "    .dataframe tbody tr th:only-of-type {\n",
       "        vertical-align: middle;\n",
       "    }\n",
       "\n",
       "    .dataframe tbody tr th {\n",
       "        vertical-align: top;\n",
       "    }\n",
       "\n",
       "    .dataframe thead th {\n",
       "        text-align: right;\n",
       "    }\n",
       "</style>\n",
       "<table border=\"1\" class=\"dataframe\">\n",
       "  <thead>\n",
       "    <tr style=\"text-align: right;\">\n",
       "      <th></th>\n",
       "      <th>movieId</th>\n",
       "      <th>title</th>\n",
       "      <th>genres</th>\n",
       "      <th>tags</th>\n",
       "      <th>title_cast</th>\n",
       "      <th>director</th>\n",
       "      <th>budget</th>\n",
       "      <th>plot_keywords</th>\n",
       "      <th>runtime</th>\n",
       "    </tr>\n",
       "  </thead>\n",
       "  <tbody>\n",
       "    <tr>\n",
       "      <th>0</th>\n",
       "      <td>1</td>\n",
       "      <td>Toy Story (1995)</td>\n",
       "      <td>Adventure,Animation,Children,Comedy,Fantasy</td>\n",
       "      <td>arts,first,Hanks,CLV,mission,rousing,bright,Bu...</td>\n",
       "      <td>Tom Hanks, Tim Allen, Don Rickles, Jim Varney,...</td>\n",
       "      <td>John Lasseter</td>\n",
       "      <td>$30,000,000</td>\n",
       "      <td>toy,animation,rivalry,cowboy,cgi</td>\n",
       "      <td>81.0</td>\n",
       "    </tr>\n",
       "    <tr>\n",
       "      <th>1</th>\n",
       "      <td>2</td>\n",
       "      <td>Jumanji (1995)</td>\n",
       "      <td>Adventure,Children,Fantasy</td>\n",
       "      <td>childhood,fantasy,family,Book,CLV,horrifying,w...</td>\n",
       "      <td>Robin Williams, Jonathan Hyde, Kirsten Dunst, ...</td>\n",
       "      <td>Jonathan Hensleigh</td>\n",
       "      <td>$65,000,000</td>\n",
       "      <td>fight,adventurer,board,game</td>\n",
       "      <td>104.0</td>\n",
       "    </tr>\n",
       "    <tr>\n",
       "      <th>2</th>\n",
       "      <td>3</td>\n",
       "      <td>Grumpier Old Men (1995)</td>\n",
       "      <td>Comedy,Romance</td>\n",
       "      <td>comedinha,CLV,sequel,Meredith,best,friend,Marg...</td>\n",
       "      <td>Walter Matthau, Jack Lemmon, Sophia Loren, Ann...</td>\n",
       "      <td>Mark Steven Johnson</td>\n",
       "      <td>$25,000,000</td>\n",
       "      <td>neighbor,rivalry,boat,lake</td>\n",
       "      <td>101.0</td>\n",
       "    </tr>\n",
       "    <tr>\n",
       "      <th>3</th>\n",
       "      <td>4</td>\n",
       "      <td>Waiting to Exhale (1995)</td>\n",
       "      <td>Comedy,Drama,Romance</td>\n",
       "      <td>chick,or,mother,revenge,CLV,interracial,divorc...</td>\n",
       "      <td>Whitney Houston, Angela Bassett, Loretta Devin...</td>\n",
       "      <td>Terry McMillan</td>\n",
       "      <td>$16,000,000</td>\n",
       "      <td>wife,husband,betrayal,relationship,son,black,a...</td>\n",
       "      <td>124.0</td>\n",
       "    </tr>\n",
       "    <tr>\n",
       "      <th>4</th>\n",
       "      <td>5</td>\n",
       "      <td>Father of the Bride Part II (1995)</td>\n",
       "      <td>Comedy</td>\n",
       "      <td>family,contraception,pregnancy,CLV,Diane,seque...</td>\n",
       "      <td>Steve Martin, Diane Keaton, Martin Short, Kimb...</td>\n",
       "      <td>Albert Hackett</td>\n",
       "      <td>$30,000,000</td>\n",
       "      <td>dog,fatherhood,doberman,mansion</td>\n",
       "      <td>106.0</td>\n",
       "    </tr>\n",
       "  </tbody>\n",
       "</table>\n",
       "</div>"
      ],
      "text/plain": [
       "   movieId                               title  \\\n",
       "0        1                    Toy Story (1995)   \n",
       "1        2                      Jumanji (1995)   \n",
       "2        3             Grumpier Old Men (1995)   \n",
       "3        4            Waiting to Exhale (1995)   \n",
       "4        5  Father of the Bride Part II (1995)   \n",
       "\n",
       "                                        genres  \\\n",
       "0  Adventure,Animation,Children,Comedy,Fantasy   \n",
       "1                   Adventure,Children,Fantasy   \n",
       "2                               Comedy,Romance   \n",
       "3                         Comedy,Drama,Romance   \n",
       "4                                       Comedy   \n",
       "\n",
       "                                                tags  \\\n",
       "0  arts,first,Hanks,CLV,mission,rousing,bright,Bu...   \n",
       "1  childhood,fantasy,family,Book,CLV,horrifying,w...   \n",
       "2  comedinha,CLV,sequel,Meredith,best,friend,Marg...   \n",
       "3  chick,or,mother,revenge,CLV,interracial,divorc...   \n",
       "4  family,contraception,pregnancy,CLV,Diane,seque...   \n",
       "\n",
       "                                          title_cast             director  \\\n",
       "0  Tom Hanks, Tim Allen, Don Rickles, Jim Varney,...        John Lasseter   \n",
       "1  Robin Williams, Jonathan Hyde, Kirsten Dunst, ...   Jonathan Hensleigh   \n",
       "2  Walter Matthau, Jack Lemmon, Sophia Loren, Ann...  Mark Steven Johnson   \n",
       "3  Whitney Houston, Angela Bassett, Loretta Devin...       Terry McMillan   \n",
       "4  Steve Martin, Diane Keaton, Martin Short, Kimb...       Albert Hackett   \n",
       "\n",
       "        budget                                      plot_keywords  runtime  \n",
       "0  $30,000,000                   toy,animation,rivalry,cowboy,cgi     81.0  \n",
       "1  $65,000,000                        fight,adventurer,board,game    104.0  \n",
       "2  $25,000,000                         neighbor,rivalry,boat,lake    101.0  \n",
       "3  $16,000,000  wife,husband,betrayal,relationship,son,black,a...    124.0  \n",
       "4  $30,000,000                    dog,fatherhood,doberman,mansion    106.0  "
      ]
     },
     "execution_count": 41,
     "metadata": {},
     "output_type": "execute_result"
    }
   ],
   "source": [
    "movies_df['runtime'] = movies_df['movieId'].apply(add_runtime)\n",
    "movies_df.head()"
   ]
  },
  {
   "cell_type": "markdown",
   "metadata": {},
   "source": [
    "We will create a single column that is a concatenation of the textual columns"
   ]
  },
  {
   "cell_type": "code",
   "execution_count": 42,
   "metadata": {},
   "outputs": [
    {
     "data": {
      "text/html": [
       "<div>\n",
       "<style scoped>\n",
       "    .dataframe tbody tr th:only-of-type {\n",
       "        vertical-align: middle;\n",
       "    }\n",
       "\n",
       "    .dataframe tbody tr th {\n",
       "        vertical-align: top;\n",
       "    }\n",
       "\n",
       "    .dataframe thead th {\n",
       "        text-align: right;\n",
       "    }\n",
       "</style>\n",
       "<table border=\"1\" class=\"dataframe\">\n",
       "  <thead>\n",
       "    <tr style=\"text-align: right;\">\n",
       "      <th></th>\n",
       "      <th>movieId</th>\n",
       "      <th>title</th>\n",
       "      <th>genres</th>\n",
       "      <th>tags</th>\n",
       "      <th>title_cast</th>\n",
       "      <th>director</th>\n",
       "      <th>budget</th>\n",
       "      <th>plot_keywords</th>\n",
       "      <th>runtime</th>\n",
       "      <th>properties</th>\n",
       "    </tr>\n",
       "  </thead>\n",
       "  <tbody>\n",
       "    <tr>\n",
       "      <th>0</th>\n",
       "      <td>1</td>\n",
       "      <td>Toy Story (1995)</td>\n",
       "      <td>Adventure,Animation,Children,Comedy,Fantasy</td>\n",
       "      <td>arts,first,Hanks,CLV,mission,rousing,bright,Bu...</td>\n",
       "      <td>Tom Hanks, Tim Allen, Don Rickles, Jim Varney,...</td>\n",
       "      <td>John Lasseter</td>\n",
       "      <td>$30,000,000</td>\n",
       "      <td>toy,animation,rivalry,cowboy,cgi</td>\n",
       "      <td>81.0</td>\n",
       "      <td>Adventure,Animation,Children,Comedy,Fantasy,ar...</td>\n",
       "    </tr>\n",
       "    <tr>\n",
       "      <th>1</th>\n",
       "      <td>2</td>\n",
       "      <td>Jumanji (1995)</td>\n",
       "      <td>Adventure,Children,Fantasy</td>\n",
       "      <td>childhood,fantasy,family,Book,CLV,horrifying,w...</td>\n",
       "      <td>Robin Williams, Jonathan Hyde, Kirsten Dunst, ...</td>\n",
       "      <td>Jonathan Hensleigh</td>\n",
       "      <td>$65,000,000</td>\n",
       "      <td>fight,adventurer,board,game</td>\n",
       "      <td>104.0</td>\n",
       "      <td>Adventure,Children,Fantasy,childhood,fantasy,f...</td>\n",
       "    </tr>\n",
       "    <tr>\n",
       "      <th>2</th>\n",
       "      <td>3</td>\n",
       "      <td>Grumpier Old Men (1995)</td>\n",
       "      <td>Comedy,Romance</td>\n",
       "      <td>comedinha,CLV,sequel,Meredith,best,friend,Marg...</td>\n",
       "      <td>Walter Matthau, Jack Lemmon, Sophia Loren, Ann...</td>\n",
       "      <td>Mark Steven Johnson</td>\n",
       "      <td>$25,000,000</td>\n",
       "      <td>neighbor,rivalry,boat,lake</td>\n",
       "      <td>101.0</td>\n",
       "      <td>Comedy,Romance,comedinha,CLV,sequel,Meredith,b...</td>\n",
       "    </tr>\n",
       "    <tr>\n",
       "      <th>3</th>\n",
       "      <td>4</td>\n",
       "      <td>Waiting to Exhale (1995)</td>\n",
       "      <td>Comedy,Drama,Romance</td>\n",
       "      <td>chick,or,mother,revenge,CLV,interracial,divorc...</td>\n",
       "      <td>Whitney Houston, Angela Bassett, Loretta Devin...</td>\n",
       "      <td>Terry McMillan</td>\n",
       "      <td>$16,000,000</td>\n",
       "      <td>wife,husband,betrayal,relationship,son,black,a...</td>\n",
       "      <td>124.0</td>\n",
       "      <td>Comedy,Drama,Romance,chick,or,mother,revenge,C...</td>\n",
       "    </tr>\n",
       "    <tr>\n",
       "      <th>4</th>\n",
       "      <td>5</td>\n",
       "      <td>Father of the Bride Part II (1995)</td>\n",
       "      <td>Comedy</td>\n",
       "      <td>family,contraception,pregnancy,CLV,Diane,seque...</td>\n",
       "      <td>Steve Martin, Diane Keaton, Martin Short, Kimb...</td>\n",
       "      <td>Albert Hackett</td>\n",
       "      <td>$30,000,000</td>\n",
       "      <td>dog,fatherhood,doberman,mansion</td>\n",
       "      <td>106.0</td>\n",
       "      <td>Comedy,family,contraception,pregnancy,CLV,Dian...</td>\n",
       "    </tr>\n",
       "  </tbody>\n",
       "</table>\n",
       "</div>"
      ],
      "text/plain": [
       "   movieId                               title  \\\n",
       "0        1                    Toy Story (1995)   \n",
       "1        2                      Jumanji (1995)   \n",
       "2        3             Grumpier Old Men (1995)   \n",
       "3        4            Waiting to Exhale (1995)   \n",
       "4        5  Father of the Bride Part II (1995)   \n",
       "\n",
       "                                        genres  \\\n",
       "0  Adventure,Animation,Children,Comedy,Fantasy   \n",
       "1                   Adventure,Children,Fantasy   \n",
       "2                               Comedy,Romance   \n",
       "3                         Comedy,Drama,Romance   \n",
       "4                                       Comedy   \n",
       "\n",
       "                                                tags  \\\n",
       "0  arts,first,Hanks,CLV,mission,rousing,bright,Bu...   \n",
       "1  childhood,fantasy,family,Book,CLV,horrifying,w...   \n",
       "2  comedinha,CLV,sequel,Meredith,best,friend,Marg...   \n",
       "3  chick,or,mother,revenge,CLV,interracial,divorc...   \n",
       "4  family,contraception,pregnancy,CLV,Diane,seque...   \n",
       "\n",
       "                                          title_cast             director  \\\n",
       "0  Tom Hanks, Tim Allen, Don Rickles, Jim Varney,...        John Lasseter   \n",
       "1  Robin Williams, Jonathan Hyde, Kirsten Dunst, ...   Jonathan Hensleigh   \n",
       "2  Walter Matthau, Jack Lemmon, Sophia Loren, Ann...  Mark Steven Johnson   \n",
       "3  Whitney Houston, Angela Bassett, Loretta Devin...       Terry McMillan   \n",
       "4  Steve Martin, Diane Keaton, Martin Short, Kimb...       Albert Hackett   \n",
       "\n",
       "        budget                                      plot_keywords  runtime  \\\n",
       "0  $30,000,000                   toy,animation,rivalry,cowboy,cgi     81.0   \n",
       "1  $65,000,000                        fight,adventurer,board,game    104.0   \n",
       "2  $25,000,000                         neighbor,rivalry,boat,lake    101.0   \n",
       "3  $16,000,000  wife,husband,betrayal,relationship,son,black,a...    124.0   \n",
       "4  $30,000,000                    dog,fatherhood,doberman,mansion    106.0   \n",
       "\n",
       "                                          properties  \n",
       "0  Adventure,Animation,Children,Comedy,Fantasy,ar...  \n",
       "1  Adventure,Children,Fantasy,childhood,fantasy,f...  \n",
       "2  Comedy,Romance,comedinha,CLV,sequel,Meredith,b...  \n",
       "3  Comedy,Drama,Romance,chick,or,mother,revenge,C...  \n",
       "4  Comedy,family,contraception,pregnancy,CLV,Dian...  "
      ]
     },
     "execution_count": 42,
     "metadata": {},
     "output_type": "execute_result"
    }
   ],
   "source": [
    "movies_df['properties'] = movies_df['genres'].astype(str) + ',' + movies_df['tags'].astype(str) + ',' + movies_df['title_cast'].astype(str) + ',' + movies_df['director'].astype(str) + ',' + movies_df['plot_keywords'].astype(str) \n",
    "movies_df.head()"
   ]
  },
  {
   "cell_type": "code",
   "execution_count": 43,
   "metadata": {},
   "outputs": [
    {
     "data": {
      "text/html": [
       "<div>\n",
       "<style scoped>\n",
       "    .dataframe tbody tr th:only-of-type {\n",
       "        vertical-align: middle;\n",
       "    }\n",
       "\n",
       "    .dataframe tbody tr th {\n",
       "        vertical-align: top;\n",
       "    }\n",
       "\n",
       "    .dataframe thead th {\n",
       "        text-align: right;\n",
       "    }\n",
       "</style>\n",
       "<table border=\"1\" class=\"dataframe\">\n",
       "  <thead>\n",
       "    <tr style=\"text-align: right;\">\n",
       "      <th></th>\n",
       "      <th>movieId</th>\n",
       "      <th>title</th>\n",
       "      <th>genres</th>\n",
       "      <th>tags</th>\n",
       "      <th>title_cast</th>\n",
       "      <th>director</th>\n",
       "      <th>budget</th>\n",
       "      <th>plot_keywords</th>\n",
       "      <th>runtime</th>\n",
       "      <th>properties</th>\n",
       "    </tr>\n",
       "  </thead>\n",
       "  <tbody>\n",
       "    <tr>\n",
       "      <th>0</th>\n",
       "      <td>1</td>\n",
       "      <td>Toy Story (1995)</td>\n",
       "      <td>Adventure,Animation,Children,Comedy,Fantasy</td>\n",
       "      <td>arts,first,Hanks,CLV,mission,rousing,bright,Bu...</td>\n",
       "      <td>Tom Hanks, Tim Allen, Don Rickles, Jim Varney,...</td>\n",
       "      <td>John Lasseter</td>\n",
       "      <td>$30,000,000</td>\n",
       "      <td>toy,animation,rivalry,cowboy,cgi</td>\n",
       "      <td>81.0</td>\n",
       "      <td>adventure,animation,children,comedy,fantasy,ar...</td>\n",
       "    </tr>\n",
       "    <tr>\n",
       "      <th>1</th>\n",
       "      <td>2</td>\n",
       "      <td>Jumanji (1995)</td>\n",
       "      <td>Adventure,Children,Fantasy</td>\n",
       "      <td>childhood,fantasy,family,Book,CLV,horrifying,w...</td>\n",
       "      <td>Robin Williams, Jonathan Hyde, Kirsten Dunst, ...</td>\n",
       "      <td>Jonathan Hensleigh</td>\n",
       "      <td>$65,000,000</td>\n",
       "      <td>fight,adventurer,board,game</td>\n",
       "      <td>104.0</td>\n",
       "      <td>adventure,children,fantasy,childhood,fantasy,f...</td>\n",
       "    </tr>\n",
       "    <tr>\n",
       "      <th>2</th>\n",
       "      <td>3</td>\n",
       "      <td>Grumpier Old Men (1995)</td>\n",
       "      <td>Comedy,Romance</td>\n",
       "      <td>comedinha,CLV,sequel,Meredith,best,friend,Marg...</td>\n",
       "      <td>Walter Matthau, Jack Lemmon, Sophia Loren, Ann...</td>\n",
       "      <td>Mark Steven Johnson</td>\n",
       "      <td>$25,000,000</td>\n",
       "      <td>neighbor,rivalry,boat,lake</td>\n",
       "      <td>101.0</td>\n",
       "      <td>comedy,romance,comedinha,clv,sequel,meredith,b...</td>\n",
       "    </tr>\n",
       "    <tr>\n",
       "      <th>3</th>\n",
       "      <td>4</td>\n",
       "      <td>Waiting to Exhale (1995)</td>\n",
       "      <td>Comedy,Drama,Romance</td>\n",
       "      <td>chick,or,mother,revenge,CLV,interracial,divorc...</td>\n",
       "      <td>Whitney Houston, Angela Bassett, Loretta Devin...</td>\n",
       "      <td>Terry McMillan</td>\n",
       "      <td>$16,000,000</td>\n",
       "      <td>wife,husband,betrayal,relationship,son,black,a...</td>\n",
       "      <td>124.0</td>\n",
       "      <td>comedy,drama,romance,chick,or,mother,revenge,c...</td>\n",
       "    </tr>\n",
       "    <tr>\n",
       "      <th>4</th>\n",
       "      <td>5</td>\n",
       "      <td>Father of the Bride Part II (1995)</td>\n",
       "      <td>Comedy</td>\n",
       "      <td>family,contraception,pregnancy,CLV,Diane,seque...</td>\n",
       "      <td>Steve Martin, Diane Keaton, Martin Short, Kimb...</td>\n",
       "      <td>Albert Hackett</td>\n",
       "      <td>$30,000,000</td>\n",
       "      <td>dog,fatherhood,doberman,mansion</td>\n",
       "      <td>106.0</td>\n",
       "      <td>comedy,family,contraception,pregnancy,clv,dian...</td>\n",
       "    </tr>\n",
       "    <tr>\n",
       "      <th>...</th>\n",
       "      <td>...</td>\n",
       "      <td>...</td>\n",
       "      <td>...</td>\n",
       "      <td>...</td>\n",
       "      <td>...</td>\n",
       "      <td>...</td>\n",
       "      <td>...</td>\n",
       "      <td>...</td>\n",
       "      <td>...</td>\n",
       "      <td>...</td>\n",
       "    </tr>\n",
       "    <tr>\n",
       "      <th>62418</th>\n",
       "      <td>209157</td>\n",
       "      <td>We (2018)</td>\n",
       "      <td>Drama</td>\n",
       "      <td></td>\n",
       "      <td></td>\n",
       "      <td></td>\n",
       "      <td></td>\n",
       "      <td></td>\n",
       "      <td>NaN</td>\n",
       "      <td>drama,</td>\n",
       "    </tr>\n",
       "    <tr>\n",
       "      <th>62419</th>\n",
       "      <td>209159</td>\n",
       "      <td>Window of the Soul (2001)</td>\n",
       "      <td>Documentary</td>\n",
       "      <td></td>\n",
       "      <td></td>\n",
       "      <td></td>\n",
       "      <td></td>\n",
       "      <td></td>\n",
       "      <td>NaN</td>\n",
       "      <td>documentary,</td>\n",
       "    </tr>\n",
       "    <tr>\n",
       "      <th>62420</th>\n",
       "      <td>209163</td>\n",
       "      <td>Bad Poems (2018)</td>\n",
       "      <td>Comedy,Drama</td>\n",
       "      <td></td>\n",
       "      <td></td>\n",
       "      <td></td>\n",
       "      <td></td>\n",
       "      <td></td>\n",
       "      <td>NaN</td>\n",
       "      <td>comedy,drama,</td>\n",
       "    </tr>\n",
       "    <tr>\n",
       "      <th>62421</th>\n",
       "      <td>209169</td>\n",
       "      <td>A Girl Thing (2001)</td>\n",
       "      <td>(no genres listed)</td>\n",
       "      <td></td>\n",
       "      <td></td>\n",
       "      <td></td>\n",
       "      <td></td>\n",
       "      <td></td>\n",
       "      <td>NaN</td>\n",
       "      <td>no genres listed,</td>\n",
       "    </tr>\n",
       "    <tr>\n",
       "      <th>62422</th>\n",
       "      <td>209171</td>\n",
       "      <td>Women of Devil's Island (1962)</td>\n",
       "      <td>Action,Adventure,Drama</td>\n",
       "      <td></td>\n",
       "      <td></td>\n",
       "      <td></td>\n",
       "      <td></td>\n",
       "      <td></td>\n",
       "      <td>NaN</td>\n",
       "      <td>action,adventure,drama,</td>\n",
       "    </tr>\n",
       "  </tbody>\n",
       "</table>\n",
       "<p>62423 rows × 10 columns</p>\n",
       "</div>"
      ],
      "text/plain": [
       "       movieId                               title  \\\n",
       "0            1                    Toy Story (1995)   \n",
       "1            2                      Jumanji (1995)   \n",
       "2            3             Grumpier Old Men (1995)   \n",
       "3            4            Waiting to Exhale (1995)   \n",
       "4            5  Father of the Bride Part II (1995)   \n",
       "...        ...                                 ...   \n",
       "62418   209157                           We (2018)   \n",
       "62419   209159           Window of the Soul (2001)   \n",
       "62420   209163                    Bad Poems (2018)   \n",
       "62421   209169                 A Girl Thing (2001)   \n",
       "62422   209171      Women of Devil's Island (1962)   \n",
       "\n",
       "                                            genres  \\\n",
       "0      Adventure,Animation,Children,Comedy,Fantasy   \n",
       "1                       Adventure,Children,Fantasy   \n",
       "2                                   Comedy,Romance   \n",
       "3                             Comedy,Drama,Romance   \n",
       "4                                           Comedy   \n",
       "...                                            ...   \n",
       "62418                                        Drama   \n",
       "62419                                  Documentary   \n",
       "62420                                 Comedy,Drama   \n",
       "62421                           (no genres listed)   \n",
       "62422                       Action,Adventure,Drama   \n",
       "\n",
       "                                                    tags  \\\n",
       "0      arts,first,Hanks,CLV,mission,rousing,bright,Bu...   \n",
       "1      childhood,fantasy,family,Book,CLV,horrifying,w...   \n",
       "2      comedinha,CLV,sequel,Meredith,best,friend,Marg...   \n",
       "3      chick,or,mother,revenge,CLV,interracial,divorc...   \n",
       "4      family,contraception,pregnancy,CLV,Diane,seque...   \n",
       "...                                                  ...   \n",
       "62418                                                      \n",
       "62419                                                      \n",
       "62420                                                      \n",
       "62421                                                      \n",
       "62422                                                      \n",
       "\n",
       "                                              title_cast             director  \\\n",
       "0      Tom Hanks, Tim Allen, Don Rickles, Jim Varney,...        John Lasseter   \n",
       "1      Robin Williams, Jonathan Hyde, Kirsten Dunst, ...   Jonathan Hensleigh   \n",
       "2      Walter Matthau, Jack Lemmon, Sophia Loren, Ann...  Mark Steven Johnson   \n",
       "3      Whitney Houston, Angela Bassett, Loretta Devin...       Terry McMillan   \n",
       "4      Steve Martin, Diane Keaton, Martin Short, Kimb...       Albert Hackett   \n",
       "...                                                  ...                  ...   \n",
       "62418                                                                           \n",
       "62419                                                                           \n",
       "62420                                                                           \n",
       "62421                                                                           \n",
       "62422                                                                           \n",
       "\n",
       "            budget                                      plot_keywords  \\\n",
       "0      $30,000,000                   toy,animation,rivalry,cowboy,cgi   \n",
       "1      $65,000,000                        fight,adventurer,board,game   \n",
       "2      $25,000,000                         neighbor,rivalry,boat,lake   \n",
       "3      $16,000,000  wife,husband,betrayal,relationship,son,black,a...   \n",
       "4      $30,000,000                    dog,fatherhood,doberman,mansion   \n",
       "...            ...                                                ...   \n",
       "62418                                                                   \n",
       "62419                                                                   \n",
       "62420                                                                   \n",
       "62421                                                                   \n",
       "62422                                                                   \n",
       "\n",
       "       runtime                                         properties  \n",
       "0         81.0  adventure,animation,children,comedy,fantasy,ar...  \n",
       "1        104.0  adventure,children,fantasy,childhood,fantasy,f...  \n",
       "2        101.0  comedy,romance,comedinha,clv,sequel,meredith,b...  \n",
       "3        124.0  comedy,drama,romance,chick,or,mother,revenge,c...  \n",
       "4        106.0  comedy,family,contraception,pregnancy,clv,dian...  \n",
       "...        ...                                                ...  \n",
       "62418      NaN                                             drama,  \n",
       "62419      NaN                                       documentary,  \n",
       "62420      NaN                                      comedy,drama,  \n",
       "62421      NaN                                  no genres listed,  \n",
       "62422      NaN                            action,adventure,drama,  \n",
       "\n",
       "[62423 rows x 10 columns]"
      ]
     },
     "execution_count": 43,
     "metadata": {},
     "output_type": "execute_result"
    }
   ],
   "source": [
    "# remove non-ascii characters \n",
    "movies_df['properties'] = movies_df['properties'].str.encode('ascii', 'ignore').str.decode('ascii')\n",
    "# remove non alphabetic characters, including numerics\n",
    "movies_df['properties'] = movies_df['properties'].str.replace(r'[_0-9:\\(\\)]+', '')\n",
    "# remove trailing and middle-placed white space and commas. \n",
    "movies_df['properties'] = movies_df['properties'].str.replace('[\\s,]*,[\\s,]*', ',', regex=True)\n",
    "# convert all the string to lower case\n",
    "movies_df['properties'] = movies_df['properties'].str.lower()\n",
    "movies_df"
   ]
  },
  {
   "cell_type": "code",
   "execution_count": 44,
   "metadata": {},
   "outputs": [],
   "source": [
    "# remove duplicated words in each property. There are lots of duplicates\n",
    "def remove_dup(x):\n",
    "    mylist = x.split(',')\n",
    "    final_list = []\n",
    "    for y in mylist:\n",
    "        temp_y = y.split()\n",
    "        final_list = final_list + temp_y\n",
    "    final_list = list(set(final_list))\n",
    "    result = \",\".join(final_list)\n",
    "    return result\n",
    "\n"
   ]
  },
  {
   "cell_type": "code",
   "execution_count": 45,
   "metadata": {},
   "outputs": [
    {
     "data": {
      "text/html": [
       "<div>\n",
       "<style scoped>\n",
       "    .dataframe tbody tr th:only-of-type {\n",
       "        vertical-align: middle;\n",
       "    }\n",
       "\n",
       "    .dataframe tbody tr th {\n",
       "        vertical-align: top;\n",
       "    }\n",
       "\n",
       "    .dataframe thead th {\n",
       "        text-align: right;\n",
       "    }\n",
       "</style>\n",
       "<table border=\"1\" class=\"dataframe\">\n",
       "  <thead>\n",
       "    <tr style=\"text-align: right;\">\n",
       "      <th></th>\n",
       "      <th>movieId</th>\n",
       "      <th>title</th>\n",
       "      <th>genres</th>\n",
       "      <th>tags</th>\n",
       "      <th>title_cast</th>\n",
       "      <th>director</th>\n",
       "      <th>budget</th>\n",
       "      <th>plot_keywords</th>\n",
       "      <th>runtime</th>\n",
       "      <th>properties</th>\n",
       "    </tr>\n",
       "  </thead>\n",
       "  <tbody>\n",
       "    <tr>\n",
       "      <th>0</th>\n",
       "      <td>1</td>\n",
       "      <td>Toy Story (1995)</td>\n",
       "      <td>Adventure,Animation,Children,Comedy,Fantasy</td>\n",
       "      <td>arts,first,Hanks,CLV,mission,rousing,bright,Bu...</td>\n",
       "      <td>Tom Hanks, Tim Allen, Don Rickles, Jim Varney,...</td>\n",
       "      <td>John Lasseter</td>\n",
       "      <td>$30,000,000</td>\n",
       "      <td>toy,animation,rivalry,cowboy,cgi</td>\n",
       "      <td>81.0</td>\n",
       "      <td>arts,first,mission,rousing,bright,best,in,doll...</td>\n",
       "    </tr>\n",
       "    <tr>\n",
       "      <th>1</th>\n",
       "      <td>2</td>\n",
       "      <td>Jumanji (1995)</td>\n",
       "      <td>Adventure,Children,Fantasy</td>\n",
       "      <td>childhood,fantasy,family,Book,CLV,horrifying,w...</td>\n",
       "      <td>Robin Williams, Jonathan Hyde, Kirsten Dunst, ...</td>\n",
       "      <td>Jonathan Hensleigh</td>\n",
       "      <td>$65,000,000</td>\n",
       "      <td>fight,adventurer,board,game</td>\n",
       "      <td>104.0</td>\n",
       "      <td>chris,horrifying,monkey,jungle,in,bc,cgi,a,wil...</td>\n",
       "    </tr>\n",
       "    <tr>\n",
       "      <th>2</th>\n",
       "      <td>3</td>\n",
       "      <td>Grumpier Old Men (1995)</td>\n",
       "      <td>Comedy,Romance</td>\n",
       "      <td>comedinha,CLV,sequel,Meredith,best,friend,Marg...</td>\n",
       "      <td>Walter Matthau, Jack Lemmon, Sophia Loren, Ann...</td>\n",
       "      <td>Mark Steven Johnson</td>\n",
       "      <td>$25,000,000</td>\n",
       "      <td>neighbor,rivalry,boat,lake</td>\n",
       "      <td>101.0</td>\n",
       "      <td>meredith,comedinha,kevin,de,ann-margret,jack,s...</td>\n",
       "    </tr>\n",
       "    <tr>\n",
       "      <th>3</th>\n",
       "      <td>4</td>\n",
       "      <td>Waiting to Exhale (1995)</td>\n",
       "      <td>Comedy,Drama,Romance</td>\n",
       "      <td>chick,or,mother,revenge,CLV,interracial,divorc...</td>\n",
       "      <td>Whitney Houston, Angela Bassett, Loretta Devin...</td>\n",
       "      <td>Terry McMillan</td>\n",
       "      <td>$16,000,000</td>\n",
       "      <td>wife,husband,betrayal,relationship,son,black,a...</td>\n",
       "      <td>124.0</td>\n",
       "      <td>whitney,wife,haysbert,black,characters,based,j...</td>\n",
       "    </tr>\n",
       "    <tr>\n",
       "      <th>4</th>\n",
       "      <td>5</td>\n",
       "      <td>Father of the Bride Part II (1995)</td>\n",
       "      <td>Comedy</td>\n",
       "      <td>family,contraception,pregnancy,CLV,Diane,seque...</td>\n",
       "      <td>Steve Martin, Diane Keaton, Martin Short, Kimb...</td>\n",
       "      <td>Albert Hackett</td>\n",
       "      <td>$30,000,000</td>\n",
       "      <td>dog,fatherhood,doberman,mansion</td>\n",
       "      <td>106.0</td>\n",
       "      <td>keaton,family,fantasy,wong,contraception,pregn...</td>\n",
       "    </tr>\n",
       "    <tr>\n",
       "      <th>...</th>\n",
       "      <td>...</td>\n",
       "      <td>...</td>\n",
       "      <td>...</td>\n",
       "      <td>...</td>\n",
       "      <td>...</td>\n",
       "      <td>...</td>\n",
       "      <td>...</td>\n",
       "      <td>...</td>\n",
       "      <td>...</td>\n",
       "      <td>...</td>\n",
       "    </tr>\n",
       "    <tr>\n",
       "      <th>62418</th>\n",
       "      <td>209157</td>\n",
       "      <td>We (2018)</td>\n",
       "      <td>Drama</td>\n",
       "      <td></td>\n",
       "      <td></td>\n",
       "      <td></td>\n",
       "      <td></td>\n",
       "      <td></td>\n",
       "      <td>NaN</td>\n",
       "      <td>drama</td>\n",
       "    </tr>\n",
       "    <tr>\n",
       "      <th>62419</th>\n",
       "      <td>209159</td>\n",
       "      <td>Window of the Soul (2001)</td>\n",
       "      <td>Documentary</td>\n",
       "      <td></td>\n",
       "      <td></td>\n",
       "      <td></td>\n",
       "      <td></td>\n",
       "      <td></td>\n",
       "      <td>NaN</td>\n",
       "      <td>documentary</td>\n",
       "    </tr>\n",
       "    <tr>\n",
       "      <th>62420</th>\n",
       "      <td>209163</td>\n",
       "      <td>Bad Poems (2018)</td>\n",
       "      <td>Comedy,Drama</td>\n",
       "      <td></td>\n",
       "      <td></td>\n",
       "      <td></td>\n",
       "      <td></td>\n",
       "      <td></td>\n",
       "      <td>NaN</td>\n",
       "      <td>drama,comedy</td>\n",
       "    </tr>\n",
       "    <tr>\n",
       "      <th>62421</th>\n",
       "      <td>209169</td>\n",
       "      <td>A Girl Thing (2001)</td>\n",
       "      <td>(no genres listed)</td>\n",
       "      <td></td>\n",
       "      <td></td>\n",
       "      <td></td>\n",
       "      <td></td>\n",
       "      <td></td>\n",
       "      <td>NaN</td>\n",
       "      <td>listed,no,genres</td>\n",
       "    </tr>\n",
       "    <tr>\n",
       "      <th>62422</th>\n",
       "      <td>209171</td>\n",
       "      <td>Women of Devil's Island (1962)</td>\n",
       "      <td>Action,Adventure,Drama</td>\n",
       "      <td></td>\n",
       "      <td></td>\n",
       "      <td></td>\n",
       "      <td></td>\n",
       "      <td></td>\n",
       "      <td>NaN</td>\n",
       "      <td>action,adventure,drama</td>\n",
       "    </tr>\n",
       "  </tbody>\n",
       "</table>\n",
       "<p>62423 rows × 10 columns</p>\n",
       "</div>"
      ],
      "text/plain": [
       "       movieId                               title  \\\n",
       "0            1                    Toy Story (1995)   \n",
       "1            2                      Jumanji (1995)   \n",
       "2            3             Grumpier Old Men (1995)   \n",
       "3            4            Waiting to Exhale (1995)   \n",
       "4            5  Father of the Bride Part II (1995)   \n",
       "...        ...                                 ...   \n",
       "62418   209157                           We (2018)   \n",
       "62419   209159           Window of the Soul (2001)   \n",
       "62420   209163                    Bad Poems (2018)   \n",
       "62421   209169                 A Girl Thing (2001)   \n",
       "62422   209171      Women of Devil's Island (1962)   \n",
       "\n",
       "                                            genres  \\\n",
       "0      Adventure,Animation,Children,Comedy,Fantasy   \n",
       "1                       Adventure,Children,Fantasy   \n",
       "2                                   Comedy,Romance   \n",
       "3                             Comedy,Drama,Romance   \n",
       "4                                           Comedy   \n",
       "...                                            ...   \n",
       "62418                                        Drama   \n",
       "62419                                  Documentary   \n",
       "62420                                 Comedy,Drama   \n",
       "62421                           (no genres listed)   \n",
       "62422                       Action,Adventure,Drama   \n",
       "\n",
       "                                                    tags  \\\n",
       "0      arts,first,Hanks,CLV,mission,rousing,bright,Bu...   \n",
       "1      childhood,fantasy,family,Book,CLV,horrifying,w...   \n",
       "2      comedinha,CLV,sequel,Meredith,best,friend,Marg...   \n",
       "3      chick,or,mother,revenge,CLV,interracial,divorc...   \n",
       "4      family,contraception,pregnancy,CLV,Diane,seque...   \n",
       "...                                                  ...   \n",
       "62418                                                      \n",
       "62419                                                      \n",
       "62420                                                      \n",
       "62421                                                      \n",
       "62422                                                      \n",
       "\n",
       "                                              title_cast             director  \\\n",
       "0      Tom Hanks, Tim Allen, Don Rickles, Jim Varney,...        John Lasseter   \n",
       "1      Robin Williams, Jonathan Hyde, Kirsten Dunst, ...   Jonathan Hensleigh   \n",
       "2      Walter Matthau, Jack Lemmon, Sophia Loren, Ann...  Mark Steven Johnson   \n",
       "3      Whitney Houston, Angela Bassett, Loretta Devin...       Terry McMillan   \n",
       "4      Steve Martin, Diane Keaton, Martin Short, Kimb...       Albert Hackett   \n",
       "...                                                  ...                  ...   \n",
       "62418                                                                           \n",
       "62419                                                                           \n",
       "62420                                                                           \n",
       "62421                                                                           \n",
       "62422                                                                           \n",
       "\n",
       "            budget                                      plot_keywords  \\\n",
       "0      $30,000,000                   toy,animation,rivalry,cowboy,cgi   \n",
       "1      $65,000,000                        fight,adventurer,board,game   \n",
       "2      $25,000,000                         neighbor,rivalry,boat,lake   \n",
       "3      $16,000,000  wife,husband,betrayal,relationship,son,black,a...   \n",
       "4      $30,000,000                    dog,fatherhood,doberman,mansion   \n",
       "...            ...                                                ...   \n",
       "62418                                                                   \n",
       "62419                                                                   \n",
       "62420                                                                   \n",
       "62421                                                                   \n",
       "62422                                                                   \n",
       "\n",
       "       runtime                                         properties  \n",
       "0         81.0  arts,first,mission,rousing,bright,best,in,doll...  \n",
       "1        104.0  chris,horrifying,monkey,jungle,in,bc,cgi,a,wil...  \n",
       "2        101.0  meredith,comedinha,kevin,de,ann-margret,jack,s...  \n",
       "3        124.0  whitney,wife,haysbert,black,characters,based,j...  \n",
       "4        106.0  keaton,family,fantasy,wong,contraception,pregn...  \n",
       "...        ...                                                ...  \n",
       "62418      NaN                                              drama  \n",
       "62419      NaN                                        documentary  \n",
       "62420      NaN                                       drama,comedy  \n",
       "62421      NaN                                   listed,no,genres  \n",
       "62422      NaN                             action,adventure,drama  \n",
       "\n",
       "[62423 rows x 10 columns]"
      ]
     },
     "execution_count": 45,
     "metadata": {},
     "output_type": "execute_result"
    }
   ],
   "source": [
    "movies_df['properties'] = movies_df['properties'].apply(remove_dup)\n",
    "movies_df"
   ]
  },
  {
   "cell_type": "markdown",
   "metadata": {},
   "source": [
    "We will now concentrate on the two columns that have numeric values - budget and runtime. Let's see their data types"
   ]
  },
  {
   "cell_type": "code",
   "execution_count": 46,
   "metadata": {},
   "outputs": [
    {
     "name": "stdout",
     "output_type": "stream",
     "text": [
      "<class 'pandas.core.frame.DataFrame'>\n",
      "RangeIndex: 62423 entries, 0 to 62422\n",
      "Data columns (total 10 columns):\n",
      " #   Column         Non-Null Count  Dtype  \n",
      "---  ------         --------------  -----  \n",
      " 0   movieId        62423 non-null  int64  \n",
      " 1   title          62423 non-null  object \n",
      " 2   genres         62423 non-null  object \n",
      " 3   tags           62423 non-null  object \n",
      " 4   title_cast     52758 non-null  object \n",
      " 5   director       52904 non-null  object \n",
      " 6   budget         44840 non-null  object \n",
      " 7   plot_keywords  62423 non-null  object \n",
      " 8   runtime        13521 non-null  float64\n",
      " 9   properties     62423 non-null  object \n",
      "dtypes: float64(1), int64(1), object(8)\n",
      "memory usage: 4.8+ MB\n"
     ]
    }
   ],
   "source": [
    "movies_df.info()"
   ]
  },
  {
   "cell_type": "markdown",
   "metadata": {},
   "source": [
    "We can see that the datatype of budget is object (string). We need to convert it to numeric. Also, budget and runtime has null values. We need to fill these nulls with 0. Also, on examining the budget columm, there are some characters like $, GBP etc. that have to be removed. "
   ]
  },
  {
   "cell_type": "code",
   "execution_count": 47,
   "metadata": {},
   "outputs": [
    {
     "name": "stdout",
     "output_type": "stream",
     "text": [
      "<class 'pandas.core.frame.DataFrame'>\n",
      "RangeIndex: 62423 entries, 0 to 62422\n",
      "Data columns (total 10 columns):\n",
      " #   Column         Non-Null Count  Dtype  \n",
      "---  ------         --------------  -----  \n",
      " 0   movieId        62423 non-null  int64  \n",
      " 1   title          62423 non-null  object \n",
      " 2   genres         62423 non-null  object \n",
      " 3   tags           62423 non-null  object \n",
      " 4   title_cast     52758 non-null  object \n",
      " 5   director       52904 non-null  object \n",
      " 6   budget         7283 non-null   float64\n",
      " 7   plot_keywords  62423 non-null  object \n",
      " 8   runtime        62423 non-null  float64\n",
      " 9   properties     62423 non-null  object \n",
      "dtypes: float64(2), int64(1), object(7)\n",
      "memory usage: 4.8+ MB\n"
     ]
    }
   ],
   "source": [
    "# fill runtime and budget nulls with 0\n",
    "movies_df['runtime'] = movies_df['runtime'].fillna(0)\n",
    "movies_df['budget'] = movies_df['budget'].fillna(0)\n",
    "# remove all non-numeric characters\n",
    "movies_df['budget'] = movies_df['budget'].str.replace('[^0-9]+', '')\n",
    "# convert budget column to numeric column\n",
    "movies_df['budget'] = movies_df['budget'].apply(pd.to_numeric)\n",
    "movies_df.info()\n"
   ]
  },
  {
   "cell_type": "code",
   "execution_count": 48,
   "metadata": {
    "colab": {
     "base_uri": "https://localhost:8080/"
    },
    "id": "6gUiovU2K5jP",
    "outputId": "cfa1f581-577d-4b64-d754-7b02c05547da"
   },
   "outputs": [
    {
     "name": "stdout",
     "output_type": "stream",
     "text": [
      "The number of books in the movies database is: 62423\n"
     ]
    }
   ],
   "source": [
    "# how many movies do we have?\n",
    "print(\"The number of books in the movies database is:\", movies_df.shape[0])"
   ]
  },
  {
   "cell_type": "code",
   "execution_count": 49,
   "metadata": {},
   "outputs": [],
   "source": [
    "# we now create a convenient index to map between movie ids and the indices in the data frame. \n",
    "movie_idx = movies_df['movieId']\n",
    "indices = pd.Series(movies_df.index, index=movies_df['movieId'])"
   ]
  },
  {
   "cell_type": "markdown",
   "metadata": {
    "id": "DmoeUNWYK5jQ"
   },
   "source": [
    "## Movie Ratings\n",
    "Let's explore the ratings database. The ratings will be used for predictions. "
   ]
  },
  {
   "cell_type": "code",
   "execution_count": 50,
   "metadata": {
    "colab": {
     "base_uri": "https://localhost:8080/",
     "height": 206
    },
    "id": "uKTflLswK5jQ",
    "outputId": "ee0ef4e8-cafe-4d82-eb86-48f08b597675"
   },
   "outputs": [
    {
     "data": {
      "text/html": [
       "<div>\n",
       "<style scoped>\n",
       "    .dataframe tbody tr th:only-of-type {\n",
       "        vertical-align: middle;\n",
       "    }\n",
       "\n",
       "    .dataframe tbody tr th {\n",
       "        vertical-align: top;\n",
       "    }\n",
       "\n",
       "    .dataframe thead th {\n",
       "        text-align: right;\n",
       "    }\n",
       "</style>\n",
       "<table border=\"1\" class=\"dataframe\">\n",
       "  <thead>\n",
       "    <tr style=\"text-align: right;\">\n",
       "      <th></th>\n",
       "      <th>userId</th>\n",
       "      <th>movieId</th>\n",
       "      <th>rating</th>\n",
       "      <th>timestamp</th>\n",
       "    </tr>\n",
       "  </thead>\n",
       "  <tbody>\n",
       "    <tr>\n",
       "      <th>0</th>\n",
       "      <td>5163</td>\n",
       "      <td>57669</td>\n",
       "      <td>4.0</td>\n",
       "      <td>1518349992</td>\n",
       "    </tr>\n",
       "    <tr>\n",
       "      <th>1</th>\n",
       "      <td>106343</td>\n",
       "      <td>5</td>\n",
       "      <td>4.5</td>\n",
       "      <td>1206238739</td>\n",
       "    </tr>\n",
       "    <tr>\n",
       "      <th>2</th>\n",
       "      <td>146790</td>\n",
       "      <td>5459</td>\n",
       "      <td>5.0</td>\n",
       "      <td>1076215539</td>\n",
       "    </tr>\n",
       "    <tr>\n",
       "      <th>3</th>\n",
       "      <td>106362</td>\n",
       "      <td>32296</td>\n",
       "      <td>2.0</td>\n",
       "      <td>1423042565</td>\n",
       "    </tr>\n",
       "    <tr>\n",
       "      <th>4</th>\n",
       "      <td>9041</td>\n",
       "      <td>366</td>\n",
       "      <td>3.0</td>\n",
       "      <td>833375837</td>\n",
       "    </tr>\n",
       "  </tbody>\n",
       "</table>\n",
       "</div>"
      ],
      "text/plain": [
       "   userId  movieId  rating   timestamp\n",
       "0    5163    57669     4.0  1518349992\n",
       "1  106343        5     4.5  1206238739\n",
       "2  146790     5459     5.0  1076215539\n",
       "3  106362    32296     2.0  1423042565\n",
       "4    9041      366     3.0   833375837"
      ]
     },
     "execution_count": 50,
     "metadata": {},
     "output_type": "execute_result"
    }
   ],
   "source": [
    "# importing the ratings csv file\n",
    "movie_ratings = pd.read_csv('train.csv')\n",
    "movie_ratings.head()"
   ]
  },
  {
   "cell_type": "markdown",
   "metadata": {
    "id": "QC6DflHlK5jR"
   },
   "source": [
    "We'll remove the timestamps from the ratings and then add movie titles to the ratings dataframe."
   ]
  },
  {
   "cell_type": "code",
   "execution_count": 51,
   "metadata": {
    "colab": {
     "base_uri": "https://localhost:8080/",
     "height": 206
    },
    "id": "ZMcOT9XRK5jR",
    "outputId": "e26645ca-3759-4751-8b30-19ecdfa7afa2"
   },
   "outputs": [
    {
     "data": {
      "text/html": [
       "<div>\n",
       "<style scoped>\n",
       "    .dataframe tbody tr th:only-of-type {\n",
       "        vertical-align: middle;\n",
       "    }\n",
       "\n",
       "    .dataframe tbody tr th {\n",
       "        vertical-align: top;\n",
       "    }\n",
       "\n",
       "    .dataframe thead th {\n",
       "        text-align: right;\n",
       "    }\n",
       "</style>\n",
       "<table border=\"1\" class=\"dataframe\">\n",
       "  <thead>\n",
       "    <tr style=\"text-align: right;\">\n",
       "      <th></th>\n",
       "      <th>userId</th>\n",
       "      <th>movieId</th>\n",
       "      <th>rating</th>\n",
       "    </tr>\n",
       "  </thead>\n",
       "  <tbody>\n",
       "    <tr>\n",
       "      <th>0</th>\n",
       "      <td>5163</td>\n",
       "      <td>57669</td>\n",
       "      <td>4.0</td>\n",
       "    </tr>\n",
       "    <tr>\n",
       "      <th>1</th>\n",
       "      <td>106343</td>\n",
       "      <td>5</td>\n",
       "      <td>4.5</td>\n",
       "    </tr>\n",
       "    <tr>\n",
       "      <th>2</th>\n",
       "      <td>146790</td>\n",
       "      <td>5459</td>\n",
       "      <td>5.0</td>\n",
       "    </tr>\n",
       "    <tr>\n",
       "      <th>3</th>\n",
       "      <td>106362</td>\n",
       "      <td>32296</td>\n",
       "      <td>2.0</td>\n",
       "    </tr>\n",
       "    <tr>\n",
       "      <th>4</th>\n",
       "      <td>9041</td>\n",
       "      <td>366</td>\n",
       "      <td>3.0</td>\n",
       "    </tr>\n",
       "  </tbody>\n",
       "</table>\n",
       "</div>"
      ],
      "text/plain": [
       "   userId  movieId  rating\n",
       "0    5163    57669     4.0\n",
       "1  106343        5     4.5\n",
       "2  146790     5459     5.0\n",
       "3  106362    32296     2.0\n",
       "4    9041      366     3.0"
      ]
     },
     "execution_count": 51,
     "metadata": {},
     "output_type": "execute_result"
    }
   ],
   "source": [
    "movie_ratings.drop(\"timestamp\", axis=1, inplace=True)\n",
    "movie_ratings.head()"
   ]
  },
  {
   "cell_type": "code",
   "execution_count": 52,
   "metadata": {
    "colab": {
     "base_uri": "https://localhost:8080/",
     "height": 206
    },
    "id": "75ewSiOeK5jS",
    "outputId": "7a0669d2-217a-42de-8fb1-067ccb94dd46"
   },
   "outputs": [
    {
     "data": {
      "text/html": [
       "<div>\n",
       "<style scoped>\n",
       "    .dataframe tbody tr th:only-of-type {\n",
       "        vertical-align: middle;\n",
       "    }\n",
       "\n",
       "    .dataframe tbody tr th {\n",
       "        vertical-align: top;\n",
       "    }\n",
       "\n",
       "    .dataframe thead th {\n",
       "        text-align: right;\n",
       "    }\n",
       "</style>\n",
       "<table border=\"1\" class=\"dataframe\">\n",
       "  <thead>\n",
       "    <tr style=\"text-align: right;\">\n",
       "      <th></th>\n",
       "      <th>userId</th>\n",
       "      <th>movieId</th>\n",
       "      <th>rating</th>\n",
       "      <th>title</th>\n",
       "    </tr>\n",
       "  </thead>\n",
       "  <tbody>\n",
       "    <tr>\n",
       "      <th>0</th>\n",
       "      <td>5163</td>\n",
       "      <td>57669</td>\n",
       "      <td>4.0</td>\n",
       "      <td>In Bruges (2008)</td>\n",
       "    </tr>\n",
       "    <tr>\n",
       "      <th>1</th>\n",
       "      <td>106343</td>\n",
       "      <td>5</td>\n",
       "      <td>4.5</td>\n",
       "      <td>Father of the Bride Part II (1995)</td>\n",
       "    </tr>\n",
       "    <tr>\n",
       "      <th>2</th>\n",
       "      <td>146790</td>\n",
       "      <td>5459</td>\n",
       "      <td>5.0</td>\n",
       "      <td>Men in Black II (a.k.a. MIIB) (a.k.a. MIB 2) (...</td>\n",
       "    </tr>\n",
       "    <tr>\n",
       "      <th>3</th>\n",
       "      <td>106362</td>\n",
       "      <td>32296</td>\n",
       "      <td>2.0</td>\n",
       "      <td>Miss Congeniality 2: Armed and Fabulous (2005)</td>\n",
       "    </tr>\n",
       "    <tr>\n",
       "      <th>4</th>\n",
       "      <td>9041</td>\n",
       "      <td>366</td>\n",
       "      <td>3.0</td>\n",
       "      <td>Wes Craven's New Nightmare (Nightmare on Elm S...</td>\n",
       "    </tr>\n",
       "  </tbody>\n",
       "</table>\n",
       "</div>"
      ],
      "text/plain": [
       "   userId  movieId  rating                                              title\n",
       "0    5163    57669     4.0                                   In Bruges (2008)\n",
       "1  106343        5     4.5                 Father of the Bride Part II (1995)\n",
       "2  146790     5459     5.0  Men in Black II (a.k.a. MIIB) (a.k.a. MIB 2) (...\n",
       "3  106362    32296     2.0     Miss Congeniality 2: Armed and Fabulous (2005)\n",
       "4    9041      366     3.0  Wes Craven's New Nightmare (Nightmare on Elm S..."
      ]
     },
     "execution_count": 52,
     "metadata": {},
     "output_type": "execute_result"
    }
   ],
   "source": [
    "movie_ratings['title'] = movie_ratings.merge(movies_df, on=['movieId'], how='left')['title']\n",
    "movie_ratings.head()\n"
   ]
  },
  {
   "cell_type": "markdown",
   "metadata": {
    "id": "689jh9RfK5jS"
   },
   "source": [
    "Let's do an exploratory data analysis of the ratings. "
   ]
  },
  {
   "cell_type": "code",
   "execution_count": 53,
   "metadata": {
    "colab": {
     "base_uri": "https://localhost:8080/"
    },
    "id": "NWBpOj8qK5jT",
    "outputId": "347f86a9-47fe-4bf9-81c1-d9046828dfcc"
   },
   "outputs": [
    {
     "name": "stdout",
     "output_type": "stream",
     "text": [
      "The number of ratings are 10000038\n"
     ]
    }
   ],
   "source": [
    "# how many ratings do we have?\n",
    "print(\"The number of ratings are\", movie_ratings.shape[0])"
   ]
  },
  {
   "cell_type": "markdown",
   "metadata": {
    "id": "xQbuWb9kK5jU"
   },
   "source": [
    "Let's see how kind the movie viewers are to movie producers in their ratings. That is, what is the most likely rating given to a movie?"
   ]
  },
  {
   "cell_type": "code",
   "execution_count": 54,
   "metadata": {
    "colab": {
     "base_uri": "https://localhost:8080/",
     "height": 387
    },
    "id": "lZXeowwQK5jU",
    "outputId": "34185938-1550-44bf-b405-46a702170460"
   },
   "outputs": [
    {
     "name": "stdout",
     "output_type": "stream",
     "text": [
      "Average rating in dataset: 3.5333951730983424\n"
     ]
    },
    {
     "data": {
      "image/png": "[encoded data removed]",
      "text/plain": [
       "<Figure size 720x360 with 1 Axes>"
      ]
     },
     "metadata": {},
     "output_type": "display_data"
    }
   ],
   "source": [
    "with sns.axes_style('white'):\n",
    "    g = sns.factorplot(\"rating\", data=movie_ratings, aspect=2.0,kind='count')\n",
    "    g.set_ylabels(\"Total number of ratings\")\n",
    "print (f'Average rating in dataset: {np.mean(movie_ratings[\"rating\"])}')"
   ]
  },
  {
   "cell_type": "markdown",
   "metadata": {
    "id": "j2-Ge--_K5jV"
   },
   "source": [
    "From the above statistic and graphic, we can see that movie viewers tend to rate movies high. The mean rating is 3.5 while the modal rating is 4.0."
   ]
  },
  {
   "cell_type": "code",
   "execution_count": 133,
   "metadata": {},
   "outputs": [
    {
     "data": {
      "image/png": "[encoded data removed]",
      "text/plain": [
       "<Figure size 720x432 with 1 Axes>"
      ]
     },
     "metadata": {
      "needs_background": "light"
     },
     "output_type": "display_data"
    }
   ],
   "source": [
    "# create a plot showing percentage of users per rating\n",
    "sub_df= movie_ratings['rating'].value_counts().sort_index().reset_index()\n",
    "fig, ax = plt.subplots(figsize=(10,6))\n",
    "sns.barplot(data=sub_df, x='index', y='rating', palette=\"PuBu\", edgecolor=\"black\", ax=ax)\n",
    "ax.set_xlabel(\"Rating\")\n",
    "ax.set_ylabel('Number of Users')\n",
    "ax.set_yticklabels(['{:,}'.format(int(x)) for x in ax.get_yticks().tolist()])\n",
    "total = float(sub_df['rating'].sum())\n",
    "for p in ax.patches:\n",
    "    height = p.get_height()\n",
    "    ax.text(p.get_x()+p.get_width()/2., height+350, '{0:.2%}'.format(height/total), fontsize=11, ha=\"center\", va='bottom')\n",
    "plt.title('Percentage of Users Per Rating', fontsize=14)\n",
    "plt.show()"
   ]
  },
  {
   "cell_type": "markdown",
   "metadata": {},
   "source": [
    "This showed that over 60% of the users who rated gave good ratings to the movies. "
   ]
  },
  {
   "cell_type": "code",
   "execution_count": 111,
   "metadata": {},
   "outputs": [],
   "source": [
    "# Create a copy of the movie_ratings dataframe\n",
    "movie_releaseyear = movie_ratings.copy()"
   ]
  },
  {
   "cell_type": "code",
   "execution_count": 113,
   "metadata": {},
   "outputs": [],
   "source": [
    "# Extract release year from movie titles\n",
    "movie_releaseyear['release_year']=movie_releaseyear['title'].str[-5:-1] #extracting released year"
   ]
  },
  {
   "cell_type": "code",
   "execution_count": 57,
   "metadata": {},
   "outputs": [
    {
     "data": {
      "text/plain": [
       "title\n",
       "Which Way Home (2009)        5.0\n",
       "Kaakha Kaakha (2003)         5.0\n",
       "Not Quite Human II (1989)    5.0\n",
       "Selling Isobel (2018)        5.0\n",
       "Sehar (2005)                 5.0\n",
       "Name: rating, dtype: float64"
      ]
     },
     "execution_count": 57,
     "metadata": {},
     "output_type": "execute_result"
    }
   ],
   "source": [
    "# Movies with the highest average ratings\n",
    "movie_ratings.groupby('title')['rating'].mean().sort_values(ascending=False).head()"
   ]
  },
  {
   "cell_type": "markdown",
   "metadata": {},
   "source": [
    "We can see the top 5 movies with the highest average ratings but this is subjective to the number of ratings that each movie received. The hypothesis is that a good movie is one with a very high average rating even after being rated by a lot of viewers. We will therefore have to inspect the total number of ratings each movie received."
   ]
  },
  {
   "cell_type": "code",
   "execution_count": 55,
   "metadata": {},
   "outputs": [
    {
     "data": {
      "text/plain": [
       "<bound method NDFrame.head of title\n",
       "Shawshank Redemption, The (1994)         32831\n",
       "Forrest Gump (1994)                      32383\n",
       "Pulp Fiction (1994)                      31697\n",
       "Silence of the Lambs, The (1991)         29444\n",
       "Matrix, The (1999)                       29014\n",
       "                                         ...  \n",
       "Mniejsze zło (2009)                          1\n",
       "Mixed Blood (1984)                           1\n",
       "Mitä meistä tuli (2009)                      1\n",
       "Mitch Albom's For One More Day (2007)        1\n",
       "줄탁동시 (2012)                                  1\n",
       "Name: rating, Length: 48151, dtype: int64>"
      ]
     },
     "execution_count": 55,
     "metadata": {},
     "output_type": "execute_result"
    }
   ],
   "source": [
    "# Show a list of the most rated movies\n",
    "movie_ratings.groupby('title')['rating'].count().sort_values(ascending = False).head"
   ]
  },
  {
   "cell_type": "markdown",
   "metadata": {},
   "source": [
    "We can see here that the most rated movies are not amongst the movies with the highest average ratings. On this regard, we concluded that a better insight on good movies can be achieved by using both average ratings and total number of ratings per movie"
   ]
  },
  {
   "cell_type": "code",
   "execution_count": 78,
   "metadata": {},
   "outputs": [],
   "source": [
    "movie_rating_count = pd.DataFrame(movie_ratings.groupby('title')['rating'].mean())"
   ]
  },
  {
   "cell_type": "code",
   "execution_count": 79,
   "metadata": {},
   "outputs": [],
   "source": [
    "movie_rating_count['ratings_count'] = pd.DataFrame(movie_ratings.groupby('title')['rating'].count())"
   ]
  },
  {
   "cell_type": "code",
   "execution_count": 80,
   "metadata": {},
   "outputs": [
    {
     "data": {
      "text/html": [
       "<div>\n",
       "<style scoped>\n",
       "    .dataframe tbody tr th:only-of-type {\n",
       "        vertical-align: middle;\n",
       "    }\n",
       "\n",
       "    .dataframe tbody tr th {\n",
       "        vertical-align: top;\n",
       "    }\n",
       "\n",
       "    .dataframe thead th {\n",
       "        text-align: right;\n",
       "    }\n",
       "</style>\n",
       "<table border=\"1\" class=\"dataframe\">\n",
       "  <thead>\n",
       "    <tr style=\"text-align: right;\">\n",
       "      <th></th>\n",
       "      <th>rating</th>\n",
       "      <th>ratings_count</th>\n",
       "    </tr>\n",
       "    <tr>\n",
       "      <th>title</th>\n",
       "      <th></th>\n",
       "      <th></th>\n",
       "    </tr>\n",
       "  </thead>\n",
       "  <tbody>\n",
       "    <tr>\n",
       "      <th>\"BLOW THE NIGHT!\" Let's Spend the Night Together (1983)</th>\n",
       "      <td>3.000000</td>\n",
       "      <td>1</td>\n",
       "    </tr>\n",
       "    <tr>\n",
       "      <th>\"Great Performances\" Cats (1998)</th>\n",
       "      <td>2.753731</td>\n",
       "      <td>67</td>\n",
       "    </tr>\n",
       "    <tr>\n",
       "      <th>#1 Cheerleader Camp (2010)</th>\n",
       "      <td>1.900000</td>\n",
       "      <td>5</td>\n",
       "    </tr>\n",
       "    <tr>\n",
       "      <th>#Female Pleasure (2018)</th>\n",
       "      <td>4.000000</td>\n",
       "      <td>1</td>\n",
       "    </tr>\n",
       "    <tr>\n",
       "      <th>#FollowMe (2019)</th>\n",
       "      <td>2.400000</td>\n",
       "      <td>5</td>\n",
       "    </tr>\n",
       "  </tbody>\n",
       "</table>\n",
       "</div>"
      ],
      "text/plain": [
       "                                                      rating  ratings_count\n",
       "title                                                                      \n",
       "\"BLOW THE NIGHT!\" Let's Spend the Night Togethe...  3.000000              1\n",
       "\"Great Performances\" Cats (1998)                    2.753731             67\n",
       "#1 Cheerleader Camp (2010)                          1.900000              5\n",
       "#Female Pleasure (2018)                             4.000000              1\n",
       "#FollowMe (2019)                                    2.400000              5"
      ]
     },
     "execution_count": 80,
     "metadata": {},
     "output_type": "execute_result"
    }
   ],
   "source": [
    "movie_rating_count.head()"
   ]
  },
  {
   "cell_type": "code",
   "execution_count": 103,
   "metadata": {},
   "outputs": [
    {
     "data": {
      "text/plain": [
       "Text(0, 0.5, 'No of movies')"
      ]
     },
     "execution_count": 103,
     "metadata": {},
     "output_type": "execute_result"
    },
    {
     "data": {
      "image/png": "[encoded data removed]",
      "text/plain": [
       "<Figure size 720x288 with 1 Axes>"
      ]
     },
     "metadata": {
      "needs_background": "light"
     },
     "output_type": "display_data"
    }
   ],
   "source": [
    "plt.figure(figsize =(10,4))\n",
    "movie_rating_count['ratings_count'].hist(bins=50)\n",
    "plt.xlabel('No of ratings')\n",
    "plt.ylabel('No of movies')"
   ]
  },
  {
   "cell_type": "markdown",
   "metadata": {},
   "source": [
    "This showed that most movies do not have so much rating"
   ]
  },
  {
   "cell_type": "code",
   "execution_count": 102,
   "metadata": {},
   "outputs": [
    {
     "data": {
      "text/plain": [
       "Text(0, 0.5, 'No of movies')"
      ]
     },
     "execution_count": 102,
     "metadata": {},
     "output_type": "execute_result"
    },
    {
     "data": {
      "image/png": "[encoded data removed]",
      "text/plain": [
       "<Figure size 720x288 with 1 Axes>"
      ]
     },
     "metadata": {
      "needs_background": "light"
     },
     "output_type": "display_data"
    }
   ],
   "source": [
    "plt.figure(figsize =(10,4))\n",
    "plt.rcParams['patch.force_edgecolor'] = True\n",
    "movie_rating_count['rating'].hist(bins=50)\n",
    "plt.xlabel('Average ratngs')\n",
    "plt.ylabel('No of movies')"
   ]
  },
  {
   "cell_type": "code",
   "execution_count": 100,
   "metadata": {},
   "outputs": [
    {
     "data": {
      "text/plain": [
       "<seaborn.axisgrid.JointGrid at 0x1524932abe0>"
      ]
     },
     "execution_count": 100,
     "metadata": {},
     "output_type": "execute_result"
    },
    {
     "data": {
      "text/plain": [
       "<Figure size 720x288 with 0 Axes>"
      ]
     },
     "metadata": {},
     "output_type": "display_data"
    },
    {
     "data": {
      "image/png": "[encoded data removed]",
      "text/plain": [
       "<Figure size 432x432 with 3 Axes>"
      ]
     },
     "metadata": {
      "needs_background": "light"
     },
     "output_type": "display_data"
    }
   ],
   "source": [
    "plt.figure(figsize=(10,4))\n",
    "plt.rcParams['patch.force_edgecolor'] = True\n",
    "sns.jointplot(x= 'rating', y= 'ratings_count', data=movie_rating_count, alpha = 0.5)"
   ]
  },
  {
   "cell_type": "markdown",
   "metadata": {},
   "source": [
    "This showed that most of the movies with medum to high ratings(3.5-4) had a lot of views. This implied that most movies wtih ratings around 3.5-4 were good movies to watch."
   ]
  },
  {
   "cell_type": "code",
   "execution_count": 127,
   "metadata": {
    "scrolled": true
   },
   "outputs": [
    {
     "data": {
      "image/png": "[encoded data removed]",
      "text/plain": [
       "<Figure size 1080x360 with 1 Axes>"
      ]
     },
     "metadata": {
      "needs_background": "light"
     },
     "output_type": "display_data"
    }
   ],
   "source": [
    "#Plotting total amount of movies released in each year using a count plot.\n",
    "figure= plt.subplots(figsize=(15, 5))\n",
    "axes=sns.countplot(x=movie_releaseyear['release_year'], order = movie_releaseyear['release_year'].value_counts()[0:50].index,color='blue')\n",
    "axes.set_title('Total movies released per year',fontsize=19)\n",
    "plt.xticks(rotation=90)\n",
    "plt.show()"
   ]
  },
  {
   "cell_type": "markdown",
   "metadata": {},
   "source": [
    "This revealed that there was a decrease in the number of movies produced in recent years"
   ]
  },
  {
   "cell_type": "code",
   "execution_count": 138,
   "metadata": {},
   "outputs": [
    {
     "data": {
      "image/png": "[encoded data removed]",
      "text/plain": [
       "<Figure size 1152x576 with 1 Axes>"
      ]
     },
     "metadata": {
      "needs_background": "light"
     },
     "output_type": "display_data"
    }
   ],
   "source": [
    "# Creating a wordcloud of the movie titles to view the most popular movie titles withtin the word cloud\n",
    "movies_df['title'] = movies_df['title'].fillna(\"\").astype('str')\n",
    "title_corpus = ' '.join(movies_df['title'])\n",
    "title_wordcloud = WordCloud(stopwords=STOPWORDS, background_color='white', height=2000, width=4000).generate(title_corpus)\n",
    "\n",
    "# Plotting the wordcloud\n",
    "plt.figure(figsize=(16,8))\n",
    "plt.imshow(title_wordcloud)\n",
    "plt.axis('off')\n",
    "plt.show()"
   ]
  },
  {
   "cell_type": "markdown",
   "metadata": {},
   "source": [
    "The wordcloud showed that people watched more movies with title relating to 'Love', 'Night', 'Life', 'Girl','Man', Time"
   ]
  },
  {
   "cell_type": "markdown",
   "metadata": {
    "id": "ViXCHL3vK5jW"
   },
   "source": [
    "## Implementation\n",
    "\n",
    "We'll now implement a simple content-based filtering prediction system. First, we need to convert all the textual features in the movies_df properties column to numerics through vectorization. The vectorization function we will use is the TF-IDF vectorizer. It counts the frequency of words and their importance. "
   ]
  },
  {
   "cell_type": "code",
   "execution_count": 44,
   "metadata": {},
   "outputs": [
    {
     "data": {
      "text/plain": [
       "<62423x10000 sparse matrix of type '<class 'numpy.float64'>'\n",
       "\twith 1012247 stored elements in Compressed Sparse Row format>"
      ]
     },
     "execution_count": 44,
     "metadata": {},
     "output_type": "execute_result"
    }
   ],
   "source": [
    "tf = TfidfVectorizer(analyzer='word', min_df=0, stop_words='english', max_features = 10000)\n",
    "\n",
    "# Produce a feature matrix, where each row corresponds to a book,\n",
    "# with TF-IDF features as columns \n",
    "tfidf_matrix = tf.fit_transform(movies_df['properties'])\n",
    "tfidf_matrix"
   ]
  },
  {
   "cell_type": "markdown",
   "metadata": {},
   "source": [
    "We now have a sparse matrix with 62423 samples and 15000 features. We now convert the sparse matrix to a dataframe so we can add the budget and runtime columns. They were numeric and could not be passed to the vectorizer. "
   ]
  },
  {
   "cell_type": "code",
   "execution_count": 45,
   "metadata": {
    "scrolled": true
   },
   "outputs": [
    {
     "data": {
      "text/html": [
       "<div>\n",
       "<style scoped>\n",
       "    .dataframe tbody tr th:only-of-type {\n",
       "        vertical-align: middle;\n",
       "    }\n",
       "\n",
       "    .dataframe tbody tr th {\n",
       "        vertical-align: top;\n",
       "    }\n",
       "\n",
       "    .dataframe thead th {\n",
       "        text-align: right;\n",
       "    }\n",
       "</style>\n",
       "<table border=\"1\" class=\"dataframe\">\n",
       "  <thead>\n",
       "    <tr style=\"text-align: right;\">\n",
       "      <th></th>\n",
       "      <th>aamir</th>\n",
       "      <th>aaron</th>\n",
       "      <th>aasif</th>\n",
       "      <th>abandoned</th>\n",
       "      <th>abandonment</th>\n",
       "      <th>abbas</th>\n",
       "      <th>abbass</th>\n",
       "      <th>abbey</th>\n",
       "      <th>abbie</th>\n",
       "      <th>abbott</th>\n",
       "      <th>...</th>\n",
       "      <th>ziyi</th>\n",
       "      <th>zo</th>\n",
       "      <th>zoe</th>\n",
       "      <th>zoltan</th>\n",
       "      <th>zombie</th>\n",
       "      <th>zombies</th>\n",
       "      <th>zone</th>\n",
       "      <th>zoo</th>\n",
       "      <th>zooey</th>\n",
       "      <th>zucker</th>\n",
       "    </tr>\n",
       "  </thead>\n",
       "  <tbody>\n",
       "    <tr>\n",
       "      <th>0</th>\n",
       "      <td>0.0</td>\n",
       "      <td>0.0</td>\n",
       "      <td>0.0</td>\n",
       "      <td>0.0</td>\n",
       "      <td>0.0</td>\n",
       "      <td>0.0</td>\n",
       "      <td>0.0</td>\n",
       "      <td>0.0</td>\n",
       "      <td>0.0</td>\n",
       "      <td>0.0</td>\n",
       "      <td>...</td>\n",
       "      <td>0.0</td>\n",
       "      <td>0.0</td>\n",
       "      <td>0.0</td>\n",
       "      <td>0.0</td>\n",
       "      <td>0.0</td>\n",
       "      <td>0.0</td>\n",
       "      <td>0.0</td>\n",
       "      <td>0.0</td>\n",
       "      <td>0.0</td>\n",
       "      <td>0.0</td>\n",
       "    </tr>\n",
       "    <tr>\n",
       "      <th>1</th>\n",
       "      <td>0.0</td>\n",
       "      <td>0.0</td>\n",
       "      <td>0.0</td>\n",
       "      <td>0.0</td>\n",
       "      <td>0.0</td>\n",
       "      <td>0.0</td>\n",
       "      <td>0.0</td>\n",
       "      <td>0.0</td>\n",
       "      <td>0.0</td>\n",
       "      <td>0.0</td>\n",
       "      <td>...</td>\n",
       "      <td>0.0</td>\n",
       "      <td>0.0</td>\n",
       "      <td>0.0</td>\n",
       "      <td>0.0</td>\n",
       "      <td>0.0</td>\n",
       "      <td>0.0</td>\n",
       "      <td>0.0</td>\n",
       "      <td>0.0</td>\n",
       "      <td>0.0</td>\n",
       "      <td>0.0</td>\n",
       "    </tr>\n",
       "    <tr>\n",
       "      <th>2</th>\n",
       "      <td>0.0</td>\n",
       "      <td>0.0</td>\n",
       "      <td>0.0</td>\n",
       "      <td>0.0</td>\n",
       "      <td>0.0</td>\n",
       "      <td>0.0</td>\n",
       "      <td>0.0</td>\n",
       "      <td>0.0</td>\n",
       "      <td>0.0</td>\n",
       "      <td>0.0</td>\n",
       "      <td>...</td>\n",
       "      <td>0.0</td>\n",
       "      <td>0.0</td>\n",
       "      <td>0.0</td>\n",
       "      <td>0.0</td>\n",
       "      <td>0.0</td>\n",
       "      <td>0.0</td>\n",
       "      <td>0.0</td>\n",
       "      <td>0.0</td>\n",
       "      <td>0.0</td>\n",
       "      <td>0.0</td>\n",
       "    </tr>\n",
       "    <tr>\n",
       "      <th>3</th>\n",
       "      <td>0.0</td>\n",
       "      <td>0.0</td>\n",
       "      <td>0.0</td>\n",
       "      <td>0.0</td>\n",
       "      <td>0.0</td>\n",
       "      <td>0.0</td>\n",
       "      <td>0.0</td>\n",
       "      <td>0.0</td>\n",
       "      <td>0.0</td>\n",
       "      <td>0.0</td>\n",
       "      <td>...</td>\n",
       "      <td>0.0</td>\n",
       "      <td>0.0</td>\n",
       "      <td>0.0</td>\n",
       "      <td>0.0</td>\n",
       "      <td>0.0</td>\n",
       "      <td>0.0</td>\n",
       "      <td>0.0</td>\n",
       "      <td>0.0</td>\n",
       "      <td>0.0</td>\n",
       "      <td>0.0</td>\n",
       "    </tr>\n",
       "    <tr>\n",
       "      <th>4</th>\n",
       "      <td>0.0</td>\n",
       "      <td>0.0</td>\n",
       "      <td>0.0</td>\n",
       "      <td>0.0</td>\n",
       "      <td>0.0</td>\n",
       "      <td>0.0</td>\n",
       "      <td>0.0</td>\n",
       "      <td>0.0</td>\n",
       "      <td>0.0</td>\n",
       "      <td>0.0</td>\n",
       "      <td>...</td>\n",
       "      <td>0.0</td>\n",
       "      <td>0.0</td>\n",
       "      <td>0.0</td>\n",
       "      <td>0.0</td>\n",
       "      <td>0.0</td>\n",
       "      <td>0.0</td>\n",
       "      <td>0.0</td>\n",
       "      <td>0.0</td>\n",
       "      <td>0.0</td>\n",
       "      <td>0.0</td>\n",
       "    </tr>\n",
       "    <tr>\n",
       "      <th>...</th>\n",
       "      <td>...</td>\n",
       "      <td>...</td>\n",
       "      <td>...</td>\n",
       "      <td>...</td>\n",
       "      <td>...</td>\n",
       "      <td>...</td>\n",
       "      <td>...</td>\n",
       "      <td>...</td>\n",
       "      <td>...</td>\n",
       "      <td>...</td>\n",
       "      <td>...</td>\n",
       "      <td>...</td>\n",
       "      <td>...</td>\n",
       "      <td>...</td>\n",
       "      <td>...</td>\n",
       "      <td>...</td>\n",
       "      <td>...</td>\n",
       "      <td>...</td>\n",
       "      <td>...</td>\n",
       "      <td>...</td>\n",
       "      <td>...</td>\n",
       "    </tr>\n",
       "    <tr>\n",
       "      <th>62418</th>\n",
       "      <td>0.0</td>\n",
       "      <td>0.0</td>\n",
       "      <td>0.0</td>\n",
       "      <td>0.0</td>\n",
       "      <td>0.0</td>\n",
       "      <td>0.0</td>\n",
       "      <td>0.0</td>\n",
       "      <td>0.0</td>\n",
       "      <td>0.0</td>\n",
       "      <td>0.0</td>\n",
       "      <td>...</td>\n",
       "      <td>0.0</td>\n",
       "      <td>0.0</td>\n",
       "      <td>0.0</td>\n",
       "      <td>0.0</td>\n",
       "      <td>0.0</td>\n",
       "      <td>0.0</td>\n",
       "      <td>0.0</td>\n",
       "      <td>0.0</td>\n",
       "      <td>0.0</td>\n",
       "      <td>0.0</td>\n",
       "    </tr>\n",
       "    <tr>\n",
       "      <th>62419</th>\n",
       "      <td>0.0</td>\n",
       "      <td>0.0</td>\n",
       "      <td>0.0</td>\n",
       "      <td>0.0</td>\n",
       "      <td>0.0</td>\n",
       "      <td>0.0</td>\n",
       "      <td>0.0</td>\n",
       "      <td>0.0</td>\n",
       "      <td>0.0</td>\n",
       "      <td>0.0</td>\n",
       "      <td>...</td>\n",
       "      <td>0.0</td>\n",
       "      <td>0.0</td>\n",
       "      <td>0.0</td>\n",
       "      <td>0.0</td>\n",
       "      <td>0.0</td>\n",
       "      <td>0.0</td>\n",
       "      <td>0.0</td>\n",
       "      <td>0.0</td>\n",
       "      <td>0.0</td>\n",
       "      <td>0.0</td>\n",
       "    </tr>\n",
       "    <tr>\n",
       "      <th>62420</th>\n",
       "      <td>0.0</td>\n",
       "      <td>0.0</td>\n",
       "      <td>0.0</td>\n",
       "      <td>0.0</td>\n",
       "      <td>0.0</td>\n",
       "      <td>0.0</td>\n",
       "      <td>0.0</td>\n",
       "      <td>0.0</td>\n",
       "      <td>0.0</td>\n",
       "      <td>0.0</td>\n",
       "      <td>...</td>\n",
       "      <td>0.0</td>\n",
       "      <td>0.0</td>\n",
       "      <td>0.0</td>\n",
       "      <td>0.0</td>\n",
       "      <td>0.0</td>\n",
       "      <td>0.0</td>\n",
       "      <td>0.0</td>\n",
       "      <td>0.0</td>\n",
       "      <td>0.0</td>\n",
       "      <td>0.0</td>\n",
       "    </tr>\n",
       "    <tr>\n",
       "      <th>62421</th>\n",
       "      <td>0.0</td>\n",
       "      <td>0.0</td>\n",
       "      <td>0.0</td>\n",
       "      <td>0.0</td>\n",
       "      <td>0.0</td>\n",
       "      <td>0.0</td>\n",
       "      <td>0.0</td>\n",
       "      <td>0.0</td>\n",
       "      <td>0.0</td>\n",
       "      <td>0.0</td>\n",
       "      <td>...</td>\n",
       "      <td>0.0</td>\n",
       "      <td>0.0</td>\n",
       "      <td>0.0</td>\n",
       "      <td>0.0</td>\n",
       "      <td>0.0</td>\n",
       "      <td>0.0</td>\n",
       "      <td>0.0</td>\n",
       "      <td>0.0</td>\n",
       "      <td>0.0</td>\n",
       "      <td>0.0</td>\n",
       "    </tr>\n",
       "    <tr>\n",
       "      <th>62422</th>\n",
       "      <td>0.0</td>\n",
       "      <td>0.0</td>\n",
       "      <td>0.0</td>\n",
       "      <td>0.0</td>\n",
       "      <td>0.0</td>\n",
       "      <td>0.0</td>\n",
       "      <td>0.0</td>\n",
       "      <td>0.0</td>\n",
       "      <td>0.0</td>\n",
       "      <td>0.0</td>\n",
       "      <td>...</td>\n",
       "      <td>0.0</td>\n",
       "      <td>0.0</td>\n",
       "      <td>0.0</td>\n",
       "      <td>0.0</td>\n",
       "      <td>0.0</td>\n",
       "      <td>0.0</td>\n",
       "      <td>0.0</td>\n",
       "      <td>0.0</td>\n",
       "      <td>0.0</td>\n",
       "      <td>0.0</td>\n",
       "    </tr>\n",
       "  </tbody>\n",
       "</table>\n",
       "<p>62423 rows × 10000 columns</p>\n",
       "</div>"
      ],
      "text/plain": [
       "       aamir  aaron  aasif  abandoned  abandonment  abbas  abbass  abbey  \\\n",
       "0        0.0    0.0    0.0        0.0          0.0    0.0     0.0    0.0   \n",
       "1        0.0    0.0    0.0        0.0          0.0    0.0     0.0    0.0   \n",
       "2        0.0    0.0    0.0        0.0          0.0    0.0     0.0    0.0   \n",
       "3        0.0    0.0    0.0        0.0          0.0    0.0     0.0    0.0   \n",
       "4        0.0    0.0    0.0        0.0          0.0    0.0     0.0    0.0   \n",
       "...      ...    ...    ...        ...          ...    ...     ...    ...   \n",
       "62418    0.0    0.0    0.0        0.0          0.0    0.0     0.0    0.0   \n",
       "62419    0.0    0.0    0.0        0.0          0.0    0.0     0.0    0.0   \n",
       "62420    0.0    0.0    0.0        0.0          0.0    0.0     0.0    0.0   \n",
       "62421    0.0    0.0    0.0        0.0          0.0    0.0     0.0    0.0   \n",
       "62422    0.0    0.0    0.0        0.0          0.0    0.0     0.0    0.0   \n",
       "\n",
       "       abbie  abbott  ...  ziyi   zo  zoe  zoltan  zombie  zombies  zone  zoo  \\\n",
       "0        0.0     0.0  ...   0.0  0.0  0.0     0.0     0.0      0.0   0.0  0.0   \n",
       "1        0.0     0.0  ...   0.0  0.0  0.0     0.0     0.0      0.0   0.0  0.0   \n",
       "2        0.0     0.0  ...   0.0  0.0  0.0     0.0     0.0      0.0   0.0  0.0   \n",
       "3        0.0     0.0  ...   0.0  0.0  0.0     0.0     0.0      0.0   0.0  0.0   \n",
       "4        0.0     0.0  ...   0.0  0.0  0.0     0.0     0.0      0.0   0.0  0.0   \n",
       "...      ...     ...  ...   ...  ...  ...     ...     ...      ...   ...  ...   \n",
       "62418    0.0     0.0  ...   0.0  0.0  0.0     0.0     0.0      0.0   0.0  0.0   \n",
       "62419    0.0     0.0  ...   0.0  0.0  0.0     0.0     0.0      0.0   0.0  0.0   \n",
       "62420    0.0     0.0  ...   0.0  0.0  0.0     0.0     0.0      0.0   0.0  0.0   \n",
       "62421    0.0     0.0  ...   0.0  0.0  0.0     0.0     0.0      0.0   0.0  0.0   \n",
       "62422    0.0     0.0  ...   0.0  0.0  0.0     0.0     0.0      0.0   0.0  0.0   \n",
       "\n",
       "       zooey  zucker  \n",
       "0        0.0     0.0  \n",
       "1        0.0     0.0  \n",
       "2        0.0     0.0  \n",
       "3        0.0     0.0  \n",
       "4        0.0     0.0  \n",
       "...      ...     ...  \n",
       "62418    0.0     0.0  \n",
       "62419    0.0     0.0  \n",
       "62420    0.0     0.0  \n",
       "62421    0.0     0.0  \n",
       "62422    0.0     0.0  \n",
       "\n",
       "[62423 rows x 10000 columns]"
      ]
     },
     "execution_count": 45,
     "metadata": {},
     "output_type": "execute_result"
    }
   ],
   "source": [
    "sparse_df = pd.DataFrame(tfidf_matrix.toarray(), columns=tf.get_feature_names())\n",
    "sparse_df"
   ]
  },
  {
   "cell_type": "markdown",
   "metadata": {},
   "source": [
    "# Prediction\n",
    "\n",
    "We now do the prediction. The prediction will follow the following steps:\n",
    "\n",
    "1. We select a given user from the userid and a given movie we need the rating by that user. \n",
    "2. Collect the similarity matrix for the reference movie from that user and all other movies that has been rated by that user. \n",
    "3. Sort the collected similarity matrix in descending order\n",
    "4. Select the K-highest similarity values above a given threshhold, thereby creating a k collection. \n",
    "5. Compute the weighted average rating, R, for the k-collection. The weighted average is the sum of the similarity values for each movie multiplied by the given user rating, then divided by the sum of the similarity values. When we have the startup problem (the user has not rated any movie at all), then we take the mean of all the ratings given to that movie by the public. \n",
    "6. Return the weighted average, R.\n"
   ]
  },
  {
   "cell_type": "code",
   "execution_count": 46,
   "metadata": {},
   "outputs": [],
   "source": [
    "def estimated_rating(userid, movieid, ratings_data, k=50, threshold = 0.0):\n",
    "    # convert the movieid to a numeric index for our similarity matrix\n",
    "    ref_movie_idx = indices[movieid]\n",
    "    neighbors = [] # our collection of similarity values is stored here\n",
    "    # Gather the similarity ratings between each movie the user has rated\n",
    "    # and the reference book\n",
    "    user_ratings = ratings_data[ratings_data['userId'] == userid][['movieId', 'rating']] # we get a user_ratings dataframe\n",
    "    # get the index of each rated movie and do the similarity value with the reference movie. Make sure the indices are not the same\n",
    "    for ind in user_ratings.index:\n",
    "        user_movie_idx = indices[user_ratings['movieId'][ind]]\n",
    "        # get the similarity score but check whether we have same index\n",
    "        # get both vectors\n",
    "        if ref_movie_idx != user_movie_idx:            \n",
    "            ref_vector = sparse_df.iloc[ref_movie_idx].to_numpy()\n",
    "            user_vector = sparse_df.iloc[user_movie_idx].to_numpy()\n",
    "            sim_score = np.dot(ref_vector, user_vector)/(norm(ref_vector)*norm(user_vector))\n",
    "            rating = user_ratings['rating'][ind]\n",
    "            # store sim score and rating as a tuple in neighbors list \n",
    "            neighbors.append((sim_score, rating))\n",
    "    # sort the 50 largest similarity scores\n",
    "    k_neighbors = heapq.nlargest(k, neighbors, key=lambda t: t[0])\n",
    "    \n",
    "    # Compute the weighted average using similarity scores and \n",
    "    # user item ratings. \n",
    "    simTotal, weightedSum = 0, 0\n",
    "    for (simScore, rating) in k_neighbors:\n",
    "        # Ensure that similarity ratings are above a given threshold\n",
    "        if (simScore > threshold):\n",
    "            simTotal += simScore\n",
    "            weightedSum += simScore * rating\n",
    "    try:\n",
    "        predictedRating = weightedSum / simTotal\n",
    "    except ZeroDivisionError:\n",
    "        # Cold-start problem - No ratings given by user. \n",
    "        # We use the average rating for the reference item as a proxy in this case \n",
    "        predictedRating = np.mean(ratings_data[ratings_data['movieId']==movieid]['rating'])\n",
    "    return predictedRating\n",
    "    \n",
    "    \n",
    "    "
   ]
  },
  {
   "cell_type": "markdown",
   "metadata": {},
   "source": [
    "With our algorithm defined, let's test it out to see some of the results. "
   ]
  },
  {
   "cell_type": "markdown",
   "metadata": {},
   "source": [
    "Let's generate a rating for userid = 5163 and movie id = 57669. "
   ]
  },
  {
   "cell_type": "code",
   "execution_count": 47,
   "metadata": {},
   "outputs": [
    {
     "name": "stdout",
     "output_type": "stream",
     "text": [
      "Title - In Brugges (2008)\n",
      "---\n",
      "Actual rating: \t\t 4.0\n",
      "Predicted rating: \t 4.26590427258246\n"
     ]
    }
   ],
   "source": [
    "title = \"In Brugges (2008)\"\n",
    "actual_rating = movie_ratings[(movie_ratings['userId'] == 5163) & (movie_ratings['movieId'] == 57669)]['rating'].values[0]\n",
    "pred_rating = estimated_rating(userid=5163, movieid=57669, ratings_data=movie_ratings)\n",
    "print (f\"Title - {title}\")\n",
    "print (\"---\")\n",
    "print (f\"Actual rating: \\t\\t {actual_rating}\")\n",
    "print (f\"Predicted rating: \\t {pred_rating}\")"
   ]
  },
  {
   "cell_type": "code",
   "execution_count": 48,
   "metadata": {},
   "outputs": [
    {
     "name": "stdout",
     "output_type": "stream",
     "text": [
      "Title - Father of the Bride Part II (1995)\n",
      "---\n",
      "Actual rating: \t\t 4.5\n",
      "Predicted rating: \t 3.7269579972462337\n"
     ]
    }
   ],
   "source": [
    "title = \"Father of the Bride Part II (1995)\"\n",
    "actual_rating = movie_ratings[(movie_ratings['userId'] == 106343) & (movie_ratings['movieId'] == 5)]['rating'].values[0]\n",
    "pred_rating = estimated_rating(userid=106343, movieid=5, ratings_data=movie_ratings)\n",
    "print (f\"Title - {title}\")\n",
    "print (\"---\")\n",
    "print (f\"Actual rating: \\t\\t {actual_rating}\")\n",
    "print (f\"Predicted rating: \\t {pred_rating}\")"
   ]
  },
  {
   "cell_type": "markdown",
   "metadata": {},
   "source": [
    "This shows us that our algorithm for predicting movie ratings is quite moderately good. We noted that the average rating is about 3.5 across all the movies with a mode of 4.0. So we can say that our rating algorithm is somewhat good overall. "
   ]
  },
  {
   "cell_type": "code",
   "execution_count": 49,
   "metadata": {},
   "outputs": [],
   "source": [
    "## Kaggle submission"
   ]
  },
  {
   "cell_type": "code",
   "execution_count": 50,
   "metadata": {},
   "outputs": [
    {
     "data": {
      "text/html": [
       "<div>\n",
       "<style scoped>\n",
       "    .dataframe tbody tr th:only-of-type {\n",
       "        vertical-align: middle;\n",
       "    }\n",
       "\n",
       "    .dataframe tbody tr th {\n",
       "        vertical-align: top;\n",
       "    }\n",
       "\n",
       "    .dataframe thead th {\n",
       "        text-align: right;\n",
       "    }\n",
       "</style>\n",
       "<table border=\"1\" class=\"dataframe\">\n",
       "  <thead>\n",
       "    <tr style=\"text-align: right;\">\n",
       "      <th></th>\n",
       "      <th>userId</th>\n",
       "      <th>movieId</th>\n",
       "    </tr>\n",
       "  </thead>\n",
       "  <tbody>\n",
       "    <tr>\n",
       "      <th>0</th>\n",
       "      <td>1</td>\n",
       "      <td>2011</td>\n",
       "    </tr>\n",
       "    <tr>\n",
       "      <th>1</th>\n",
       "      <td>1</td>\n",
       "      <td>4144</td>\n",
       "    </tr>\n",
       "    <tr>\n",
       "      <th>2</th>\n",
       "      <td>1</td>\n",
       "      <td>5767</td>\n",
       "    </tr>\n",
       "    <tr>\n",
       "      <th>3</th>\n",
       "      <td>1</td>\n",
       "      <td>6711</td>\n",
       "    </tr>\n",
       "    <tr>\n",
       "      <th>4</th>\n",
       "      <td>1</td>\n",
       "      <td>7318</td>\n",
       "    </tr>\n",
       "  </tbody>\n",
       "</table>\n",
       "</div>"
      ],
      "text/plain": [
       "   userId  movieId\n",
       "0       1     2011\n",
       "1       1     4144\n",
       "2       1     5767\n",
       "3       1     6711\n",
       "4       1     7318"
      ]
     },
     "execution_count": 50,
     "metadata": {},
     "output_type": "execute_result"
    }
   ],
   "source": [
    "test_df = pd.read_csv('test.csv')\n",
    "test_df.head()"
   ]
  },
  {
   "cell_type": "code",
   "execution_count": 51,
   "metadata": {},
   "outputs": [
    {
     "ename": "KeyboardInterrupt",
     "evalue": "",
     "output_type": "error",
     "traceback": [
      "\u001b[0;31m---------------------------------------------------------------------------\u001b[0m",
      "\u001b[0;31mKeyboardInterrupt\u001b[0m                         Traceback (most recent call last)",
      "\u001b[0;32m<ipython-input-51-73fd87a40504>\u001b[0m in \u001b[0;36m<module>\u001b[0;34m\u001b[0m\n\u001b[0;32m----> 1\u001b[0;31m \u001b[0mtest_df\u001b[0m\u001b[0;34m[\u001b[0m\u001b[0;34m'rating'\u001b[0m\u001b[0;34m]\u001b[0m \u001b[0;34m=\u001b[0m \u001b[0mtest_df\u001b[0m\u001b[0;34m.\u001b[0m\u001b[0mapply\u001b[0m\u001b[0;34m(\u001b[0m\u001b[0;32mlambda\u001b[0m \u001b[0mrow\u001b[0m\u001b[0;34m:\u001b[0m \u001b[0mestimated_rating\u001b[0m\u001b[0;34m(\u001b[0m\u001b[0muserid\u001b[0m\u001b[0;34m=\u001b[0m\u001b[0mrow\u001b[0m\u001b[0;34m[\u001b[0m\u001b[0;34m'userId'\u001b[0m\u001b[0;34m]\u001b[0m\u001b[0;34m,\u001b[0m \u001b[0mmovieid\u001b[0m\u001b[0;34m=\u001b[0m\u001b[0mrow\u001b[0m\u001b[0;34m[\u001b[0m\u001b[0;34m'movieId'\u001b[0m\u001b[0;34m]\u001b[0m\u001b[0;34m,\u001b[0m \u001b[0mratings_data\u001b[0m\u001b[0;34m=\u001b[0m\u001b[0mmovie_ratings\u001b[0m\u001b[0;34m)\u001b[0m\u001b[0;34m,\u001b[0m \u001b[0maxis\u001b[0m\u001b[0;34m=\u001b[0m\u001b[0;36m1\u001b[0m\u001b[0;34m)\u001b[0m\u001b[0;34m\u001b[0m\u001b[0;34m\u001b[0m\u001b[0m\n\u001b[0m\u001b[1;32m      2\u001b[0m \u001b[0mtest_df\u001b[0m\u001b[0;34m.\u001b[0m\u001b[0mhead\u001b[0m\u001b[0;34m(\u001b[0m\u001b[0;34m)\u001b[0m\u001b[0;34m\u001b[0m\u001b[0;34m\u001b[0m\u001b[0m\n",
      "\u001b[0;32m~/anaconda3/lib/python3.7/site-packages/pandas/core/frame.py\u001b[0m in \u001b[0;36mapply\u001b[0;34m(self, func, axis, raw, result_type, args, **kwargs)\u001b[0m\n\u001b[1;32m   8738\u001b[0m             \u001b[0mkwargs\u001b[0m\u001b[0;34m=\u001b[0m\u001b[0mkwargs\u001b[0m\u001b[0;34m,\u001b[0m\u001b[0;34m\u001b[0m\u001b[0;34m\u001b[0m\u001b[0m\n\u001b[1;32m   8739\u001b[0m         )\n\u001b[0;32m-> 8740\u001b[0;31m         \u001b[0;32mreturn\u001b[0m \u001b[0mop\u001b[0m\u001b[0;34m.\u001b[0m\u001b[0mapply\u001b[0m\u001b[0;34m(\u001b[0m\u001b[0;34m)\u001b[0m\u001b[0;34m\u001b[0m\u001b[0;34m\u001b[0m\u001b[0m\n\u001b[0m\u001b[1;32m   8741\u001b[0m \u001b[0;34m\u001b[0m\u001b[0m\n\u001b[1;32m   8742\u001b[0m     def applymap(\n",
      "\u001b[0;32m~/anaconda3/lib/python3.7/site-packages/pandas/core/apply.py\u001b[0m in \u001b[0;36mapply\u001b[0;34m(self)\u001b[0m\n\u001b[1;32m    686\u001b[0m             \u001b[0;32mreturn\u001b[0m \u001b[0mself\u001b[0m\u001b[0;34m.\u001b[0m\u001b[0mapply_raw\u001b[0m\u001b[0;34m(\u001b[0m\u001b[0;34m)\u001b[0m\u001b[0;34m\u001b[0m\u001b[0;34m\u001b[0m\u001b[0m\n\u001b[1;32m    687\u001b[0m \u001b[0;34m\u001b[0m\u001b[0m\n\u001b[0;32m--> 688\u001b[0;31m         \u001b[0;32mreturn\u001b[0m \u001b[0mself\u001b[0m\u001b[0;34m.\u001b[0m\u001b[0mapply_standard\u001b[0m\u001b[0;34m(\u001b[0m\u001b[0;34m)\u001b[0m\u001b[0;34m\u001b[0m\u001b[0;34m\u001b[0m\u001b[0m\n\u001b[0m\u001b[1;32m    689\u001b[0m \u001b[0;34m\u001b[0m\u001b[0m\n\u001b[1;32m    690\u001b[0m     \u001b[0;32mdef\u001b[0m \u001b[0magg\u001b[0m\u001b[0;34m(\u001b[0m\u001b[0mself\u001b[0m\u001b[0;34m)\u001b[0m\u001b[0;34m:\u001b[0m\u001b[0;34m\u001b[0m\u001b[0;34m\u001b[0m\u001b[0m\n",
      "\u001b[0;32m~/anaconda3/lib/python3.7/site-packages/pandas/core/apply.py\u001b[0m in \u001b[0;36mapply_standard\u001b[0;34m(self)\u001b[0m\n\u001b[1;32m    810\u001b[0m \u001b[0;34m\u001b[0m\u001b[0m\n\u001b[1;32m    811\u001b[0m     \u001b[0;32mdef\u001b[0m \u001b[0mapply_standard\u001b[0m\u001b[0;34m(\u001b[0m\u001b[0mself\u001b[0m\u001b[0;34m)\u001b[0m\u001b[0;34m:\u001b[0m\u001b[0;34m\u001b[0m\u001b[0;34m\u001b[0m\u001b[0m\n\u001b[0;32m--> 812\u001b[0;31m         \u001b[0mresults\u001b[0m\u001b[0;34m,\u001b[0m \u001b[0mres_index\u001b[0m \u001b[0;34m=\u001b[0m \u001b[0mself\u001b[0m\u001b[0;34m.\u001b[0m\u001b[0mapply_series_generator\u001b[0m\u001b[0;34m(\u001b[0m\u001b[0;34m)\u001b[0m\u001b[0;34m\u001b[0m\u001b[0;34m\u001b[0m\u001b[0m\n\u001b[0m\u001b[1;32m    813\u001b[0m \u001b[0;34m\u001b[0m\u001b[0m\n\u001b[1;32m    814\u001b[0m         \u001b[0;31m# wrap results\u001b[0m\u001b[0;34m\u001b[0m\u001b[0;34m\u001b[0m\u001b[0;34m\u001b[0m\u001b[0m\n",
      "\u001b[0;32m~/anaconda3/lib/python3.7/site-packages/pandas/core/apply.py\u001b[0m in \u001b[0;36mapply_series_generator\u001b[0;34m(self)\u001b[0m\n\u001b[1;32m    826\u001b[0m             \u001b[0;32mfor\u001b[0m \u001b[0mi\u001b[0m\u001b[0;34m,\u001b[0m \u001b[0mv\u001b[0m \u001b[0;32min\u001b[0m \u001b[0menumerate\u001b[0m\u001b[0;34m(\u001b[0m\u001b[0mseries_gen\u001b[0m\u001b[0;34m)\u001b[0m\u001b[0;34m:\u001b[0m\u001b[0;34m\u001b[0m\u001b[0;34m\u001b[0m\u001b[0m\n\u001b[1;32m    827\u001b[0m                 \u001b[0;31m# ignore SettingWithCopy here in case the user mutates\u001b[0m\u001b[0;34m\u001b[0m\u001b[0;34m\u001b[0m\u001b[0;34m\u001b[0m\u001b[0m\n\u001b[0;32m--> 828\u001b[0;31m                 \u001b[0mresults\u001b[0m\u001b[0;34m[\u001b[0m\u001b[0mi\u001b[0m\u001b[0;34m]\u001b[0m \u001b[0;34m=\u001b[0m \u001b[0mself\u001b[0m\u001b[0;34m.\u001b[0m\u001b[0mf\u001b[0m\u001b[0;34m(\u001b[0m\u001b[0mv\u001b[0m\u001b[0;34m)\u001b[0m\u001b[0;34m\u001b[0m\u001b[0;34m\u001b[0m\u001b[0m\n\u001b[0m\u001b[1;32m    829\u001b[0m                 \u001b[0;32mif\u001b[0m \u001b[0misinstance\u001b[0m\u001b[0;34m(\u001b[0m\u001b[0mresults\u001b[0m\u001b[0;34m[\u001b[0m\u001b[0mi\u001b[0m\u001b[0;34m]\u001b[0m\u001b[0;34m,\u001b[0m \u001b[0mABCSeries\u001b[0m\u001b[0;34m)\u001b[0m\u001b[0;34m:\u001b[0m\u001b[0;34m\u001b[0m\u001b[0;34m\u001b[0m\u001b[0m\n\u001b[1;32m    830\u001b[0m                     \u001b[0;31m# If we have a view on v, we need to make a copy because\u001b[0m\u001b[0;34m\u001b[0m\u001b[0;34m\u001b[0m\u001b[0;34m\u001b[0m\u001b[0m\n",
      "\u001b[0;32m<ipython-input-51-73fd87a40504>\u001b[0m in \u001b[0;36m<lambda>\u001b[0;34m(row)\u001b[0m\n\u001b[0;32m----> 1\u001b[0;31m \u001b[0mtest_df\u001b[0m\u001b[0;34m[\u001b[0m\u001b[0;34m'rating'\u001b[0m\u001b[0;34m]\u001b[0m \u001b[0;34m=\u001b[0m \u001b[0mtest_df\u001b[0m\u001b[0;34m.\u001b[0m\u001b[0mapply\u001b[0m\u001b[0;34m(\u001b[0m\u001b[0;32mlambda\u001b[0m \u001b[0mrow\u001b[0m\u001b[0;34m:\u001b[0m \u001b[0mestimated_rating\u001b[0m\u001b[0;34m(\u001b[0m\u001b[0muserid\u001b[0m\u001b[0;34m=\u001b[0m\u001b[0mrow\u001b[0m\u001b[0;34m[\u001b[0m\u001b[0;34m'userId'\u001b[0m\u001b[0;34m]\u001b[0m\u001b[0;34m,\u001b[0m \u001b[0mmovieid\u001b[0m\u001b[0;34m=\u001b[0m\u001b[0mrow\u001b[0m\u001b[0;34m[\u001b[0m\u001b[0;34m'movieId'\u001b[0m\u001b[0;34m]\u001b[0m\u001b[0;34m,\u001b[0m \u001b[0mratings_data\u001b[0m\u001b[0;34m=\u001b[0m\u001b[0mmovie_ratings\u001b[0m\u001b[0;34m)\u001b[0m\u001b[0;34m,\u001b[0m \u001b[0maxis\u001b[0m\u001b[0;34m=\u001b[0m\u001b[0;36m1\u001b[0m\u001b[0;34m)\u001b[0m\u001b[0;34m\u001b[0m\u001b[0;34m\u001b[0m\u001b[0m\n\u001b[0m\u001b[1;32m      2\u001b[0m \u001b[0mtest_df\u001b[0m\u001b[0;34m.\u001b[0m\u001b[0mhead\u001b[0m\u001b[0;34m(\u001b[0m\u001b[0;34m)\u001b[0m\u001b[0;34m\u001b[0m\u001b[0;34m\u001b[0m\u001b[0m\n",
      "\u001b[0;32m<ipython-input-46-e2cf3ecc8b4d>\u001b[0m in \u001b[0;36mestimated_rating\u001b[0;34m(userid, movieid, ratings_data, k, threshold)\u001b[0m\n\u001b[1;32m     14\u001b[0m             \u001b[0mref_vector\u001b[0m \u001b[0;34m=\u001b[0m \u001b[0msparse_df\u001b[0m\u001b[0;34m.\u001b[0m\u001b[0miloc\u001b[0m\u001b[0;34m[\u001b[0m\u001b[0mref_movie_idx\u001b[0m\u001b[0;34m]\u001b[0m\u001b[0;34m.\u001b[0m\u001b[0mto_numpy\u001b[0m\u001b[0;34m(\u001b[0m\u001b[0;34m)\u001b[0m\u001b[0;34m\u001b[0m\u001b[0;34m\u001b[0m\u001b[0m\n\u001b[1;32m     15\u001b[0m             \u001b[0muser_vector\u001b[0m \u001b[0;34m=\u001b[0m \u001b[0msparse_df\u001b[0m\u001b[0;34m.\u001b[0m\u001b[0miloc\u001b[0m\u001b[0;34m[\u001b[0m\u001b[0muser_movie_idx\u001b[0m\u001b[0;34m]\u001b[0m\u001b[0;34m.\u001b[0m\u001b[0mto_numpy\u001b[0m\u001b[0;34m(\u001b[0m\u001b[0;34m)\u001b[0m\u001b[0;34m\u001b[0m\u001b[0;34m\u001b[0m\u001b[0m\n\u001b[0;32m---> 16\u001b[0;31m             \u001b[0msim_score\u001b[0m \u001b[0;34m=\u001b[0m \u001b[0mnp\u001b[0m\u001b[0;34m.\u001b[0m\u001b[0mdot\u001b[0m\u001b[0;34m(\u001b[0m\u001b[0mref_vector\u001b[0m\u001b[0;34m,\u001b[0m \u001b[0muser_vector\u001b[0m\u001b[0;34m)\u001b[0m\u001b[0;34m/\u001b[0m\u001b[0;34m(\u001b[0m\u001b[0mnorm\u001b[0m\u001b[0;34m(\u001b[0m\u001b[0mref_vector\u001b[0m\u001b[0;34m)\u001b[0m\u001b[0;34m*\u001b[0m\u001b[0mnorm\u001b[0m\u001b[0;34m(\u001b[0m\u001b[0muser_vector\u001b[0m\u001b[0;34m)\u001b[0m\u001b[0;34m)\u001b[0m\u001b[0;34m\u001b[0m\u001b[0;34m\u001b[0m\u001b[0m\n\u001b[0m\u001b[1;32m     17\u001b[0m             \u001b[0mrating\u001b[0m \u001b[0;34m=\u001b[0m \u001b[0muser_ratings\u001b[0m\u001b[0;34m[\u001b[0m\u001b[0;34m'rating'\u001b[0m\u001b[0;34m]\u001b[0m\u001b[0;34m[\u001b[0m\u001b[0mind\u001b[0m\u001b[0;34m]\u001b[0m\u001b[0;34m\u001b[0m\u001b[0;34m\u001b[0m\u001b[0m\n\u001b[1;32m     18\u001b[0m             \u001b[0;31m# store sim score and rating as a tuple in neighbors list\u001b[0m\u001b[0;34m\u001b[0m\u001b[0;34m\u001b[0m\u001b[0;34m\u001b[0m\u001b[0m\n",
      "\u001b[0;32m<__array_function__ internals>\u001b[0m in \u001b[0;36mdot\u001b[0;34m(*args, **kwargs)\u001b[0m\n",
      "\u001b[0;31mKeyboardInterrupt\u001b[0m: "
     ]
    }
   ],
   "source": [
    "test_df['rating'] = test_df.apply(lambda row: estimated_rating(userid=row['userId'], movieid=row['movieId'], ratings_data=movie_ratings), axis=1)\n",
    "test_df.head()"
   ]
  },
  {
   "cell_type": "code",
   "execution_count": null,
   "metadata": {},
   "outputs": [],
   "source": []
  }
 ],
 "metadata": {
  "accelerator": "GPU",
  "colab": {
   "name": "content_based_rating.ipynb",
   "provenance": []
  },
  "gpuClass": "standard",
  "kernelspec": {
   "display_name": "Python 3 (ipykernel)",
   "language": "python",
   "name": "python3"
  },
  "language_info": {
   "codemirror_mode": {
    "name": "ipython",
    "version": 3
   },
   "file_extension": ".py",
   "mimetype": "text/x-python",
   "name": "python",
   "nbconvert_exporter": "python",
   "pygments_lexer": "ipython3",
   "version": "3.9.7"
  },
  "vscode": {
   "interpreter": {
    "hash": "3307f1ae33139c70d9b814b1c83f33651258f596c045f080fe39d4255f9e19cf"
   }
  }
 },
 "nbformat": 4,
 "nbformat_minor": 1
}
