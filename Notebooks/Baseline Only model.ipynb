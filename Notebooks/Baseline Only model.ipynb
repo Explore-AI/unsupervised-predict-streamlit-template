{
 "metadata": {
  "language_info": {
   "codemirror_mode": {
    "name": "ipython",
    "version": 3
   },
   "file_extension": ".py",
   "mimetype": "text/x-python",
   "name": "python",
   "nbconvert_exporter": "python",
   "pygments_lexer": "ipython3",
   "version": 3
  },
  "orig_nbformat": 2
 },
 "nbformat": 4,
 "nbformat_minor": 2,
 "cells": [
  {
   "source": [
    "# 1. Importing necessary libraries\n",
    "\n",
    "\n"
   ],
   "cell_type": "markdown",
   "metadata": {}
  },
  {
   "cell_type": "code",
   "execution_count": null,
   "metadata": {},
   "outputs": [],
   "source": [
    "import numpy as np \n",
    "import pandas as pd\n",
    "import matplotlib.pyplot as plt\n",
    "import seaborn as sns\n",
    "\n",
    "from surprise import Dataset \n",
    "from surprise import Reader\n",
    "from surprise.model_selection import train_test_split\n",
    "from surprise import accuracy\n",
    "from surprise.model_selection import GridSearchCV,RandomizedSearchCV\n",
    "from sklearn.metrics import confusion_matrix, precision_score, recall_score,classification_report\n",
    "from surprise import BaselineOnly"
   ]
  },
  {
   "source": [
    "# 2. Loading data"
   ],
   "cell_type": "markdown",
   "metadata": {}
  },
  {
   "cell_type": "code",
   "execution_count": null,
   "metadata": {},
   "outputs": [],
   "source": [
    "train = pd.read_csv('/kaggle/input/edsa-recommender-system-predict/train.csv')\n",
    "test = pd.read_csv('/kaggle/input/edsa-recommender-system-predict/test.csv')\n",
    "df_movies = pd.read_csv('/kaggle/input/edsa-recommender-system-predict/movies.csv')\n",
    "df_samp = pd.read_csv('/kaggle/input/edsa-recommender-system-predict/sample_submission.csv')\n",
    "df_imdb = pd.read_csv('/kaggle/input/edsa-recommender-system-predict/imdb_data.csv')\n",
    "df_gtags = pd.read_csv(\"/kaggle/input/edsa-recommender-system-predict/genome_tags.csv\")\n",
    "df_scores = pd.read_csv(\"/kaggle/input/edsa-recommender-system-predict/genome_scores.csv\")\n",
    "df_tags = pd.read_csv(\"/kaggle/input/edsa-recommender-system-predict/tags.csv\")\n",
    "df_links = pd.read_csv(\"/kaggle/input/edsa-recommender-system-predict/links.csv\")\n",
    "#samp = pd.read_csv(\"../input/train-sample/train_samp_5.csv\")\n",
    "train.head()"
   ]
  },
  {
   "source": [
    "# 3. Data preprocessing\n",
    "## 3.1 Checking for missing values column wise"
   ],
   "cell_type": "markdown",
   "metadata": {}
  },
  {
   "cell_type": "code",
   "execution_count": null,
   "metadata": {},
   "outputs": [],
   "source": [
    "train.isna().sum()\n",
    "3.2 Checking for duplicate records\n",
    "dup_bool = train.duplicated(['userId','movieId','rating'])\n",
    "print(\"Number of duplicate records:\",sum(dup_bool))"
   ]
  },
  {
   "source": [
    "# 4. Basic data exploration\n",
    "## 4.1 Total number of users, movies and ratings\n",
    "## Total number of users, movies and ratings"
   ],
   "cell_type": "markdown",
   "metadata": {}
  },
  {
   "cell_type": "code",
   "execution_count": null,
   "metadata": {},
   "outputs": [],
   "source": [
    "print(\"Total no of ratings :\",train.shape[0])\n",
    "print(\"No. of unique users:\", train[\"userId\"].nunique())\n",
    "print(\"No. of unique movies:\", train[\"movieId\"].nunique())\n"
   ]
  },
  {
   "source": [
    "## 4.3 Ratings per user\n"
   ],
   "cell_type": "markdown",
   "metadata": {}
  },
  {
   "cell_type": "code",
   "execution_count": null,
   "metadata": {},
   "outputs": [],
   "source": [
    "ratings_per_user = train.groupby(by='userId')['rating'].count()#.sort_values(ascending=False)\n",
    "ratings_per_user.describe()"
   ]
  },
  {
   "source": [
    "## 4.4 Ratings per movie\n",
    "\n"
   ],
   "cell_type": "markdown",
   "metadata": {}
  },
  {
   "cell_type": "code",
   "execution_count": null,
   "metadata": {},
   "outputs": [],
   "source": [
    "ratings_per_movie = train.groupby(by='movieId')['rating'].count()\n",
    "ratings_per_movie.describe()"
   ]
  },
  {
   "source": [
    "### Minimum number of ratings to a movie = 1\n",
    "### Maximum number of ratings to a movie = 341\n",
    "### average ratings per movie = 11\n"
   ],
   "cell_type": "markdown",
   "metadata": {}
  },
  {
   "source": [
    "# 5. Loading as Surprise dataframe and train-test split"
   ],
   "cell_type": "markdown",
   "metadata": {}
  },
  {
   "cell_type": "code",
   "execution_count": null,
   "metadata": {},
   "outputs": [],
   "source": [
    "reader = Reader()\n",
    "ratings = Dataset.load_from_df(train[['userId', 'movieId', 'rating']], reader)"
   ]
  },
  {
   "source": [
    "## Splitting into train and test set"
   ],
   "cell_type": "markdown",
   "metadata": {}
  },
  {
   "cell_type": "code",
   "execution_count": null,
   "metadata": {},
   "outputs": [],
   "source": [
    "train_ratings, test_ratings = train_test_split(ratings, test_size=.20, random_state = 42)\n",
    "print(\"Size of trainset: \", train_ratings.n_ratings)\n",
    "print(\"Size of testset: \", len(test_ratings))"
   ]
  },
  {
   "source": [
    "# 6. ML models for recommendation from Surprise library¶\n",
    "## 6.1 Baseline method\n",
    "## 6.1.a Fitting Baseline model"
   ],
   "cell_type": "markdown",
   "metadata": {}
  },
  {
   "cell_type": "code",
   "execution_count": null,
   "metadata": {},
   "outputs": [],
   "source": [
    "baseline_model = BaselineOnly(verbose = False)\n",
    "baseline_model.fit(train_ratings)"
   ]
  },
  {
   "source": [
    "## 6.1.b Evaluating the results"
   ],
   "cell_type": "markdown",
   "metadata": {}
  },
  {
   "cell_type": "code",
   "execution_count": null,
   "metadata": {},
   "outputs": [],
   "source": [
    "train_predictions = baseline_model.test(train_ratings.build_testset())\n",
    "test_predictions = baseline_model.test(test_ratings)\n",
    "print(\"RMSE on training data : \", accuracy.rmse(train_predictions,verbose = False))\n",
    "print(\"RMSE on test data: \", accuracy.rmse(test_predictions,verbose = False))\n"
   ]
  },
  {
   "source": [
    "# 7. Iterate over rows"
   ],
   "cell_type": "markdown",
   "metadata": {}
  },
  {
   "cell_type": "code",
   "execution_count": null,
   "metadata": {},
   "outputs": [],
   "source": [
    "train = []\n",
    "for _, row in test.iterrows():\n",
    "    train.append(baseline_model.predict(row.userId, row.movieId).est)\n",
    "\n",
    "train\n",
    "test['rating'] = train\n",
    "test['movieId'] = test['movieId'].astype(int)\n",
    "test['movieId'] = test['movieId'].astype(str)\n",
    "test['Id'] = test[['userId', 'movieId']].astype(str).agg('_'.join, axis=1)\n",
    "test.drop(columns=['movieId', 'userId'], inplace=True)\n",
    "test = test[[\"Id\", \"rating\"]]"
   ]
  },
  {
   "source": [
    "# 8. View submission file"
   ],
   "cell_type": "markdown",
   "metadata": {}
  },
  {
   "cell_type": "code",
   "execution_count": null,
   "metadata": {},
   "outputs": [],
   "source": [
    "test"
   ]
  },
  {
   "source": [
    "# 9. Create submission folder\n"
   ],
   "cell_type": "markdown",
   "metadata": {}
  },
  {
   "cell_type": "code",
   "execution_count": null,
   "metadata": {},
   "outputs": [],
   "source": [
    "test.to_csv(\"basline_model.csv\", index=False)"
   ]
  }
 ]
}