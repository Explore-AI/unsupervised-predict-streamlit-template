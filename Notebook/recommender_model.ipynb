{
 "cells": [
  {
   "cell_type": "markdown",
   "metadata": {},
   "source": [
    "# Movie Recommender System - Thirteen Analytics Consulting\n",
    "\n",
    "© Explore Data Science Academy\n",
    "\n",
    "---"
   ]
  },
  {
   "cell_type": "markdown",
   "metadata": {},
   "source": [
    "<img alt=\"Movie recommendations\" src=\"https://github.com/Explore-AI/unsupervised-predict-streamlit-template/raw/master/resources/imgs/Image_header.png\">"
   ]
  },
  {
   "cell_type": "markdown",
   "metadata": {
    "tags": []
   },
   "source": [
    "## Introduction"
   ]
  },
  {
   "cell_type": "markdown",
   "metadata": {},
   "source": [
    "In the 21st century, recommender systems have proven to be socially and economically critical in the optimization of decision making around daily tasks. The notion is to create a seamless process that increases the chance of going with the best choice in every scenario. The application of recommender system is pronounced in email spam classification and movie title selections. In this project, the goal is to develop a model that can help viewers get the best title from thousands of movie titles.  \n",
    "\n",
    "The key objectives of the project include:\n",
    "* Develop a recommendation algorithm based on content or collaborative filtering. \n",
    "* The model predict how an individual will rate a movie based on historical movie selection patterns.\n",
    "* The model should demonstrate the potential to be applied to create an economically robust system that enables users to have a personalized recommendaation system for a daily use. "
   ]
  },
  {
   "cell_type": "markdown",
   "metadata": {},
   "source": [
    "## Comet API"
   ]
  },
  {
   "cell_type": "markdown",
   "metadata": {},
   "source": [
    "Comet is a version control system for machine learning models. Each project is made of experiments that keep record of all the libraries and actions taken to get to the final model. "
   ]
  },
  {
   "cell_type": "code",
   "execution_count": 1,
   "metadata": {},
   "outputs": [
    {
     "name": "stderr",
     "output_type": "stream",
     "text": [
      "COMET WARNING: As you are running in a Jupyter environment, you will need to call `experiment.end()` when finished to ensure all metrics and code are logged before exiting.\n",
      "COMET INFO: Experiment is live on comet.ml https://www.comet.ml/jakam/movie-recommender/96f8a94e0c0c499ca855c1bae991b792\n",
      "\n"
     ]
    }
   ],
   "source": [
    "# import comet_ml at the top of your file\n",
    "from comet_ml import Experiment\n",
    "\n",
    "# Create an experiment with your api key\n",
    "experiment = Experiment(\n",
    "    api_key=\"pRMxFxeNwUPYOyNGu3BPn91GY\",\n",
    "    project_name=\"movie-recommender\",\n",
    "    workspace=\"jakam\",\n",
    ")"
   ]
  },
  {
   "cell_type": "markdown",
   "metadata": {},
   "source": [
    "## Importing Packages"
   ]
  },
  {
   "cell_type": "code",
   "execution_count": 2,
   "metadata": {},
   "outputs": [],
   "source": [
    "# Standard Libraries\n",
    "import pandas as pd\n",
    "import numpy as np\n",
    "import matplotlib.pyplot as plt\n",
    "import matplotlib.style as style\n",
    "import seaborn as sns\n",
    "%matplotlib inline\n",
    "from datetime import datetime\n",
    "import re\n",
    "#import preprocessor as p\n",
    "\n",
    "import surprise\n",
    "from sklearn.metrics.pairwise import cosine_similarity \n",
    "from sklearn.feature_extraction.text import TfidfVectorizer\n",
    "from surprise import Dataset\n",
    "from surprise import Reader\n",
    "\n",
    "# Libraries used during sorting procedures.\n",
    "import operator # <-- Convienient item retrieval during iteration \n",
    "import heapq # <-- Efficient sorting of large lists\n",
    "\n",
    "\n",
    "import warnings\n",
    "warnings.filterwarnings('ignore')"
   ]
  },
  {
   "cell_type": "markdown",
   "metadata": {},
   "source": [
    "## Loading Data"
   ]
  },
  {
   "cell_type": "markdown",
   "metadata": {},
   "source": [
    "The project utilises a special version of MovieLens dataset, which has been enriched with additional data and resampled for fair evaluation purposes. \n",
    "\n",
    "**Data Source**<br>\n",
    "The data is maintained by GroupLens research group in the Department of Computer Science and Engineering at the University of Minnesota. The additional data content was legally scraped from [IMDB](https://www.imdb.com/).\n",
    "\n",
    "**Provided Files**\n",
    "* genome_scores.csv - a score mapping the strength between movies and tag-related properties. Read more here\n",
    "* genome_tags.csv - user assigned tags for genome-related scores\n",
    "* imdb_data.csv - Additional movie metadata scraped from IMDB using the links.csv file.\n",
    "* links.csv - File providing a mapping between a MovieLens ID and associated IMDB and TMDB IDs.\n",
    "* sample_submission.csv - Sample of the submission format for the hackathon.\n",
    "* tags.csv - User assigned for the movies within the dataset.\n",
    "* test.csv - The test split of the dataset. Contains user and movie IDs with no rating data.\n",
    "* train.csv - The training split of the dataset. Contains user and movie IDs with associated rating data.\n",
    "<br>"
   ]
  },
  {
   "cell_type": "code",
   "execution_count": 5,
   "metadata": {},
   "outputs": [],
   "source": [
    "df_train=pd.read_csv('data/train.csv')\n",
    "df_test=pd.read_csv('data/test.csv')\n",
    "df_tag=pd.read_csv('data/tags.csv')\n",
    "df_movies=pd.read_csv('data/movies.csv')\n",
    "df_links=pd.read_csv('data/links.csv')\n",
    "df_imdb=pd.read_csv('data/imdb_data.csv')\n",
    "df_genome_tags=pd.read_csv('data/genome_tags.csv')\n",
    "df_genome_scores=pd.read_csv('data/genome_scores.csv')"
   ]
  },
  {
   "cell_type": "markdown",
   "metadata": {},
   "source": [
    "All the required for the analysis has been loaded in preparation for preview and exploratoray analysis. "
   ]
  },
  {
   "cell_type": "code",
   "execution_count": 7,
   "metadata": {},
   "outputs": [
    {
     "data": {
      "text/html": [
       "<div>\n",
       "<style scoped>\n",
       "    .dataframe tbody tr th:only-of-type {\n",
       "        vertical-align: middle;\n",
       "    }\n",
       "\n",
       "    .dataframe tbody tr th {\n",
       "        vertical-align: top;\n",
       "    }\n",
       "\n",
       "    .dataframe thead th {\n",
       "        text-align: right;\n",
       "    }\n",
       "</style>\n",
       "<table border=\"1\" class=\"dataframe\">\n",
       "  <thead>\n",
       "    <tr style=\"text-align: right;\">\n",
       "      <th></th>\n",
       "      <th>userId</th>\n",
       "      <th>movieId</th>\n",
       "      <th>rating</th>\n",
       "      <th>timestamp</th>\n",
       "    </tr>\n",
       "  </thead>\n",
       "  <tbody>\n",
       "    <tr>\n",
       "      <th>0</th>\n",
       "      <td>5163</td>\n",
       "      <td>57669</td>\n",
       "      <td>4.0</td>\n",
       "      <td>1518349992</td>\n",
       "    </tr>\n",
       "    <tr>\n",
       "      <th>1</th>\n",
       "      <td>106343</td>\n",
       "      <td>5</td>\n",
       "      <td>4.5</td>\n",
       "      <td>1206238739</td>\n",
       "    </tr>\n",
       "    <tr>\n",
       "      <th>2</th>\n",
       "      <td>146790</td>\n",
       "      <td>5459</td>\n",
       "      <td>5.0</td>\n",
       "      <td>1076215539</td>\n",
       "    </tr>\n",
       "    <tr>\n",
       "      <th>3</th>\n",
       "      <td>106362</td>\n",
       "      <td>32296</td>\n",
       "      <td>2.0</td>\n",
       "      <td>1423042565</td>\n",
       "    </tr>\n",
       "    <tr>\n",
       "      <th>4</th>\n",
       "      <td>9041</td>\n",
       "      <td>366</td>\n",
       "      <td>3.0</td>\n",
       "      <td>833375837</td>\n",
       "    </tr>\n",
       "    <tr>\n",
       "      <th>5</th>\n",
       "      <td>120949</td>\n",
       "      <td>81768</td>\n",
       "      <td>3.0</td>\n",
       "      <td>1289595242</td>\n",
       "    </tr>\n",
       "    <tr>\n",
       "      <th>6</th>\n",
       "      <td>19630</td>\n",
       "      <td>62049</td>\n",
       "      <td>4.0</td>\n",
       "      <td>1246729817</td>\n",
       "    </tr>\n",
       "    <tr>\n",
       "      <th>7</th>\n",
       "      <td>21066</td>\n",
       "      <td>2282</td>\n",
       "      <td>1.0</td>\n",
       "      <td>945785907</td>\n",
       "    </tr>\n",
       "    <tr>\n",
       "      <th>8</th>\n",
       "      <td>117563</td>\n",
       "      <td>120474</td>\n",
       "      <td>4.0</td>\n",
       "      <td>1515108225</td>\n",
       "    </tr>\n",
       "    <tr>\n",
       "      <th>9</th>\n",
       "      <td>144018</td>\n",
       "      <td>1997</td>\n",
       "      <td>5.0</td>\n",
       "      <td>1109967647</td>\n",
       "    </tr>\n",
       "  </tbody>\n",
       "</table>\n",
       "</div>"
      ],
      "text/plain": [
       "   userId  movieId  rating   timestamp\n",
       "0    5163    57669     4.0  1518349992\n",
       "1  106343        5     4.5  1206238739\n",
       "2  146790     5459     5.0  1076215539\n",
       "3  106362    32296     2.0  1423042565\n",
       "4    9041      366     3.0   833375837\n",
       "5  120949    81768     3.0  1289595242\n",
       "6   19630    62049     4.0  1246729817\n",
       "7   21066     2282     1.0   945785907\n",
       "8  117563   120474     4.0  1515108225\n",
       "9  144018     1997     5.0  1109967647"
      ]
     },
     "execution_count": 7,
     "metadata": {},
     "output_type": "execute_result"
    }
   ],
   "source": [
    "# Preview train data\n",
    "df_train.head(10)"
   ]
  },
  {
   "cell_type": "markdown",
   "metadata": {},
   "source": [
    "### End Experiment"
   ]
  },
  {
   "cell_type": "code",
   "execution_count": null,
   "metadata": {},
   "outputs": [],
   "source": [
    "#experiment.end()"
   ]
  }
 ],
 "metadata": {
  "interpreter": {
   "hash": "81fe51bcc5d661a372a4fe8322017ed59d9fda67885002f804bb9ccf8a5028be"
  },
  "kernelspec": {
   "display_name": "Python 3 (ipykernel)",
   "language": "python",
   "name": "python3"
  },
  "language_info": {
   "codemirror_mode": {
    "name": "ipython",
    "version": 3
   },
   "file_extension": ".py",
   "mimetype": "text/x-python",
   "name": "python",
   "nbconvert_exporter": "python",
   "pygments_lexer": "ipython3",
   "version": "3.9.12"
  }
 },
 "nbformat": 4,
 "nbformat_minor": 4
}
