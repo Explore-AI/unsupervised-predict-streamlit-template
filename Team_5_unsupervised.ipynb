{
  "nbformat": 4,
  "nbformat_minor": 0,
  "metadata": {
    "colab": {
      "name": "Team_5_unsupervised.ipynb",
      "provenance": []
    },
    "kernelspec": {
      "name": "python3",
      "display_name": "Python 3"
    }
  },
  "cells": [
    {
      "cell_type": "code",
      "metadata": {
        "colab": {
          "base_uri": "https://localhost:8080/"
        },
        "id": "vbcW2MoiFukx",
        "outputId": "800c2815-c85d-4ae0-bbb7-168f999eb27e"
      },
      "source": [
        "pip install comet_ml"
      ],
      "execution_count": 2,
      "outputs": [
        {
          "output_type": "stream",
          "text": [
            "Collecting comet_ml\n",
            "\u001b[?25l  Downloading https://files.pythonhosted.org/packages/e0/77/d333f6654bea1877606d7bc02835877148cddfc5ea2d7710c4d40e45eb09/comet_ml-3.2.6-py2.py3-none-any.whl (234kB)\n",
            "\r\u001b[K     |█▍                              | 10kB 12.9MB/s eta 0:00:01\r\u001b[K     |██▉                             | 20kB 18.2MB/s eta 0:00:01\r\u001b[K     |████▏                           | 30kB 9.5MB/s eta 0:00:01\r\u001b[K     |█████▋                          | 40kB 7.9MB/s eta 0:00:01\r\u001b[K     |███████                         | 51kB 4.5MB/s eta 0:00:01\r\u001b[K     |████████▍                       | 61kB 4.3MB/s eta 0:00:01\r\u001b[K     |█████████▊                      | 71kB 4.8MB/s eta 0:00:01\r\u001b[K     |███████████▏                    | 81kB 5.2MB/s eta 0:00:01\r\u001b[K     |████████████▋                   | 92kB 5.0MB/s eta 0:00:01\r\u001b[K     |██████████████                  | 102kB 5.4MB/s eta 0:00:01\r\u001b[K     |███████████████▍                | 112kB 5.4MB/s eta 0:00:01\r\u001b[K     |████████████████▊               | 122kB 5.4MB/s eta 0:00:01\r\u001b[K     |██████████████████▏             | 133kB 5.4MB/s eta 0:00:01\r\u001b[K     |███████████████████▌            | 143kB 5.4MB/s eta 0:00:01\r\u001b[K     |█████████████████████           | 153kB 5.4MB/s eta 0:00:01\r\u001b[K     |██████████████████████▍         | 163kB 5.4MB/s eta 0:00:01\r\u001b[K     |███████████████████████▊        | 174kB 5.4MB/s eta 0:00:01\r\u001b[K     |█████████████████████████▏      | 184kB 5.4MB/s eta 0:00:01\r\u001b[K     |██████████████████████████▌     | 194kB 5.4MB/s eta 0:00:01\r\u001b[K     |████████████████████████████    | 204kB 5.4MB/s eta 0:00:01\r\u001b[K     |█████████████████████████████▎  | 215kB 5.4MB/s eta 0:00:01\r\u001b[K     |██████████████████████████████▊ | 225kB 5.4MB/s eta 0:00:01\r\u001b[K     |████████████████████████████████| 235kB 5.4MB/s \n",
            "\u001b[?25hCollecting netifaces>=0.10.7\n",
            "  Downloading https://files.pythonhosted.org/packages/0c/9b/c4c7eb09189548d45939a3d3a6b3d53979c67d124459b27a094c365c347f/netifaces-0.10.9-cp36-cp36m-manylinux1_x86_64.whl\n",
            "Requirement already satisfied: wrapt>=1.11.2 in /usr/local/lib/python3.6/dist-packages (from comet_ml) (1.12.1)\n",
            "Collecting everett[ini]>=1.0.1; python_version >= \"3.0\"\n",
            "  Downloading https://files.pythonhosted.org/packages/fe/dc/38593280ec30fe1cb2611ec65554b76b68d13582bf490113e3332cdd85ea/everett-1.0.3-py2.py3-none-any.whl\n",
            "Collecting websocket-client>=0.55.0\n",
            "\u001b[?25l  Downloading https://files.pythonhosted.org/packages/4c/5f/f61b420143ed1c8dc69f9eaec5ff1ac36109d52c80de49d66e0c36c3dfdf/websocket_client-0.57.0-py2.py3-none-any.whl (200kB)\n",
            "\u001b[K     |████████████████████████████████| 204kB 14.1MB/s \n",
            "\u001b[?25hRequirement already satisfied: jsonschema!=3.1.0,>=2.6.0 in /usr/local/lib/python3.6/dist-packages (from comet_ml) (2.6.0)\n",
            "Requirement already satisfied: six in /usr/local/lib/python3.6/dist-packages (from comet_ml) (1.15.0)\n",
            "Collecting wurlitzer>=1.0.2\n",
            "  Downloading https://files.pythonhosted.org/packages/0c/1e/52f4effa64a447c4ec0fb71222799e2ac32c55b4b6c1725fccdf6123146e/wurlitzer-2.0.1-py2.py3-none-any.whl\n",
            "Requirement already satisfied: nvidia-ml-py3>=7.352.0 in /usr/local/lib/python3.6/dist-packages (from comet_ml) (7.352.0)\n",
            "Requirement already satisfied: requests>=2.18.4 in /usr/local/lib/python3.6/dist-packages (from comet_ml) (2.23.0)\n",
            "Collecting dulwich>=0.20.6; python_version >= \"3.0\"\n",
            "\u001b[?25l  Downloading https://files.pythonhosted.org/packages/96/49/70713d919a5b28933fbb15f230ef3fedfbe835659a2a3a3088539b389d92/dulwich-0.20.13-cp36-cp36m-manylinux2010_x86_64.whl (501kB)\n",
            "\u001b[K     |████████████████████████████████| 501kB 14.8MB/s \n",
            "\u001b[?25hCollecting configobj; extra == \"ini\"\n",
            "  Downloading https://files.pythonhosted.org/packages/64/61/079eb60459c44929e684fa7d9e2fdca403f67d64dd9dbac27296be2e0fab/configobj-5.0.6.tar.gz\n",
            "Requirement already satisfied: certifi>=2017.4.17 in /usr/local/lib/python3.6/dist-packages (from requests>=2.18.4->comet_ml) (2020.11.8)\n",
            "Requirement already satisfied: urllib3!=1.25.0,!=1.25.1,<1.26,>=1.21.1 in /usr/local/lib/python3.6/dist-packages (from requests>=2.18.4->comet_ml) (1.24.3)\n",
            "Requirement already satisfied: chardet<4,>=3.0.2 in /usr/local/lib/python3.6/dist-packages (from requests>=2.18.4->comet_ml) (3.0.4)\n",
            "Requirement already satisfied: idna<3,>=2.5 in /usr/local/lib/python3.6/dist-packages (from requests>=2.18.4->comet_ml) (2.10)\n",
            "Building wheels for collected packages: configobj\n",
            "  Building wheel for configobj (setup.py) ... \u001b[?25l\u001b[?25hdone\n",
            "  Created wheel for configobj: filename=configobj-5.0.6-cp36-none-any.whl size=34547 sha256=f9993cfb94a16afe69d89f7e0b39212efa82938ca797da0e54d9e8f901d883ae\n",
            "  Stored in directory: /root/.cache/pip/wheels/f1/e4/16/4981ca97c2d65106b49861e0b35e2660695be7219a2d351ee0\n",
            "Successfully built configobj\n",
            "Installing collected packages: netifaces, configobj, everett, websocket-client, wurlitzer, dulwich, comet-ml\n",
            "Successfully installed comet-ml-3.2.6 configobj-5.0.6 dulwich-0.20.13 everett-1.0.3 netifaces-0.10.9 websocket-client-0.57.0 wurlitzer-2.0.1\n"
          ],
          "name": "stdout"
        }
      ]
    },
    {
      "cell_type": "code",
      "metadata": {
        "colab": {
          "base_uri": "https://localhost:8080/"
        },
        "id": "k12NSvsuF8io",
        "outputId": "9496bca9-04e4-468c-a74f-7c13c10ff0de"
      },
      "source": [
        "# import comet_ml at the top of your file\n",
        "from comet_ml import Experiment\n",
        "\n",
        "# Create an experiment with your api key:\n",
        "experiment = Experiment(\n",
        "    api_key=\"ZBRB8H2ncCGZsUoS6CqVIAr0y\",\n",
        "    project_name=\"general\",\n",
        "    workspace=\"knetshiongolwe\",\n",
        ")\n",
        "\n",
        "# Run your code and go to https://www.comet.ml/"
      ],
      "execution_count": 3,
      "outputs": [
        {
          "output_type": "stream",
          "text": [
            "COMET INFO: Experiment is live on comet.ml https://www.comet.ml/knetshiongolwe/general/233997f6dacd44e297d4196ec113d0f8\n",
            "\n"
          ],
          "name": "stderr"
        }
      ]
    },
    {
      "cell_type": "code",
      "metadata": {
        "id": "ihHxNMCDGEq9"
      },
      "source": [
        ""
      ],
      "execution_count": null,
      "outputs": []
    }
  ]
}