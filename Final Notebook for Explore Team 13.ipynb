{
 "cells": [
  {
   "cell_type": "markdown",
   "metadata": {
    "id": "Qzm7f0VT25n-"
   },
   "source": [
    "# Movie Recommender System - Thirteen Analytics Consulting\n",
    "\n",
    "© Explore Data Science Academy\n",
    "\n",
    "---"
   ]
  },
  {
   "cell_type": "markdown",
   "metadata": {
    "id": "1h_zyyUF3CrL"
   },
   "source": [
    "<img alt=\"Movie recommendations\" src=\"https://github.com/Explore-AI/unsupervised-predict-streamlit-template/raw/master/resources/imgs/Image_header.png\">"
   ]
  },
  {
   "cell_type": "markdown",
   "metadata": {
    "id": "PciuUiEd3PDM"
   },
   "source": [
    "### Project Overview: Movie Recommendation\n",
    "\n",
    "In today’s technology driven world, recommender systems are socially and economically critical to ensure that individuals can make optimised choices surrounding the content they engage with on a daily basis. One application where this is especially true is movie recommendations; where intelligent algorithms can help viewers find great titles from tens of thousands of options.\n",
    "\n",
    "Providing an accurate and robust solution to this challenge has immense economic potential, with users of the system being personalised recommendations - generating platform affinity for the streaming services which best facilitates their audience's viewing.\n",
    "\n",
    "With this in mind **Thirteen Analytics** is tasked to construct a recommendation algorithm based on content or collaborative filtering, capable of accurately predicting how a user will rate a movie they have not yet viewed, based on their historical preferences.\n"
   ]
  },
  {
   "cell_type": "markdown",
   "metadata": {
    "id": "0ut-4UXD3S5p"
   },
   "source": [
    "<a id=\"cont\"></a>\n",
    "\n",
    "## Table of Contents\n",
    "\n",
    "<a href=#one>1. Introduction</a>\n",
    "\n",
    "<a href=#two>2. Comet Experiment</a>\n",
    "\n",
    "<a href=#three>3. Importing Packages</a>\n",
    "\n",
    "<a href=#four>4. Loading Data</a>\n",
    "\n",
    "<a href=#five>5. Exploratory Data Analysis (Pre-Data Processing)</a>\n",
    "\n",
    "<a href=#six>6. Feature Engineering</a>\n",
    "\n",
    "<a href=#seven>7. Exploratory Data Analysis (Post-Data Processing)</a>\n",
    "\n",
    "<a href=#eight>8. Modeling and Model Performance</a>"
   ]
  },
  {
   "cell_type": "markdown",
   "metadata": {
    "id": "bLw7KQtP3ev5"
   },
   "source": [
    " <a id=\"one\"></a>\n",
    "## 1. Introduction\n",
    "<a href=#cont>Back to Table of Contents</a>\n",
    "### Movie Recommender System\n",
    "In today’s technology driven world, recommender systems are socially and economically critical to ensure that individuals can make optimised choices surrounding the content they engage with on a daily basis. One application where this is especially true is movie recommendations; where intelligent algorithms can help viewers find great titles from tens of thousands of options.\n",
    "\n",
    "The key objectives of the project include:\n",
    "* Develop a recommendation algorithm based on content or collaborative filtering. \n",
    "* The model predict how an individual will rate a movie based on historical movie selection patterns.\n",
    "* The model should demonstrate the potential to be applied to create an economically robust system that enables users to have a personalized recommendaation system for a daily use. "
   ]
  },
  {
   "cell_type": "markdown",
   "metadata": {
    "id": "CefK6hpJ3kyN"
   },
   "source": [
    "<a id=\"two\"></a>\n",
    "## 2. Comet Experiment\n",
    "<a href=#cont>Back to Table of Contents</a>\n",
    "\n",
    "Below is a cell to capture our experiement and post our progress on the version control platform, Comet."
   ]
  },
  {
   "cell_type": "code",
   "execution_count": 1,
   "metadata": {
    "colab": {
     "base_uri": "https://localhost:8080/",
     "height": 374
    },
    "id": "ZjNuHhOF4Hst",
    "outputId": "bb67d635-612f-4dfb-cea5-3f23086ae35c"
   },
   "outputs": [
    {
     "name": "stderr",
     "output_type": "stream",
     "text": [
      "COMET WARNING: As you are running in a Jupyter environment, you will need to call `experiment.end()` when finished to ensure all metrics and code are logged before exiting.\n",
      "COMET INFO: Experiment is live on comet.ml https://www.comet.ml/jakam/movie-recommender/9308c0a35e254a64b76f906200729cf2\n",
      "\n"
     ]
    }
   ],
   "source": [
    "from comet_ml import Experiment\n",
    "\n",
    "# # Create an experiment with your api key\n",
    "# experiment = Experiment(\n",
    "#  api_key=\"0WPX5QrkfJHeQjc6pbEbzT9fz\",\n",
    "#   project_name=\"general\",\n",
    "#   workspace=\"oladotun-jonibola\",)\n",
    "\n",
    "\n",
    "# Create an experiment with your api key\n",
    "experiment = Experiment(\n",
    "    api_key=\"pRMxFxeNwUPYOyNGu3BPn91GY\",\n",
    "    project_name=\"movie-recommender\",\n",
    "    workspace=\"jakam\",\n",
    ")\n"
   ]
  },
  {
   "cell_type": "markdown",
   "metadata": {
    "id": "7nq076V-32OU"
   },
   "source": [
    "<a id=\"three\"></a>\n",
    "## 3. Importing Packages\n",
    "<a href=#cont>Back to Table of Contents</a>\n",
    "---"
   ]
  },
  {
   "cell_type": "code",
   "execution_count": 2,
   "metadata": {
    "id": "pafL7Li0jyXW"
   },
   "outputs": [],
   "source": [
    "import pandas as pd\n",
    "import numpy as np\n",
    "import matplotlib.pyplot as plt\n",
    "import matplotlib.style as style\n",
    "import seaborn as sns\n",
    "%matplotlib inline\n",
    "from datetime import datetime\n",
    "\n",
    "\n",
    "#libraries to preprocess data\n",
    "import nltk\n",
    "import itertools\n",
    "from nltk.corpus import stopwords\n",
    "import string\n",
    "from tqdm.auto import tqdm\n",
    "from sklearn.metrics.pairwise import cosine_similarity \n",
    "from sklearn.feature_extraction.text import TfidfVectorizer\n",
    "\n",
    " \n",
    "from sklearn.model_selection import train_test_split\n",
    "# Building classification models\n",
    "from sklearn.svm import LinearSVC\n",
    "from sklearn.pipeline import Pipeline\n",
    "from sklearn.naive_bayes import MultinomialNB\n",
    "from sklearn.neighbors import KNeighborsClassifier\n",
    "from sklearn.ensemble import RandomForestClassifier\n",
    "from sklearn.linear_model import LogisticRegression\n",
    "from surprise import Dataset\n",
    "from surprise import Reader\n",
    "from surprise import accuracy\n",
    "from surprise import SVD\n",
    "from surprise import KNNWithMeans\n",
    "from surprise.model_selection import cross_validate\n",
    "\n",
    "# Model evaluation\n",
    "from sklearn import metrics\n",
    "from sklearn.metrics import classification_report, confusion_matrix, f1_score, precision_score, recall_score\n",
    "from surprise import Reader\n",
    "from surprise import Dataset\n",
    "from surprise import KNNWithMeans\n",
    "from surprise import KNNBasic\n",
    "from surprise.model_selection import cross_validate\n",
    "from surprise.model_selection import GridSearchCV\n",
    "from surprise import SVD\n",
    "from surprise import SVDpp\n",
    "from surprise import NMF\n",
    "from surprise import SlopeOne\n",
    "from surprise import CoClustering\n",
    "from sklearn.neighbors import  NearestNeighbors\n",
    "import heapq\n",
    "\n",
    "# Packages for model evaluation\n",
    "from sklearn.metrics import mean_squared_error\n",
    "from sklearn.metrics import mean_absolute_error\n",
    "from time import time\n",
    "\n",
    "# Packages for saving models\n",
    "import pickle\n",
    "\n",
    "# Libraries used during sorting procedures.\n",
    "import operator # <-- Convienient item retrieval during iteration \n",
    "import heapq # <-- Efficient sorting of large lists\n",
    "\n",
    "# Package to suppress warnings\n",
    "import warnings\n",
    "warnings.filterwarnings('ignore')"
   ]
  },
  {
   "cell_type": "markdown",
   "metadata": {
    "id": "1AL9cINb4cn0"
   },
   "source": [
    "<a id=\"four\"></a>\n",
    "## 4. Loading the Data\n",
    "<a class=\"anchor\" id=\"1.1\"></a>\n",
    "<a href=#cont>Back to Table of Contents</a>"
   ]
  },
  {
   "cell_type": "markdown",
   "metadata": {
    "id": "l_nH_cZe4gSz"
   },
   "source": [
    "The project utilises a special version of MovieLens dataset, which has been enriched with additional data and resampled for fair evaluation purposes. \n",
    "\n",
    "**Data Source**<br>\n",
    "The data is maintained by GroupLens research group in the Department of Computer Science and Engineering at the University of Minnesota. The additional data content was legally scraped from [IMDB](https://www.imdb.com/).\n",
    "\n",
    "**Provided Files**\n",
    "* genome_scores.csv - a score mapping the strength between movies and tag-related properties. Read more here\n",
    "* genome_tags.csv - user assigned tags for genome-related scores\n",
    "* imdb_data.csv - Additional movie metadata scraped from IMDB using the links.csv file.\n",
    "* links.csv - File providing a mapping between a MovieLens ID and associated IMDB and TMDB IDs.\n",
    "* sample_submission.csv - Sample of the submission format for the hackathon.\n",
    "* tags.csv - User assigned for the movies within the dataset.\n",
    "* test.csv - The test split of the dataset. Contains user and movie IDs with no rating data.\n",
    "* train.csv - The training split of the dataset. Contains user and movie IDs with associated rating data.\n",
    "<br>\n",
    "\n"
   ]
  },
  {
   "cell_type": "code",
   "execution_count": 3,
   "metadata": {
    "id": "YrP_bKrPLYdA"
   },
   "outputs": [],
   "source": [
    "df_train=pd.read_csv('data/train.csv')\n",
    "df_imdb=pd.read_csv('data/imdb_data.csv')\n",
    "df_links=pd.read_csv('data/links.csv')\n",
    "df_movies=pd.read_csv('data/movies.csv')\n",
    "df_tags=pd.read_csv('data/tags.csv')\n",
    "df_test=pd.read_csv('data/test.csv')"
   ]
  },
  {
   "cell_type": "markdown",
   "metadata": {
    "id": "UiqNkopW4m_d"
   },
   "source": [
    "<a id=\"five\"></a>\n",
    "## 5. Exploratory Data Analysis (Pre-Data Processing)\n",
    "<a class=\"anchor\" id=\"1.1\"></a>\n",
    "<a href=#cont>Back to Table of Contents</a>\n",
    "\n",
    "---"
   ]
  },
  {
   "cell_type": "markdown",
   "metadata": {
    "id": "jbM4QsjT4uQR"
   },
   "source": [
    "Exploratory Data Analysis (EDA) is an opportunity to analyze and investigate data sets and summarise the main characteristics. In most cases, it is characterized by the use of data visualization methods because of the effectiveness of plots in showing patterns and shapes. EDA is paramount because it has a direct impact on the quality of the final model. The EDA process is an opportunity to understand the data, which turn guides the decisions made during feature engineering, which is basically the manipulation of data to get it ready for modelling. EDA ensures that one selects appropriate statistical techniques for the provided data. <br>\n",
    "In some instances, Data Scientists use EDA  to ensure the results produced are valid and applicable to the targeted business outcomes. In this project, EDA aids in understanding the content and patterns in all the datasets provided, which in turn guides the decision about how to combine the datasets in preparation for model training."
   ]
  },
  {
   "cell_type": "markdown",
   "metadata": {
    "id": "XhsaJYT841kd"
   },
   "source": [
    "In the following section, we preview the train file that has user and movie IDs and the associated user rating. "
   ]
  },
  {
   "cell_type": "code",
   "execution_count": 4,
   "metadata": {
    "colab": {
     "base_uri": "https://localhost:8080/",
     "height": 206
    },
    "id": "zjIO-CQf45Tm",
    "outputId": "578d5310-bfd9-4a8c-8966-3dcf19af2239"
   },
   "outputs": [
    {
     "data": {
      "text/html": [
       "<div>\n",
       "<style scoped>\n",
       "    .dataframe tbody tr th:only-of-type {\n",
       "        vertical-align: middle;\n",
       "    }\n",
       "\n",
       "    .dataframe tbody tr th {\n",
       "        vertical-align: top;\n",
       "    }\n",
       "\n",
       "    .dataframe thead th {\n",
       "        text-align: right;\n",
       "    }\n",
       "</style>\n",
       "<table border=\"1\" class=\"dataframe\">\n",
       "  <thead>\n",
       "    <tr style=\"text-align: right;\">\n",
       "      <th></th>\n",
       "      <th>userId</th>\n",
       "      <th>movieId</th>\n",
       "      <th>rating</th>\n",
       "      <th>timestamp</th>\n",
       "    </tr>\n",
       "  </thead>\n",
       "  <tbody>\n",
       "    <tr>\n",
       "      <th>0</th>\n",
       "      <td>5163</td>\n",
       "      <td>57669</td>\n",
       "      <td>4.0</td>\n",
       "      <td>1518349992</td>\n",
       "    </tr>\n",
       "    <tr>\n",
       "      <th>1</th>\n",
       "      <td>106343</td>\n",
       "      <td>5</td>\n",
       "      <td>4.5</td>\n",
       "      <td>1206238739</td>\n",
       "    </tr>\n",
       "    <tr>\n",
       "      <th>2</th>\n",
       "      <td>146790</td>\n",
       "      <td>5459</td>\n",
       "      <td>5.0</td>\n",
       "      <td>1076215539</td>\n",
       "    </tr>\n",
       "    <tr>\n",
       "      <th>3</th>\n",
       "      <td>106362</td>\n",
       "      <td>32296</td>\n",
       "      <td>2.0</td>\n",
       "      <td>1423042565</td>\n",
       "    </tr>\n",
       "    <tr>\n",
       "      <th>4</th>\n",
       "      <td>9041</td>\n",
       "      <td>366</td>\n",
       "      <td>3.0</td>\n",
       "      <td>833375837</td>\n",
       "    </tr>\n",
       "  </tbody>\n",
       "</table>\n",
       "</div>"
      ],
      "text/plain": [
       "   userId  movieId  rating   timestamp\n",
       "0    5163    57669     4.0  1518349992\n",
       "1  106343        5     4.5  1206238739\n",
       "2  146790     5459     5.0  1076215539\n",
       "3  106362    32296     2.0  1423042565\n",
       "4    9041      366     3.0   833375837"
      ]
     },
     "execution_count": 4,
     "metadata": {},
     "output_type": "execute_result"
    }
   ],
   "source": [
    "# Preview Train Data\n",
    "\n",
    "df_train.head()"
   ]
  },
  {
   "cell_type": "markdown",
   "metadata": {
    "id": "BJpaKEnT5I03"
   },
   "source": [
    "The train dataframe contains userid, movieid, rating and the timestamp associated with each rating. According to MovieLens, the timestamps represent seconds since midnight Coordinated Universal Time(UTC) of January 1970."
   ]
  },
  {
   "cell_type": "code",
   "execution_count": 5,
   "metadata": {
    "colab": {
     "base_uri": "https://localhost:8080/"
    },
    "id": "vrrhjREH5RVh",
    "outputId": "4715c73a-7c96-483f-c674-48af7877c44b"
   },
   "outputs": [
    {
     "name": "stdout",
     "output_type": "stream",
     "text": [
      "<class 'pandas.core.frame.DataFrame'>\n",
      "RangeIndex: 10000038 entries, 0 to 10000037\n",
      "Data columns (total 4 columns):\n",
      " #   Column     Dtype  \n",
      "---  ------     -----  \n",
      " 0   userId     int64  \n",
      " 1   movieId    int64  \n",
      " 2   rating     float64\n",
      " 3   timestamp  int64  \n",
      "dtypes: float64(1), int64(3)\n",
      "memory usage: 305.2 MB\n"
     ]
    }
   ],
   "source": [
    "# Check Train Data Information\n",
    "\n",
    "df_train.info()"
   ]
  },
  {
   "cell_type": "markdown",
   "metadata": {
    "id": "V5Xi0d--5W23"
   },
   "source": [
    "**Observations:** \n",
    "1. There are 10000038 rows and 4 columns.\n",
    "2. The data types consist of 3 integer and 1 float data type\n",
    "3. The size of the data is 305.2 MB\n",
    "4. The date is in timestamp, this would be converted to data time during feature engineering."
   ]
  },
  {
   "cell_type": "markdown",
   "metadata": {
    "id": "p7WSwFc05Wr2"
   },
   "source": [
    "The Movies Data file provides information about movie title and genres. In the following cell, the dataset is previewed to facilitate a deeper understanding of the provided datasets."
   ]
  },
  {
   "cell_type": "code",
   "execution_count": 6,
   "metadata": {
    "colab": {
     "base_uri": "https://localhost:8080/",
     "height": 206
    },
    "id": "73mLrpzx5jde",
    "outputId": "1b9354ec-0ff9-40dd-c30e-9cf0a9f2efd6"
   },
   "outputs": [
    {
     "data": {
      "text/html": [
       "<div>\n",
       "<style scoped>\n",
       "    .dataframe tbody tr th:only-of-type {\n",
       "        vertical-align: middle;\n",
       "    }\n",
       "\n",
       "    .dataframe tbody tr th {\n",
       "        vertical-align: top;\n",
       "    }\n",
       "\n",
       "    .dataframe thead th {\n",
       "        text-align: right;\n",
       "    }\n",
       "</style>\n",
       "<table border=\"1\" class=\"dataframe\">\n",
       "  <thead>\n",
       "    <tr style=\"text-align: right;\">\n",
       "      <th></th>\n",
       "      <th>movieId</th>\n",
       "      <th>title</th>\n",
       "      <th>genres</th>\n",
       "    </tr>\n",
       "  </thead>\n",
       "  <tbody>\n",
       "    <tr>\n",
       "      <th>0</th>\n",
       "      <td>1</td>\n",
       "      <td>Toy Story (1995)</td>\n",
       "      <td>Adventure|Animation|Children|Comedy|Fantasy</td>\n",
       "    </tr>\n",
       "    <tr>\n",
       "      <th>1</th>\n",
       "      <td>2</td>\n",
       "      <td>Jumanji (1995)</td>\n",
       "      <td>Adventure|Children|Fantasy</td>\n",
       "    </tr>\n",
       "    <tr>\n",
       "      <th>2</th>\n",
       "      <td>3</td>\n",
       "      <td>Grumpier Old Men (1995)</td>\n",
       "      <td>Comedy|Romance</td>\n",
       "    </tr>\n",
       "    <tr>\n",
       "      <th>3</th>\n",
       "      <td>4</td>\n",
       "      <td>Waiting to Exhale (1995)</td>\n",
       "      <td>Comedy|Drama|Romance</td>\n",
       "    </tr>\n",
       "    <tr>\n",
       "      <th>4</th>\n",
       "      <td>5</td>\n",
       "      <td>Father of the Bride Part II (1995)</td>\n",
       "      <td>Comedy</td>\n",
       "    </tr>\n",
       "  </tbody>\n",
       "</table>\n",
       "</div>"
      ],
      "text/plain": [
       "   movieId                               title  \\\n",
       "0        1                    Toy Story (1995)   \n",
       "1        2                      Jumanji (1995)   \n",
       "2        3             Grumpier Old Men (1995)   \n",
       "3        4            Waiting to Exhale (1995)   \n",
       "4        5  Father of the Bride Part II (1995)   \n",
       "\n",
       "                                        genres  \n",
       "0  Adventure|Animation|Children|Comedy|Fantasy  \n",
       "1                   Adventure|Children|Fantasy  \n",
       "2                               Comedy|Romance  \n",
       "3                         Comedy|Drama|Romance  \n",
       "4                                       Comedy  "
      ]
     },
     "execution_count": 6,
     "metadata": {},
     "output_type": "execute_result"
    }
   ],
   "source": [
    "# Previews Movies Data\n",
    "\n",
    "df_movies.head()"
   ]
  },
  {
   "cell_type": "code",
   "execution_count": 7,
   "metadata": {
    "colab": {
     "base_uri": "https://localhost:8080/"
    },
    "id": "-S_kLpQG5m_A",
    "outputId": "aefa5a00-0f03-4c35-f579-32f9b78fd56a"
   },
   "outputs": [
    {
     "name": "stdout",
     "output_type": "stream",
     "text": [
      "<class 'pandas.core.frame.DataFrame'>\n",
      "RangeIndex: 62423 entries, 0 to 62422\n",
      "Data columns (total 3 columns):\n",
      " #   Column   Non-Null Count  Dtype \n",
      "---  ------   --------------  ----- \n",
      " 0   movieId  62423 non-null  int64 \n",
      " 1   title    62423 non-null  object\n",
      " 2   genres   62423 non-null  object\n",
      "dtypes: int64(1), object(2)\n",
      "memory usage: 1.4+ MB\n"
     ]
    }
   ],
   "source": [
    "# Check movies file information\n",
    "\n",
    "df_movies.info()"
   ]
  },
  {
   "cell_type": "markdown",
   "metadata": {
    "id": "HE5D9H4o5u9B"
   },
   "source": [
    "**Observations:** \n",
    "\n",
    "1. There are 62423 rows and 3 columns.\n",
    "2. The data types consist of 1 interger and 2 object data type\n",
    "3. The size of the data is 1.4+ MB\n",
    "4. There are no null values."
   ]
  },
  {
   "cell_type": "code",
   "execution_count": 8,
   "metadata": {
    "colab": {
     "base_uri": "https://localhost:8080/",
     "height": 206
    },
    "id": "ySLtt6kk50Ma",
    "outputId": "99438deb-5795-4fc4-b6ca-bf53cee1458f"
   },
   "outputs": [
    {
     "data": {
      "text/html": [
       "<div>\n",
       "<style scoped>\n",
       "    .dataframe tbody tr th:only-of-type {\n",
       "        vertical-align: middle;\n",
       "    }\n",
       "\n",
       "    .dataframe tbody tr th {\n",
       "        vertical-align: top;\n",
       "    }\n",
       "\n",
       "    .dataframe thead th {\n",
       "        text-align: right;\n",
       "    }\n",
       "</style>\n",
       "<table border=\"1\" class=\"dataframe\">\n",
       "  <thead>\n",
       "    <tr style=\"text-align: right;\">\n",
       "      <th></th>\n",
       "      <th>userId</th>\n",
       "      <th>movieId</th>\n",
       "      <th>tag</th>\n",
       "      <th>timestamp</th>\n",
       "    </tr>\n",
       "  </thead>\n",
       "  <tbody>\n",
       "    <tr>\n",
       "      <th>0</th>\n",
       "      <td>3</td>\n",
       "      <td>260</td>\n",
       "      <td>classic</td>\n",
       "      <td>1439472355</td>\n",
       "    </tr>\n",
       "    <tr>\n",
       "      <th>1</th>\n",
       "      <td>3</td>\n",
       "      <td>260</td>\n",
       "      <td>sci-fi</td>\n",
       "      <td>1439472256</td>\n",
       "    </tr>\n",
       "    <tr>\n",
       "      <th>2</th>\n",
       "      <td>4</td>\n",
       "      <td>1732</td>\n",
       "      <td>dark comedy</td>\n",
       "      <td>1573943598</td>\n",
       "    </tr>\n",
       "    <tr>\n",
       "      <th>3</th>\n",
       "      <td>4</td>\n",
       "      <td>1732</td>\n",
       "      <td>great dialogue</td>\n",
       "      <td>1573943604</td>\n",
       "    </tr>\n",
       "    <tr>\n",
       "      <th>4</th>\n",
       "      <td>4</td>\n",
       "      <td>7569</td>\n",
       "      <td>so bad it's good</td>\n",
       "      <td>1573943455</td>\n",
       "    </tr>\n",
       "  </tbody>\n",
       "</table>\n",
       "</div>"
      ],
      "text/plain": [
       "   userId  movieId               tag   timestamp\n",
       "0       3      260           classic  1439472355\n",
       "1       3      260            sci-fi  1439472256\n",
       "2       4     1732       dark comedy  1573943598\n",
       "3       4     1732    great dialogue  1573943604\n",
       "4       4     7569  so bad it's good  1573943455"
      ]
     },
     "execution_count": 8,
     "metadata": {},
     "output_type": "execute_result"
    }
   ],
   "source": [
    "# Preview Tags Data\n",
    "\n",
    "df_tags.head()"
   ]
  },
  {
   "cell_type": "code",
   "execution_count": 9,
   "metadata": {
    "colab": {
     "base_uri": "https://localhost:8080/"
    },
    "id": "R4k79kDM56DH",
    "outputId": "90318b32-abd3-4eec-e6b3-196e5c019161"
   },
   "outputs": [
    {
     "name": "stdout",
     "output_type": "stream",
     "text": [
      "<class 'pandas.core.frame.DataFrame'>\n",
      "RangeIndex: 1093360 entries, 0 to 1093359\n",
      "Data columns (total 4 columns):\n",
      " #   Column     Non-Null Count    Dtype \n",
      "---  ------     --------------    ----- \n",
      " 0   userId     1093360 non-null  int64 \n",
      " 1   movieId    1093360 non-null  int64 \n",
      " 2   tag        1093344 non-null  object\n",
      " 3   timestamp  1093360 non-null  int64 \n",
      "dtypes: int64(3), object(1)\n",
      "memory usage: 33.4+ MB\n"
     ]
    }
   ],
   "source": [
    "# Check Tags Information\n",
    "\n",
    "df_tags.info()"
   ]
  },
  {
   "cell_type": "code",
   "execution_count": 10,
   "metadata": {
    "colab": {
     "base_uri": "https://localhost:8080/",
     "height": 206
    },
    "id": "h72qdhyb6CjJ",
    "outputId": "48c37ac5-b010-40d8-cac4-661d0c548683"
   },
   "outputs": [
    {
     "data": {
      "text/html": [
       "<div>\n",
       "<style scoped>\n",
       "    .dataframe tbody tr th:only-of-type {\n",
       "        vertical-align: middle;\n",
       "    }\n",
       "\n",
       "    .dataframe tbody tr th {\n",
       "        vertical-align: top;\n",
       "    }\n",
       "\n",
       "    .dataframe thead th {\n",
       "        text-align: right;\n",
       "    }\n",
       "</style>\n",
       "<table border=\"1\" class=\"dataframe\">\n",
       "  <thead>\n",
       "    <tr style=\"text-align: right;\">\n",
       "      <th></th>\n",
       "      <th>movieId</th>\n",
       "      <th>imdbId</th>\n",
       "      <th>tmdbId</th>\n",
       "    </tr>\n",
       "  </thead>\n",
       "  <tbody>\n",
       "    <tr>\n",
       "      <th>0</th>\n",
       "      <td>1</td>\n",
       "      <td>114709</td>\n",
       "      <td>862.0</td>\n",
       "    </tr>\n",
       "    <tr>\n",
       "      <th>1</th>\n",
       "      <td>2</td>\n",
       "      <td>113497</td>\n",
       "      <td>8844.0</td>\n",
       "    </tr>\n",
       "    <tr>\n",
       "      <th>2</th>\n",
       "      <td>3</td>\n",
       "      <td>113228</td>\n",
       "      <td>15602.0</td>\n",
       "    </tr>\n",
       "    <tr>\n",
       "      <th>3</th>\n",
       "      <td>4</td>\n",
       "      <td>114885</td>\n",
       "      <td>31357.0</td>\n",
       "    </tr>\n",
       "    <tr>\n",
       "      <th>4</th>\n",
       "      <td>5</td>\n",
       "      <td>113041</td>\n",
       "      <td>11862.0</td>\n",
       "    </tr>\n",
       "  </tbody>\n",
       "</table>\n",
       "</div>"
      ],
      "text/plain": [
       "   movieId  imdbId   tmdbId\n",
       "0        1  114709    862.0\n",
       "1        2  113497   8844.0\n",
       "2        3  113228  15602.0\n",
       "3        4  114885  31357.0\n",
       "4        5  113041  11862.0"
      ]
     },
     "execution_count": 10,
     "metadata": {},
     "output_type": "execute_result"
    }
   ],
   "source": [
    "# Preview Links file\n",
    "\n",
    "df_links.head()"
   ]
  },
  {
   "cell_type": "code",
   "execution_count": 11,
   "metadata": {
    "colab": {
     "base_uri": "https://localhost:8080/"
    },
    "id": "Wxj5tY7R6Eac",
    "outputId": "6a88abf0-19f3-4198-88d6-39696913c5a5"
   },
   "outputs": [
    {
     "name": "stdout",
     "output_type": "stream",
     "text": [
      "<class 'pandas.core.frame.DataFrame'>\n",
      "RangeIndex: 62423 entries, 0 to 62422\n",
      "Data columns (total 3 columns):\n",
      " #   Column   Non-Null Count  Dtype  \n",
      "---  ------   --------------  -----  \n",
      " 0   movieId  62423 non-null  int64  \n",
      " 1   imdbId   62423 non-null  int64  \n",
      " 2   tmdbId   62316 non-null  float64\n",
      "dtypes: float64(1), int64(2)\n",
      "memory usage: 1.4 MB\n"
     ]
    }
   ],
   "source": [
    "# Check links Information\n",
    "\n",
    "df_links.info()"
   ]
  },
  {
   "cell_type": "markdown",
   "metadata": {
    "id": "8TJPLDf16KIn"
   },
   "source": [
    "**Observations:**\n",
    "\n",
    "1. There are 662423 rows and 3 columns. \n",
    "2. All features are numerical. "
   ]
  },
  {
   "cell_type": "code",
   "execution_count": 12,
   "metadata": {
    "colab": {
     "base_uri": "https://localhost:8080/",
     "height": 206
    },
    "id": "Ylxd6BS_6dSI",
    "outputId": "cfcb854d-8c82-4d40-8640-b3aaf5e88f61"
   },
   "outputs": [
    {
     "data": {
      "text/html": [
       "<div>\n",
       "<style scoped>\n",
       "    .dataframe tbody tr th:only-of-type {\n",
       "        vertical-align: middle;\n",
       "    }\n",
       "\n",
       "    .dataframe tbody tr th {\n",
       "        vertical-align: top;\n",
       "    }\n",
       "\n",
       "    .dataframe thead th {\n",
       "        text-align: right;\n",
       "    }\n",
       "</style>\n",
       "<table border=\"1\" class=\"dataframe\">\n",
       "  <thead>\n",
       "    <tr style=\"text-align: right;\">\n",
       "      <th></th>\n",
       "      <th>movieId</th>\n",
       "      <th>title_cast</th>\n",
       "      <th>director</th>\n",
       "      <th>runtime</th>\n",
       "      <th>budget</th>\n",
       "      <th>plot_keywords</th>\n",
       "    </tr>\n",
       "  </thead>\n",
       "  <tbody>\n",
       "    <tr>\n",
       "      <th>0</th>\n",
       "      <td>1</td>\n",
       "      <td>Tom Hanks|Tim Allen|Don Rickles|Jim Varney|Wal...</td>\n",
       "      <td>John Lasseter</td>\n",
       "      <td>81.0</td>\n",
       "      <td>$30,000,000</td>\n",
       "      <td>toy|rivalry|cowboy|cgi animation</td>\n",
       "    </tr>\n",
       "    <tr>\n",
       "      <th>1</th>\n",
       "      <td>2</td>\n",
       "      <td>Robin Williams|Jonathan Hyde|Kirsten Dunst|Bra...</td>\n",
       "      <td>Jonathan Hensleigh</td>\n",
       "      <td>104.0</td>\n",
       "      <td>$65,000,000</td>\n",
       "      <td>board game|adventurer|fight|game</td>\n",
       "    </tr>\n",
       "    <tr>\n",
       "      <th>2</th>\n",
       "      <td>3</td>\n",
       "      <td>Walter Matthau|Jack Lemmon|Sophia Loren|Ann-Ma...</td>\n",
       "      <td>Mark Steven Johnson</td>\n",
       "      <td>101.0</td>\n",
       "      <td>$25,000,000</td>\n",
       "      <td>boat|lake|neighbor|rivalry</td>\n",
       "    </tr>\n",
       "    <tr>\n",
       "      <th>3</th>\n",
       "      <td>4</td>\n",
       "      <td>Whitney Houston|Angela Bassett|Loretta Devine|...</td>\n",
       "      <td>Terry McMillan</td>\n",
       "      <td>124.0</td>\n",
       "      <td>$16,000,000</td>\n",
       "      <td>black american|husband wife relationship|betra...</td>\n",
       "    </tr>\n",
       "    <tr>\n",
       "      <th>4</th>\n",
       "      <td>5</td>\n",
       "      <td>Steve Martin|Diane Keaton|Martin Short|Kimberl...</td>\n",
       "      <td>Albert Hackett</td>\n",
       "      <td>106.0</td>\n",
       "      <td>$30,000,000</td>\n",
       "      <td>fatherhood|doberman|dog|mansion</td>\n",
       "    </tr>\n",
       "  </tbody>\n",
       "</table>\n",
       "</div>"
      ],
      "text/plain": [
       "   movieId                                         title_cast  \\\n",
       "0        1  Tom Hanks|Tim Allen|Don Rickles|Jim Varney|Wal...   \n",
       "1        2  Robin Williams|Jonathan Hyde|Kirsten Dunst|Bra...   \n",
       "2        3  Walter Matthau|Jack Lemmon|Sophia Loren|Ann-Ma...   \n",
       "3        4  Whitney Houston|Angela Bassett|Loretta Devine|...   \n",
       "4        5  Steve Martin|Diane Keaton|Martin Short|Kimberl...   \n",
       "\n",
       "              director  runtime       budget  \\\n",
       "0        John Lasseter     81.0  $30,000,000   \n",
       "1   Jonathan Hensleigh    104.0  $65,000,000   \n",
       "2  Mark Steven Johnson    101.0  $25,000,000   \n",
       "3       Terry McMillan    124.0  $16,000,000   \n",
       "4       Albert Hackett    106.0  $30,000,000   \n",
       "\n",
       "                                       plot_keywords  \n",
       "0                   toy|rivalry|cowboy|cgi animation  \n",
       "1                   board game|adventurer|fight|game  \n",
       "2                         boat|lake|neighbor|rivalry  \n",
       "3  black american|husband wife relationship|betra...  \n",
       "4                    fatherhood|doberman|dog|mansion  "
      ]
     },
     "execution_count": 12,
     "metadata": {},
     "output_type": "execute_result"
    }
   ],
   "source": [
    "# Preview IMDB Data\n",
    "\n",
    "df_imdb.head()"
   ]
  },
  {
   "cell_type": "code",
   "execution_count": 13,
   "metadata": {
    "colab": {
     "base_uri": "https://localhost:8080/"
    },
    "id": "f_ockCpm6Ra7",
    "outputId": "963f0063-3773-4cf2-846e-aa8997ed8da1"
   },
   "outputs": [
    {
     "name": "stdout",
     "output_type": "stream",
     "text": [
      "<class 'pandas.core.frame.DataFrame'>\n",
      "RangeIndex: 27278 entries, 0 to 27277\n",
      "Data columns (total 6 columns):\n",
      " #   Column         Non-Null Count  Dtype  \n",
      "---  ------         --------------  -----  \n",
      " 0   movieId        27278 non-null  int64  \n",
      " 1   title_cast     17210 non-null  object \n",
      " 2   director       17404 non-null  object \n",
      " 3   runtime        15189 non-null  float64\n",
      " 4   budget         7906 non-null   object \n",
      " 5   plot_keywords  16200 non-null  object \n",
      "dtypes: float64(1), int64(1), object(4)\n",
      "memory usage: 1.2+ MB\n"
     ]
    }
   ],
   "source": [
    "# Check IMDB Data Information\n",
    "\n",
    "df_imdb.info()"
   ]
  },
  {
   "cell_type": "markdown",
   "metadata": {
    "id": "R1UZazX_6vPV"
   },
   "source": [
    "**Observations:**\n",
    "\n",
    "1. There are 27,278 rows and 6 columns in the dataset.\n",
    "2. Title cast, direct, budget and plot_keywords are not numerical.\n",
    "3. The numerical columns are movieId and runtime. "
   ]
  },
  {
   "cell_type": "code",
   "execution_count": 14,
   "metadata": {
    "colab": {
     "base_uri": "https://localhost:8080/"
    },
    "id": "pQz7InfE8gmZ",
    "outputId": "1fb73757-61bc-47cc-f79d-28008ade4a67"
   },
   "outputs": [
    {
     "name": "stdout",
     "output_type": "stream",
     "text": [
      "df_train has userId       0\n",
      "movieId      0\n",
      "rating       0\n",
      "timestamp    0\n",
      "dtype: int64\n",
      "df_movies has movieId    0\n",
      "title      0\n",
      "genres     0\n",
      "dtype: int64\n",
      "df_tags has userId        0\n",
      "movieId       0\n",
      "tag          16\n",
      "timestamp     0\n",
      "dtype: int64\n",
      "df_links has movieId      0\n",
      "imdbId       0\n",
      "tmdbId     107\n",
      "dtype: int64\n",
      "df_imdb has movieId              0\n",
      "title_cast       10068\n",
      "director          9874\n",
      "runtime          12089\n",
      "budget           19372\n",
      "plot_keywords    11078\n",
      "dtype: int64\n",
      "df_test has userId     0\n",
      "movieId    0\n",
      "dtype: int64\n"
     ]
    }
   ],
   "source": [
    "# Check for missing values in all the files\n",
    "\n",
    "df_list = [df_train, df_movies, df_tags, df_links, df_imdb, df_test]\n",
    "df_list_names = ['df_train',  'df_movies', 'df_tags', 'df_links', 'df_imdb', 'df_test']\n",
    "\n",
    "for i, n in zip(df_list, df_list_names):\n",
    "    x = i.isnull().sum()\n",
    "    print(f'{n} has {x}')"
   ]
  },
  {
   "cell_type": "markdown",
   "metadata": {
    "id": "_wb0p0Jz8aMW"
   },
   "source": [
    "**Observations:** \n",
    "1. The df_tag table has the tag column with **16** null values \n",
    "2. The df_links table has tmdbId column with **107** missing values and \n",
    "3. The df_imdb table has title_cast, director, runtime, budget and plot_keywords columns with **10,068**, **9,874**, **12,089**, **19,372**, **11,078** null values respectively."
   ]
  },
  {
   "cell_type": "code",
   "execution_count": 15,
   "metadata": {
    "id": "HfEk94LT60Sz"
   },
   "outputs": [],
   "source": [
    "# Get Value Counts for Rating Column in Train Dataset\n",
    "\n",
    "xv = df_train['rating'].value_counts()"
   ]
  },
  {
   "cell_type": "code",
   "execution_count": 16,
   "metadata": {
    "colab": {
     "base_uri": "https://localhost:8080/",
     "height": 554
    },
    "id": "0Flj3RH17D-S",
    "outputId": "fdcef695-1522-4863-e696-27bbbd16cb18"
   },
   "outputs": [
    {
     "data": {
      "text/plain": [
       "Text(0.5, 1.0, 'Rating Distribution')"
      ]
     },
     "execution_count": 16,
     "metadata": {},
     "output_type": "execute_result"
    },
    {
     "data": {
      "image/png": "[encoded data removed]",
      "text/plain": [
       "<Figure size 1080x648 with 1 Axes>"
      ]
     },
     "metadata": {},
     "output_type": "display_data"
    }
   ],
   "source": [
    "# Plot Pie Chart for the Distribution of Ratings\n",
    "\n",
    "# Set unique values in rating column as labels\n",
    "label = df_train['rating'].unique()\n",
    "\n",
    "# Define figure size and labels.\n",
    "fig = plt.figure(figsize=(15,9));\n",
    "plt.pie (xv,data=df_train, autopct='%1.2f%%',labels=label)\n",
    "plt.show\n",
    "plt.title ('Rating Distribution')"
   ]
  },
  {
   "cell_type": "code",
   "execution_count": 18,
   "metadata": {},
   "outputs": [
    {
     "data": {
      "text/html": [
       "        <script type=\"text/javascript\">\n",
       "        window.PlotlyConfig = {MathJaxConfig: 'local'};\n",
       "        if (window.MathJax) {MathJax.Hub.Config({SVG: {font: \"STIX-Web\"}});}\n",
       "        if (typeof require !== 'undefined') {\n",
       "        require.undef(\"plotly\");\n",
       "        requirejs.config({\n",
       "            paths: {\n",
       "                'plotly': ['https://cdn.plot.ly/plotly-2.9.0.min']\n",
       "            }\n",
       "        });\n",
       "        require(['plotly'], function(Plotly) {\n",
       "            window._Plotly = Plotly;\n",
       "        });\n",
       "        }\n",
       "        </script>\n",
       "        "
      ]
     },
     "metadata": {},
     "output_type": "display_data"
    },
    {
     "data": {
      "application/vnd.plotly.v1+json": {
       "config": {
        "plotlyServerURL": "https://plot.ly"
       },
       "data": [
        {
         "text": [
          "14.5%",
          "8.8%",
          "26.5%",
          "12.7%",
          "19.6%",
          "5.1%",
          "6.6%",
          "1.6%",
          "3.1%",
          "1.6%"
         ],
         "textfont": {
          "color": "#000000"
         },
         "textposition": "auto",
         "type": "bar",
         "x": [
          5,
          4.5,
          4,
          3.5,
          3,
          2.5,
          2,
          1.5,
          1,
          0.5
         ],
         "y": [
          1445230,
          880516,
          2652977,
          1270642,
          1959759,
          505578,
          656821,
          159731,
          311213,
          157571
         ]
        }
       ],
       "layout": {
        "autosize": true,
        "template": {
         "data": {
          "bar": [
           {
            "error_x": {
             "color": "#2a3f5f"
            },
            "error_y": {
             "color": "#2a3f5f"
            },
            "marker": {
             "line": {
              "color": "#E5ECF6",
              "width": 0.5
             },
             "pattern": {
              "fillmode": "overlay",
              "size": 10,
              "solidity": 0.2
             }
            },
            "type": "bar"
           }
          ],
          "barpolar": [
           {
            "marker": {
             "line": {
              "color": "#E5ECF6",
              "width": 0.5
             },
             "pattern": {
              "fillmode": "overlay",
              "size": 10,
              "solidity": 0.2
             }
            },
            "type": "barpolar"
           }
          ],
          "carpet": [
           {
            "aaxis": {
             "endlinecolor": "#2a3f5f",
             "gridcolor": "white",
             "linecolor": "white",
             "minorgridcolor": "white",
             "startlinecolor": "#2a3f5f"
            },
            "baxis": {
             "endlinecolor": "#2a3f5f",
             "gridcolor": "white",
             "linecolor": "white",
             "minorgridcolor": "white",
             "startlinecolor": "#2a3f5f"
            },
            "type": "carpet"
           }
          ],
          "choropleth": [
           {
            "colorbar": {
             "outlinewidth": 0,
             "ticks": ""
            },
            "type": "choropleth"
           }
          ],
          "contour": [
           {
            "colorbar": {
             "outlinewidth": 0,
             "ticks": ""
            },
            "colorscale": [
             [
              0,
              "#0d0887"
             ],
             [
              0.1111111111111111,
              "#46039f"
             ],
             [
              0.2222222222222222,
              "#7201a8"
             ],
             [
              0.3333333333333333,
              "#9c179e"
             ],
             [
              0.4444444444444444,
              "#bd3786"
             ],
             [
              0.5555555555555556,
              "#d8576b"
             ],
             [
              0.6666666666666666,
              "#ed7953"
             ],
             [
              0.7777777777777778,
              "#fb9f3a"
             ],
             [
              0.8888888888888888,
              "#fdca26"
             ],
             [
              1,
              "#f0f921"
             ]
            ],
            "type": "contour"
           }
          ],
          "contourcarpet": [
           {
            "colorbar": {
             "outlinewidth": 0,
             "ticks": ""
            },
            "type": "contourcarpet"
           }
          ],
          "heatmap": [
           {
            "colorbar": {
             "outlinewidth": 0,
             "ticks": ""
            },
            "colorscale": [
             [
              0,
              "#0d0887"
             ],
             [
              0.1111111111111111,
              "#46039f"
             ],
             [
              0.2222222222222222,
              "#7201a8"
             ],
             [
              0.3333333333333333,
              "#9c179e"
             ],
             [
              0.4444444444444444,
              "#bd3786"
             ],
             [
              0.5555555555555556,
              "#d8576b"
             ],
             [
              0.6666666666666666,
              "#ed7953"
             ],
             [
              0.7777777777777778,
              "#fb9f3a"
             ],
             [
              0.8888888888888888,
              "#fdca26"
             ],
             [
              1,
              "#f0f921"
             ]
            ],
            "type": "heatmap"
           }
          ],
          "heatmapgl": [
           {
            "colorbar": {
             "outlinewidth": 0,
             "ticks": ""
            },
            "colorscale": [
             [
              0,
              "#0d0887"
             ],
             [
              0.1111111111111111,
              "#46039f"
             ],
             [
              0.2222222222222222,
              "#7201a8"
             ],
             [
              0.3333333333333333,
              "#9c179e"
             ],
             [
              0.4444444444444444,
              "#bd3786"
             ],
             [
              0.5555555555555556,
              "#d8576b"
             ],
             [
              0.6666666666666666,
              "#ed7953"
             ],
             [
              0.7777777777777778,
              "#fb9f3a"
             ],
             [
              0.8888888888888888,
              "#fdca26"
             ],
             [
              1,
              "#f0f921"
             ]
            ],
            "type": "heatmapgl"
           }
          ],
          "histogram": [
           {
            "marker": {
             "pattern": {
              "fillmode": "overlay",
              "size": 10,
              "solidity": 0.2
             }
            },
            "type": "histogram"
           }
          ],
          "histogram2d": [
           {
            "colorbar": {
             "outlinewidth": 0,
             "ticks": ""
            },
            "colorscale": [
             [
              0,
              "#0d0887"
             ],
             [
              0.1111111111111111,
              "#46039f"
             ],
             [
              0.2222222222222222,
              "#7201a8"
             ],
             [
              0.3333333333333333,
              "#9c179e"
             ],
             [
              0.4444444444444444,
              "#bd3786"
             ],
             [
              0.5555555555555556,
              "#d8576b"
             ],
             [
              0.6666666666666666,
              "#ed7953"
             ],
             [
              0.7777777777777778,
              "#fb9f3a"
             ],
             [
              0.8888888888888888,
              "#fdca26"
             ],
             [
              1,
              "#f0f921"
             ]
            ],
            "type": "histogram2d"
           }
          ],
          "histogram2dcontour": [
           {
            "colorbar": {
             "outlinewidth": 0,
             "ticks": ""
            },
            "colorscale": [
             [
              0,
              "#0d0887"
             ],
             [
              0.1111111111111111,
              "#46039f"
             ],
             [
              0.2222222222222222,
              "#7201a8"
             ],
             [
              0.3333333333333333,
              "#9c179e"
             ],
             [
              0.4444444444444444,
              "#bd3786"
             ],
             [
              0.5555555555555556,
              "#d8576b"
             ],
             [
              0.6666666666666666,
              "#ed7953"
             ],
             [
              0.7777777777777778,
              "#fb9f3a"
             ],
             [
              0.8888888888888888,
              "#fdca26"
             ],
             [
              1,
              "#f0f921"
             ]
            ],
            "type": "histogram2dcontour"
           }
          ],
          "mesh3d": [
           {
            "colorbar": {
             "outlinewidth": 0,
             "ticks": ""
            },
            "type": "mesh3d"
           }
          ],
          "parcoords": [
           {
            "line": {
             "colorbar": {
              "outlinewidth": 0,
              "ticks": ""
             }
            },
            "type": "parcoords"
           }
          ],
          "pie": [
           {
            "automargin": true,
            "type": "pie"
           }
          ],
          "scatter": [
           {
            "marker": {
             "colorbar": {
              "outlinewidth": 0,
              "ticks": ""
             }
            },
            "type": "scatter"
           }
          ],
          "scatter3d": [
           {
            "line": {
             "colorbar": {
              "outlinewidth": 0,
              "ticks": ""
             }
            },
            "marker": {
             "colorbar": {
              "outlinewidth": 0,
              "ticks": ""
             }
            },
            "type": "scatter3d"
           }
          ],
          "scattercarpet": [
           {
            "marker": {
             "colorbar": {
              "outlinewidth": 0,
              "ticks": ""
             }
            },
            "type": "scattercarpet"
           }
          ],
          "scattergeo": [
           {
            "marker": {
             "colorbar": {
              "outlinewidth": 0,
              "ticks": ""
             }
            },
            "type": "scattergeo"
           }
          ],
          "scattergl": [
           {
            "marker": {
             "colorbar": {
              "outlinewidth": 0,
              "ticks": ""
             }
            },
            "type": "scattergl"
           }
          ],
          "scattermapbox": [
           {
            "marker": {
             "colorbar": {
              "outlinewidth": 0,
              "ticks": ""
             }
            },
            "type": "scattermapbox"
           }
          ],
          "scatterpolar": [
           {
            "marker": {
             "colorbar": {
              "outlinewidth": 0,
              "ticks": ""
             }
            },
            "type": "scatterpolar"
           }
          ],
          "scatterpolargl": [
           {
            "marker": {
             "colorbar": {
              "outlinewidth": 0,
              "ticks": ""
             }
            },
            "type": "scatterpolargl"
           }
          ],
          "scatterternary": [
           {
            "marker": {
             "colorbar": {
              "outlinewidth": 0,
              "ticks": ""
             }
            },
            "type": "scatterternary"
           }
          ],
          "surface": [
           {
            "colorbar": {
             "outlinewidth": 0,
             "ticks": ""
            },
            "colorscale": [
             [
              0,
              "#0d0887"
             ],
             [
              0.1111111111111111,
              "#46039f"
             ],
             [
              0.2222222222222222,
              "#7201a8"
             ],
             [
              0.3333333333333333,
              "#9c179e"
             ],
             [
              0.4444444444444444,
              "#bd3786"
             ],
             [
              0.5555555555555556,
              "#d8576b"
             ],
             [
              0.6666666666666666,
              "#ed7953"
             ],
             [
              0.7777777777777778,
              "#fb9f3a"
             ],
             [
              0.8888888888888888,
              "#fdca26"
             ],
             [
              1,
              "#f0f921"
             ]
            ],
            "type": "surface"
           }
          ],
          "table": [
           {
            "cells": {
             "fill": {
              "color": "#EBF0F8"
             },
             "line": {
              "color": "white"
             }
            },
            "header": {
             "fill": {
              "color": "#C8D4E3"
             },
             "line": {
              "color": "white"
             }
            },
            "type": "table"
           }
          ]
         },
         "layout": {
          "annotationdefaults": {
           "arrowcolor": "#2a3f5f",
           "arrowhead": 0,
           "arrowwidth": 1
          },
          "autotypenumbers": "strict",
          "coloraxis": {
           "colorbar": {
            "outlinewidth": 0,
            "ticks": ""
           }
          },
          "colorscale": {
           "diverging": [
            [
             0,
             "#8e0152"
            ],
            [
             0.1,
             "#c51b7d"
            ],
            [
             0.2,
             "#de77ae"
            ],
            [
             0.3,
             "#f1b6da"
            ],
            [
             0.4,
             "#fde0ef"
            ],
            [
             0.5,
             "#f7f7f7"
            ],
            [
             0.6,
             "#e6f5d0"
            ],
            [
             0.7,
             "#b8e186"
            ],
            [
             0.8,
             "#7fbc41"
            ],
            [
             0.9,
             "#4d9221"
            ],
            [
             1,
             "#276419"
            ]
           ],
           "sequential": [
            [
             0,
             "#0d0887"
            ],
            [
             0.1111111111111111,
             "#46039f"
            ],
            [
             0.2222222222222222,
             "#7201a8"
            ],
            [
             0.3333333333333333,
             "#9c179e"
            ],
            [
             0.4444444444444444,
             "#bd3786"
            ],
            [
             0.5555555555555556,
             "#d8576b"
            ],
            [
             0.6666666666666666,
             "#ed7953"
            ],
            [
             0.7777777777777778,
             "#fb9f3a"
            ],
            [
             0.8888888888888888,
             "#fdca26"
            ],
            [
             1,
             "#f0f921"
            ]
           ],
           "sequentialminus": [
            [
             0,
             "#0d0887"
            ],
            [
             0.1111111111111111,
             "#46039f"
            ],
            [
             0.2222222222222222,
             "#7201a8"
            ],
            [
             0.3333333333333333,
             "#9c179e"
            ],
            [
             0.4444444444444444,
             "#bd3786"
            ],
            [
             0.5555555555555556,
             "#d8576b"
            ],
            [
             0.6666666666666666,
             "#ed7953"
            ],
            [
             0.7777777777777778,
             "#fb9f3a"
            ],
            [
             0.8888888888888888,
             "#fdca26"
            ],
            [
             1,
             "#f0f921"
            ]
           ]
          },
          "colorway": [
           "#636efa",
           "#EF553B",
           "#00cc96",
           "#ab63fa",
           "#FFA15A",
           "#19d3f3",
           "#FF6692",
           "#B6E880",
           "#FF97FF",
           "#FECB52"
          ],
          "font": {
           "color": "#2a3f5f"
          },
          "geo": {
           "bgcolor": "white",
           "lakecolor": "white",
           "landcolor": "#E5ECF6",
           "showlakes": true,
           "showland": true,
           "subunitcolor": "white"
          },
          "hoverlabel": {
           "align": "left"
          },
          "hovermode": "closest",
          "mapbox": {
           "style": "light"
          },
          "paper_bgcolor": "white",
          "plot_bgcolor": "#E5ECF6",
          "polar": {
           "angularaxis": {
            "gridcolor": "white",
            "linecolor": "white",
            "ticks": ""
           },
           "bgcolor": "#E5ECF6",
           "radialaxis": {
            "gridcolor": "white",
            "linecolor": "white",
            "ticks": ""
           }
          },
          "scene": {
           "xaxis": {
            "backgroundcolor": "#E5ECF6",
            "gridcolor": "white",
            "gridwidth": 2,
            "linecolor": "white",
            "showbackground": true,
            "ticks": "",
            "zerolinecolor": "white"
           },
           "yaxis": {
            "backgroundcolor": "#E5ECF6",
            "gridcolor": "white",
            "gridwidth": 2,
            "linecolor": "white",
            "showbackground": true,
            "ticks": "",
            "zerolinecolor": "white"
           },
           "zaxis": {
            "backgroundcolor": "#E5ECF6",
            "gridcolor": "white",
            "gridwidth": 2,
            "linecolor": "white",
            "showbackground": true,
            "ticks": "",
            "zerolinecolor": "white"
           }
          },
          "shapedefaults": {
           "line": {
            "color": "#2a3f5f"
           }
          },
          "ternary": {
           "aaxis": {
            "gridcolor": "white",
            "linecolor": "white",
            "ticks": ""
           },
           "baxis": {
            "gridcolor": "white",
            "linecolor": "white",
            "ticks": ""
           },
           "bgcolor": "#E5ECF6",
           "caxis": {
            "gridcolor": "white",
            "linecolor": "white",
            "ticks": ""
           }
          },
          "title": {
           "x": 0.05
          },
          "xaxis": {
           "automargin": true,
           "gridcolor": "white",
           "linecolor": "white",
           "ticks": "",
           "title": {
            "standoff": 15
           },
           "zerolinecolor": "white",
           "zerolinewidth": 2
          },
          "yaxis": {
           "automargin": true,
           "gridcolor": "white",
           "linecolor": "white",
           "ticks": "",
           "title": {
            "standoff": 15
           },
           "zerolinecolor": "white",
           "zerolinewidth": 2
          }
         }
        },
        "title": {
         "text": "Distribution of 10000038 ratings"
        },
        "xaxis": {
         "autorange": true,
         "range": [
          0.25,
          5.25
         ],
         "title": {
          "text": "Rating"
         },
         "type": "linear"
        },
        "yaxis": {
         "autorange": true,
         "range": [
          0,
          2792607.3684210526
         ],
         "title": {
          "text": "Count"
         },
         "type": "linear"
        }
       }
      },
      "image/png": "[encoded data removed]",
      "text/html": [
       "<div>                            <div id=\"a545200d-45ab-423a-abad-ea4c298e30b0\" class=\"plotly-graph-div\" style=\"height:525px; width:100%;\"></div>            <script type=\"text/javascript\">                require([\"plotly\"], function(Plotly) {                    window.PLOTLYENV=window.PLOTLYENV || {};                                    if (document.getElementById(\"a545200d-45ab-423a-abad-ea4c298e30b0\")) {                    Plotly.newPlot(                        \"a545200d-45ab-423a-abad-ea4c298e30b0\",                        [{\"text\":[\"14.5%\",\"8.8%\",\"26.5%\",\"12.7%\",\"19.6%\",\"5.1%\",\"6.6%\",\"1.6%\",\"3.1%\",\"1.6%\"],\"textfont\":{\"color\":\"#000000\"},\"textposition\":\"auto\",\"x\":[5.0,4.5,4.0,3.5,3.0,2.5,2.0,1.5,1.0,0.5],\"y\":[1445230,880516,2652977,1270642,1959759,505578,656821,159731,311213,157571],\"type\":\"bar\"}],                        {\"title\":{\"text\":\"Distribution of 10000038 ratings\"},\"xaxis\":{\"title\":{\"text\":\"Rating\"}},\"yaxis\":{\"title\":{\"text\":\"Count\"}},\"template\":{\"data\":{\"bar\":[{\"error_x\":{\"color\":\"#2a3f5f\"},\"error_y\":{\"color\":\"#2a3f5f\"},\"marker\":{\"line\":{\"color\":\"#E5ECF6\",\"width\":0.5},\"pattern\":{\"fillmode\":\"overlay\",\"size\":10,\"solidity\":0.2}},\"type\":\"bar\"}],\"barpolar\":[{\"marker\":{\"line\":{\"color\":\"#E5ECF6\",\"width\":0.5},\"pattern\":{\"fillmode\":\"overlay\",\"size\":10,\"solidity\":0.2}},\"type\":\"barpolar\"}],\"carpet\":[{\"aaxis\":{\"endlinecolor\":\"#2a3f5f\",\"gridcolor\":\"white\",\"linecolor\":\"white\",\"minorgridcolor\":\"white\",\"startlinecolor\":\"#2a3f5f\"},\"baxis\":{\"endlinecolor\":\"#2a3f5f\",\"gridcolor\":\"white\",\"linecolor\":\"white\",\"minorgridcolor\":\"white\",\"startlinecolor\":\"#2a3f5f\"},\"type\":\"carpet\"}],\"choropleth\":[{\"colorbar\":{\"outlinewidth\":0,\"ticks\":\"\"},\"type\":\"choropleth\"}],\"contour\":[{\"colorbar\":{\"outlinewidth\":0,\"ticks\":\"\"},\"colorscale\":[[0.0,\"#0d0887\"],[0.1111111111111111,\"#46039f\"],[0.2222222222222222,\"#7201a8\"],[0.3333333333333333,\"#9c179e\"],[0.4444444444444444,\"#bd3786\"],[0.5555555555555556,\"#d8576b\"],[0.6666666666666666,\"#ed7953\"],[0.7777777777777778,\"#fb9f3a\"],[0.8888888888888888,\"#fdca26\"],[1.0,\"#f0f921\"]],\"type\":\"contour\"}],\"contourcarpet\":[{\"colorbar\":{\"outlinewidth\":0,\"ticks\":\"\"},\"type\":\"contourcarpet\"}],\"heatmap\":[{\"colorbar\":{\"outlinewidth\":0,\"ticks\":\"\"},\"colorscale\":[[0.0,\"#0d0887\"],[0.1111111111111111,\"#46039f\"],[0.2222222222222222,\"#7201a8\"],[0.3333333333333333,\"#9c179e\"],[0.4444444444444444,\"#bd3786\"],[0.5555555555555556,\"#d8576b\"],[0.6666666666666666,\"#ed7953\"],[0.7777777777777778,\"#fb9f3a\"],[0.8888888888888888,\"#fdca26\"],[1.0,\"#f0f921\"]],\"type\":\"heatmap\"}],\"heatmapgl\":[{\"colorbar\":{\"outlinewidth\":0,\"ticks\":\"\"},\"colorscale\":[[0.0,\"#0d0887\"],[0.1111111111111111,\"#46039f\"],[0.2222222222222222,\"#7201a8\"],[0.3333333333333333,\"#9c179e\"],[0.4444444444444444,\"#bd3786\"],[0.5555555555555556,\"#d8576b\"],[0.6666666666666666,\"#ed7953\"],[0.7777777777777778,\"#fb9f3a\"],[0.8888888888888888,\"#fdca26\"],[1.0,\"#f0f921\"]],\"type\":\"heatmapgl\"}],\"histogram\":[{\"marker\":{\"pattern\":{\"fillmode\":\"overlay\",\"size\":10,\"solidity\":0.2}},\"type\":\"histogram\"}],\"histogram2d\":[{\"colorbar\":{\"outlinewidth\":0,\"ticks\":\"\"},\"colorscale\":[[0.0,\"#0d0887\"],[0.1111111111111111,\"#46039f\"],[0.2222222222222222,\"#7201a8\"],[0.3333333333333333,\"#9c179e\"],[0.4444444444444444,\"#bd3786\"],[0.5555555555555556,\"#d8576b\"],[0.6666666666666666,\"#ed7953\"],[0.7777777777777778,\"#fb9f3a\"],[0.8888888888888888,\"#fdca26\"],[1.0,\"#f0f921\"]],\"type\":\"histogram2d\"}],\"histogram2dcontour\":[{\"colorbar\":{\"outlinewidth\":0,\"ticks\":\"\"},\"colorscale\":[[0.0,\"#0d0887\"],[0.1111111111111111,\"#46039f\"],[0.2222222222222222,\"#7201a8\"],[0.3333333333333333,\"#9c179e\"],[0.4444444444444444,\"#bd3786\"],[0.5555555555555556,\"#d8576b\"],[0.6666666666666666,\"#ed7953\"],[0.7777777777777778,\"#fb9f3a\"],[0.8888888888888888,\"#fdca26\"],[1.0,\"#f0f921\"]],\"type\":\"histogram2dcontour\"}],\"mesh3d\":[{\"colorbar\":{\"outlinewidth\":0,\"ticks\":\"\"},\"type\":\"mesh3d\"}],\"parcoords\":[{\"line\":{\"colorbar\":{\"outlinewidth\":0,\"ticks\":\"\"}},\"type\":\"parcoords\"}],\"pie\":[{\"automargin\":true,\"type\":\"pie\"}],\"scatter\":[{\"marker\":{\"colorbar\":{\"outlinewidth\":0,\"ticks\":\"\"}},\"type\":\"scatter\"}],\"scatter3d\":[{\"line\":{\"colorbar\":{\"outlinewidth\":0,\"ticks\":\"\"}},\"marker\":{\"colorbar\":{\"outlinewidth\":0,\"ticks\":\"\"}},\"type\":\"scatter3d\"}],\"scattercarpet\":[{\"marker\":{\"colorbar\":{\"outlinewidth\":0,\"ticks\":\"\"}},\"type\":\"scattercarpet\"}],\"scattergeo\":[{\"marker\":{\"colorbar\":{\"outlinewidth\":0,\"ticks\":\"\"}},\"type\":\"scattergeo\"}],\"scattergl\":[{\"marker\":{\"colorbar\":{\"outlinewidth\":0,\"ticks\":\"\"}},\"type\":\"scattergl\"}],\"scattermapbox\":[{\"marker\":{\"colorbar\":{\"outlinewidth\":0,\"ticks\":\"\"}},\"type\":\"scattermapbox\"}],\"scatterpolar\":[{\"marker\":{\"colorbar\":{\"outlinewidth\":0,\"ticks\":\"\"}},\"type\":\"scatterpolar\"}],\"scatterpolargl\":[{\"marker\":{\"colorbar\":{\"outlinewidth\":0,\"ticks\":\"\"}},\"type\":\"scatterpolargl\"}],\"scatterternary\":[{\"marker\":{\"colorbar\":{\"outlinewidth\":0,\"ticks\":\"\"}},\"type\":\"scatterternary\"}],\"surface\":[{\"colorbar\":{\"outlinewidth\":0,\"ticks\":\"\"},\"colorscale\":[[0.0,\"#0d0887\"],[0.1111111111111111,\"#46039f\"],[0.2222222222222222,\"#7201a8\"],[0.3333333333333333,\"#9c179e\"],[0.4444444444444444,\"#bd3786\"],[0.5555555555555556,\"#d8576b\"],[0.6666666666666666,\"#ed7953\"],[0.7777777777777778,\"#fb9f3a\"],[0.8888888888888888,\"#fdca26\"],[1.0,\"#f0f921\"]],\"type\":\"surface\"}],\"table\":[{\"cells\":{\"fill\":{\"color\":\"#EBF0F8\"},\"line\":{\"color\":\"white\"}},\"header\":{\"fill\":{\"color\":\"#C8D4E3\"},\"line\":{\"color\":\"white\"}},\"type\":\"table\"}]},\"layout\":{\"annotationdefaults\":{\"arrowcolor\":\"#2a3f5f\",\"arrowhead\":0,\"arrowwidth\":1},\"autotypenumbers\":\"strict\",\"coloraxis\":{\"colorbar\":{\"outlinewidth\":0,\"ticks\":\"\"}},\"colorscale\":{\"diverging\":[[0,\"#8e0152\"],[0.1,\"#c51b7d\"],[0.2,\"#de77ae\"],[0.3,\"#f1b6da\"],[0.4,\"#fde0ef\"],[0.5,\"#f7f7f7\"],[0.6,\"#e6f5d0\"],[0.7,\"#b8e186\"],[0.8,\"#7fbc41\"],[0.9,\"#4d9221\"],[1,\"#276419\"]],\"sequential\":[[0.0,\"#0d0887\"],[0.1111111111111111,\"#46039f\"],[0.2222222222222222,\"#7201a8\"],[0.3333333333333333,\"#9c179e\"],[0.4444444444444444,\"#bd3786\"],[0.5555555555555556,\"#d8576b\"],[0.6666666666666666,\"#ed7953\"],[0.7777777777777778,\"#fb9f3a\"],[0.8888888888888888,\"#fdca26\"],[1.0,\"#f0f921\"]],\"sequentialminus\":[[0.0,\"#0d0887\"],[0.1111111111111111,\"#46039f\"],[0.2222222222222222,\"#7201a8\"],[0.3333333333333333,\"#9c179e\"],[0.4444444444444444,\"#bd3786\"],[0.5555555555555556,\"#d8576b\"],[0.6666666666666666,\"#ed7953\"],[0.7777777777777778,\"#fb9f3a\"],[0.8888888888888888,\"#fdca26\"],[1.0,\"#f0f921\"]]},\"colorway\":[\"#636efa\",\"#EF553B\",\"#00cc96\",\"#ab63fa\",\"#FFA15A\",\"#19d3f3\",\"#FF6692\",\"#B6E880\",\"#FF97FF\",\"#FECB52\"],\"font\":{\"color\":\"#2a3f5f\"},\"geo\":{\"bgcolor\":\"white\",\"lakecolor\":\"white\",\"landcolor\":\"#E5ECF6\",\"showlakes\":true,\"showland\":true,\"subunitcolor\":\"white\"},\"hoverlabel\":{\"align\":\"left\"},\"hovermode\":\"closest\",\"mapbox\":{\"style\":\"light\"},\"paper_bgcolor\":\"white\",\"plot_bgcolor\":\"#E5ECF6\",\"polar\":{\"angularaxis\":{\"gridcolor\":\"white\",\"linecolor\":\"white\",\"ticks\":\"\"},\"bgcolor\":\"#E5ECF6\",\"radialaxis\":{\"gridcolor\":\"white\",\"linecolor\":\"white\",\"ticks\":\"\"}},\"scene\":{\"xaxis\":{\"backgroundcolor\":\"#E5ECF6\",\"gridcolor\":\"white\",\"gridwidth\":2,\"linecolor\":\"white\",\"showbackground\":true,\"ticks\":\"\",\"zerolinecolor\":\"white\"},\"yaxis\":{\"backgroundcolor\":\"#E5ECF6\",\"gridcolor\":\"white\",\"gridwidth\":2,\"linecolor\":\"white\",\"showbackground\":true,\"ticks\":\"\",\"zerolinecolor\":\"white\"},\"zaxis\":{\"backgroundcolor\":\"#E5ECF6\",\"gridcolor\":\"white\",\"gridwidth\":2,\"linecolor\":\"white\",\"showbackground\":true,\"ticks\":\"\",\"zerolinecolor\":\"white\"}},\"shapedefaults\":{\"line\":{\"color\":\"#2a3f5f\"}},\"ternary\":{\"aaxis\":{\"gridcolor\":\"white\",\"linecolor\":\"white\",\"ticks\":\"\"},\"baxis\":{\"gridcolor\":\"white\",\"linecolor\":\"white\",\"ticks\":\"\"},\"bgcolor\":\"#E5ECF6\",\"caxis\":{\"gridcolor\":\"white\",\"linecolor\":\"white\",\"ticks\":\"\"}},\"title\":{\"x\":0.05},\"xaxis\":{\"automargin\":true,\"gridcolor\":\"white\",\"linecolor\":\"white\",\"ticks\":\"\",\"title\":{\"standoff\":15},\"zerolinecolor\":\"white\",\"zerolinewidth\":2},\"yaxis\":{\"automargin\":true,\"gridcolor\":\"white\",\"linecolor\":\"white\",\"ticks\":\"\",\"title\":{\"standoff\":15},\"zerolinecolor\":\"white\",\"zerolinewidth\":2}}}},                        {\"responsive\": true}                    ).then(function(){\n",
       "                            \n",
       "var gd = document.getElementById('a545200d-45ab-423a-abad-ea4c298e30b0');\n",
       "var x = new MutationObserver(function (mutations, observer) {{\n",
       "        var display = window.getComputedStyle(gd).display;\n",
       "        if (!display || display === 'none') {{\n",
       "            console.log([gd, 'removed!']);\n",
       "            Plotly.purge(gd);\n",
       "            observer.disconnect();\n",
       "        }}\n",
       "}});\n",
       "\n",
       "// Listen for the removal of the full notebook cells\n",
       "var notebookContainer = gd.closest('#notebook-container');\n",
       "if (notebookContainer) {{\n",
       "    x.observe(notebookContainer, {childList: true});\n",
       "}}\n",
       "\n",
       "// Listen for the clearing of the current output cell\n",
       "var outputEl = gd.closest('.output');\n",
       "if (outputEl) {{\n",
       "    x.observe(outputEl, {childList: true});\n",
       "}}\n",
       "\n",
       "                        })                };                });            </script>        </div>"
      ]
     },
     "metadata": {},
     "output_type": "display_data"
    }
   ],
   "source": [
    "from plotly.offline import init_notebook_mode, plot, iplot\n",
    "import plotly.graph_objs as go\n",
    "init_notebook_mode(connected=True)\n",
    "\n",
    "data = df_train['rating'].value_counts().sort_index(ascending=False)\n",
    "trace = go.Bar(x = data.index, \n",
    "              text = ['{:.1f}%'.format(val) for val in (data.values/df_train.shape[0] * 100)],\n",
    "              textposition = 'auto',\n",
    "              textfont = dict(color = '#000000'),\n",
    "              y = data.values,\n",
    "              )\n",
    "# Layout Creation\n",
    "layout = dict(title = 'Distribution of {} ratings'.format(df_train.shape[0]),\n",
    "             xaxis = dict(title = 'Rating'),\n",
    "             yaxis = dict(title = 'Count'))\n",
    "\n",
    "# Create Plot\n",
    "fig = go.Figure(data = [trace], layout=layout)\n",
    "fig.show()"
   ]
  },
  {
   "cell_type": "markdown",
   "metadata": {
    "id": "QZcrbuYJ7QrG"
   },
   "source": [
    "The piechart shows the overall distribution of movie title ratings by different users. From the piechart, some of the notable facts include:\n",
    "*  A rating of 4.0 is the most popular rating followed by 4.5. Based on the rating distribution many users prefer to give rating of 4.0-4.5.\n",
    "* A perfect rating of 5.0 accounts for 14.45% of the total ratings in the dataset. \n",
    "* Many users do not like providing low ratings due to reasons not clear from the piechart. "
   ]
  },
  {
   "cell_type": "code",
   "execution_count": 17,
   "metadata": {
    "colab": {
     "base_uri": "https://localhost:8080/",
     "height": 621
    },
    "id": "rVfIdJbz7Swp",
    "outputId": "dbe0d5b2-75f2-4b14-8a51-b346eb9de420"
   },
   "outputs": [
    {
     "data": {
      "image/png": "[encoded data removed]",
      "text/plain": [
       "<Figure size 1440x720 with 1 Axes>"
      ]
     },
     "metadata": {
      "needs_background": "light"
     },
     "output_type": "display_data"
    }
   ],
   "source": [
    "# A Bar Graph Representation of the Ratings Distribution\n",
    "\n",
    "fig, ax = plt.subplots(figsize=(20, 10)) # Initialize the plot with set figure size\n",
    "\n",
    "sns.countplot(ax=ax, x='rating', data=df_train) # Create a countplot to visualise the number of movies per category\n",
    "ax.set_title(\"The number of movies for each ratings\")\n",
    "plt.ticklabel_format(style='plain', axis='y', useOffset=False) # Set the tick labels to appear in non-scientific form\n",
    "\n",
    "# Make the counts appear on the different\n",
    "for p in ax.patches:\n",
    "    ax.annotate('{:.1f}'.format(p.get_height()), (p.get_x()+0.1, p.get_height()+50))\n",
    "    \n",
    "# Show the countplot\n",
    "plt.show()"
   ]
  },
  {
   "cell_type": "markdown",
   "metadata": {},
   "source": [
    "Show the percentage of movies with each rating. "
   ]
  },
  {
   "cell_type": "markdown",
   "metadata": {
    "id": "YMYg8Usw7eO1"
   },
   "source": [
    "**Observations:** The two most common ratings are that of 4.0 and 3.0"
   ]
  },
  {
   "cell_type": "markdown",
   "metadata": {
    "id": "m0ECjY977jDa"
   },
   "source": [
    "The EDA process has been instrumental to the process of understanding the provided data. Some of the overall insights from the EDA section include:\n",
    "1. The datasets provided should be merged to create a tabular data with enough information for modelling a movie recommender system. \n",
    "2. Each dataset has columns with different data types, which must be taken into consideration during the modelling stage. \n",
    "3. There are some datasets with null values that must be handled to avoid errors and improve the overall performance of the model exposed to the prepared data. \n"
   ]
  },
  {
   "cell_type": "markdown",
   "metadata": {
    "id": "ehNeNq3P7p2f"
   },
   "source": [
    "<a id=\"six\"></a>\n",
    "## 6. Feature Engineering\n",
    "<a class=\"anchor\" id=\"1.1\"></a>\n",
    "<a href=#cont>Back to Table of Contents</a>\n",
    "\n",
    "---"
   ]
  },
  {
   "cell_type": "markdown",
   "metadata": {
    "id": "TzY0siqB7r87"
   },
   "source": [
    "Feature Engineering entails the application of domain knowledge to extract features(properties, characteristics and attributes) from a dataset. In this project, the data engineering section includes mergin datasets to facilitate the modelling process. The steps in data engineering include checking features and relying on insights from EDA to decide on the features that needed to created, removed or retained. The impact of the created features is assessed to check their impact and improved if needed arises. Data Engineering is a constinous process that goes as long as there is a chance to improve model performance. "
   ]
  },
  {
   "cell_type": "markdown",
   "metadata": {
    "id": "Syg5CL7T74lz"
   },
   "source": [
    "The first step is to merge the train and movies dataset to bring the movie tite, genres, users, rating, timestamp together."
   ]
  },
  {
   "cell_type": "code",
   "execution_count": 19,
   "metadata": {
    "id": "qxg3zfZ6LyyF"
   },
   "outputs": [],
   "source": [
    "# Merging train, movies, imdb datasets to create content based data.\n",
    "\n",
    "# Train and movies merge\n",
    "new_data = pd.merge(df_train, df_movies, on='movieId', how='left')\n",
    "\n",
    "# New data and IMDB data Merge\n",
    "new_data_n = pd.merge(new_data, df_imdb, on='movieId', how='left')\n",
    "\n",
    "# Assign the value of content based data variable\n",
    "content_based_data = new_data_n"
   ]
  },
  {
   "cell_type": "markdown",
   "metadata": {},
   "source": [
    "In the following cells the text data in found in the content based data is cleaned in preparation for vectorization. There is a need to deal with movie titles that have years, parenthesis and spaces in some cast information, plot keywords and movie genres."
   ]
  },
  {
   "cell_type": "code",
   "execution_count": 20,
   "metadata": {
    "id": "fbPc1u1rL9gn"
   },
   "outputs": [],
   "source": [
    "# We specify the parantheses so we don't conflict with movies that have years in their titles \n",
    "content_based_data['movie_year'] = content_based_data.title.str.extract('(\\(\\d\\d\\d\\d\\))',expand=False)\n",
    "\n",
    "# Removing the parentheses\n",
    "content_based_data['movie_year'] = content_based_data.movie_year.str.extract('(\\d\\d\\d\\d)',expand=False)\n",
    "\n",
    "# Removing the years from the 'title' column\n",
    "content_based_data['title'] = content_based_data.title.str.replace('(\\(\\d\\d\\d\\d\\))', '')\n",
    "\n",
    "# Applying the strip function to get rid of any ending whitespace characters that may have appeared\n",
    "content_based_data['title'] = content_based_data['title'].apply(lambda x: x.strip())\n",
    "\n",
    "# Remove separator from cast information column\n",
    "content_based_data['title_cast']=content_based_data['title_cast'].str.replace('|',' ')\n",
    "\n",
    "\n",
    "# Removing separator from the plot keywords column\n",
    "content_based_data['plot_keywords']= content_based_data['plot_keywords'].str.replace('|',' ')\n",
    "\n",
    "# Removing separator from the movie genre column\n",
    "content_based_data['genres'] = content_based_data['genres'].str.replace('|',' ')"
   ]
  },
  {
   "cell_type": "code",
   "execution_count": 21,
   "metadata": {
    "id": "hrgaJsOhR827"
   },
   "outputs": [
    {
     "name": "stdout",
     "output_type": "stream",
     "text": [
      "<class 'pandas.core.frame.DataFrame'>\n",
      "Int64Index: 10000 entries, 0 to 9999\n",
      "Data columns (total 12 columns):\n",
      " #   Column         Non-Null Count  Dtype  \n",
      "---  ------         --------------  -----  \n",
      " 0   userId         10000 non-null  int64  \n",
      " 1   movieId        10000 non-null  int64  \n",
      " 2   rating         10000 non-null  float64\n",
      " 3   timestamp      10000 non-null  int64  \n",
      " 4   title          10000 non-null  object \n",
      " 5   genres         10000 non-null  object \n",
      " 6   title_cast     7043 non-null   object \n",
      " 7   director       7044 non-null   object \n",
      " 8   runtime        6998 non-null   float64\n",
      " 9   budget         6483 non-null   object \n",
      " 10  plot_keywords  7034 non-null   object \n",
      " 11  movie_year     9997 non-null   object \n",
      "dtypes: float64(2), int64(3), object(7)\n",
      "memory usage: 1015.6+ KB\n"
     ]
    }
   ],
   "source": [
    "# Sample Data for Analysis (100000 rows)\n",
    "sample_content_based_data = content_based_data[0:10000]\n",
    "\n",
    "# Inspect sampled data\n",
    "sample_content_based_data.info()"
   ]
  },
  {
   "cell_type": "code",
   "execution_count": 22,
   "metadata": {
    "id": "Au3ne8bxToMm"
   },
   "outputs": [],
   "source": [
    "# Create new column to hold cast information, director details, movie genre, plot keywords and movie titles. \n",
    "\n",
    "sample_content_based_data['combined'] = (pd.Series(sample_content_based_data[['title_cast', 'director','plot_keywords','genres','title']]\n",
    "                      .fillna('')\n",
    "                      .values.tolist()).str.join(' '))"
   ]
  },
  {
   "cell_type": "code",
   "execution_count": 23,
   "metadata": {
    "colab": {
     "base_uri": "https://localhost:8080/"
    },
    "id": "FSTZE3uCUFWf",
    "outputId": "9225213f-650e-4b9b-c8f8-d4cc2702cc1e"
   },
   "outputs": [
    {
     "data": {
      "text/plain": [
       "userId              0\n",
       "movieId             0\n",
       "rating              0\n",
       "timestamp           0\n",
       "title               0\n",
       "genres              0\n",
       "title_cast       2957\n",
       "director         2956\n",
       "runtime          3002\n",
       "budget           3517\n",
       "plot_keywords    2966\n",
       "movie_year          3\n",
       "combined            0\n",
       "dtype: int64"
      ]
     },
     "execution_count": 23,
     "metadata": {},
     "output_type": "execute_result"
    }
   ],
   "source": [
    "# Check for missing values\n",
    "\n",
    "sample_content_based_data.isnull().sum()"
   ]
  },
  {
   "cell_type": "code",
   "execution_count": 24,
   "metadata": {
    "id": "w7bkSL06MDRd"
   },
   "outputs": [
    {
     "data": {
      "text/html": [
       "<div>\n",
       "<style scoped>\n",
       "    .dataframe tbody tr th:only-of-type {\n",
       "        vertical-align: middle;\n",
       "    }\n",
       "\n",
       "    .dataframe tbody tr th {\n",
       "        vertical-align: top;\n",
       "    }\n",
       "\n",
       "    .dataframe thead th {\n",
       "        text-align: right;\n",
       "    }\n",
       "</style>\n",
       "<table border=\"1\" class=\"dataframe\">\n",
       "  <thead>\n",
       "    <tr style=\"text-align: right;\">\n",
       "      <th></th>\n",
       "      <th>userId</th>\n",
       "      <th>movieId</th>\n",
       "      <th>rating</th>\n",
       "      <th>timestamp</th>\n",
       "      <th>title</th>\n",
       "      <th>genres</th>\n",
       "      <th>title_cast</th>\n",
       "      <th>director</th>\n",
       "      <th>runtime</th>\n",
       "      <th>budget</th>\n",
       "      <th>plot_keywords</th>\n",
       "      <th>movie_year</th>\n",
       "      <th>combined</th>\n",
       "      <th>content_based</th>\n",
       "    </tr>\n",
       "  </thead>\n",
       "  <tbody>\n",
       "    <tr>\n",
       "      <th>0</th>\n",
       "      <td>5163</td>\n",
       "      <td>57669</td>\n",
       "      <td>4.0</td>\n",
       "      <td>1518349992</td>\n",
       "      <td>In Bruges</td>\n",
       "      <td>Comedy Crime Drama Thriller</td>\n",
       "      <td>Elizabeth Berrington Rudy Blomme Olivier Bonjo...</td>\n",
       "      <td>Martin McDonagh</td>\n",
       "      <td>107.0</td>\n",
       "      <td>$15,000,000</td>\n",
       "      <td>dwarf bruges irish hitman</td>\n",
       "      <td>2008</td>\n",
       "      <td>Elizabeth Berrington Rudy Blomme Olivier Bonjo...</td>\n",
       "      <td>Elizabeth Berrington Rudy Blomme Olivier Bonjo...</td>\n",
       "    </tr>\n",
       "    <tr>\n",
       "      <th>1</th>\n",
       "      <td>106343</td>\n",
       "      <td>5</td>\n",
       "      <td>4.5</td>\n",
       "      <td>1206238739</td>\n",
       "      <td>Father of the Bride Part II</td>\n",
       "      <td>Comedy</td>\n",
       "      <td>Steve Martin Diane Keaton Martin Short Kimberl...</td>\n",
       "      <td>Albert Hackett</td>\n",
       "      <td>106.0</td>\n",
       "      <td>$30,000,000</td>\n",
       "      <td>fatherhood doberman dog mansion</td>\n",
       "      <td>1995</td>\n",
       "      <td>Steve Martin Diane Keaton Martin Short Kimberl...</td>\n",
       "      <td>Steve Martin Diane Keaton Martin Short Kimberl...</td>\n",
       "    </tr>\n",
       "    <tr>\n",
       "      <th>2</th>\n",
       "      <td>146790</td>\n",
       "      <td>5459</td>\n",
       "      <td>5.0</td>\n",
       "      <td>1076215539</td>\n",
       "      <td>Men in Black II (a.k.a. MIIB) (a.k.a. MIB 2)</td>\n",
       "      <td>Action Comedy Sci-Fi</td>\n",
       "      <td>Tommy Lee Jones Will Smith Rip Torn Lara Flynn...</td>\n",
       "      <td>Lowell Cunningham</td>\n",
       "      <td>88.0</td>\n",
       "      <td>$140,000,000</td>\n",
       "      <td>lingerie michael jackson character shorthaired...</td>\n",
       "      <td>2002</td>\n",
       "      <td>Tommy Lee Jones Will Smith Rip Torn Lara Flynn...</td>\n",
       "      <td>Tommy Lee Jones Will Smith Rip Torn Lara Flynn...</td>\n",
       "    </tr>\n",
       "    <tr>\n",
       "      <th>3</th>\n",
       "      <td>106362</td>\n",
       "      <td>32296</td>\n",
       "      <td>2.0</td>\n",
       "      <td>1423042565</td>\n",
       "      <td>Miss Congeniality 2: Armed and Fabulous</td>\n",
       "      <td>Adventure Comedy Crime</td>\n",
       "      <td>Sandra Bullock Regina King Enrique Murciano Wi...</td>\n",
       "      <td>Marc Lawrence</td>\n",
       "      <td>115.0</td>\n",
       "      <td>$45,000,000</td>\n",
       "      <td>female protagonist cleave gag good woman fbi</td>\n",
       "      <td>2005</td>\n",
       "      <td>Sandra Bullock Regina King Enrique Murciano Wi...</td>\n",
       "      <td>Sandra Bullock Regina King Enrique Murciano Wi...</td>\n",
       "    </tr>\n",
       "    <tr>\n",
       "      <th>4</th>\n",
       "      <td>9041</td>\n",
       "      <td>366</td>\n",
       "      <td>3.0</td>\n",
       "      <td>833375837</td>\n",
       "      <td>Wes Craven's New Nightmare (Nightmare on Elm S...</td>\n",
       "      <td>Drama Horror Mystery Thriller</td>\n",
       "      <td>Jeff Davis Heather Langenkamp Miko Hughes Matt...</td>\n",
       "      <td>Wes Craven</td>\n",
       "      <td>112.0</td>\n",
       "      <td>$8,000,000</td>\n",
       "      <td>freddy krueger elm street famous director as h...</td>\n",
       "      <td>1994</td>\n",
       "      <td>Jeff Davis Heather Langenkamp Miko Hughes Matt...</td>\n",
       "      <td>Jeff Davis Heather Langenkamp Miko Hughes Matt...</td>\n",
       "    </tr>\n",
       "  </tbody>\n",
       "</table>\n",
       "</div>"
      ],
      "text/plain": [
       "   userId  movieId  rating   timestamp  \\\n",
       "0    5163    57669     4.0  1518349992   \n",
       "1  106343        5     4.5  1206238739   \n",
       "2  146790     5459     5.0  1076215539   \n",
       "3  106362    32296     2.0  1423042565   \n",
       "4    9041      366     3.0   833375837   \n",
       "\n",
       "                                               title  \\\n",
       "0                                          In Bruges   \n",
       "1                        Father of the Bride Part II   \n",
       "2       Men in Black II (a.k.a. MIIB) (a.k.a. MIB 2)   \n",
       "3            Miss Congeniality 2: Armed and Fabulous   \n",
       "4  Wes Craven's New Nightmare (Nightmare on Elm S...   \n",
       "\n",
       "                          genres  \\\n",
       "0    Comedy Crime Drama Thriller   \n",
       "1                         Comedy   \n",
       "2           Action Comedy Sci-Fi   \n",
       "3         Adventure Comedy Crime   \n",
       "4  Drama Horror Mystery Thriller   \n",
       "\n",
       "                                          title_cast           director  \\\n",
       "0  Elizabeth Berrington Rudy Blomme Olivier Bonjo...    Martin McDonagh   \n",
       "1  Steve Martin Diane Keaton Martin Short Kimberl...     Albert Hackett   \n",
       "2  Tommy Lee Jones Will Smith Rip Torn Lara Flynn...  Lowell Cunningham   \n",
       "3  Sandra Bullock Regina King Enrique Murciano Wi...      Marc Lawrence   \n",
       "4  Jeff Davis Heather Langenkamp Miko Hughes Matt...         Wes Craven   \n",
       "\n",
       "   runtime        budget                                      plot_keywords  \\\n",
       "0    107.0   $15,000,000                          dwarf bruges irish hitman   \n",
       "1    106.0   $30,000,000                    fatherhood doberman dog mansion   \n",
       "2     88.0  $140,000,000  lingerie michael jackson character shorthaired...   \n",
       "3    115.0   $45,000,000       female protagonist cleave gag good woman fbi   \n",
       "4    112.0    $8,000,000  freddy krueger elm street famous director as h...   \n",
       "\n",
       "  movie_year                                           combined  \\\n",
       "0       2008  Elizabeth Berrington Rudy Blomme Olivier Bonjo...   \n",
       "1       1995  Steve Martin Diane Keaton Martin Short Kimberl...   \n",
       "2       2002  Tommy Lee Jones Will Smith Rip Torn Lara Flynn...   \n",
       "3       2005  Sandra Bullock Regina King Enrique Murciano Wi...   \n",
       "4       1994  Jeff Davis Heather Langenkamp Miko Hughes Matt...   \n",
       "\n",
       "                                       content_based  \n",
       "0  Elizabeth Berrington Rudy Blomme Olivier Bonjo...  \n",
       "1  Steve Martin Diane Keaton Martin Short Kimberl...  \n",
       "2  Tommy Lee Jones Will Smith Rip Torn Lara Flynn...  \n",
       "3  Sandra Bullock Regina King Enrique Murciano Wi...  \n",
       "4  Jeff Davis Heather Langenkamp Miko Hughes Matt...  "
      ]
     },
     "execution_count": 24,
     "metadata": {},
     "output_type": "execute_result"
    }
   ],
   "source": [
    "# Content Based Column with all the meta data \n",
    "sample_content_based_data['content_based'] = sample_content_based_data['title_cast']+' '\\\n",
    "                                            +sample_content_based_data['director']+' '\\\n",
    "                                            +sample_content_based_data['plot_keywords']+' '\\\n",
    "                                            +sample_content_based_data['genres']+ ' '\\\n",
    "                                            +sample_content_based_data['title']\n",
    "#Preview Data\n",
    "sample_content_based_data.head()"
   ]
  },
  {
   "cell_type": "markdown",
   "metadata": {
    "id": "GoOKi5XN9Z0t"
   },
   "source": [
    "<a id=\"seven\"></a>\n",
    "## 7. Exploratory Data Analysis (Post-Data Processing)\n",
    "<a class=\"anchor\" id=\"1.1\"></a>\n",
    "<a href=#cont>Back to Table of Contents</a>"
   ]
  },
  {
   "cell_type": "code",
   "execution_count": 25,
   "metadata": {
    "colab": {
     "base_uri": "https://localhost:8080/",
     "height": 206
    },
    "id": "-KyjbOzu9nru",
    "outputId": "016aaa32-1adf-4d3e-8c6a-b95a40bc1019"
   },
   "outputs": [
    {
     "data": {
      "text/html": [
       "<div>\n",
       "<style scoped>\n",
       "    .dataframe tbody tr th:only-of-type {\n",
       "        vertical-align: middle;\n",
       "    }\n",
       "\n",
       "    .dataframe tbody tr th {\n",
       "        vertical-align: top;\n",
       "    }\n",
       "\n",
       "    .dataframe thead th {\n",
       "        text-align: right;\n",
       "    }\n",
       "</style>\n",
       "<table border=\"1\" class=\"dataframe\">\n",
       "  <thead>\n",
       "    <tr style=\"text-align: right;\">\n",
       "      <th></th>\n",
       "      <th>title</th>\n",
       "      <th>rating</th>\n",
       "    </tr>\n",
       "  </thead>\n",
       "  <tbody>\n",
       "    <tr>\n",
       "      <th>0</th>\n",
       "      <td>Tischlein deck dich</td>\n",
       "      <td>5.0</td>\n",
       "    </tr>\n",
       "    <tr>\n",
       "      <th>1</th>\n",
       "      <td>It Seemed Like a Good Idea at the Time</td>\n",
       "      <td>5.0</td>\n",
       "    </tr>\n",
       "    <tr>\n",
       "      <th>2</th>\n",
       "      <td>Immigration Tango</td>\n",
       "      <td>5.0</td>\n",
       "    </tr>\n",
       "    <tr>\n",
       "      <th>3</th>\n",
       "      <td>Slingshot Hip Hop</td>\n",
       "      <td>5.0</td>\n",
       "    </tr>\n",
       "    <tr>\n",
       "      <th>4</th>\n",
       "      <td>Slender</td>\n",
       "      <td>5.0</td>\n",
       "    </tr>\n",
       "  </tbody>\n",
       "</table>\n",
       "</div>"
      ],
      "text/plain": [
       "                                    title  rating\n",
       "0                     Tischlein deck dich     5.0\n",
       "1  It Seemed Like a Good Idea at the Time     5.0\n",
       "2                       Immigration Tango     5.0\n",
       "3                       Slingshot Hip Hop     5.0\n",
       "4                                 Slender     5.0"
      ]
     },
     "execution_count": 25,
     "metadata": {},
     "output_type": "execute_result"
    }
   ],
   "source": [
    "# Find mean rating based on movie title\n",
    "\n",
    "content_based_data.groupby('title')['rating'].mean().sort_values(ascending=False).head().reset_index()"
   ]
  },
  {
   "cell_type": "markdown",
   "metadata": {
    "id": "1L_1_XuA9wfo"
   },
   "source": [
    "We checked the first five movies that had the best rating"
   ]
  },
  {
   "cell_type": "code",
   "execution_count": 26,
   "metadata": {
    "colab": {
     "base_uri": "https://localhost:8080/",
     "height": 455
    },
    "id": "msz7UgiM97m1",
    "outputId": "32b040e0-bd7d-4c80-fda9-663a7028df3e"
   },
   "outputs": [
    {
     "data": {
      "text/html": [
       "<div>\n",
       "<style scoped>\n",
       "    .dataframe tbody tr th:only-of-type {\n",
       "        vertical-align: middle;\n",
       "    }\n",
       "\n",
       "    .dataframe tbody tr th {\n",
       "        vertical-align: top;\n",
       "    }\n",
       "\n",
       "    .dataframe thead th {\n",
       "        text-align: right;\n",
       "    }\n",
       "</style>\n",
       "<table border=\"1\" class=\"dataframe\">\n",
       "  <thead>\n",
       "    <tr style=\"text-align: right;\">\n",
       "      <th></th>\n",
       "      <th>rating</th>\n",
       "    </tr>\n",
       "    <tr>\n",
       "      <th>title</th>\n",
       "      <th></th>\n",
       "    </tr>\n",
       "  </thead>\n",
       "  <tbody>\n",
       "    <tr>\n",
       "      <th>\"BLOW THE NIGHT!\" Let's Spend the Night Together</th>\n",
       "      <td>3.000000</td>\n",
       "    </tr>\n",
       "    <tr>\n",
       "      <th>\"Great Performances\" Cats</th>\n",
       "      <td>2.753731</td>\n",
       "    </tr>\n",
       "    <tr>\n",
       "      <th>#1 Cheerleader Camp</th>\n",
       "      <td>1.900000</td>\n",
       "    </tr>\n",
       "    <tr>\n",
       "      <th>#Female Pleasure</th>\n",
       "      <td>4.000000</td>\n",
       "    </tr>\n",
       "    <tr>\n",
       "      <th>#FollowMe</th>\n",
       "      <td>2.400000</td>\n",
       "    </tr>\n",
       "    <tr>\n",
       "      <th>...</th>\n",
       "      <td>...</td>\n",
       "    </tr>\n",
       "    <tr>\n",
       "      <th>به نام پدر</th>\n",
       "      <td>3.250000</td>\n",
       "    </tr>\n",
       "    <tr>\n",
       "      <th>…And the Fifth Horseman Is Fear</th>\n",
       "      <td>3.000000</td>\n",
       "    </tr>\n",
       "    <tr>\n",
       "      <th>チェブラーシカ</th>\n",
       "      <td>2.000000</td>\n",
       "    </tr>\n",
       "    <tr>\n",
       "      <th>貞子3D</th>\n",
       "      <td>2.562500</td>\n",
       "    </tr>\n",
       "    <tr>\n",
       "      <th>줄탁동시</th>\n",
       "      <td>3.000000</td>\n",
       "    </tr>\n",
       "  </tbody>\n",
       "</table>\n",
       "<p>45610 rows × 1 columns</p>\n",
       "</div>"
      ],
      "text/plain": [
       "                                                    rating\n",
       "title                                                     \n",
       "\"BLOW THE NIGHT!\" Let's Spend the Night Together  3.000000\n",
       "\"Great Performances\" Cats                         2.753731\n",
       "#1 Cheerleader Camp                               1.900000\n",
       "#Female Pleasure                                  4.000000\n",
       "#FollowMe                                         2.400000\n",
       "...                                                    ...\n",
       "به نام پدر                                        3.250000\n",
       "…And the Fifth Horseman Is Fear                   3.000000\n",
       "チェブラーシカ                                           2.000000\n",
       "貞子3D                                              2.562500\n",
       "줄탁동시                                              3.000000\n",
       "\n",
       "[45610 rows x 1 columns]"
      ]
     },
     "execution_count": 26,
     "metadata": {},
     "output_type": "execute_result"
    }
   ],
   "source": [
    "# Average ratig for movie titles\n",
    "ratings = pd.DataFrame(content_based_data.groupby('title')['rating'].mean())\n",
    "ratings"
   ]
  },
  {
   "cell_type": "markdown",
   "metadata": {
    "id": "OfFR5xqm-CSM"
   },
   "source": [
    "Average ratings of all users we obtained and we noticed that they were within the range of 2.3-3.3"
   ]
  },
  {
   "cell_type": "code",
   "execution_count": 27,
   "metadata": {
    "colab": {
     "base_uri": "https://localhost:8080/",
     "height": 238
    },
    "id": "fHyE9DFs-ZuF",
    "outputId": "123c934d-2e30-404b-da7b-41d8eb1a706b"
   },
   "outputs": [
    {
     "data": {
      "text/html": [
       "<div>\n",
       "<style scoped>\n",
       "    .dataframe tbody tr th:only-of-type {\n",
       "        vertical-align: middle;\n",
       "    }\n",
       "\n",
       "    .dataframe tbody tr th {\n",
       "        vertical-align: top;\n",
       "    }\n",
       "\n",
       "    .dataframe thead th {\n",
       "        text-align: right;\n",
       "    }\n",
       "</style>\n",
       "<table border=\"1\" class=\"dataframe\">\n",
       "  <thead>\n",
       "    <tr style=\"text-align: right;\">\n",
       "      <th></th>\n",
       "      <th>rating</th>\n",
       "      <th>num of ratings</th>\n",
       "    </tr>\n",
       "    <tr>\n",
       "      <th>title</th>\n",
       "      <th></th>\n",
       "      <th></th>\n",
       "    </tr>\n",
       "  </thead>\n",
       "  <tbody>\n",
       "    <tr>\n",
       "      <th>\"BLOW THE NIGHT!\" Let's Spend the Night Together</th>\n",
       "      <td>3.000000</td>\n",
       "      <td>1</td>\n",
       "    </tr>\n",
       "    <tr>\n",
       "      <th>\"Great Performances\" Cats</th>\n",
       "      <td>2.753731</td>\n",
       "      <td>67</td>\n",
       "    </tr>\n",
       "    <tr>\n",
       "      <th>#1 Cheerleader Camp</th>\n",
       "      <td>1.900000</td>\n",
       "      <td>5</td>\n",
       "    </tr>\n",
       "    <tr>\n",
       "      <th>#Female Pleasure</th>\n",
       "      <td>4.000000</td>\n",
       "      <td>1</td>\n",
       "    </tr>\n",
       "    <tr>\n",
       "      <th>#FollowMe</th>\n",
       "      <td>2.400000</td>\n",
       "      <td>5</td>\n",
       "    </tr>\n",
       "  </tbody>\n",
       "</table>\n",
       "</div>"
      ],
      "text/plain": [
       "                                                    rating  num of ratings\n",
       "title                                                                     \n",
       "\"BLOW THE NIGHT!\" Let's Spend the Night Together  3.000000               1\n",
       "\"Great Performances\" Cats                         2.753731              67\n",
       "#1 Cheerleader Camp                               1.900000               5\n",
       "#Female Pleasure                                  4.000000               1\n",
       "#FollowMe                                         2.400000               5"
      ]
     },
     "execution_count": 27,
     "metadata": {},
     "output_type": "execute_result"
    }
   ],
   "source": [
    "# Number of Ratings Per Movie Title\n",
    "\n",
    "ratings['num of ratings'] = pd.DataFrame(content_based_data.groupby('title')['rating'].count())\n",
    "ratings.head()"
   ]
  },
  {
   "cell_type": "markdown",
   "metadata": {
    "id": "GpLU8owT-Uo2"
   },
   "source": [
    "The movie Days of summer had the highest number of ratings"
   ]
  },
  {
   "cell_type": "code",
   "execution_count": 28,
   "metadata": {
    "colab": {
     "base_uri": "https://localhost:8080/"
    },
    "id": "RokcG2-F-pVr",
    "outputId": "37033b60-0013-444e-b4e4-bc1c4a1a0367"
   },
   "outputs": [
    {
     "name": "stdout",
     "output_type": "stream",
     "text": [
      "A total of  162541 users have watched a total of 48213 movies in the database/dataframe\n"
     ]
    }
   ],
   "source": [
    "print('A total of ',df_train[\"userId\"].nunique(), 'users have watched a total of',\\\n",
    "                    df_train.movieId.nunique(),'movies in the database/dataframe')"
   ]
  },
  {
   "cell_type": "code",
   "execution_count": 29,
   "metadata": {
    "colab": {
     "base_uri": "https://localhost:8080/",
     "height": 206
    },
    "id": "uzZazK1C-w1G",
    "outputId": "7b733b20-1838-4e60-e369-e54a3fa7cf9b"
   },
   "outputs": [
    {
     "data": {
      "text/html": [
       "<div>\n",
       "<style scoped>\n",
       "    .dataframe tbody tr th:only-of-type {\n",
       "        vertical-align: middle;\n",
       "    }\n",
       "\n",
       "    .dataframe tbody tr th {\n",
       "        vertical-align: top;\n",
       "    }\n",
       "\n",
       "    .dataframe thead th {\n",
       "        text-align: right;\n",
       "    }\n",
       "</style>\n",
       "<table border=\"1\" class=\"dataframe\">\n",
       "  <thead>\n",
       "    <tr style=\"text-align: right;\">\n",
       "      <th></th>\n",
       "      <th>userId</th>\n",
       "      <th>Avg_rating</th>\n",
       "      <th>Number_of_movies</th>\n",
       "    </tr>\n",
       "  </thead>\n",
       "  <tbody>\n",
       "    <tr>\n",
       "      <th>83902</th>\n",
       "      <td>83903</td>\n",
       "      <td>5.0</td>\n",
       "      <td>19</td>\n",
       "    </tr>\n",
       "    <tr>\n",
       "      <th>9631</th>\n",
       "      <td>9632</td>\n",
       "      <td>5.0</td>\n",
       "      <td>5</td>\n",
       "    </tr>\n",
       "    <tr>\n",
       "      <th>161714</th>\n",
       "      <td>161715</td>\n",
       "      <td>5.0</td>\n",
       "      <td>7</td>\n",
       "    </tr>\n",
       "    <tr>\n",
       "      <th>45507</th>\n",
       "      <td>45508</td>\n",
       "      <td>5.0</td>\n",
       "      <td>9</td>\n",
       "    </tr>\n",
       "    <tr>\n",
       "      <th>42156</th>\n",
       "      <td>42157</td>\n",
       "      <td>5.0</td>\n",
       "      <td>8</td>\n",
       "    </tr>\n",
       "  </tbody>\n",
       "</table>\n",
       "</div>"
      ],
      "text/plain": [
       "        userId  Avg_rating  Number_of_movies\n",
       "83902    83903         5.0                19\n",
       "9631      9632         5.0                 5\n",
       "161714  161715         5.0                 7\n",
       "45507    45508         5.0                 9\n",
       "42156    42157         5.0                 8"
      ]
     },
     "execution_count": 29,
     "metadata": {},
     "output_type": "execute_result"
    }
   ],
   "source": [
    "# Create a Dataframe consisting of the users average rating the give per user and number of times they have rated movies\n",
    "user_rating_mean = pd.DataFrame(df_train.groupby('userId')['rating'].mean().reset_index())\n",
    "user_rating_count = pd.DataFrame(df_train.groupby('userId')['rating'].count().reset_index())\n",
    "\n",
    "# Merge the above to dataframe \n",
    "comb_user_rating = user_rating_mean.merge(user_rating_count,on='userId',how = 'left')\n",
    "\n",
    "# Rename the columns respectively\n",
    "comb_user_rating.rename(columns={'rating_x':'Avg_rating','rating_y':'Number_of_movies'},inplace = True)\n",
    "\n",
    "# Sort the data in descending of the number of movies the user has rated\n",
    "comb_user_rating = comb_user_rating.sort_values('Avg_rating', ascending = False)\n",
    "\n",
    "# Show 5 observations \n",
    "comb_user_rating.head()"
   ]
  },
  {
   "cell_type": "markdown",
   "metadata": {
    "id": "d5kxIvAz-6qb"
   },
   "source": [
    "The userId 83903 had the highest number of movies watched"
   ]
  },
  {
   "cell_type": "code",
   "execution_count": 30,
   "metadata": {
    "colab": {
     "base_uri": "https://localhost:8080/",
     "height": 423
    },
    "id": "QLZagChm_A_b",
    "outputId": "58f2f79b-767a-439b-edcc-244a127a1285"
   },
   "outputs": [
    {
     "data": {
      "text/html": [
       "<div>\n",
       "<style scoped>\n",
       "    .dataframe tbody tr th:only-of-type {\n",
       "        vertical-align: middle;\n",
       "    }\n",
       "\n",
       "    .dataframe tbody tr th {\n",
       "        vertical-align: top;\n",
       "    }\n",
       "\n",
       "    .dataframe thead th {\n",
       "        text-align: right;\n",
       "    }\n",
       "</style>\n",
       "<table border=\"1\" class=\"dataframe\">\n",
       "  <thead>\n",
       "    <tr style=\"text-align: right;\">\n",
       "      <th></th>\n",
       "      <th>userId</th>\n",
       "      <th>title</th>\n",
       "      <th>movie_year</th>\n",
       "    </tr>\n",
       "  </thead>\n",
       "  <tbody>\n",
       "    <tr>\n",
       "      <th>0</th>\n",
       "      <td>5163</td>\n",
       "      <td>In Bruges</td>\n",
       "      <td>2008</td>\n",
       "    </tr>\n",
       "    <tr>\n",
       "      <th>1</th>\n",
       "      <td>106343</td>\n",
       "      <td>Father of the Bride Part II</td>\n",
       "      <td>1995</td>\n",
       "    </tr>\n",
       "    <tr>\n",
       "      <th>2</th>\n",
       "      <td>146790</td>\n",
       "      <td>Men in Black II (a.k.a. MIIB) (a.k.a. MIB 2)</td>\n",
       "      <td>2002</td>\n",
       "    </tr>\n",
       "    <tr>\n",
       "      <th>3</th>\n",
       "      <td>106362</td>\n",
       "      <td>Miss Congeniality 2: Armed and Fabulous</td>\n",
       "      <td>2005</td>\n",
       "    </tr>\n",
       "    <tr>\n",
       "      <th>4</th>\n",
       "      <td>9041</td>\n",
       "      <td>Wes Craven's New Nightmare (Nightmare on Elm S...</td>\n",
       "      <td>1994</td>\n",
       "    </tr>\n",
       "    <tr>\n",
       "      <th>...</th>\n",
       "      <td>...</td>\n",
       "      <td>...</td>\n",
       "      <td>...</td>\n",
       "    </tr>\n",
       "    <tr>\n",
       "      <th>9996388</th>\n",
       "      <td>91549</td>\n",
       "      <td>People vs. Larry Flynt, The</td>\n",
       "      <td>1996</td>\n",
       "    </tr>\n",
       "    <tr>\n",
       "      <th>9996465</th>\n",
       "      <td>8513</td>\n",
       "      <td>Frost/Nixon</td>\n",
       "      <td>2008</td>\n",
       "    </tr>\n",
       "    <tr>\n",
       "      <th>9996772</th>\n",
       "      <td>55494</td>\n",
       "      <td>Thelma &amp; Louise</td>\n",
       "      <td>1991</td>\n",
       "    </tr>\n",
       "    <tr>\n",
       "      <th>9996780</th>\n",
       "      <td>57926</td>\n",
       "      <td>M*A*S*H (a.k.a. MASH)</td>\n",
       "      <td>1970</td>\n",
       "    </tr>\n",
       "    <tr>\n",
       "      <th>9997455</th>\n",
       "      <td>130162</td>\n",
       "      <td>Fly, The</td>\n",
       "      <td>1958</td>\n",
       "    </tr>\n",
       "  </tbody>\n",
       "</table>\n",
       "<p>811860 rows × 3 columns</p>\n",
       "</div>"
      ],
      "text/plain": [
       "         userId                                              title movie_year\n",
       "0          5163                                          In Bruges       2008\n",
       "1        106343                        Father of the Bride Part II       1995\n",
       "2        146790       Men in Black II (a.k.a. MIIB) (a.k.a. MIB 2)       2002\n",
       "3        106362            Miss Congeniality 2: Armed and Fabulous       2005\n",
       "4          9041  Wes Craven's New Nightmare (Nightmare on Elm S...       1994\n",
       "...         ...                                                ...        ...\n",
       "9996388   91549                        People vs. Larry Flynt, The       1996\n",
       "9996465    8513                                        Frost/Nixon       2008\n",
       "9996772   55494                                    Thelma & Louise       1991\n",
       "9996780   57926                              M*A*S*H (a.k.a. MASH)       1970\n",
       "9997455  130162                                           Fly, The       1958\n",
       "\n",
       "[811860 rows x 3 columns]"
      ]
     },
     "execution_count": 30,
     "metadata": {},
     "output_type": "execute_result"
    }
   ],
   "source": [
    "user_pref=content_based_data.groupby('userId')['userId','title','movie_year']\n",
    "user_pref.head()"
   ]
  },
  {
   "cell_type": "markdown",
   "metadata": {
    "id": "ybQ1p3f2_GPY"
   },
   "source": [
    "The movie year column shows the year every movies was produced."
   ]
  },
  {
   "cell_type": "markdown",
   "metadata": {
    "id": "cSbpoSxIk7XC"
   },
   "source": [
    "<a id=\"eight\"></a>\n",
    "## 8. Modelling and Model Performance\n",
    "<a class=\"anchor\" id=\"1.1\"></a>\n",
    "<a href=#cont>Back to Table of Contents</a>"
   ]
  },
  {
   "cell_type": "markdown",
   "metadata": {
    "id": "AskbqDZa_6Ti"
   },
   "source": [
    "In other to find solutions to this business problem we decided to use the recommender system. It is divided into:\n",
    "### 1. Collaborative Filtering\n",
    "\n",
    "The collaborative filtering method is based on gathering and analyzing data on user’s behavior. This includes the user’s online activities and predicting what they will like based on the similarity with other users."
   ]
  },
  {
   "cell_type": "markdown",
   "metadata": {
    "id": "3Jpo4ptP__gr"
   },
   "source": [
    "<img alt=\"Collaborative Filtering\" class=\"cf kg kh\" src=\"https://miro.medium.com/max/1400/1*SPE85ePd_aiJDO9RVbfbig.png\" width=\"700\" height=\"676\">"
   ]
  },
  {
   "cell_type": "markdown",
   "metadata": {},
   "source": [
    "To start off with the collaborative recommendation, we would use the Singular Value Decomposition found in `suprise` library in `sklearn`. \n",
    "`Surprise` is a Python scikit for building and analyzing recommender systems that deal with explicit rating data."
   ]
  },
  {
   "cell_type": "markdown",
   "metadata": {},
   "source": [
    "<img alt=\"\" class=\"cf lc ld\" src=\"https://miro.medium.com/max/875/1*dnvjYsiEhj-NzFf6ZeCETg.jpeg\" width=\"700\" height=\"443\" role=\"presentation\">"
   ]
  },
  {
   "cell_type": "markdown",
   "metadata": {},
   "source": [
    "**Singular Value Decomposition**\n",
    "SVD is part of the method of principal components analysis, which is used to reduce the number of factors to a smaller number of factor groups (principal components) by specific operations in linear algebra, analogous to finding the least common denominator among a series of divisors in a group of numbers."
   ]
  },
  {
   "cell_type": "markdown",
   "metadata": {},
   "source": [
    "<img src=\"https://encrypted-tbn0.gstatic.com/images?q=tbn:ANd9GcTBguoc1HE5vKPG3HZHejvDSXQgE9cxKwWXTA&amp;usqp=CAU\" class=\"rg_i Q4LuWd\" jsname=\"Q4LuWd\" width=\"500\" height=\"200\" alt=\"What is Singular Value Decomposition (SVD)? A 2-minute visual guide. [OC] :  r/computerscience\" data-iml=\"58052.5\">"
   ]
  },
  {
   "cell_type": "code",
   "execution_count": 41,
   "metadata": {
    "id": "2X3XKyYjAKjj"
   },
   "outputs": [],
   "source": [
    "reader = Reader()\n",
    "data = Dataset.load_from_df(df_train[['userId', 'movieId', 'rating']], reader)\n",
    "svd = SVD()"
   ]
  },
  {
   "cell_type": "markdown",
   "metadata": {},
   "source": [
    "Now lets use the built-in datasets to obtain our trainset and fit our model to it."
   ]
  },
  {
   "cell_type": "code",
   "execution_count": null,
   "metadata": {},
   "outputs": [],
   "source": [
    "data = df_train.sample(n=10000)\n",
    "data = Dataset.load_from_df(data[['userId', 'movieId', 'rating']], reader)\n",
    "\n",
    "benchmark = []\n",
    "# Iterate over all algorithms\n",
    "\n",
    "algorithms = [SVD(), SVDpp(), SlopeOne(), NMF(), NormalPredictor(), KNNBaseline(), KNNBasic(), \n",
    "              KNNWithMeans(), KNNWithZScore(), BaselineOnly(), CoClustering()]\n",
    "\n",
    "print (\"Attempting: \", str(algorithms), '\\n\\n\\n')\n",
    "\n",
    "for algorithm in algorithms:\n",
    "    print(\"Starting: \" ,str(algorithm))\n",
    "    \n",
    "    # Perform cross validation\n",
    "    results = cross_validate(algorithm, data, measures=['RMSE'], cv=3, verbose=False)\n",
    "  \n",
    "    \n",
    "    # Get results & append algorithm name\n",
    "    tmp = pd.DataFrame.from_dict(results).mean(axis=0)\n",
    "    tmp = tmp.append(pd.Series([str(algorithm).split(' ')[0].split('.')[-1]], index=['Algorithm']))\n",
    "    benchmark.append(tmp)\n",
    "    print(\"Done: \" ,str(algorithm), \"\\n\\n\")\n",
    "\n",
    "print ('\\n\\tDONE\\n')"
   ]
  },
  {
   "cell_type": "code",
   "execution_count": 42,
   "metadata": {
    "colab": {
     "base_uri": "https://localhost:8080/"
    },
    "id": "fUIZzxL8AWHc",
    "outputId": "61579951-3ebf-4b74-9765-50c8b6cdee69"
   },
   "outputs": [
    {
     "name": "stdout",
     "output_type": "stream",
     "text": [
      "> OK\n",
      "Training...\n",
      "Done.\n"
     ]
    }
   ],
   "source": [
    "trainset = data.build_full_trainset()\n",
    "print(\"> OK\")\n",
    "\n",
    "print(\"Training...\")\n",
    "svd.fit(trainset)\n",
    "print(\"Done.\")"
   ]
  },
  {
   "cell_type": "markdown",
   "metadata": {
    "id": "QDrHCp8kEylh"
   },
   "source": [
    "### 2. Content-Based Filtering\n",
    "\n",
    "Content-based filtering methods are based on the description of a product and a profile of the user’s preferred choices. In this recommendation system, products are described using keywords, and a user profile is built to express the kind of item this user likes."
   ]
  },
  {
   "cell_type": "markdown",
   "metadata": {
    "id": "qxjsMmZmE8gP"
   },
   "source": [
    "<img alt=\"Content-Based Filtering\" class=\"cf kg kh\" src=\"https://miro.medium.com/max/1400/1*3YEZG1dEqvNz70h0uhP5Fg.png\" width=\"700\" height=\"676\">"
   ]
  },
  {
   "cell_type": "markdown",
   "metadata": {
    "id": "u1DmA2b8gz0J"
   },
   "source": [
    "To derive our content based recommender system, we gathered the various properties of our items so that we can convert them into meaningful features. This was done in the feature engineering section. We combined five (5) different features such as `title`, `title cast`, `director`, `plot keywords` and `genre`. We are going to utilize the combined feature of the `new_content_based_data`. Now lets examine the first five rows of the data."
   ]
  },
  {
   "cell_type": "code",
   "execution_count": 137,
   "metadata": {
    "colab": {
     "base_uri": "https://localhost:8080/",
     "height": 528
    },
    "id": "osc3XldxbP28",
    "outputId": "da730efa-3973-492a-a989-d3a45bab0cff"
   },
   "outputs": [
    {
     "data": {
      "text/html": [
       "\n",
       "  <div id=\"df-c503686b-09c7-49d2-aac5-14542a8788c4\">\n",
       "    <div class=\"colab-df-container\">\n",
       "      <div>\n",
       "<style scoped>\n",
       "    .dataframe tbody tr th:only-of-type {\n",
       "        vertical-align: middle;\n",
       "    }\n",
       "\n",
       "    .dataframe tbody tr th {\n",
       "        vertical-align: top;\n",
       "    }\n",
       "\n",
       "    .dataframe thead th {\n",
       "        text-align: right;\n",
       "    }\n",
       "</style>\n",
       "<table border=\"1\" class=\"dataframe\">\n",
       "  <thead>\n",
       "    <tr style=\"text-align: right;\">\n",
       "      <th></th>\n",
       "      <th>userId</th>\n",
       "      <th>movieId</th>\n",
       "      <th>rating</th>\n",
       "      <th>timestamp</th>\n",
       "      <th>title</th>\n",
       "      <th>genres</th>\n",
       "      <th>title_cast</th>\n",
       "      <th>director</th>\n",
       "      <th>runtime</th>\n",
       "      <th>budget</th>\n",
       "      <th>plot_keywords</th>\n",
       "      <th>movie_year</th>\n",
       "      <th>content_based</th>\n",
       "      <th>combined</th>\n",
       "    </tr>\n",
       "  </thead>\n",
       "  <tbody>\n",
       "    <tr>\n",
       "      <th>0</th>\n",
       "      <td>5163</td>\n",
       "      <td>57669</td>\n",
       "      <td>4.0</td>\n",
       "      <td>1518349992</td>\n",
       "      <td>In Bruges</td>\n",
       "      <td>Comedy Crime Drama Thriller</td>\n",
       "      <td>Elizabeth Berrington Rudy Blomme Olivier Bonjo...</td>\n",
       "      <td>Martin McDonagh</td>\n",
       "      <td>107.0</td>\n",
       "      <td>$15,000,000</td>\n",
       "      <td>dwarf bruges irish hitman</td>\n",
       "      <td>2008</td>\n",
       "      <td>Elizabeth Berrington Rudy Blomme Olivier Bonjo...</td>\n",
       "      <td>Elizabeth Berrington Rudy Blomme Olivier Bonjo...</td>\n",
       "    </tr>\n",
       "    <tr>\n",
       "      <th>1</th>\n",
       "      <td>106343</td>\n",
       "      <td>5</td>\n",
       "      <td>4.5</td>\n",
       "      <td>1206238739</td>\n",
       "      <td>Father of the Bride Part II</td>\n",
       "      <td>Comedy</td>\n",
       "      <td>Steve Martin Diane Keaton Martin Short Kimberl...</td>\n",
       "      <td>Albert Hackett</td>\n",
       "      <td>106.0</td>\n",
       "      <td>$30,000,000</td>\n",
       "      <td>fatherhood doberman dog mansion</td>\n",
       "      <td>1995</td>\n",
       "      <td>Steve Martin Diane Keaton Martin Short Kimberl...</td>\n",
       "      <td>Steve Martin Diane Keaton Martin Short Kimberl...</td>\n",
       "    </tr>\n",
       "    <tr>\n",
       "      <th>2</th>\n",
       "      <td>146790</td>\n",
       "      <td>5459</td>\n",
       "      <td>5.0</td>\n",
       "      <td>1076215539</td>\n",
       "      <td>Men in Black II (a.k.a. MIIB) (a.k.a. MIB 2)</td>\n",
       "      <td>Action Comedy Sci-Fi</td>\n",
       "      <td>Tommy Lee Jones Will Smith Rip Torn Lara Flynn...</td>\n",
       "      <td>Lowell Cunningham</td>\n",
       "      <td>88.0</td>\n",
       "      <td>$140,000,000</td>\n",
       "      <td>lingerie michael jackson character shorthaired...</td>\n",
       "      <td>2002</td>\n",
       "      <td>Tommy Lee Jones Will Smith Rip Torn Lara Flynn...</td>\n",
       "      <td>Tommy Lee Jones Will Smith Rip Torn Lara Flynn...</td>\n",
       "    </tr>\n",
       "    <tr>\n",
       "      <th>3</th>\n",
       "      <td>106362</td>\n",
       "      <td>32296</td>\n",
       "      <td>2.0</td>\n",
       "      <td>1423042565</td>\n",
       "      <td>Miss Congeniality 2: Armed and Fabulous</td>\n",
       "      <td>Adventure Comedy Crime</td>\n",
       "      <td>Sandra Bullock Regina King Enrique Murciano Wi...</td>\n",
       "      <td>Marc Lawrence</td>\n",
       "      <td>115.0</td>\n",
       "      <td>$45,000,000</td>\n",
       "      <td>female protagonist cleave gag good woman fbi</td>\n",
       "      <td>2005</td>\n",
       "      <td>Sandra Bullock Regina King Enrique Murciano Wi...</td>\n",
       "      <td>Sandra Bullock Regina King Enrique Murciano Wi...</td>\n",
       "    </tr>\n",
       "    <tr>\n",
       "      <th>4</th>\n",
       "      <td>9041</td>\n",
       "      <td>366</td>\n",
       "      <td>3.0</td>\n",
       "      <td>833375837</td>\n",
       "      <td>Wes Craven's New Nightmare (Nightmare on Elm S...</td>\n",
       "      <td>Drama Horror Mystery Thriller</td>\n",
       "      <td>Jeff Davis Heather Langenkamp Miko Hughes Matt...</td>\n",
       "      <td>Wes Craven</td>\n",
       "      <td>112.0</td>\n",
       "      <td>$8,000,000</td>\n",
       "      <td>freddy krueger elm street famous director as h...</td>\n",
       "      <td>1994</td>\n",
       "      <td>Jeff Davis Heather Langenkamp Miko Hughes Matt...</td>\n",
       "      <td>Jeff Davis Heather Langenkamp Miko Hughes Matt...</td>\n",
       "    </tr>\n",
       "  </tbody>\n",
       "</table>\n",
       "</div>\n",
       "      <button class=\"colab-df-convert\" onclick=\"convertToInteractive('df-c503686b-09c7-49d2-aac5-14542a8788c4')\"\n",
       "              title=\"Convert this dataframe to an interactive table.\"\n",
       "              style=\"display:none;\">\n",
       "        \n",
       "  <svg xmlns=\"http://www.w3.org/2000/svg\" height=\"24px\"viewBox=\"0 0 24 24\"\n",
       "       width=\"24px\">\n",
       "    <path d=\"M0 0h24v24H0V0z\" fill=\"none\"/>\n",
       "    <path d=\"M18.56 5.44l.94 2.06.94-2.06 2.06-.94-2.06-.94-.94-2.06-.94 2.06-2.06.94zm-11 1L8.5 8.5l.94-2.06 2.06-.94-2.06-.94L8.5 2.5l-.94 2.06-2.06.94zm10 10l.94 2.06.94-2.06 2.06-.94-2.06-.94-.94-2.06-.94 2.06-2.06.94z\"/><path d=\"M17.41 7.96l-1.37-1.37c-.4-.4-.92-.59-1.43-.59-.52 0-1.04.2-1.43.59L10.3 9.45l-7.72 7.72c-.78.78-.78 2.05 0 2.83L4 21.41c.39.39.9.59 1.41.59.51 0 1.02-.2 1.41-.59l7.78-7.78 2.81-2.81c.8-.78.8-2.07 0-2.86zM5.41 20L4 18.59l7.72-7.72 1.47 1.35L5.41 20z\"/>\n",
       "  </svg>\n",
       "      </button>\n",
       "      \n",
       "  <style>\n",
       "    .colab-df-container {\n",
       "      display:flex;\n",
       "      flex-wrap:wrap;\n",
       "      gap: 12px;\n",
       "    }\n",
       "\n",
       "    .colab-df-convert {\n",
       "      background-color: #E8F0FE;\n",
       "      border: none;\n",
       "      border-radius: 50%;\n",
       "      cursor: pointer;\n",
       "      display: none;\n",
       "      fill: #1967D2;\n",
       "      height: 32px;\n",
       "      padding: 0 0 0 0;\n",
       "      width: 32px;\n",
       "    }\n",
       "\n",
       "    .colab-df-convert:hover {\n",
       "      background-color: #E2EBFA;\n",
       "      box-shadow: 0px 1px 2px rgba(60, 64, 67, 0.3), 0px 1px 3px 1px rgba(60, 64, 67, 0.15);\n",
       "      fill: #174EA6;\n",
       "    }\n",
       "\n",
       "    [theme=dark] .colab-df-convert {\n",
       "      background-color: #3B4455;\n",
       "      fill: #D2E3FC;\n",
       "    }\n",
       "\n",
       "    [theme=dark] .colab-df-convert:hover {\n",
       "      background-color: #434B5C;\n",
       "      box-shadow: 0px 1px 3px 1px rgba(0, 0, 0, 0.15);\n",
       "      filter: drop-shadow(0px 1px 2px rgba(0, 0, 0, 0.3));\n",
       "      fill: #FFFFFF;\n",
       "    }\n",
       "  </style>\n",
       "\n",
       "      <script>\n",
       "        const buttonEl =\n",
       "          document.querySelector('#df-c503686b-09c7-49d2-aac5-14542a8788c4 button.colab-df-convert');\n",
       "        buttonEl.style.display =\n",
       "          google.colab.kernel.accessAllowed ? 'block' : 'none';\n",
       "\n",
       "        async function convertToInteractive(key) {\n",
       "          const element = document.querySelector('#df-c503686b-09c7-49d2-aac5-14542a8788c4');\n",
       "          const dataTable =\n",
       "            await google.colab.kernel.invokeFunction('convertToInteractive',\n",
       "                                                     [key], {});\n",
       "          if (!dataTable) return;\n",
       "\n",
       "          const docLinkHtml = 'Like what you see? Visit the ' +\n",
       "            '<a target=\"_blank\" href=https://colab.research.google.com/notebooks/data_table.ipynb>data table notebook</a>'\n",
       "            + ' to learn more about interactive tables.';\n",
       "          element.innerHTML = '';\n",
       "          dataTable['output_type'] = 'display_data';\n",
       "          await google.colab.output.renderOutput(dataTable, element);\n",
       "          const docLink = document.createElement('div');\n",
       "          docLink.innerHTML = docLinkHtml;\n",
       "          element.appendChild(docLink);\n",
       "        }\n",
       "      </script>\n",
       "    </div>\n",
       "  </div>\n",
       "  "
      ],
      "text/plain": [
       "   userId  movieId  rating   timestamp  \\\n",
       "0    5163    57669     4.0  1518349992   \n",
       "1  106343        5     4.5  1206238739   \n",
       "2  146790     5459     5.0  1076215539   \n",
       "3  106362    32296     2.0  1423042565   \n",
       "4    9041      366     3.0   833375837   \n",
       "\n",
       "                                               title  \\\n",
       "0                                          In Bruges   \n",
       "1                        Father of the Bride Part II   \n",
       "2       Men in Black II (a.k.a. MIIB) (a.k.a. MIB 2)   \n",
       "3            Miss Congeniality 2: Armed and Fabulous   \n",
       "4  Wes Craven's New Nightmare (Nightmare on Elm S...   \n",
       "\n",
       "                          genres  \\\n",
       "0    Comedy Crime Drama Thriller   \n",
       "1                         Comedy   \n",
       "2           Action Comedy Sci-Fi   \n",
       "3         Adventure Comedy Crime   \n",
       "4  Drama Horror Mystery Thriller   \n",
       "\n",
       "                                          title_cast           director  \\\n",
       "0  Elizabeth Berrington Rudy Blomme Olivier Bonjo...    Martin McDonagh   \n",
       "1  Steve Martin Diane Keaton Martin Short Kimberl...     Albert Hackett   \n",
       "2  Tommy Lee Jones Will Smith Rip Torn Lara Flynn...  Lowell Cunningham   \n",
       "3  Sandra Bullock Regina King Enrique Murciano Wi...      Marc Lawrence   \n",
       "4  Jeff Davis Heather Langenkamp Miko Hughes Matt...         Wes Craven   \n",
       "\n",
       "   runtime        budget                                      plot_keywords  \\\n",
       "0    107.0   $15,000,000                          dwarf bruges irish hitman   \n",
       "1    106.0   $30,000,000                    fatherhood doberman dog mansion   \n",
       "2     88.0  $140,000,000  lingerie michael jackson character shorthaired...   \n",
       "3    115.0   $45,000,000       female protagonist cleave gag good woman fbi   \n",
       "4    112.0    $8,000,000  freddy krueger elm street famous director as h...   \n",
       "\n",
       "  movie_year                                      content_based  \\\n",
       "0       2008  Elizabeth Berrington Rudy Blomme Olivier Bonjo...   \n",
       "1       1995  Steve Martin Diane Keaton Martin Short Kimberl...   \n",
       "2       2002  Tommy Lee Jones Will Smith Rip Torn Lara Flynn...   \n",
       "3       2005  Sandra Bullock Regina King Enrique Murciano Wi...   \n",
       "4       1994  Jeff Davis Heather Langenkamp Miko Hughes Matt...   \n",
       "\n",
       "                                            combined  \n",
       "0  Elizabeth Berrington Rudy Blomme Olivier Bonjo...  \n",
       "1  Steve Martin Diane Keaton Martin Short Kimberl...  \n",
       "2  Tommy Lee Jones Will Smith Rip Torn Lara Flynn...  \n",
       "3  Sandra Bullock Regina King Enrique Murciano Wi...  \n",
       "4  Jeff Davis Heather Langenkamp Miko Hughes Matt...  "
      ]
     },
     "execution_count": 137,
     "metadata": {},
     "output_type": "execute_result"
    }
   ],
   "source": [
    "new_content_based_data.head()"
   ]
  },
  {
   "cell_type": "code",
   "execution_count": 138,
   "metadata": {
    "id": "sLg5BwcQNBuF"
   },
   "outputs": [],
   "source": [
    "new_content_based_data=new_content_based_data.reset_index()\n",
    "titles = new_content_based_data['title']\n",
    "indices = pd.Series(new_content_based_data.index, index=new_content_based_data['title'])"
   ]
  },
  {
   "cell_type": "markdown",
   "metadata": {
    "id": "UaTO-f3Bibej"
   },
   "source": [
    "We now need a mechanism to convert these textual features into a format which enables us to compute their relative similarities to one another.\n",
    "This will allow us to translate our string-based collection of tags and authors into numerical vectors"
   ]
  },
  {
   "cell_type": "markdown",
   "metadata": {},
   "source": [
    "<img src=\"data:image/jpeg;base64,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\" data-deferred=\"1\" class=\"rg_i Q4LuWd\" jsname=\"Q4LuWd\" width=\"500\" height=\"184\" alt=\"TF-IDF Vectorizer scikit-learn. Deep understanding TfidfVectorizer by… | by  Mukesh Chaudhary | Medium\" data-iml=\"967.8000000007451\" data-atf=\"true\">"
   ]
  },
  {
   "cell_type": "code",
   "execution_count": 139,
   "metadata": {
    "id": "eggZaSn2ND-O"
   },
   "outputs": [],
   "source": [
    "tf = TfidfVectorizer(analyzer='word', ngram_range=(1,2),\n",
    "                     min_df=0, stop_words='english')\n",
    "\n",
    "# Produce a feature matrix, where each row corresponds to a book,\n",
    "# with TF-IDF features as columns \n",
    "tf_authTags_matrix = tf.fit_transform(new_content_based_data['combined']) "
   ]
  },
  {
   "cell_type": "markdown",
   "metadata": {
    "id": "Gl4DT7feiiL3"
   },
   "source": [
    "We now can compute the similarity between each vector within our matrix. This is done by making use of the `cosine_similarity` function provided to us by `sklearn`."
   ]
  },
  {
   "cell_type": "markdown",
   "metadata": {},
   "source": [
    "<img data-ils=\"4\" jsaction=\"rcuQ6b:trigger.M8vzZb;\" class=\"rg_i Q4LuWd\" jsname=\"Q4LuWd\" width=\"500\" height=\"180\" alt=\"What is Cosine Similarity? How to Compare Text and Images in Python | by  Ben Chamblee | Towards Data Science\" src=\"https://encrypted-tbn0.gstatic.com/images?q=tbn:ANd9GcR5Phznfs7A495kKUiDWrr7Wv3EYt5xKjqoyQ&amp;usqp=CAU\">"
   ]
  },
  {
   "cell_type": "code",
   "execution_count": 140,
   "metadata": {
    "colab": {
     "base_uri": "https://localhost:8080/"
    },
    "id": "-oxbSkWEODCb",
    "outputId": "82c09143-e4e0-4aa3-ee6d-bc087249921f"
   },
   "outputs": [
    {
     "name": "stdout",
     "output_type": "stream",
     "text": [
      "(10000, 10000)\n"
     ]
    }
   ],
   "source": [
    "cosine_sim_authTags = cosine_similarity(tf_authTags_matrix, \n",
    "                                        tf_authTags_matrix)\n",
    "print (cosine_sim_authTags.shape)"
   ]
  },
  {
   "cell_type": "markdown",
   "metadata": {
    "id": "gywWbku0jBFl"
   },
   "source": [
    "The resulting structure is a $10000 \\times 10000$ dense similarity matrix $S^I$, where the value of the entry in the $i^{th}$ row and $j^{th}$ column, $S^I_{i,j}$, corresponds to the similarity of books $i$ and $j$ within our dataset.\n",
    "\n",
    "Using this notation, if $i$ and $j$ are the same number (i.e. all the diagonal entries in $S^I$), then the similarity value is equal to 1 (an item is completely similar to itself). "
   ]
  },
  {
   "cell_type": "code",
   "execution_count": 141,
   "metadata": {
    "colab": {
     "base_uri": "https://localhost:8080/"
    },
    "id": "XzUxUhWlOL_b",
    "outputId": "14d79248-4218-46b1-91c8-7dcc1b5e5fd0"
   },
   "outputs": [
    {
     "data": {
      "text/plain": [
       "array([[1.00000000e+00, 8.51484101e-03, 9.15500175e-04, ...,\n",
       "        6.46663168e-03, 0.00000000e+00, 2.89922943e-03],\n",
       "       [8.51484101e-03, 1.00000000e+00, 1.47244446e-02, ...,\n",
       "        2.72006095e-03, 4.72887411e-03, 2.06447131e-03],\n",
       "       [9.15500175e-04, 1.47244446e-02, 1.00000000e+00, ...,\n",
       "        1.29907683e-02, 3.12510055e-03, 7.20444829e-03],\n",
       "       ...,\n",
       "       [6.46663168e-03, 2.72006095e-03, 1.29907683e-02, ...,\n",
       "        1.00000000e+00, 0.00000000e+00, 0.00000000e+00],\n",
       "       [0.00000000e+00, 4.72887411e-03, 3.12510055e-03, ...,\n",
       "        0.00000000e+00, 1.00000000e+00, 0.00000000e+00],\n",
       "       [2.89922943e-03, 2.06447131e-03, 7.20444829e-03, ...,\n",
       "        0.00000000e+00, 0.00000000e+00, 1.00000000e+00]])"
      ]
     },
     "execution_count": 141,
     "metadata": {},
     "output_type": "execute_result"
    }
   ],
   "source": [
    "cosine_sim_authTags"
   ]
  },
  {
   "cell_type": "markdown",
   "metadata": {
    "id": "jTAxdzVhjid9"
   },
   "source": [
    "#### Top Recommendations\n",
    "\n",
    "With our content similarity matrix computed, we're now ready to make some recommendations! Let's begin by generating a top list of books similar to one which we prompt the system with.    \n",
    "\n",
    "Following along from our earlier algorithmic explanation, we do this by: \n",
    "\n",
    "  1. Select an initial item (movies) to generate recommendations from. \n",
    "  2. Extract all the similarity values between the initial item and each other item in the similarity matrix.\n",
    "  3. Sort the resulting values in descending order. \n",
    "  4. Select the top similarity values, and return the corresponding item details to the user.  \n",
    "  "
   ]
  },
  {
   "cell_type": "code",
   "execution_count": 164,
   "metadata": {
    "id": "0D1k5LOOOWbU"
   },
   "outputs": [],
   "source": [
    "def get_recommendations(title):\n",
    "    idx = indices[title]\n",
    "    sim_scores = list(enumerate(cosine_sim_authTags[idx]))\n",
    "    sim_scores = sorted(sim_scores, key=lambda x: x[1], reverse=True)\n",
    "    sim_scores = sim_scores[1:31]\n",
    "    movie_indices = [i[0] for i in sim_scores]\n",
    "    return titles.iloc[movie_indices]"
   ]
  },
  {
   "cell_type": "code",
   "execution_count": 159,
   "metadata": {
    "colab": {
     "base_uri": "https://localhost:8080/"
    },
    "id": "DeMHuJxkOqWh",
    "outputId": "9c89b6b1-d10c-4976-d5fd-2832dbab9a7b"
   },
   "outputs": [
    {
     "data": {
      "text/plain": [
       "6512    Miss Congeniality\n",
       "6760    Miss Congeniality\n",
       "9074    Miss Congeniality\n",
       "9294    Miss Congeniality\n",
       "Name: title, dtype: object"
      ]
     },
     "execution_count": 159,
     "metadata": {},
     "output_type": "execute_result"
    }
   ],
   "source": [
    "get_recommendations(\"Miss Congeniality 2: Armed and Fabulous\") "
   ]
  },
  {
   "cell_type": "markdown",
   "metadata": {
    "id": "isMgNyK_j2eV"
   },
   "source": [
    "Please note that due to large computing storage and the extensive computing time, we restrited our data to $10,000$ rows "
   ]
  },
  {
   "cell_type": "code",
   "execution_count": null,
   "metadata": {
    "id": "cvdr7T3FkgpJ"
   },
   "outputs": [],
   "source": []
  }
 ],
 "metadata": {
  "accelerator": "TPU",
  "colab": {
   "collapsed_sections": [],
   "machine_shape": "hm",
   "name": "Copy of HACKANONS COLAB 25GB RAM.ipynb",
   "provenance": []
  },
  "kernelspec": {
   "display_name": "Python 3 (ipykernel)",
   "language": "python",
   "name": "python3"
  },
  "language_info": {
   "codemirror_mode": {
    "name": "ipython",
    "version": 3
   },
   "file_extension": ".py",
   "mimetype": "text/x-python",
   "name": "python",
   "nbconvert_exporter": "python",
   "pygments_lexer": "ipython3",
   "version": "3.9.12"
  }
 },
 "nbformat": 4,
 "nbformat_minor": 4
}
