{
 "cells": [
  {
   "cell_type": "markdown",
   "id": "4dd98151",
   "metadata": {},
   "source": [
    "# Movie Recommender Systems"
   ]
  },
  {
   "cell_type": "markdown",
   "id": "dp_HIsFYlKqd",
   "metadata": {
    "id": "dp_HIsFYlKqd"
   },
   "source": [
    "<img style=\"float: right\" src=\"https://miro.medium.com/max/1200/1*l9dIvOVH5KhpK1LFvgoClA.jpeg\" width=\"800\" height=\"500\" alt=\"Drawing\" style=\"float: centre;\"/>"
   ]
  },
  {
   "cell_type": "markdown",
   "id": "yFWoEjjkjzdt",
   "metadata": {
    "id": "yFWoEjjkjzdt"
   },
   "source": [
    "<h3>Table_of_Content</h3>\n",
    "\n",
    "[<h5>1.Introduction</h5>](#Introduction)\n",
    "\n",
    "[<h5>2.Problem Statement</h5>](#Problem_Statement)\n",
    "\n",
    "[<h5>3.Importing Packages</h5>](#Importing_Packages)\n",
    "\n",
    "[<h5>4.Loading the data</h5>](#Loading_the_data)\n",
    "\n",
    "[<h5>5.Exploratory data analysis</h5>](#Exploratory_data_analysis)\n",
    "\n",
    "[<h5>6.Data cleaning and Feature engineering</h5>](#Data_cleaning_and_Feature_engineering)\n",
    "\n",
    "[<h5>7.Modeling</h5>](#.Modeling)\n",
    "\n",
    "[<h5>8.Model Performance</h5>](#Model_Performance)\n",
    "\n",
    "[<h5>9.Model Explanation</h5>](#Model_Explanation)\n",
    "\n",
    "[<h5>10.Conclussion</h5>](#Conclussion)\n"
   ]
  },
  {
   "cell_type": "markdown",
   "id": "t4EmQxyEl8J0",
   "metadata": {
    "id": "t4EmQxyEl8J0"
   },
   "source": [
    "## Introduction"
   ]
  },
  {
   "cell_type": "markdown",
   "id": "LZefiTwWl5Sw",
   "metadata": {
    "id": "LZefiTwWl5Sw"
   },
   "source": [
    "\n",
    "Recommender systems are machine learning systems that help users discover new products and services. Every time you shop online, a  recommendation system is guiding you towards the most likely product you might purchase.\n",
    "\n",
    "Recommender systems are an essential feature in our digital world, as users are often overwhelmed by choice and need help finding what they're looking for. This leads to happier customers and, of course, more sales. Recommender systems are like salesmen who know, based on your history and preferences, what you like.\n",
    "\n",
    "Recommender systems are so commonplace now that many of us use them without even knowing it. Because we can't possibly look through all the products or content on a website, a recommendation system plays an important role in helping us have a better user experience, while also exposing us to more inventory we might not discover otherwise. \n",
    "\n",
    "Some examples of recommender systems in action include product recommendations on Amazon, Netflix suggestions for movies and TV shows in your feed, recommended videos on YouTube, music on Spotify, the Facebook newsfeed and Google Ads."
   ]
  },
  {
   "cell_type": "markdown",
   "id": "434c101d",
   "metadata": {},
   "source": [
    "<img style=\"float: right\" src=\"https://builtin.com/sites/www.builtin.com/files/styles/ckeditor_optimize/public/inline-images/national/Recommender%2520Function.png\" width=\"800\" height=\"500\" alt=\"Drawing\" style=\"float: centre;\"/>"
   ]
  },
  {
   "cell_type": "markdown",
   "id": "503b1fa7",
   "metadata": {},
   "source": [
    "## Problem_Statement\n"
   ]
  },
  {
   "cell_type": "markdown",
   "id": "9c45bbc2",
   "metadata": {},
   "source": [
    "Construct a recommendation algorithm based on content or collaborative filtering, capable of accurately predicting how a user will rate a movie they have not yet viewed, based on their historical preferences.\n",
    "\n",
    "Providing an accurate and robust solution to this challenge has immense economic potential, with users of the system being personalised recommendations - generating platform affinity for the streaming services which best facilitates their audience's viewing."
   ]
  },
  {
   "cell_type": "markdown",
   "id": "7d2f3057",
   "metadata": {},
   "source": [
    "## Version Control\n"
   ]
  },
  {
   "cell_type": "code",
   "execution_count": 1,
   "id": "Qy0N2yee9pyU",
   "metadata": {
    "id": "Qy0N2yee9pyU"
   },
   "outputs": [
    {
     "name": "stdout",
     "output_type": "stream",
     "text": [
      "Requirement already satisfied: comet_ml in c:\\users\\peter selolo\\anaconda3\\lib\\site-packages (3.31.6)\n",
      "Requirement already satisfied: dulwich!=0.20.33,>=0.20.6 in c:\\users\\peter selolo\\anaconda3\\lib\\site-packages (from comet_ml) (0.20.45)\n",
      "Requirement already satisfied: nvidia-ml-py3>=7.352.0 in c:\\users\\peter selolo\\anaconda3\\lib\\site-packages (from comet_ml) (7.352.0)\n",
      "Requirement already satisfied: jsonschema!=3.1.0,>=2.6.0 in c:\\users\\peter selolo\\anaconda3\\lib\\site-packages (from comet_ml) (3.2.0)\n",
      "Requirement already satisfied: websocket-client>=0.55.0 in c:\\users\\peter selolo\\anaconda3\\lib\\site-packages (from comet_ml) (1.3.3)\n",
      "Requirement already satisfied: requests-toolbelt>=0.8.0 in c:\\users\\peter selolo\\anaconda3\\lib\\site-packages (from comet_ml) (0.9.1)\n",
      "Requirement already satisfied: semantic-version>=2.8.0 in c:\\users\\peter selolo\\anaconda3\\lib\\site-packages (from comet_ml) (2.10.0)\n",
      "Requirement already satisfied: requests>=2.18.4 in c:\\users\\peter selolo\\anaconda3\\lib\\site-packages (from comet_ml) (2.26.0)\n",
      "Requirement already satisfied: sentry-sdk>=1.1.0 in c:\\users\\peter selolo\\anaconda3\\lib\\site-packages (from comet_ml) (1.7.2)\n",
      "Requirement already satisfied: everett[ini]>=1.0.1 in c:\\users\\peter selolo\\anaconda3\\lib\\site-packages (from comet_ml) (3.0.0)\n",
      "Requirement already satisfied: six in c:\\users\\peter selolo\\anaconda3\\lib\\site-packages (from comet_ml) (1.16.0)\n",
      "Requirement already satisfied: wrapt>=1.11.2 in c:\\users\\peter selolo\\anaconda3\\lib\\site-packages (from comet_ml) (1.12.1)\n",
      "Requirement already satisfied: wurlitzer>=1.0.2 in c:\\users\\peter selolo\\anaconda3\\lib\\site-packages (from comet_ml) (3.0.2)\n",
      "Requirement already satisfied: urllib3>=1.24.1 in c:\\users\\peter selolo\\anaconda3\\lib\\site-packages (from dulwich!=0.20.33,>=0.20.6->comet_ml) (1.26.7)\n",
      "Requirement already satisfied: certifi in c:\\users\\peter selolo\\anaconda3\\lib\\site-packages (from dulwich!=0.20.33,>=0.20.6->comet_ml) (2022.6.15)\n",
      "Requirement already satisfied: configobj in c:\\users\\peter selolo\\anaconda3\\lib\\site-packages (from everett[ini]>=1.0.1->comet_ml) (5.0.6)\n",
      "Requirement already satisfied: setuptools in c:\\users\\peter selolo\\anaconda3\\lib\\site-packages (from jsonschema!=3.1.0,>=2.6.0->comet_ml) (58.0.4)\n",
      "Requirement already satisfied: attrs>=17.4.0 in c:\\users\\peter selolo\\anaconda3\\lib\\site-packages (from jsonschema!=3.1.0,>=2.6.0->comet_ml) (21.2.0)\n",
      "Requirement already satisfied: pyrsistent>=0.14.0 in c:\\users\\peter selolo\\anaconda3\\lib\\site-packages (from jsonschema!=3.1.0,>=2.6.0->comet_ml) (0.18.0)\n",
      "Requirement already satisfied: charset-normalizer~=2.0.0 in c:\\users\\peter selolo\\anaconda3\\lib\\site-packages (from requests>=2.18.4->comet_ml) (2.0.4)\n",
      "Requirement already satisfied: idna<4,>=2.5 in c:\\users\\peter selolo\\anaconda3\\lib\\site-packages (from requests>=2.18.4->comet_ml) (3.2)\n"
     ]
    }
   ],
   "source": [
    "#install comet ml\n",
    "!pip install comet_ml\n"
   ]
  },
  {
   "cell_type": "code",
   "execution_count": 2,
   "id": "CCiDKdwzlJ3d",
   "metadata": {
    "id": "CCiDKdwzlJ3d"
   },
   "outputs": [
    {
     "name": "stderr",
     "output_type": "stream",
     "text": [
      "COMET WARNING: As you are running in a Jupyter environment, you will need to call `experiment.end()` when finished to ensure all metrics and code are logged before exiting.\n",
      "COMET INFO: Experiment is live on comet.ml https://www.comet.com/phillemon/recommendation-systems/c27ea94b0d744d52b876cab6b41c31d2\n",
      "\n"
     ]
    }
   ],
   "source": [
    "# point comet_ml SDK to www.comet.com installation\n",
    "import os\n",
    "os.environ[\"COMET_URL_OVERRIDE\"] = \"https://www.comet.com/clientlib/\"\n",
    "\n",
    "# import comet_ml at the top of your file\n",
    "from comet_ml import Experiment\n",
    "\n",
    "# Create an experiment with your api key\n",
    "experiment = Experiment(\n",
    "    api_key=\"rOl6aNOtrWiZQfN2Rag8JJNiZ\",\n",
    "    project_name=\"recommendation-systems\",\n",
    "    workspace=\"phillemon\",\n",
    ")"
   ]
  },
  {
   "cell_type": "code",
   "execution_count": 3,
   "id": "XqNrQCp0AyZk",
   "metadata": {
    "colab": {
     "base_uri": "https://localhost:8080/"
    },
    "id": "XqNrQCp0AyZk",
    "outputId": "760aea5e-6125-4a94-83e1-77cec321d8ba"
   },
   "outputs": [],
   "source": [
    "#from google.colab import drive\n",
    "#drive.mount('/content/drive')"
   ]
  },
  {
   "cell_type": "code",
   "execution_count": 4,
   "id": "Dlx98hlqBnNA",
   "metadata": {
    "colab": {
     "base_uri": "https://localhost:8080/"
    },
    "id": "Dlx98hlqBnNA",
    "outputId": "d3144460-8cb7-42c7-a288-95bc42f174c0"
   },
   "outputs": [
    {
     "name": "stdout",
     "output_type": "stream",
     "text": [
      "Requirement already satisfied: surprise in c:\\users\\peter selolo\\anaconda3\\lib\\site-packages (0.1)\n",
      "Requirement already satisfied: scikit-surprise in c:\\users\\peter selolo\\anaconda3\\lib\\site-packages (from surprise) (1.1.1)\n",
      "Requirement already satisfied: joblib>=0.11 in c:\\users\\peter selolo\\anaconda3\\lib\\site-packages (from scikit-surprise->surprise) (1.1.0)\n",
      "Requirement already satisfied: numpy>=1.11.2 in c:\\users\\peter selolo\\anaconda3\\lib\\site-packages (from scikit-surprise->surprise) (1.22.4)\n",
      "Requirement already satisfied: scipy>=1.0.0 in c:\\users\\peter selolo\\anaconda3\\lib\\site-packages (from scikit-surprise->surprise) (1.7.1)\n",
      "Requirement already satisfied: six>=1.10.0 in c:\\users\\peter selolo\\anaconda3\\lib\\site-packages (from scikit-surprise->surprise) (1.16.0)\n"
     ]
    }
   ],
   "source": [
    "#install surprise\n",
    "!pip install surprise"
   ]
  },
  {
   "cell_type": "markdown",
   "id": "a93c7ce8",
   "metadata": {
    "id": "a93c7ce8"
   },
   "source": [
    "# **import libraries**"
   ]
  },
  {
   "cell_type": "code",
   "execution_count": 124,
   "id": "bf8072bb",
   "metadata": {
    "colab": {
     "base_uri": "https://localhost:8080/",
     "height": 17
    },
    "id": "9fbc726e",
    "outputId": "1634bcb1-f745-4a87-e05b-5af77abdc271"
   },
   "outputs": [
    {
     "data": {
      "text/html": [
       "        <script type=\"text/javascript\">\n",
       "        window.PlotlyConfig = {MathJaxConfig: 'local'};\n",
       "        if (window.MathJax && window.MathJax.Hub && window.MathJax.Hub.Config) {window.MathJax.Hub.Config({SVG: {font: \"STIX-Web\"}});}\n",
       "        if (typeof require !== 'undefined') {\n",
       "        require.undef(\"plotly\");\n",
       "        requirejs.config({\n",
       "            paths: {\n",
       "                'plotly': ['https://cdn.plot.ly/plotly-2.12.1.min']\n",
       "            }\n",
       "        });\n",
       "        require(['plotly'], function(Plotly) {\n",
       "            window._Plotly = Plotly;\n",
       "        });\n",
       "        }\n",
       "        </script>\n",
       "        "
      ]
     },
     "metadata": {},
     "output_type": "display_data"
    }
   ],
   "source": [
    "# Importing packages\n",
    "import numpy as np\n",
    "import pandas as pd\n",
    "import cufflinks as cf\n",
    "from sklearn.preprocessing import StandardScaler\n",
    "from sklearn import preprocessing\n",
    "from sklearn.decomposition import PCA\n",
    "from sklearn.model_selection import train_test_split\n",
    "from surprise.model_selection import train_test_split\n",
    "from imblearn.over_sampling import SMOTE\n",
    "from surprise.model_selection import GridSearchCV\n",
    "from sklearn.ensemble import RandomForestRegressor\n",
    "from surprise.model_selection import cross_validate\n",
    "from surprise import accuracy\n",
    "from surprise import SVD\n",
    "from surprise import SVD, NMF\n",
    "from surprise import KNNBasic\n",
    "from surprise import SlopeOne\n",
    "from surprise import Reader, Dataset\n",
    "import matplotlib.pyplot as plt\n",
    "import seaborn as sns\n",
    "%matplotlib inline\n",
    "\n",
    "sns.set(style='whitegrid', palette='muted',\n",
    "        rc={'figure.figsize': (15,10)})\n",
    "\n",
    "from plotly.offline import download_plotlyjs, init_notebook_mode, plot, iplot\n",
    "init_notebook_mode(connected=True)\n",
    "\n",
    "# Entity featurization and similarity computation\n",
    "from sklearn.metrics.pairwise import cosine_similarity\n",
    "from sklearn.feature_extraction.text import TfidfVectorizer\n",
    "\n",
    "# Libraries used during sorting procedures.\n",
    "import operator # <-- Convienient item retrieval during iteration \n",
    "import heapq # <-- Efficient sorting of large list\n",
    "\n"
   ]
  },
  {
   "cell_type": "markdown",
   "id": "28db4191",
   "metadata": {
    "id": "28db4191"
   },
   "source": [
    "## Loading_the_Data"
   ]
  },
  {
   "cell_type": "code",
   "execution_count": 6,
   "id": "e008a24c",
   "metadata": {
    "id": "e008a24c"
   },
   "outputs": [],
   "source": [
    "#defining a function to display the datasets\n",
    "class display(object):\n",
    "    \"\"\"Display HTML representation of multiple objects\"\"\"\n",
    "    template = \"\"\"<div style=\"float: left; padding: 10px;\">\n",
    "    <p style='font-family:\"Courier New\", Courier, monospace'>{0}</p>{1}\n",
    "    </div>\"\"\"\n",
    "    def __init__(self, *args):\n",
    "        self.args = args\n",
    "        \n",
    "    def _repr_html_(self):\n",
    "        return '\\n'.join(self.template.format(a, eval(a)._repr_html_())\n",
    "                         for a in self.args)\n",
    "    \n",
    "    def __repr__(self):\n",
    "        return '\\n\\n'.join(a + '\\n' + repr(eval(a))\n",
    "                           for a in self.args)"
   ]
  },
  {
   "cell_type": "code",
   "execution_count": 7,
   "id": "e10dfdfa",
   "metadata": {
    "colab": {
     "base_uri": "https://localhost:8080/",
     "height": 732
    },
    "id": "e10dfdfa",
    "outputId": "5c1107fc-68a8-4b84-af0a-e6b0d9c0c2c0"
   },
   "outputs": [
    {
     "data": {
      "text/html": [
       "<div style=\"float: left; padding: 10px;\">\n",
       "    <p style='font-family:\"Courier New\", Courier, monospace'>movies.head()</p><div>\n",
       "<style scoped>\n",
       "    .dataframe tbody tr th:only-of-type {\n",
       "        vertical-align: middle;\n",
       "    }\n",
       "\n",
       "    .dataframe tbody tr th {\n",
       "        vertical-align: top;\n",
       "    }\n",
       "\n",
       "    .dataframe thead th {\n",
       "        text-align: right;\n",
       "    }\n",
       "</style>\n",
       "<table border=\"1\" class=\"dataframe\">\n",
       "  <thead>\n",
       "    <tr style=\"text-align: right;\">\n",
       "      <th></th>\n",
       "      <th>movieId</th>\n",
       "      <th>title</th>\n",
       "      <th>genres</th>\n",
       "    </tr>\n",
       "  </thead>\n",
       "  <tbody>\n",
       "    <tr>\n",
       "      <th>0</th>\n",
       "      <td>1</td>\n",
       "      <td>Toy Story (1995)</td>\n",
       "      <td>Adventure|Animation|Children|Comedy|Fantasy</td>\n",
       "    </tr>\n",
       "    <tr>\n",
       "      <th>1</th>\n",
       "      <td>2</td>\n",
       "      <td>Jumanji (1995)</td>\n",
       "      <td>Adventure|Children|Fantasy</td>\n",
       "    </tr>\n",
       "    <tr>\n",
       "      <th>2</th>\n",
       "      <td>3</td>\n",
       "      <td>Grumpier Old Men (1995)</td>\n",
       "      <td>Comedy|Romance</td>\n",
       "    </tr>\n",
       "    <tr>\n",
       "      <th>3</th>\n",
       "      <td>4</td>\n",
       "      <td>Waiting to Exhale (1995)</td>\n",
       "      <td>Comedy|Drama|Romance</td>\n",
       "    </tr>\n",
       "    <tr>\n",
       "      <th>4</th>\n",
       "      <td>5</td>\n",
       "      <td>Father of the Bride Part II (1995)</td>\n",
       "      <td>Comedy</td>\n",
       "    </tr>\n",
       "  </tbody>\n",
       "</table>\n",
       "</div>\n",
       "    </div>\n",
       "<div style=\"float: left; padding: 10px;\">\n",
       "    <p style='font-family:\"Courier New\", Courier, monospace'>train.head()</p><div>\n",
       "<style scoped>\n",
       "    .dataframe tbody tr th:only-of-type {\n",
       "        vertical-align: middle;\n",
       "    }\n",
       "\n",
       "    .dataframe tbody tr th {\n",
       "        vertical-align: top;\n",
       "    }\n",
       "\n",
       "    .dataframe thead th {\n",
       "        text-align: right;\n",
       "    }\n",
       "</style>\n",
       "<table border=\"1\" class=\"dataframe\">\n",
       "  <thead>\n",
       "    <tr style=\"text-align: right;\">\n",
       "      <th></th>\n",
       "      <th>userId</th>\n",
       "      <th>movieId</th>\n",
       "      <th>rating</th>\n",
       "      <th>timestamp</th>\n",
       "    </tr>\n",
       "  </thead>\n",
       "  <tbody>\n",
       "    <tr>\n",
       "      <th>0</th>\n",
       "      <td>5163</td>\n",
       "      <td>57669</td>\n",
       "      <td>4.0</td>\n",
       "      <td>1518349992</td>\n",
       "    </tr>\n",
       "    <tr>\n",
       "      <th>1</th>\n",
       "      <td>106343</td>\n",
       "      <td>5</td>\n",
       "      <td>4.5</td>\n",
       "      <td>1206238739</td>\n",
       "    </tr>\n",
       "    <tr>\n",
       "      <th>2</th>\n",
       "      <td>146790</td>\n",
       "      <td>5459</td>\n",
       "      <td>5.0</td>\n",
       "      <td>1076215539</td>\n",
       "    </tr>\n",
       "    <tr>\n",
       "      <th>3</th>\n",
       "      <td>106362</td>\n",
       "      <td>32296</td>\n",
       "      <td>2.0</td>\n",
       "      <td>1423042565</td>\n",
       "    </tr>\n",
       "    <tr>\n",
       "      <th>4</th>\n",
       "      <td>9041</td>\n",
       "      <td>366</td>\n",
       "      <td>3.0</td>\n",
       "      <td>833375837</td>\n",
       "    </tr>\n",
       "  </tbody>\n",
       "</table>\n",
       "</div>\n",
       "    </div>\n",
       "<div style=\"float: left; padding: 10px;\">\n",
       "    <p style='font-family:\"Courier New\", Courier, monospace'>genome_scores.head()</p><div>\n",
       "<style scoped>\n",
       "    .dataframe tbody tr th:only-of-type {\n",
       "        vertical-align: middle;\n",
       "    }\n",
       "\n",
       "    .dataframe tbody tr th {\n",
       "        vertical-align: top;\n",
       "    }\n",
       "\n",
       "    .dataframe thead th {\n",
       "        text-align: right;\n",
       "    }\n",
       "</style>\n",
       "<table border=\"1\" class=\"dataframe\">\n",
       "  <thead>\n",
       "    <tr style=\"text-align: right;\">\n",
       "      <th></th>\n",
       "      <th>movieId</th>\n",
       "      <th>tagId</th>\n",
       "      <th>relevance</th>\n",
       "    </tr>\n",
       "  </thead>\n",
       "  <tbody>\n",
       "    <tr>\n",
       "      <th>0</th>\n",
       "      <td>1</td>\n",
       "      <td>1</td>\n",
       "      <td>0.02875</td>\n",
       "    </tr>\n",
       "    <tr>\n",
       "      <th>1</th>\n",
       "      <td>1</td>\n",
       "      <td>2</td>\n",
       "      <td>0.02375</td>\n",
       "    </tr>\n",
       "    <tr>\n",
       "      <th>2</th>\n",
       "      <td>1</td>\n",
       "      <td>3</td>\n",
       "      <td>0.06250</td>\n",
       "    </tr>\n",
       "    <tr>\n",
       "      <th>3</th>\n",
       "      <td>1</td>\n",
       "      <td>4</td>\n",
       "      <td>0.07575</td>\n",
       "    </tr>\n",
       "    <tr>\n",
       "      <th>4</th>\n",
       "      <td>1</td>\n",
       "      <td>5</td>\n",
       "      <td>0.14075</td>\n",
       "    </tr>\n",
       "  </tbody>\n",
       "</table>\n",
       "</div>\n",
       "    </div>\n",
       "<div style=\"float: left; padding: 10px;\">\n",
       "    <p style='font-family:\"Courier New\", Courier, monospace'>genome_tags.head()</p><div>\n",
       "<style scoped>\n",
       "    .dataframe tbody tr th:only-of-type {\n",
       "        vertical-align: middle;\n",
       "    }\n",
       "\n",
       "    .dataframe tbody tr th {\n",
       "        vertical-align: top;\n",
       "    }\n",
       "\n",
       "    .dataframe thead th {\n",
       "        text-align: right;\n",
       "    }\n",
       "</style>\n",
       "<table border=\"1\" class=\"dataframe\">\n",
       "  <thead>\n",
       "    <tr style=\"text-align: right;\">\n",
       "      <th></th>\n",
       "      <th>tagId</th>\n",
       "      <th>tag</th>\n",
       "    </tr>\n",
       "  </thead>\n",
       "  <tbody>\n",
       "    <tr>\n",
       "      <th>0</th>\n",
       "      <td>1</td>\n",
       "      <td>007</td>\n",
       "    </tr>\n",
       "    <tr>\n",
       "      <th>1</th>\n",
       "      <td>2</td>\n",
       "      <td>007 (series)</td>\n",
       "    </tr>\n",
       "    <tr>\n",
       "      <th>2</th>\n",
       "      <td>3</td>\n",
       "      <td>18th century</td>\n",
       "    </tr>\n",
       "    <tr>\n",
       "      <th>3</th>\n",
       "      <td>4</td>\n",
       "      <td>1920s</td>\n",
       "    </tr>\n",
       "    <tr>\n",
       "      <th>4</th>\n",
       "      <td>5</td>\n",
       "      <td>1930s</td>\n",
       "    </tr>\n",
       "  </tbody>\n",
       "</table>\n",
       "</div>\n",
       "    </div>\n",
       "<div style=\"float: left; padding: 10px;\">\n",
       "    <p style='font-family:\"Courier New\", Courier, monospace'>imdb.head()</p><div>\n",
       "<style scoped>\n",
       "    .dataframe tbody tr th:only-of-type {\n",
       "        vertical-align: middle;\n",
       "    }\n",
       "\n",
       "    .dataframe tbody tr th {\n",
       "        vertical-align: top;\n",
       "    }\n",
       "\n",
       "    .dataframe thead th {\n",
       "        text-align: right;\n",
       "    }\n",
       "</style>\n",
       "<table border=\"1\" class=\"dataframe\">\n",
       "  <thead>\n",
       "    <tr style=\"text-align: right;\">\n",
       "      <th></th>\n",
       "      <th>movieId</th>\n",
       "      <th>title_cast</th>\n",
       "      <th>director</th>\n",
       "      <th>runtime</th>\n",
       "      <th>budget</th>\n",
       "      <th>plot_keywords</th>\n",
       "    </tr>\n",
       "  </thead>\n",
       "  <tbody>\n",
       "    <tr>\n",
       "      <th>0</th>\n",
       "      <td>1</td>\n",
       "      <td>Tom Hanks|Tim Allen|Don Rickles|Jim Varney|Wal...</td>\n",
       "      <td>John Lasseter</td>\n",
       "      <td>81.0</td>\n",
       "      <td>$30,000,000</td>\n",
       "      <td>toy|rivalry|cowboy|cgi animation</td>\n",
       "    </tr>\n",
       "    <tr>\n",
       "      <th>1</th>\n",
       "      <td>2</td>\n",
       "      <td>Robin Williams|Jonathan Hyde|Kirsten Dunst|Bra...</td>\n",
       "      <td>Jonathan Hensleigh</td>\n",
       "      <td>104.0</td>\n",
       "      <td>$65,000,000</td>\n",
       "      <td>board game|adventurer|fight|game</td>\n",
       "    </tr>\n",
       "    <tr>\n",
       "      <th>2</th>\n",
       "      <td>3</td>\n",
       "      <td>Walter Matthau|Jack Lemmon|Sophia Loren|Ann-Ma...</td>\n",
       "      <td>Mark Steven Johnson</td>\n",
       "      <td>101.0</td>\n",
       "      <td>$25,000,000</td>\n",
       "      <td>boat|lake|neighbor|rivalry</td>\n",
       "    </tr>\n",
       "    <tr>\n",
       "      <th>3</th>\n",
       "      <td>4</td>\n",
       "      <td>Whitney Houston|Angela Bassett|Loretta Devine|...</td>\n",
       "      <td>Terry McMillan</td>\n",
       "      <td>124.0</td>\n",
       "      <td>$16,000,000</td>\n",
       "      <td>black american|husband wife relationship|betra...</td>\n",
       "    </tr>\n",
       "    <tr>\n",
       "      <th>4</th>\n",
       "      <td>5</td>\n",
       "      <td>Steve Martin|Diane Keaton|Martin Short|Kimberl...</td>\n",
       "      <td>Albert Hackett</td>\n",
       "      <td>106.0</td>\n",
       "      <td>$30,000,000</td>\n",
       "      <td>fatherhood|doberman|dog|mansion</td>\n",
       "    </tr>\n",
       "  </tbody>\n",
       "</table>\n",
       "</div>\n",
       "    </div>\n",
       "<div style=\"float: left; padding: 10px;\">\n",
       "    <p style='font-family:\"Courier New\", Courier, monospace'>links.head()</p><div>\n",
       "<style scoped>\n",
       "    .dataframe tbody tr th:only-of-type {\n",
       "        vertical-align: middle;\n",
       "    }\n",
       "\n",
       "    .dataframe tbody tr th {\n",
       "        vertical-align: top;\n",
       "    }\n",
       "\n",
       "    .dataframe thead th {\n",
       "        text-align: right;\n",
       "    }\n",
       "</style>\n",
       "<table border=\"1\" class=\"dataframe\">\n",
       "  <thead>\n",
       "    <tr style=\"text-align: right;\">\n",
       "      <th></th>\n",
       "      <th>movieId</th>\n",
       "      <th>imdbId</th>\n",
       "      <th>tmdbId</th>\n",
       "    </tr>\n",
       "  </thead>\n",
       "  <tbody>\n",
       "    <tr>\n",
       "      <th>0</th>\n",
       "      <td>1</td>\n",
       "      <td>114709</td>\n",
       "      <td>862.0</td>\n",
       "    </tr>\n",
       "    <tr>\n",
       "      <th>1</th>\n",
       "      <td>2</td>\n",
       "      <td>113497</td>\n",
       "      <td>8844.0</td>\n",
       "    </tr>\n",
       "    <tr>\n",
       "      <th>2</th>\n",
       "      <td>3</td>\n",
       "      <td>113228</td>\n",
       "      <td>15602.0</td>\n",
       "    </tr>\n",
       "    <tr>\n",
       "      <th>3</th>\n",
       "      <td>4</td>\n",
       "      <td>114885</td>\n",
       "      <td>31357.0</td>\n",
       "    </tr>\n",
       "    <tr>\n",
       "      <th>4</th>\n",
       "      <td>5</td>\n",
       "      <td>113041</td>\n",
       "      <td>11862.0</td>\n",
       "    </tr>\n",
       "  </tbody>\n",
       "</table>\n",
       "</div>\n",
       "    </div>\n",
       "<div style=\"float: left; padding: 10px;\">\n",
       "    <p style='font-family:\"Courier New\", Courier, monospace'>sample_submission.head()</p><div>\n",
       "<style scoped>\n",
       "    .dataframe tbody tr th:only-of-type {\n",
       "        vertical-align: middle;\n",
       "    }\n",
       "\n",
       "    .dataframe tbody tr th {\n",
       "        vertical-align: top;\n",
       "    }\n",
       "\n",
       "    .dataframe thead th {\n",
       "        text-align: right;\n",
       "    }\n",
       "</style>\n",
       "<table border=\"1\" class=\"dataframe\">\n",
       "  <thead>\n",
       "    <tr style=\"text-align: right;\">\n",
       "      <th></th>\n",
       "      <th>Id</th>\n",
       "      <th>rating</th>\n",
       "    </tr>\n",
       "  </thead>\n",
       "  <tbody>\n",
       "    <tr>\n",
       "      <th>0</th>\n",
       "      <td>1_2011</td>\n",
       "      <td>1.0</td>\n",
       "    </tr>\n",
       "    <tr>\n",
       "      <th>1</th>\n",
       "      <td>1_4144</td>\n",
       "      <td>1.0</td>\n",
       "    </tr>\n",
       "    <tr>\n",
       "      <th>2</th>\n",
       "      <td>1_5767</td>\n",
       "      <td>1.0</td>\n",
       "    </tr>\n",
       "    <tr>\n",
       "      <th>3</th>\n",
       "      <td>1_6711</td>\n",
       "      <td>1.0</td>\n",
       "    </tr>\n",
       "    <tr>\n",
       "      <th>4</th>\n",
       "      <td>1_7318</td>\n",
       "      <td>1.0</td>\n",
       "    </tr>\n",
       "  </tbody>\n",
       "</table>\n",
       "</div>\n",
       "    </div>\n",
       "<div style=\"float: left; padding: 10px;\">\n",
       "    <p style='font-family:\"Courier New\", Courier, monospace'>tags.head()</p><div>\n",
       "<style scoped>\n",
       "    .dataframe tbody tr th:only-of-type {\n",
       "        vertical-align: middle;\n",
       "    }\n",
       "\n",
       "    .dataframe tbody tr th {\n",
       "        vertical-align: top;\n",
       "    }\n",
       "\n",
       "    .dataframe thead th {\n",
       "        text-align: right;\n",
       "    }\n",
       "</style>\n",
       "<table border=\"1\" class=\"dataframe\">\n",
       "  <thead>\n",
       "    <tr style=\"text-align: right;\">\n",
       "      <th></th>\n",
       "      <th>userId</th>\n",
       "      <th>movieId</th>\n",
       "      <th>tag</th>\n",
       "      <th>timestamp</th>\n",
       "    </tr>\n",
       "  </thead>\n",
       "  <tbody>\n",
       "    <tr>\n",
       "      <th>0</th>\n",
       "      <td>3</td>\n",
       "      <td>260</td>\n",
       "      <td>classic</td>\n",
       "      <td>1439472355</td>\n",
       "    </tr>\n",
       "    <tr>\n",
       "      <th>1</th>\n",
       "      <td>3</td>\n",
       "      <td>260</td>\n",
       "      <td>sci-fi</td>\n",
       "      <td>1439472256</td>\n",
       "    </tr>\n",
       "    <tr>\n",
       "      <th>2</th>\n",
       "      <td>4</td>\n",
       "      <td>1732</td>\n",
       "      <td>dark comedy</td>\n",
       "      <td>1573943598</td>\n",
       "    </tr>\n",
       "    <tr>\n",
       "      <th>3</th>\n",
       "      <td>4</td>\n",
       "      <td>1732</td>\n",
       "      <td>great dialogue</td>\n",
       "      <td>1573943604</td>\n",
       "    </tr>\n",
       "    <tr>\n",
       "      <th>4</th>\n",
       "      <td>4</td>\n",
       "      <td>7569</td>\n",
       "      <td>so bad it's good</td>\n",
       "      <td>1573943455</td>\n",
       "    </tr>\n",
       "  </tbody>\n",
       "</table>\n",
       "</div>\n",
       "    </div>\n",
       "<div style=\"float: left; padding: 10px;\">\n",
       "    <p style='font-family:\"Courier New\", Courier, monospace'>test.head()</p><div>\n",
       "<style scoped>\n",
       "    .dataframe tbody tr th:only-of-type {\n",
       "        vertical-align: middle;\n",
       "    }\n",
       "\n",
       "    .dataframe tbody tr th {\n",
       "        vertical-align: top;\n",
       "    }\n",
       "\n",
       "    .dataframe thead th {\n",
       "        text-align: right;\n",
       "    }\n",
       "</style>\n",
       "<table border=\"1\" class=\"dataframe\">\n",
       "  <thead>\n",
       "    <tr style=\"text-align: right;\">\n",
       "      <th></th>\n",
       "      <th>userId</th>\n",
       "      <th>movieId</th>\n",
       "    </tr>\n",
       "  </thead>\n",
       "  <tbody>\n",
       "    <tr>\n",
       "      <th>0</th>\n",
       "      <td>1</td>\n",
       "      <td>2011</td>\n",
       "    </tr>\n",
       "    <tr>\n",
       "      <th>1</th>\n",
       "      <td>1</td>\n",
       "      <td>4144</td>\n",
       "    </tr>\n",
       "    <tr>\n",
       "      <th>2</th>\n",
       "      <td>1</td>\n",
       "      <td>5767</td>\n",
       "    </tr>\n",
       "    <tr>\n",
       "      <th>3</th>\n",
       "      <td>1</td>\n",
       "      <td>6711</td>\n",
       "    </tr>\n",
       "    <tr>\n",
       "      <th>4</th>\n",
       "      <td>1</td>\n",
       "      <td>7318</td>\n",
       "    </tr>\n",
       "  </tbody>\n",
       "</table>\n",
       "</div>\n",
       "    </div>"
      ],
      "text/plain": [
       "movies.head()\n",
       "   movieId                               title  \\\n",
       "0        1                    Toy Story (1995)   \n",
       "1        2                      Jumanji (1995)   \n",
       "2        3             Grumpier Old Men (1995)   \n",
       "3        4            Waiting to Exhale (1995)   \n",
       "4        5  Father of the Bride Part II (1995)   \n",
       "\n",
       "                                        genres  \n",
       "0  Adventure|Animation|Children|Comedy|Fantasy  \n",
       "1                   Adventure|Children|Fantasy  \n",
       "2                               Comedy|Romance  \n",
       "3                         Comedy|Drama|Romance  \n",
       "4                                       Comedy  \n",
       "\n",
       "train.head()\n",
       "   userId  movieId  rating   timestamp\n",
       "0    5163    57669     4.0  1518349992\n",
       "1  106343        5     4.5  1206238739\n",
       "2  146790     5459     5.0  1076215539\n",
       "3  106362    32296     2.0  1423042565\n",
       "4    9041      366     3.0   833375837\n",
       "\n",
       "genome_scores.head()\n",
       "   movieId  tagId  relevance\n",
       "0        1      1    0.02875\n",
       "1        1      2    0.02375\n",
       "2        1      3    0.06250\n",
       "3        1      4    0.07575\n",
       "4        1      5    0.14075\n",
       "\n",
       "genome_tags.head()\n",
       "   tagId           tag\n",
       "0      1           007\n",
       "1      2  007 (series)\n",
       "2      3  18th century\n",
       "3      4         1920s\n",
       "4      5         1930s\n",
       "\n",
       "imdb.head()\n",
       "   movieId                                         title_cast  \\\n",
       "0        1  Tom Hanks|Tim Allen|Don Rickles|Jim Varney|Wal...   \n",
       "1        2  Robin Williams|Jonathan Hyde|Kirsten Dunst|Bra...   \n",
       "2        3  Walter Matthau|Jack Lemmon|Sophia Loren|Ann-Ma...   \n",
       "3        4  Whitney Houston|Angela Bassett|Loretta Devine|...   \n",
       "4        5  Steve Martin|Diane Keaton|Martin Short|Kimberl...   \n",
       "\n",
       "              director  runtime       budget  \\\n",
       "0        John Lasseter     81.0  $30,000,000   \n",
       "1   Jonathan Hensleigh    104.0  $65,000,000   \n",
       "2  Mark Steven Johnson    101.0  $25,000,000   \n",
       "3       Terry McMillan    124.0  $16,000,000   \n",
       "4       Albert Hackett    106.0  $30,000,000   \n",
       "\n",
       "                                       plot_keywords  \n",
       "0                   toy|rivalry|cowboy|cgi animation  \n",
       "1                   board game|adventurer|fight|game  \n",
       "2                         boat|lake|neighbor|rivalry  \n",
       "3  black american|husband wife relationship|betra...  \n",
       "4                    fatherhood|doberman|dog|mansion  \n",
       "\n",
       "links.head()\n",
       "   movieId  imdbId   tmdbId\n",
       "0        1  114709    862.0\n",
       "1        2  113497   8844.0\n",
       "2        3  113228  15602.0\n",
       "3        4  114885  31357.0\n",
       "4        5  113041  11862.0\n",
       "\n",
       "sample_submission.head()\n",
       "       Id  rating\n",
       "0  1_2011     1.0\n",
       "1  1_4144     1.0\n",
       "2  1_5767     1.0\n",
       "3  1_6711     1.0\n",
       "4  1_7318     1.0\n",
       "\n",
       "tags.head()\n",
       "   userId  movieId               tag   timestamp\n",
       "0       3      260           classic  1439472355\n",
       "1       3      260            sci-fi  1439472256\n",
       "2       4     1732       dark comedy  1573943598\n",
       "3       4     1732    great dialogue  1573943604\n",
       "4       4     7569  so bad it's good  1573943455\n",
       "\n",
       "test.head()\n",
       "   userId  movieId\n",
       "0       1     2011\n",
       "1       1     4144\n",
       "2       1     5767\n",
       "3       1     6711\n",
       "4       1     7318"
      ]
     },
     "execution_count": 7,
     "metadata": {},
     "output_type": "execute_result"
    }
   ],
   "source": [
    "\n",
    "movies = pd.read_csv('movies.csv')\n",
    "train = pd.read_csv('train.csv')\n",
    "genome_scores = pd.read_csv('genome_scores.csv')\n",
    "genome_tags= pd.read_csv('genome_tags.csv')\n",
    "imdb = pd.read_csv('imdb_data.csv')\n",
    "test = pd.read_csv('test.csv')\n",
    "links = pd.read_csv('links.csv')\n",
    "sample_submission = pd.read_csv('sample_submission.csv')\n",
    "tags = pd.read_csv('tags.csv')\n",
    "\n",
    "\n",
    "#we will take a look at the fisrt few coulmns on the loaded data set\n",
    "display('movies.head()', 'train.head()', 'genome_scores.head()',\n",
    "        'genome_tags.head()'\n",
    "       , 'imdb.head()', 'links.head()', 'sample_submission.head()',\n",
    "        'tags.head()', 'test.head()')\n"
   ]
  },
  {
   "cell_type": "code",
   "execution_count": null,
   "id": "078255bc",
   "metadata": {},
   "outputs": [],
   "source": []
  },
  {
   "cell_type": "markdown",
   "id": "64190e25",
   "metadata": {
    "id": "64190e25"
   },
   "source": [
    "### merging and preprocessing the data"
   ]
  },
  {
   "cell_type": "markdown",
   "id": "df3358fc",
   "metadata": {},
   "source": [
    "#### basic analysis \n"
   ]
  },
  {
   "cell_type": "code",
   "execution_count": 8,
   "id": "d5a33ccb",
   "metadata": {
    "colab": {
     "base_uri": "https://localhost:8080/",
     "height": 206
    },
    "id": "d5a33ccb",
    "outputId": "97773400-dfee-4081-a624-a0f97a43287b"
   },
   "outputs": [
    {
     "data": {
      "text/html": [
       "<div>\n",
       "<style scoped>\n",
       "    .dataframe tbody tr th:only-of-type {\n",
       "        vertical-align: middle;\n",
       "    }\n",
       "\n",
       "    .dataframe tbody tr th {\n",
       "        vertical-align: top;\n",
       "    }\n",
       "\n",
       "    .dataframe thead th {\n",
       "        text-align: right;\n",
       "    }\n",
       "</style>\n",
       "<table border=\"1\" class=\"dataframe\">\n",
       "  <thead>\n",
       "    <tr style=\"text-align: right;\">\n",
       "      <th></th>\n",
       "      <th>movieId</th>\n",
       "      <th>title</th>\n",
       "      <th>genres</th>\n",
       "      <th>userId</th>\n",
       "      <th>rating</th>\n",
       "      <th>timestamp</th>\n",
       "    </tr>\n",
       "  </thead>\n",
       "  <tbody>\n",
       "    <tr>\n",
       "      <th>0</th>\n",
       "      <td>1</td>\n",
       "      <td>Toy Story (1995)</td>\n",
       "      <td>Adventure|Animation|Children|Comedy|Fantasy</td>\n",
       "      <td>158849</td>\n",
       "      <td>5.0</td>\n",
       "      <td>994716786</td>\n",
       "    </tr>\n",
       "    <tr>\n",
       "      <th>1</th>\n",
       "      <td>1</td>\n",
       "      <td>Toy Story (1995)</td>\n",
       "      <td>Adventure|Animation|Children|Comedy|Fantasy</td>\n",
       "      <td>97203</td>\n",
       "      <td>5.0</td>\n",
       "      <td>942683155</td>\n",
       "    </tr>\n",
       "    <tr>\n",
       "      <th>2</th>\n",
       "      <td>1</td>\n",
       "      <td>Toy Story (1995)</td>\n",
       "      <td>Adventure|Animation|Children|Comedy|Fantasy</td>\n",
       "      <td>161871</td>\n",
       "      <td>3.0</td>\n",
       "      <td>833104576</td>\n",
       "    </tr>\n",
       "    <tr>\n",
       "      <th>3</th>\n",
       "      <td>1</td>\n",
       "      <td>Toy Story (1995)</td>\n",
       "      <td>Adventure|Animation|Children|Comedy|Fantasy</td>\n",
       "      <td>45117</td>\n",
       "      <td>4.0</td>\n",
       "      <td>1442256969</td>\n",
       "    </tr>\n",
       "    <tr>\n",
       "      <th>4</th>\n",
       "      <td>1</td>\n",
       "      <td>Toy Story (1995)</td>\n",
       "      <td>Adventure|Animation|Children|Comedy|Fantasy</td>\n",
       "      <td>27431</td>\n",
       "      <td>5.0</td>\n",
       "      <td>849667827</td>\n",
       "    </tr>\n",
       "  </tbody>\n",
       "</table>\n",
       "</div>"
      ],
      "text/plain": [
       "   movieId             title                                       genres  \\\n",
       "0        1  Toy Story (1995)  Adventure|Animation|Children|Comedy|Fantasy   \n",
       "1        1  Toy Story (1995)  Adventure|Animation|Children|Comedy|Fantasy   \n",
       "2        1  Toy Story (1995)  Adventure|Animation|Children|Comedy|Fantasy   \n",
       "3        1  Toy Story (1995)  Adventure|Animation|Children|Comedy|Fantasy   \n",
       "4        1  Toy Story (1995)  Adventure|Animation|Children|Comedy|Fantasy   \n",
       "\n",
       "   userId  rating   timestamp  \n",
       "0  158849     5.0   994716786  \n",
       "1   97203     5.0   942683155  \n",
       "2  161871     3.0   833104576  \n",
       "3   45117     4.0  1442256969  \n",
       "4   27431     5.0   849667827  "
      ]
     },
     "execution_count": 8,
     "metadata": {},
     "output_type": "execute_result"
    }
   ],
   "source": [
    "f1=pd.merge(movies, train, on='movieId')\n",
    "f1.head()"
   ]
  },
  {
   "cell_type": "code",
   "execution_count": 9,
   "id": "99cab49a",
   "metadata": {
    "colab": {
     "base_uri": "https://localhost:8080/"
    },
    "id": "99cab49a",
    "outputId": "5f0d80b2-01ec-469e-e57e-49b2ae9d12d1"
   },
   "outputs": [
    {
     "data": {
      "text/plain": [
       "movieId      False\n",
       "title        False\n",
       "genres       False\n",
       "userId       False\n",
       "rating       False\n",
       "timestamp    False\n",
       "dtype: bool"
      ]
     },
     "execution_count": 9,
     "metadata": {},
     "output_type": "execute_result"
    }
   ],
   "source": [
    "#checking for mismatches\n",
    "#Let's double-check whether there were any mismatches here, which we can do by looking for rows with nulls\n",
    "f1.isnull().any()"
   ]
  },
  {
   "cell_type": "code",
   "execution_count": 10,
   "id": "K4styiF4sw3R",
   "metadata": {
    "colab": {
     "base_uri": "https://localhost:8080/"
    },
    "id": "K4styiF4sw3R",
    "outputId": "51099dcf-1ac4-488e-8c42-10e97fb9e81a"
   },
   "outputs": [
    {
     "data": {
      "text/plain": [
       "movieId      0\n",
       "title        0\n",
       "genres       0\n",
       "userId       0\n",
       "rating       0\n",
       "timestamp    0\n",
       "dtype: int64"
      ]
     },
     "execution_count": 10,
     "metadata": {},
     "output_type": "execute_result"
    }
   ],
   "source": [
    "f1.isnull().sum()"
   ]
  },
  {
   "cell_type": "code",
   "execution_count": 11,
   "id": "8rBwCm5UPbLs",
   "metadata": {
    "colab": {
     "base_uri": "https://localhost:8080/"
    },
    "id": "8rBwCm5UPbLs",
    "outputId": "3502f846-e947-4954-f7e5-928988c73f41"
   },
   "outputs": [
    {
     "data": {
      "text/plain": [
       "<bound method NDFrame.describe of           movieId                           title  \\\n",
       "0               1                Toy Story (1995)   \n",
       "1               1                Toy Story (1995)   \n",
       "2               1                Toy Story (1995)   \n",
       "3               1                Toy Story (1995)   \n",
       "4               1                Toy Story (1995)   \n",
       "...           ...                             ...   \n",
       "10000033   209145                  Liberté (2019)   \n",
       "10000034   209153             Happy Flight (2008)   \n",
       "10000035   209159       Window of the Soul (2001)   \n",
       "10000036   209169             A Girl Thing (2001)   \n",
       "10000037   209171  Women of Devil's Island (1962)   \n",
       "\n",
       "                                               genres  userId  rating  \\\n",
       "0         Adventure|Animation|Children|Comedy|Fantasy  158849     5.0   \n",
       "1         Adventure|Animation|Children|Comedy|Fantasy   97203     5.0   \n",
       "2         Adventure|Animation|Children|Comedy|Fantasy  161871     3.0   \n",
       "3         Adventure|Animation|Children|Comedy|Fantasy   45117     4.0   \n",
       "4         Adventure|Animation|Children|Comedy|Fantasy   27431     5.0   \n",
       "...                                               ...     ...     ...   \n",
       "10000033                                        Drama  145795     1.0   \n",
       "10000034                                 Comedy|Drama  147040     2.5   \n",
       "10000035                                  Documentary  115835     3.0   \n",
       "10000036                           (no genres listed)  119571     3.0   \n",
       "10000037                       Action|Adventure|Drama  119571     3.0   \n",
       "\n",
       "           timestamp  \n",
       "0          994716786  \n",
       "1          942683155  \n",
       "2          833104576  \n",
       "3         1442256969  \n",
       "4          849667827  \n",
       "...              ...  \n",
       "10000033  1574225362  \n",
       "10000034  1574232704  \n",
       "10000035  1574280985  \n",
       "10000036  1574291826  \n",
       "10000037  1574291937  \n",
       "\n",
       "[10000038 rows x 6 columns]>"
      ]
     },
     "execution_count": 11,
     "metadata": {},
     "output_type": "execute_result"
    }
   ],
   "source": [
    "#we will perform EDA on the F2(from train,movies and IMDB merge ) since it contains infromation about the movies and users\n",
    "f1.describe"
   ]
  },
  {
   "cell_type": "code",
   "execution_count": 12,
   "id": "2DsDMV2yRSoy",
   "metadata": {
    "colab": {
     "base_uri": "https://localhost:8080/"
    },
    "id": "2DsDMV2yRSoy",
    "outputId": "f3ffc178-eea1-42a5-dde5-33ae370d5f07"
   },
   "outputs": [
    {
     "name": "stdout",
     "output_type": "stream",
     "text": [
      "<class 'pandas.core.frame.DataFrame'>\n",
      "Int64Index: 10000038 entries, 0 to 10000037\n",
      "Data columns (total 6 columns):\n",
      " #   Column     Dtype  \n",
      "---  ------     -----  \n",
      " 0   movieId    int64  \n",
      " 1   title      object \n",
      " 2   genres     object \n",
      " 3   userId     int64  \n",
      " 4   rating     float64\n",
      " 5   timestamp  int64  \n",
      "dtypes: float64(1), int64(3), object(2)\n",
      "memory usage: 534.1+ MB\n"
     ]
    }
   ],
   "source": [
    "f1.info()"
   ]
  },
  {
   "cell_type": "code",
   "execution_count": 13,
   "id": "NCHHRAAtRf87",
   "metadata": {
    "colab": {
     "base_uri": "https://localhost:8080/"
    },
    "id": "NCHHRAAtRf87",
    "outputId": "50b0cf71-ce18-4317-8adc-6ff88f51bbf7"
   },
   "outputs": [
    {
     "data": {
      "text/plain": [
       "(10000038, 6)"
      ]
     },
     "execution_count": 13,
     "metadata": {},
     "output_type": "execute_result"
    }
   ],
   "source": [
    "f1.shape"
   ]
  },
  {
   "cell_type": "markdown",
   "id": "_6B5aMmFPYcM",
   "metadata": {
    "id": "_6B5aMmFPYcM"
   },
   "source": [
    "# ***Exploratory Data Analysis***"
   ]
  },
  {
   "cell_type": "code",
   "execution_count": 14,
   "id": "tPj1E2q2R7SA",
   "metadata": {
    "colab": {
     "base_uri": "https://localhost:8080/",
     "height": 534
    },
    "id": "tPj1E2q2R7SA",
    "outputId": "a260b6d3-d9be-42f1-b13e-a10bde766e80"
   },
   "outputs": [
    {
     "name": "stderr",
     "output_type": "stream",
     "text": [
      "C:\\Users\\peter selolo\\anaconda3\\lib\\site-packages\\seaborn\\_decorators.py:36: FutureWarning:\n",
      "\n",
      "Pass the following variable as a keyword arg: x. From version 0.12, the only valid positional argument will be `data`, and passing other arguments without an explicit keyword will result in an error or misinterpretation.\n",
      "\n"
     ]
    },
    {
     "data": {
      "image/png": "[encoded data removed]",
      "text/plain": [
       "<Figure size 720x360 with 1 Axes>"
      ]
     },
     "metadata": {},
     "output_type": "display_data"
    }
   ],
   "source": [
    "with sns.axes_style('white'):\n",
    "    g = sns.catplot(\"rating\", data=f1, aspect=2.0,kind='count')\n",
    "    g.set_ylabels(\"Total number of ratings ( in millions )\")\n",
    "    plt.title(\"Distribution of Ratings in the dataset\", fontsize = 20)\n"
   ]
  },
  {
   "cell_type": "markdown",
   "id": "koBZRCNMTzuD",
   "metadata": {
    "id": "koBZRCNMTzuD"
   },
   "source": [
    "**Observations:**\n",
    "\n",
    "majority of the users gave a recommendation of 4 with fewer individuals giving a rating of less than 3\n",
    "\n",
    "\n",
    "#####\n",
    "###\n",
    "####\n",
    "###"
   ]
  },
  {
   "cell_type": "markdown",
   "id": "xdc_AlniMZ-S",
   "metadata": {
    "id": "xdc_AlniMZ-S"
   },
   "source": [
    "Next we will explore the data deeply to see how each movie is rated and also check on the most rated movies"
   ]
  },
  {
   "cell_type": "code",
   "execution_count": 15,
   "id": "j17ERQuSKTOn",
   "metadata": {
    "id": "j17ERQuSKTOn"
   },
   "outputs": [],
   "source": [
    "# Get the  avarage rating for each movie in the data \n",
    "average_ratings= f1.groupby(['movieId','genres']).mean()['rating'].reset_index()"
   ]
  },
  {
   "cell_type": "code",
   "execution_count": 16,
   "id": "XFsnoGobTMF3",
   "metadata": {
    "id": "XFsnoGobTMF3"
   },
   "outputs": [],
   "source": [
    "f1 = f1.merge(average_ratings, on = 'movieId')"
   ]
  },
  {
   "cell_type": "code",
   "execution_count": 17,
   "id": "9gWxLoE2MkcI",
   "metadata": {
    "colab": {
     "base_uri": "https://localhost:8080/",
     "height": 112
    },
    "id": "9gWxLoE2MkcI",
    "outputId": "b27eb5ca-a674-4513-9f15-d65033c86908"
   },
   "outputs": [
    {
     "data": {
      "text/html": [
       "<div>\n",
       "<style scoped>\n",
       "    .dataframe tbody tr th:only-of-type {\n",
       "        vertical-align: middle;\n",
       "    }\n",
       "\n",
       "    .dataframe tbody tr th {\n",
       "        vertical-align: top;\n",
       "    }\n",
       "\n",
       "    .dataframe thead th {\n",
       "        text-align: right;\n",
       "    }\n",
       "</style>\n",
       "<table border=\"1\" class=\"dataframe\">\n",
       "  <thead>\n",
       "    <tr style=\"text-align: right;\">\n",
       "      <th></th>\n",
       "      <th>movieId</th>\n",
       "      <th>title</th>\n",
       "      <th>genres_x</th>\n",
       "      <th>userId</th>\n",
       "      <th>rating_x</th>\n",
       "      <th>timestamp</th>\n",
       "      <th>genres_y</th>\n",
       "      <th>rating_y</th>\n",
       "    </tr>\n",
       "  </thead>\n",
       "  <tbody>\n",
       "    <tr>\n",
       "      <th>0</th>\n",
       "      <td>1</td>\n",
       "      <td>Toy Story (1995)</td>\n",
       "      <td>Adventure|Animation|Children|Comedy|Fantasy</td>\n",
       "      <td>158849</td>\n",
       "      <td>5.0</td>\n",
       "      <td>994716786</td>\n",
       "      <td>Adventure|Animation|Children|Comedy|Fantasy</td>\n",
       "      <td>3.889971</td>\n",
       "    </tr>\n",
       "    <tr>\n",
       "      <th>1</th>\n",
       "      <td>1</td>\n",
       "      <td>Toy Story (1995)</td>\n",
       "      <td>Adventure|Animation|Children|Comedy|Fantasy</td>\n",
       "      <td>97203</td>\n",
       "      <td>5.0</td>\n",
       "      <td>942683155</td>\n",
       "      <td>Adventure|Animation|Children|Comedy|Fantasy</td>\n",
       "      <td>3.889971</td>\n",
       "    </tr>\n",
       "  </tbody>\n",
       "</table>\n",
       "</div>"
      ],
      "text/plain": [
       "   movieId             title                                     genres_x  \\\n",
       "0        1  Toy Story (1995)  Adventure|Animation|Children|Comedy|Fantasy   \n",
       "1        1  Toy Story (1995)  Adventure|Animation|Children|Comedy|Fantasy   \n",
       "\n",
       "   userId  rating_x  timestamp                                     genres_y  \\\n",
       "0  158849       5.0  994716786  Adventure|Animation|Children|Comedy|Fantasy   \n",
       "1   97203       5.0  942683155  Adventure|Animation|Children|Comedy|Fantasy   \n",
       "\n",
       "   rating_y  \n",
       "0  3.889971  \n",
       "1  3.889971  "
      ]
     },
     "execution_count": 17,
     "metadata": {},
     "output_type": "execute_result"
    }
   ],
   "source": [
    "#verify that the above code is applies we review the fisrt two raws\n",
    "f1.head(2)"
   ]
  },
  {
   "cell_type": "code",
   "execution_count": 18,
   "id": "1oo15s9QTq4d",
   "metadata": {
    "colab": {
     "base_uri": "https://localhost:8080/",
     "height": 206
    },
    "id": "1oo15s9QTq4d",
    "outputId": "ce110735-7e4a-4f72-96a6-377a06f09f36"
   },
   "outputs": [
    {
     "data": {
      "text/html": [
       "<div>\n",
       "<style scoped>\n",
       "    .dataframe tbody tr th:only-of-type {\n",
       "        vertical-align: middle;\n",
       "    }\n",
       "\n",
       "    .dataframe tbody tr th {\n",
       "        vertical-align: top;\n",
       "    }\n",
       "\n",
       "    .dataframe thead th {\n",
       "        text-align: right;\n",
       "    }\n",
       "</style>\n",
       "<table border=\"1\" class=\"dataframe\">\n",
       "  <thead>\n",
       "    <tr style=\"text-align: right;\">\n",
       "      <th></th>\n",
       "      <th>movieId</th>\n",
       "      <th>title</th>\n",
       "      <th>genres</th>\n",
       "      <th>userId</th>\n",
       "      <th>rating</th>\n",
       "      <th>timestamp</th>\n",
       "    </tr>\n",
       "  </thead>\n",
       "  <tbody>\n",
       "    <tr>\n",
       "      <th>0</th>\n",
       "      <td>1</td>\n",
       "      <td>Toy Story (1995)</td>\n",
       "      <td>Adventure|Animation|Children|Comedy|Fantasy</td>\n",
       "      <td>158849</td>\n",
       "      <td>5.0</td>\n",
       "      <td>994716786</td>\n",
       "    </tr>\n",
       "    <tr>\n",
       "      <th>1</th>\n",
       "      <td>1</td>\n",
       "      <td>Toy Story (1995)</td>\n",
       "      <td>Adventure|Animation|Children|Comedy|Fantasy</td>\n",
       "      <td>97203</td>\n",
       "      <td>5.0</td>\n",
       "      <td>942683155</td>\n",
       "    </tr>\n",
       "    <tr>\n",
       "      <th>2</th>\n",
       "      <td>1</td>\n",
       "      <td>Toy Story (1995)</td>\n",
       "      <td>Adventure|Animation|Children|Comedy|Fantasy</td>\n",
       "      <td>161871</td>\n",
       "      <td>3.0</td>\n",
       "      <td>833104576</td>\n",
       "    </tr>\n",
       "    <tr>\n",
       "      <th>3</th>\n",
       "      <td>1</td>\n",
       "      <td>Toy Story (1995)</td>\n",
       "      <td>Adventure|Animation|Children|Comedy|Fantasy</td>\n",
       "      <td>45117</td>\n",
       "      <td>4.0</td>\n",
       "      <td>1442256969</td>\n",
       "    </tr>\n",
       "    <tr>\n",
       "      <th>4</th>\n",
       "      <td>1</td>\n",
       "      <td>Toy Story (1995)</td>\n",
       "      <td>Adventure|Animation|Children|Comedy|Fantasy</td>\n",
       "      <td>27431</td>\n",
       "      <td>5.0</td>\n",
       "      <td>849667827</td>\n",
       "    </tr>\n",
       "  </tbody>\n",
       "</table>\n",
       "</div>"
      ],
      "text/plain": [
       "   movieId             title                                       genres  \\\n",
       "0        1  Toy Story (1995)  Adventure|Animation|Children|Comedy|Fantasy   \n",
       "1        1  Toy Story (1995)  Adventure|Animation|Children|Comedy|Fantasy   \n",
       "2        1  Toy Story (1995)  Adventure|Animation|Children|Comedy|Fantasy   \n",
       "3        1  Toy Story (1995)  Adventure|Animation|Children|Comedy|Fantasy   \n",
       "4        1  Toy Story (1995)  Adventure|Animation|Children|Comedy|Fantasy   \n",
       "\n",
       "   userId  rating   timestamp  \n",
       "0  158849     5.0   994716786  \n",
       "1   97203     5.0   942683155  \n",
       "2  161871     3.0   833104576  \n",
       "3   45117     4.0  1442256969  \n",
       "4   27431     5.0   849667827  "
      ]
     },
     "execution_count": 18,
     "metadata": {},
     "output_type": "execute_result"
    }
   ],
   "source": [
    "f1.drop(columns=['rating_y','genres_y'],inplace=True) # Delete the duplicated columns\n",
    "\n",
    "f1.rename(columns={'genres_x':'genres','rating_x':'rating'},inplace=True) # Rename the columns\n",
    "\n",
    "# Show the  first 5 observations\n",
    "f1.head()"
   ]
  },
  {
   "cell_type": "code",
   "execution_count": 19,
   "id": "mafLtpd9X_L7",
   "metadata": {
    "colab": {
     "base_uri": "https://localhost:8080/"
    },
    "id": "mafLtpd9X_L7",
    "outputId": "2bb1119e-a42b-45ed-c142-c92f05029814"
   },
   "outputs": [
    {
     "data": {
      "text/plain": [
       "array(['Adventure|Animation|Children|Comedy|Fantasy',\n",
       "       'Adventure|Children|Fantasy', 'Comedy|Romance', ...,\n",
       "       'Animation|Children|Comedy|Fantasy|Horror',\n",
       "       'Children|Comedy|Fantasy|Mystery',\n",
       "       'Comedy|Horror|Mystery|Sci-Fi|Western'], dtype=object)"
      ]
     },
     "execution_count": 19,
     "metadata": {},
     "output_type": "execute_result"
    }
   ],
   "source": [
    "f1['genres'].unique()"
   ]
  },
  {
   "cell_type": "code",
   "execution_count": 20,
   "id": "rYLSrZpdXpsc",
   "metadata": {
    "id": "rYLSrZpdXpsc"
   },
   "outputs": [],
   "source": [
    "#Function to get the first top 10 titles by ratings\n",
    "def plot_by_ratings(df,column, n):\n",
    "    plt.figure(figsize=(10,6))\n",
    "    data = df[str(column)].value_counts().head(n)\n",
    "    ax = sns.barplot(x = data, order= data.index, y = data.index, palette='rocket', edgecolor=\"black\")\n",
    "    for p in ax.patches:\n",
    "        ax.text(p.get_x() + p.get_width()/2., p.get_height(), '%d' % int(p.get_height()), fontsize=11, ha='center', va='bottom')\n",
    "    plt.title(f'Top {n} {column.title()} by Number of Ratings', fontsize=14)\n",
    "    plt.xlabel('Number of ratings')\n",
    "    plt.ylabel('Movie Title')\n",
    "    plt.xticks(rotation=90)\n",
    "    plt.show()"
   ]
  },
  {
   "cell_type": "code",
   "execution_count": 21,
   "id": "i5ivXtHCYuTW",
   "metadata": {
    "colab": {
     "base_uri": "https://localhost:8080/",
     "height": 436
    },
    "id": "i5ivXtHCYuTW",
    "outputId": "4b2797be-1301-4f6f-cd83-4fd7ef92fdf4"
   },
   "outputs": [
    {
     "data": {
      "image/png": "[encoded data removed]",
      "text/plain": [
       "<Figure size 720x432 with 1 Axes>"
      ]
     },
     "metadata": {},
     "output_type": "display_data"
    }
   ],
   "source": [
    "# Function applied to merged data\n",
    "plot_by_ratings(f1,'title',10)"
   ]
  },
  {
   "cell_type": "markdown",
   "id": "83e3787f",
   "metadata": {
    "id": "83auA-MUtvEd"
   },
   "source": [
    "## Preprocessing and Feature Engineering\n",
    "\n",
    "The goal of dimensionality reduction is to reduce the number of features in a dataset while minimising the amount of data loss"
   ]
  },
  {
   "cell_type": "markdown",
   "id": "BT-3rXMYtvgN",
   "metadata": {
    "id": "BT-3rXMYtvgN"
   },
   "source": [
    "#### For pre processing we wil perform :\n",
    "\n",
    "* Scaling\n",
    "* Principle component Analysis\n",
    "* Cosine similarity check\n",
    "* Recommender systems\n"
   ]
  },
  {
   "cell_type": "markdown",
   "id": "HnWLzi6WCRl9",
   "metadata": {
    "id": "HnWLzi6WCRl9"
   },
   "source": [
    "The Dataset contain too large values.To reduce computational power, we are going to be looking at the top ten movies and selecting only those with a rating of more than 2000"
   ]
  },
  {
   "cell_type": "code",
   "execution_count": 22,
   "id": "9HFTUYIWCDtB",
   "metadata": {
    "colab": {
     "base_uri": "https://localhost:8080/"
    },
    "id": "9HFTUYIWCDtB",
    "outputId": "2f23824a-5b83-4feb-80e4-3fb35f94721c"
   },
   "outputs": [],
   "source": [
    "#Filtering applied to train dataset\n",
    "#pre_scaled=train.groupby(\"movieId\").filter(lambda x:x['rating'].count() >=2000)\n",
    "#print(\"the filtered dataset consist of :\")\n",
    "#pre_scaled.shape[0]"
   ]
  },
  {
   "cell_type": "code",
   "execution_count": 23,
   "id": "W1jFexN_b9A2",
   "metadata": {
    "colab": {
     "base_uri": "https://localhost:8080/",
     "height": 206
    },
    "id": "W1jFexN_b9A2",
    "outputId": "a1d1f3fc-5059-44ab-9ed8-9be970f42c69"
   },
   "outputs": [
    {
     "data": {
      "text/html": [
       "<div>\n",
       "<style scoped>\n",
       "    .dataframe tbody tr th:only-of-type {\n",
       "        vertical-align: middle;\n",
       "    }\n",
       "\n",
       "    .dataframe tbody tr th {\n",
       "        vertical-align: top;\n",
       "    }\n",
       "\n",
       "    .dataframe thead th {\n",
       "        text-align: right;\n",
       "    }\n",
       "</style>\n",
       "<table border=\"1\" class=\"dataframe\">\n",
       "  <thead>\n",
       "    <tr style=\"text-align: right;\">\n",
       "      <th></th>\n",
       "      <th>movieId</th>\n",
       "      <th>title</th>\n",
       "      <th>genres</th>\n",
       "      <th>userId</th>\n",
       "      <th>rating</th>\n",
       "      <th>timestamp</th>\n",
       "    </tr>\n",
       "  </thead>\n",
       "  <tbody>\n",
       "    <tr>\n",
       "      <th>0</th>\n",
       "      <td>1</td>\n",
       "      <td>Toy Story (1995)</td>\n",
       "      <td>Adventure|Animation|Children|Comedy|Fantasy</td>\n",
       "      <td>158849</td>\n",
       "      <td>5.0</td>\n",
       "      <td>994716786</td>\n",
       "    </tr>\n",
       "    <tr>\n",
       "      <th>1</th>\n",
       "      <td>1</td>\n",
       "      <td>Toy Story (1995)</td>\n",
       "      <td>Adventure|Animation|Children|Comedy|Fantasy</td>\n",
       "      <td>97203</td>\n",
       "      <td>5.0</td>\n",
       "      <td>942683155</td>\n",
       "    </tr>\n",
       "    <tr>\n",
       "      <th>2</th>\n",
       "      <td>1</td>\n",
       "      <td>Toy Story (1995)</td>\n",
       "      <td>Adventure|Animation|Children|Comedy|Fantasy</td>\n",
       "      <td>161871</td>\n",
       "      <td>3.0</td>\n",
       "      <td>833104576</td>\n",
       "    </tr>\n",
       "    <tr>\n",
       "      <th>3</th>\n",
       "      <td>1</td>\n",
       "      <td>Toy Story (1995)</td>\n",
       "      <td>Adventure|Animation|Children|Comedy|Fantasy</td>\n",
       "      <td>45117</td>\n",
       "      <td>4.0</td>\n",
       "      <td>1442256969</td>\n",
       "    </tr>\n",
       "    <tr>\n",
       "      <th>4</th>\n",
       "      <td>1</td>\n",
       "      <td>Toy Story (1995)</td>\n",
       "      <td>Adventure|Animation|Children|Comedy|Fantasy</td>\n",
       "      <td>27431</td>\n",
       "      <td>5.0</td>\n",
       "      <td>849667827</td>\n",
       "    </tr>\n",
       "  </tbody>\n",
       "</table>\n",
       "</div>"
      ],
      "text/plain": [
       "   movieId             title                                       genres  \\\n",
       "0        1  Toy Story (1995)  Adventure|Animation|Children|Comedy|Fantasy   \n",
       "1        1  Toy Story (1995)  Adventure|Animation|Children|Comedy|Fantasy   \n",
       "2        1  Toy Story (1995)  Adventure|Animation|Children|Comedy|Fantasy   \n",
       "3        1  Toy Story (1995)  Adventure|Animation|Children|Comedy|Fantasy   \n",
       "4        1  Toy Story (1995)  Adventure|Animation|Children|Comedy|Fantasy   \n",
       "\n",
       "   userId  rating   timestamp  \n",
       "0  158849     5.0   994716786  \n",
       "1   97203     5.0   942683155  \n",
       "2  161871     3.0   833104576  \n",
       "3   45117     4.0  1442256969  \n",
       "4   27431     5.0   849667827  "
      ]
     },
     "execution_count": 23,
     "metadata": {},
     "output_type": "execute_result"
    }
   ],
   "source": [
    "f1.head()"
   ]
  },
  {
   "cell_type": "markdown",
   "id": "eJyMyATTLBfX",
   "metadata": {
    "id": "eJyMyATTLBfX"
   },
   "source": [
    "Labels are not used in an unsupervised learning environment"
   ]
  },
  {
   "cell_type": "code",
   "execution_count": 66,
   "id": "c2f8b6fc",
   "metadata": {},
   "outputs": [],
   "source": [
    "# create short list of unwanted columns\n",
    "labels = ['title', 'genres']\n",
    "\n",
    "# declare the features to be all columns, less the unwanted ones from above\n",
    "features = [col for col in train.columns if col not in labels]"
   ]
  },
  {
   "cell_type": "code",
   "execution_count": 67,
   "id": "aWkKramfx31x",
   "metadata": {
    "colab": {
     "base_uri": "https://localhost:8080/"
    },
    "id": "aWkKramfx31x",
    "outputId": "791296df-389e-4861-fd38-88c211b49652"
   },
   "outputs": [
    {
     "name": "stderr",
     "output_type": "stream",
     "text": [
      "C:\\Users\\peter selolo\\anaconda3\\lib\\site-packages\\sklearn\\preprocessing\\_data.py:235: UserWarning:\n",
      "\n",
      "Numerical issues were encountered when centering the data and might not be solved. Dataset may contain too large values. You may need to prescale your features.\n",
      "\n"
     ]
    }
   ],
   "source": [
    "# Scaling the movies_df\n",
    "# declare the features to be all columns from our movies_df\n",
    "#features = [col for col in f1.columns]\n",
    "\n",
    "# create scaler object\n",
    "scaler = StandardScaler()\n",
    "\n",
    "# define scaled data frame variable\n",
    "scaled_df = train.copy()\n",
    "scaled_df[features] = preprocessing.scale(scaled_df[features])"
   ]
  },
  {
   "cell_type": "code",
   "execution_count": 68,
   "id": "BMC8o_cxybqZ",
   "metadata": {
    "colab": {
     "base_uri": "https://localhost:8080/",
     "height": 628
    },
    "id": "BMC8o_cxybqZ",
    "outputId": "7141bade-461d-481f-f0ea-f53f7c94dad9"
   },
   "outputs": [
    {
     "data": {
      "text/plain": [
       "Text(0, 0.5, 'Cumulative explained variance')"
      ]
     },
     "execution_count": 68,
     "metadata": {},
     "output_type": "execute_result"
    },
    {
     "data": {
      "image/png": "[encoded data removed]",
      "text/plain": [
       "<Figure size 1080x720 with 1 Axes>"
      ]
     },
     "metadata": {},
     "output_type": "display_data"
    }
   ],
   "source": [
    "# define PCA object\n",
    "pca = PCA()\n",
    "\n",
    "# fit the PCA model to our data and apply the dimensionality reduction \n",
    "prin_comp = pca.fit_transform(scaled_df[features])\n",
    "\n",
    "# create a dataframe containing the principal components\n",
    "pca_df = pd.DataFrame(data = prin_comp)\n",
    "\n",
    "\n",
    "\n",
    "# plot line graph of cumulative variance explained\n",
    "plt.plot(np.cumsum(pca.explained_variance_ratio_))\n",
    "plt.xlabel('Number of components')\n",
    "plt.ylabel('Cumulative explained variance')"
   ]
  },
  {
   "cell_type": "markdown",
   "id": "SgRnjlus0tOx",
   "metadata": {
    "id": "SgRnjlus0tOx"
   },
   "source": [
    "Looking at the graph, it appears roughly 3 components will explain 87% of the data. That is a significant reduction - from 6 features down to 3. Interestingly, it appears that close to 100% of the variance is explained by the first 3 components, itself a significant reduction"
   ]
  },
  {
   "cell_type": "markdown",
   "id": "h8r82sFh0vXR",
   "metadata": {
    "id": "h8r82sFh0vXR"
   },
   "source": [
    "Next we will determine how many principal components will be required to explain 85% of the variance in our dataset."
   ]
  },
  {
   "cell_type": "code",
   "execution_count": 69,
   "id": "KYWgZkOlyvVY",
   "metadata": {
    "colab": {
     "base_uri": "https://localhost:8080/"
    },
    "id": "KYWgZkOlyvVY",
    "outputId": "386a40a1-f8cd-47c0-918a-2231e821881d"
   },
   "outputs": [
    {
     "name": "stdout",
     "output_type": "stream",
     "text": [
      "88.0 % of variance explained by 3 components.\n"
     ]
    }
   ],
   "source": [
    "pca_85 = PCA(.85)\n",
    "pca_85.fit_transform(scaled_df[features])\n",
    "print(round(pca_85.explained_variance_ratio_.sum()*100, 1),\n",
    "      \"% of variance explained by\",\n",
    "      pca_85.n_components_,\n",
    "      \"components.\")"
   ]
  },
  {
   "cell_type": "code",
   "execution_count": 70,
   "id": "yIBU88nt1HrC",
   "metadata": {
    "colab": {
     "base_uri": "https://localhost:8080/"
    },
    "id": "yIBU88nt1HrC",
    "outputId": "ea5297d0-119b-4882-a5ba-776c78c6beb4"
   },
   "outputs": [
    {
     "data": {
      "text/plain": [
       "array([0.3802045 , 0.25060905, 0.24947369])"
      ]
     },
     "execution_count": 70,
     "metadata": {},
     "output_type": "execute_result"
    }
   ],
   "source": [
    "#Let's take a look at the variance explained by the first few components\n",
    "pca.explained_variance_ratio_[:3]"
   ]
  },
  {
   "cell_type": "markdown",
   "id": "HjBG_eXQ1fac",
   "metadata": {
    "id": "HjBG_eXQ1fac"
   },
   "source": [
    "#### Observations from pca\n",
    "The first component explains 38%, with the 2nd following closely behind at 25% and the 3rd at 25%. Together, the 86% of the variance is explained by the first three components."
   ]
  },
  {
   "cell_type": "markdown",
   "id": "enxPbphxDFa_",
   "metadata": {
    "id": "enxPbphxDFa_"
   },
   "source": [
    "Putting Our Dimensionality Reduction to Use\n",
    "We have seen that just 3 components of an original 6 can be used to explain 88% of the variance in our dataset. Let us now utilise our reduced dataset, consisting of just 3 components, by using it to build a predictive regressor model.\n",
    "\n",
    "We will use the feature named rating  as the response variable (the one that we will try to predict). This feature was used in our initial PCA, so we will have to make some changes to the dataset to ensure it is not included this time.\n",
    "\n",
    "PCA requires features to be scaled. But we don't need to scale the response variable which we will use for prediction, as it is not used in PCA. This is good, because leaving the response as is means any predicted values and associated errors are easier to interpret"
   ]
  },
  {
   "cell_type": "markdown",
   "id": "83489cb8",
   "metadata": {},
   "source": [
    "#### cosine similarity pre processing"
   ]
  },
  {
   "cell_type": "code",
   "execution_count": 71,
   "id": "4fc42708",
   "metadata": {},
   "outputs": [],
   "source": [
    "#make a copy of the movies dataframe to work with\n",
    "movies_copy = movies.copy()"
   ]
  },
  {
   "cell_type": "code",
   "execution_count": 72,
   "id": "3529a48a",
   "metadata": {},
   "outputs": [],
   "source": [
    "#filter movies dataset to take only 20000 movies to reduce computational power \n",
    "r_movies = movies_copy[0:20000]"
   ]
  },
  {
   "cell_type": "code",
   "execution_count": 73,
   "id": "1c408f1e",
   "metadata": {},
   "outputs": [
    {
     "data": {
      "text/plain": [
       "0        Adventure|Animation|Children|Comedy|Fantasy\n",
       "1                         Adventure|Children|Fantasy\n",
       "2                                     Comedy|Romance\n",
       "3                               Comedy|Drama|Romance\n",
       "4                                             Comedy\n",
       "                            ...                     \n",
       "19995                                         Comedy\n",
       "19996                                    Documentary\n",
       "19997                                    Documentary\n",
       "19998                           Crime|Horror|Mystery\n",
       "19999                                          Drama\n",
       "Name: genres, Length: 20000, dtype: object"
      ]
     },
     "execution_count": 73,
     "metadata": {},
     "output_type": "execute_result"
    }
   ],
   "source": [
    "#select and display the desired column to be used for checking similarity(genres column)\n",
    "r2_movies = r_movies['genres']\n",
    "r2_movies"
   ]
  },
  {
   "cell_type": "code",
   "execution_count": 74,
   "id": "c738197d",
   "metadata": {},
   "outputs": [
    {
     "data": {
      "text/plain": [
       "0                                   Toy Story (1995)\n",
       "1                                     Jumanji (1995)\n",
       "2                            Grumpier Old Men (1995)\n",
       "3                           Waiting to Exhale (1995)\n",
       "4                 Father of the Bride Part II (1995)\n",
       "                            ...                     \n",
       "19995                                   Joker (2012)\n",
       "19996                                   Gitmo (2005)\n",
       "19997    My Avatar and Me (Min Avatar og mig) (2010)\n",
       "19998                 Blood Beast Terror, The (1968)\n",
       "19999                                 Othello (1981)\n",
       "Name: title, Length: 20000, dtype: object"
      ]
     },
     "execution_count": 74,
     "metadata": {},
     "output_type": "execute_result"
    }
   ],
   "source": [
    "#creating indices used to keep track of numbering of all entities in the movie column\n",
    "\n",
    "titles = r_movies['title']\n",
    "indices = pd.Series(r_movies.index, index=r_movies['title'])\n",
    "titles"
   ]
  },
  {
   "cell_type": "markdown",
   "id": "aaa210f7",
   "metadata": {},
   "source": [
    "We now need a mechanism to convert these textual features into a format which enables us to compute their relative similarities to one another. This will allow us to translate our string-based collection of tags and authors into numerical vectors"
   ]
  },
  {
   "cell_type": "code",
   "execution_count": 75,
   "id": "c37d0187",
   "metadata": {},
   "outputs": [],
   "source": [
    "#converting textual data to numerical\n",
    "tf = TfidfVectorizer(analyzer='word', ngram_range=(1,2),\n",
    "                     min_df=0, stop_words='english')\n",
    "\n",
    "# Produce a feature matrix, where each row corresponds to a movie,\n",
    "# with TF-IDF features as columns \n",
    "tf_tag_ti_gen_matrix = tf.fit_transform(r2_movies)"
   ]
  },
  {
   "cell_type": "markdown",
   "id": "c80d15fc",
   "metadata": {},
   "source": [
    "## Modelling "
   ]
  },
  {
   "cell_type": "markdown",
   "id": "8c1978f5",
   "metadata": {},
   "source": [
    "### Content based filtering"
   ]
  },
  {
   "cell_type": "markdown",
   "id": "adce20df",
   "metadata": {},
   "source": [
    "Content-based filtering is one popular technique of recommendation or recommender systems. The content or attributes of the things you like are referred to as \"content.\" \n",
    "\n",
    "Here, the system uses your features and likes in order to recommend you with things that you might like. It uses the information provided by you over the internet and the ones they are able to gather and then they curate recommendations according to that.  \n",
    "The goal behind content-based filtering is to classify products with specific keywords, learn what the customer likes, look up those terms in the database, and then recommend similar things.\n",
    "\n",
    "This type of recommender system is hugely dependent on the inputs provided by users, some common examples included Google, Wikipedia, etc. For example, when a user searches for a group of keywords, then Google displays all the items consisting of those keywords. The below video explains how a content-based recommender works."
   ]
  },
  {
   "cell_type": "markdown",
   "id": "9434e5d4",
   "metadata": {},
   "source": [
    "#### Advantages\n",
    "\n",
    "* The model doesn't need any data about other users, since the recommendations are specific to this user. This makes it easier     to scale to a large number of users.\n",
    "* The model can capture the specific interests of a user, and can recommend niche items that very few other users are interested   in.\n",
    "\n",
    "#### Disadvantages\n",
    "\n",
    "* Since the feature representation of the items are hand-engineered to some extent, this technique requires a lot of domain       knowledge. Therefore, the model can only be as good as the hand-engineered features.\n",
    "* The model can only make recommendations based on existing interests of the user. In other words, the model has limited ability   to expand on the users' existing interests."
   ]
  },
  {
   "cell_type": "markdown",
   "id": "4d248368",
   "metadata": {},
   "source": [
    "We are going to compute the similarity between each vector within our matrix.\n",
    "This is done by making use of the cosine_similarity function \n",
    "provided to us by sklearn"
   ]
  },
  {
   "cell_type": "code",
   "execution_count": 76,
   "id": "8e0b697f",
   "metadata": {},
   "outputs": [
    {
     "name": "stdout",
     "output_type": "stream",
     "text": [
      "(20000, 20000)\n"
     ]
    }
   ],
   "source": [
    "cosine_sim_tags = cosine_similarity(tf_tag_ti_gen_matrix, \n",
    "                                        tf_tag_ti_gen_matrix)\n",
    "print (cosine_sim_tags.shape)"
   ]
  },
  {
   "cell_type": "code",
   "execution_count": 79,
   "id": "e6d96927",
   "metadata": {},
   "outputs": [],
   "source": [
    "def content_generate_top_N_recommendations(movie_title, N=10):\n",
    "    # Convert the string movie title to a numeric index for our \n",
    "    # similarity matrix\n",
    "    b_idx = indices[movie_title]\n",
    "    \n",
    "    # Extract all similarity values computed with the reference book title\n",
    "    sim_scores = list(enumerate(cosine_sim_tags[b_idx]))\n",
    "    \n",
    "    # Sort the values, keeping a copy of the original index of each value\n",
    "    sim_scores = sorted(sim_scores, key=lambda x: x[1], reverse=True)\n",
    "    \n",
    "    # Select the top-N values for recommendation\n",
    "    sim_scores = sim_scores[1:N]\n",
    "    \n",
    "    # Collect indexes \n",
    "    movie_indices = [i[0] for i in sim_scores]\n",
    "    # Convert the indexes back into titles \n",
    "    return titles.iloc[movie_indices]"
   ]
  },
  {
   "cell_type": "code",
   "execution_count": 80,
   "id": "310022bc",
   "metadata": {},
   "outputs": [
    {
     "data": {
      "text/plain": [
       "6                          Sabrina (1995)\n",
       "38                        Clueless (1995)\n",
       "63                   Two if by Sea (1996)\n",
       "67     French Twist (Gazon maudit) (1995)\n",
       "116                   If Lucy Fell (1996)\n",
       "120                      Boomerang (1992)\n",
       "127                 Pie in the Sky (1996)\n",
       "178                       Mallrats (1995)\n",
       "184                    Nine Months (1995)\n",
       "Name: title, dtype: object"
      ]
     },
     "execution_count": 80,
     "metadata": {},
     "output_type": "execute_result"
    }
   ],
   "source": [
    "#tyjk\n",
    "content_generate_top_N_recommendations(\"Grumpier Old Men (1995)\")"
   ]
  },
  {
   "cell_type": "code",
   "execution_count": 101,
   "id": "412ff83a",
   "metadata": {},
   "outputs": [],
   "source": [
    "def content_generate_rating_estimate(movie_title, userId, rating_data, k=20, threshold=0.0):\n",
    "    # Convert the book title to a numeric index for our \n",
    "    # similarity matrix\n",
    "    b_idx = indices[movie_title]\n",
    "    neighbors = [] # <-- Stores our collection of similarity values \n",
    "     \n",
    "    # Gather the similarity ratings between each book the user has rated\n",
    "    # and the reference book \n",
    "    for index, row in rating_data[rating_data['userId']==userId].iterrows():\n",
    "        sim = cosine_sim_tags[b_idx-1, indices[row['title']]-1]\n",
    "        neighbors.append((sim, row['rating']))\n",
    "    # Select the top-N values from our collection\n",
    "    k_neighbors = heapq.nlargest(k, neighbors, key=lambda t: t[0])\n",
    "\n",
    "    # Compute the weighted average using similarity scores and \n",
    "    # user item ratings. \n",
    "    simTotal, weightedSum = 0, 0\n",
    "    for (simScore, rating) in k_neighbors:\n",
    "        # Ensure that similarity ratings are above a given threshold\n",
    "        if (simScore > threshold):\n",
    "            simTotal += simScore\n",
    "            weightedSum += simScore * rating\n",
    "    try:\n",
    "        predictedRating = weightedSum / simTotal\n",
    "    except ZeroDivisionError:\n",
    "        # Cold-start problem - No ratings given by user. \n",
    "        # We use the average rating for the reference item as a proxy in this case \n",
    "        predictedRating = np.mean(rating_data[rating_data['title']==movie_title]['rating'])\n",
    "    return predictedRating"
   ]
  },
  {
   "cell_type": "code",
   "execution_count": 102,
   "id": "9fd93930",
   "metadata": {},
   "outputs": [
    {
     "data": {
      "text/html": [
       "<div>\n",
       "<style scoped>\n",
       "    .dataframe tbody tr th:only-of-type {\n",
       "        vertical-align: middle;\n",
       "    }\n",
       "\n",
       "    .dataframe tbody tr th {\n",
       "        vertical-align: top;\n",
       "    }\n",
       "\n",
       "    .dataframe thead th {\n",
       "        text-align: right;\n",
       "    }\n",
       "</style>\n",
       "<table border=\"1\" class=\"dataframe\">\n",
       "  <thead>\n",
       "    <tr style=\"text-align: right;\">\n",
       "      <th></th>\n",
       "      <th>movieId</th>\n",
       "      <th>title</th>\n",
       "      <th>genres</th>\n",
       "      <th>userId</th>\n",
       "      <th>rating</th>\n",
       "      <th>timestamp</th>\n",
       "    </tr>\n",
       "  </thead>\n",
       "  <tbody>\n",
       "    <tr>\n",
       "      <th>436915</th>\n",
       "      <td>153</td>\n",
       "      <td>Batman Forever (1995)</td>\n",
       "      <td>Action|Adventure|Comedy|Crime</td>\n",
       "      <td>314</td>\n",
       "      <td>4.0</td>\n",
       "      <td>843572732</td>\n",
       "    </tr>\n",
       "    <tr>\n",
       "      <th>489881</th>\n",
       "      <td>168</td>\n",
       "      <td>First Knight (1995)</td>\n",
       "      <td>Action|Drama|Romance</td>\n",
       "      <td>314</td>\n",
       "      <td>4.0</td>\n",
       "      <td>843573572</td>\n",
       "    </tr>\n",
       "    <tr>\n",
       "      <th>650782</th>\n",
       "      <td>252</td>\n",
       "      <td>I.Q. (1994)</td>\n",
       "      <td>Comedy|Romance</td>\n",
       "      <td>314</td>\n",
       "      <td>4.0</td>\n",
       "      <td>843573423</td>\n",
       "    </tr>\n",
       "    <tr>\n",
       "      <th>738038</th>\n",
       "      <td>282</td>\n",
       "      <td>Nell (1994)</td>\n",
       "      <td>Drama</td>\n",
       "      <td>314</td>\n",
       "      <td>3.0</td>\n",
       "      <td>843573308</td>\n",
       "    </tr>\n",
       "    <tr>\n",
       "      <th>990095</th>\n",
       "      <td>356</td>\n",
       "      <td>Forrest Gump (1994)</td>\n",
       "      <td>Comedy|Drama|Romance|War</td>\n",
       "      <td>314</td>\n",
       "      <td>4.0</td>\n",
       "      <td>843572792</td>\n",
       "    </tr>\n",
       "    <tr>\n",
       "      <th>1067419</th>\n",
       "      <td>367</td>\n",
       "      <td>Mask, The (1994)</td>\n",
       "      <td>Action|Comedy|Crime|Fantasy</td>\n",
       "      <td>314</td>\n",
       "      <td>3.0</td>\n",
       "      <td>843572913</td>\n",
       "    </tr>\n",
       "    <tr>\n",
       "      <th>1133068</th>\n",
       "      <td>383</td>\n",
       "      <td>Wyatt Earp (1994)</td>\n",
       "      <td>Western</td>\n",
       "      <td>314</td>\n",
       "      <td>4.0</td>\n",
       "      <td>843576295</td>\n",
       "    </tr>\n",
       "  </tbody>\n",
       "</table>\n",
       "</div>"
      ],
      "text/plain": [
       "         movieId                  title                         genres  \\\n",
       "436915       153  Batman Forever (1995)  Action|Adventure|Comedy|Crime   \n",
       "489881       168    First Knight (1995)           Action|Drama|Romance   \n",
       "650782       252            I.Q. (1994)                 Comedy|Romance   \n",
       "738038       282            Nell (1994)                          Drama   \n",
       "990095       356    Forrest Gump (1994)       Comedy|Drama|Romance|War   \n",
       "1067419      367       Mask, The (1994)    Action|Comedy|Crime|Fantasy   \n",
       "1133068      383      Wyatt Earp (1994)                        Western   \n",
       "\n",
       "         userId  rating  timestamp  \n",
       "436915      314     4.0  843572732  \n",
       "489881      314     4.0  843573572  \n",
       "650782      314     4.0  843573423  \n",
       "738038      314     3.0  843573308  \n",
       "990095      314     4.0  843572792  \n",
       "1067419     314     3.0  843572913  \n",
       "1133068     314     4.0  843576295  "
      ]
     },
     "execution_count": 102,
     "metadata": {},
     "output_type": "execute_result"
    }
   ],
   "source": [
    "f1[f1['userId'] == 314][3:10]"
   ]
  },
  {
   "cell_type": "code",
   "execution_count": 103,
   "id": "aa34e201",
   "metadata": {},
   "outputs": [],
   "source": [
    "#let us see how our defined model performs"
   ]
  },
  {
   "cell_type": "code",
   "execution_count": 104,
   "id": "cc08b94d",
   "metadata": {},
   "outputs": [
    {
     "name": "stdout",
     "output_type": "stream",
     "text": [
      "Title - Batman Forever (1995)\n",
      "---\n",
      "Actual rating: \t\t 4.0\n",
      "Predicted rating: \t 3.7376935837355854\n"
     ]
    }
   ],
   "source": [
    "title = \"Batman Forever (1995)\"\n",
    "actual_rating = f1[(f1['userId'] == 314) & (f1['title'] == title)]['rating'].values[0]\n",
    "pred_rating = content_generate_rating_estimate(movie_title=title, userId=314, rating_data=f1)\n",
    "print (f\"Title - {title}\")\n",
    "print (\"---\")\n",
    "print (f\"Actual rating: \\t\\t {actual_rating}\")\n",
    "print (f\"Predicted rating: \\t {pred_rating}\")"
   ]
  },
  {
   "cell_type": "markdown",
   "id": "ea013ccc",
   "metadata": {},
   "source": [
    "### Collaborative filtering"
   ]
  },
  {
   "cell_type": "markdown",
   "id": "1e62130e",
   "metadata": {},
   "source": [
    "Methods for recommender systems that are primarily based on previous interactions between users and the target items are known as collaborative filtering methods. \n",
    "\n",
    "As a result, all past data about user interactions with target objects will be fed into a collaborative filtering system. This information is usually recorded as a matrix, with the rows representing users and the columns representing items.\n",
    "\n",
    "The basic premise of such systems is that the users' previous data should be sufficient to generate a prediction. That is, we don't require anything other than historical data, no more user input, no current trending data, and so on."
   ]
  },
  {
   "cell_type": "code",
   "execution_count": 47,
   "id": "943adf3d",
   "metadata": {},
   "outputs": [],
   "source": [
    "#Trainset split\n",
    "train_df = train.copy()\n",
    "train_df.drop('timestamp', axis=1, inplace=True)\n",
    "# reduce the dataset by making a subset of the original data set\n",
    "subset = train_df[:100000]\n",
    "reader = Reader(rating_scale=(subset['rating'].min(), subset['rating'].max()))\n",
    "data = Dataset.load_from_df(subset[['userId', 'movieId', 'rating']], reader)\n",
    "trainset, testset = train_test_split(data, test_size=.25, random_state=42)"
   ]
  },
  {
   "cell_type": "code",
   "execution_count": 111,
   "id": "053cda99",
   "metadata": {},
   "outputs": [
    {
     "name": "stdout",
     "output_type": "stream",
     "text": [
      "RMSE: 1.1613\n"
     ]
    }
   ],
   "source": [
    "nmf = NMF()\n",
    "\n",
    "# Train the algorithm on the trainset, and predict ratings for the testset\n",
    "nmf.fit(trainset)\n",
    "predictions = nmf.test(testset)\n",
    "\n",
    "# Compute RMSE\n",
    "nmf_rmse = accuracy.rmse(predictions)"
   ]
  },
  {
   "cell_type": "code",
   "execution_count": 112,
   "id": "7hzsOVumbSES",
   "metadata": {
    "colab": {
     "base_uri": "https://localhost:8080/"
    },
    "id": "7hzsOVumbSES",
    "outputId": "bce019ec-8f32-4a7d-d7f3-dce3715a24d4"
   },
   "outputs": [
    {
     "name": "stdout",
     "output_type": "stream",
     "text": [
      "RMSE: 0.9837\n"
     ]
    }
   ],
   "source": [
    "svd = SVD()\n",
    "\n",
    "# Train the algorithm on the trainset, and predict ratings for the testset\n",
    "svd.fit(trainset)\n",
    "predictions = svd.test(testset)\n",
    "\n",
    "# Compute RMSE\n",
    "svd_rmse = accuracy.rmse(predictions)"
   ]
  },
  {
   "cell_type": "markdown",
   "id": "20f76055",
   "metadata": {},
   "source": [
    "#### Why collaborative filtering is better than content-based filtering?\n",
    "\n",
    "Content-based filtering :\n",
    "* Content-based filtering does not require other users' data during recommendations to one user. \n",
    "\n",
    "Collaborative filtering System: \n",
    "* Collaborative does not need the features of the items to be given. Every user and item is described by a feature vector or       embedding. It creates embedding for both users and items on its own.\n",
    "\n",
    "\n",
    "* What happens when there isn’t enough information provided by a user to make item recommendations? Well, in these cases we can   use data provided by other users with similar preferences. Methods within this category make use of the history of past         choices of a group of users in order to elicit recommendations.And that makes Collaborative filtering a powerful technique"
   ]
  },
  {
   "cell_type": "code",
   "execution_count": null,
   "id": "63e2074a",
   "metadata": {},
   "outputs": [],
   "source": []
  },
  {
   "cell_type": "markdown",
   "id": "815b75b4",
   "metadata": {},
   "source": [
    "### Hyperparameter Optimization"
   ]
  },
  {
   "cell_type": "code",
   "execution_count": null,
   "id": "9ba8b1c2",
   "metadata": {},
   "outputs": [],
   "source": [
    "def tune_SVD_model(X_train, y_train):\n",
    "    # your code here\n",
    "    D = {'C':[0.1, 1, 10], 'gamma': [0.01, 0.1, 1]}\n",
    "\n",
    "    from sklearn.metrics import make_scorer\n",
    "\n",
    "    grid_SVM = GridSearchCV(SVC(), param_grid = D, scoring=make_scorer(custom_scoring_function, greater_is_better = False), cv=5)\n",
    "    grid_SVM.fit(X_train, y_train)\n",
    "\n",
    "    return grid_SVM"
   ]
  },
  {
   "cell_type": "code",
   "execution_count": 127,
   "id": "804255e5",
   "metadata": {},
   "outputs": [
    {
     "name": "stdout",
     "output_type": "stream",
     "text": [
      "***Best score:***\n",
      "0.9725833074765273\n",
      "***Best parameters:***\n",
      "{'n_epochs': 20, 'n_factors': 400, 'init_std_dev': 0.005, 'random_state': 42}\n"
     ]
    }
   ],
   "source": [
    "param_grid = {'n_epochs':[20],    #[30,40,50],\n",
    "              'n_factors':[400],   #[100,200,300,400],\n",
    "              'init_std_dev':[0.005], #[0.001,0.005,0.05,0.1],\n",
    "              'random_state':[42]} \n",
    "grid_SVD = GridSearchCV(SVD, cv=5, measures=['rmse'], param_grid=param_grid, n_jobs=-1)\n",
    "grid_SVD.fit(data)\n",
    "print('***Best score:***')\n",
    "print(grid_SVD.best_score['rmse'])\n",
    "print('***Best parameters:***')\n",
    "print(grid_SVD.best_params['rmse'])"
   ]
  },
  {
   "cell_type": "code",
   "execution_count": 129,
   "id": "03405bdc",
   "metadata": {},
   "outputs": [
    {
     "name": "stdout",
     "output_type": "stream",
     "text": [
      "Processing epoch 0\n",
      "Processing epoch 1\n",
      "Processing epoch 2\n",
      "Processing epoch 3\n",
      "Processing epoch 4\n",
      "Processing epoch 5\n",
      "Processing epoch 6\n",
      "Processing epoch 7\n",
      "Processing epoch 8\n",
      "Processing epoch 9\n",
      "Processing epoch 10\n",
      "Processing epoch 11\n",
      "Processing epoch 12\n",
      "Processing epoch 13\n",
      "Processing epoch 14\n",
      "Processing epoch 15\n",
      "Processing epoch 16\n",
      "Processing epoch 17\n",
      "Processing epoch 18\n",
      "Processing epoch 19\n",
      "RMSE: 0.9773\n"
     ]
    }
   ],
   "source": [
    "svd = SVD(n_epochs = 20, n_factors = 400, init_std_dev = 0.005, random_state=42, verbose=True)\n",
    "svd.fit(trainset)\n",
    "predictions = svd.test(testset)\n",
    "\n",
    "# Compute RMSE\n",
    "svd_rmse = accuracy.rmse(predictions)"
   ]
  },
  {
   "cell_type": "markdown",
   "id": "ecc01342",
   "metadata": {},
   "source": [
    "## Model Performance"
   ]
  },
  {
   "cell_type": "code",
   "execution_count": null,
   "id": "6668c054",
   "metadata": {},
   "outputs": [],
   "source": []
  },
  {
   "cell_type": "code",
   "execution_count": null,
   "id": "5ade1aad",
   "metadata": {},
   "outputs": [],
   "source": []
  },
  {
   "cell_type": "code",
   "execution_count": null,
   "id": "b3ded8b2",
   "metadata": {},
   "outputs": [],
   "source": []
  },
  {
   "cell_type": "markdown",
   "id": "14fbe7b2",
   "metadata": {},
   "source": [
    "## Conclussion"
   ]
  },
  {
   "cell_type": "code",
   "execution_count": null,
   "id": "bcd8b0bd",
   "metadata": {},
   "outputs": [],
   "source": []
  },
  {
   "cell_type": "markdown",
   "id": "b2cf5f71",
   "metadata": {},
   "source": [
    "## Prepare data for Kaggle submission"
   ]
  },
  {
   "cell_type": "code",
   "execution_count": 130,
   "id": "0Bp0qVK2euqo",
   "metadata": {
    "colab": {
     "base_uri": "https://localhost:8080/",
     "height": 206
    },
    "id": "0Bp0qVK2euqo",
    "outputId": "4102f24e-06e6-4c2f-90bc-e0e0b2593eeb"
   },
   "outputs": [
    {
     "data": {
      "text/html": [
       "<div>\n",
       "<style scoped>\n",
       "    .dataframe tbody tr th:only-of-type {\n",
       "        vertical-align: middle;\n",
       "    }\n",
       "\n",
       "    .dataframe tbody tr th {\n",
       "        vertical-align: top;\n",
       "    }\n",
       "\n",
       "    .dataframe thead th {\n",
       "        text-align: right;\n",
       "    }\n",
       "</style>\n",
       "<table border=\"1\" class=\"dataframe\">\n",
       "  <thead>\n",
       "    <tr style=\"text-align: right;\">\n",
       "      <th></th>\n",
       "      <th>userId</th>\n",
       "      <th>movieId</th>\n",
       "    </tr>\n",
       "  </thead>\n",
       "  <tbody>\n",
       "    <tr>\n",
       "      <th>0</th>\n",
       "      <td>1</td>\n",
       "      <td>2011</td>\n",
       "    </tr>\n",
       "    <tr>\n",
       "      <th>1</th>\n",
       "      <td>1</td>\n",
       "      <td>4144</td>\n",
       "    </tr>\n",
       "    <tr>\n",
       "      <th>2</th>\n",
       "      <td>1</td>\n",
       "      <td>5767</td>\n",
       "    </tr>\n",
       "    <tr>\n",
       "      <th>3</th>\n",
       "      <td>1</td>\n",
       "      <td>6711</td>\n",
       "    </tr>\n",
       "    <tr>\n",
       "      <th>4</th>\n",
       "      <td>1</td>\n",
       "      <td>7318</td>\n",
       "    </tr>\n",
       "  </tbody>\n",
       "</table>\n",
       "</div>"
      ],
      "text/plain": [
       "   userId  movieId\n",
       "0       1     2011\n",
       "1       1     4144\n",
       "2       1     5767\n",
       "3       1     6711\n",
       "4       1     7318"
      ]
     },
     "execution_count": 130,
     "metadata": {},
     "output_type": "execute_result"
    }
   ],
   "source": [
    "test.head()"
   ]
  },
  {
   "cell_type": "code",
   "execution_count": 133,
   "id": "H6UrgFyuhfIg",
   "metadata": {
    "id": "H6UrgFyuhfIg"
   },
   "outputs": [],
   "source": [
    "train_df = train\n",
    "test_df = test"
   ]
  },
  {
   "cell_type": "code",
   "execution_count": 134,
   "id": "YQ5GWoclg8U9",
   "metadata": {
    "colab": {
     "base_uri": "https://localhost:8080/"
    },
    "id": "YQ5GWoclg8U9",
    "outputId": "1a8556d7-b4cd-4b87-b21d-c94e128b0691"
   },
   "outputs": [
    {
     "name": "stdout",
     "output_type": "stream",
     "text": [
      "Processing epoch 0\n",
      "Processing epoch 1\n",
      "Processing epoch 2\n",
      "Processing epoch 3\n",
      "Processing epoch 4\n",
      "Processing epoch 5\n",
      "Processing epoch 6\n",
      "Processing epoch 7\n",
      "Processing epoch 8\n",
      "Processing epoch 9\n",
      "Processing epoch 10\n",
      "Processing epoch 11\n",
      "Processing epoch 12\n",
      "Processing epoch 13\n",
      "Processing epoch 14\n",
      "Processing epoch 15\n",
      "Processing epoch 16\n",
      "Processing epoch 17\n",
      "Processing epoch 18\n",
      "Processing epoch 19\n",
      "RMSE: 0.7636\n"
     ]
    }
   ],
   "source": [
    "# Train model on whole dataset\n",
    "reader = Reader(rating_scale=(train_df['rating'].min(), train_df['rating'].max()))\n",
    "data = Dataset.load_from_df(train_df[['userId', 'movieId', 'rating']], reader)\n",
    "trainset = data.build_full_trainset()\n",
    "\n",
    "#hypertuned Model\n",
    "svd = SVD(n_epochs = 20, n_factors = 400, init_std_dev = 0.005, random_state=42, verbose=True)\n",
    "svd.fit(trainset)\n",
    "predictions = svd.test(testset)\n",
    "\n",
    "# Compute RMSE\n",
    "svd_rmse = accuracy.rmse(predictions)\n",
    "\n",
    "# Create Kaggle submission file\n",
    "predictions = []\n",
    "for i, row in test_df.iterrows():\n",
    "    x = (svd.predict(row.userId, row.movieId))\n",
    "    pred = x[3]\n",
    "    predictions.append(pred)\n",
    "test_df['Id'] = test_df['userId'].map(str) +'_'+ test_df['movieId'].map(str)\n",
    "results = pd.DataFrame({\"Id\":test_df['Id'],\"rating\": predictions})\n",
    "results.to_csv(\"CB6.csv\", index=False)"
   ]
  },
  {
   "cell_type": "code",
   "execution_count": 135,
   "id": "7IP92cbwf8h9",
   "metadata": {
    "colab": {
     "base_uri": "https://localhost:8080/",
     "height": 424
    },
    "id": "7IP92cbwf8h9",
    "outputId": "7f5e3c6c-74f9-4750-8865-7265db53100a"
   },
   "outputs": [
    {
     "data": {
      "text/html": [
       "<div>\n",
       "<style scoped>\n",
       "    .dataframe tbody tr th:only-of-type {\n",
       "        vertical-align: middle;\n",
       "    }\n",
       "\n",
       "    .dataframe tbody tr th {\n",
       "        vertical-align: top;\n",
       "    }\n",
       "\n",
       "    .dataframe thead th {\n",
       "        text-align: right;\n",
       "    }\n",
       "</style>\n",
       "<table border=\"1\" class=\"dataframe\">\n",
       "  <thead>\n",
       "    <tr style=\"text-align: right;\">\n",
       "      <th></th>\n",
       "      <th>Id</th>\n",
       "      <th>rating</th>\n",
       "    </tr>\n",
       "  </thead>\n",
       "  <tbody>\n",
       "    <tr>\n",
       "      <th>0</th>\n",
       "      <td>1_2011</td>\n",
       "      <td>3.290466</td>\n",
       "    </tr>\n",
       "    <tr>\n",
       "      <th>1</th>\n",
       "      <td>1_4144</td>\n",
       "      <td>4.162769</td>\n",
       "    </tr>\n",
       "    <tr>\n",
       "      <th>2</th>\n",
       "      <td>1_5767</td>\n",
       "      <td>3.652026</td>\n",
       "    </tr>\n",
       "    <tr>\n",
       "      <th>3</th>\n",
       "      <td>1_6711</td>\n",
       "      <td>3.942581</td>\n",
       "    </tr>\n",
       "    <tr>\n",
       "      <th>4</th>\n",
       "      <td>1_7318</td>\n",
       "      <td>3.046243</td>\n",
       "    </tr>\n",
       "    <tr>\n",
       "      <th>...</th>\n",
       "      <td>...</td>\n",
       "      <td>...</td>\n",
       "    </tr>\n",
       "    <tr>\n",
       "      <th>5000014</th>\n",
       "      <td>162541_4079</td>\n",
       "      <td>3.347619</td>\n",
       "    </tr>\n",
       "    <tr>\n",
       "      <th>5000015</th>\n",
       "      <td>162541_4467</td>\n",
       "      <td>3.798264</td>\n",
       "    </tr>\n",
       "    <tr>\n",
       "      <th>5000016</th>\n",
       "      <td>162541_4980</td>\n",
       "      <td>2.621014</td>\n",
       "    </tr>\n",
       "    <tr>\n",
       "      <th>5000017</th>\n",
       "      <td>162541_5689</td>\n",
       "      <td>2.948807</td>\n",
       "    </tr>\n",
       "    <tr>\n",
       "      <th>5000018</th>\n",
       "      <td>162541_7153</td>\n",
       "      <td>4.705080</td>\n",
       "    </tr>\n",
       "  </tbody>\n",
       "</table>\n",
       "<p>5000019 rows × 2 columns</p>\n",
       "</div>"
      ],
      "text/plain": [
       "                  Id    rating\n",
       "0             1_2011  3.290466\n",
       "1             1_4144  4.162769\n",
       "2             1_5767  3.652026\n",
       "3             1_6711  3.942581\n",
       "4             1_7318  3.046243\n",
       "...              ...       ...\n",
       "5000014  162541_4079  3.347619\n",
       "5000015  162541_4467  3.798264\n",
       "5000016  162541_4980  2.621014\n",
       "5000017  162541_5689  2.948807\n",
       "5000018  162541_7153  4.705080\n",
       "\n",
       "[5000019 rows x 2 columns]"
      ]
     },
     "execution_count": 135,
     "metadata": {},
     "output_type": "execute_result"
    }
   ],
   "source": [
    "pd.read_csv(\"CB6.csv\")"
   ]
  },
  {
   "cell_type": "code",
   "execution_count": 136,
   "id": "3c8db464",
   "metadata": {},
   "outputs": [
    {
     "name": "stderr",
     "output_type": "stream",
     "text": [
      "COMET INFO: ---------------------------\n",
      "COMET INFO: Comet.ml Experiment Summary\n",
      "COMET INFO: ---------------------------\n",
      "COMET INFO:   Data:\n",
      "COMET INFO:     display_summary_level : 1\n",
      "COMET INFO:     url                   : https://www.comet.com/phillemon/recommendation-systems/c27ea94b0d744d52b876cab6b41c31d2\n",
      "COMET INFO:   Parameters:\n",
      "COMET INFO:     norm         : l2\n",
      "COMET INFO:     smooth_idf   : True\n",
      "COMET INFO:     sublinear_tf : False\n",
      "COMET INFO:     use_idf      : True\n",
      "COMET INFO:   Uploads:\n",
      "COMET INFO:     conda-info               : 1\n",
      "COMET INFO:     conda-specification      : 1\n",
      "COMET INFO:     environment details      : 1\n",
      "COMET INFO:     filename                 : 1\n",
      "COMET INFO:     git metadata             : 1\n",
      "COMET INFO:     git-patch (uncompressed) : 1 (51.52 MB)\n",
      "COMET INFO:     installed packages       : 1\n",
      "COMET INFO:     notebook                 : 1\n",
      "COMET INFO:     source_code              : 1\n",
      "COMET INFO: ---------------------------\n",
      "COMET INFO: Uploading metrics, params, and assets to Comet before program termination (may take several seconds)\n",
      "COMET INFO: The Python SDK has 3600 seconds to finish before aborting...\n",
      "COMET INFO: Waiting for completion of the file uploads (may take several seconds)\n",
      "COMET INFO: The Python SDK has 10800 seconds to finish before aborting...\n",
      "COMET INFO: All files uploaded, waiting for confirmation they have been all received\n"
     ]
    }
   ],
   "source": [
    "#end the commet experiment\n",
    "experiment.end()"
   ]
  },
  {
   "cell_type": "markdown",
   "id": "0c830a23",
   "metadata": {},
   "source": [
    "References\n",
    "https://developers.google.com/machine-learning/recommendation/content-based/basics\n",
    "https://towardsdatascience.com/introduction-to-recommender-systems-1-971bd274f421\n"
   ]
  },
  {
   "cell_type": "markdown",
   "id": "a4d58587",
   "metadata": {
    "id": "CKvabYfURNK1"
   },
   "source": [
    "# THE END"
   ]
  }
 ],
 "metadata": {
  "colab": {
   "name": "recommendation_predict.ipynb",
   "provenance": []
  },
  "kernelspec": {
   "display_name": "Python 3 (ipykernel)",
   "language": "python",
   "name": "python3"
  },
  "language_info": {
   "codemirror_mode": {
    "name": "ipython",
    "version": 3
   },
   "file_extension": ".py",
   "mimetype": "text/x-python",
   "name": "python",
   "nbconvert_exporter": "python",
   "pygments_lexer": "ipython3",
   "version": "3.9.7"
  }
 },
 "nbformat": 4,
 "nbformat_minor": 5
}
