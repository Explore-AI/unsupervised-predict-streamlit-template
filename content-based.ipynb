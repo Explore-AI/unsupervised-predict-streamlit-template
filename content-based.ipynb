{
 "cells": [
  {
   "cell_type": "code",
   "execution_count": 1,
   "id": "8a588ebc",
   "metadata": {
    "_cell_guid": "b1076dfc-b9ad-4769-8c92-a6c4dae69d19",
    "_uuid": "8f2839f25d086af736a60e9eeb907d3b93b6e0e5",
    "execution": {
     "iopub.execute_input": "2022-02-03T12:54:46.162934Z",
     "iopub.status.busy": "2022-02-03T12:54:46.160351Z",
     "iopub.status.idle": "2022-02-03T12:54:48.526650Z",
     "shell.execute_reply": "2022-02-03T12:54:48.527243Z",
     "shell.execute_reply.started": "2022-02-01T08:01:53.794475Z"
    },
    "papermill": {
     "duration": 2.409541,
     "end_time": "2022-02-03T12:54:48.527873",
     "exception": false,
     "start_time": "2022-02-03T12:54:46.118332",
     "status": "completed"
    },
    "tags": []
   },
   "outputs": [],
   "source": [
    "# Import our regular old heroes \n",
    "import numpy as np\n",
    "import pandas as pd\n",
    "import scipy as sp # <-- The sister of Numpy, used in our code for numerical efficientcy. \n",
    "import matplotlib.pyplot as plt\n",
    "import seaborn as sns\n",
    "import pickle\n",
    "from sklearn.metrics import mean_squared_error\n",
    "\n",
    "\n",
    "# Entity featurization and similarity computation\n",
    "from sklearn.metrics.pairwise import cosine_similarity \n",
    "from sklearn.feature_extraction.text import TfidfVectorizer\n",
    "from sklearn.feature_extraction.text import CountVectorizer\n",
    "\n",
    "# Libraries used during sorting procedures.\n",
    "import operator # <-- Convienient item retrieval during iteration \n",
    "import heapq # <-- Efficient sorting of large lists\n",
    "\n",
    "# Imported for our sanity\n",
    "import warnings\n",
    "warnings.filterwarnings('ignore')"
   ]
  },
  {
   "cell_type": "code",
   "execution_count": 2,
   "id": "288df9bb",
   "metadata": {
    "execution": {
     "iopub.execute_input": "2022-02-03T12:54:48.619897Z",
     "iopub.status.busy": "2022-02-03T12:54:48.617957Z",
     "iopub.status.idle": "2022-02-03T12:54:48.622052Z",
     "shell.execute_reply": "2022-02-03T12:54:48.622751Z"
    },
    "papermill": {
     "duration": 0.053616,
     "end_time": "2022-02-03T12:54:48.623014",
     "exception": false,
     "start_time": "2022-02-03T12:54:48.569398",
     "status": "completed"
    },
    "tags": []
   },
   "outputs": [],
   "source": [
    "#making sure that we can see all rows and cols\n",
    "pd.set_option('display.max_columns', None)\n",
    "\n",
    "pd.set_option('display.max_rows', None)"
   ]
  },
  {
   "cell_type": "code",
   "execution_count": null,
   "id": "c2291bd1",
   "metadata": {
    "papermill": {
     "duration": 0.043212,
     "end_time": "2022-02-03T12:54:48.703762",
     "exception": false,
     "start_time": "2022-02-03T12:54:48.660550",
     "status": "completed"
    },
    "tags": []
   },
   "outputs": [],
   "source": []
  },
  {
   "cell_type": "code",
   "execution_count": 3,
   "id": "5c1a83c0",
   "metadata": {
    "execution": {
     "iopub.execute_input": "2022-02-03T12:54:48.801081Z",
     "iopub.status.busy": "2022-02-03T12:54:48.799102Z",
     "iopub.status.idle": "2022-02-03T12:54:57.975993Z",
     "shell.execute_reply": "2022-02-03T12:54:57.976975Z",
     "shell.execute_reply.started": "2022-02-01T08:02:12.139542Z"
    },
    "papermill": {
     "duration": 9.22305,
     "end_time": "2022-02-03T12:54:57.977209",
     "exception": false,
     "start_time": "2022-02-03T12:54:48.754159",
     "status": "completed"
    },
    "tags": []
   },
   "outputs": [],
   "source": [
    "#imdb\n",
    "#imdb_data = pd.read_csv(\"../input/edsa-movie-recommendation-wilderness/imdb_data.csv\")\n",
    "\n",
    "#test\n",
    "#test = pd.read_csv(\"../input/edsa-movie-recommendation-wilderness/test.csv\")\n",
    "\n",
    "#movies\n",
    "movies = pd.read_csv(\"../input/edsa-movie-recommendation-wilderness/movies.csv\")\n",
    "\n",
    "#train\n",
    "cols_list = ['userId', 'movieId', 'rating']\n",
    "train = pd.read_csv(\"../input/edsa-movie-recommendation-wilderness/train.csv\", usecols = cols_list)"
   ]
  },
  {
   "cell_type": "code",
   "execution_count": 4,
   "id": "6253b79a",
   "metadata": {
    "execution": {
     "iopub.execute_input": "2022-02-03T12:54:58.088441Z",
     "iopub.status.busy": "2022-02-03T12:54:58.082472Z",
     "iopub.status.idle": "2022-02-03T12:54:58.089705Z",
     "shell.execute_reply": "2022-02-03T12:54:58.089103Z"
    },
    "papermill": {
     "duration": 0.068384,
     "end_time": "2022-02-03T12:54:58.089862",
     "exception": false,
     "start_time": "2022-02-03T12:54:58.021478",
     "status": "completed"
    },
    "tags": []
   },
   "outputs": [],
   "source": [
    "#############works, don't touch##################"
   ]
  },
  {
   "cell_type": "code",
   "execution_count": 5,
   "id": "f946a8cc",
   "metadata": {
    "execution": {
     "iopub.execute_input": "2022-02-03T12:54:58.200301Z",
     "iopub.status.busy": "2022-02-03T12:54:58.198195Z",
     "iopub.status.idle": "2022-02-03T12:54:58.206697Z",
     "shell.execute_reply": "2022-02-03T12:54:58.204770Z",
     "shell.execute_reply.started": "2022-02-01T08:02:24.117281Z"
    },
    "papermill": {
     "duration": 0.065688,
     "end_time": "2022-02-03T12:54:58.207720",
     "exception": false,
     "start_time": "2022-02-03T12:54:58.142032",
     "status": "completed"
    },
    "tags": []
   },
   "outputs": [],
   "source": [
    "# merging dataframe\n",
    "\n",
    "train_df = movies"
   ]
  },
  {
   "cell_type": "code",
   "execution_count": 6,
   "id": "93bea903",
   "metadata": {
    "execution": {
     "iopub.execute_input": "2022-02-03T12:54:58.286046Z",
     "iopub.status.busy": "2022-02-03T12:54:58.284926Z",
     "iopub.status.idle": "2022-02-03T12:54:58.290324Z",
     "shell.execute_reply": "2022-02-03T12:54:58.290910Z",
     "shell.execute_reply.started": "2022-02-01T08:02:31.2391Z"
    },
    "papermill": {
     "duration": 0.042717,
     "end_time": "2022-02-03T12:54:58.291219",
     "exception": false,
     "start_time": "2022-02-03T12:54:58.248502",
     "status": "completed"
    },
    "tags": []
   },
   "outputs": [],
   "source": [
    "train_df = train_df[:27000]"
   ]
  },
  {
   "cell_type": "code",
   "execution_count": 7,
   "id": "daaae30c",
   "metadata": {
    "execution": {
     "iopub.execute_input": "2022-02-03T12:54:58.351877Z",
     "iopub.status.busy": "2022-02-03T12:54:58.349938Z",
     "iopub.status.idle": "2022-02-03T12:54:58.363534Z",
     "shell.execute_reply": "2022-02-03T12:54:58.364188Z",
     "shell.execute_reply.started": "2022-02-01T08:02:53.191654Z"
    },
    "papermill": {
     "duration": 0.047976,
     "end_time": "2022-02-03T12:54:58.364437",
     "exception": false,
     "start_time": "2022-02-03T12:54:58.316461",
     "status": "completed"
    },
    "tags": []
   },
   "outputs": [
    {
     "data": {
      "text/plain": [
       "(27000, 3)"
      ]
     },
     "execution_count": 7,
     "metadata": {},
     "output_type": "execute_result"
    }
   ],
   "source": [
    "train_df.shape"
   ]
  },
  {
   "cell_type": "code",
   "execution_count": 8,
   "id": "74ecc393",
   "metadata": {
    "execution": {
     "iopub.execute_input": "2022-02-03T12:54:58.429412Z",
     "iopub.status.busy": "2022-02-03T12:54:58.427350Z",
     "iopub.status.idle": "2022-02-03T12:54:58.432744Z",
     "shell.execute_reply": "2022-02-03T12:54:58.433265Z"
    },
    "papermill": {
     "duration": 0.043273,
     "end_time": "2022-02-03T12:54:58.433489",
     "exception": false,
     "start_time": "2022-02-03T12:54:58.390216",
     "status": "completed"
    },
    "tags": []
   },
   "outputs": [],
   "source": [
    "# convert data types to strings for string handling\n",
    "#train_df['genres'] = train_df.genres.astype(str)\n",
    "#train_df['title_cast'] = train_df.title_cast.astype(str)\n",
    "#train_df['director'] = train_df.director.astype(str)\n",
    "#train_df['plot_keywords'] = train_df.plot_keywords.astype(str)"
   ]
  },
  {
   "cell_type": "code",
   "execution_count": 9,
   "id": "c81df0aa",
   "metadata": {
    "execution": {
     "iopub.execute_input": "2022-02-03T12:54:58.503778Z",
     "iopub.status.busy": "2022-02-03T12:54:58.502162Z",
     "iopub.status.idle": "2022-02-03T12:54:58.580377Z",
     "shell.execute_reply": "2022-02-03T12:54:58.579568Z",
     "shell.execute_reply.started": "2022-02-01T08:03:05.304424Z"
    },
    "papermill": {
     "duration": 0.116184,
     "end_time": "2022-02-03T12:54:58.580542",
     "exception": false,
     "start_time": "2022-02-03T12:54:58.464358",
     "status": "completed"
    },
    "tags": []
   },
   "outputs": [],
   "source": [
    "# Every genre is separated by a | \n",
    "train_df['genres'] = train_df['genres'].map(lambda x: x.lower().split('|'))\n",
    "\n",
    "# Every title cast is separated by a | so we simply have to call the split function on | and separate them by ,\n",
    "#train_df['title_cast'] = train_df['title_cast'].str.split('|')\n",
    "\n",
    "# And we will do the same thing for the plot keywords\n",
    "#train_df['plot_keywords'] = train_df['plot_keywords'].str.split('|')"
   ]
  },
  {
   "cell_type": "code",
   "execution_count": 10,
   "id": "9277f238",
   "metadata": {
    "execution": {
     "iopub.execute_input": "2022-02-03T12:54:58.667382Z",
     "iopub.status.busy": "2022-02-03T12:54:58.666624Z",
     "iopub.status.idle": "2022-02-03T12:54:58.669726Z",
     "shell.execute_reply": "2022-02-03T12:54:58.670547Z"
    },
    "papermill": {
     "duration": 0.045377,
     "end_time": "2022-02-03T12:54:58.670758",
     "exception": false,
     "start_time": "2022-02-03T12:54:58.625381",
     "status": "completed"
    },
    "tags": []
   },
   "outputs": [],
   "source": [
    "#def string_function(x):\n",
    "#    \"\"\"merges name and surname into one name\"\"\"\n",
    "#    if isinstance(x, list):\n",
    "#        return [str.lower(i.replace(\" \", \"\")) for i in x]\n",
    "#    else:\n",
    "#        #Check if director exists. If not, return empty string\n",
    "#        if isinstance(x, str):\n",
    "#            return str.lower(x.replace(\" \", \"\"))\n",
    "#        else:\n",
    "#            return ''"
   ]
  },
  {
   "cell_type": "code",
   "execution_count": 11,
   "id": "7f4a61e7",
   "metadata": {
    "execution": {
     "iopub.execute_input": "2022-02-03T12:54:58.746352Z",
     "iopub.status.busy": "2022-02-03T12:54:58.744823Z",
     "iopub.status.idle": "2022-02-03T12:54:58.749966Z",
     "shell.execute_reply": "2022-02-03T12:54:58.749035Z"
    },
    "papermill": {
     "duration": 0.044716,
     "end_time": "2022-02-03T12:54:58.750166",
     "exception": false,
     "start_time": "2022-02-03T12:54:58.705450",
     "status": "completed"
    },
    "tags": []
   },
   "outputs": [],
   "source": [
    "#features = ['title_cast','director']\n",
    "\n",
    "#for feature in features:\n",
    "#    train_df[feature] = train_df[feature].apply(string_function)"
   ]
  },
  {
   "cell_type": "code",
   "execution_count": 12,
   "id": "9ae2da1a",
   "metadata": {
    "execution": {
     "iopub.execute_input": "2022-02-03T12:54:58.827095Z",
     "iopub.status.busy": "2022-02-03T12:54:58.824551Z",
     "iopub.status.idle": "2022-02-03T12:54:58.845838Z",
     "shell.execute_reply": "2022-02-03T12:54:58.846561Z"
    },
    "papermill": {
     "duration": 0.061376,
     "end_time": "2022-02-03T12:54:58.846761",
     "exception": false,
     "start_time": "2022-02-03T12:54:58.785385",
     "status": "completed"
    },
    "tags": []
   },
   "outputs": [
    {
     "data": {
      "text/html": [
       "<div>\n",
       "<style scoped>\n",
       "    .dataframe tbody tr th:only-of-type {\n",
       "        vertical-align: middle;\n",
       "    }\n",
       "\n",
       "    .dataframe tbody tr th {\n",
       "        vertical-align: top;\n",
       "    }\n",
       "\n",
       "    .dataframe thead th {\n",
       "        text-align: right;\n",
       "    }\n",
       "</style>\n",
       "<table border=\"1\" class=\"dataframe\">\n",
       "  <thead>\n",
       "    <tr style=\"text-align: right;\">\n",
       "      <th></th>\n",
       "      <th>movieId</th>\n",
       "      <th>title</th>\n",
       "      <th>genres</th>\n",
       "    </tr>\n",
       "  </thead>\n",
       "  <tbody>\n",
       "    <tr>\n",
       "      <th>0</th>\n",
       "      <td>1</td>\n",
       "      <td>Toy Story (1995)</td>\n",
       "      <td>[adventure, animation, children, comedy, fantasy]</td>\n",
       "    </tr>\n",
       "    <tr>\n",
       "      <th>1</th>\n",
       "      <td>2</td>\n",
       "      <td>Jumanji (1995)</td>\n",
       "      <td>[adventure, children, fantasy]</td>\n",
       "    </tr>\n",
       "    <tr>\n",
       "      <th>2</th>\n",
       "      <td>3</td>\n",
       "      <td>Grumpier Old Men (1995)</td>\n",
       "      <td>[comedy, romance]</td>\n",
       "    </tr>\n",
       "    <tr>\n",
       "      <th>3</th>\n",
       "      <td>4</td>\n",
       "      <td>Waiting to Exhale (1995)</td>\n",
       "      <td>[comedy, drama, romance]</td>\n",
       "    </tr>\n",
       "    <tr>\n",
       "      <th>4</th>\n",
       "      <td>5</td>\n",
       "      <td>Father of the Bride Part II (1995)</td>\n",
       "      <td>[comedy]</td>\n",
       "    </tr>\n",
       "  </tbody>\n",
       "</table>\n",
       "</div>"
      ],
      "text/plain": [
       "   movieId                               title  \\\n",
       "0        1                    Toy Story (1995)   \n",
       "1        2                      Jumanji (1995)   \n",
       "2        3             Grumpier Old Men (1995)   \n",
       "3        4            Waiting to Exhale (1995)   \n",
       "4        5  Father of the Bride Part II (1995)   \n",
       "\n",
       "                                              genres  \n",
       "0  [adventure, animation, children, comedy, fantasy]  \n",
       "1                     [adventure, children, fantasy]  \n",
       "2                                  [comedy, romance]  \n",
       "3                           [comedy, drama, romance]  \n",
       "4                                           [comedy]  "
      ]
     },
     "execution_count": 12,
     "metadata": {},
     "output_type": "execute_result"
    }
   ],
   "source": [
    "train_df.head()"
   ]
  },
  {
   "cell_type": "code",
   "execution_count": 13,
   "id": "26b7894b",
   "metadata": {
    "execution": {
     "iopub.execute_input": "2022-02-03T12:54:58.906610Z",
     "iopub.status.busy": "2022-02-03T12:54:58.905877Z",
     "iopub.status.idle": "2022-02-03T12:54:58.911480Z",
     "shell.execute_reply": "2022-02-03T12:54:58.910730Z",
     "shell.execute_reply.started": "2022-02-01T08:03:13.650475Z"
    },
    "papermill": {
     "duration": 0.037629,
     "end_time": "2022-02-03T12:54:58.911640",
     "exception": false,
     "start_time": "2022-02-03T12:54:58.874011",
     "status": "completed"
    },
    "tags": []
   },
   "outputs": [],
   "source": [
    "cols = ['title','genres']"
   ]
  },
  {
   "cell_type": "code",
   "execution_count": 14,
   "id": "d84200e1",
   "metadata": {
    "execution": {
     "iopub.execute_input": "2022-02-03T12:54:59.030087Z",
     "iopub.status.busy": "2022-02-03T12:54:59.029267Z",
     "iopub.status.idle": "2022-02-03T12:54:59.034397Z",
     "shell.execute_reply": "2022-02-03T12:54:59.033596Z",
     "shell.execute_reply.started": "2022-02-01T08:03:16.379458Z"
    },
    "papermill": {
     "duration": 0.075273,
     "end_time": "2022-02-03T12:54:59.034598",
     "exception": false,
     "start_time": "2022-02-03T12:54:58.959325",
     "status": "completed"
    },
    "tags": []
   },
   "outputs": [],
   "source": [
    "data_df = train_df[cols]"
   ]
  },
  {
   "cell_type": "code",
   "execution_count": 15,
   "id": "6d321aa5",
   "metadata": {
    "execution": {
     "iopub.execute_input": "2022-02-03T12:54:59.129817Z",
     "iopub.status.busy": "2022-02-03T12:54:59.128555Z",
     "iopub.status.idle": "2022-02-03T12:54:59.133755Z",
     "shell.execute_reply": "2022-02-03T12:54:59.133080Z"
    },
    "papermill": {
     "duration": 0.056806,
     "end_time": "2022-02-03T12:54:59.133931",
     "exception": false,
     "start_time": "2022-02-03T12:54:59.077125",
     "status": "completed"
    },
    "tags": []
   },
   "outputs": [],
   "source": [
    "# generating the cosine similarity matrix\n",
    "#cosine_ = cosine_similarity(count_matrix, count_matrix)\n",
    "\n",
    "#import pickle\n",
    "\n",
    "#model_save_path = \"./cosine_sim_.pkl\"\n",
    "#with open(model_save_path,'wb') as file:\n",
    "#    pickle.dump(cosine_sim,file, protocol = 4)\n",
    "#pickle.dump(d, open(\"file\", 'w'), protocol=4)"
   ]
  },
  {
   "cell_type": "code",
   "execution_count": 16,
   "id": "1d6d79af",
   "metadata": {
    "execution": {
     "iopub.execute_input": "2022-02-03T12:54:59.228867Z",
     "iopub.status.busy": "2022-02-03T12:54:59.227873Z",
     "iopub.status.idle": "2022-02-03T12:54:59.245332Z",
     "shell.execute_reply": "2022-02-03T12:54:59.246236Z",
     "shell.execute_reply.started": "2022-02-01T08:03:22.789678Z"
    },
    "papermill": {
     "duration": 0.068416,
     "end_time": "2022-02-03T12:54:59.246514",
     "exception": false,
     "start_time": "2022-02-03T12:54:59.178098",
     "status": "completed"
    },
    "tags": []
   },
   "outputs": [
    {
     "data": {
      "text/html": [
       "<div>\n",
       "<style scoped>\n",
       "    .dataframe tbody tr th:only-of-type {\n",
       "        vertical-align: middle;\n",
       "    }\n",
       "\n",
       "    .dataframe tbody tr th {\n",
       "        vertical-align: top;\n",
       "    }\n",
       "\n",
       "    .dataframe thead th {\n",
       "        text-align: right;\n",
       "    }\n",
       "</style>\n",
       "<table border=\"1\" class=\"dataframe\">\n",
       "  <thead>\n",
       "    <tr style=\"text-align: right;\">\n",
       "      <th></th>\n",
       "      <th>genres</th>\n",
       "    </tr>\n",
       "    <tr>\n",
       "      <th>title</th>\n",
       "      <th></th>\n",
       "    </tr>\n",
       "  </thead>\n",
       "  <tbody>\n",
       "    <tr>\n",
       "      <th>Toy Story (1995)</th>\n",
       "      <td>[adventure, animation, children, comedy, fantasy]</td>\n",
       "    </tr>\n",
       "    <tr>\n",
       "      <th>Jumanji (1995)</th>\n",
       "      <td>[adventure, children, fantasy]</td>\n",
       "    </tr>\n",
       "    <tr>\n",
       "      <th>Grumpier Old Men (1995)</th>\n",
       "      <td>[comedy, romance]</td>\n",
       "    </tr>\n",
       "    <tr>\n",
       "      <th>Waiting to Exhale (1995)</th>\n",
       "      <td>[comedy, drama, romance]</td>\n",
       "    </tr>\n",
       "    <tr>\n",
       "      <th>Father of the Bride Part II (1995)</th>\n",
       "      <td>[comedy]</td>\n",
       "    </tr>\n",
       "  </tbody>\n",
       "</table>\n",
       "</div>"
      ],
      "text/plain": [
       "                                                                               genres\n",
       "title                                                                                \n",
       "Toy Story (1995)                    [adventure, animation, children, comedy, fantasy]\n",
       "Jumanji (1995)                                         [adventure, children, fantasy]\n",
       "Grumpier Old Men (1995)                                             [comedy, romance]\n",
       "Waiting to Exhale (1995)                                     [comedy, drama, romance]\n",
       "Father of the Bride Part II (1995)                                           [comedy]"
      ]
     },
     "execution_count": 16,
     "metadata": {},
     "output_type": "execute_result"
    }
   ],
   "source": [
    "data_df.set_index('title', inplace = True)\n",
    "data_df.head()"
   ]
  },
  {
   "cell_type": "code",
   "execution_count": 17,
   "id": "9a6ac1cc",
   "metadata": {
    "execution": {
     "iopub.execute_input": "2022-02-03T12:54:59.347632Z",
     "iopub.status.busy": "2022-02-03T12:54:59.345933Z",
     "iopub.status.idle": "2022-02-03T12:54:59.356563Z",
     "shell.execute_reply": "2022-02-03T12:54:59.357231Z"
    },
    "papermill": {
     "duration": 0.057195,
     "end_time": "2022-02-03T12:54:59.357452",
     "exception": false,
     "start_time": "2022-02-03T12:54:59.300257",
     "status": "completed"
    },
    "tags": []
   },
   "outputs": [
    {
     "data": {
      "text/html": [
       "<div>\n",
       "<style scoped>\n",
       "    .dataframe tbody tr th:only-of-type {\n",
       "        vertical-align: middle;\n",
       "    }\n",
       "\n",
       "    .dataframe tbody tr th {\n",
       "        vertical-align: top;\n",
       "    }\n",
       "\n",
       "    .dataframe thead th {\n",
       "        text-align: right;\n",
       "    }\n",
       "</style>\n",
       "<table border=\"1\" class=\"dataframe\">\n",
       "  <thead>\n",
       "    <tr style=\"text-align: right;\">\n",
       "      <th></th>\n",
       "      <th>genres</th>\n",
       "    </tr>\n",
       "    <tr>\n",
       "      <th>title</th>\n",
       "      <th></th>\n",
       "    </tr>\n",
       "  </thead>\n",
       "  <tbody>\n",
       "    <tr>\n",
       "      <th>Toy Story (1995)</th>\n",
       "      <td>[adventure, animation, children, comedy, fantasy]</td>\n",
       "    </tr>\n",
       "    <tr>\n",
       "      <th>Jumanji (1995)</th>\n",
       "      <td>[adventure, children, fantasy]</td>\n",
       "    </tr>\n",
       "    <tr>\n",
       "      <th>Grumpier Old Men (1995)</th>\n",
       "      <td>[comedy, romance]</td>\n",
       "    </tr>\n",
       "    <tr>\n",
       "      <th>Waiting to Exhale (1995)</th>\n",
       "      <td>[comedy, drama, romance]</td>\n",
       "    </tr>\n",
       "    <tr>\n",
       "      <th>Father of the Bride Part II (1995)</th>\n",
       "      <td>[comedy]</td>\n",
       "    </tr>\n",
       "  </tbody>\n",
       "</table>\n",
       "</div>"
      ],
      "text/plain": [
       "                                                                               genres\n",
       "title                                                                                \n",
       "Toy Story (1995)                    [adventure, animation, children, comedy, fantasy]\n",
       "Jumanji (1995)                                         [adventure, children, fantasy]\n",
       "Grumpier Old Men (1995)                                             [comedy, romance]\n",
       "Waiting to Exhale (1995)                                     [comedy, drama, romance]\n",
       "Father of the Bride Part II (1995)                                           [comedy]"
      ]
     },
     "execution_count": 17,
     "metadata": {},
     "output_type": "execute_result"
    }
   ],
   "source": [
    "data_df.head()"
   ]
  },
  {
   "cell_type": "code",
   "execution_count": null,
   "id": "95be84aa",
   "metadata": {
    "papermill": {
     "duration": 0.038746,
     "end_time": "2022-02-03T12:54:59.429240",
     "exception": false,
     "start_time": "2022-02-03T12:54:59.390494",
     "status": "completed"
    },
    "tags": []
   },
   "outputs": [],
   "source": []
  },
  {
   "cell_type": "code",
   "execution_count": 18,
   "id": "6c3c9c2c",
   "metadata": {
    "execution": {
     "iopub.execute_input": "2022-02-03T12:54:59.554165Z",
     "iopub.status.busy": "2022-02-03T12:54:59.553450Z",
     "iopub.status.idle": "2022-02-03T12:55:03.811373Z",
     "shell.execute_reply": "2022-02-03T12:55:03.810491Z",
     "shell.execute_reply.started": "2022-02-01T08:03:48.764506Z"
    },
    "papermill": {
     "duration": 4.320138,
     "end_time": "2022-02-03T12:55:03.811581",
     "exception": false,
     "start_time": "2022-02-03T12:54:59.491443",
     "status": "completed"
    },
    "tags": []
   },
   "outputs": [],
   "source": [
    "data_df['bag_of_words'] = ''\n",
    "columns = data_df.columns\n",
    "for index, row in data_df.iterrows():\n",
    "    words = ''\n",
    "    for col in columns:\n",
    "        if col != 'director':\n",
    "            words = words + ' '.join(row[col])+ ' '\n",
    "        else:\n",
    "            words = words + row[col]+ ' '\n",
    "    row['bag_of_words'] = words\n",
    "    \n",
    "data_df.drop(columns = [col for col in data_df.columns if col!= 'bag_of_words'], inplace = True)"
   ]
  },
  {
   "cell_type": "code",
   "execution_count": 19,
   "id": "3cffcc75",
   "metadata": {
    "execution": {
     "iopub.execute_input": "2022-02-03T12:55:03.890528Z",
     "iopub.status.busy": "2022-02-03T12:55:03.888395Z",
     "iopub.status.idle": "2022-02-03T12:55:03.897607Z",
     "shell.execute_reply": "2022-02-03T12:55:03.898195Z",
     "shell.execute_reply.started": "2022-02-01T08:07:16.078729Z"
    },
    "papermill": {
     "duration": 0.05064,
     "end_time": "2022-02-03T12:55:03.898409",
     "exception": false,
     "start_time": "2022-02-03T12:55:03.847769",
     "status": "completed"
    },
    "tags": []
   },
   "outputs": [
    {
     "data": {
      "text/html": [
       "<div>\n",
       "<style scoped>\n",
       "    .dataframe tbody tr th:only-of-type {\n",
       "        vertical-align: middle;\n",
       "    }\n",
       "\n",
       "    .dataframe tbody tr th {\n",
       "        vertical-align: top;\n",
       "    }\n",
       "\n",
       "    .dataframe thead th {\n",
       "        text-align: right;\n",
       "    }\n",
       "</style>\n",
       "<table border=\"1\" class=\"dataframe\">\n",
       "  <thead>\n",
       "    <tr style=\"text-align: right;\">\n",
       "      <th></th>\n",
       "      <th>bag_of_words</th>\n",
       "    </tr>\n",
       "    <tr>\n",
       "      <th>title</th>\n",
       "      <th></th>\n",
       "    </tr>\n",
       "  </thead>\n",
       "  <tbody>\n",
       "    <tr>\n",
       "      <th>Toy Story (1995)</th>\n",
       "      <td>adventure animation children comedy fantasy</td>\n",
       "    </tr>\n",
       "    <tr>\n",
       "      <th>Jumanji (1995)</th>\n",
       "      <td>adventure children fantasy</td>\n",
       "    </tr>\n",
       "    <tr>\n",
       "      <th>Grumpier Old Men (1995)</th>\n",
       "      <td>comedy romance</td>\n",
       "    </tr>\n",
       "    <tr>\n",
       "      <th>Waiting to Exhale (1995)</th>\n",
       "      <td>comedy drama romance</td>\n",
       "    </tr>\n",
       "    <tr>\n",
       "      <th>Father of the Bride Part II (1995)</th>\n",
       "      <td>comedy</td>\n",
       "    </tr>\n",
       "  </tbody>\n",
       "</table>\n",
       "</div>"
      ],
      "text/plain": [
       "                                                                     bag_of_words\n",
       "title                                                                            \n",
       "Toy Story (1995)                    adventure animation children comedy fantasy  \n",
       "Jumanji (1995)                                       adventure children fantasy  \n",
       "Grumpier Old Men (1995)                                          comedy romance  \n",
       "Waiting to Exhale (1995)                                   comedy drama romance  \n",
       "Father of the Bride Part II (1995)                                       comedy  "
      ]
     },
     "execution_count": 19,
     "metadata": {},
     "output_type": "execute_result"
    }
   ],
   "source": [
    "data_df.head()"
   ]
  },
  {
   "cell_type": "code",
   "execution_count": 20,
   "id": "4fa6a993",
   "metadata": {
    "execution": {
     "iopub.execute_input": "2022-02-03T12:55:03.977377Z",
     "iopub.status.busy": "2022-02-03T12:55:03.975116Z",
     "iopub.status.idle": "2022-02-03T12:55:04.227676Z",
     "shell.execute_reply": "2022-02-03T12:55:04.228705Z",
     "shell.execute_reply.started": "2022-02-01T08:03:57.661043Z"
    },
    "papermill": {
     "duration": 0.29806,
     "end_time": "2022-02-03T12:55:04.228944",
     "exception": false,
     "start_time": "2022-02-03T12:55:03.930884",
     "status": "completed"
    },
    "tags": []
   },
   "outputs": [
    {
     "data": {
      "text/plain": [
       "0                      Toy Story (1995)\n",
       "1                        Jumanji (1995)\n",
       "2               Grumpier Old Men (1995)\n",
       "3              Waiting to Exhale (1995)\n",
       "4    Father of the Bride Part II (1995)\n",
       "5                           Heat (1995)\n",
       "6                        Sabrina (1995)\n",
       "7                   Tom and Huck (1995)\n",
       "8                   Sudden Death (1995)\n",
       "9                      GoldenEye (1995)\n",
       "Name: title, dtype: object"
      ]
     },
     "execution_count": 20,
     "metadata": {},
     "output_type": "execute_result"
    }
   ],
   "source": [
    "# instantiating and generating the count matrix\n",
    "count = CountVectorizer()\n",
    "count_matrix = count.fit_transform(data_df['bag_of_words'])\n",
    "\n",
    "# creating a Series for the movie titles so they are associated to an ordered numerical\n",
    "# list I will use later to match the indexes\n",
    "indices = pd.Series(data_df.index)\n",
    "indices[:10]"
   ]
  },
  {
   "cell_type": "code",
   "execution_count": 21,
   "id": "1067975c",
   "metadata": {
    "execution": {
     "iopub.execute_input": "2022-02-03T12:55:04.305694Z",
     "iopub.status.busy": "2022-02-03T12:55:04.304836Z",
     "iopub.status.idle": "2022-02-03T12:56:33.522154Z",
     "shell.execute_reply": "2022-02-03T12:56:33.522999Z",
     "shell.execute_reply.started": "2022-02-01T08:04:05.170943Z"
    },
    "papermill": {
     "duration": 89.262778,
     "end_time": "2022-02-03T12:56:33.523557",
     "exception": false,
     "start_time": "2022-02-03T12:55:04.260779",
     "status": "completed"
    },
    "tags": []
   },
   "outputs": [],
   "source": [
    "# generating the cosine similarity matrix\n",
    "cosine_sim = cosine_similarity(count_matrix, count_matrix)\n",
    "\n",
    "import pickle\n",
    "\n",
    "model_save_path = \"./cosine_sim.pkl\"\n",
    "with open(model_save_path,'wb') as file:\n",
    "    pickle.dump(cosine_sim,file, protocol = 4)\n",
    "#pickle.dump(d, open(\"file\", 'w'), protocol=4)"
   ]
  },
  {
   "cell_type": "code",
   "execution_count": 22,
   "id": "f7ca10a5",
   "metadata": {
    "execution": {
     "iopub.execute_input": "2022-02-03T12:56:34.298707Z",
     "iopub.status.busy": "2022-02-03T12:56:34.297819Z",
     "iopub.status.idle": "2022-02-03T12:56:34.308800Z",
     "shell.execute_reply": "2022-02-03T12:56:34.309329Z"
    },
    "papermill": {
     "duration": 0.164572,
     "end_time": "2022-02-03T12:56:34.309527",
     "exception": false,
     "start_time": "2022-02-03T12:56:34.144955",
     "status": "completed"
    },
    "tags": []
   },
   "outputs": [],
   "source": [
    "def recommendations(title, cosine_sim = cosine_sim):\n",
    "    \n",
    "    recommended_movies = []\n",
    "    \n",
    "    # gettin the index of the movie that matches the title\n",
    "    idx = indices[indices == title].index[0]\n",
    "\n",
    "    # creating a Series with the similarity scores in descending order\n",
    "    score_series = pd.Series(cosine_sim[idx]).sort_values(ascending = False)\n",
    "\n",
    "    # getting the indexes of the 10 most similar movies\n",
    "    top_10_indexes = list(score_series.iloc[1:11].index)\n",
    "    \n",
    "    # populating the list with the titles of the best 10 matching movies\n",
    "    for i in top_10_indexes:\n",
    "        recommended_movies.append(list(data_df.index)[i])\n",
    "        \n",
    "    return recommended_movies"
   ]
  },
  {
   "cell_type": "code",
   "execution_count": 23,
   "id": "f1a38650",
   "metadata": {
    "execution": {
     "iopub.execute_input": "2022-02-03T12:56:39.278093Z",
     "iopub.status.busy": "2022-02-03T12:56:39.275696Z",
     "iopub.status.idle": "2022-02-03T12:56:39.553346Z",
     "shell.execute_reply": "2022-02-03T12:56:39.554281Z"
    },
    "papermill": {
     "duration": 2.136601,
     "end_time": "2022-02-03T12:56:39.554501",
     "exception": false,
     "start_time": "2022-02-03T12:56:37.417900",
     "status": "completed"
    },
    "tags": []
   },
   "outputs": [
    {
     "data": {
      "text/plain": [
       "['Hard Target (1993)',\n",
       " 'Once Upon a Time in Mexico (2003)',\n",
       " 'Into the Blue (2005)',\n",
       " 'Death Hunt (1981)',\n",
       " 'Hobo with a Shotgun (2011)',\n",
       " 'Live Free or Die Hard (2007)',\n",
       " 'Hackers (1995)',\n",
       " 'Floods of Fear (1959)',\n",
       " 'Welcome to the Punch (2013)',\n",
       " 'Transporter 3 (2008)']"
      ]
     },
     "execution_count": 23,
     "metadata": {},
     "output_type": "execute_result"
    }
   ],
   "source": [
    "recommendations('Hard Target (1993)')"
   ]
  },
  {
   "cell_type": "code",
   "execution_count": null,
   "id": "9281c08f",
   "metadata": {
    "papermill": {
     "duration": 0.102075,
     "end_time": "2022-02-03T12:56:40.876691",
     "exception": false,
     "start_time": "2022-02-03T12:56:40.774616",
     "status": "completed"
    },
    "tags": []
   },
   "outputs": [],
   "source": []
  },
  {
   "cell_type": "code",
   "execution_count": 24,
   "id": "d5e98356",
   "metadata": {
    "execution": {
     "iopub.execute_input": "2022-02-03T12:56:41.003419Z",
     "iopub.status.busy": "2022-02-03T12:56:41.002329Z",
     "iopub.status.idle": "2022-02-03T12:56:41.005048Z",
     "shell.execute_reply": "2022-02-03T12:56:41.004406Z"
    },
    "papermill": {
     "duration": 0.034239,
     "end_time": "2022-02-03T12:56:41.005220",
     "exception": false,
     "start_time": "2022-02-03T12:56:40.970981",
     "status": "completed"
    },
    "tags": []
   },
   "outputs": [],
   "source": [
    "##################works, don't touch#######################################"
   ]
  }
 ],
 "metadata": {
  "kernelspec": {
   "display_name": "Python 3",
   "language": "python",
   "name": "python3"
  },
  "language_info": {
   "codemirror_mode": {
    "name": "ipython",
    "version": 3
   },
   "file_extension": ".py",
   "mimetype": "text/x-python",
   "name": "python",
   "nbconvert_exporter": "python",
   "pygments_lexer": "ipython3",
   "version": "3.7.12"
  },
  "papermill": {
   "default_parameters": {},
   "duration": 135.657536,
   "end_time": "2022-02-03T12:56:42.460310",
   "environment_variables": {},
   "exception": null,
   "input_path": "__notebook__.ipynb",
   "output_path": "__notebook__.ipynb",
   "parameters": {},
   "start_time": "2022-02-03T12:54:26.802774",
   "version": "2.3.3"
  }
 },
 "nbformat": 4,
 "nbformat_minor": 5
}
